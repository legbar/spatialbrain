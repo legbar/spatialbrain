{
 "cells": [
  {
   "cell_type": "code",
   "execution_count": 4,
   "id": "864939ea-b6bd-4c06-b56b-b4b2f9bf9123",
   "metadata": {},
   "outputs": [],
   "source": [
    "import os\n",
    "os.chdir('/laune_zfs/scratch/peter/f_active/paper_23/')\n",
    "import scanpy as sc\n",
    "import os\n",
    "import SpatialDE\n",
    "from joblib import Parallel, delayed\n",
    "from functools import partial\n",
    "import glob\n",
    "\n",
    "path = \"input/06_post_annotation_analyses/adata_DA_per_sn/\"\n",
    "path = \"input/06_post_annotation_analyses/adata_per_sn_per_ct/\"\n",
    "\n",
    "isExist = os.path.exists(path)\n",
    "if not isExist:\n",
    "    os.makedirs(path)\n",
    "    \n",
    "def spatialde(file):\n",
    "    print(file)\n",
    "    sample = file.split('/')[-1].split('.h5')[0]\n",
    "    print(sample)\n",
    "    adata = sc.read(file)\n",
    "    adata.layers['counts'] = adata.X.copy()\n",
    "    spatial_result, _ = SpatialDE.test(adata, \n",
    "               layer = 'counts',\n",
    "               omnibus=True)\n",
    "    spatial_result.to_csv(path+'/'+sample+'_SpatialDE.csv')\n",
    "    "
   ]
  },
  {
   "cell_type": "code",
   "execution_count": 3,
   "id": "cf3da16c-139d-4aaf-ba4f-b22330ff15b7",
   "metadata": {},
   "outputs": [
    {
     "name": "stdout",
     "output_type": "stream",
     "text": [
      "[]\n"
     ]
    }
   ],
   "source": [
    "from inspect import getmembers, isfunction\n",
    "\n",
    "# from somemodule import foo\n",
    "print(getmembers(SpatialDE, isfunction))"
   ]
  },
  {
   "cell_type": "code",
   "execution_count": null,
   "id": "c8e66657-e7f3-4a50-ba48-ac3ef3f79e1d",
   "metadata": {},
   "outputs": [],
   "source": [
    "for file in glob.glob('input/06_post_annotation_analyses/adata_DA_per_sn/*.h5'):\n",
    "    spatialde(file)"
   ]
  },
  {
   "cell_type": "code",
   "execution_count": null,
   "id": "306830dc-0c73-4392-a37c-00c4994b64eb",
   "metadata": {
    "scrolled": true
   },
   "outputs": [
    {
     "name": "stderr",
     "output_type": "stream",
     "text": [
      "2023-11-14 17:00:35.698721: I tensorflow/core/util/port.cc:111] oneDNN custom operations are on. You may see slightly different numerical results due to floating-point round-off errors from different computation orders. To turn them off, set the environment variable `TF_ENABLE_ONEDNN_OPTS=0`.\n",
      "2023-11-14 17:00:35.718890: I tensorflow/core/util/port.cc:111] oneDNN custom operations are on. You may see slightly different numerical results due to floating-point round-off errors from different computation orders. To turn them off, set the environment variable `TF_ENABLE_ONEDNN_OPTS=0`.\n",
      "2023-11-14 17:00:35.721526: E tensorflow/compiler/xla/stream_executor/cuda/cuda_dnn.cc:9342] Unable to register cuDNN factory: Attempting to register factory for plugin cuDNN when one has already been registered\n",
      "2023-11-14 17:00:35.721630: E tensorflow/compiler/xla/stream_executor/cuda/cuda_fft.cc:609] Unable to register cuFFT factory: Attempting to register factory for plugin cuFFT when one has already been registered\n",
      "2023-11-14 17:00:35.721658: E tensorflow/compiler/xla/stream_executor/cuda/cuda_blas.cc:1518] Unable to register cuBLAS factory: Attempting to register factory for plugin cuBLAS when one has already been registered\n",
      "2023-11-14 17:00:35.726441: I tensorflow/core/platform/cpu_feature_guard.cc:182] This TensorFlow binary is optimized to use available CPU instructions in performance-critical operations.\n",
      "To enable the following instructions: AVX2 AVX_VNNI FMA, in other operations, rebuild TensorFlow with the appropriate compiler flags.\n",
      "2023-11-14 17:00:35.727696: I tensorflow/core/util/port.cc:111] oneDNN custom operations are on. You may see slightly different numerical results due to floating-point round-off errors from different computation orders. To turn them off, set the environment variable `TF_ENABLE_ONEDNN_OPTS=0`.\n",
      "2023-11-14 17:00:35.727696: I tensorflow/core/util/port.cc:111] oneDNN custom operations are on. You may see slightly different numerical results due to floating-point round-off errors from different computation orders. To turn them off, set the environment variable `TF_ENABLE_ONEDNN_OPTS=0`.\n",
      "2023-11-14 17:00:35.742436: E tensorflow/compiler/xla/stream_executor/cuda/cuda_dnn.cc:9342] Unable to register cuDNN factory: Attempting to register factory for plugin cuDNN when one has already been registered\n",
      "2023-11-14 17:00:35.742529: E tensorflow/compiler/xla/stream_executor/cuda/cuda_fft.cc:609] Unable to register cuFFT factory: Attempting to register factory for plugin cuFFT when one has already been registered\n",
      "2023-11-14 17:00:35.742561: E tensorflow/compiler/xla/stream_executor/cuda/cuda_blas.cc:1518] Unable to register cuBLAS factory: Attempting to register factory for plugin cuBLAS when one has already been registered\n",
      "2023-11-14 17:00:35.747194: I tensorflow/core/platform/cpu_feature_guard.cc:182] This TensorFlow binary is optimized to use available CPU instructions in performance-critical operations.\n",
      "To enable the following instructions: AVX2 AVX_VNNI FMA, in other operations, rebuild TensorFlow with the appropriate compiler flags.\n",
      "2023-11-14 17:00:35.762683: E tensorflow/compiler/xla/stream_executor/cuda/cuda_dnn.cc:9342] Unable to register cuDNN factory: Attempting to register factory for plugin cuDNN when one has already been registered\n",
      "2023-11-14 17:00:35.762684: E tensorflow/compiler/xla/stream_executor/cuda/cuda_dnn.cc:9342] Unable to register cuDNN factory: Attempting to register factory for plugin cuDNN when one has already been registered\n",
      "2023-11-14 17:00:35.762716: E tensorflow/compiler/xla/stream_executor/cuda/cuda_fft.cc:609] Unable to register cuFFT factory: Attempting to register factory for plugin cuFFT when one has already been registered\n",
      "2023-11-14 17:00:35.762739: E tensorflow/compiler/xla/stream_executor/cuda/cuda_blas.cc:1518] Unable to register cuBLAS factory: Attempting to register factory for plugin cuBLAS when one has already been registered\n",
      "2023-11-14 17:00:35.762789: E tensorflow/compiler/xla/stream_executor/cuda/cuda_fft.cc:609] Unable to register cuFFT factory: Attempting to register factory for plugin cuFFT when one has already been registered\n",
      "2023-11-14 17:00:35.762826: E tensorflow/compiler/xla/stream_executor/cuda/cuda_blas.cc:1518] Unable to register cuBLAS factory: Attempting to register factory for plugin cuBLAS when one has already been registered\n",
      "2023-11-14 17:00:35.769223: I tensorflow/core/platform/cpu_feature_guard.cc:182] This TensorFlow binary is optimized to use available CPU instructions in performance-critical operations.\n",
      "To enable the following instructions: AVX2 AVX_VNNI FMA, in other operations, rebuild TensorFlow with the appropriate compiler flags.\n",
      "2023-11-14 17:00:35.769220: I tensorflow/core/platform/cpu_feature_guard.cc:182] This TensorFlow binary is optimized to use available CPU instructions in performance-critical operations.\n",
      "To enable the following instructions: AVX2 AVX_VNNI FMA, in other operations, rebuild TensorFlow with the appropriate compiler flags.\n",
      "2023-11-14 17:00:35.933569: I tensorflow/core/util/port.cc:111] oneDNN custom operations are on. You may see slightly different numerical results due to floating-point round-off errors from different computation orders. To turn them off, set the environment variable `TF_ENABLE_ONEDNN_OPTS=0`.\n",
      "2023-11-14 17:00:35.933569: I tensorflow/core/util/port.cc:111] oneDNN custom operations are on. You may see slightly different numerical results due to floating-point round-off errors from different computation orders. To turn them off, set the environment variable `TF_ENABLE_ONEDNN_OPTS=0`.\n",
      "2023-11-14 17:00:35.939988: I tensorflow/core/util/port.cc:111] oneDNN custom operations are on. You may see slightly different numerical results due to floating-point round-off errors from different computation orders. To turn them off, set the environment variable `TF_ENABLE_ONEDNN_OPTS=0`.\n",
      "2023-11-14 17:00:35.953096: I tensorflow/core/util/port.cc:111] oneDNN custom operations are on. You may see slightly different numerical results due to floating-point round-off errors from different computation orders. To turn them off, set the environment variable `TF_ENABLE_ONEDNN_OPTS=0`.\n",
      "2023-11-14 17:00:35.953096: I tensorflow/core/util/port.cc:111] oneDNN custom operations are on. You may see slightly different numerical results due to floating-point round-off errors from different computation orders. To turn them off, set the environment variable `TF_ENABLE_ONEDNN_OPTS=0`.\n",
      "2023-11-14 17:00:35.963926: I tensorflow/core/util/port.cc:111] oneDNN custom operations are on. You may see slightly different numerical results due to floating-point round-off errors from different computation orders. To turn them off, set the environment variable `TF_ENABLE_ONEDNN_OPTS=0`.\n",
      "2023-11-14 17:00:35.966376: E tensorflow/compiler/xla/stream_executor/cuda/cuda_dnn.cc:9342] Unable to register cuDNN factory: Attempting to register factory for plugin cuDNN when one has already been registered\n",
      "2023-11-14 17:00:35.966482: E tensorflow/compiler/xla/stream_executor/cuda/cuda_fft.cc:609] Unable to register cuFFT factory: Attempting to register factory for plugin cuFFT when one has already been registered\n",
      "2023-11-14 17:00:35.966516: E tensorflow/compiler/xla/stream_executor/cuda/cuda_blas.cc:1518] Unable to register cuBLAS factory: Attempting to register factory for plugin cuBLAS when one has already been registered\n",
      "2023-11-14 17:00:35.967710: E tensorflow/compiler/xla/stream_executor/cuda/cuda_dnn.cc:9342] Unable to register cuDNN factory: Attempting to register factory for plugin cuDNN when one has already been registered\n",
      "2023-11-14 17:00:35.967810: E tensorflow/compiler/xla/stream_executor/cuda/cuda_fft.cc:609] Unable to register cuFFT factory: Attempting to register factory for plugin cuFFT when one has already been registered\n",
      "2023-11-14 17:00:35.967849: E tensorflow/compiler/xla/stream_executor/cuda/cuda_blas.cc:1518] Unable to register cuBLAS factory: Attempting to register factory for plugin cuBLAS when one has already been registered\n",
      "2023-11-14 17:00:35.972616: I tensorflow/core/platform/cpu_feature_guard.cc:182] This TensorFlow binary is optimized to use available CPU instructions in performance-critical operations.\n",
      "To enable the following instructions: AVX2 AVX_VNNI FMA, in other operations, rebuild TensorFlow with the appropriate compiler flags.\n",
      "2023-11-14 17:00:35.974191: I tensorflow/core/platform/cpu_feature_guard.cc:182] This TensorFlow binary is optimized to use available CPU instructions in performance-critical operations.\n",
      "To enable the following instructions: AVX2 AVX_VNNI FMA, in other operations, rebuild TensorFlow with the appropriate compiler flags.\n",
      "2023-11-14 17:00:35.975357: E tensorflow/compiler/xla/stream_executor/cuda/cuda_dnn.cc:9342] Unable to register cuDNN factory: Attempting to register factory for plugin cuDNN when one has already been registered\n",
      "2023-11-14 17:00:35.975364: I tensorflow/core/util/port.cc:111] oneDNN custom operations are on. You may see slightly different numerical results due to floating-point round-off errors from different computation orders. To turn them off, set the environment variable `TF_ENABLE_ONEDNN_OPTS=0`.\n",
      "2023-11-14 17:00:35.975453: E tensorflow/compiler/xla/stream_executor/cuda/cuda_fft.cc:609] Unable to register cuFFT factory: Attempting to register factory for plugin cuFFT when one has already been registered\n",
      "2023-11-14 17:00:35.975493: E tensorflow/compiler/xla/stream_executor/cuda/cuda_blas.cc:1518] Unable to register cuBLAS factory: Attempting to register factory for plugin cuBLAS when one has already been registered\n",
      "2023-11-14 17:00:35.979553: I tensorflow/core/util/port.cc:111] oneDNN custom operations are on. You may see slightly different numerical results due to floating-point round-off errors from different computation orders. To turn them off, set the environment variable `TF_ENABLE_ONEDNN_OPTS=0`.\n",
      "2023-11-14 17:00:35.982248: I tensorflow/core/platform/cpu_feature_guard.cc:182] This TensorFlow binary is optimized to use available CPU instructions in performance-critical operations.\n",
      "To enable the following instructions: AVX2 AVX_VNNI FMA, in other operations, rebuild TensorFlow with the appropriate compiler flags.\n",
      "2023-11-14 17:00:35.986214: E tensorflow/compiler/xla/stream_executor/cuda/cuda_dnn.cc:9342] Unable to register cuDNN factory: Attempting to register factory for plugin cuDNN when one has already been registered\n",
      "2023-11-14 17:00:35.986313: E tensorflow/compiler/xla/stream_executor/cuda/cuda_fft.cc:609] Unable to register cuFFT factory: Attempting to register factory for plugin cuFFT when one has already been registered\n",
      "2023-11-14 17:00:35.986351: E tensorflow/compiler/xla/stream_executor/cuda/cuda_blas.cc:1518] Unable to register cuBLAS factory: Attempting to register factory for plugin cuBLAS when one has already been registered\n",
      "2023-11-14 17:00:35.987019: E tensorflow/compiler/xla/stream_executor/cuda/cuda_dnn.cc:9342] Unable to register cuDNN factory: Attempting to register factory for plugin cuDNN when one has already been registered\n",
      "2023-11-14 17:00:35.987096: E tensorflow/compiler/xla/stream_executor/cuda/cuda_fft.cc:609] Unable to register cuFFT factory: Attempting to register factory for plugin cuFFT when one has already been registered\n",
      "2023-11-14 17:00:35.987132: E tensorflow/compiler/xla/stream_executor/cuda/cuda_blas.cc:1518] Unable to register cuBLAS factory: Attempting to register factory for plugin cuBLAS when one has already been registered\n",
      "2023-11-14 17:00:35.992986: I tensorflow/core/platform/cpu_feature_guard.cc:182] This TensorFlow binary is optimized to use available CPU instructions in performance-critical operations.\n",
      "To enable the following instructions: AVX2 AVX_VNNI FMA, in other operations, rebuild TensorFlow with the appropriate compiler flags.\n",
      "2023-11-14 17:00:35.993114: I tensorflow/core/platform/cpu_feature_guard.cc:182] This TensorFlow binary is optimized to use available CPU instructions in performance-critical operations.\n",
      "To enable the following instructions: AVX2 AVX_VNNI FMA, in other operations, rebuild TensorFlow with the appropriate compiler flags.\n",
      "2023-11-14 17:00:35.999282: E tensorflow/compiler/xla/stream_executor/cuda/cuda_dnn.cc:9342] Unable to register cuDNN factory: Attempting to register factory for plugin cuDNN when one has already been registered\n",
      "2023-11-14 17:00:35.999379: E tensorflow/compiler/xla/stream_executor/cuda/cuda_fft.cc:609] Unable to register cuFFT factory: Attempting to register factory for plugin cuFFT when one has already been registered\n",
      "2023-11-14 17:00:35.999508: E tensorflow/compiler/xla/stream_executor/cuda/cuda_blas.cc:1518] Unable to register cuBLAS factory: Attempting to register factory for plugin cuBLAS when one has already been registered\n",
      "2023-11-14 17:00:36.005897: I tensorflow/core/platform/cpu_feature_guard.cc:182] This TensorFlow binary is optimized to use available CPU instructions in performance-critical operations.\n",
      "To enable the following instructions: AVX2 AVX_VNNI FMA, in other operations, rebuild TensorFlow with the appropriate compiler flags.\n",
      "2023-11-14 17:00:36.010155: E tensorflow/compiler/xla/stream_executor/cuda/cuda_dnn.cc:9342] Unable to register cuDNN factory: Attempting to register factory for plugin cuDNN when one has already been registered\n",
      "2023-11-14 17:00:36.010273: E tensorflow/compiler/xla/stream_executor/cuda/cuda_fft.cc:609] Unable to register cuFFT factory: Attempting to register factory for plugin cuFFT when one has already been registered\n",
      "2023-11-14 17:00:36.010318: E tensorflow/compiler/xla/stream_executor/cuda/cuda_blas.cc:1518] Unable to register cuBLAS factory: Attempting to register factory for plugin cuBLAS when one has already been registered\n",
      "2023-11-14 17:00:36.011944: E tensorflow/compiler/xla/stream_executor/cuda/cuda_dnn.cc:9342] Unable to register cuDNN factory: Attempting to register factory for plugin cuDNN when one has already been registered\n",
      "2023-11-14 17:00:36.012030: E tensorflow/compiler/xla/stream_executor/cuda/cuda_fft.cc:609] Unable to register cuFFT factory: Attempting to register factory for plugin cuFFT when one has already been registered\n",
      "2023-11-14 17:00:36.012065: E tensorflow/compiler/xla/stream_executor/cuda/cuda_blas.cc:1518] Unable to register cuBLAS factory: Attempting to register factory for plugin cuBLAS when one has already been registered\n",
      "2023-11-14 17:00:36.013965: I tensorflow/core/util/port.cc:111] oneDNN custom operations are on. You may see slightly different numerical results due to floating-point round-off errors from different computation orders. To turn them off, set the environment variable `TF_ENABLE_ONEDNN_OPTS=0`.\n",
      "2023-11-14 17:00:36.016784: I tensorflow/core/platform/cpu_feature_guard.cc:182] This TensorFlow binary is optimized to use available CPU instructions in performance-critical operations.\n",
      "To enable the following instructions: AVX2 AVX_VNNI FMA, in other operations, rebuild TensorFlow with the appropriate compiler flags.\n",
      "2023-11-14 17:00:36.018114: I tensorflow/core/platform/cpu_feature_guard.cc:182] This TensorFlow binary is optimized to use available CPU instructions in performance-critical operations.\n",
      "To enable the following instructions: AVX2 AVX_VNNI FMA, in other operations, rebuild TensorFlow with the appropriate compiler flags.\n",
      "2023-11-14 17:00:36.033888: I tensorflow/core/util/port.cc:111] oneDNN custom operations are on. You may see slightly different numerical results due to floating-point round-off errors from different computation orders. To turn them off, set the environment variable `TF_ENABLE_ONEDNN_OPTS=0`.\n",
      "2023-11-14 17:00:36.048537: E tensorflow/compiler/xla/stream_executor/cuda/cuda_dnn.cc:9342] Unable to register cuDNN factory: Attempting to register factory for plugin cuDNN when one has already been registered\n",
      "2023-11-14 17:00:36.048688: E tensorflow/compiler/xla/stream_executor/cuda/cuda_fft.cc:609] Unable to register cuFFT factory: Attempting to register factory for plugin cuFFT when one has already been registered\n",
      "2023-11-14 17:00:36.048739: E tensorflow/compiler/xla/stream_executor/cuda/cuda_blas.cc:1518] Unable to register cuBLAS factory: Attempting to register factory for plugin cuBLAS when one has already been registered\n",
      "2023-11-14 17:00:36.054523: I tensorflow/core/util/port.cc:111] oneDNN custom operations are on. You may see slightly different numerical results due to floating-point round-off errors from different computation orders. To turn them off, set the environment variable `TF_ENABLE_ONEDNN_OPTS=0`.\n",
      "2023-11-14 17:00:36.056003: I tensorflow/core/platform/cpu_feature_guard.cc:182] This TensorFlow binary is optimized to use available CPU instructions in performance-critical operations.\n",
      "To enable the following instructions: AVX2 AVX_VNNI FMA, in other operations, rebuild TensorFlow with the appropriate compiler flags.\n",
      "2023-11-14 17:00:36.074432: E tensorflow/compiler/xla/stream_executor/cuda/cuda_dnn.cc:9342] Unable to register cuDNN factory: Attempting to register factory for plugin cuDNN when one has already been registered\n",
      "2023-11-14 17:00:36.074580: E tensorflow/compiler/xla/stream_executor/cuda/cuda_fft.cc:609] Unable to register cuFFT factory: Attempting to register factory for plugin cuFFT when one has already been registered\n",
      "2023-11-14 17:00:36.074656: E tensorflow/compiler/xla/stream_executor/cuda/cuda_blas.cc:1518] Unable to register cuBLAS factory: Attempting to register factory for plugin cuBLAS when one has already been registered\n",
      "2023-11-14 17:00:36.081483: I tensorflow/core/platform/cpu_feature_guard.cc:182] This TensorFlow binary is optimized to use available CPU instructions in performance-critical operations.\n",
      "To enable the following instructions: AVX2 AVX_VNNI FMA, in other operations, rebuild TensorFlow with the appropriate compiler flags.\n",
      "2023-11-14 17:00:36.089998: E tensorflow/compiler/xla/stream_executor/cuda/cuda_dnn.cc:9342] Unable to register cuDNN factory: Attempting to register factory for plugin cuDNN when one has already been registered\n",
      "2023-11-14 17:00:36.090116: E tensorflow/compiler/xla/stream_executor/cuda/cuda_fft.cc:609] Unable to register cuFFT factory: Attempting to register factory for plugin cuFFT when one has already been registered\n",
      "2023-11-14 17:00:36.090159: E tensorflow/compiler/xla/stream_executor/cuda/cuda_blas.cc:1518] Unable to register cuBLAS factory: Attempting to register factory for plugin cuBLAS when one has already been registered\n",
      "2023-11-14 17:00:36.097414: I tensorflow/core/platform/cpu_feature_guard.cc:182] This TensorFlow binary is optimized to use available CPU instructions in performance-critical operations.\n",
      "To enable the following instructions: AVX2 AVX_VNNI FMA, in other operations, rebuild TensorFlow with the appropriate compiler flags.\n",
      "2023-11-14 17:00:36.168236: I tensorflow/core/util/port.cc:111] oneDNN custom operations are on. You may see slightly different numerical results due to floating-point round-off errors from different computation orders. To turn them off, set the environment variable `TF_ENABLE_ONEDNN_OPTS=0`.\n",
      "2023-11-14 17:00:36.188601: I tensorflow/core/util/port.cc:111] oneDNN custom operations are on. You may see slightly different numerical results due to floating-point round-off errors from different computation orders. To turn them off, set the environment variable `TF_ENABLE_ONEDNN_OPTS=0`.\n",
      "2023-11-14 17:00:36.209198: E tensorflow/compiler/xla/stream_executor/cuda/cuda_dnn.cc:9342] Unable to register cuDNN factory: Attempting to register factory for plugin cuDNN when one has already been registered\n",
      "2023-11-14 17:00:36.209340: E tensorflow/compiler/xla/stream_executor/cuda/cuda_fft.cc:609] Unable to register cuFFT factory: Attempting to register factory for plugin cuFFT when one has already been registered\n",
      "2023-11-14 17:00:36.209406: E tensorflow/compiler/xla/stream_executor/cuda/cuda_blas.cc:1518] Unable to register cuBLAS factory: Attempting to register factory for plugin cuBLAS when one has already been registered\n",
      "2023-11-14 17:00:36.216114: I tensorflow/core/platform/cpu_feature_guard.cc:182] This TensorFlow binary is optimized to use available CPU instructions in performance-critical operations.\n",
      "To enable the following instructions: AVX2 AVX_VNNI FMA, in other operations, rebuild TensorFlow with the appropriate compiler flags.\n",
      "2023-11-14 17:00:36.225564: I tensorflow/core/util/port.cc:111] oneDNN custom operations are on. You may see slightly different numerical results due to floating-point round-off errors from different computation orders. To turn them off, set the environment variable `TF_ENABLE_ONEDNN_OPTS=0`.\n",
      "2023-11-14 17:00:36.229559: E tensorflow/compiler/xla/stream_executor/cuda/cuda_dnn.cc:9342] Unable to register cuDNN factory: Attempting to register factory for plugin cuDNN when one has already been registered\n",
      "2023-11-14 17:00:36.229689: E tensorflow/compiler/xla/stream_executor/cuda/cuda_fft.cc:609] Unable to register cuFFT factory: Attempting to register factory for plugin cuFFT when one has already been registered\n",
      "2023-11-14 17:00:36.229752: E tensorflow/compiler/xla/stream_executor/cuda/cuda_blas.cc:1518] Unable to register cuBLAS factory: Attempting to register factory for plugin cuBLAS when one has already been registered\n",
      "2023-11-14 17:00:36.236660: I tensorflow/core/platform/cpu_feature_guard.cc:182] This TensorFlow binary is optimized to use available CPU instructions in performance-critical operations.\n",
      "To enable the following instructions: AVX2 AVX_VNNI FMA, in other operations, rebuild TensorFlow with the appropriate compiler flags.\n",
      "2023-11-14 17:00:36.269233: E tensorflow/compiler/xla/stream_executor/cuda/cuda_dnn.cc:9342] Unable to register cuDNN factory: Attempting to register factory for plugin cuDNN when one has already been registered\n",
      "2023-11-14 17:00:36.269391: E tensorflow/compiler/xla/stream_executor/cuda/cuda_fft.cc:609] Unable to register cuFFT factory: Attempting to register factory for plugin cuFFT when one has already been registered\n",
      "2023-11-14 17:00:36.269454: E tensorflow/compiler/xla/stream_executor/cuda/cuda_blas.cc:1518] Unable to register cuBLAS factory: Attempting to register factory for plugin cuBLAS when one has already been registered\n",
      "2023-11-14 17:00:36.276959: I tensorflow/core/platform/cpu_feature_guard.cc:182] This TensorFlow binary is optimized to use available CPU instructions in performance-critical operations.\n",
      "To enable the following instructions: AVX2 AVX_VNNI FMA, in other operations, rebuild TensorFlow with the appropriate compiler flags.\n",
      "WARNING:tensorflow:From /home/peter/mambaforge/envs/spatialde/lib/python3.9/site-packages/SpatialDE/_internal/distance_cache.py:10: calling function (from tensorflow.python.eager.polymorphic_function.polymorphic_function) with experimental_compile is deprecated and will be removed in a future version.\n",
      "Instructions for updating:\n",
      "experimental_compile is deprecated, use jit_compile instead\n",
      "WARNING:tensorflow:From /home/peter/mambaforge/envs/spatialde/lib/python3.9/site-packages/tensorflow/python/util/deprecation.py:588: calling function (from tensorflow.python.eager.polymorphic_function.polymorphic_function) with experimental_relax_shapes is deprecated and will be removed in a future version.\n",
      "Instructions for updating:\n",
      "experimental_relax_shapes is deprecated, use reduce_retracing instead\n",
      "2023-11-14 17:00:38.527045: I tensorflow/compiler/xla/stream_executor/cuda/cuda_gpu_executor.cc:894] successful NUMA node read from SysFS had negative value (-1), but there must be at least one NUMA node, so returning NUMA node zero. See more at https://github.com/torvalds/linux/blob/v6.0/Documentation/ABI/testing/sysfs-bus-pci#L344-L355\n",
      "2023-11-14 17:00:38.530372: I tensorflow/compiler/xla/stream_executor/cuda/cuda_gpu_executor.cc:894] successful NUMA node read from SysFS had negative value (-1), but there must be at least one NUMA node, so returning NUMA node zero. See more at https://github.com/torvalds/linux/blob/v6.0/Documentation/ABI/testing/sysfs-bus-pci#L344-L355\n",
      "2023-11-14 17:00:38.530595: I tensorflow/compiler/xla/stream_executor/cuda/cuda_gpu_executor.cc:894] successful NUMA node read from SysFS had negative value (-1), but there must be at least one NUMA node, so returning NUMA node zero. See more at https://github.com/torvalds/linux/blob/v6.0/Documentation/ABI/testing/sysfs-bus-pci#L344-L355\n",
      "2023-11-14 17:00:38.531773: I tensorflow/compiler/xla/stream_executor/cuda/cuda_gpu_executor.cc:894] successful NUMA node read from SysFS had negative value (-1), but there must be at least one NUMA node, so returning NUMA node zero. See more at https://github.com/torvalds/linux/blob/v6.0/Documentation/ABI/testing/sysfs-bus-pci#L344-L355\n",
      "2023-11-14 17:00:38.531959: I tensorflow/compiler/xla/stream_executor/cuda/cuda_gpu_executor.cc:894] successful NUMA node read from SysFS had negative value (-1), but there must be at least one NUMA node, so returning NUMA node zero. See more at https://github.com/torvalds/linux/blob/v6.0/Documentation/ABI/testing/sysfs-bus-pci#L344-L355\n",
      "2023-11-14 17:00:38.532090: I tensorflow/compiler/xla/stream_executor/cuda/cuda_gpu_executor.cc:894] successful NUMA node read from SysFS had negative value (-1), but there must be at least one NUMA node, so returning NUMA node zero. See more at https://github.com/torvalds/linux/blob/v6.0/Documentation/ABI/testing/sysfs-bus-pci#L344-L355\n",
      "WARNING:tensorflow:From /home/peter/mambaforge/envs/spatialde/lib/python3.9/site-packages/SpatialDE/_internal/distance_cache.py:10: calling function (from tensorflow.python.eager.polymorphic_function.polymorphic_function) with experimental_compile is deprecated and will be removed in a future version.\n",
      "Instructions for updating:\n",
      "experimental_compile is deprecated, use jit_compile instead\n",
      "WARNING:tensorflow:From /home/peter/mambaforge/envs/spatialde/lib/python3.9/site-packages/tensorflow/python/util/deprecation.py:588: calling function (from tensorflow.python.eager.polymorphic_function.polymorphic_function) with experimental_relax_shapes is deprecated and will be removed in a future version.\n",
      "Instructions for updating:\n",
      "experimental_relax_shapes is deprecated, use reduce_retracing instead\n",
      "2023-11-14 17:00:38.637336: I tensorflow/compiler/xla/stream_executor/cuda/cuda_gpu_executor.cc:894] successful NUMA node read from SysFS had negative value (-1), but there must be at least one NUMA node, so returning NUMA node zero. See more at https://github.com/torvalds/linux/blob/v6.0/Documentation/ABI/testing/sysfs-bus-pci#L344-L355\n",
      "2023-11-14 17:00:38.641345: I tensorflow/compiler/xla/stream_executor/cuda/cuda_gpu_executor.cc:894] successful NUMA node read from SysFS had negative value (-1), but there must be at least one NUMA node, so returning NUMA node zero. See more at https://github.com/torvalds/linux/blob/v6.0/Documentation/ABI/testing/sysfs-bus-pci#L344-L355\n",
      "2023-11-14 17:00:38.641612: I tensorflow/compiler/xla/stream_executor/cuda/cuda_gpu_executor.cc:894] successful NUMA node read from SysFS had negative value (-1), but there must be at least one NUMA node, so returning NUMA node zero. See more at https://github.com/torvalds/linux/blob/v6.0/Documentation/ABI/testing/sysfs-bus-pci#L344-L355\n",
      "2023-11-14 17:00:38.642801: I tensorflow/compiler/xla/stream_executor/cuda/cuda_gpu_executor.cc:894] successful NUMA node read from SysFS had negative value (-1), but there must be at least one NUMA node, so returning NUMA node zero. See more at https://github.com/torvalds/linux/blob/v6.0/Documentation/ABI/testing/sysfs-bus-pci#L344-L355\n",
      "2023-11-14 17:00:38.643196: I tensorflow/compiler/xla/stream_executor/cuda/cuda_gpu_executor.cc:894] successful NUMA node read from SysFS had negative value (-1), but there must be at least one NUMA node, so returning NUMA node zero. See more at https://github.com/torvalds/linux/blob/v6.0/Documentation/ABI/testing/sysfs-bus-pci#L344-L355\n",
      "2023-11-14 17:00:38.643374: I tensorflow/compiler/xla/stream_executor/cuda/cuda_gpu_executor.cc:894] successful NUMA node read from SysFS had negative value (-1), but there must be at least one NUMA node, so returning NUMA node zero. See more at https://github.com/torvalds/linux/blob/v6.0/Documentation/ABI/testing/sysfs-bus-pci#L344-L355\n",
      "2023-11-14 17:00:38.654476: I tensorflow/compiler/xla/stream_executor/cuda/cuda_gpu_executor.cc:894] successful NUMA node read from SysFS had negative value (-1), but there must be at least one NUMA node, so returning NUMA node zero. See more at https://github.com/torvalds/linux/blob/v6.0/Documentation/ABI/testing/sysfs-bus-pci#L344-L355\n",
      "2023-11-14 17:00:38.654925: I tensorflow/compiler/xla/stream_executor/cuda/cuda_gpu_executor.cc:894] successful NUMA node read from SysFS had negative value (-1), but there must be at least one NUMA node, so returning NUMA node zero. See more at https://github.com/torvalds/linux/blob/v6.0/Documentation/ABI/testing/sysfs-bus-pci#L344-L355\n",
      "2023-11-14 17:00:38.655063: I tensorflow/compiler/xla/stream_executor/cuda/cuda_gpu_executor.cc:894] successful NUMA node read from SysFS had negative value (-1), but there must be at least one NUMA node, so returning NUMA node zero. See more at https://github.com/torvalds/linux/blob/v6.0/Documentation/ABI/testing/sysfs-bus-pci#L344-L355\n",
      "2023-11-14 17:00:38.655147: I tensorflow/core/common_runtime/gpu/gpu_device.cc:1886] Created device /job:localhost/replica:0/task:0/device:GPU:0 with 22110 MB memory:  -> device: 0, name: NVIDIA GeForce RTX 3090, pci bus id: 0000:01:00.0, compute capability: 8.6\n",
      "/home/peter/mambaforge/envs/spatialde/lib/python3.9/site-packages/anndata/__init__.py:51: FutureWarning: `anndata.read` is deprecated, use `anndata.read_h5ad` instead. `ad.read` will be removed in mid 2024.\n",
      "  warnings.warn(\n",
      "WARNING:tensorflow:From /home/peter/mambaforge/envs/spatialde/lib/python3.9/site-packages/SpatialDE/_internal/distance_cache.py:10: calling function (from tensorflow.python.eager.polymorphic_function.polymorphic_function) with experimental_compile is deprecated and will be removed in a future version.\n",
      "Instructions for updating:\n",
      "experimental_compile is deprecated, use jit_compile instead\n",
      "WARNING:tensorflow:From /home/peter/mambaforge/envs/spatialde/lib/python3.9/site-packages/tensorflow/python/util/deprecation.py:588: calling function (from tensorflow.python.eager.polymorphic_function.polymorphic_function) with experimental_relax_shapes is deprecated and will be removed in a future version.\n",
      "Instructions for updating:\n",
      "experimental_relax_shapes is deprecated, use reduce_retracing instead\n",
      "2023-11-14 17:00:38.696217: I tensorflow/compiler/xla/stream_executor/cuda/cuda_gpu_executor.cc:894] successful NUMA node read from SysFS had negative value (-1), but there must be at least one NUMA node, so returning NUMA node zero. See more at https://github.com/torvalds/linux/blob/v6.0/Documentation/ABI/testing/sysfs-bus-pci#L344-L355\n",
      "2023-11-14 17:00:38.696511: I tensorflow/compiler/xla/stream_executor/cuda/cuda_gpu_executor.cc:894] successful NUMA node read from SysFS had negative value (-1), but there must be at least one NUMA node, so returning NUMA node zero. See more at https://github.com/torvalds/linux/blob/v6.0/Documentation/ABI/testing/sysfs-bus-pci#L344-L355\n",
      "2023-11-14 17:00:38.699335: I tensorflow/compiler/xla/stream_executor/cuda/cuda_gpu_executor.cc:894] successful NUMA node read from SysFS had negative value (-1), but there must be at least one NUMA node, so returning NUMA node zero. See more at https://github.com/torvalds/linux/blob/v6.0/Documentation/ABI/testing/sysfs-bus-pci#L344-L355\n",
      "WARNING:tensorflow:From /home/peter/mambaforge/envs/spatialde/lib/python3.9/site-packages/SpatialDE/_internal/distance_cache.py:10: calling function (from tensorflow.python.eager.polymorphic_function.polymorphic_function) with experimental_compile is deprecated and will be removed in a future version.\n",
      "Instructions for updating:\n",
      "experimental_compile is deprecated, use jit_compile instead\n",
      "WARNING:tensorflow:From /home/peter/mambaforge/envs/spatialde/lib/python3.9/site-packages/tensorflow/python/util/deprecation.py:588: calling function (from tensorflow.python.eager.polymorphic_function.polymorphic_function) with experimental_relax_shapes is deprecated and will be removed in a future version.\n",
      "Instructions for updating:\n",
      "experimental_relax_shapes is deprecated, use reduce_retracing instead\n",
      "2023-11-14 17:00:38.699885: I tensorflow/compiler/xla/stream_executor/cuda/cuda_gpu_executor.cc:894] successful NUMA node read from SysFS had negative value (-1), but there must be at least one NUMA node, so returning NUMA node zero. See more at https://github.com/torvalds/linux/blob/v6.0/Documentation/ABI/testing/sysfs-bus-pci#L344-L355\n",
      "2023-11-14 17:00:38.700017: I tensorflow/core/common_runtime/gpu/gpu_device.cc:1886] Created device /job:localhost/replica:0/task:0/device:GPU:0 with 21865 MB memory:  -> device: 0, name: NVIDIA GeForce RTX 3090, pci bus id: 0000:01:00.0, compute capability: 8.6\n",
      "/home/peter/mambaforge/envs/spatialde/lib/python3.9/site-packages/anndata/__init__.py:51: FutureWarning: `anndata.read` is deprecated, use `anndata.read_h5ad` instead. `ad.read` will be removed in mid 2024.\n",
      "  warnings.warn(\n",
      "2023-11-14 17:00:38.705795: I tensorflow/compiler/xla/stream_executor/cuda/cuda_gpu_executor.cc:894] successful NUMA node read from SysFS had negative value (-1), but there must be at least one NUMA node, so returning NUMA node zero. See more at https://github.com/torvalds/linux/blob/v6.0/Documentation/ABI/testing/sysfs-bus-pci#L344-L355\n",
      "2023-11-14 17:00:38.706099: I tensorflow/compiler/xla/stream_executor/cuda/cuda_gpu_executor.cc:894] successful NUMA node read from SysFS had negative value (-1), but there must be at least one NUMA node, so returning NUMA node zero. See more at https://github.com/torvalds/linux/blob/v6.0/Documentation/ABI/testing/sysfs-bus-pci#L344-L355\n",
      "2023-11-14 17:00:38.707568: I tensorflow/compiler/xla/stream_executor/cuda/cuda_gpu_executor.cc:894] successful NUMA node read from SysFS had negative value (-1), but there must be at least one NUMA node, so returning NUMA node zero. See more at https://github.com/torvalds/linux/blob/v6.0/Documentation/ABI/testing/sysfs-bus-pci#L344-L355\n",
      "2023-11-14 17:00:38.707769: I tensorflow/compiler/xla/stream_executor/cuda/cuda_gpu_executor.cc:894] successful NUMA node read from SysFS had negative value (-1), but there must be at least one NUMA node, so returning NUMA node zero. See more at https://github.com/torvalds/linux/blob/v6.0/Documentation/ABI/testing/sysfs-bus-pci#L344-L355\n",
      "2023-11-14 17:00:38.707850: I tensorflow/compiler/xla/stream_executor/cuda/cuda_gpu_executor.cc:894] successful NUMA node read from SysFS had negative value (-1), but there must be at least one NUMA node, so returning NUMA node zero. See more at https://github.com/torvalds/linux/blob/v6.0/Documentation/ABI/testing/sysfs-bus-pci#L344-L355\n",
      "2023-11-14 17:00:38.720435: I tensorflow/compiler/xla/stream_executor/cuda/cuda_gpu_executor.cc:894] successful NUMA node read from SysFS had negative value (-1), but there must be at least one NUMA node, so returning NUMA node zero. See more at https://github.com/torvalds/linux/blob/v6.0/Documentation/ABI/testing/sysfs-bus-pci#L344-L355\n",
      "2023-11-14 17:00:38.725666: I tensorflow/compiler/xla/stream_executor/cuda/cuda_gpu_executor.cc:894] successful NUMA node read from SysFS had negative value (-1), but there must be at least one NUMA node, so returning NUMA node zero. See more at https://github.com/torvalds/linux/blob/v6.0/Documentation/ABI/testing/sysfs-bus-pci#L344-L355\n",
      "2023-11-14 17:00:38.726324: I tensorflow/compiler/xla/stream_executor/cuda/cuda_gpu_executor.cc:894] successful NUMA node read from SysFS had negative value (-1), but there must be at least one NUMA node, so returning NUMA node zero. See more at https://github.com/torvalds/linux/blob/v6.0/Documentation/ABI/testing/sysfs-bus-pci#L344-L355\n",
      "2023-11-14 17:00:38.728151: I tensorflow/compiler/xla/stream_executor/cuda/cuda_gpu_executor.cc:894] successful NUMA node read from SysFS had negative value (-1), but there must be at least one NUMA node, so returning NUMA node zero. See more at https://github.com/torvalds/linux/blob/v6.0/Documentation/ABI/testing/sysfs-bus-pci#L344-L355\n",
      "2023-11-14 17:00:38.736552: I tensorflow/compiler/xla/stream_executor/cuda/cuda_gpu_executor.cc:894] successful NUMA node read from SysFS had negative value (-1), but there must be at least one NUMA node, so returning NUMA node zero. See more at https://github.com/torvalds/linux/blob/v6.0/Documentation/ABI/testing/sysfs-bus-pci#L344-L355\n",
      "2023-11-14 17:00:38.737104: I tensorflow/compiler/xla/stream_executor/cuda/cuda_gpu_executor.cc:894] successful NUMA node read from SysFS had negative value (-1), but there must be at least one NUMA node, so returning NUMA node zero. See more at https://github.com/torvalds/linux/blob/v6.0/Documentation/ABI/testing/sysfs-bus-pci#L344-L355\n",
      "2023-11-14 17:00:38.811949: I tensorflow/compiler/xla/stream_executor/cuda/cuda_gpu_executor.cc:894] successful NUMA node read from SysFS had negative value (-1), but there must be at least one NUMA node, so returning NUMA node zero. See more at https://github.com/torvalds/linux/blob/v6.0/Documentation/ABI/testing/sysfs-bus-pci#L344-L355\n",
      "2023-11-14 17:00:38.812291: I tensorflow/compiler/xla/stream_executor/cuda/cuda_gpu_executor.cc:894] successful NUMA node read from SysFS had negative value (-1), but there must be at least one NUMA node, so returning NUMA node zero. See more at https://github.com/torvalds/linux/blob/v6.0/Documentation/ABI/testing/sysfs-bus-pci#L344-L355\n",
      "2023-11-14 17:00:38.812529: I tensorflow/compiler/xla/stream_executor/cuda/cuda_gpu_executor.cc:894] successful NUMA node read from SysFS had negative value (-1), but there must be at least one NUMA node, so returning NUMA node zero. See more at https://github.com/torvalds/linux/blob/v6.0/Documentation/ABI/testing/sysfs-bus-pci#L344-L355\n",
      "2023-11-14 17:00:38.812620: I tensorflow/core/common_runtime/gpu/gpu_device.cc:1886] Created device /job:localhost/replica:0/task:0/device:GPU:0 with 21547 MB memory:  -> device: 0, name: NVIDIA GeForce RTX 3090, pci bus id: 0000:01:00.0, compute capability: 8.6\n",
      "/home/peter/mambaforge/envs/spatialde/lib/python3.9/site-packages/anndata/__init__.py:51: FutureWarning: `anndata.read` is deprecated, use `anndata.read_h5ad` instead. `ad.read` will be removed in mid 2024.\n",
      "  warnings.warn(\n",
      "2023-11-14 17:00:38.820081: I tensorflow/compiler/xla/stream_executor/cuda/cuda_gpu_executor.cc:894] successful NUMA node read from SysFS had negative value (-1), but there must be at least one NUMA node, so returning NUMA node zero. See more at https://github.com/torvalds/linux/blob/v6.0/Documentation/ABI/testing/sysfs-bus-pci#L344-L355\n",
      "2023-11-14 17:00:38.820321: I tensorflow/compiler/xla/stream_executor/cuda/cuda_gpu_executor.cc:894] successful NUMA node read from SysFS had negative value (-1), but there must be at least one NUMA node, so returning NUMA node zero. See more at https://github.com/torvalds/linux/blob/v6.0/Documentation/ABI/testing/sysfs-bus-pci#L344-L355\n",
      "2023-11-14 17:00:38.820428: I tensorflow/compiler/xla/stream_executor/cuda/cuda_gpu_executor.cc:894] successful NUMA node read from SysFS had negative value (-1), but there must be at least one NUMA node, so returning NUMA node zero. See more at https://github.com/torvalds/linux/blob/v6.0/Documentation/ABI/testing/sysfs-bus-pci#L344-L355\n",
      "2023-11-14 17:00:38.820504: I tensorflow/core/common_runtime/gpu/gpu_device.cc:1886] Created device /job:localhost/replica:0/task:0/device:GPU:0 with 21351 MB memory:  -> device: 0, name: NVIDIA GeForce RTX 3090, pci bus id: 0000:01:00.0, compute capability: 8.6\n",
      "/home/peter/mambaforge/envs/spatialde/lib/python3.9/site-packages/anndata/__init__.py:51: FutureWarning: `anndata.read` is deprecated, use `anndata.read_h5ad` instead. `ad.read` will be removed in mid 2024.\n",
      "  warnings.warn(\n",
      "WARNING:tensorflow:From /home/peter/mambaforge/envs/spatialde/lib/python3.9/site-packages/SpatialDE/_internal/distance_cache.py:10: calling function (from tensorflow.python.eager.polymorphic_function.polymorphic_function) with experimental_compile is deprecated and will be removed in a future version.\n",
      "Instructions for updating:\n",
      "experimental_compile is deprecated, use jit_compile instead\n",
      "WARNING:tensorflow:From /home/peter/mambaforge/envs/spatialde/lib/python3.9/site-packages/tensorflow/python/util/deprecation.py:588: calling function (from tensorflow.python.eager.polymorphic_function.polymorphic_function) with experimental_relax_shapes is deprecated and will be removed in a future version.\n",
      "Instructions for updating:\n",
      "experimental_relax_shapes is deprecated, use reduce_retracing instead\n",
      "2023-11-14 17:00:38.954807: I tensorflow/compiler/xla/stream_executor/cuda/cuda_gpu_executor.cc:894] successful NUMA node read from SysFS had negative value (-1), but there must be at least one NUMA node, so returning NUMA node zero. See more at https://github.com/torvalds/linux/blob/v6.0/Documentation/ABI/testing/sysfs-bus-pci#L344-L355\n",
      "2023-11-14 17:00:38.958344: I tensorflow/compiler/xla/stream_executor/cuda/cuda_gpu_executor.cc:894] successful NUMA node read from SysFS had negative value (-1), but there must be at least one NUMA node, so returning NUMA node zero. See more at https://github.com/torvalds/linux/blob/v6.0/Documentation/ABI/testing/sysfs-bus-pci#L344-L355\n",
      "2023-11-14 17:00:38.958528: I tensorflow/compiler/xla/stream_executor/cuda/cuda_gpu_executor.cc:894] successful NUMA node read from SysFS had negative value (-1), but there must be at least one NUMA node, so returning NUMA node zero. See more at https://github.com/torvalds/linux/blob/v6.0/Documentation/ABI/testing/sysfs-bus-pci#L344-L355\n",
      "2023-11-14 17:00:38.959623: I tensorflow/compiler/xla/stream_executor/cuda/cuda_gpu_executor.cc:894] successful NUMA node read from SysFS had negative value (-1), but there must be at least one NUMA node, so returning NUMA node zero. See more at https://github.com/torvalds/linux/blob/v6.0/Documentation/ABI/testing/sysfs-bus-pci#L344-L355\n",
      "2023-11-14 17:00:38.959767: I tensorflow/compiler/xla/stream_executor/cuda/cuda_gpu_executor.cc:894] successful NUMA node read from SysFS had negative value (-1), but there must be at least one NUMA node, so returning NUMA node zero. See more at https://github.com/torvalds/linux/blob/v6.0/Documentation/ABI/testing/sysfs-bus-pci#L344-L355\n",
      "2023-11-14 17:00:38.959868: I tensorflow/compiler/xla/stream_executor/cuda/cuda_gpu_executor.cc:894] successful NUMA node read from SysFS had negative value (-1), but there must be at least one NUMA node, so returning NUMA node zero. See more at https://github.com/torvalds/linux/blob/v6.0/Documentation/ABI/testing/sysfs-bus-pci#L344-L355\n",
      "2023-11-14 17:00:39.004241: I tensorflow/compiler/xla/stream_executor/cuda/cuda_gpu_executor.cc:894] successful NUMA node read from SysFS had negative value (-1), but there must be at least one NUMA node, so returning NUMA node zero. See more at https://github.com/torvalds/linux/blob/v6.0/Documentation/ABI/testing/sysfs-bus-pci#L344-L355\n",
      "2023-11-14 17:00:39.004639: I tensorflow/compiler/xla/stream_executor/cuda/cuda_gpu_executor.cc:894] successful NUMA node read from SysFS had negative value (-1), but there must be at least one NUMA node, so returning NUMA node zero. See more at https://github.com/torvalds/linux/blob/v6.0/Documentation/ABI/testing/sysfs-bus-pci#L344-L355\n",
      "2023-11-14 17:00:39.004837: I tensorflow/compiler/xla/stream_executor/cuda/cuda_gpu_executor.cc:894] successful NUMA node read from SysFS had negative value (-1), but there must be at least one NUMA node, so returning NUMA node zero. See more at https://github.com/torvalds/linux/blob/v6.0/Documentation/ABI/testing/sysfs-bus-pci#L344-L355\n",
      "2023-11-14 17:00:39.004959: I tensorflow/core/common_runtime/gpu/gpu_device.cc:1886] Created device /job:localhost/replica:0/task:0/device:GPU:0 with 21094 MB memory:  -> device: 0, name: NVIDIA GeForce RTX 3090, pci bus id: 0000:01:00.0, compute capability: 8.6\n",
      "/home/peter/mambaforge/envs/spatialde/lib/python3.9/site-packages/anndata/__init__.py:51: FutureWarning: `anndata.read` is deprecated, use `anndata.read_h5ad` instead. `ad.read` will be removed in mid 2024.\n",
      "  warnings.warn(\n",
      "WARNING:tensorflow:From /home/peter/mambaforge/envs/spatialde/lib/python3.9/site-packages/SpatialDE/_internal/distance_cache.py:10: calling function (from tensorflow.python.eager.polymorphic_function.polymorphic_function) with experimental_compile is deprecated and will be removed in a future version.\n",
      "Instructions for updating:\n",
      "experimental_compile is deprecated, use jit_compile instead\n",
      "WARNING:tensorflow:From /home/peter/mambaforge/envs/spatialde/lib/python3.9/site-packages/tensorflow/python/util/deprecation.py:588: calling function (from tensorflow.python.eager.polymorphic_function.polymorphic_function) with experimental_relax_shapes is deprecated and will be removed in a future version.\n",
      "Instructions for updating:\n",
      "experimental_relax_shapes is deprecated, use reduce_retracing instead\n",
      "2023-11-14 17:00:39.170463: I tensorflow/compiler/xla/stream_executor/cuda/cuda_gpu_executor.cc:894] successful NUMA node read from SysFS had negative value (-1), but there must be at least one NUMA node, so returning NUMA node zero. See more at https://github.com/torvalds/linux/blob/v6.0/Documentation/ABI/testing/sysfs-bus-pci#L344-L355\n",
      "2023-11-14 17:00:39.175897: I tensorflow/compiler/xla/stream_executor/cuda/cuda_gpu_executor.cc:894] successful NUMA node read from SysFS had negative value (-1), but there must be at least one NUMA node, so returning NUMA node zero. See more at https://github.com/torvalds/linux/blob/v6.0/Documentation/ABI/testing/sysfs-bus-pci#L344-L355\n",
      "2023-11-14 17:00:39.176221: I tensorflow/compiler/xla/stream_executor/cuda/cuda_gpu_executor.cc:894] successful NUMA node read from SysFS had negative value (-1), but there must be at least one NUMA node, so returning NUMA node zero. See more at https://github.com/torvalds/linux/blob/v6.0/Documentation/ABI/testing/sysfs-bus-pci#L344-L355\n",
      "2023-11-14 17:00:39.177442: I tensorflow/compiler/xla/stream_executor/cuda/cuda_gpu_executor.cc:894] successful NUMA node read from SysFS had negative value (-1), but there must be at least one NUMA node, so returning NUMA node zero. See more at https://github.com/torvalds/linux/blob/v6.0/Documentation/ABI/testing/sysfs-bus-pci#L344-L355\n",
      "2023-11-14 17:00:39.177693: I tensorflow/compiler/xla/stream_executor/cuda/cuda_gpu_executor.cc:894] successful NUMA node read from SysFS had negative value (-1), but there must be at least one NUMA node, so returning NUMA node zero. See more at https://github.com/torvalds/linux/blob/v6.0/Documentation/ABI/testing/sysfs-bus-pci#L344-L355\n",
      "2023-11-14 17:00:39.177811: I tensorflow/compiler/xla/stream_executor/cuda/cuda_gpu_executor.cc:894] successful NUMA node read from SysFS had negative value (-1), but there must be at least one NUMA node, so returning NUMA node zero. See more at https://github.com/torvalds/linux/blob/v6.0/Documentation/ABI/testing/sysfs-bus-pci#L344-L355\n",
      "WARNING:tensorflow:From /home/peter/mambaforge/envs/spatialde/lib/python3.9/site-packages/SpatialDE/_internal/distance_cache.py:10: calling function (from tensorflow.python.eager.polymorphic_function.polymorphic_function) with experimental_compile is deprecated and will be removed in a future version.\n",
      "Instructions for updating:\n",
      "experimental_compile is deprecated, use jit_compile instead\n",
      "WARNING:tensorflow:From /home/peter/mambaforge/envs/spatialde/lib/python3.9/site-packages/tensorflow/python/util/deprecation.py:588: calling function (from tensorflow.python.eager.polymorphic_function.polymorphic_function) with experimental_relax_shapes is deprecated and will be removed in a future version.\n",
      "Instructions for updating:\n",
      "experimental_relax_shapes is deprecated, use reduce_retracing instead\n",
      "WARNING:tensorflow:From /home/peter/mambaforge/envs/spatialde/lib/python3.9/site-packages/SpatialDE/_internal/distance_cache.py:10: calling function (from tensorflow.python.eager.polymorphic_function.polymorphic_function) with experimental_compile is deprecated and will be removed in a future version.\n",
      "Instructions for updating:\n",
      "experimental_compile is deprecated, use jit_compile instead\n",
      "WARNING:tensorflow:From /home/peter/mambaforge/envs/spatialde/lib/python3.9/site-packages/tensorflow/python/util/deprecation.py:588: calling function (from tensorflow.python.eager.polymorphic_function.polymorphic_function) with experimental_relax_shapes is deprecated and will be removed in a future version.\n",
      "Instructions for updating:\n",
      "experimental_relax_shapes is deprecated, use reduce_retracing instead\n",
      "2023-11-14 17:00:39.223824: I tensorflow/compiler/xla/stream_executor/cuda/cuda_gpu_executor.cc:894] successful NUMA node read from SysFS had negative value (-1), but there must be at least one NUMA node, so returning NUMA node zero. See more at https://github.com/torvalds/linux/blob/v6.0/Documentation/ABI/testing/sysfs-bus-pci#L344-L355\n",
      "2023-11-14 17:00:39.224134: I tensorflow/compiler/xla/stream_executor/cuda/cuda_gpu_executor.cc:894] successful NUMA node read from SysFS had negative value (-1), but there must be at least one NUMA node, so returning NUMA node zero. See more at https://github.com/torvalds/linux/blob/v6.0/Documentation/ABI/testing/sysfs-bus-pci#L344-L355\n",
      "2023-11-14 17:00:39.224301: I tensorflow/compiler/xla/stream_executor/cuda/cuda_gpu_executor.cc:894] successful NUMA node read from SysFS had negative value (-1), but there must be at least one NUMA node, so returning NUMA node zero. See more at https://github.com/torvalds/linux/blob/v6.0/Documentation/ABI/testing/sysfs-bus-pci#L344-L355\n",
      "2023-11-14 17:00:39.224394: I tensorflow/core/common_runtime/gpu/gpu_device.cc:1886] Created device /job:localhost/replica:0/task:0/device:GPU:0 with 20837 MB memory:  -> device: 0, name: NVIDIA GeForce RTX 3090, pci bus id: 0000:01:00.0, compute capability: 8.6\n",
      "/home/peter/mambaforge/envs/spatialde/lib/python3.9/site-packages/anndata/__init__.py:51: FutureWarning: `anndata.read` is deprecated, use `anndata.read_h5ad` instead. `ad.read` will be removed in mid 2024.\n",
      "  warnings.warn(\n",
      "2023-11-14 17:00:39.230407: I tensorflow/compiler/xla/stream_executor/cuda/cuda_gpu_executor.cc:894] successful NUMA node read from SysFS had negative value (-1), but there must be at least one NUMA node, so returning NUMA node zero. See more at https://github.com/torvalds/linux/blob/v6.0/Documentation/ABI/testing/sysfs-bus-pci#L344-L355\n",
      "2023-11-14 17:00:39.233895: I tensorflow/compiler/xla/stream_executor/cuda/cuda_gpu_executor.cc:894] successful NUMA node read from SysFS had negative value (-1), but there must be at least one NUMA node, so returning NUMA node zero. See more at https://github.com/torvalds/linux/blob/v6.0/Documentation/ABI/testing/sysfs-bus-pci#L344-L355\n",
      "2023-11-14 17:00:39.234044: I tensorflow/compiler/xla/stream_executor/cuda/cuda_gpu_executor.cc:894] successful NUMA node read from SysFS had negative value (-1), but there must be at least one NUMA node, so returning NUMA node zero. See more at https://github.com/torvalds/linux/blob/v6.0/Documentation/ABI/testing/sysfs-bus-pci#L344-L355\n",
      "2023-11-14 17:00:39.234128: I tensorflow/compiler/xla/stream_executor/cuda/cuda_gpu_executor.cc:894] successful NUMA node read from SysFS had negative value (-1), but there must be at least one NUMA node, so returning NUMA node zero. See more at https://github.com/torvalds/linux/blob/v6.0/Documentation/ABI/testing/sysfs-bus-pci#L344-L355\n",
      "2023-11-14 17:00:39.235065: I tensorflow/compiler/xla/stream_executor/cuda/cuda_gpu_executor.cc:894] successful NUMA node read from SysFS had negative value (-1), but there must be at least one NUMA node, so returning NUMA node zero. See more at https://github.com/torvalds/linux/blob/v6.0/Documentation/ABI/testing/sysfs-bus-pci#L344-L355\n",
      "2023-11-14 17:00:39.235308: I tensorflow/compiler/xla/stream_executor/cuda/cuda_gpu_executor.cc:894] successful NUMA node read from SysFS had negative value (-1), but there must be at least one NUMA node, so returning NUMA node zero. See more at https://github.com/torvalds/linux/blob/v6.0/Documentation/ABI/testing/sysfs-bus-pci#L344-L355\n",
      "2023-11-14 17:00:39.235405: I tensorflow/compiler/xla/stream_executor/cuda/cuda_gpu_executor.cc:894] successful NUMA node read from SysFS had negative value (-1), but there must be at least one NUMA node, so returning NUMA node zero. See more at https://github.com/torvalds/linux/blob/v6.0/Documentation/ABI/testing/sysfs-bus-pci#L344-L355\n",
      "2023-11-14 17:00:39.238007: I tensorflow/compiler/xla/stream_executor/cuda/cuda_gpu_executor.cc:894] successful NUMA node read from SysFS had negative value (-1), but there must be at least one NUMA node, so returning NUMA node zero. See more at https://github.com/torvalds/linux/blob/v6.0/Documentation/ABI/testing/sysfs-bus-pci#L344-L355\n",
      "2023-11-14 17:00:39.245826: I tensorflow/compiler/xla/stream_executor/cuda/cuda_gpu_executor.cc:894] successful NUMA node read from SysFS had negative value (-1), but there must be at least one NUMA node, so returning NUMA node zero. See more at https://github.com/torvalds/linux/blob/v6.0/Documentation/ABI/testing/sysfs-bus-pci#L344-L355\n",
      "2023-11-14 17:00:39.247206: I tensorflow/compiler/xla/stream_executor/cuda/cuda_gpu_executor.cc:894] successful NUMA node read from SysFS had negative value (-1), but there must be at least one NUMA node, so returning NUMA node zero. See more at https://github.com/torvalds/linux/blob/v6.0/Documentation/ABI/testing/sysfs-bus-pci#L344-L355\n",
      "2023-11-14 17:00:39.247618: I tensorflow/compiler/xla/stream_executor/cuda/cuda_gpu_executor.cc:894] successful NUMA node read from SysFS had negative value (-1), but there must be at least one NUMA node, so returning NUMA node zero. See more at https://github.com/torvalds/linux/blob/v6.0/Documentation/ABI/testing/sysfs-bus-pci#L344-L355\n",
      "2023-11-14 17:00:39.250997: I tensorflow/compiler/xla/stream_executor/cuda/cuda_gpu_executor.cc:894] successful NUMA node read from SysFS had negative value (-1), but there must be at least one NUMA node, so returning NUMA node zero. See more at https://github.com/torvalds/linux/blob/v6.0/Documentation/ABI/testing/sysfs-bus-pci#L344-L355\n",
      "2023-11-14 17:00:39.294041: I tensorflow/compiler/xla/stream_executor/cuda/cuda_gpu_executor.cc:894] successful NUMA node read from SysFS had negative value (-1), but there must be at least one NUMA node, so returning NUMA node zero. See more at https://github.com/torvalds/linux/blob/v6.0/Documentation/ABI/testing/sysfs-bus-pci#L344-L355\n",
      "2023-11-14 17:00:39.294333: I tensorflow/compiler/xla/stream_executor/cuda/cuda_gpu_executor.cc:894] successful NUMA node read from SysFS had negative value (-1), but there must be at least one NUMA node, so returning NUMA node zero. See more at https://github.com/torvalds/linux/blob/v6.0/Documentation/ABI/testing/sysfs-bus-pci#L344-L355\n",
      "2023-11-14 17:00:39.294477: I tensorflow/compiler/xla/stream_executor/cuda/cuda_gpu_executor.cc:894] successful NUMA node read from SysFS had negative value (-1), but there must be at least one NUMA node, so returning NUMA node zero. See more at https://github.com/torvalds/linux/blob/v6.0/Documentation/ABI/testing/sysfs-bus-pci#L344-L355\n",
      "2023-11-14 17:00:39.294566: I tensorflow/core/common_runtime/gpu/gpu_device.cc:1886] Created device /job:localhost/replica:0/task:0/device:GPU:0 with 20517 MB memory:  -> device: 0, name: NVIDIA GeForce RTX 3090, pci bus id: 0000:01:00.0, compute capability: 8.6\n",
      "/home/peter/mambaforge/envs/spatialde/lib/python3.9/site-packages/anndata/__init__.py:51: FutureWarning: `anndata.read` is deprecated, use `anndata.read_h5ad` instead. `ad.read` will be removed in mid 2024.\n",
      "  warnings.warn(\n",
      "2023-11-14 17:00:39.300699: I tensorflow/compiler/xla/stream_executor/cuda/cuda_gpu_executor.cc:894] successful NUMA node read from SysFS had negative value (-1), but there must be at least one NUMA node, so returning NUMA node zero. See more at https://github.com/torvalds/linux/blob/v6.0/Documentation/ABI/testing/sysfs-bus-pci#L344-L355\n",
      "2023-11-14 17:00:39.300915: I tensorflow/compiler/xla/stream_executor/cuda/cuda_gpu_executor.cc:894] successful NUMA node read from SysFS had negative value (-1), but there must be at least one NUMA node, so returning NUMA node zero. See more at https://github.com/torvalds/linux/blob/v6.0/Documentation/ABI/testing/sysfs-bus-pci#L344-L355\n",
      "2023-11-14 17:00:39.301027: I tensorflow/compiler/xla/stream_executor/cuda/cuda_gpu_executor.cc:894] successful NUMA node read from SysFS had negative value (-1), but there must be at least one NUMA node, so returning NUMA node zero. See more at https://github.com/torvalds/linux/blob/v6.0/Documentation/ABI/testing/sysfs-bus-pci#L344-L355\n",
      "2023-11-14 17:00:39.301107: I tensorflow/core/common_runtime/gpu/gpu_device.cc:1886] Created device /job:localhost/replica:0/task:0/device:GPU:0 with 20323 MB memory:  -> device: 0, name: NVIDIA GeForce RTX 3090, pci bus id: 0000:01:00.0, compute capability: 8.6\n",
      "/home/peter/mambaforge/envs/spatialde/lib/python3.9/site-packages/anndata/__init__.py:51: FutureWarning: `anndata.read` is deprecated, use `anndata.read_h5ad` instead. `ad.read` will be removed in mid 2024.\n",
      "  warnings.warn(\n",
      "WARNING:tensorflow:From /home/peter/mambaforge/envs/spatialde/lib/python3.9/site-packages/SpatialDE/_internal/distance_cache.py:10: calling function (from tensorflow.python.eager.polymorphic_function.polymorphic_function) with experimental_compile is deprecated and will be removed in a future version.\n",
      "Instructions for updating:\n",
      "experimental_compile is deprecated, use jit_compile instead\n",
      "WARNING:tensorflow:From /home/peter/mambaforge/envs/spatialde/lib/python3.9/site-packages/tensorflow/python/util/deprecation.py:588: calling function (from tensorflow.python.eager.polymorphic_function.polymorphic_function) with experimental_relax_shapes is deprecated and will be removed in a future version.\n",
      "Instructions for updating:\n",
      "experimental_relax_shapes is deprecated, use reduce_retracing instead\n",
      "2023-11-14 17:00:39.423857: I tensorflow/compiler/xla/stream_executor/cuda/cuda_gpu_executor.cc:894] successful NUMA node read from SysFS had negative value (-1), but there must be at least one NUMA node, so returning NUMA node zero. See more at https://github.com/torvalds/linux/blob/v6.0/Documentation/ABI/testing/sysfs-bus-pci#L344-L355\n",
      "2023-11-14 17:00:39.427804: I tensorflow/compiler/xla/stream_executor/cuda/cuda_gpu_executor.cc:894] successful NUMA node read from SysFS had negative value (-1), but there must be at least one NUMA node, so returning NUMA node zero. See more at https://github.com/torvalds/linux/blob/v6.0/Documentation/ABI/testing/sysfs-bus-pci#L344-L355\n",
      "2023-11-14 17:00:39.428010: I tensorflow/compiler/xla/stream_executor/cuda/cuda_gpu_executor.cc:894] successful NUMA node read from SysFS had negative value (-1), but there must be at least one NUMA node, so returning NUMA node zero. See more at https://github.com/torvalds/linux/blob/v6.0/Documentation/ABI/testing/sysfs-bus-pci#L344-L355\n",
      "2023-11-14 17:00:39.429109: I tensorflow/compiler/xla/stream_executor/cuda/cuda_gpu_executor.cc:894] successful NUMA node read from SysFS had negative value (-1), but there must be at least one NUMA node, so returning NUMA node zero. See more at https://github.com/torvalds/linux/blob/v6.0/Documentation/ABI/testing/sysfs-bus-pci#L344-L355\n",
      "2023-11-14 17:00:39.429275: I tensorflow/compiler/xla/stream_executor/cuda/cuda_gpu_executor.cc:894] successful NUMA node read from SysFS had negative value (-1), but there must be at least one NUMA node, so returning NUMA node zero. See more at https://github.com/torvalds/linux/blob/v6.0/Documentation/ABI/testing/sysfs-bus-pci#L344-L355\n",
      "2023-11-14 17:00:39.429334: I tensorflow/compiler/xla/stream_executor/cuda/cuda_gpu_executor.cc:894] successful NUMA node read from SysFS had negative value (-1), but there must be at least one NUMA node, so returning NUMA node zero. See more at https://github.com/torvalds/linux/blob/v6.0/Documentation/ABI/testing/sysfs-bus-pci#L344-L355\n",
      "WARNING:tensorflow:From /home/peter/mambaforge/envs/spatialde/lib/python3.9/site-packages/SpatialDE/_internal/distance_cache.py:10: calling function (from tensorflow.python.eager.polymorphic_function.polymorphic_function) with experimental_compile is deprecated and will be removed in a future version.\n",
      "Instructions for updating:\n",
      "experimental_compile is deprecated, use jit_compile instead\n",
      "WARNING:tensorflow:From /home/peter/mambaforge/envs/spatialde/lib/python3.9/site-packages/tensorflow/python/util/deprecation.py:588: calling function (from tensorflow.python.eager.polymorphic_function.polymorphic_function) with experimental_relax_shapes is deprecated and will be removed in a future version.\n",
      "Instructions for updating:\n",
      "experimental_relax_shapes is deprecated, use reduce_retracing instead\n",
      "WARNING:tensorflow:From /home/peter/mambaforge/envs/spatialde/lib/python3.9/site-packages/SpatialDE/_internal/distance_cache.py:10: calling function (from tensorflow.python.eager.polymorphic_function.polymorphic_function) with experimental_compile is deprecated and will be removed in a future version.\n",
      "Instructions for updating:\n",
      "experimental_compile is deprecated, use jit_compile instead\n",
      "WARNING:tensorflow:From /home/peter/mambaforge/envs/spatialde/lib/python3.9/site-packages/tensorflow/python/util/deprecation.py:588: calling function (from tensorflow.python.eager.polymorphic_function.polymorphic_function) with experimental_relax_shapes is deprecated and will be removed in a future version.\n",
      "Instructions for updating:\n",
      "experimental_relax_shapes is deprecated, use reduce_retracing instead\n",
      "WARNING:tensorflow:From /home/peter/mambaforge/envs/spatialde/lib/python3.9/site-packages/SpatialDE/_internal/distance_cache.py:10: calling function (from tensorflow.python.eager.polymorphic_function.polymorphic_function) with experimental_compile is deprecated and will be removed in a future version.\n",
      "Instructions for updating:\n",
      "experimental_compile is deprecated, use jit_compile instead\n",
      "WARNING:tensorflow:From /home/peter/mambaforge/envs/spatialde/lib/python3.9/site-packages/tensorflow/python/util/deprecation.py:588: calling function (from tensorflow.python.eager.polymorphic_function.polymorphic_function) with experimental_relax_shapes is deprecated and will be removed in a future version.\n",
      "Instructions for updating:\n",
      "experimental_relax_shapes is deprecated, use reduce_retracing instead\n",
      "2023-11-14 17:00:39.468958: I tensorflow/compiler/xla/stream_executor/cuda/cuda_gpu_executor.cc:894] successful NUMA node read from SysFS had negative value (-1), but there must be at least one NUMA node, so returning NUMA node zero. See more at https://github.com/torvalds/linux/blob/v6.0/Documentation/ABI/testing/sysfs-bus-pci#L344-L355\n",
      "2023-11-14 17:00:39.472993: I tensorflow/compiler/xla/stream_executor/cuda/cuda_gpu_executor.cc:894] successful NUMA node read from SysFS had negative value (-1), but there must be at least one NUMA node, so returning NUMA node zero. See more at https://github.com/torvalds/linux/blob/v6.0/Documentation/ABI/testing/sysfs-bus-pci#L344-L355\n",
      "2023-11-14 17:00:39.473312: I tensorflow/compiler/xla/stream_executor/cuda/cuda_gpu_executor.cc:894] successful NUMA node read from SysFS had negative value (-1), but there must be at least one NUMA node, so returning NUMA node zero. See more at https://github.com/torvalds/linux/blob/v6.0/Documentation/ABI/testing/sysfs-bus-pci#L344-L355\n",
      "2023-11-14 17:00:39.474461: I tensorflow/compiler/xla/stream_executor/cuda/cuda_gpu_executor.cc:894] successful NUMA node read from SysFS had negative value (-1), but there must be at least one NUMA node, so returning NUMA node zero. See more at https://github.com/torvalds/linux/blob/v6.0/Documentation/ABI/testing/sysfs-bus-pci#L344-L355\n",
      "2023-11-14 17:00:39.474661: I tensorflow/compiler/xla/stream_executor/cuda/cuda_gpu_executor.cc:894] successful NUMA node read from SysFS had negative value (-1), but there must be at least one NUMA node, so returning NUMA node zero. See more at https://github.com/torvalds/linux/blob/v6.0/Documentation/ABI/testing/sysfs-bus-pci#L344-L355\n",
      "2023-11-14 17:00:39.474779: I tensorflow/compiler/xla/stream_executor/cuda/cuda_gpu_executor.cc:894] successful NUMA node read from SysFS had negative value (-1), but there must be at least one NUMA node, so returning NUMA node zero. See more at https://github.com/torvalds/linux/blob/v6.0/Documentation/ABI/testing/sysfs-bus-pci#L344-L355\n",
      "2023-11-14 17:00:39.476286: I tensorflow/compiler/xla/stream_executor/cuda/cuda_gpu_executor.cc:894] successful NUMA node read from SysFS had negative value (-1), but there must be at least one NUMA node, so returning NUMA node zero. See more at https://github.com/torvalds/linux/blob/v6.0/Documentation/ABI/testing/sysfs-bus-pci#L344-L355\n",
      "2023-11-14 17:00:39.486730: I tensorflow/compiler/xla/stream_executor/cuda/cuda_gpu_executor.cc:894] successful NUMA node read from SysFS had negative value (-1), but there must be at least one NUMA node, so returning NUMA node zero. See more at https://github.com/torvalds/linux/blob/v6.0/Documentation/ABI/testing/sysfs-bus-pci#L344-L355\n",
      "2023-11-14 17:00:39.487071: I tensorflow/compiler/xla/stream_executor/cuda/cuda_gpu_executor.cc:894] successful NUMA node read from SysFS had negative value (-1), but there must be at least one NUMA node, so returning NUMA node zero. See more at https://github.com/torvalds/linux/blob/v6.0/Documentation/ABI/testing/sysfs-bus-pci#L344-L355\n",
      "2023-11-14 17:00:39.487199: I tensorflow/core/common_runtime/gpu/gpu_device.cc:1886] Created device /job:localhost/replica:0/task:0/device:GPU:0 with 20054 MB memory:  -> device: 0, name: NVIDIA GeForce RTX 3090, pci bus id: 0000:01:00.0, compute capability: 8.6\n",
      "/home/peter/mambaforge/envs/spatialde/lib/python3.9/site-packages/anndata/__init__.py:51: FutureWarning: `anndata.read` is deprecated, use `anndata.read_h5ad` instead. `ad.read` will be removed in mid 2024.\n",
      "  warnings.warn(\n",
      "2023-11-14 17:00:39.491607: I tensorflow/compiler/xla/stream_executor/cuda/cuda_gpu_executor.cc:894] successful NUMA node read from SysFS had negative value (-1), but there must be at least one NUMA node, so returning NUMA node zero. See more at https://github.com/torvalds/linux/blob/v6.0/Documentation/ABI/testing/sysfs-bus-pci#L344-L355\n",
      "2023-11-14 17:00:39.492461: I tensorflow/compiler/xla/stream_executor/cuda/cuda_gpu_executor.cc:894] successful NUMA node read from SysFS had negative value (-1), but there must be at least one NUMA node, so returning NUMA node zero. See more at https://github.com/torvalds/linux/blob/v6.0/Documentation/ABI/testing/sysfs-bus-pci#L344-L355\n",
      "2023-11-14 17:00:39.498416: I tensorflow/compiler/xla/stream_executor/cuda/cuda_gpu_executor.cc:894] successful NUMA node read from SysFS had negative value (-1), but there must be at least one NUMA node, so returning NUMA node zero. See more at https://github.com/torvalds/linux/blob/v6.0/Documentation/ABI/testing/sysfs-bus-pci#L344-L355\n",
      "2023-11-14 17:00:39.498668: I tensorflow/compiler/xla/stream_executor/cuda/cuda_gpu_executor.cc:894] successful NUMA node read from SysFS had negative value (-1), but there must be at least one NUMA node, so returning NUMA node zero. See more at https://github.com/torvalds/linux/blob/v6.0/Documentation/ABI/testing/sysfs-bus-pci#L344-L355\n",
      "2023-11-14 17:00:39.499861: I tensorflow/compiler/xla/stream_executor/cuda/cuda_gpu_executor.cc:894] successful NUMA node read from SysFS had negative value (-1), but there must be at least one NUMA node, so returning NUMA node zero. See more at https://github.com/torvalds/linux/blob/v6.0/Documentation/ABI/testing/sysfs-bus-pci#L344-L355\n",
      "2023-11-14 17:00:39.500168: I tensorflow/compiler/xla/stream_executor/cuda/cuda_gpu_executor.cc:894] successful NUMA node read from SysFS had negative value (-1), but there must be at least one NUMA node, so returning NUMA node zero. See more at https://github.com/torvalds/linux/blob/v6.0/Documentation/ABI/testing/sysfs-bus-pci#L344-L355\n",
      "2023-11-14 17:00:39.503143: I tensorflow/compiler/xla/stream_executor/cuda/cuda_gpu_executor.cc:894] successful NUMA node read from SysFS had negative value (-1), but there must be at least one NUMA node, so returning NUMA node zero. See more at https://github.com/torvalds/linux/blob/v6.0/Documentation/ABI/testing/sysfs-bus-pci#L344-L355\n",
      "2023-11-14 17:00:39.503451: I tensorflow/compiler/xla/stream_executor/cuda/cuda_gpu_executor.cc:894] successful NUMA node read from SysFS had negative value (-1), but there must be at least one NUMA node, so returning NUMA node zero. See more at https://github.com/torvalds/linux/blob/v6.0/Documentation/ABI/testing/sysfs-bus-pci#L344-L355\n",
      "2023-11-14 17:00:39.503558: I tensorflow/compiler/xla/stream_executor/cuda/cuda_gpu_executor.cc:894] successful NUMA node read from SysFS had negative value (-1), but there must be at least one NUMA node, so returning NUMA node zero. See more at https://github.com/torvalds/linux/blob/v6.0/Documentation/ABI/testing/sysfs-bus-pci#L344-L355\n",
      "2023-11-14 17:00:39.503641: I tensorflow/compiler/xla/stream_executor/cuda/cuda_gpu_executor.cc:894] successful NUMA node read from SysFS had negative value (-1), but there must be at least one NUMA node, so returning NUMA node zero. See more at https://github.com/torvalds/linux/blob/v6.0/Documentation/ABI/testing/sysfs-bus-pci#L344-L355\n",
      "2023-11-14 17:00:39.503772: I tensorflow/compiler/xla/stream_executor/cuda/cuda_gpu_executor.cc:894] successful NUMA node read from SysFS had negative value (-1), but there must be at least one NUMA node, so returning NUMA node zero. See more at https://github.com/torvalds/linux/blob/v6.0/Documentation/ABI/testing/sysfs-bus-pci#L344-L355\n",
      "2023-11-14 17:00:39.503887: I tensorflow/compiler/xla/stream_executor/cuda/cuda_gpu_executor.cc:894] successful NUMA node read from SysFS had negative value (-1), but there must be at least one NUMA node, so returning NUMA node zero. See more at https://github.com/torvalds/linux/blob/v6.0/Documentation/ABI/testing/sysfs-bus-pci#L344-L355\n",
      "WARNING:tensorflow:From /home/peter/mambaforge/envs/spatialde/lib/python3.9/site-packages/SpatialDE/_internal/distance_cache.py:10: calling function (from tensorflow.python.eager.polymorphic_function.polymorphic_function) with experimental_compile is deprecated and will be removed in a future version.\n",
      "Instructions for updating:\n",
      "experimental_compile is deprecated, use jit_compile instead\n",
      "WARNING:tensorflow:From /home/peter/mambaforge/envs/spatialde/lib/python3.9/site-packages/tensorflow/python/util/deprecation.py:588: calling function (from tensorflow.python.eager.polymorphic_function.polymorphic_function) with experimental_relax_shapes is deprecated and will be removed in a future version.\n",
      "Instructions for updating:\n",
      "experimental_relax_shapes is deprecated, use reduce_retracing instead\n",
      "2023-11-14 17:00:39.528781: I tensorflow/compiler/xla/service/service.cc:168] XLA service 0x5628a4ca23f0 initialized for platform CUDA (this does not guarantee that XLA will be used). Devices:\n",
      "2023-11-14 17:00:39.528785: I tensorflow/compiler/xla/service/service.cc:168] XLA service 0x560ebc4a7680 initialized for platform CUDA (this does not guarantee that XLA will be used). Devices:\n",
      "2023-11-14 17:00:39.528804: I tensorflow/compiler/xla/service/service.cc:176]   StreamExecutor device (0): NVIDIA GeForce RTX 3090, Compute Capability 8.6\n",
      "2023-11-14 17:00:39.528932: I tensorflow/compiler/xla/service/service.cc:176]   StreamExecutor device (0): NVIDIA GeForce RTX 3090, Compute Capability 8.6\n",
      "2023-11-14 17:00:39.529052: I tensorflow/compiler/xla/service/service.cc:168] XLA service 0x55b5a324b730 initialized for platform CUDA (this does not guarantee that XLA will be used). Devices:\n",
      "2023-11-14 17:00:39.529068: I tensorflow/compiler/xla/service/service.cc:176]   StreamExecutor device (0): NVIDIA GeForce RTX 3090, Compute Capability 8.6\n",
      "WARNING:tensorflow:From /home/peter/mambaforge/envs/spatialde/lib/python3.9/site-packages/SpatialDE/_internal/distance_cache.py:10: calling function (from tensorflow.python.eager.polymorphic_function.polymorphic_function) with experimental_compile is deprecated and will be removed in a future version.\n",
      "Instructions for updating:\n",
      "experimental_compile is deprecated, use jit_compile instead\n",
      "WARNING:tensorflow:From /home/peter/mambaforge/envs/spatialde/lib/python3.9/site-packages/tensorflow/python/util/deprecation.py:588: calling function (from tensorflow.python.eager.polymorphic_function.polymorphic_function) with experimental_relax_shapes is deprecated and will be removed in a future version.\n",
      "Instructions for updating:\n",
      "experimental_relax_shapes is deprecated, use reduce_retracing instead\n",
      "2023-11-14 17:00:39.537977: I tensorflow/compiler/xla/stream_executor/cuda/cuda_gpu_executor.cc:894] successful NUMA node read from SysFS had negative value (-1), but there must be at least one NUMA node, so returning NUMA node zero. See more at https://github.com/torvalds/linux/blob/v6.0/Documentation/ABI/testing/sysfs-bus-pci#L344-L355\n",
      "2023-11-14 17:00:39.538976: I tensorflow/compiler/xla/stream_executor/cuda/cuda_gpu_executor.cc:894] successful NUMA node read from SysFS had negative value (-1), but there must be at least one NUMA node, so returning NUMA node zero. See more at https://github.com/torvalds/linux/blob/v6.0/Documentation/ABI/testing/sysfs-bus-pci#L344-L355\n",
      "2023-11-14 17:00:39.539607: I tensorflow/compiler/xla/stream_executor/cuda/cuda_gpu_executor.cc:894] successful NUMA node read from SysFS had negative value (-1), but there must be at least one NUMA node, so returning NUMA node zero. See more at https://github.com/torvalds/linux/blob/v6.0/Documentation/ABI/testing/sysfs-bus-pci#L344-L355\n",
      "2023-11-14 17:00:39.539697: I tensorflow/core/common_runtime/gpu/gpu_device.cc:1886] Created device /job:localhost/replica:0/task:0/device:GPU:0 with 19766 MB memory:  -> device: 0, name: NVIDIA GeForce RTX 3090, pci bus id: 0000:01:00.0, compute capability: 8.6\n",
      "/home/peter/mambaforge/envs/spatialde/lib/python3.9/site-packages/anndata/__init__.py:51: FutureWarning: `anndata.read` is deprecated, use `anndata.read_h5ad` instead. `ad.read` will be removed in mid 2024.\n",
      "  warnings.warn(\n",
      "2023-11-14 17:00:39.544813: I tensorflow/compiler/xla/stream_executor/cuda/cuda_gpu_executor.cc:894] successful NUMA node read from SysFS had negative value (-1), but there must be at least one NUMA node, so returning NUMA node zero. See more at https://github.com/torvalds/linux/blob/v6.0/Documentation/ABI/testing/sysfs-bus-pci#L344-L355\n",
      "2023-11-14 17:00:39.552195: I tensorflow/compiler/xla/stream_executor/cuda/cuda_gpu_executor.cc:894] successful NUMA node read from SysFS had negative value (-1), but there must be at least one NUMA node, so returning NUMA node zero. See more at https://github.com/torvalds/linux/blob/v6.0/Documentation/ABI/testing/sysfs-bus-pci#L344-L355\n",
      "2023-11-14 17:00:39.552681: I tensorflow/compiler/xla/stream_executor/cuda/cuda_gpu_executor.cc:894] successful NUMA node read from SysFS had negative value (-1), but there must be at least one NUMA node, so returning NUMA node zero. See more at https://github.com/torvalds/linux/blob/v6.0/Documentation/ABI/testing/sysfs-bus-pci#L344-L355\n",
      "2023-11-14 17:00:39.555242: I tensorflow/compiler/xla/stream_executor/cuda/cuda_gpu_executor.cc:894] successful NUMA node read from SysFS had negative value (-1), but there must be at least one NUMA node, so returning NUMA node zero. See more at https://github.com/torvalds/linux/blob/v6.0/Documentation/ABI/testing/sysfs-bus-pci#L344-L355\n",
      "2023-11-14 17:00:39.556712: I tensorflow/compiler/xla/stream_executor/cuda/cuda_gpu_executor.cc:894] successful NUMA node read from SysFS had negative value (-1), but there must be at least one NUMA node, so returning NUMA node zero. See more at https://github.com/torvalds/linux/blob/v6.0/Documentation/ABI/testing/sysfs-bus-pci#L344-L355\n",
      "2023-11-14 17:00:39.557125: I tensorflow/compiler/xla/stream_executor/cuda/cuda_gpu_executor.cc:894] successful NUMA node read from SysFS had negative value (-1), but there must be at least one NUMA node, so returning NUMA node zero. See more at https://github.com/torvalds/linux/blob/v6.0/Documentation/ABI/testing/sysfs-bus-pci#L344-L355\n",
      "2023-11-14 17:00:39.559545: I tensorflow/compiler/xla/stream_executor/cuda/cuda_gpu_executor.cc:894] successful NUMA node read from SysFS had negative value (-1), but there must be at least one NUMA node, so returning NUMA node zero. See more at https://github.com/torvalds/linux/blob/v6.0/Documentation/ABI/testing/sysfs-bus-pci#L344-L355\n",
      "2023-11-14 17:00:39.559964: I tensorflow/compiler/xla/stream_executor/cuda/cuda_dnn.cc:442] Loaded cuDNN version 8700\n",
      "WARNING:tensorflow:From /home/peter/mambaforge/envs/spatialde/lib/python3.9/site-packages/SpatialDE/_internal/distance_cache.py:10: calling function (from tensorflow.python.eager.polymorphic_function.polymorphic_function) with experimental_compile is deprecated and will be removed in a future version.\n",
      "Instructions for updating:\n",
      "experimental_compile is deprecated, use jit_compile instead\n",
      "2023-11-14 17:00:39.562773: I tensorflow/tsl/platform/default/subprocess.cc:304] Start cannot spawn child process: No such file or directory\n",
      "WARNING:tensorflow:From /home/peter/mambaforge/envs/spatialde/lib/python3.9/site-packages/tensorflow/python/util/deprecation.py:588: calling function (from tensorflow.python.eager.polymorphic_function.polymorphic_function) with experimental_relax_shapes is deprecated and will be removed in a future version.\n",
      "Instructions for updating:\n",
      "experimental_relax_shapes is deprecated, use reduce_retracing instead\n",
      "2023-11-14 17:00:39.566154: I tensorflow/compiler/xla/stream_executor/cuda/cuda_gpu_executor.cc:894] successful NUMA node read from SysFS had negative value (-1), but there must be at least one NUMA node, so returning NUMA node zero. See more at https://github.com/torvalds/linux/blob/v6.0/Documentation/ABI/testing/sysfs-bus-pci#L344-L355\n",
      "2023-11-14 17:00:39.596788: I tensorflow/compiler/xla/stream_executor/cuda/cuda_dnn.cc:442] Loaded cuDNN version 8700\n",
      "2023-11-14 17:00:39.597178: I tensorflow/compiler/xla/stream_executor/cuda/cuda_gpu_executor.cc:894] successful NUMA node read from SysFS had negative value (-1), but there must be at least one NUMA node, so returning NUMA node zero. See more at https://github.com/torvalds/linux/blob/v6.0/Documentation/ABI/testing/sysfs-bus-pci#L344-L355\n",
      "2023-11-14 17:00:39.599250: I tensorflow/compiler/xla/stream_executor/cuda/cuda_dnn.cc:442] Loaded cuDNN version 8700\n",
      "2023-11-14 17:00:39.599691: I tensorflow/tsl/platform/default/subprocess.cc:304] Start cannot spawn child process: No such file or directory\n",
      "2023-11-14 17:00:39.600383: I tensorflow/compiler/xla/service/service.cc:168] XLA service 0x55ed9b515150 initialized for platform CUDA (this does not guarantee that XLA will be used). Devices:\n",
      "2023-11-14 17:00:39.600387: I tensorflow/compiler/xla/stream_executor/cuda/cuda_gpu_executor.cc:894] successful NUMA node read from SysFS had negative value (-1), but there must be at least one NUMA node, so returning NUMA node zero. See more at https://github.com/torvalds/linux/blob/v6.0/Documentation/ABI/testing/sysfs-bus-pci#L344-L355\n",
      "2023-11-14 17:00:39.600425: I tensorflow/compiler/xla/service/service.cc:176]   StreamExecutor device (0): NVIDIA GeForce RTX 3090, Compute Capability 8.6\n",
      "2023-11-14 17:00:39.600921: I tensorflow/compiler/xla/stream_executor/cuda/cuda_gpu_executor.cc:894] successful NUMA node read from SysFS had negative value (-1), but there must be at least one NUMA node, so returning NUMA node zero. See more at https://github.com/torvalds/linux/blob/v6.0/Documentation/ABI/testing/sysfs-bus-pci#L344-L355\n",
      "2023-11-14 17:00:39.601586: I tensorflow/compiler/xla/stream_executor/cuda/cuda_gpu_executor.cc:894] successful NUMA node read from SysFS had negative value (-1), but there must be at least one NUMA node, so returning NUMA node zero. See more at https://github.com/torvalds/linux/blob/v6.0/Documentation/ABI/testing/sysfs-bus-pci#L344-L355\n",
      "2023-11-14 17:00:39.601762: I tensorflow/tsl/platform/default/subprocess.cc:304] Start cannot spawn child process: No such file or directory\n",
      "2023-11-14 17:00:39.601940: I tensorflow/compiler/xla/stream_executor/cuda/cuda_gpu_executor.cc:894] successful NUMA node read from SysFS had negative value (-1), but there must be at least one NUMA node, so returning NUMA node zero. See more at https://github.com/torvalds/linux/blob/v6.0/Documentation/ABI/testing/sysfs-bus-pci#L344-L355\n",
      "2023-11-14 17:00:39.608167: I tensorflow/compiler/xla/stream_executor/cuda/cuda_gpu_executor.cc:894] successful NUMA node read from SysFS had negative value (-1), but there must be at least one NUMA node, so returning NUMA node zero. See more at https://github.com/torvalds/linux/blob/v6.0/Documentation/ABI/testing/sysfs-bus-pci#L344-L355\n",
      "2023-11-14 17:00:39.642094: I tensorflow/compiler/xla/stream_executor/cuda/cuda_gpu_executor.cc:894] successful NUMA node read from SysFS had negative value (-1), but there must be at least one NUMA node, so returning NUMA node zero. See more at https://github.com/torvalds/linux/blob/v6.0/Documentation/ABI/testing/sysfs-bus-pci#L344-L355\n",
      "2023-11-14 17:00:39.645501: I tensorflow/compiler/xla/stream_executor/cuda/cuda_gpu_executor.cc:894] successful NUMA node read from SysFS had negative value (-1), but there must be at least one NUMA node, so returning NUMA node zero. See more at https://github.com/torvalds/linux/blob/v6.0/Documentation/ABI/testing/sysfs-bus-pci#L344-L355\n",
      "2023-11-14 17:00:39.646964: I tensorflow/compiler/xla/stream_executor/cuda/cuda_gpu_executor.cc:894] successful NUMA node read from SysFS had negative value (-1), but there must be at least one NUMA node, so returning NUMA node zero. See more at https://github.com/torvalds/linux/blob/v6.0/Documentation/ABI/testing/sysfs-bus-pci#L344-L355\n",
      "2023-11-14 17:00:39.647368: I tensorflow/compiler/xla/stream_executor/cuda/cuda_gpu_executor.cc:894] successful NUMA node read from SysFS had negative value (-1), but there must be at least one NUMA node, so returning NUMA node zero. See more at https://github.com/torvalds/linux/blob/v6.0/Documentation/ABI/testing/sysfs-bus-pci#L344-L355\n",
      "2023-11-14 17:00:39.689670: I tensorflow/compiler/xla/stream_executor/cuda/cuda_gpu_executor.cc:894] successful NUMA node read from SysFS had negative value (-1), but there must be at least one NUMA node, so returning NUMA node zero. See more at https://github.com/torvalds/linux/blob/v6.0/Documentation/ABI/testing/sysfs-bus-pci#L344-L355\n",
      "2023-11-14 17:00:39.689819: I tensorflow/compiler/xla/stream_executor/cuda/cuda_gpu_executor.cc:894] successful NUMA node read from SysFS had negative value (-1), but there must be at least one NUMA node, so returning NUMA node zero. See more at https://github.com/torvalds/linux/blob/v6.0/Documentation/ABI/testing/sysfs-bus-pci#L344-L355\n",
      "2023-11-14 17:00:39.690056: I tensorflow/compiler/xla/stream_executor/cuda/cuda_gpu_executor.cc:894] successful NUMA node read from SysFS had negative value (-1), but there must be at least one NUMA node, so returning NUMA node zero. See more at https://github.com/torvalds/linux/blob/v6.0/Documentation/ABI/testing/sysfs-bus-pci#L344-L355\n",
      "2023-11-14 17:00:39.690272: I tensorflow/compiler/xla/stream_executor/cuda/cuda_gpu_executor.cc:894] successful NUMA node read from SysFS had negative value (-1), but there must be at least one NUMA node, so returning NUMA node zero. See more at https://github.com/torvalds/linux/blob/v6.0/Documentation/ABI/testing/sysfs-bus-pci#L344-L355\n",
      "2023-11-14 17:00:39.690323: I tensorflow/compiler/xla/stream_executor/cuda/cuda_gpu_executor.cc:894] successful NUMA node read from SysFS had negative value (-1), but there must be at least one NUMA node, so returning NUMA node zero. See more at https://github.com/torvalds/linux/blob/v6.0/Documentation/ABI/testing/sysfs-bus-pci#L344-L355\n",
      "2023-11-14 17:00:39.690769: I tensorflow/core/common_runtime/gpu/gpu_device.cc:1886] Created device /job:localhost/replica:0/task:0/device:GPU:0 with 18664 MB memory:  -> device: 0, name: NVIDIA GeForce RTX 3090, pci bus id: 0000:01:00.0, compute capability: 8.6\n",
      "2023-11-14 17:00:39.690937: I tensorflow/compiler/xla/stream_executor/cuda/cuda_gpu_executor.cc:894] successful NUMA node read from SysFS had negative value (-1), but there must be at least one NUMA node, so returning NUMA node zero. See more at https://github.com/torvalds/linux/blob/v6.0/Documentation/ABI/testing/sysfs-bus-pci#L344-L355\n",
      "2023-11-14 17:00:39.692269: I tensorflow/compiler/xla/service/service.cc:168] XLA service 0x562a9d857b90 initialized for platform CUDA (this does not guarantee that XLA will be used). Devices:\n",
      "2023-11-14 17:00:39.692292: I tensorflow/compiler/xla/service/service.cc:176]   StreamExecutor device (0): NVIDIA GeForce RTX 3090, Compute Capability 8.6\n",
      "/home/peter/mambaforge/envs/spatialde/lib/python3.9/site-packages/anndata/__init__.py:51: FutureWarning: `anndata.read` is deprecated, use `anndata.read_h5ad` instead. `ad.read` will be removed in mid 2024.\n",
      "  warnings.warn(\n",
      "2023-11-14 17:00:39.693628: I tensorflow/core/common_runtime/gpu/gpu_device.cc:1886] Created device /job:localhost/replica:0/task:0/device:GPU:0 with 18666 MB memory:  -> device: 0, name: NVIDIA GeForce RTX 3090, pci bus id: 0000:01:00.0, compute capability: 8.6\n",
      "/home/peter/mambaforge/envs/spatialde/lib/python3.9/site-packages/anndata/__init__.py:51: FutureWarning: `anndata.read` is deprecated, use `anndata.read_h5ad` instead. `ad.read` will be removed in mid 2024.\n",
      "  warnings.warn(\n",
      "2023-11-14 17:00:39.695954: I tensorflow/compiler/xla/stream_executor/cuda/cuda_dnn.cc:442] Loaded cuDNN version 8700\n",
      "2023-11-14 17:00:39.698253: I tensorflow/tsl/platform/default/subprocess.cc:304] Start cannot spawn child process: No such file or directory\n",
      "2023-11-14 17:00:39.698783: I ./tensorflow/compiler/jit/device_compiler.h:186] Compiled cluster using XLA!  This line is logged at most once for the lifetime of the process.\n",
      "2023-11-14 17:00:39.723969: I tensorflow/compiler/xla/stream_executor/cuda/cuda_dnn.cc:442] Loaded cuDNN version 8700\n",
      "2023-11-14 17:00:39.726763: I tensorflow/tsl/platform/default/subprocess.cc:304] Start cannot spawn child process: No such file or directory\n",
      "2023-11-14 17:00:39.735827: I tensorflow/compiler/xla/stream_executor/cuda/cuda_gpu_executor.cc:894] successful NUMA node read from SysFS had negative value (-1), but there must be at least one NUMA node, so returning NUMA node zero. See more at https://github.com/torvalds/linux/blob/v6.0/Documentation/ABI/testing/sysfs-bus-pci#L344-L355\n",
      "2023-11-14 17:00:39.736089: I tensorflow/compiler/xla/stream_executor/cuda/cuda_gpu_executor.cc:894] successful NUMA node read from SysFS had negative value (-1), but there must be at least one NUMA node, so returning NUMA node zero. See more at https://github.com/torvalds/linux/blob/v6.0/Documentation/ABI/testing/sysfs-bus-pci#L344-L355\n",
      "2023-11-14 17:00:39.736292: I tensorflow/compiler/xla/stream_executor/cuda/cuda_gpu_executor.cc:894] successful NUMA node read from SysFS had negative value (-1), but there must be at least one NUMA node, so returning NUMA node zero. See more at https://github.com/torvalds/linux/blob/v6.0/Documentation/ABI/testing/sysfs-bus-pci#L344-L355\n",
      "2023-11-14 17:00:39.736468: I tensorflow/core/common_runtime/gpu/gpu_device.cc:1886] Created device /job:localhost/replica:0/task:0/device:GPU:0 with 17710 MB memory:  -> device: 0, name: NVIDIA GeForce RTX 3090, pci bus id: 0000:01:00.0, compute capability: 8.6\n",
      "/home/peter/mambaforge/envs/spatialde/lib/python3.9/site-packages/anndata/__init__.py:51: FutureWarning: `anndata.read` is deprecated, use `anndata.read_h5ad` instead. `ad.read` will be removed in mid 2024.\n",
      "  warnings.warn(\n",
      "2023-11-14 17:00:39.744442: I tensorflow/compiler/xla/stream_executor/cuda/cuda_gpu_executor.cc:894] successful NUMA node read from SysFS had negative value (-1), but there must be at least one NUMA node, so returning NUMA node zero. See more at https://github.com/torvalds/linux/blob/v6.0/Documentation/ABI/testing/sysfs-bus-pci#L344-L355\n",
      "2023-11-14 17:00:39.744586: I tensorflow/compiler/xla/stream_executor/cuda/cuda_gpu_executor.cc:894] successful NUMA node read from SysFS had negative value (-1), but there must be at least one NUMA node, so returning NUMA node zero. See more at https://github.com/torvalds/linux/blob/v6.0/Documentation/ABI/testing/sysfs-bus-pci#L344-L355\n",
      "2023-11-14 17:00:39.744788: I tensorflow/compiler/xla/stream_executor/cuda/cuda_gpu_executor.cc:894] successful NUMA node read from SysFS had negative value (-1), but there must be at least one NUMA node, so returning NUMA node zero. See more at https://github.com/torvalds/linux/blob/v6.0/Documentation/ABI/testing/sysfs-bus-pci#L344-L355\n",
      "2023-11-14 17:00:39.744953: I tensorflow/compiler/xla/stream_executor/cuda/cuda_gpu_executor.cc:894] successful NUMA node read from SysFS had negative value (-1), but there must be at least one NUMA node, so returning NUMA node zero. See more at https://github.com/torvalds/linux/blob/v6.0/Documentation/ABI/testing/sysfs-bus-pci#L344-L355\n",
      "2023-11-14 17:00:39.745014: I tensorflow/compiler/xla/stream_executor/cuda/cuda_gpu_executor.cc:894] successful NUMA node read from SysFS had negative value (-1), but there must be at least one NUMA node, so returning NUMA node zero. See more at https://github.com/torvalds/linux/blob/v6.0/Documentation/ABI/testing/sysfs-bus-pci#L344-L355\n",
      "2023-11-14 17:00:39.745157: I tensorflow/core/common_runtime/gpu/gpu_device.cc:1886] Created device /job:localhost/replica:0/task:0/device:GPU:0 with 17506 MB memory:  -> device: 0, name: NVIDIA GeForce RTX 3090, pci bus id: 0000:01:00.0, compute capability: 8.6\n",
      "2023-11-14 17:00:39.745166: I tensorflow/compiler/xla/stream_executor/cuda/cuda_gpu_executor.cc:894] successful NUMA node read from SysFS had negative value (-1), but there must be at least one NUMA node, so returning NUMA node zero. See more at https://github.com/torvalds/linux/blob/v6.0/Documentation/ABI/testing/sysfs-bus-pci#L344-L355\n",
      "2023-11-14 17:00:39.745306: I tensorflow/core/common_runtime/gpu/gpu_device.cc:1886] Created device /job:localhost/replica:0/task:0/device:GPU:0 with 17506 MB memory:  -> device: 0, name: NVIDIA GeForce RTX 3090, pci bus id: 0000:01:00.0, compute capability: 8.6\n",
      "2023-11-14 17:00:39.747076: I ./tensorflow/compiler/jit/device_compiler.h:186] Compiled cluster using XLA!  This line is logged at most once for the lifetime of the process.\n",
      "2023-11-14 17:00:39.747292: I ./tensorflow/compiler/jit/device_compiler.h:186] Compiled cluster using XLA!  This line is logged at most once for the lifetime of the process.\n",
      "/home/peter/mambaforge/envs/spatialde/lib/python3.9/site-packages/anndata/__init__.py:51: FutureWarning: `anndata.read` is deprecated, use `anndata.read_h5ad` instead. `ad.read` will be removed in mid 2024.\n",
      "  warnings.warn(\n",
      "/home/peter/mambaforge/envs/spatialde/lib/python3.9/site-packages/anndata/__init__.py:51: FutureWarning: `anndata.read` is deprecated, use `anndata.read_h5ad` instead. `ad.read` will be removed in mid 2024.\n",
      "  warnings.warn(\n",
      "2023-11-14 17:00:39.814964: I ./tensorflow/compiler/jit/device_compiler.h:186] Compiled cluster using XLA!  This line is logged at most once for the lifetime of the process.\n",
      "WARNING:tensorflow:From /home/peter/mambaforge/envs/spatialde/lib/python3.9/site-packages/SpatialDE/_internal/distance_cache.py:10: calling function (from tensorflow.python.eager.polymorphic_function.polymorphic_function) with experimental_compile is deprecated and will be removed in a future version.\n",
      "Instructions for updating:\n",
      "experimental_compile is deprecated, use jit_compile instead\n",
      "WARNING:tensorflow:From /home/peter/mambaforge/envs/spatialde/lib/python3.9/site-packages/tensorflow/python/util/deprecation.py:588: calling function (from tensorflow.python.eager.polymorphic_function.polymorphic_function) with experimental_relax_shapes is deprecated and will be removed in a future version.\n",
      "Instructions for updating:\n",
      "experimental_relax_shapes is deprecated, use reduce_retracing instead\n",
      "2023-11-14 17:00:39.847644: I ./tensorflow/compiler/jit/device_compiler.h:186] Compiled cluster using XLA!  This line is logged at most once for the lifetime of the process.\n",
      "2023-11-14 17:00:39.856841: I tensorflow/compiler/xla/stream_executor/cuda/cuda_gpu_executor.cc:894] successful NUMA node read from SysFS had negative value (-1), but there must be at least one NUMA node, so returning NUMA node zero. See more at https://github.com/torvalds/linux/blob/v6.0/Documentation/ABI/testing/sysfs-bus-pci#L344-L355\n",
      "2023-11-14 17:00:39.861894: I tensorflow/compiler/xla/stream_executor/cuda/cuda_gpu_executor.cc:894] successful NUMA node read from SysFS had negative value (-1), but there must be at least one NUMA node, so returning NUMA node zero. See more at https://github.com/torvalds/linux/blob/v6.0/Documentation/ABI/testing/sysfs-bus-pci#L344-L355\n",
      "2023-11-14 17:00:39.862161: I tensorflow/compiler/xla/stream_executor/cuda/cuda_gpu_executor.cc:894] successful NUMA node read from SysFS had negative value (-1), but there must be at least one NUMA node, so returning NUMA node zero. See more at https://github.com/torvalds/linux/blob/v6.0/Documentation/ABI/testing/sysfs-bus-pci#L344-L355\n",
      "2023-11-14 17:00:39.863367: I tensorflow/compiler/xla/stream_executor/cuda/cuda_gpu_executor.cc:894] successful NUMA node read from SysFS had negative value (-1), but there must be at least one NUMA node, so returning NUMA node zero. See more at https://github.com/torvalds/linux/blob/v6.0/Documentation/ABI/testing/sysfs-bus-pci#L344-L355\n",
      "2023-11-14 17:00:39.863557: I tensorflow/compiler/xla/stream_executor/cuda/cuda_gpu_executor.cc:894] successful NUMA node read from SysFS had negative value (-1), but there must be at least one NUMA node, so returning NUMA node zero. See more at https://github.com/torvalds/linux/blob/v6.0/Documentation/ABI/testing/sysfs-bus-pci#L344-L355\n",
      "2023-11-14 17:00:39.863637: I tensorflow/compiler/xla/stream_executor/cuda/cuda_gpu_executor.cc:894] successful NUMA node read from SysFS had negative value (-1), but there must be at least one NUMA node, so returning NUMA node zero. See more at https://github.com/torvalds/linux/blob/v6.0/Documentation/ABI/testing/sysfs-bus-pci#L344-L355\n",
      "WARNING:tensorflow:From /home/peter/mambaforge/envs/spatialde/lib/python3.9/site-packages/SpatialDE/_internal/distance_cache.py:10: calling function (from tensorflow.python.eager.polymorphic_function.polymorphic_function) with experimental_compile is deprecated and will be removed in a future version.\n",
      "Instructions for updating:\n",
      "experimental_compile is deprecated, use jit_compile instead\n",
      "WARNING:tensorflow:From /home/peter/mambaforge/envs/spatialde/lib/python3.9/site-packages/tensorflow/python/util/deprecation.py:588: calling function (from tensorflow.python.eager.polymorphic_function.polymorphic_function) with experimental_relax_shapes is deprecated and will be removed in a future version.\n",
      "Instructions for updating:\n",
      "experimental_relax_shapes is deprecated, use reduce_retracing instead\n",
      "2023-11-14 17:00:39.915884: I tensorflow/compiler/xla/stream_executor/cuda/cuda_gpu_executor.cc:894] successful NUMA node read from SysFS had negative value (-1), but there must be at least one NUMA node, so returning NUMA node zero. See more at https://github.com/torvalds/linux/blob/v6.0/Documentation/ABI/testing/sysfs-bus-pci#L344-L355\n",
      "2023-11-14 17:00:39.916434: I tensorflow/compiler/xla/stream_executor/cuda/cuda_gpu_executor.cc:894] successful NUMA node read from SysFS had negative value (-1), but there must be at least one NUMA node, so returning NUMA node zero. See more at https://github.com/torvalds/linux/blob/v6.0/Documentation/ABI/testing/sysfs-bus-pci#L344-L355\n",
      "2023-11-14 17:00:39.916662: I tensorflow/compiler/xla/stream_executor/cuda/cuda_gpu_executor.cc:894] successful NUMA node read from SysFS had negative value (-1), but there must be at least one NUMA node, so returning NUMA node zero. See more at https://github.com/torvalds/linux/blob/v6.0/Documentation/ABI/testing/sysfs-bus-pci#L344-L355\n",
      "2023-11-14 17:00:39.916676: I tensorflow/compiler/xla/stream_executor/cuda/cuda_gpu_executor.cc:894] successful NUMA node read from SysFS had negative value (-1), but there must be at least one NUMA node, so returning NUMA node zero. See more at https://github.com/torvalds/linux/blob/v6.0/Documentation/ABI/testing/sysfs-bus-pci#L344-L355\n",
      "2023-11-14 17:00:39.916847: I tensorflow/core/common_runtime/gpu/gpu_device.cc:1886] Created device /job:localhost/replica:0/task:0/device:GPU:0 with 17249 MB memory:  -> device: 0, name: NVIDIA GeForce RTX 3090, pci bus id: 0000:01:00.0, compute capability: 8.6\n",
      "/home/peter/mambaforge/envs/spatialde/lib/python3.9/site-packages/anndata/__init__.py:51: FutureWarning: `anndata.read` is deprecated, use `anndata.read_h5ad` instead. `ad.read` will be removed in mid 2024.\n",
      "  warnings.warn(\n",
      "2023-11-14 17:00:39.922461: I tensorflow/compiler/xla/stream_executor/cuda/cuda_gpu_executor.cc:894] successful NUMA node read from SysFS had negative value (-1), but there must be at least one NUMA node, so returning NUMA node zero. See more at https://github.com/torvalds/linux/blob/v6.0/Documentation/ABI/testing/sysfs-bus-pci#L344-L355\n",
      "2023-11-14 17:00:39.922724: I tensorflow/compiler/xla/stream_executor/cuda/cuda_gpu_executor.cc:894] successful NUMA node read from SysFS had negative value (-1), but there must be at least one NUMA node, so returning NUMA node zero. See more at https://github.com/torvalds/linux/blob/v6.0/Documentation/ABI/testing/sysfs-bus-pci#L344-L355\n",
      "2023-11-14 17:00:39.924276: I tensorflow/compiler/xla/stream_executor/cuda/cuda_gpu_executor.cc:894] successful NUMA node read from SysFS had negative value (-1), but there must be at least one NUMA node, so returning NUMA node zero. See more at https://github.com/torvalds/linux/blob/v6.0/Documentation/ABI/testing/sysfs-bus-pci#L344-L355\n",
      "2023-11-14 17:00:39.924488: I tensorflow/compiler/xla/stream_executor/cuda/cuda_gpu_executor.cc:894] successful NUMA node read from SysFS had negative value (-1), but there must be at least one NUMA node, so returning NUMA node zero. See more at https://github.com/torvalds/linux/blob/v6.0/Documentation/ABI/testing/sysfs-bus-pci#L344-L355\n",
      "2023-11-14 17:00:39.924635: I tensorflow/compiler/xla/stream_executor/cuda/cuda_gpu_executor.cc:894] successful NUMA node read from SysFS had negative value (-1), but there must be at least one NUMA node, so returning NUMA node zero. See more at https://github.com/torvalds/linux/blob/v6.0/Documentation/ABI/testing/sysfs-bus-pci#L344-L355\n",
      "WARNING:tensorflow:From /home/peter/mambaforge/envs/spatialde/lib/python3.9/site-packages/SpatialDE/_internal/distance_cache.py:10: calling function (from tensorflow.python.eager.polymorphic_function.polymorphic_function) with experimental_compile is deprecated and will be removed in a future version.\n",
      "Instructions for updating:\n",
      "experimental_compile is deprecated, use jit_compile instead\n",
      "WARNING:tensorflow:From /home/peter/mambaforge/envs/spatialde/lib/python3.9/site-packages/tensorflow/python/util/deprecation.py:588: calling function (from tensorflow.python.eager.polymorphic_function.polymorphic_function) with experimental_relax_shapes is deprecated and will be removed in a future version.\n",
      "Instructions for updating:\n",
      "experimental_relax_shapes is deprecated, use reduce_retracing instead\n",
      "2023-11-14 17:00:39.967335: I tensorflow/compiler/xla/service/service.cc:168] XLA service 0x55e4dc1cf630 initialized for platform CUDA (this does not guarantee that XLA will be used). Devices:\n",
      "2023-11-14 17:00:39.967372: I tensorflow/compiler/xla/service/service.cc:176]   StreamExecutor device (0): NVIDIA GeForce RTX 3090, Compute Capability 8.6\n",
      "2023-11-14 17:00:39.969114: I tensorflow/compiler/xla/stream_executor/cuda/cuda_gpu_executor.cc:894] successful NUMA node read from SysFS had negative value (-1), but there must be at least one NUMA node, so returning NUMA node zero. See more at https://github.com/torvalds/linux/blob/v6.0/Documentation/ABI/testing/sysfs-bus-pci#L344-L355\n",
      "2023-11-14 17:00:39.974508: I tensorflow/compiler/xla/service/service.cc:168] XLA service 0x55edcba4a5e0 initialized for platform CUDA (this does not guarantee that XLA will be used). Devices:\n",
      "2023-11-14 17:00:39.974537: I tensorflow/compiler/xla/service/service.cc:176]   StreamExecutor device (0): NVIDIA GeForce RTX 3090, Compute Capability 8.6\n",
      "2023-11-14 17:00:39.974892: I tensorflow/compiler/xla/stream_executor/cuda/cuda_gpu_executor.cc:894] successful NUMA node read from SysFS had negative value (-1), but there must be at least one NUMA node, so returning NUMA node zero. See more at https://github.com/torvalds/linux/blob/v6.0/Documentation/ABI/testing/sysfs-bus-pci#L344-L355\n",
      "2023-11-14 17:00:39.975666: I tensorflow/compiler/xla/stream_executor/cuda/cuda_gpu_executor.cc:894] successful NUMA node read from SysFS had negative value (-1), but there must be at least one NUMA node, so returning NUMA node zero. See more at https://github.com/torvalds/linux/blob/v6.0/Documentation/ABI/testing/sysfs-bus-pci#L344-L355\n",
      "2023-11-14 17:00:39.977658: I tensorflow/compiler/xla/service/service.cc:168] XLA service 0x564650751a30 initialized for platform CUDA (this does not guarantee that XLA will be used). Devices:\n",
      "2023-11-14 17:00:39.977695: I tensorflow/compiler/xla/service/service.cc:176]   StreamExecutor device (0): NVIDIA GeForce RTX 3090, Compute Capability 8.6\n",
      "2023-11-14 17:00:39.978114: I tensorflow/compiler/xla/stream_executor/cuda/cuda_gpu_executor.cc:894] successful NUMA node read from SysFS had negative value (-1), but there must be at least one NUMA node, so returning NUMA node zero. See more at https://github.com/torvalds/linux/blob/v6.0/Documentation/ABI/testing/sysfs-bus-pci#L344-L355\n",
      "2023-11-14 17:00:39.979231: I tensorflow/compiler/xla/stream_executor/cuda/cuda_gpu_executor.cc:894] successful NUMA node read from SysFS had negative value (-1), but there must be at least one NUMA node, so returning NUMA node zero. See more at https://github.com/torvalds/linux/blob/v6.0/Documentation/ABI/testing/sysfs-bus-pci#L344-L355\n",
      "2023-11-14 17:00:39.979835: I tensorflow/compiler/xla/stream_executor/cuda/cuda_gpu_executor.cc:894] successful NUMA node read from SysFS had negative value (-1), but there must be at least one NUMA node, so returning NUMA node zero. See more at https://github.com/torvalds/linux/blob/v6.0/Documentation/ABI/testing/sysfs-bus-pci#L344-L355\n",
      "2023-11-14 17:00:40.000696: I tensorflow/compiler/xla/stream_executor/cuda/cuda_dnn.cc:442] Loaded cuDNN version 8700\n",
      "2023-11-14 17:00:40.000696: I tensorflow/compiler/xla/stream_executor/cuda/cuda_dnn.cc:442] Loaded cuDNN version 8700\n",
      "2023-11-14 17:00:40.003132: I tensorflow/tsl/platform/default/subprocess.cc:304] Start cannot spawn child process: No such file or directory\n",
      "2023-11-14 17:00:40.003691: I tensorflow/tsl/platform/default/subprocess.cc:304] Start cannot spawn child process: No such file or directory\n",
      "2023-11-14 17:00:40.016819: I tensorflow/compiler/xla/stream_executor/cuda/cuda_dnn.cc:442] Loaded cuDNN version 8700\n",
      "2023-11-14 17:00:40.019067: I tensorflow/tsl/platform/default/subprocess.cc:304] Start cannot spawn child process: No such file or directory\n",
      "2023-11-14 17:00:40.023430: I tensorflow/compiler/xla/stream_executor/cuda/cuda_gpu_executor.cc:894] successful NUMA node read from SysFS had negative value (-1), but there must be at least one NUMA node, so returning NUMA node zero. See more at https://github.com/torvalds/linux/blob/v6.0/Documentation/ABI/testing/sysfs-bus-pci#L344-L355\n",
      "2023-11-14 17:00:40.023680: I tensorflow/compiler/xla/stream_executor/cuda/cuda_gpu_executor.cc:894] successful NUMA node read from SysFS had negative value (-1), but there must be at least one NUMA node, so returning NUMA node zero. See more at https://github.com/torvalds/linux/blob/v6.0/Documentation/ABI/testing/sysfs-bus-pci#L344-L355\n",
      "2023-11-14 17:00:40.023787: I tensorflow/compiler/xla/stream_executor/cuda/cuda_gpu_executor.cc:894] successful NUMA node read from SysFS had negative value (-1), but there must be at least one NUMA node, so returning NUMA node zero. See more at https://github.com/torvalds/linux/blob/v6.0/Documentation/ABI/testing/sysfs-bus-pci#L344-L355\n",
      "2023-11-14 17:00:40.023860: I tensorflow/core/common_runtime/gpu/gpu_device.cc:1886] Created device /job:localhost/replica:0/task:0/device:GPU:0 with 16588 MB memory:  -> device: 0, name: NVIDIA GeForce RTX 3090, pci bus id: 0000:01:00.0, compute capability: 8.6\n",
      "/home/peter/mambaforge/envs/spatialde/lib/python3.9/site-packages/anndata/__init__.py:51: FutureWarning: `anndata.read` is deprecated, use `anndata.read_h5ad` instead. `ad.read` will be removed in mid 2024.\n",
      "  warnings.warn(\n",
      "2023-11-14 17:00:40.039403: I tensorflow/compiler/xla/stream_executor/cuda/cuda_gpu_executor.cc:894] successful NUMA node read from SysFS had negative value (-1), but there must be at least one NUMA node, so returning NUMA node zero. See more at https://github.com/torvalds/linux/blob/v6.0/Documentation/ABI/testing/sysfs-bus-pci#L344-L355\n",
      "2023-11-14 17:00:40.040030: I tensorflow/compiler/xla/stream_executor/cuda/cuda_gpu_executor.cc:894] successful NUMA node read from SysFS had negative value (-1), but there must be at least one NUMA node, so returning NUMA node zero. See more at https://github.com/torvalds/linux/blob/v6.0/Documentation/ABI/testing/sysfs-bus-pci#L344-L355\n",
      "2023-11-14 17:00:40.040314: I tensorflow/compiler/xla/stream_executor/cuda/cuda_gpu_executor.cc:894] successful NUMA node read from SysFS had negative value (-1), but there must be at least one NUMA node, so returning NUMA node zero. See more at https://github.com/torvalds/linux/blob/v6.0/Documentation/ABI/testing/sysfs-bus-pci#L344-L355\n",
      "2023-11-14 17:00:40.040463: I tensorflow/core/common_runtime/gpu/gpu_device.cc:1886] Created device /job:localhost/replica:0/task:0/device:GPU:0 with 16152 MB memory:  -> device: 0, name: NVIDIA GeForce RTX 3090, pci bus id: 0000:01:00.0, compute capability: 8.6\n",
      "/home/peter/mambaforge/envs/spatialde/lib/python3.9/site-packages/anndata/__init__.py:51: FutureWarning: `anndata.read` is deprecated, use `anndata.read_h5ad` instead. `ad.read` will be removed in mid 2024.\n",
      "  warnings.warn(\n",
      "2023-11-14 17:00:40.089820: I tensorflow/compiler/xla/service/service.cc:168] XLA service 0x55c769bdab50 initialized for platform CUDA (this does not guarantee that XLA will be used). Devices:\n",
      "2023-11-14 17:00:40.089922: I tensorflow/compiler/xla/service/service.cc:176]   StreamExecutor device (0): NVIDIA GeForce RTX 3090, Compute Capability 8.6\n",
      "2023-11-14 17:00:40.101181: I tensorflow/compiler/xla/service/service.cc:168] XLA service 0x55d363d7b3d0 initialized for platform CUDA (this does not guarantee that XLA will be used). Devices:\n",
      "2023-11-14 17:00:40.101205: I tensorflow/compiler/xla/service/service.cc:176]   StreamExecutor device (0): NVIDIA GeForce RTX 3090, Compute Capability 8.6\n",
      "2023-11-14 17:00:40.106053: I ./tensorflow/compiler/jit/device_compiler.h:186] Compiled cluster using XLA!  This line is logged at most once for the lifetime of the process.\n",
      "2023-11-14 17:00:40.109651: I ./tensorflow/compiler/jit/device_compiler.h:186] Compiled cluster using XLA!  This line is logged at most once for the lifetime of the process.\n",
      "2023-11-14 17:00:40.123081: I tensorflow/compiler/xla/stream_executor/cuda/cuda_dnn.cc:442] Loaded cuDNN version 8700\n",
      "2023-11-14 17:00:40.123081: I tensorflow/compiler/xla/stream_executor/cuda/cuda_dnn.cc:442] Loaded cuDNN version 8700\n",
      "2023-11-14 17:00:40.125128: I tensorflow/tsl/platform/default/subprocess.cc:304] Start cannot spawn child process: No such file or directory\n",
      "2023-11-14 17:00:40.125285: I tensorflow/tsl/platform/default/subprocess.cc:304] Start cannot spawn child process: No such file or directory\n",
      "2023-11-14 17:00:40.137974: I ./tensorflow/compiler/jit/device_compiler.h:186] Compiled cluster using XLA!  This line is logged at most once for the lifetime of the process.\n",
      "2023-11-14 17:00:40.235106: I ./tensorflow/compiler/jit/device_compiler.h:186] Compiled cluster using XLA!  This line is logged at most once for the lifetime of the process.\n",
      "2023-11-14 17:00:40.235106: I ./tensorflow/compiler/jit/device_compiler.h:186] Compiled cluster using XLA!  This line is logged at most once for the lifetime of the process.\n",
      "2023-11-14 17:00:40.328083: I tensorflow/compiler/xla/service/service.cc:168] XLA service 0x55e932782380 initialized for platform CUDA (this does not guarantee that XLA will be used). Devices:\n",
      "2023-11-14 17:00:40.328108: I tensorflow/compiler/xla/service/service.cc:176]   StreamExecutor device (0): NVIDIA GeForce RTX 3090, Compute Capability 8.6\n",
      "2023-11-14 17:00:40.337784: I tensorflow/compiler/xla/service/service.cc:168] XLA service 0x55c2a9297560 initialized for platform CUDA (this does not guarantee that XLA will be used). Devices:\n",
      "2023-11-14 17:00:40.337818: I tensorflow/compiler/xla/service/service.cc:176]   StreamExecutor device (0): NVIDIA GeForce RTX 3090, Compute Capability 8.6\n",
      "2023-11-14 17:00:40.349254: I tensorflow/compiler/xla/stream_executor/cuda/cuda_dnn.cc:442] Loaded cuDNN version 8700\n",
      "  0%|          | 0/14494 [00:00<?, ?it/s]2023-11-14 17:00:40.352252: I tensorflow/tsl/platform/default/subprocess.cc:304] Start cannot spawn child process: No such file or directory\n",
      "  0%|          | 0/14494 [00:00<?, ?it/s]2023-11-14 17:00:40.361274: I tensorflow/compiler/xla/stream_executor/cuda/cuda_dnn.cc:442] Loaded cuDNN version 8700\n",
      "2023-11-14 17:00:40.363219: I tensorflow/tsl/platform/default/subprocess.cc:304] Start cannot spawn child process: No such file or directory\n",
      "  0%|          | 0/14494 [00:00<?, ?it/s]2023-11-14 17:00:40.404519: I tensorflow/core/grappler/optimizers/data/replicate_on_split.cc:32] Running replicate on split optimization\n",
      "2023-11-14 17:00:40.404519: I tensorflow/core/grappler/optimizers/data/replicate_on_split.cc:32] Running replicate on split optimization\n",
      "2023-11-14 17:00:40.424160: I tensorflow/core/grappler/optimizers/data/replicate_on_split.cc:32] Running replicate on split optimization\n",
      "2023-11-14 17:00:40.424371: I tensorflow/core/grappler/optimizers/data/replicate_on_split.cc:32] Running replicate on split optimization\n",
      "2023-11-14 17:00:40.432875: I tensorflow/core/grappler/optimizers/data/replicate_on_split.cc:32] Running replicate on split optimization\n",
      "2023-11-14 17:00:40.460323: I ./tensorflow/compiler/jit/device_compiler.h:186] Compiled cluster using XLA!  This line is logged at most once for the lifetime of the process.\n",
      "2023-11-14 17:00:40.476373: I ./tensorflow/compiler/jit/device_compiler.h:186] Compiled cluster using XLA!  This line is logged at most once for the lifetime of the process.\n",
      "  0%|          | 0/14494 [00:00<?, ?it/s]2023-11-14 17:00:40.517931: I tensorflow/compiler/xla/service/service.cc:168] XLA service 0x55590303c050 initialized for platform CUDA (this does not guarantee that XLA will be used). Devices:\n",
      "2023-11-14 17:00:40.518040: I tensorflow/compiler/xla/service/service.cc:176]   StreamExecutor device (0): NVIDIA GeForce RTX 3090, Compute Capability 8.6\n"
     ]
    },
    {
     "name": "stdout",
     "output_type": "stream",
     "text": [
      "input/06_post_annotation_analyses/adata_per_sn_per_ct/YOUNG_WT_2_EX_CA3.h5\n",
      "YOUNG_WT_2_EX_CA3\n",
      "input/06_post_annotation_analyses/adata_per_sn_per_ct/YOUNG_WT_2_MENINGES.h5\n",
      "YOUNG_WT_2_MENINGES\n",
      "input/06_post_annotation_analyses/adata_per_sn_per_ct/OLD_OVX_5_AMYGDALA.h5\n",
      "OLD_OVX_5_AMYGDALA\n",
      "input/06_post_annotation_analyses/adata_per_sn_per_ct/YOUNG_OVX_1_AMYGDALA.h5\n",
      "YOUNG_OVX_1_AMYGDALA\n",
      "input/06_post_annotation_analyses/adata_per_sn_per_ct/YOUNG_OVX_2_EX_L6.h5\n",
      "YOUNG_OVX_2_EX_L6\n",
      "input/06_post_annotation_analyses/adata_per_sn_per_ct/OLD_OVX_3_EX_L4.h5\n",
      "OLD_OVX_3_EX_L4\n",
      "input/06_post_annotation_analyses/adata_per_sn_per_ct/OLD_OVX_4_IN_Sst+.h5\n",
      "OLD_OVX_4_IN_Sst+\n"
     ]
    },
    {
     "name": "stderr",
     "output_type": "stream",
     "text": [
      "  0%|          | 0/14494 [00:00<?, ?it/s]2023-11-14 17:00:40.544468: I tensorflow/compiler/xla/stream_executor/cuda/cuda_dnn.cc:442] Loaded cuDNN version 8700\n",
      "2023-11-14 17:00:40.546324: I tensorflow/tsl/platform/default/subprocess.cc:304] Start cannot spawn child process: No such file or directory\n",
      "2023-11-14 17:00:40.551427: I tensorflow/core/grappler/optimizers/data/replicate_on_split.cc:32] Running replicate on split optimization\n",
      "2023-11-14 17:00:40.570496: I tensorflow/compiler/xla/service/service.cc:168] XLA service 0x562d6d7a6c80 initialized for platform CUDA (this does not guarantee that XLA will be used). Devices:\n",
      "2023-11-14 17:00:40.570611: I tensorflow/compiler/xla/service/service.cc:176]   StreamExecutor device (0): NVIDIA GeForce RTX 3090, Compute Capability 8.6\n",
      "  0%|          | 0/14494 [00:00<?, ?it/s]2023-11-14 17:00:40.595645: I tensorflow/core/grappler/optimizers/data/replicate_on_split.cc:32] Running replicate on split optimization\n",
      "2023-11-14 17:00:40.598230: I tensorflow/compiler/xla/stream_executor/cuda/cuda_dnn.cc:442] Loaded cuDNN version 8700\n",
      "2023-11-14 17:00:40.601149: I tensorflow/tsl/platform/default/subprocess.cc:304] Start cannot spawn child process: No such file or directory\n",
      "2023-11-14 17:00:40.618388: I tensorflow/core/grappler/optimizers/data/replicate_on_split.cc:32] Running replicate on split optimization\n",
      "  0%|          | 0/14494 [00:00<?, ?it/s]2023-11-14 17:00:40.664390: I ./tensorflow/compiler/jit/device_compiler.h:186] Compiled cluster using XLA!  This line is logged at most once for the lifetime of the process.\n",
      "  0%|          | 0/14494 [00:00<?, ?it/s]2023-11-14 17:00:40.674594: I tensorflow/compiler/xla/service/service.cc:168] XLA service 0x561a066a4ef0 initialized for platform CUDA (this does not guarantee that XLA will be used). Devices:\n",
      "2023-11-14 17:00:40.674729: I tensorflow/compiler/xla/service/service.cc:176]   StreamExecutor device (0): NVIDIA GeForce RTX 3090, Compute Capability 8.6\n",
      "2023-11-14 17:00:40.701260: I tensorflow/compiler/xla/stream_executor/cuda/cuda_dnn.cc:442] Loaded cuDNN version 8700\n",
      "2023-11-14 17:00:40.702358: I tensorflow/compiler/xla/service/service.cc:168] XLA service 0x55f8f0d00250 initialized for platform CUDA (this does not guarantee that XLA will be used). Devices:\n",
      "2023-11-14 17:00:40.702475: I tensorflow/compiler/xla/service/service.cc:176]   StreamExecutor device (0): NVIDIA GeForce RTX 3090, Compute Capability 8.6\n",
      "2023-11-14 17:00:40.703840: I tensorflow/tsl/platform/default/subprocess.cc:304] Start cannot spawn child process: No such file or directory\n",
      "2023-11-14 17:00:40.703924: I tensorflow/compiler/xla/service/service.cc:168] XLA service 0x55d076bfeef0 initialized for platform CUDA (this does not guarantee that XLA will be used). Devices:\n",
      "2023-11-14 17:00:40.703969: I tensorflow/compiler/xla/service/service.cc:176]   StreamExecutor device (0): NVIDIA GeForce RTX 3090, Compute Capability 8.6\n",
      "2023-11-14 17:00:40.711339: I tensorflow/core/grappler/optimizers/data/replicate_on_split.cc:32] Running replicate on split optimization\n",
      "2023-11-14 17:00:40.711391: I ./tensorflow/compiler/jit/device_compiler.h:186] Compiled cluster using XLA!  This line is logged at most once for the lifetime of the process.\n",
      "2023-11-14 17:00:40.718855: I tensorflow/core/grappler/optimizers/data/replicate_on_split.cc:32] Running replicate on split optimization\n",
      "2023-11-14 17:00:40.727712: I tensorflow/compiler/xla/stream_executor/cuda/cuda_dnn.cc:442] Loaded cuDNN version 8700\n",
      "2023-11-14 17:00:40.728437: I tensorflow/compiler/xla/stream_executor/cuda/cuda_dnn.cc:442] Loaded cuDNN version 8700\n",
      "2023-11-14 17:00:40.730211: I tensorflow/tsl/platform/default/subprocess.cc:304] Start cannot spawn child process: No such file or directory\n",
      "2023-11-14 17:00:40.730375: I tensorflow/tsl/platform/default/subprocess.cc:304] Start cannot spawn child process: No such file or directory\n"
     ]
    },
    {
     "name": "stdout",
     "output_type": "stream",
     "text": [
      "input/06_post_annotation_analyses/adata_per_sn_per_ct/YOUNG_WT_4_AMYGDALA.h5\n",
      "YOUNG_WT_4_AMYGDALA\n",
      "input/06_post_annotation_analyses/adata_per_sn_per_ct/YOUNG_WT_3_OLIGO.h5\n",
      "YOUNG_WT_3_OLIGO\n",
      "input/06_post_annotation_analyses/adata_per_sn_per_ct/OLD_WT_1_ASTRO_2.h5\n",
      "OLD_WT_1_ASTRO_2\n"
     ]
    },
    {
     "name": "stderr",
     "output_type": "stream",
     "text": [
      "2023-11-14 17:00:40.819339: I ./tensorflow/compiler/jit/device_compiler.h:186] Compiled cluster using XLA!  This line is logged at most once for the lifetime of the process.\n",
      "2023-11-14 17:00:40.838473: I ./tensorflow/compiler/jit/device_compiler.h:186] Compiled cluster using XLA!  This line is logged at most once for the lifetime of the process.\n",
      "2023-11-14 17:00:40.847333: I ./tensorflow/compiler/jit/device_compiler.h:186] Compiled cluster using XLA!  This line is logged at most once for the lifetime of the process.\n",
      "  0%|          | 0/14494 [00:00<?, ?it/s]2023-11-14 17:00:40.897296: I tensorflow/compiler/xla/service/service.cc:168] XLA service 0x560acf5a45b0 initialized for platform CUDA (this does not guarantee that XLA will be used). Devices:\n",
      "2023-11-14 17:00:40.897321: I tensorflow/compiler/xla/service/service.cc:176]   StreamExecutor device (0): NVIDIA GeForce RTX 3090, Compute Capability 8.6\n",
      "2023-11-14 17:00:40.931176: I tensorflow/compiler/xla/stream_executor/cuda/cuda_dnn.cc:442] Loaded cuDNN version 8700\n",
      "2023-11-14 17:00:40.933552: I tensorflow/tsl/platform/default/subprocess.cc:304] Start cannot spawn child process: No such file or directory\n",
      "2023-11-14 17:00:40.941483: I tensorflow/core/grappler/optimizers/data/replicate_on_split.cc:32] Running replicate on split optimization\n",
      "2023-11-14 17:00:40.957776: I tensorflow/core/grappler/optimizers/data/replicate_on_split.cc:32] Running replicate on split optimization\n"
     ]
    },
    {
     "name": "stdout",
     "output_type": "stream",
     "text": [
      "input/06_post_annotation_analyses/adata_per_sn_per_ct/YOUNG_OVX_4_MICROGLIA.h5\n",
      "YOUNG_OVX_4_MICROGLIA\n",
      "input/06_post_annotation_analyses/adata_per_sn_per_ct/YOUNG_WT_2_ASTRO_2.h5\n",
      "YOUNG_WT_2_ASTRO_2\n",
      "input/06_post_annotation_analyses/adata_per_sn_per_ct/YOUNG_OVX_3_EX_L1.h5\n",
      "YOUNG_OVX_3_EX_L1\n"
     ]
    },
    {
     "name": "stderr",
     "output_type": "stream",
     "text": [
      "2023-11-14 17:00:41.072063: I ./tensorflow/compiler/jit/device_compiler.h:186] Compiled cluster using XLA!  This line is logged at most once for the lifetime of the process.\n",
      "  0%|          | 0/14494 [00:00<?, ?it/s]2023-11-14 17:00:41.133640: I tensorflow/core/grappler/optimizers/data/replicate_on_split.cc:32] Running replicate on split optimization\n",
      "  0%|          | 0/14494 [00:00<?, ?it/s]2023-11-14 17:00:41.212608: I tensorflow/core/grappler/optimizers/data/replicate_on_split.cc:32] Running replicate on split optimization\n",
      "2023-11-14 17:00:41.217920: I tensorflow/compiler/mlir/tensorflow/utils/dump_mlir_util.cc:269] disabling MLIR crash reproducer, set env var `MLIR_CRASH_REPRODUCER_DIRECTORY` to enable.\n",
      "2023-11-14 17:00:41.226926: I tensorflow/compiler/mlir/tensorflow/utils/dump_mlir_util.cc:269] disabling MLIR crash reproducer, set env var `MLIR_CRASH_REPRODUCER_DIRECTORY` to enable.\n",
      "2023-11-14 17:00:41.241087: I tensorflow/compiler/mlir/tensorflow/utils/dump_mlir_util.cc:269] disabling MLIR crash reproducer, set env var `MLIR_CRASH_REPRODUCER_DIRECTORY` to enable.\n",
      "  0%|          | 0/14494 [00:00<?, ?it/s]2023-11-14 17:00:41.252846: I tensorflow/compiler/mlir/tensorflow/utils/dump_mlir_util.cc:269] disabling MLIR crash reproducer, set env var `MLIR_CRASH_REPRODUCER_DIRECTORY` to enable.\n"
     ]
    },
    {
     "name": "stdout",
     "output_type": "stream",
     "text": [
      "input/06_post_annotation_analyses/adata_per_sn_per_ct/OLD_OVX_3_MENINGES.h5\n",
      "OLD_OVX_3_MENINGES\n",
      "input/06_post_annotation_analyses/adata_per_sn_per_ct/OLD_OVX_2_MICROGLIA.h5\n",
      "OLD_OVX_2_MICROGLIA\n",
      "input/06_post_annotation_analyses/adata_per_sn_per_ct/YOUNG_WT_1_DORSAL_SUBIC.h5\n",
      "YOUNG_WT_1_DORSAL_SUBIC\n",
      "input/06_post_annotation_analyses/adata_per_sn_per_ct/OLD_WT_5_EX_L2.3.h5\n",
      "OLD_WT_5_EX_L2.3\n"
     ]
    },
    {
     "name": "stderr",
     "output_type": "stream",
     "text": [
      "2023-11-14 17:00:41.289090: I tensorflow/core/grappler/optimizers/data/replicate_on_split.cc:32] Running replicate on split optimization\n",
      "2023-11-14 17:00:41.298455: I tensorflow/compiler/mlir/tensorflow/utils/dump_mlir_util.cc:269] disabling MLIR crash reproducer, set env var `MLIR_CRASH_REPRODUCER_DIRECTORY` to enable.\n",
      "  0%|          | 0/14494 [00:00<?, ?it/s]2023-11-14 17:00:41.352932: I tensorflow/core/grappler/optimizers/data/replicate_on_split.cc:32] Running replicate on split optimization\n",
      "2023-11-14 17:00:41.375317: I tensorflow/compiler/mlir/tensorflow/utils/dump_mlir_util.cc:269] disabling MLIR crash reproducer, set env var `MLIR_CRASH_REPRODUCER_DIRECTORY` to enable.\n",
      "2023-11-14 17:00:41.380402: I tensorflow/core/grappler/optimizers/data/replicate_on_split.cc:32] Running replicate on split optimization\n",
      "2023-11-14 17:00:41.383980: I tensorflow/compiler/mlir/tensorflow/utils/dump_mlir_util.cc:269] disabling MLIR crash reproducer, set env var `MLIR_CRASH_REPRODUCER_DIRECTORY` to enable.\n",
      "2023-11-14 17:00:41.458973: I tensorflow/compiler/mlir/tensorflow/utils/dump_mlir_util.cc:269] disabling MLIR crash reproducer, set env var `MLIR_CRASH_REPRODUCER_DIRECTORY` to enable.\n",
      "2023-11-14 17:00:41.492923: I tensorflow/compiler/mlir/tensorflow/utils/dump_mlir_util.cc:269] disabling MLIR crash reproducer, set env var `MLIR_CRASH_REPRODUCER_DIRECTORY` to enable.\n",
      "  0%|          | 0/14494 [00:00<?, ?it/s]2023-11-14 17:00:41.568499: I tensorflow/core/grappler/optimizers/data/replicate_on_split.cc:32] Running replicate on split optimization\n",
      "2023-11-14 17:00:41.588498: I tensorflow/compiler/mlir/tensorflow/utils/dump_mlir_util.cc:269] disabling MLIR crash reproducer, set env var `MLIR_CRASH_REPRODUCER_DIRECTORY` to enable.\n"
     ]
    },
    {
     "name": "stdout",
     "output_type": "stream",
     "text": [
      "input/06_post_annotation_analyses/adata_per_sn_per_ct/OLD_WT_3_EX_L6.h5\n",
      "OLD_WT_3_EX_L6\n"
     ]
    },
    {
     "name": "stderr",
     "output_type": "stream",
     "text": [
      "2023-11-14 17:00:41.744060: I tensorflow/compiler/mlir/tensorflow/utils/dump_mlir_util.cc:269] disabling MLIR crash reproducer, set env var `MLIR_CRASH_REPRODUCER_DIRECTORY` to enable.\n",
      "2023-11-14 17:00:41.765818: I tensorflow/compiler/mlir/tensorflow/utils/dump_mlir_util.cc:269] disabling MLIR crash reproducer, set env var `MLIR_CRASH_REPRODUCER_DIRECTORY` to enable.\n",
      "2023-11-14 17:00:41.981556: I tensorflow/compiler/mlir/tensorflow/utils/dump_mlir_util.cc:269] disabling MLIR crash reproducer, set env var `MLIR_CRASH_REPRODUCER_DIRECTORY` to enable.\n",
      "2023-11-14 17:00:42.030200: I tensorflow/compiler/mlir/tensorflow/utils/dump_mlir_util.cc:269] disabling MLIR crash reproducer, set env var `MLIR_CRASH_REPRODUCER_DIRECTORY` to enable.\n",
      "2023-11-14 17:00:42.108060: I tensorflow/compiler/mlir/tensorflow/utils/dump_mlir_util.cc:269] disabling MLIR crash reproducer, set env var `MLIR_CRASH_REPRODUCER_DIRECTORY` to enable.\n",
      "2023-11-14 17:00:42.192162: I tensorflow/compiler/mlir/tensorflow/utils/dump_mlir_util.cc:269] disabling MLIR crash reproducer, set env var `MLIR_CRASH_REPRODUCER_DIRECTORY` to enable.\n",
      "2023-11-14 17:00:42.363902: I tensorflow/compiler/mlir/tensorflow/utils/dump_mlir_util.cc:269] disabling MLIR crash reproducer, set env var `MLIR_CRASH_REPRODUCER_DIRECTORY` to enable.\n",
      "2023-11-14 17:00:42.473106: I tensorflow/compiler/mlir/tensorflow/utils/dump_mlir_util.cc:269] disabling MLIR crash reproducer, set env var `MLIR_CRASH_REPRODUCER_DIRECTORY` to enable.\n",
      "  0%|          | 60/14494 [00:04<05:08, 46.81it/s]2023-11-14 17:00:44.950205: I tensorflow/compiler/xla/stream_executor/gpu/asm_compiler.cc:328] ptxas warning : Registers are spilled to local memory in function 'fusion', 128 bytes spill stores, 64 bytes spill loads\n",
      "\n",
      "  0%|          | 67/14494 [00:04<05:19, 45.12it/s]2023-11-14 17:00:45.179530: I tensorflow/compiler/xla/stream_executor/gpu/asm_compiler.cc:328] ptxas warning : Registers are spilled to local memory in function 'fusion', 128 bytes spill stores, 64 bytes spill loads\n",
      "\n",
      "  1%|          | 75/14494 [00:04<04:33, 52.72it/s]2023-11-14 17:00:45.258262: I tensorflow/compiler/xla/stream_executor/gpu/asm_compiler.cc:328] ptxas warning : Registers are spilled to local memory in function 'fusion', 96 bytes spill stores, 48 bytes spill loads\n",
      "\n",
      "  1%|          | 84/14494 [00:04<03:55, 61.10it/s]2023-11-14 17:00:45.362327: I tensorflow/compiler/xla/stream_executor/gpu/asm_compiler.cc:328] ptxas warning : Registers are spilled to local memory in function 'fusion_1', 140 bytes spill stores, 132 bytes spill loads\n",
      "ptxas warning : Registers are spilled to local memory in function '__cuda_sm20_div_f64_slowpath_v2', 4 bytes spill stores, 4 bytes spill loads\n",
      "\n",
      "2023-11-14 17:00:45.449691: I tensorflow/compiler/xla/stream_executor/gpu/asm_compiler.cc:328] ptxas warning : Registers are spilled to local memory in function 'fusion', 128 bytes spill stores, 64 bytes spill loads\n",
      "\n",
      "2023-11-14 17:00:45.453286: I tensorflow/compiler/xla/stream_executor/gpu/asm_compiler.cc:328] ptxas warning : Registers are spilled to local memory in function 'fusion', 128 bytes spill stores, 64 bytes spill loads\n",
      "\n",
      "  1%|          | 92/14494 [00:04<05:02, 47.57it/s]2023-11-14 17:00:45.657207: I tensorflow/compiler/xla/stream_executor/gpu/asm_compiler.cc:328] ptxas warning : Registers are spilled to local memory in function 'fusion', 128 bytes spill stores, 64 bytes spill loads\n",
      "\n",
      "2023-11-14 17:00:45.700341: I tensorflow/compiler/xla/stream_executor/gpu/asm_compiler.cc:328] ptxas warning : Registers are spilled to local memory in function 'fusion', 96 bytes spill stores, 48 bytes spill loads\n",
      "\n",
      "2023-11-14 17:00:45.732543: I tensorflow/compiler/xla/stream_executor/gpu/asm_compiler.cc:328] ptxas warning : Registers are spilled to local memory in function 'fusion', 128 bytes spill stores, 64 bytes spill loads\n",
      "\n",
      "  1%|          | 104/14494 [00:05<05:29, 43.65it/s]2023-11-14 17:00:46.025020: I tensorflow/compiler/xla/stream_executor/gpu/asm_compiler.cc:328] ptxas warning : Registers are spilled to local memory in function 'fusion_1', 124 bytes spill stores, 124 bytes spill loads\n",
      "ptxas warning : Registers are spilled to local memory in function '__cuda_sm20_div_f64_slowpath_v2', 4 bytes spill stores, 4 bytes spill loads\n",
      "\n",
      "2023-11-14 17:00:46.030266: I tensorflow/compiler/xla/stream_executor/gpu/asm_compiler.cc:328] ptxas warning : Registers are spilled to local memory in function 'fusion', 372 bytes spill stores, 196 bytes spill loads\n",
      "ptxas warning : Registers are spilled to local memory in function '__cuda_sm20_div_f64_slowpath_v2', 12 bytes spill stores, 12 bytes spill loads\n",
      "\n",
      "  1%|          | 110/14494 [00:05<05:40, 42.22it/s]2023-11-14 17:00:46.044403: I tensorflow/compiler/xla/stream_executor/gpu/asm_compiler.cc:328] ptxas warning : Registers are spilled to local memory in function 'fusion', 220 bytes spill stores, 116 bytes spill loads\n",
      "ptxas warning : Registers are spilled to local memory in function '__cuda_sm20_div_f64_slowpath_v2', 12 bytes spill stores, 12 bytes spill loads\n",
      "\n",
      "  0%|          | 1/14494 [00:05<22:58:57,  5.71s/it]2023-11-14 17:00:46.257149: I tensorflow/compiler/xla/stream_executor/gpu/asm_compiler.cc:328] ptxas warning : Registers are spilled to local memory in function 'fusion_1', 240 bytes spill stores, 232 bytes spill loads\n",
      "ptxas warning : Registers are spilled to local memory in function '__cuda_sm20_div_f64_slowpath_v2', 12 bytes spill stores, 12 bytes spill loads\n",
      "\n",
      "  1%|          | 136/14494 [00:05<07:06, 33.69it/s]2023-11-14 17:00:46.817788: I tensorflow/compiler/xla/stream_executor/gpu/asm_compiler.cc:328] ptxas warning : Registers are spilled to local memory in function 'fusion', 220 bytes spill stores, 116 bytes spill loads\n",
      "ptxas warning : Registers are spilled to local memory in function '__cuda_sm20_div_f64_slowpath_v2', 12 bytes spill stores, 12 bytes spill loads\n",
      "\n",
      "2023-11-14 17:00:46.832759: I tensorflow/compiler/xla/stream_executor/gpu/asm_compiler.cc:328] ptxas warning : Registers are spilled to local memory in function 'fusion', 536 bytes spill stores, 272 bytes spill loads\n",
      "ptxas warning : Registers are spilled to local memory in function '__cuda_sm20_div_f64_slowpath_v2', 12 bytes spill stores, 12 bytes spill loads\n",
      "\n",
      "  0%|          | 7/14494 [00:07<2:46:16,  1.45it/s]2023-11-14 17:00:47.601719: I tensorflow/compiler/xla/stream_executor/gpu/asm_compiler.cc:328] ptxas warning : Registers are spilled to local memory in function 'fusion_1', 824 bytes spill stores, 632 bytes spill loads\n",
      "ptxas warning : Registers are spilled to local memory in function '__cuda_sm20_div_f64_slowpath_v2', 60 bytes spill stores, 60 bytes spill loads\n",
      "ptxas warning : Registers are spilled to local memory in function '__internal_trig_reduction_slowpathd', 12 bytes spill stores, 8 bytes spill loads\n",
      "\n",
      "2023-11-14 17:00:47.636751: I tensorflow/compiler/xla/stream_executor/gpu/asm_compiler.cc:328] ptxas warning : Registers are spilled to local memory in function 'fusion_1', 824 bytes spill stores, 632 bytes spill loads\n",
      "ptxas warning : Registers are spilled to local memory in function '__cuda_sm20_div_f64_slowpath_v2', 60 bytes spill stores, 60 bytes spill loads\n",
      "ptxas warning : Registers are spilled to local memory in function '__internal_trig_reduction_slowpathd', 12 bytes spill stores, 8 bytes spill loads\n",
      "\n",
      "2023-11-14 17:00:47.639561: I tensorflow/compiler/xla/stream_executor/gpu/asm_compiler.cc:328] ptxas warning : Registers are spilled to local memory in function 'fusion_1', 824 bytes spill stores, 632 bytes spill loads\n",
      "ptxas warning : Registers are spilled to local memory in function '__cuda_sm20_div_f64_slowpath_v2', 60 bytes spill stores, 60 bytes spill loads\n",
      "ptxas warning : Registers are spilled to local memory in function '__internal_trig_reduction_slowpathd', 12 bytes spill stores, 8 bytes spill loads\n",
      "\n",
      "  0%|          | 16/14494 [00:07<46:11,  5.22it/s]  2023-11-14 17:00:47.868833: I tensorflow/compiler/xla/stream_executor/gpu/asm_compiler.cc:328] ptxas warning : Registers are spilled to local memory in function 'fusion_1', 808 bytes spill stores, 624 bytes spill loads\n",
      "ptxas warning : Registers are spilled to local memory in function '__cuda_sm20_div_f64_slowpath_v2', 60 bytes spill stores, 60 bytes spill loads\n",
      "ptxas warning : Registers are spilled to local memory in function '__internal_trig_reduction_slowpathd', 12 bytes spill stores, 8 bytes spill loads\n",
      "\n",
      "  0%|          | 22/14494 [00:07<25:03,  9.62it/s]2023-11-14 17:00:48.071020: I tensorflow/compiler/xla/stream_executor/gpu/asm_compiler.cc:328] ptxas warning : Registers are spilled to local memory in function 'fusion_1', 824 bytes spill stores, 632 bytes spill loads\n",
      "ptxas warning : Registers are spilled to local memory in function '__cuda_sm20_div_f64_slowpath_v2', 60 bytes spill stores, 60 bytes spill loads\n",
      "ptxas warning : Registers are spilled to local memory in function '__internal_trig_reduction_slowpathd', 12 bytes spill stores, 8 bytes spill loads\n",
      "\n",
      "2023-11-14 17:00:48.099676: I tensorflow/compiler/xla/stream_executor/gpu/asm_compiler.cc:328] ptxas warning : Registers are spilled to local memory in function 'fusion_1', 824 bytes spill stores, 632 bytes spill loads\n",
      "ptxas warning : Registers are spilled to local memory in function '__cuda_sm20_div_f64_slowpath_v2', 60 bytes spill stores, 60 bytes spill loads\n",
      "ptxas warning : Registers are spilled to local memory in function '__internal_trig_reduction_slowpathd', 12 bytes spill stores, 8 bytes spill loads\n",
      "\n",
      "  0%|          | 25/14494 [00:07<20:41, 11.66it/s]2023-11-14 17:00:48.228657: I tensorflow/compiler/xla/stream_executor/gpu/asm_compiler.cc:328] ptxas warning : Registers are spilled to local memory in function 'fusion_1', 808 bytes spill stores, 624 bytes spill loads\n",
      "ptxas warning : Registers are spilled to local memory in function '__cuda_sm20_div_f64_slowpath_v2', 60 bytes spill stores, 60 bytes spill loads\n",
      "ptxas warning : Registers are spilled to local memory in function '__internal_trig_reduction_slowpathd', 12 bytes spill stores, 8 bytes spill loads\n",
      "\n",
      "2023-11-14 17:00:48.233906: I tensorflow/compiler/xla/stream_executor/gpu/asm_compiler.cc:328] ptxas warning : Registers are spilled to local memory in function 'fusion_1', 824 bytes spill stores, 632 bytes spill loads\n",
      "ptxas warning : Registers are spilled to local memory in function '__cuda_sm20_div_f64_slowpath_v2', 60 bytes spill stores, 60 bytes spill loads\n",
      "ptxas warning : Registers are spilled to local memory in function '__internal_trig_reduction_slowpathd', 12 bytes spill stores, 8 bytes spill loads\n",
      "\n",
      "2023-11-14 17:00:48.244052: I tensorflow/compiler/xla/stream_executor/gpu/asm_compiler.cc:328] ptxas warning : Registers are spilled to local memory in function 'fusion_11', 40 bytes spill stores, 40 bytes spill loads\n",
      "\n",
      "  0%|          | 41/14494 [00:07<16:52, 14.28it/s]2023-11-14 17:00:48.477472: I tensorflow/compiler/xla/stream_executor/gpu/asm_compiler.cc:328] ptxas warning : Registers are spilled to local memory in function 'fusion_1', 588 bytes spill stores, 464 bytes spill loads\n",
      "ptxas warning : Registers are spilled to local memory in function '__cuda_sm20_div_f64_slowpath_v2', 36 bytes spill stores, 36 bytes spill loads\n",
      "\n",
      "  0%|          | 1/14494 [00:07<31:52:00,  7.92s/it]2023-11-14 17:00:48.566185: I tensorflow/compiler/xla/stream_executor/gpu/asm_compiler.cc:328] ptxas warning : Registers are spilled to local memory in function 'fusion_1', 1120 bytes spill stores, 832 bytes spill loads\n",
      "ptxas warning : Registers are spilled to local memory in function '__cuda_sm20_div_f64_slowpath_v2', 56 bytes spill stores, 56 bytes spill loads\n",
      "ptxas warning : Registers are spilled to local memory in function '__internal_trig_reduction_slowpathd', 20 bytes spill stores, 12 bytes spill loads\n",
      "\n",
      "  0%|          | 4/14494 [00:08<6:10:33,  1.53s/it] 2023-11-14 17:00:48.699430: I tensorflow/compiler/xla/stream_executor/gpu/asm_compiler.cc:328] ptxas warning : Registers are spilled to local memory in function 'fusion_1', 1412 bytes spill stores, 1084 bytes spill loads\n",
      "ptxas warning : Registers are spilled to local memory in function '__cuda_sm20_div_f64_slowpath_v2', 60 bytes spill stores, 60 bytes spill loads\n",
      "ptxas warning : Registers are spilled to local memory in function '__internal_trig_reduction_slowpathd', 4 bytes spill stores, 4 bytes spill loads\n",
      "\n",
      "  0%|          | 1/14494 [00:08<35:23:35,  8.79s/it]2023-11-14 17:00:49.181402: I tensorflow/compiler/xla/stream_executor/gpu/asm_compiler.cc:328] ptxas warning : Registers are spilled to local memory in function 'fusion_11', 40 bytes spill stores, 40 bytes spill loads\n",
      "\n",
      "  0%|          | 1/14494 [00:07<31:52:26,  7.92s/it]2023-11-14 17:00:49.239421: I tensorflow/compiler/xla/stream_executor/gpu/asm_compiler.cc:328] ptxas warning : Registers are spilled to local memory in function 'fusion_1', 1120 bytes spill stores, 832 bytes spill loads\n",
      "ptxas warning : Registers are spilled to local memory in function '__cuda_sm20_div_f64_slowpath_v2', 56 bytes spill stores, 56 bytes spill loads\n",
      "ptxas warning : Registers are spilled to local memory in function '__internal_trig_reduction_slowpathd', 20 bytes spill stores, 12 bytes spill loads\n",
      "\n",
      "  0%|          | 1/14494 [00:08<35:02:55,  8.71s/it]2023-11-14 17:00:49.280289: I tensorflow/compiler/xla/stream_executor/gpu/asm_compiler.cc:328] ptxas warning : Registers are spilled to local memory in function 'fusion_1', 1812 bytes spill stores, 1432 bytes spill loads\n",
      "ptxas warning : Registers are spilled to local memory in function '__cuda_sm20_div_f64_slowpath_v2', 100 bytes spill stores, 116 bytes spill loads\n",
      "ptxas warning : Registers are spilled to local memory in function '__internal_trig_reduction_slowpathd', 20 bytes spill stores, 12 bytes spill loads\n",
      "\n",
      "100%|██████████| 14494/14494 [28:26<00:00,  8.49it/s] \n",
      " 81%|████████▏ | 11801/14494 [28:27<05:15,  8.53it/s]/home/peter/mambaforge/envs/spatialde/lib/python3.9/site-packages/anndata/__init__.py:51: FutureWarning: `anndata.read` is deprecated, use `anndata.read_h5ad` instead. `ad.read` will be removed in mid 2024.\n",
      "  warnings.warn(\n",
      "  0%|          | 0/14494 [00:00<?, ?it/s]2023-11-14 17:29:08.642452: I tensorflow/core/grappler/optimizers/data/replicate_on_split.cc:32] Running replicate on split optimization\n",
      " 82%|████████▏ | 11844/14494 [28:28<04:24, 10.03it/s]"
     ]
    },
    {
     "name": "stdout",
     "output_type": "stream",
     "text": [
      "input/06_post_annotation_analyses/adata_per_sn_per_ct/YOUNG_WT_3_MB_ERYTH.h5\n",
      "YOUNG_WT_3_MB_ERYTH\n"
     ]
    },
    {
     "name": "stderr",
     "output_type": "stream",
     "text": [
      "100%|██████████| 14494/14494 [29:35<00:00,  8.16it/s]\n",
      " 77%|███████▋  | 11165/14494 [29:35<07:00,  7.92it/s]/home/peter/mambaforge/envs/spatialde/lib/python3.9/site-packages/anndata/__init__.py:51: FutureWarning: `anndata.read` is deprecated, use `anndata.read_h5ad` instead. `ad.read` will be removed in mid 2024.\n",
      "  warnings.warn(\n",
      " 73%|███████▎  | 10649/14494 [29:36<07:19,  8.74it/s]2023-11-14 17:30:16.931694: I tensorflow/core/grappler/optimizers/data/replicate_on_split.cc:32] Running replicate on split optimization\n",
      " 85%|████████▍ | 12310/14494 [29:36<08:26,  4.31it/s]"
     ]
    },
    {
     "name": "stdout",
     "output_type": "stream",
     "text": [
      "input/06_post_annotation_analyses/adata_per_sn_per_ct/OLD_OVX_2_MB_ERYTH.h5\n",
      "OLD_OVX_2_MB_ERYTH\n"
     ]
    },
    {
     "name": "stderr",
     "output_type": "stream",
     "text": [
      "100%|██████████| 14494/14494 [31:04<00:00,  7.77it/s]]\n",
      "  5%|▍         | 692/14494 [01:28<1:15:56,  3.03it/s]/home/peter/mambaforge/envs/spatialde/lib/python3.9/site-packages/anndata/__init__.py:51: FutureWarning: `anndata.read` is deprecated, use `anndata.read_h5ad` instead. `ad.read` will be removed in mid 2024.\n",
      "  warnings.warn(\n",
      " 90%|████████▉ | 13014/14494 [31:04<02:43,  9.04it/s]2023-11-14 17:31:45.359884: I tensorflow/core/grappler/optimizers/data/replicate_on_split.cc:32] Running replicate on split optimization\n",
      " 74%|███████▎  | 10679/14494 [31:04<06:42,  9.49it/s]"
     ]
    },
    {
     "name": "stdout",
     "output_type": "stream",
     "text": [
      "input/06_post_annotation_analyses/adata_per_sn_per_ct/OLD_OVX_3_DOPA_SN.h5\n",
      "OLD_OVX_3_DOPA_SN\n"
     ]
    },
    {
     "name": "stderr",
     "output_type": "stream",
     "text": [
      "100%|██████████| 14494/14494 [31:08<00:00,  7.76it/s] \n",
      " 75%|███████▍  | 10864/14494 [31:08<09:47,  6.18it/s]/home/peter/mambaforge/envs/spatialde/lib/python3.9/site-packages/anndata/__init__.py:51: FutureWarning: `anndata.read` is deprecated, use `anndata.read_h5ad` instead. `ad.read` will be removed in mid 2024.\n",
      "  warnings.warn(\n",
      "  0%|          | 0/14494 [00:00<?, ?it/s]2023-11-14 17:31:49.489089: I tensorflow/core/grappler/optimizers/data/replicate_on_split.cc:32] Running replicate on split optimization\n"
     ]
    },
    {
     "name": "stdout",
     "output_type": "stream",
     "text": [
      "input/06_post_annotation_analyses/adata_per_sn_per_ct/OLD_WT_2_EX_L1.h5\n",
      "OLD_WT_2_EX_L1\n"
     ]
    },
    {
     "name": "stderr",
     "output_type": "stream",
     "text": [
      "100%|██████████| 14494/14494 [31:54<00:00,  7.57it/s] \n",
      " 96%|█████████▌| 13907/14494 [31:54<01:38,  5.95it/s]/home/peter/mambaforge/envs/spatialde/lib/python3.9/site-packages/anndata/__init__.py:51: FutureWarning: `anndata.read` is deprecated, use `anndata.read_h5ad` instead. `ad.read` will be removed in mid 2024.\n",
      "  warnings.warn(\n",
      " 92%|█████████▏| 13397/14494 [31:55<01:51,  9.85it/s]2023-11-14 17:32:35.836124: I tensorflow/core/grappler/optimizers/data/replicate_on_split.cc:32] Running replicate on split optimization\n",
      " 77%|███████▋  | 11181/14494 [31:55<05:11, 10.63it/s]"
     ]
    },
    {
     "name": "stdout",
     "output_type": "stream",
     "text": [
      "input/06_post_annotation_analyses/adata_per_sn_per_ct/YOUNG_WT_2_IN_Sst+.h5\n",
      "YOUNG_WT_2_IN_Sst+\n"
     ]
    },
    {
     "name": "stderr",
     "output_type": "stream",
     "text": [
      "100%|██████████| 14494/14494 [33:06<00:00,  7.30it/s] \n",
      " 87%|████████▋ | 12658/14494 [33:06<03:03, 10.02it/s]/home/peter/mambaforge/envs/spatialde/lib/python3.9/site-packages/anndata/__init__.py:51: FutureWarning: `anndata.read` is deprecated, use `anndata.read_h5ad` instead. `ad.read` will be removed in mid 2024.\n",
      "  warnings.warn(\n",
      " 97%|█████████▋| 14018/14494 [33:07<00:56,  8.36it/s]2023-11-14 17:33:48.259745: I tensorflow/core/grappler/optimizers/data/replicate_on_split.cc:32] Running replicate on split optimization\n",
      "  6%|▌         | 883/14494 [02:03<30:53,  7.34it/s]s]"
     ]
    },
    {
     "name": "stdout",
     "output_type": "stream",
     "text": [
      "input/06_post_annotation_analyses/adata_per_sn_per_ct/YOUNG_WT_4_EX_L4.h5\n",
      "YOUNG_WT_4_EX_L4\n"
     ]
    },
    {
     "name": "stderr",
     "output_type": "stream",
     "text": [
      "100%|██████████| 14494/14494 [33:49<00:00,  7.14it/s] \n",
      " 78%|███████▊  | 11234/14494 [33:49<05:05, 10.68it/s]/home/peter/mambaforge/envs/spatialde/lib/python3.9/site-packages/anndata/__init__.py:51: FutureWarning: `anndata.read` is deprecated, use `anndata.read_h5ad` instead. `ad.read` will be removed in mid 2024.\n",
      "  warnings.warn(\n",
      "  0%|          | 0/14494 [00:00<?, ?it/s]2023-11-14 17:34:30.693405: I tensorflow/core/grappler/optimizers/data/replicate_on_split.cc:32] Running replicate on split optimization\n",
      " 15%|█▍        | 2141/14494 [05:22<41:23,  4.97it/s]]"
     ]
    },
    {
     "name": "stdout",
     "output_type": "stream",
     "text": [
      "input/06_post_annotation_analyses/adata_per_sn_per_ct/OLD_OVX_4_ASTRO_2.h5\n",
      "OLD_OVX_4_ASTRO_2\n"
     ]
    },
    {
     "name": "stderr",
     "output_type": "stream",
     "text": [
      " 99%|█████████▉| 14325/14494 [33:52<00:22,  7.51it/s]2023-11-14 17:34:32.762548: I tensorflow/compiler/xla/stream_executor/gpu/asm_compiler.cc:328] ptxas warning : Registers are spilled to local memory in function 'fusion_1', 572 bytes spill stores, 456 bytes spill loads\n",
      "ptxas warning : Registers are spilled to local memory in function '__cuda_sm20_div_f64_slowpath_v2', 36 bytes spill stores, 36 bytes spill loads\n",
      "\n",
      "100%|██████████| 14494/14494 [34:15<00:00,  7.05it/s] \n",
      " 91%|█████████ | 13171/14494 [34:14<02:24,  9.13it/s]/home/peter/mambaforge/envs/spatialde/lib/python3.9/site-packages/anndata/__init__.py:51: FutureWarning: `anndata.read` is deprecated, use `anndata.read_h5ad` instead. `ad.read` will be removed in mid 2024.\n",
      "  warnings.warn(\n",
      "  0%|          | 0/14494 [00:00<?, ?it/s]2023-11-14 17:34:56.788203: I tensorflow/core/grappler/optimizers/data/replicate_on_split.cc:32] Running replicate on split optimization\n"
     ]
    },
    {
     "name": "stdout",
     "output_type": "stream",
     "text": [
      "input/06_post_annotation_analyses/adata_per_sn_per_ct/OLD_OVX_4_OLIGO.h5\n",
      "OLD_OVX_4_OLIGO\n"
     ]
    },
    {
     "name": "stderr",
     "output_type": "stream",
     "text": [
      " 99%|█████████▉| 14387/14494 [34:18<00:20,  5.34it/s]2023-11-14 17:34:58.920174: I tensorflow/compiler/xla/stream_executor/gpu/asm_compiler.cc:328] ptxas warning : Registers are spilled to local memory in function 'fusion_1', 588 bytes spill stores, 464 bytes spill loads\n",
      "ptxas warning : Registers are spilled to local memory in function '__cuda_sm20_div_f64_slowpath_v2', 36 bytes spill stores, 36 bytes spill loads\n",
      "\n",
      "100%|██████████| 14494/14494 [34:31<00:00,  7.00it/s] \n",
      " 14%|█▍        | 2047/14494 [04:55<27:17,  7.60it/s]/home/peter/mambaforge/envs/spatialde/lib/python3.9/site-packages/anndata/__init__.py:51: FutureWarning: `anndata.read` is deprecated, use `anndata.read_h5ad` instead. `ad.read` will be removed in mid 2024.\n",
      "  warnings.warn(\n",
      "  0%|          | 0/14494 [00:00<?, ?it/s]2023-11-14 17:35:12.757134: I tensorflow/core/grappler/optimizers/data/replicate_on_split.cc:32] Running replicate on split optimization\n",
      "  8%|▊         | 1134/14494 [02:36<20:36, 10.81it/s]]"
     ]
    },
    {
     "name": "stdout",
     "output_type": "stream",
     "text": [
      "input/06_post_annotation_analyses/adata_per_sn_per_ct/OLD_WT_4_EX_L5.h5\n",
      "OLD_WT_4_EX_L5\n"
     ]
    },
    {
     "name": "stderr",
     "output_type": "stream",
     "text": [
      " 83%|████████▎ | 12030/14494 [34:33<08:59,  4.57it/s]2023-11-14 17:35:14.286233: I tensorflow/compiler/xla/stream_executor/gpu/asm_compiler.cc:328] ptxas warning : Registers are spilled to local memory in function 'fusion', 220 bytes spill stores, 116 bytes spill loads\n",
      "ptxas warning : Registers are spilled to local memory in function '__cuda_sm20_div_f64_slowpath_v2', 12 bytes spill stores, 12 bytes spill loads\n",
      "\n",
      "  1%|          | 130/14494 [00:18<22:26, 10.67it/s]2023-11-14 17:35:15.297057: I tensorflow/compiler/xla/stream_executor/gpu/asm_compiler.cc:328] ptxas warning : Registers are spilled to local memory in function 'fusion_1', 1120 bytes spill stores, 832 bytes spill loads\n",
      "ptxas warning : Registers are spilled to local memory in function '__cuda_sm20_div_f64_slowpath_v2', 56 bytes spill stores, 56 bytes spill loads\n",
      "ptxas warning : Registers are spilled to local memory in function '__internal_trig_reduction_slowpathd', 20 bytes spill stores, 12 bytes spill loads\n",
      "\n",
      "100%|██████████| 14494/14494 [34:40<00:00,  6.97it/s] \n",
      " 75%|███████▍  | 10813/14494 [34:39<06:44,  9.09it/s]/home/peter/mambaforge/envs/spatialde/lib/python3.9/site-packages/anndata/__init__.py:51: FutureWarning: `anndata.read` is deprecated, use `anndata.read_h5ad` instead. `ad.read` will be removed in mid 2024.\n",
      "  warnings.warn(\n",
      " 83%|████████▎ | 12089/14494 [34:40<07:42,  5.20it/s]2023-11-14 17:35:21.308420: I tensorflow/core/grappler/optimizers/data/replicate_on_split.cc:32] Running replicate on split optimization\n"
     ]
    },
    {
     "name": "stdout",
     "output_type": "stream",
     "text": [
      "input/06_post_annotation_analyses/adata_per_sn_per_ct/YOUNG_WT_4_MICROGLIA.h5\n",
      "YOUNG_WT_4_MICROGLIA\n"
     ]
    },
    {
     "name": "stderr",
     "output_type": "stream",
     "text": [
      "100%|██████████| 14494/14494 [34:44<00:00,  6.95it/s]]\n",
      "  2%|▏         | 335/14494 [00:55<58:11,  4.06it/s]/home/peter/mambaforge/envs/spatialde/lib/python3.9/site-packages/anndata/__init__.py:51: FutureWarning: `anndata.read` is deprecated, use `anndata.read_h5ad` instead. `ad.read` will be removed in mid 2024.\n",
      "  warnings.warn(\n",
      "  0%|          | 0/14494 [00:00<?, ?it/s]2023-11-14 17:35:26.354683: I tensorflow/core/grappler/optimizers/data/replicate_on_split.cc:32] Running replicate on split optimization\n",
      " 84%|████████▎ | 12130/14494 [34:46<05:31,  7.12it/s]"
     ]
    },
    {
     "name": "stdout",
     "output_type": "stream",
     "text": [
      "input/06_post_annotation_analyses/adata_per_sn_per_ct/OLD_WT_1_IN_Sst+.h5\n",
      "OLD_WT_1_IN_Sst+\n"
     ]
    },
    {
     "name": "stderr",
     "output_type": "stream",
     "text": [
      "  1%|          | 101/14494 [00:15<20:14, 11.85it/s]2023-11-14 17:35:28.015083: I tensorflow/compiler/xla/stream_executor/gpu/asm_compiler.cc:328] ptxas warning : Registers are spilled to local memory in function 'fusion', 372 bytes spill stores, 196 bytes spill loads\n",
      "ptxas warning : Registers are spilled to local memory in function '__cuda_sm20_div_f64_slowpath_v2', 12 bytes spill stores, 12 bytes spill loads\n",
      "\n",
      "  9%|▊         | 1263/14494 [02:53<28:41,  7.69it/s]2023-11-14 17:35:29.020098: I tensorflow/compiler/xla/stream_executor/gpu/asm_compiler.cc:328] ptxas warning : Registers are spilled to local memory in function 'fusion_1', 1412 bytes spill stores, 1084 bytes spill loads\n",
      "ptxas warning : Registers are spilled to local memory in function '__cuda_sm20_div_f64_slowpath_v2', 60 bytes spill stores, 60 bytes spill loads\n",
      "ptxas warning : Registers are spilled to local memory in function '__internal_trig_reduction_slowpathd', 4 bytes spill stores, 4 bytes spill loads\n",
      "\n",
      "100%|██████████| 14494/14494 [37:12<00:00,  6.49it/s] \n",
      " 21%|██        | 3016/14494 [06:04<23:07,  8.27it/s]/home/peter/mambaforge/envs/spatialde/lib/python3.9/site-packages/anndata/__init__.py:51: FutureWarning: `anndata.read` is deprecated, use `anndata.read_h5ad` instead. `ad.read` will be removed in mid 2024.\n",
      "  warnings.warn(\n",
      " 90%|█████████ | 13047/14494 [37:12<02:30,  9.64it/s]2023-11-14 17:37:54.034410: I tensorflow/core/grappler/optimizers/data/replicate_on_split.cc:32] Running replicate on split optimization\n",
      " 90%|████████▉ | 13029/14494 [37:13<04:50,  5.04it/s]"
     ]
    },
    {
     "name": "stdout",
     "output_type": "stream",
     "text": [
      "input/06_post_annotation_analyses/adata_per_sn_per_ct/YOUNG_WT_3_EX_CA3.h5\n",
      "YOUNG_WT_3_EX_CA3\n"
     ]
    },
    {
     "name": "stderr",
     "output_type": "stream",
     "text": [
      " 17%|█▋        | 2528/14494 [06:10<26:21,  7.57it/s]2023-11-14 17:37:55.691856: I tensorflow/compiler/xla/stream_executor/gpu/asm_compiler.cc:328] ptxas warning : Registers are spilled to local memory in function 'fusion_1', 140 bytes spill stores, 132 bytes spill loads\n",
      "ptxas warning : Registers are spilled to local memory in function '__cuda_sm20_div_f64_slowpath_v2', 4 bytes spill stores, 4 bytes spill loads\n",
      "\n",
      "100%|██████████| 14494/14494 [38:23<00:00,  6.29it/s] \n",
      " 17%|█▋        | 2421/14494 [05:16<13:21, 15.06it/s]/home/peter/mambaforge/envs/spatialde/lib/python3.9/site-packages/anndata/__init__.py:51: FutureWarning: `anndata.read` is deprecated, use `anndata.read_h5ad` instead. `ad.read` will be removed in mid 2024.\n",
      "  warnings.warn(\n",
      " 13%|█▎        | 1898/14494 [03:43<10:27, 20.08it/s]2023-11-14 17:39:04.577662: I tensorflow/core/grappler/optimizers/data/replicate_on_split.cc:32] Running replicate on split optimization\n",
      " 25%|██▌       | 3651/14494 [07:15<14:17, 12.64it/s]]]"
     ]
    },
    {
     "name": "stdout",
     "output_type": "stream",
     "text": [
      "input/06_post_annotation_analyses/adata_per_sn_per_ct/OLD_WT_2_EX_MB.h5\n",
      "OLD_WT_2_EX_MB\n"
     ]
    },
    {
     "name": "stderr",
     "output_type": "stream",
     "text": [
      " 17%|█▋        | 2436/14494 [05:18<32:57,  6.10it/s]2023-11-14 17:39:06.504783: I tensorflow/compiler/xla/stream_executor/gpu/asm_compiler.cc:328] ptxas warning : Registers are spilled to local memory in function 'fusion', 1016 bytes spill stores, 512 bytes spill loads\n",
      "ptxas warning : Registers are spilled to local memory in function '__cuda_sm20_div_f64_slowpath_v2', 36 bytes spill stores, 36 bytes spill loads\n",
      "\n",
      " 93%|█████████▎| 13519/14494 [38:27<01:24, 11.59it/s]2023-11-14 17:39:07.646029: I tensorflow/compiler/xla/stream_executor/gpu/asm_compiler.cc:328] ptxas warning : Registers are spilled to local memory in function 'fusion_1', 3720 bytes spill stores, 4012 bytes spill loads\n",
      "ptxas warning : Registers are spilled to local memory in function '__cuda_sm20_div_f64_slowpath_v2', 152 bytes spill stores, 160 bytes spill loads\n",
      "ptxas warning : Registers are spilled to local memory in function '__internal_trig_reduction_slowpathd', 20 bytes spill stores, 12 bytes spill loads\n",
      "\n",
      "100%|██████████| 14494/14494 [40:14<00:00,  6.00it/s] \n",
      " 88%|████████▊ | 12799/14494 [40:13<03:47,  7.47it/s]/home/peter/mambaforge/envs/spatialde/lib/python3.9/site-packages/anndata/__init__.py:51: FutureWarning: `anndata.read` is deprecated, use `anndata.read_h5ad` instead. `ad.read` will be removed in mid 2024.\n",
      "  warnings.warn(\n",
      " 98%|█████████▊| 14235/14494 [40:14<01:16,  3.40it/s]2023-11-14 17:40:55.245422: I tensorflow/core/grappler/optimizers/data/replicate_on_split.cc:32] Running replicate on split optimization\n",
      " 98%|█████████▊| 14220/14494 [40:14<00:31,  8.65it/s]"
     ]
    },
    {
     "name": "stdout",
     "output_type": "stream",
     "text": [
      "input/06_post_annotation_analyses/adata_per_sn_per_ct/OLD_OVX_3_CORTEX_ERYTH.h5\n",
      "OLD_OVX_3_CORTEX_ERYTH\n"
     ]
    },
    {
     "name": "stderr",
     "output_type": "stream",
     "text": [
      "100%|██████████| 14494/14494 [40:57<00:00,  5.90it/s] \n",
      "  9%|▉         | 1314/14494 [02:34<20:42, 10.61it/s]/home/peter/mambaforge/envs/spatialde/lib/python3.9/site-packages/anndata/__init__.py:51: FutureWarning: `anndata.read` is deprecated, use `anndata.read_h5ad` instead. `ad.read` will be removed in mid 2024.\n",
      "  warnings.warn(\n",
      "  0%|          | 0/14494 [00:00<?, ?it/s]2023-11-14 17:41:38.946941: I tensorflow/core/grappler/optimizers/data/replicate_on_split.cc:32] Running replicate on split optimization\n",
      " 22%|██▏       | 3195/14494 [06:42<16:27, 11.44it/s]]"
     ]
    },
    {
     "name": "stdout",
     "output_type": "stream",
     "text": [
      "input/06_post_annotation_analyses/adata_per_sn_per_ct/YOUNG_WT_4_EX_CA1.h5\n",
      "YOUNG_WT_4_EX_CA1\n"
     ]
    },
    {
     "name": "stderr",
     "output_type": "stream",
     "text": [
      "100%|██████████| 14494/14494 [40:58<00:00,  5.90it/s]\n",
      "  4%|▎         | 529/14494 [00:44<14:05, 16.52it/s]/home/peter/mambaforge/envs/spatialde/lib/python3.9/site-packages/anndata/__init__.py:51: FutureWarning: `anndata.read` is deprecated, use `anndata.read_h5ad` instead. `ad.read` will be removed in mid 2024.\n",
      "  warnings.warn(\n",
      " 22%|██▏       | 3203/14494 [06:42<15:35, 12.07it/s]]"
     ]
    },
    {
     "name": "stdout",
     "output_type": "stream",
     "text": [
      "input/06_post_annotation_analyses/adata_per_sn_per_ct/OLD_OVX_3_MICROGLIA.h5\n",
      "OLD_OVX_3_MICROGLIA\n"
     ]
    },
    {
     "name": "stderr",
     "output_type": "stream",
     "text": [
      "2023-11-14 17:41:39.688165: I tensorflow/core/grappler/optimizers/data/replicate_on_split.cc:32] Running replicate on split optimization\n",
      " 35%|███▍      | 5032/14494 [09:51<23:05,  6.83it/s]2023-11-14 17:41:40.750524: I tensorflow/compiler/xla/stream_executor/gpu/asm_compiler.cc:328] ptxas warning : Registers are spilled to local memory in function 'fusion', 128 bytes spill stores, 64 bytes spill loads\n",
      "\n",
      " 22%|██▏       | 3167/14494 [07:10<15:25, 12.24it/s]2023-11-14 17:41:41.615771: I tensorflow/compiler/xla/stream_executor/gpu/asm_compiler.cc:328] ptxas warning : Registers are spilled to local memory in function 'fusion_1', 124 bytes spill stores, 124 bytes spill loads\n",
      "ptxas warning : Registers are spilled to local memory in function '__cuda_sm20_div_f64_slowpath_v2', 4 bytes spill stores, 4 bytes spill loads\n",
      "\n",
      " 30%|███       | 4400/14494 [09:05<12:55, 13.01it/s]2023-11-14 17:41:41.729636: I tensorflow/compiler/xla/stream_executor/gpu/asm_compiler.cc:328] ptxas warning : Registers are spilled to local memory in function 'fusion_1', 824 bytes spill stores, 632 bytes spill loads\n",
      "ptxas warning : Registers are spilled to local memory in function '__cuda_sm20_div_f64_slowpath_v2', 60 bytes spill stores, 60 bytes spill loads\n",
      "ptxas warning : Registers are spilled to local memory in function '__internal_trig_reduction_slowpathd', 12 bytes spill stores, 8 bytes spill loads\n",
      "\n",
      "100%|██████████| 14494/14494 [42:43<00:00,  5.65it/s] \n",
      "  6%|▌         | 859/14494 [01:45<28:09,  8.07it/s]/home/peter/mambaforge/envs/spatialde/lib/python3.9/site-packages/anndata/__init__.py:51: FutureWarning: `anndata.read` is deprecated, use `anndata.read_h5ad` instead. `ad.read` will be removed in mid 2024.\n",
      "  warnings.warn(\n",
      "  0%|          | 0/14494 [00:00<?, ?it/s]  7.60it/s]"
     ]
    },
    {
     "name": "stdout",
     "output_type": "stream",
     "text": [
      "input/06_post_annotation_analyses/adata_per_sn_per_ct/OLD_WT_3_CORTEX_Tshz2+.h5\n",
      "OLD_WT_3_CORTEX_Tshz2+\n"
     ]
    },
    {
     "name": "stderr",
     "output_type": "stream",
     "text": [
      "2023-11-14 17:43:25.053763: I tensorflow/core/grappler/optimizers/data/replicate_on_split.cc:32] Running replicate on split optimization\n",
      " 28%|██▊       | 4092/14494 [08:29<18:50,  9.20it/s]2023-11-14 17:43:26.527930: I tensorflow/compiler/xla/stream_executor/gpu/asm_compiler.cc:328] ptxas warning : Registers are spilled to local memory in function 'fusion', 128 bytes spill stores, 64 bytes spill loads\n",
      "\n",
      " 28%|██▊       | 4102/14494 [08:31<21:39,  8.00it/s]2023-11-14 17:43:27.833046: I tensorflow/compiler/xla/stream_executor/gpu/asm_compiler.cc:328] ptxas warning : Registers are spilled to local memory in function 'fusion_1', 824 bytes spill stores, 632 bytes spill loads\n",
      "ptxas warning : Registers are spilled to local memory in function '__cuda_sm20_div_f64_slowpath_v2', 60 bytes spill stores, 60 bytes spill loads\n",
      "ptxas warning : Registers are spilled to local memory in function '__internal_trig_reduction_slowpathd', 12 bytes spill stores, 8 bytes spill loads\n",
      "\n",
      "100%|██████████| 14494/14494 [45:24<00:00,  5.32it/s]]\n",
      "  7%|▋         | 1084/14494 [02:40<23:10,  9.64it/s]/home/peter/mambaforge/envs/spatialde/lib/python3.9/site-packages/anndata/__init__.py:51: FutureWarning: `anndata.read` is deprecated, use `anndata.read_h5ad` instead. `ad.read` will be removed in mid 2024.\n",
      "  warnings.warn(\n",
      "  0%|          | 0/14494 [00:00<?, ?it/s]2023-11-14 17:46:06.144327: I tensorflow/core/grappler/optimizers/data/replicate_on_split.cc:32] Running replicate on split optimization\n",
      " 39%|███▊      | 5608/14494 [12:17<13:15, 11.17it/s]"
     ]
    },
    {
     "name": "stdout",
     "output_type": "stream",
     "text": [
      "input/06_post_annotation_analyses/adata_per_sn_per_ct/YOUNG_OVX_3_EX_MB.h5\n",
      "YOUNG_OVX_3_EX_MB\n"
     ]
    },
    {
     "name": "stderr",
     "output_type": "stream",
     "text": [
      " 39%|███▉      | 5623/14494 [12:19<16:05,  9.18it/s]2023-11-14 17:46:07.785252: I tensorflow/compiler/xla/stream_executor/gpu/asm_compiler.cc:328] ptxas warning : Registers are spilled to local memory in function 'fusion', 372 bytes spill stores, 196 bytes spill loads\n",
      "ptxas warning : Registers are spilled to local memory in function '__cuda_sm20_div_f64_slowpath_v2', 12 bytes spill stores, 12 bytes spill loads\n",
      "\n",
      " 37%|███▋      | 5308/14494 [11:11<14:27, 10.59it/s]2023-11-14 17:46:08.773838: I tensorflow/compiler/xla/stream_executor/gpu/asm_compiler.cc:328] ptxas warning : Registers are spilled to local memory in function 'fusion_1', 1412 bytes spill stores, 1084 bytes spill loads\n",
      "ptxas warning : Registers are spilled to local memory in function '__cuda_sm20_div_f64_slowpath_v2', 60 bytes spill stores, 60 bytes spill loads\n",
      "ptxas warning : Registers are spilled to local memory in function '__internal_trig_reduction_slowpathd', 4 bytes spill stores, 4 bytes spill loads\n",
      "\n",
      "100%|██████████| 14494/14494 [28:39<00:00,  8.43it/s] \n",
      " 70%|███████   | 10189/14494 [22:35<11:11,  6.41it/s]/home/peter/mambaforge/envs/spatialde/lib/python3.9/site-packages/anndata/__init__.py:51: FutureWarning: `anndata.read` is deprecated, use `anndata.read_h5ad` instead. `ad.read` will be removed in mid 2024.\n",
      "  warnings.warn(\n",
      " 86%|████████▌ | 12476/14494 [31:20<04:28,  7.50it/s]2023-11-14 18:00:29.374689: I tensorflow/core/grappler/optimizers/data/replicate_on_split.cc:32] Running replicate on split optimization\n",
      " 98%|█████████▊| 14176/14494 [25:16<00:49,  6.43it/s]"
     ]
    },
    {
     "name": "stdout",
     "output_type": "stream",
     "text": [
      "input/06_post_annotation_analyses/adata_per_sn_per_ct/OLD_OVX_1_CORTEX_Tshz2+.h5\n",
      "OLD_OVX_1_CORTEX_Tshz2+\n"
     ]
    },
    {
     "name": "stderr",
     "output_type": "stream",
     "text": [
      " 86%|████████▌ | 12491/14494 [31:22<03:14, 10.31it/s]2023-11-14 18:00:31.046967: I tensorflow/compiler/xla/stream_executor/gpu/asm_compiler.cc:328] ptxas warning : Registers are spilled to local memory in function 'fusion', 388 bytes spill stores, 204 bytes spill loads\n",
      "ptxas warning : Registers are spilled to local memory in function '__cuda_sm20_div_f64_slowpath_v2', 12 bytes spill stores, 12 bytes spill loads\n",
      "\n",
      " 86%|████████▌ | 12496/14494 [31:23<05:35,  5.95it/s]2023-11-14 18:00:32.056785: I tensorflow/compiler/xla/stream_executor/gpu/asm_compiler.cc:328] ptxas warning : Registers are spilled to local memory in function 'fusion_1', 1428 bytes spill stores, 1092 bytes spill loads\n",
      "ptxas warning : Registers are spilled to local memory in function '__cuda_sm20_div_f64_slowpath_v2', 60 bytes spill stores, 60 bytes spill loads\n",
      "ptxas warning : Registers are spilled to local memory in function '__internal_trig_reduction_slowpathd', 4 bytes spill stores, 4 bytes spill loads\n",
      "\n",
      "100%|██████████| 14494/14494 [25:53<00:00,  9.33it/s]\n",
      " 52%|█████▏    | 7472/14494 [17:41<13:06,  8.93it/s]/home/peter/mambaforge/envs/spatialde/lib/python3.9/site-packages/anndata/__init__.py:51: FutureWarning: `anndata.read` is deprecated, use `anndata.read_h5ad` instead. `ad.read` will be removed in mid 2024.\n",
      "  warnings.warn(\n",
      " 80%|████████  | 11619/14494 [26:36<05:29,  8.72it/s]"
     ]
    },
    {
     "name": "stdout",
     "output_type": "stream",
     "text": [
      "input/06_post_annotation_analyses/adata_per_sn_per_ct/YOUNG_OVX_1_ASTRO_1.h5\n",
      "YOUNG_OVX_1_ASTRO_1\n"
     ]
    },
    {
     "name": "stderr",
     "output_type": "stream",
     "text": [
      "2023-11-14 18:01:06.827875: I tensorflow/core/grappler/optimizers/data/replicate_on_split.cc:32] Running replicate on split optimization\n",
      " 61%|██████    | 8779/14494 [25:41<27:09,  3.51it/s]2023-11-14 18:01:08.332055: I tensorflow/compiler/xla/stream_executor/gpu/asm_compiler.cc:328] ptxas warning : Registers are spilled to local memory in function 'fusion', 220 bytes spill stores, 116 bytes spill loads\n",
      "ptxas warning : Registers are spilled to local memory in function '__cuda_sm20_div_f64_slowpath_v2', 12 bytes spill stores, 12 bytes spill loads\n",
      "\n",
      " 86%|████████▋ | 12506/14494 [25:48<04:25,  7.48it/s]2023-11-14 18:01:09.322494: I tensorflow/compiler/xla/stream_executor/gpu/asm_compiler.cc:328] ptxas warning : Registers are spilled to local memory in function 'fusion_1', 1112 bytes spill stores, 832 bytes spill loads\n",
      "ptxas warning : Registers are spilled to local memory in function '__cuda_sm20_div_f64_slowpath_v2', 56 bytes spill stores, 56 bytes spill loads\n",
      "ptxas warning : Registers are spilled to local memory in function '__internal_trig_reduction_slowpathd', 20 bytes spill stores, 12 bytes spill loads\n",
      "\n",
      "100%|██████████| 14494/14494 [30:36<00:00,  7.89it/s]\n",
      " 66%|██████▌   | 9507/14494 [27:45<09:04,  9.17it/s]/home/peter/mambaforge/envs/spatialde/lib/python3.9/site-packages/anndata/__init__.py:51: FutureWarning: `anndata.read` is deprecated, use `anndata.read_h5ad` instead. `ad.read` will be removed in mid 2024.\n",
      "  warnings.warn(\n",
      "  0%|          | 0/14494 [00:00<?, ?it/s]2023-11-14 18:03:12.587433: I tensorflow/core/grappler/optimizers/data/replicate_on_split.cc:32] Running replicate on split optimization\n",
      "  9%|▉         | 1325/14494 [02:43<19:51, 11.05it/s]]"
     ]
    },
    {
     "name": "stdout",
     "output_type": "stream",
     "text": [
      "input/06_post_annotation_analyses/adata_per_sn_per_ct/OLD_OVX_5_EX_L1.h5\n",
      "OLD_OVX_5_EX_L1\n"
     ]
    },
    {
     "name": "stderr",
     "output_type": "stream",
     "text": [
      " 79%|███████▉  | 11468/14494 [25:20<06:57,  7.25it/s]2023-11-14 18:03:14.450000: I tensorflow/compiler/xla/stream_executor/gpu/asm_compiler.cc:328] ptxas warning : Registers are spilled to local memory in function 'fusion', 552 bytes spill stores, 280 bytes spill loads\n",
      "ptxas warning : Registers are spilled to local memory in function '__cuda_sm20_div_f64_slowpath_v2', 12 bytes spill stores, 12 bytes spill loads\n",
      "\n",
      " 94%|█████████▎| 13552/14494 [27:54<05:54,  2.66it/s]2023-11-14 18:03:15.534081: I tensorflow/compiler/xla/stream_executor/gpu/asm_compiler.cc:328] ptxas warning : Registers are spilled to local memory in function 'fusion_1', 1820 bytes spill stores, 1432 bytes spill loads\n",
      "ptxas warning : Registers are spilled to local memory in function '__cuda_sm20_div_f64_slowpath_v2', 100 bytes spill stores, 116 bytes spill loads\n",
      "ptxas warning : Registers are spilled to local memory in function '__internal_trig_reduction_slowpathd', 20 bytes spill stores, 12 bytes spill loads\n",
      "\n",
      "100%|██████████| 14494/14494 [29:50<00:00,  8.10it/s] \n",
      " 12%|█▏        | 1752/14494 [04:04<26:21,  8.06it/s]/home/peter/mambaforge/envs/spatialde/lib/python3.9/site-packages/anndata/__init__.py:51: FutureWarning: `anndata.read` is deprecated, use `anndata.read_h5ad` instead. `ad.read` will be removed in mid 2024.\n",
      "  warnings.warn(\n",
      " 64%|██████▍   | 9314/14494 [21:46<13:25,  6.43it/s]2023-11-14 18:05:11.805866: I tensorflow/core/grappler/optimizers/data/replicate_on_split.cc:32] Running replicate on split optimization\n",
      " 70%|███████   | 10182/14494 [29:45<08:15,  8.70it/s]"
     ]
    },
    {
     "name": "stdout",
     "output_type": "stream",
     "text": [
      "input/06_post_annotation_analyses/adata_per_sn_per_ct/YOUNG_WT_3_IN_Adarb2+.h5\n",
      "YOUNG_WT_3_IN_Adarb2+\n"
     ]
    },
    {
     "name": "stderr",
     "output_type": "stream",
     "text": [
      " 86%|████████▌ | 12413/14494 [27:19<03:15, 10.63it/s]2023-11-14 18:05:13.806780: I tensorflow/compiler/xla/stream_executor/gpu/asm_compiler.cc:328] ptxas warning : Registers are spilled to local memory in function 'fusion_1', 588 bytes spill stores, 464 bytes spill loads\n",
      "ptxas warning : Registers are spilled to local memory in function '__cuda_sm20_div_f64_slowpath_v2', 36 bytes spill stores, 36 bytes spill loads\n",
      "\n",
      "100%|██████████| 14494/14494 [30:22<00:00,  7.95it/s] \n",
      " 86%|████████▌ | 12452/14494 [27:25<03:23, 10.03it/s]/home/peter/mambaforge/envs/spatialde/lib/python3.9/site-packages/anndata/__init__.py:51: FutureWarning: `anndata.read` is deprecated, use `anndata.read_h5ad` instead. `ad.read` will be removed in mid 2024.\n",
      "  warnings.warn(\n",
      " 62%|██████▏   | 9022/14494 [23:40<09:28,  9.62it/s]2023-11-14 18:05:19.917775: I tensorflow/core/grappler/optimizers/data/replicate_on_split.cc:32] Running replicate on split optimization\n",
      " 71%|███████   | 10238/14494 [29:53<08:06,  8.75it/s]"
     ]
    },
    {
     "name": "stdout",
     "output_type": "stream",
     "text": [
      "input/06_post_annotation_analyses/adata_per_sn_per_ct/YOUNG_OVX_2_DOPA_VTA.h5\n",
      "YOUNG_OVX_2_DOPA_VTA\n"
     ]
    },
    {
     "name": "stderr",
     "output_type": "stream",
     "text": [
      "100%|██████████| 14494/14494 [26:20<00:00,  9.17it/s]\n",
      " 55%|█████▍    | 7912/14494 [19:19<24:20,  4.51it/s]/home/peter/mambaforge/envs/spatialde/lib/python3.9/site-packages/anndata/__init__.py:51: FutureWarning: `anndata.read` is deprecated, use `anndata.read_h5ad` instead. `ad.read` will be removed in mid 2024.\n",
      "  warnings.warn(\n",
      " 71%|███████   | 10265/14494 [29:59<14:24,  4.89it/s]"
     ]
    },
    {
     "name": "stdout",
     "output_type": "stream",
     "text": [
      "input/06_post_annotation_analyses/adata_per_sn_per_ct/YOUNG_WT_2_OPC.h5\n",
      "YOUNG_WT_2_OPC\n"
     ]
    },
    {
     "name": "stderr",
     "output_type": "stream",
     "text": [
      "  0%|          | 0/14494 [00:00<?, ?it/s]2023-11-14 18:05:25.492978: I tensorflow/core/grappler/optimizers/data/replicate_on_split.cc:32] Running replicate on split optimization\n",
      "100%|██████████| 14494/14494 [36:26<00:00,  6.63it/s]\n",
      "  1%|          | 155/14494 [00:23<23:49, 10.03it/s]/home/peter/mambaforge/envs/spatialde/lib/python3.9/site-packages/anndata/__init__.py:51: FutureWarning: `anndata.read` is deprecated, use `anndata.read_h5ad` instead. `ad.read` will be removed in mid 2024.\n",
      "  warnings.warn(\n",
      "  1%|          | 88/14494 [00:15<26:46,  8.97it/s]2023-11-14 18:05:35.772269: I tensorflow/core/grappler/optimizers/data/replicate_on_split.cc:32] Running replicate on split optimization\n",
      " 96%|█████████▌| 13930/14494 [35:18<01:04,  8.79it/s]"
     ]
    },
    {
     "name": "stdout",
     "output_type": "stream",
     "text": [
      "input/06_post_annotation_analyses/adata_per_sn_per_ct/OLD_OVX_4_EX_L6.h5\n",
      "OLD_OVX_4_EX_L6\n"
     ]
    },
    {
     "name": "stderr",
     "output_type": "stream",
     "text": [
      "  1%|          | 109/14494 [00:17<20:32, 11.67it/s]2023-11-14 18:05:37.607952: I tensorflow/compiler/xla/stream_executor/gpu/asm_compiler.cc:328] ptxas warning : Registers are spilled to local memory in function 'fusion', 552 bytes spill stores, 280 bytes spill loads\n",
      "ptxas warning : Registers are spilled to local memory in function '__cuda_sm20_div_f64_slowpath_v2', 12 bytes spill stores, 12 bytes spill loads\n",
      "\n",
      "  1%|▏         | 190/14494 [00:26<20:18, 11.74it/s]]]2023-11-14 18:05:38.783148: I tensorflow/compiler/xla/stream_executor/gpu/asm_compiler.cc:328] ptxas warning : Registers are spilled to local memory in function 'fusion_1', 1820 bytes spill stores, 1432 bytes spill loads\n",
      "ptxas warning : Registers are spilled to local memory in function '__cuda_sm20_div_f64_slowpath_v2', 100 bytes spill stores, 116 bytes spill loads\n",
      "ptxas warning : Registers are spilled to local memory in function '__internal_trig_reduction_slowpathd', 20 bytes spill stores, 12 bytes spill loads\n",
      "\n",
      "100%|██████████| 14494/14494 [32:03<00:00,  7.53it/s] \n",
      " 88%|████████▊ | 12743/14494 [27:58<02:44, 10.65it/s]/home/peter/mambaforge/envs/spatialde/lib/python3.9/site-packages/anndata/__init__.py:51: FutureWarning: `anndata.read` is deprecated, use `anndata.read_h5ad` instead. `ad.read` will be removed in mid 2024.\n",
      "  warnings.warn(\n",
      "  0%|          | 0/14494 [00:00<?, ?it/s]2023-11-14 18:05:52.303579: I tensorflow/core/grappler/optimizers/data/replicate_on_split.cc:32] Running replicate on split optimization\n",
      " 56%|█████▌    | 8126/14494 [19:46<19:22,  5.48it/s]]"
     ]
    },
    {
     "name": "stdout",
     "output_type": "stream",
     "text": [
      "input/06_post_annotation_analyses/adata_per_sn_per_ct/YOUNG_WT_4_THALAMUS.h5\n",
      "YOUNG_WT_4_THALAMUS\n"
     ]
    },
    {
     "name": "stderr",
     "output_type": "stream",
     "text": [
      " 19%|█▉        | 2735/14494 [05:24<17:33, 11.16it/s]2023-11-14 18:05:54.145431: I tensorflow/compiler/xla/stream_executor/gpu/asm_compiler.cc:328] ptxas warning : Registers are spilled to local memory in function 'fusion_1', 240 bytes spill stores, 232 bytes spill loads\n",
      "ptxas warning : Registers are spilled to local memory in function '__cuda_sm20_div_f64_slowpath_v2', 12 bytes spill stores, 12 bytes spill loads\n",
      "\n",
      "100%|██████████| 14494/14494 [36:27<00:00,  6.63it/s] \n",
      "  4%|▍         | 546/14494 [01:24<47:55,  4.85it/s]  /home/peter/mambaforge/envs/spatialde/lib/python3.9/site-packages/anndata/__init__.py:51: FutureWarning: `anndata.read` is deprecated, use `anndata.read_h5ad` instead. `ad.read` will be removed in mid 2024.\n",
      "  warnings.warn(\n",
      " 22%|██▏       | 3193/14494 [06:15<22:25,  8.40it/s]2023-11-14 18:06:44.804134: I tensorflow/core/grappler/optimizers/data/replicate_on_split.cc:32] Running replicate on split optimization\n",
      " 59%|█████▊    | 8508/14494 [20:38<08:48, 11.32it/s]]"
     ]
    },
    {
     "name": "stdout",
     "output_type": "stream",
     "text": [
      "input/06_post_annotation_analyses/adata_per_sn_per_ct/OLD_OVX_5_THALAMUS.h5\n",
      "OLD_OVX_5_THALAMUS\n"
     ]
    },
    {
     "name": "stderr",
     "output_type": "stream",
     "text": [
      "100%|██████████| 14494/14494 [33:09<00:00,  7.29it/s] \n",
      " 61%|██████    | 8875/14494 [21:33<10:33,  8.87it/s]/home/peter/mambaforge/envs/spatialde/lib/python3.9/site-packages/anndata/__init__.py:51: FutureWarning: `anndata.read` is deprecated, use `anndata.read_h5ad` instead. `ad.read` will be removed in mid 2024.\n",
      "  warnings.warn(\n",
      "  0%|          | 0/14494 [00:00<?, ?it/s]2023-11-14 18:07:40.193822: I tensorflow/core/grappler/optimizers/data/replicate_on_split.cc:32] Running replicate on split optimization\n",
      "  6%|▌         | 891/14494 [02:20<1:08:13,  3.32it/s]"
     ]
    },
    {
     "name": "stdout",
     "output_type": "stream",
     "text": [
      "input/06_post_annotation_analyses/adata_per_sn_per_ct/YOUNG_WT_4_EX_L5.h5\n",
      "YOUNG_WT_4_EX_L5\n"
     ]
    },
    {
     "name": "stderr",
     "output_type": "stream",
     "text": [
      " 26%|██▌       | 3698/14494 [07:12<18:19,  9.82it/s]2023-11-14 18:07:42.035325: I tensorflow/compiler/xla/stream_executor/gpu/asm_compiler.cc:328] ptxas warning : Registers are spilled to local memory in function 'fusion', 552 bytes spill stores, 280 bytes spill loads\n",
      "ptxas warning : Registers are spilled to local memory in function '__cuda_sm20_div_f64_slowpath_v2', 12 bytes spill stores, 12 bytes spill loads\n",
      "\n",
      " 98%|█████████▊| 14164/14494 [35:57<00:55,  5.93it/s]2023-11-14 18:07:43.143821: I tensorflow/compiler/xla/stream_executor/gpu/asm_compiler.cc:328] ptxas warning : Registers are spilled to local memory in function 'fusion_1', 1820 bytes spill stores, 1432 bytes spill loads\n",
      "ptxas warning : Registers are spilled to local memory in function '__cuda_sm20_div_f64_slowpath_v2', 100 bytes spill stores, 116 bytes spill loads\n",
      "ptxas warning : Registers are spilled to local memory in function '__internal_trig_reduction_slowpathd', 20 bytes spill stores, 12 bytes spill loads\n",
      "\n",
      "100%|██████████| 14494/14494 [36:56<00:00,  6.54it/s] \n",
      " 10%|▉         | 1387/14494 [03:06<23:08,  9.44it/s]/home/peter/mambaforge/envs/spatialde/lib/python3.9/site-packages/anndata/__init__.py:51: FutureWarning: `anndata.read` is deprecated, use `anndata.read_h5ad` instead. `ad.read` will be removed in mid 2024.\n",
      "  warnings.warn(\n",
      " 22%|██▏       | 3205/14494 [07:35<55:31,  3.39it/s]  "
     ]
    },
    {
     "name": "stdout",
     "output_type": "stream",
     "text": [
      "input/06_post_annotation_analyses/adata_per_sn_per_ct/OLD_OVX_4_Cartpt+.h5\n",
      "OLD_OVX_4_Cartpt+\n"
     ]
    },
    {
     "name": "stderr",
     "output_type": "stream",
     "text": [
      "  0%|          | 0/14494 [00:00<?, ?it/s]2023-11-14 18:08:42.291690: I tensorflow/core/grappler/optimizers/data/replicate_on_split.cc:32] Running replicate on split optimization\n",
      "100%|██████████| 14494/14494 [27:13<00:00,  8.87it/s] \n",
      " 23%|██▎       | 3277/14494 [07:45<19:43,  9.48it/s]/home/peter/mambaforge/envs/spatialde/lib/python3.9/site-packages/anndata/__init__.py:51: FutureWarning: `anndata.read` is deprecated, use `anndata.read_h5ad` instead. `ad.read` will be removed in mid 2024.\n",
      "  warnings.warn(\n",
      "  0%|          | 0/14494 [00:00<?, ?it/s] 8.46it/s]]] "
     ]
    },
    {
     "name": "stdout",
     "output_type": "stream",
     "text": [
      "input/06_post_annotation_analyses/adata_per_sn_per_ct/YOUNG_WT_2_EX_MB.h5\n",
      "YOUNG_WT_2_EX_MB\n"
     ]
    },
    {
     "name": "stderr",
     "output_type": "stream",
     "text": [
      "2023-11-14 18:08:53.130755: I tensorflow/core/grappler/optimizers/data/replicate_on_split.cc:32] Running replicate on split optimization\n",
      " 65%|██████▍   | 9387/14494 [22:48<14:10,  6.00it/s]2023-11-14 18:08:54.820249: I tensorflow/compiler/xla/stream_executor/gpu/asm_compiler.cc:328] ptxas warning : Registers are spilled to local memory in function 'fusion', 388 bytes spill stores, 204 bytes spill loads\n",
      "ptxas warning : Registers are spilled to local memory in function '__cuda_sm20_div_f64_slowpath_v2', 12 bytes spill stores, 12 bytes spill loads\n",
      "\n",
      "  1%|          | 155/14494 [00:13<14:29, 16.48it/s]2023-11-14 18:08:55.848796: I tensorflow/compiler/xla/stream_executor/gpu/asm_compiler.cc:328] ptxas warning : Registers are spilled to local memory in function 'fusion_1', 1428 bytes spill stores, 1092 bytes spill loads\n",
      "ptxas warning : Registers are spilled to local memory in function '__cuda_sm20_div_f64_slowpath_v2', 60 bytes spill stores, 60 bytes spill loads\n",
      "ptxas warning : Registers are spilled to local memory in function '__internal_trig_reduction_slowpathd', 4 bytes spill stores, 4 bytes spill loads\n",
      "\n",
      "100%|██████████| 14494/14494 [31:40<00:00,  7.63it/s] \n",
      " 25%|██▍       | 3569/14494 [08:27<15:17, 11.91it/s]/home/peter/mambaforge/envs/spatialde/lib/python3.9/site-packages/anndata/__init__.py:51: FutureWarning: `anndata.read` is deprecated, use `anndata.read_h5ad` instead. `ad.read` will be removed in mid 2024.\n",
      "  warnings.warn(\n",
      "  4%|▍         | 614/14494 [00:52<21:46, 10.63it/s]2023-11-14 18:09:34.643741: I tensorflow/core/grappler/optimizers/data/replicate_on_split.cc:32] Running replicate on split optimization\n",
      " 10%|█         | 1486/14494 [03:42<35:54,  6.04it/s]]"
     ]
    },
    {
     "name": "stdout",
     "output_type": "stream",
     "text": [
      "input/06_post_annotation_analyses/adata_per_sn_per_ct/YOUNG_OVX_1_DOPA_SN.h5\n",
      "YOUNG_OVX_1_DOPA_SN\n"
     ]
    },
    {
     "name": "stderr",
     "output_type": "stream",
     "text": [
      "100%|██████████| 14494/14494 [29:06<00:00,  8.30it/s] \n",
      " 74%|███████▎  | 10672/14494 [28:22<08:58,  7.10it/s]/home/peter/mambaforge/envs/spatialde/lib/python3.9/site-packages/anndata/__init__.py:51: FutureWarning: `anndata.read` is deprecated, use `anndata.read_h5ad` instead. `ad.read` will be removed in mid 2024.\n",
      "  warnings.warn(\n",
      "  0%|          | 0/14494 [00:00<?, ?it/s]2023-11-14 18:10:02.397101: I tensorflow/core/grappler/optimizers/data/replicate_on_split.cc:32] Running replicate on split optimization\n",
      "  6%|▌         | 892/14494 [01:20<22:39, 10.00it/s]]]"
     ]
    },
    {
     "name": "stdout",
     "output_type": "stream",
     "text": [
      "input/06_post_annotation_analyses/adata_per_sn_per_ct/OLD_WT_4_EX_L4.h5\n",
      "OLD_WT_4_EX_L4\n"
     ]
    },
    {
     "name": "stderr",
     "output_type": "stream",
     "text": [
      "100%|██████████| 14494/14494 [33:25<00:00,  7.23it/s] \n",
      " 90%|█████████ | 13053/14494 [35:10<03:10,  7.57it/s]/home/peter/mambaforge/envs/spatialde/lib/python3.9/site-packages/anndata/__init__.py:51: FutureWarning: `anndata.read` is deprecated, use `anndata.read_h5ad` instead. `ad.read` will be removed in mid 2024.\n",
      "  warnings.warn(\n",
      "  0%|          | 0/14494 [00:00<?, ?it/s]2023-11-14 18:16:50.820710: I tensorflow/core/grappler/optimizers/data/replicate_on_split.cc:32] Running replicate on split optimization\n",
      " 23%|██▎       | 3319/14494 [06:48<21:29,  8.67it/s]"
     ]
    },
    {
     "name": "stdout",
     "output_type": "stream",
     "text": [
      "input/06_post_annotation_analyses/adata_per_sn_per_ct/OLD_OVX_1_MICROGLIA.h5\n",
      "OLD_OVX_1_MICROGLIA\n"
     ]
    },
    {
     "name": "stderr",
     "output_type": "stream",
     "text": [
      "100%|██████████| 14494/14494 [42:34<00:00,  5.67it/s] \n",
      "  4%|▎         | 517/14494 [01:10<20:36, 11.30it/s]/home/peter/mambaforge/envs/spatialde/lib/python3.9/site-packages/anndata/__init__.py:51: FutureWarning: `anndata.read` is deprecated, use `anndata.read_h5ad` instead. `ad.read` will be removed in mid 2024.\n",
      "  warnings.warn(\n",
      " 38%|███▊      | 5472/14494 [10:21<14:13, 10.57it/s]2023-11-14 18:18:01.349830: I tensorflow/core/grappler/optimizers/data/replicate_on_split.cc:32] Running replicate on split optimization\n",
      " 32%|███▏      | 4631/14494 [09:08<15:33, 10.57it/s]]"
     ]
    },
    {
     "name": "stdout",
     "output_type": "stream",
     "text": [
      "input/06_post_annotation_analyses/adata_per_sn_per_ct/YOUNG_OVX_1_THALAMUS.h5\n",
      "YOUNG_OVX_1_THALAMUS\n"
     ]
    },
    {
     "name": "stderr",
     "output_type": "stream",
     "text": [
      " 90%|█████████ | 13053/14494 [31:56<03:48,  6.31it/s]2023-11-14 18:18:03.055625: I tensorflow/compiler/xla/stream_executor/gpu/asm_compiler.cc:328] ptxas warning : Registers are spilled to local memory in function 'fusion', 372 bytes spill stores, 196 bytes spill loads\n",
      "ptxas warning : Registers are spilled to local memory in function '__cuda_sm20_div_f64_slowpath_v2', 12 bytes spill stores, 12 bytes spill loads\n",
      "\n",
      " 36%|███▌      | 5184/14494 [12:11<12:38, 12.28it/s]2023-11-14 18:18:04.025223: I tensorflow/compiler/xla/stream_executor/gpu/asm_compiler.cc:328] ptxas warning : Registers are spilled to local memory in function 'fusion_1', 1412 bytes spill stores, 1084 bytes spill loads\n",
      "ptxas warning : Registers are spilled to local memory in function '__cuda_sm20_div_f64_slowpath_v2', 60 bytes spill stores, 60 bytes spill loads\n",
      "ptxas warning : Registers are spilled to local memory in function '__internal_trig_reduction_slowpathd', 4 bytes spill stores, 4 bytes spill loads\n",
      "\n",
      "100%|██████████| 14494/14494 [39:20<00:00,  6.14it/s] \n",
      " 71%|███████   | 10239/14494 [20:30<06:50, 10.36it/s]/home/peter/mambaforge/envs/spatialde/lib/python3.9/site-packages/anndata/__init__.py:51: FutureWarning: `anndata.read` is deprecated, use `anndata.read_h5ad` instead. `ad.read` will be removed in mid 2024.\n",
      "  warnings.warn(\n",
      "  0%|          | 0/14494 [00:00<?, ?it/s]2023-11-14 18:21:00.276604: I tensorflow/core/grappler/optimizers/data/replicate_on_split.cc:32] Running replicate on split optimization\n",
      " 42%|████▏     | 6060/14494 [12:07<12:26, 11.30it/s]"
     ]
    },
    {
     "name": "stdout",
     "output_type": "stream",
     "text": [
      "input/06_post_annotation_analyses/adata_per_sn_per_ct/OLD_WT_5_OPC.h5\n",
      "OLD_WT_5_OPC\n"
     ]
    },
    {
     "name": "stderr",
     "output_type": "stream",
     "text": [
      "100%|██████████| 14494/14494 [35:29<00:00,  6.81it/s] \n",
      " 45%|████▍     | 6469/14494 [14:50<25:25,  5.26it/s]/home/peter/mambaforge/envs/spatialde/lib/python3.9/site-packages/anndata/__init__.py:51: FutureWarning: `anndata.read` is deprecated, use `anndata.read_h5ad` instead. `ad.read` will be removed in mid 2024.\n",
      "  warnings.warn(\n",
      "  0%|          | 0/14494 [00:00<?, ?it/s]2023-11-14 18:21:35.775135: I tensorflow/core/grappler/optimizers/data/replicate_on_split.cc:32] Running replicate on split optimization\n",
      " 41%|████▏     | 6014/14494 [16:15<11:14, 12.57it/s]]"
     ]
    },
    {
     "name": "stdout",
     "output_type": "stream",
     "text": [
      "input/06_post_annotation_analyses/adata_per_sn_per_ct/YOUNG_WT_1_EX_CA3.h5\n",
      "YOUNG_WT_1_EX_CA3\n"
     ]
    },
    {
     "name": "stderr",
     "output_type": "stream",
     "text": [
      " 36%|███▌      | 5214/14494 [12:02<34:17,  4.51it/s]2023-11-14 18:21:37.447179: I tensorflow/compiler/xla/stream_executor/gpu/asm_compiler.cc:328] ptxas warning : Registers are spilled to local memory in function 'fusion', 220 bytes spill stores, 116 bytes spill loads\n",
      "ptxas warning : Registers are spilled to local memory in function '__cuda_sm20_div_f64_slowpath_v2', 12 bytes spill stores, 12 bytes spill loads\n",
      "\n",
      " 36%|███▌      | 5224/14494 [12:03<18:15,  8.46it/s]2023-11-14 18:21:38.383741: I tensorflow/compiler/xla/stream_executor/gpu/asm_compiler.cc:328] ptxas warning : Registers are spilled to local memory in function 'fusion_1', 1112 bytes spill stores, 832 bytes spill loads\n",
      "ptxas warning : Registers are spilled to local memory in function '__cuda_sm20_div_f64_slowpath_v2', 56 bytes spill stores, 56 bytes spill loads\n",
      "ptxas warning : Registers are spilled to local memory in function '__internal_trig_reduction_slowpathd', 20 bytes spill stores, 12 bytes spill loads\n",
      "\n",
      "100%|██████████| 14494/14494 [28:15<00:00,  8.55it/s]]\n",
      " 67%|██████▋   | 9664/14494 [22:00<13:59,  5.76it/s]/home/peter/mambaforge/envs/spatialde/lib/python3.9/site-packages/anndata/__init__.py:51: FutureWarning: `anndata.read` is deprecated, use `anndata.read_h5ad` instead. `ad.read` will be removed in mid 2024.\n",
      "  warnings.warn(\n",
      "  0%|          | 0/14494 [00:00<?, ?it/s]2023-11-14 18:28:45.153752: I tensorflow/core/grappler/optimizers/data/replicate_on_split.cc:32] Running replicate on split optimization\n",
      " 78%|███████▊  | 11300/14494 [23:33<04:44, 11.23it/s]]"
     ]
    },
    {
     "name": "stdout",
     "output_type": "stream",
     "text": [
      "input/06_post_annotation_analyses/adata_per_sn_per_ct/OLD_WT_2_CORTEX_Tshz2+.h5\n",
      "OLD_WT_2_CORTEX_Tshz2+\n"
     ]
    },
    {
     "name": "stderr",
     "output_type": "stream",
     "text": [
      " 71%|███████▏  | 10339/14494 [19:53<05:44, 12.07it/s]2023-11-14 18:28:46.938759: I tensorflow/compiler/xla/stream_executor/gpu/asm_compiler.cc:328] ptxas warning : Registers are spilled to local memory in function 'fusion_1', 256 bytes spill stores, 240 bytes spill loads\n",
      "ptxas warning : Registers are spilled to local memory in function '__cuda_sm20_div_f64_slowpath_v2', 12 bytes spill stores, 12 bytes spill loads\n",
      "\n",
      "100%|██████████| 14494/14494 [29:05<00:00,  8.30it/s] \n",
      " 75%|███████▌  | 10942/14494 [22:15<06:05,  9.73it/s]/home/peter/mambaforge/envs/spatialde/lib/python3.9/site-packages/anndata/__init__.py:51: FutureWarning: `anndata.read` is deprecated, use `anndata.read_h5ad` instead. `ad.read` will be removed in mid 2024.\n",
      "  warnings.warn(\n",
      "  0%|          | 0/14494 [00:00<?, ?it/s]2023-11-14 18:32:18.377587: I tensorflow/core/grappler/optimizers/data/replicate_on_split.cc:32] Running replicate on split optimization\n",
      " 42%|████▏     | 6036/14494 [14:17<12:56, 10.89it/s]]"
     ]
    },
    {
     "name": "stdout",
     "output_type": "stream",
     "text": [
      "input/06_post_annotation_analyses/adata_per_sn_per_ct/OLD_WT_3_DOPA_VTA.h5\n",
      "OLD_WT_3_DOPA_VTA\n"
     ]
    },
    {
     "name": "stderr",
     "output_type": "stream",
     "text": [
      "100%|██████████| 14494/14494 [26:22<00:00,  9.16it/s] \n",
      " 47%|████▋     | 6802/14494 [16:01<21:24,  5.99it/s]/home/peter/mambaforge/envs/spatialde/lib/python3.9/site-packages/anndata/__init__.py:51: FutureWarning: `anndata.read` is deprecated, use `anndata.read_h5ad` instead. `ad.read` will be removed in mid 2024.\n",
      "  warnings.warn(\n",
      " 47%|████▋     | 6806/14494 [16:01<14:58,  8.55it/s]2023-11-14 18:34:02.981773: I tensorflow/core/grappler/optimizers/data/replicate_on_split.cc:32] Running replicate on split optimization\n",
      " 44%|████▎     | 6330/14494 [13:02<10:13, 13.30it/s]]"
     ]
    },
    {
     "name": "stdout",
     "output_type": "stream",
     "text": [
      "input/06_post_annotation_analyses/adata_per_sn_per_ct/YOUNG_WT_2_EX_L1.h5\n",
      "YOUNG_WT_2_EX_L1\n"
     ]
    },
    {
     "name": "stderr",
     "output_type": "stream",
     "text": [
      " 91%|█████████▏| 13249/14494 [28:28<02:10,  9.55it/s]2023-11-14 18:34:04.580039: I tensorflow/compiler/xla/stream_executor/gpu/asm_compiler.cc:328] ptxas warning : Registers are spilled to local memory in function 'fusion', 220 bytes spill stores, 116 bytes spill loads\n",
      "ptxas warning : Registers are spilled to local memory in function '__cuda_sm20_div_f64_slowpath_v2', 12 bytes spill stores, 12 bytes spill loads\n",
      "\n",
      " 96%|█████████▌| 13937/14494 [32:58<00:53, 10.46it/s]2023-11-14 18:34:05.538537: I tensorflow/compiler/xla/stream_executor/gpu/asm_compiler.cc:328] ptxas warning : Registers are spilled to local memory in function 'fusion_1', 1120 bytes spill stores, 832 bytes spill loads\n",
      "ptxas warning : Registers are spilled to local memory in function '__cuda_sm20_div_f64_slowpath_v2', 56 bytes spill stores, 56 bytes spill loads\n",
      "ptxas warning : Registers are spilled to local memory in function '__internal_trig_reduction_slowpathd', 20 bytes spill stores, 12 bytes spill loads\n",
      "\n",
      "100%|██████████| 14494/14494 [25:35<00:00,  9.44it/s]\n",
      " 73%|███████▎  | 10629/14494 [24:43<12:18,  5.23it/s]/home/peter/mambaforge/envs/spatialde/lib/python3.9/site-packages/anndata/__init__.py:51: FutureWarning: `anndata.read` is deprecated, use `anndata.read_h5ad` instead. `ad.read` will be removed in mid 2024.\n",
      "  warnings.warn(\n",
      " 84%|████████▍ | 12213/14494 [27:33<04:01,  9.43it/s]2023-11-14 18:34:18.242216: I tensorflow/core/grappler/optimizers/data/replicate_on_split.cc:32] Running replicate on split optimization\n",
      " 97%|█████████▋| 14122/14494 [29:06<00:31, 11.73it/s]"
     ]
    },
    {
     "name": "stdout",
     "output_type": "stream",
     "text": [
      "input/06_post_annotation_analyses/adata_per_sn_per_ct/YOUNG_OVX_2_OLIGO.h5\n",
      "YOUNG_OVX_2_OLIGO\n"
     ]
    },
    {
     "name": "stderr",
     "output_type": "stream",
     "text": [
      " 28%|██▊       | 4125/14494 [12:43<1:00:21,  2.86it/s]2023-11-14 18:34:19.737232: I tensorflow/compiler/xla/stream_executor/gpu/asm_compiler.cc:328] ptxas warning : Registers are spilled to local memory in function 'fusion', 220 bytes spill stores, 116 bytes spill loads\n",
      "ptxas warning : Registers are spilled to local memory in function '__cuda_sm20_div_f64_slowpath_v2', 12 bytes spill stores, 12 bytes spill loads\n",
      "\n",
      " 93%|█████████▎| 13478/14494 [25:27<01:34, 10.75it/s]2023-11-14 18:34:20.714233: I tensorflow/compiler/xla/stream_executor/gpu/asm_compiler.cc:328] ptxas warning : Registers are spilled to local memory in function 'fusion_1', 1120 bytes spill stores, 832 bytes spill loads\n",
      "ptxas warning : Registers are spilled to local memory in function '__cuda_sm20_div_f64_slowpath_v2', 56 bytes spill stores, 56 bytes spill loads\n",
      "ptxas warning : Registers are spilled to local memory in function '__internal_trig_reduction_slowpathd', 20 bytes spill stores, 12 bytes spill loads\n",
      "\n",
      " 73%|███████▎  | 10531/14494 [29:01<11:25,  5.78it/s]2023-11-14 18:34:21.087716: I tensorflow/compiler/xla/stream_executor/gpu/asm_compiler.cc:328] ptxas warning : Registers are spilled to local memory in function 'fusion_11', 40 bytes spill stores, 40 bytes spill loads\n",
      "\n",
      "100%|██████████| 14494/14494 [29:30<00:00,  8.19it/s] \n",
      " 74%|███████▍  | 10735/14494 [29:36<06:01, 10.40it/s]/home/peter/mambaforge/envs/spatialde/lib/python3.9/site-packages/anndata/__init__.py:51: FutureWarning: `anndata.read` is deprecated, use `anndata.read_h5ad` instead. `ad.read` will be removed in mid 2024.\n",
      "  warnings.warn(\n",
      "  7%|▋         | 1034/14494 [02:37<38:53,  5.77it/s]]"
     ]
    },
    {
     "name": "stdout",
     "output_type": "stream",
     "text": [
      "input/06_post_annotation_analyses/adata_per_sn_per_ct/YOUNG_WT_3_EX_L6.h5\n",
      "YOUNG_WT_3_EX_L6\n"
     ]
    },
    {
     "name": "stderr",
     "output_type": "stream",
     "text": [
      "  0%|          | 0/14494 [00:00<?, ?it/s]2023-11-14 18:34:56.343267: I tensorflow/core/grappler/optimizers/data/replicate_on_split.cc:32] Running replicate on split optimization\n",
      " 50%|█████     | 7247/14494 [16:56<13:57,  8.65it/s]2023-11-14 18:34:57.958950: I tensorflow/compiler/xla/stream_executor/gpu/asm_compiler.cc:328] ptxas warning : Registers are spilled to local memory in function 'fusion', 388 bytes spill stores, 204 bytes spill loads\n",
      "ptxas warning : Registers are spilled to local memory in function '__cuda_sm20_div_f64_slowpath_v2', 12 bytes spill stores, 12 bytes spill loads\n",
      "\n",
      " 47%|████▋     | 6753/14494 [13:58<10:40, 12.08it/s]]2023-11-14 18:34:59.086788: I tensorflow/compiler/xla/stream_executor/gpu/asm_compiler.cc:328] ptxas warning : Registers are spilled to local memory in function 'fusion_1', 1428 bytes spill stores, 1092 bytes spill loads\n",
      "ptxas warning : Registers are spilled to local memory in function '__cuda_sm20_div_f64_slowpath_v2', 60 bytes spill stores, 60 bytes spill loads\n",
      "ptxas warning : Registers are spilled to local memory in function '__internal_trig_reduction_slowpathd', 4 bytes spill stores, 4 bytes spill loads\n",
      "\n",
      "100%|██████████| 14494/14494 [29:50<00:00,  8.10it/s] \n",
      "  2%|▏         | 280/14494 [00:43<36:16,  6.53it/s]/home/peter/mambaforge/envs/spatialde/lib/python3.9/site-packages/anndata/__init__.py:51: FutureWarning: `anndata.read` is deprecated, use `anndata.read_h5ad` instead. `ad.read` will be removed in mid 2024.\n",
      "  warnings.warn(\n",
      "  0%|          | 24/14494 [00:05<29:17,  8.23it/s]2023-11-14 18:35:02.218524: I tensorflow/core/grappler/optimizers/data/replicate_on_split.cc:32] Running replicate on split optimization\n",
      " 23%|██▎       | 3326/14494 [06:17<17:52, 10.42it/s]]"
     ]
    },
    {
     "name": "stdout",
     "output_type": "stream",
     "text": [
      "input/06_post_annotation_analyses/adata_per_sn_per_ct/OLD_WT_3_CORTEX_ERYTH.h5\n",
      "OLD_WT_3_CORTEX_ERYTH\n"
     ]
    },
    {
     "name": "stderr",
     "output_type": "stream",
     "text": [
      "100%|██████████| 14494/14494 [34:15<00:00,  7.05it/s]]\n",
      " 31%|███       | 4470/14494 [13:46<51:04,  3.27it/s]  /home/peter/mambaforge/envs/spatialde/lib/python3.9/site-packages/anndata/__init__.py:51: FutureWarning: `anndata.read` is deprecated, use `anndata.read_h5ad` instead. `ad.read` will be removed in mid 2024.\n",
      "  warnings.warn(\n",
      " 48%|████▊     | 6912/14494 [14:22<14:32,  8.69it/s]2023-11-14 18:35:22.390993: I tensorflow/core/grappler/optimizers/data/replicate_on_split.cc:32] Running replicate on split optimization\n",
      " 77%|███████▋  | 11101/14494 [25:47<05:22, 10.51it/s]"
     ]
    },
    {
     "name": "stdout",
     "output_type": "stream",
     "text": [
      "input/06_post_annotation_analyses/adata_per_sn_per_ct/OLD_OVX_3_EX_L5.h5\n",
      "OLD_OVX_3_EX_L5\n"
     ]
    },
    {
     "name": "stderr",
     "output_type": "stream",
     "text": [
      " 48%|████▊     | 6928/14494 [14:23<16:01,  7.87it/s]2023-11-14 18:35:23.935475: I tensorflow/compiler/xla/stream_executor/gpu/asm_compiler.cc:328] ptxas warning : Registers are spilled to local memory in function 'fusion', 220 bytes spill stores, 116 bytes spill loads\n",
      "ptxas warning : Registers are spilled to local memory in function '__cuda_sm20_div_f64_slowpath_v2', 12 bytes spill stores, 12 bytes spill loads\n",
      "\n",
      " 97%|█████████▋| 14108/14494 [26:31<00:37, 10.36it/s]2023-11-14 18:35:24.898604: I tensorflow/compiler/xla/stream_executor/gpu/asm_compiler.cc:328] ptxas warning : Registers are spilled to local memory in function 'fusion_1', 1120 bytes spill stores, 832 bytes spill loads\n",
      "ptxas warning : Registers are spilled to local memory in function '__cuda_sm20_div_f64_slowpath_v2', 56 bytes spill stores, 56 bytes spill loads\n",
      "ptxas warning : Registers are spilled to local memory in function '__internal_trig_reduction_slowpathd', 20 bytes spill stores, 12 bytes spill loads\n",
      "\n",
      "100%|██████████| 14494/14494 [27:14<00:00,  8.87it/s] \n",
      "  2%|▏         | 276/14494 [00:44<57:54,  4.09it/s]/home/peter/mambaforge/envs/spatialde/lib/python3.9/site-packages/anndata/__init__.py:51: FutureWarning: `anndata.read` is deprecated, use `anndata.read_h5ad` instead. `ad.read` will be removed in mid 2024.\n",
      "  warnings.warn(\n",
      " 32%|███▏      | 4695/14494 [14:31<52:01,  3.14it/s]]"
     ]
    },
    {
     "name": "stdout",
     "output_type": "stream",
     "text": [
      "input/06_post_annotation_analyses/adata_per_sn_per_ct/OLD_WT_3_OLIGO.h5\n",
      "OLD_WT_3_OLIGO\n"
     ]
    },
    {
     "name": "stderr",
     "output_type": "stream",
     "text": [
      " 92%|█████████▏| 13374/14494 [30:15<02:38,  7.07it/s]2023-11-14 18:36:07.504148: I tensorflow/core/grappler/optimizers/data/replicate_on_split.cc:32] Running replicate on split optimization\n",
      "  4%|▎         | 512/14494 [01:12<27:54,  8.35it/s]2023-11-14 18:36:09.342811: I tensorflow/compiler/xla/stream_executor/gpu/asm_compiler.cc:328] ptxas warning : Registers are spilled to local memory in function 'fusion_1', 256 bytes spill stores, 240 bytes spill loads\n",
      "ptxas warning : Registers are spilled to local memory in function '__cuda_sm20_div_f64_slowpath_v2', 12 bytes spill stores, 12 bytes spill loads\n",
      "\n",
      "100%|██████████| 14494/14494 [30:57<00:00,  7.80it/s] \n",
      "  5%|▌         | 726/14494 [01:36<30:22,  7.56it/s]]/home/peter/mambaforge/envs/spatialde/lib/python3.9/site-packages/anndata/__init__.py:51: FutureWarning: `anndata.read` is deprecated, use `anndata.read_h5ad` instead. `ad.read` will be removed in mid 2024.\n",
      "  warnings.warn(\n",
      "  0%|          | 0/14494 [00:00<?, ?it/s]2023-11-14 18:36:33.235578: I tensorflow/core/grappler/optimizers/data/replicate_on_split.cc:32] Running replicate on split optimization\n",
      " 11%|█▏        | 1651/14494 [04:15<20:00, 10.69it/s]]"
     ]
    },
    {
     "name": "stdout",
     "output_type": "stream",
     "text": [
      "input/06_post_annotation_analyses/adata_per_sn_per_ct/YOUNG_OVX_3_DORSAL_SUBIC.h5\n",
      "YOUNG_OVX_3_DORSAL_SUBIC\n"
     ]
    },
    {
     "name": "stderr",
     "output_type": "stream",
     "text": [
      " 92%|█████████▏| 13271/14494 [29:50<01:47, 11.41it/s]2023-11-14 18:36:34.856809: I tensorflow/compiler/xla/stream_executor/gpu/asm_compiler.cc:328] ptxas warning : Registers are spilled to local memory in function 'fusion_1', 124 bytes spill stores, 124 bytes spill loads\n",
      "ptxas warning : Registers are spilled to local memory in function '__cuda_sm20_div_f64_slowpath_v2', 4 bytes spill stores, 4 bytes spill loads\n",
      "\n",
      "100%|██████████| 14494/14494 [32:40<00:00,  7.39it/s] \n",
      " 10%|█         | 1453/14494 [03:10<20:31, 10.59it/s]/home/peter/mambaforge/envs/spatialde/lib/python3.9/site-packages/anndata/__init__.py:51: FutureWarning: `anndata.read` is deprecated, use `anndata.read_h5ad` instead. `ad.read` will be removed in mid 2024.\n",
      "  warnings.warn(\n",
      " 62%|██████▏   | 8988/14494 [21:41<13:40,  6.71it/s]2023-11-14 18:38:32.755110: I tensorflow/core/grappler/optimizers/data/replicate_on_split.cc:32] Running replicate on split optimization\n",
      " 62%|██████▏   | 8990/14494 [21:42<11:29,  7.98it/s]]"
     ]
    },
    {
     "name": "stdout",
     "output_type": "stream",
     "text": [
      "input/06_post_annotation_analyses/adata_per_sn_per_ct/YOUNG_WT_2_Cartpt+.h5\n",
      "YOUNG_WT_2_Cartpt+\n"
     ]
    },
    {
     "name": "stderr",
     "output_type": "stream",
     "text": [
      "100%|██████████| 14494/14494 [32:28<00:00,  7.44it/s] \n",
      " 64%|██████▍   | 9301/14494 [22:22<06:37, 13.07it/s]/home/peter/mambaforge/envs/spatialde/lib/python3.9/site-packages/anndata/__init__.py:51: FutureWarning: `anndata.read` is deprecated, use `anndata.read_h5ad` instead. `ad.read` will be removed in mid 2024.\n",
      "  warnings.warn(\n",
      "  0%|          | 0/14494 [00:00<?, ?it/s]2023-11-14 18:39:14.031337: I tensorflow/core/grappler/optimizers/data/replicate_on_split.cc:32] Running replicate on split optimization\n",
      " 88%|████████▊ | 12739/14494 [29:39<05:02,  5.79it/s]"
     ]
    },
    {
     "name": "stdout",
     "output_type": "stream",
     "text": [
      "input/06_post_annotation_analyses/adata_per_sn_per_ct/OLD_OVX_5_EX_MB.h5\n",
      "OLD_OVX_5_EX_MB\n"
     ]
    },
    {
     "name": "stderr",
     "output_type": "stream",
     "text": [
      " 99%|█████████▉| 14402/14494 [29:14<00:08, 10.69it/s]2023-11-14 18:39:16.560934: I tensorflow/compiler/xla/stream_executor/gpu/asm_compiler.cc:328] ptxas warning : Registers are spilled to local memory in function 'fusion', 552 bytes spill stores, 280 bytes spill loads\n",
      "ptxas warning : Registers are spilled to local memory in function '__cuda_sm20_div_f64_slowpath_v2', 12 bytes spill stores, 12 bytes spill loads\n",
      "\n",
      " 64%|██████▍   | 9263/14494 [21:16<12:29,  6.98it/s]2023-11-14 18:39:17.821805: I tensorflow/compiler/xla/stream_executor/gpu/asm_compiler.cc:328] ptxas warning : Registers are spilled to local memory in function 'fusion_1', 1820 bytes spill stores, 1432 bytes spill loads\n",
      "ptxas warning : Registers are spilled to local memory in function '__cuda_sm20_div_f64_slowpath_v2', 100 bytes spill stores, 116 bytes spill loads\n",
      "ptxas warning : Registers are spilled to local memory in function '__internal_trig_reduction_slowpathd', 20 bytes spill stores, 12 bytes spill loads\n",
      "\n",
      "100%|██████████| 14494/14494 [29:25<00:00,  8.21it/s] \n",
      "  8%|▊         | 1128/14494 [02:54<31:12,  7.14it/s]/home/peter/mambaforge/envs/spatialde/lib/python3.9/site-packages/anndata/__init__.py:51: FutureWarning: `anndata.read` is deprecated, use `anndata.read_h5ad` instead. `ad.read` will be removed in mid 2024.\n",
      "  warnings.warn(\n",
      "  1%|          | 100/14494 [00:14<21:27, 11.18it/s]2023-11-14 18:39:28.221517: I tensorflow/core/grappler/optimizers/data/replicate_on_split.cc:32] Running replicate on split optimization\n",
      " 15%|█▌        | 2189/14494 [05:10<30:52,  6.64it/s]  "
     ]
    },
    {
     "name": "stdout",
     "output_type": "stream",
     "text": [
      "input/06_post_annotation_analyses/adata_per_sn_per_ct/YOUNG_OVX_2_EX_L2.3.h5\n",
      "YOUNG_OVX_2_EX_L2.3\n"
     ]
    },
    {
     "name": "stderr",
     "output_type": "stream",
     "text": [
      " 19%|█▉        | 2784/14494 [07:11<25:32,  7.64it/s]]2023-11-14 18:39:30.011225: I tensorflow/compiler/xla/stream_executor/gpu/asm_compiler.cc:328] ptxas warning : Registers are spilled to local memory in function 'fusion', 536 bytes spill stores, 272 bytes spill loads\n",
      "ptxas warning : Registers are spilled to local memory in function '__cuda_sm20_div_f64_slowpath_v2', 12 bytes spill stores, 12 bytes spill loads\n",
      "\n",
      "  1%|          | 121/14494 [00:17<56:04,  4.27it/s]2023-11-14 18:39:31.053535: I tensorflow/compiler/xla/stream_executor/gpu/asm_compiler.cc:328] ptxas warning : Registers are spilled to local memory in function 'fusion_1', 1812 bytes spill stores, 1432 bytes spill loads\n",
      "ptxas warning : Registers are spilled to local memory in function '__cuda_sm20_div_f64_slowpath_v2', 100 bytes spill stores, 116 bytes spill loads\n",
      "ptxas warning : Registers are spilled to local memory in function '__internal_trig_reduction_slowpathd', 20 bytes spill stores, 12 bytes spill loads\n",
      "\n",
      "100%|██████████| 14494/14494 [34:15<00:00,  7.05it/s] \n",
      " 53%|█████▎    | 7714/14494 [15:04<12:44,  8.87it/s]/home/peter/mambaforge/envs/spatialde/lib/python3.9/site-packages/anndata/__init__.py:51: FutureWarning: `anndata.read` is deprecated, use `anndata.read_h5ad` instead. `ad.read` will be removed in mid 2024.\n",
      "  warnings.warn(\n",
      " 53%|█████▎    | 7717/14494 [15:05<12:01,  9.40it/s]2023-11-14 18:43:50.424721: I tensorflow/core/grappler/optimizers/data/replicate_on_split.cc:32] Running replicate on split optimization\n",
      " 27%|██▋       | 3890/14494 [09:32<29:13,  6.05it/s]]"
     ]
    },
    {
     "name": "stdout",
     "output_type": "stream",
     "text": [
      "input/06_post_annotation_analyses/adata_per_sn_per_ct/YOUNG_WT_4_CORTEX_ERYTH.h5\n",
      "YOUNG_WT_4_CORTEX_ERYTH\n"
     ]
    },
    {
     "name": "stderr",
     "output_type": "stream",
     "text": [
      "100%|██████████| 14494/14494 [40:53<00:00,  5.91it/s] \n",
      " 85%|████████▍ | 12314/14494 [28:12<03:01, 12.01it/s]/home/peter/mambaforge/envs/spatialde/lib/python3.9/site-packages/anndata/__init__.py:51: FutureWarning: `anndata.read` is deprecated, use `anndata.read_h5ad` instead. `ad.read` will be removed in mid 2024.\n",
      "  warnings.warn(\n",
      "  0%|          | 0/14494 [00:00<?, ?it/s]2023-11-14 18:46:13.797335: I tensorflow/core/grappler/optimizers/data/replicate_on_split.cc:32] Running replicate on split optimization\n",
      " 34%|███▍      | 4943/14494 [10:51<43:33,  3.65it/s]"
     ]
    },
    {
     "name": "stdout",
     "output_type": "stream",
     "text": [
      "input/06_post_annotation_analyses/adata_per_sn_per_ct/OLD_OVX_3_ASTRO_1.h5\n",
      "OLD_OVX_3_ASTRO_1\n"
     ]
    },
    {
     "name": "stderr",
     "output_type": "stream",
     "text": [
      " 62%|██████▏   | 8946/14494 [17:30<08:55, 10.36it/s]2023-11-14 18:46:15.419518: I tensorflow/compiler/xla/stream_executor/gpu/asm_compiler.cc:328] ptxas warning : Registers are spilled to local memory in function 'fusion_1', 140 bytes spill stores, 132 bytes spill loads\n",
      "ptxas warning : Registers are spilled to local memory in function '__cuda_sm20_div_f64_slowpath_v2', 4 bytes spill stores, 4 bytes spill loads\n",
      "\n",
      "100%|██████████| 14494/14494 [33:29<00:00,  7.21it/s]]\n",
      " 90%|█████████ | 13063/14494 [12:57<01:12, 19.71it/s]/home/peter/mambaforge/envs/spatialde/lib/python3.9/site-packages/anndata/__init__.py:51: FutureWarning: `anndata.read` is deprecated, use `anndata.read_h5ad` instead. `ad.read` will be removed in mid 2024.\n",
      "  warnings.warn(\n",
      " 45%|████▍     | 6453/14494 [12:16<13:51,  9.67it/s]]]"
     ]
    },
    {
     "name": "stdout",
     "output_type": "stream",
     "text": [
      "input/06_post_annotation_analyses/adata_per_sn_per_ct/OLD_WT_1_Cartpt+.h5\n",
      "OLD_WT_1_Cartpt+\n"
     ]
    },
    {
     "name": "stderr",
     "output_type": "stream",
     "text": [
      " 90%|█████████ | 13069/14494 [12:58<01:04, 22.19it/s]2023-11-14 18:51:30.847828: I tensorflow/core/grappler/optimizers/data/replicate_on_split.cc:32] Running replicate on split optimization\n",
      "100%|██████████| 14494/14494 [30:53<00:00,  7.82it/s] \n",
      " 93%|█████████▎| 13407/14494 [13:20<00:54, 19.97it/s]/home/peter/mambaforge/envs/spatialde/lib/python3.9/site-packages/anndata/__init__.py:51: FutureWarning: `anndata.read` is deprecated, use `anndata.read_h5ad` instead. `ad.read` will be removed in mid 2024.\n",
      "  warnings.warn(\n",
      " 98%|█████████▊| 14263/14494 [35:02<00:47,  4.86it/s]2023-11-14 18:51:53.715839: I tensorflow/core/grappler/optimizers/data/replicate_on_split.cc:32] Running replicate on split optimization\n",
      " 93%|█████████▎| 13416/14494 [13:21<00:48, 22.24it/s]"
     ]
    },
    {
     "name": "stdout",
     "output_type": "stream",
     "text": [
      "input/06_post_annotation_analyses/adata_per_sn_per_ct/YOUNG_OVX_3_MICROGLIA.h5\n",
      "YOUNG_OVX_3_MICROGLIA\n"
     ]
    },
    {
     "name": "stderr",
     "output_type": "stream",
     "text": [
      "100%|██████████| 14494/14494 [35:37<00:00,  6.78it/s] \n",
      " 51%|█████     | 7385/14494 [20:09<20:06,  5.89it/s]/home/peter/mambaforge/envs/spatialde/lib/python3.9/site-packages/anndata/__init__.py:51: FutureWarning: `anndata.read` is deprecated, use `anndata.read_h5ad` instead. `ad.read` will be removed in mid 2024.\n",
      "  warnings.warn(\n",
      " 96%|█████████▌| 13933/14494 [13:55<00:30, 18.64it/s]"
     ]
    },
    {
     "name": "stdout",
     "output_type": "stream",
     "text": [
      "input/06_post_annotation_analyses/adata_per_sn_per_ct/YOUNG_WT_3_EX_L4.h5\n",
      "YOUNG_WT_3_EX_L4\n"
     ]
    },
    {
     "name": "stderr",
     "output_type": "stream",
     "text": [
      "2023-11-14 18:52:28.261827: I tensorflow/core/grappler/optimizers/data/replicate_on_split.cc:32] Running replicate on split optimization\n",
      " 41%|████      | 5872/14494 [15:56<25:20,  5.67it/s]2023-11-14 18:52:30.196501: I tensorflow/compiler/xla/stream_executor/gpu/asm_compiler.cc:328] ptxas warning : Registers are spilled to local memory in function 'fusion_1', 572 bytes spill stores, 456 bytes spill loads\n",
      "ptxas warning : Registers are spilled to local memory in function '__cuda_sm20_div_f64_slowpath_v2', 36 bytes spill stores, 36 bytes spill loads\n",
      "\n",
      "100%|██████████| 14494/14494 [14:25<00:00, 16.74it/s] \n",
      " 69%|██████▉   | 9986/14494 [31:22<12:11,  6.16it/s]/home/peter/mambaforge/envs/spatialde/lib/python3.9/site-packages/anndata/__init__.py:51: FutureWarning: `anndata.read` is deprecated, use `anndata.read_h5ad` instead. `ad.read` will be removed in mid 2024.\n",
      "  warnings.warn(\n",
      "  5%|▍         | 720/14494 [01:05<20:57, 10.96it/s]2023-11-14 18:52:59.132977: I tensorflow/core/grappler/optimizers/data/replicate_on_split.cc:32] Running replicate on split optimization\n",
      " 69%|██████▉   | 9994/14494 [31:23<07:11, 10.43it/s]"
     ]
    },
    {
     "name": "stdout",
     "output_type": "stream",
     "text": [
      "input/06_post_annotation_analyses/adata_per_sn_per_ct/OLD_OVX_5_MICROGLIA.h5\n",
      "OLD_OVX_5_MICROGLIA\n"
     ]
    },
    {
     "name": "stderr",
     "output_type": "stream",
     "text": [
      "100%|██████████| 14494/14494 [28:03<00:00,  8.61it/s] \n",
      " 65%|██████▍   | 9368/14494 [17:34<08:48,  9.69it/s]/home/peter/mambaforge/envs/spatialde/lib/python3.9/site-packages/anndata/__init__.py:51: FutureWarning: `anndata.read` is deprecated, use `anndata.read_h5ad` instead. `ad.read` will be removed in mid 2024.\n",
      "  warnings.warn(\n",
      " 42%|████▏     | 6136/14494 [17:20<16:28,  8.46it/s]2023-11-14 18:56:48.771428: I tensorflow/core/grappler/optimizers/data/replicate_on_split.cc:32] Running replicate on split optimization\n",
      " 66%|██████▌   | 9567/14494 [21:26<09:45,  8.41it/s]]"
     ]
    },
    {
     "name": "stdout",
     "output_type": "stream",
     "text": [
      "input/06_post_annotation_analyses/adata_per_sn_per_ct/OLD_WT_2_AMYGDALA.h5\n",
      "OLD_WT_2_AMYGDALA\n"
     ]
    },
    {
     "name": "stderr",
     "output_type": "stream",
     "text": [
      " 42%|████▏     | 6153/14494 [17:22<16:49,  8.27it/s]2023-11-14 18:56:50.762162: I tensorflow/compiler/xla/stream_executor/gpu/asm_compiler.cc:328] ptxas warning : Registers are spilled to local memory in function 'fusion_1', 588 bytes spill stores, 464 bytes spill loads\n",
      "ptxas warning : Registers are spilled to local memory in function '__cuda_sm20_div_f64_slowpath_v2', 36 bytes spill stores, 36 bytes spill loads\n",
      "\n",
      "100%|██████████| 14494/14494 [28:31<00:00,  8.47it/s] \n",
      " 70%|███████   | 10162/14494 [27:00<06:57, 10.36it/s]/home/peter/mambaforge/envs/spatialde/lib/python3.9/site-packages/anndata/__init__.py:51: FutureWarning: `anndata.read` is deprecated, use `anndata.read_h5ad` instead. `ad.read` will be removed in mid 2024.\n",
      "  warnings.warn(\n",
      " 50%|████▉     | 7228/14494 [17:20<19:07,  6.33it/s]2023-11-14 19:03:34.121706: I tensorflow/core/grappler/optimizers/data/replicate_on_split.cc:32] Running replicate on split optimization\n",
      " 50%|████▉     | 7230/14494 [17:20<15:50,  7.64it/s]]"
     ]
    },
    {
     "name": "stdout",
     "output_type": "stream",
     "text": [
      "input/06_post_annotation_analyses/adata_per_sn_per_ct/OLD_WT_5_EX_MB.h5\n",
      "OLD_WT_5_EX_MB\n"
     ]
    },
    {
     "name": "stderr",
     "output_type": "stream",
     "text": [
      " 50%|████▉     | 7235/14494 [17:22<32:20,  3.74it/s]2023-11-14 19:03:35.915255: I tensorflow/compiler/xla/stream_executor/gpu/asm_compiler.cc:328] ptxas warning : Registers are spilled to local memory in function 'fusion', 220 bytes spill stores, 116 bytes spill loads\n",
      "ptxas warning : Registers are spilled to local memory in function '__cuda_sm20_div_f64_slowpath_v2', 12 bytes spill stores, 12 bytes spill loads\n",
      "\n",
      " 87%|████████▋ | 12680/14494 [28:14<02:50, 10.64it/s]2023-11-14 19:03:37.283073: I tensorflow/compiler/xla/stream_executor/gpu/asm_compiler.cc:328] ptxas warning : Registers are spilled to local memory in function 'fusion_1', 1120 bytes spill stores, 832 bytes spill loads\n",
      "ptxas warning : Registers are spilled to local memory in function '__cuda_sm20_div_f64_slowpath_v2', 56 bytes spill stores, 56 bytes spill loads\n",
      "ptxas warning : Registers are spilled to local memory in function '__internal_trig_reduction_slowpathd', 20 bytes spill stores, 12 bytes spill loads\n",
      "\n",
      "100%|██████████| 14494/14494 [29:04<00:00,  8.31it/s]]\n",
      " 71%|███████   | 10321/14494 [27:27<07:39,  9.08it/s]/home/peter/mambaforge/envs/spatialde/lib/python3.9/site-packages/anndata/__init__.py:51: FutureWarning: `anndata.read` is deprecated, use `anndata.read_h5ad` instead. `ad.read` will be removed in mid 2024.\n",
      "  warnings.warn(\n",
      "  0%|          | 0/14494 [00:00<?, ?it/s]2023-11-14 19:04:00.814746: I tensorflow/core/grappler/optimizers/data/replicate_on_split.cc:32] Running replicate on split optimization\n",
      " 73%|███████▎  | 10522/14494 [27:53<07:35,  8.72it/s]"
     ]
    },
    {
     "name": "stdout",
     "output_type": "stream",
     "text": [
      "input/06_post_annotation_analyses/adata_per_sn_per_ct/YOUNG_OVX_1_IN_Sst+.h5\n",
      "YOUNG_OVX_1_IN_Sst+\n"
     ]
    },
    {
     "name": "stderr",
     "output_type": "stream",
     "text": [
      " 76%|███████▌  | 10983/14494 [12:31<03:41, 15.84it/s]2023-11-14 19:04:02.692995: I tensorflow/compiler/xla/stream_executor/gpu/asm_compiler.cc:328] ptxas warning : Registers are spilled to local memory in function 'fusion', 536 bytes spill stores, 272 bytes spill loads\n",
      "ptxas warning : Registers are spilled to local memory in function '__cuda_sm20_div_f64_slowpath_v2', 12 bytes spill stores, 12 bytes spill loads\n",
      "\n",
      " 71%|███████▏  | 10351/14494 [27:30<07:22,  9.37it/s]2023-11-14 19:04:03.886442: I tensorflow/compiler/xla/stream_executor/gpu/asm_compiler.cc:328] ptxas warning : Registers are spilled to local memory in function 'fusion_1', 1812 bytes spill stores, 1432 bytes spill loads\n",
      "ptxas warning : Registers are spilled to local memory in function '__cuda_sm20_div_f64_slowpath_v2', 100 bytes spill stores, 116 bytes spill loads\n",
      "ptxas warning : Registers are spilled to local memory in function '__internal_trig_reduction_slowpathd', 20 bytes spill stores, 12 bytes spill loads\n",
      "\n",
      "100%|██████████| 14494/14494 [30:14<00:00,  7.99it/s] \n",
      " 81%|████████  | 11669/14494 [31:58<14:29,  3.25it/s]/home/peter/mambaforge/envs/spatialde/lib/python3.9/site-packages/anndata/__init__.py:51: FutureWarning: `anndata.read` is deprecated, use `anndata.read_h5ad` instead. `ad.read` will be removed in mid 2024.\n",
      "  warnings.warn(\n",
      " 72%|███████▏  | 10406/14494 [20:27<16:47,  4.06it/s]"
     ]
    },
    {
     "name": "stdout",
     "output_type": "stream",
     "text": [
      "input/06_post_annotation_analyses/adata_per_sn_per_ct/YOUNG_WT_1_EX_CA1.h5\n",
      "YOUNG_WT_1_EX_CA1\n"
     ]
    },
    {
     "name": "stderr",
     "output_type": "stream",
     "text": [
      "2023-11-14 19:04:17.497263: I tensorflow/core/grappler/optimizers/data/replicate_on_split.cc:32] Running replicate on split optimization\n",
      " 31%|███       | 4509/14494 [11:20<41:32,  4.01it/s]2023-11-14 19:04:19.264088: I tensorflow/compiler/xla/stream_executor/gpu/asm_compiler.cc:328] ptxas warning : Registers are spilled to local memory in function 'fusion', 1016 bytes spill stores, 512 bytes spill loads\n",
      "ptxas warning : Registers are spilled to local memory in function '__cuda_sm20_div_f64_slowpath_v2', 36 bytes spill stores, 36 bytes spill loads\n",
      "\n",
      " 95%|█████████▌| 13819/14494 [42:44<01:26,  7.81it/s]2023-11-14 19:04:20.351832: I tensorflow/compiler/xla/stream_executor/gpu/asm_compiler.cc:328] ptxas warning : Registers are spilled to local memory in function 'fusion_1', 3720 bytes spill stores, 4012 bytes spill loads\n",
      "ptxas warning : Registers are spilled to local memory in function '__cuda_sm20_div_f64_slowpath_v2', 152 bytes spill stores, 160 bytes spill loads\n",
      "ptxas warning : Registers are spilled to local memory in function '__internal_trig_reduction_slowpathd', 20 bytes spill stores, 12 bytes spill loads\n",
      "\n",
      "100%|██████████| 14494/14494 [26:54<00:00,  8.98it/s] \n",
      "  6%|▌         | 886/14494 [02:07<45:44,  4.96it/s]/home/peter/mambaforge/envs/spatialde/lib/python3.9/site-packages/anndata/__init__.py:51: FutureWarning: `anndata.read` is deprecated, use `anndata.read_h5ad` instead. `ad.read` will be removed in mid 2024.\n",
      "  warnings.warn(\n",
      "  0%|          | 0/14494 [00:00<?, ?it/s]2023-11-14 19:06:08.959244: I tensorflow/core/grappler/optimizers/data/replicate_on_split.cc:32] Running replicate on split optimization\n",
      " 85%|████████▌ | 12320/14494 [33:50<04:43,  7.68it/s]"
     ]
    },
    {
     "name": "stdout",
     "output_type": "stream",
     "text": [
      "input/06_post_annotation_analyses/adata_per_sn_per_ct/OLD_OVX_3_OLIGO.h5\n",
      "OLD_OVX_3_OLIGO\n"
     ]
    },
    {
     "name": "stderr",
     "output_type": "stream",
     "text": [
      " 54%|█████▍    | 7816/14494 [14:16<17:59,  6.19it/s]2023-11-14 19:06:10.649690: I tensorflow/compiler/xla/stream_executor/gpu/asm_compiler.cc:328] ptxas warning : Registers are spilled to local memory in function 'fusion', 388 bytes spill stores, 204 bytes spill loads\n",
      "ptxas warning : Registers are spilled to local memory in function '__cuda_sm20_div_f64_slowpath_v2', 12 bytes spill stores, 12 bytes spill loads\n",
      "\n",
      " 36%|███▋      | 5279/14494 [13:12<22:40,  6.77it/s]2023-11-14 19:06:11.634794: I tensorflow/compiler/xla/stream_executor/gpu/asm_compiler.cc:328] ptxas warning : Registers are spilled to local memory in function 'fusion_1', 1428 bytes spill stores, 1092 bytes spill loads\n",
      "ptxas warning : Registers are spilled to local memory in function '__cuda_sm20_div_f64_slowpath_v2', 60 bytes spill stores, 60 bytes spill loads\n",
      "ptxas warning : Registers are spilled to local memory in function '__internal_trig_reduction_slowpathd', 4 bytes spill stores, 4 bytes spill loads\n",
      "\n",
      "100%|██████████| 14494/14494 [16:46<00:00, 14.40it/s] \n",
      " 82%|████████▏ | 11844/14494 [31:44<04:28,  9.85it/s]/home/peter/mambaforge/envs/spatialde/lib/python3.9/site-packages/anndata/__init__.py:51: FutureWarning: `anndata.read` is deprecated, use `anndata.read_h5ad` instead. `ad.read` will be removed in mid 2024.\n",
      "  warnings.warn(\n",
      " 93%|█████████▎| 13489/14494 [33:59<02:11,  7.65it/s]2023-11-14 19:08:17.849582: I tensorflow/core/grappler/optimizers/data/replicate_on_split.cc:32] Running replicate on split optimization\n",
      " 39%|███▉      | 5674/14494 [11:29<17:38,  8.33it/s]]"
     ]
    },
    {
     "name": "stdout",
     "output_type": "stream",
     "text": [
      "input/06_post_annotation_analyses/adata_per_sn_per_ct/YOUNG_OVX_4_EX_MB.h5\n",
      "YOUNG_OVX_4_EX_MB\n"
     ]
    },
    {
     "name": "stderr",
     "output_type": "stream",
     "text": [
      "  4%|▎         | 519/14494 [01:28<26:49,  8.68it/s]2023-11-14 19:08:19.920835: I tensorflow/compiler/xla/stream_executor/gpu/asm_compiler.cc:328] ptxas warning : Registers are spilled to local memory in function 'fusion_1', 588 bytes spill stores, 464 bytes spill loads\n",
      "ptxas warning : Registers are spilled to local memory in function '__cuda_sm20_div_f64_slowpath_v2', 36 bytes spill stores, 36 bytes spill loads\n",
      "\n",
      "100%|██████████| 14494/14494 [36:40<00:00,  6.59it/s] \n",
      " 11%|█         | 1531/14494 [03:18<17:57, 12.03it/s]/home/peter/mambaforge/envs/spatialde/lib/python3.9/site-packages/anndata/__init__.py:51: FutureWarning: `anndata.read` is deprecated, use `anndata.read_h5ad` instead. `ad.read` will be removed in mid 2024.\n",
      "  warnings.warn(\n",
      "  0%|          | 0/14494 [00:00<?, ?it/s]2023-11-14 19:10:59.436106: I tensorflow/core/grappler/optimizers/data/replicate_on_split.cc:32] Running replicate on split optimization\n",
      " 91%|█████████ | 13148/14494 [34:52<02:55,  7.67it/s] "
     ]
    },
    {
     "name": "stdout",
     "output_type": "stream",
     "text": [
      "input/06_post_annotation_analyses/adata_per_sn_per_ct/OLD_OVX_1_IN_Adarb2+.h5\n",
      "OLD_OVX_1_IN_Adarb2+\n"
     ]
    },
    {
     "name": "stderr",
     "output_type": "stream",
     "text": [
      " 28%|██▊       | 4110/14494 [07:27<15:35, 11.10it/s]2023-11-14 19:11:01.443856: I tensorflow/compiler/xla/stream_executor/gpu/asm_compiler.cc:328] ptxas warning : Registers are spilled to local memory in function 'fusion_1', 588 bytes spill stores, 464 bytes spill loads\n",
      "ptxas warning : Registers are spilled to local memory in function '__cuda_sm20_div_f64_slowpath_v2', 36 bytes spill stores, 36 bytes spill loads\n",
      "\n",
      "100%|██████████| 14494/14494 [39:55<00:00,  6.05it/s] \n",
      " 92%|█████████▏| 13342/14494 [35:40<03:29,  5.50it/s]/home/peter/mambaforge/envs/spatialde/lib/python3.9/site-packages/anndata/__init__.py:51: FutureWarning: `anndata.read` is deprecated, use `anndata.read_h5ad` instead. `ad.read` will be removed in mid 2024.\n",
      "  warnings.warn(\n",
      " 54%|█████▍    | 7820/14494 [19:45<13:16,  8.38it/s]2023-11-14 19:12:14.119353: I tensorflow/core/grappler/optimizers/data/replicate_on_split.cc:32] Running replicate on split optimization\n"
     ]
    },
    {
     "name": "stdout",
     "output_type": "stream",
     "text": [
      "input/06_post_annotation_analyses/adata_per_sn_per_ct/OLD_WT_4_MENINGES.h5\n",
      "OLD_WT_4_MENINGES\n"
     ]
    },
    {
     "name": "stderr",
     "output_type": "stream",
     "text": [
      " 16%|█▌        | 2324/14494 [04:56<22:27,  9.03it/s]]]\n",
      "  4%|▍         | 596/14494 [01:38<24:17,  9.54it/s]/home/peter/mambaforge/envs/spatialde/lib/python3.9/site-packages/anndata/__init__.py:51: FutureWarning: `anndata.read` is deprecated, use `anndata.read_h5ad` instead. `ad.read` will be removed in mid 2024.\n",
      "  warnings.warn(\n",
      " 55%|█████▍    | 7941/14494 [19:38<14:48,  7.38it/s]2023-11-14 19:12:38.034810: I tensorflow/core/grappler/optimizers/data/replicate_on_split.cc:32] Running replicate on split optimization\n",
      " 93%|█████████▎| 13504/14494 [36:04<02:56,  5.62it/s]"
     ]
    },
    {
     "name": "stdout",
     "output_type": "stream",
     "text": [
      "input/06_post_annotation_analyses/adata_per_sn_per_ct/YOUNG_OVX_2_EX_L5.h5\n",
      "YOUNG_OVX_2_EX_L5\n"
     ]
    },
    {
     "name": "stderr",
     "output_type": "stream",
     "text": [
      " 55%|█████▍    | 7955/14494 [19:41<25:49,  4.22it/s]2023-11-14 19:12:40.973479: I tensorflow/compiler/xla/stream_executor/gpu/asm_compiler.cc:328] ptxas warning : Registers are spilled to local memory in function 'fusion', 1016 bytes spill stores, 512 bytes spill loads\n",
      "ptxas warning : Registers are spilled to local memory in function '__cuda_sm20_div_f64_slowpath_v2', 36 bytes spill stores, 36 bytes spill loads\n",
      "\n",
      " 27%|██▋       | 3843/14494 [08:41<23:05,  7.69it/s]2023-11-14 19:12:42.715168: I tensorflow/compiler/xla/stream_executor/gpu/asm_compiler.cc:328] ptxas warning : Registers are spilled to local memory in function 'fusion_1', 3720 bytes spill stores, 4012 bytes spill loads\n",
      "ptxas warning : Registers are spilled to local memory in function '__cuda_sm20_div_f64_slowpath_v2', 152 bytes spill stores, 160 bytes spill loads\n",
      "ptxas warning : Registers are spilled to local memory in function '__internal_trig_reduction_slowpathd', 20 bytes spill stores, 12 bytes spill loads\n",
      "\n",
      "100%|██████████| 14494/14494 [38:32<00:00,  6.27it/s] \n",
      " 82%|████████▏ | 11908/14494 [22:46<04:07, 10.45it/s]/home/peter/mambaforge/envs/spatialde/lib/python3.9/site-packages/anndata/__init__.py:51: FutureWarning: `anndata.read` is deprecated, use `anndata.read_h5ad` instead. `ad.read` will be removed in mid 2024.\n",
      "  warnings.warn(\n",
      "  5%|▍         | 699/14494 [02:02<30:11,  7.62it/s]s]"
     ]
    },
    {
     "name": "stdout",
     "output_type": "stream",
     "text": [
      "input/06_post_annotation_analyses/adata_per_sn_per_ct/OLD_OVX_3_CORTEX_Tshz2+.h5\n",
      "OLD_OVX_3_CORTEX_Tshz2+\n"
     ]
    },
    {
     "name": "stderr",
     "output_type": "stream",
     "text": [
      "2023-11-14 19:14:40.951990: I tensorflow/core/grappler/optimizers/data/replicate_on_split.cc:32] Running replicate on split optimization\n",
      " 21%|██▏       | 3094/14494 [07:51<1:03:30,  2.99it/s]2023-11-14 19:14:43.387226: I tensorflow/compiler/xla/stream_executor/gpu/asm_compiler.cc:328] ptxas warning : Registers are spilled to local memory in function 'fusion', 388 bytes spill stores, 204 bytes spill loads\n",
      "ptxas warning : Registers are spilled to local memory in function '__cuda_sm20_div_f64_slowpath_v2', 12 bytes spill stores, 12 bytes spill loads\n",
      "\n",
      " 24%|██▍       | 3478/14494 [08:36<58:17,  3.15it/s]  2023-11-14 19:14:45.004290: I tensorflow/compiler/xla/stream_executor/gpu/asm_compiler.cc:328] ptxas warning : Registers are spilled to local memory in function 'fusion_1', 1428 bytes spill stores, 1092 bytes spill loads\n",
      "ptxas warning : Registers are spilled to local memory in function '__cuda_sm20_div_f64_slowpath_v2', 60 bytes spill stores, 60 bytes spill loads\n",
      "ptxas warning : Registers are spilled to local memory in function '__internal_trig_reduction_slowpathd', 4 bytes spill stores, 4 bytes spill loads\n",
      "\n",
      "100%|██████████| 14494/14494 [39:00<00:00,  6.19it/s]]\n",
      "  7%|▋         | 1066/14494 [02:55<38:00,  5.89it/s]/home/peter/mambaforge/envs/spatialde/lib/python3.9/site-packages/anndata/__init__.py:51: FutureWarning: `anndata.read` is deprecated, use `anndata.read_h5ad` instead. `ad.read` will be removed in mid 2024.\n",
      "  warnings.warn(\n",
      "  2%|▏         | 263/14494 [00:53<58:17,  4.07it/s]2023-11-14 19:15:34.266669: I tensorflow/core/grappler/optimizers/data/replicate_on_split.cc:32] Running replicate on split optimization\n",
      " 64%|██████▎   | 9222/14494 [18:45<21:47,  4.03it/s]]"
     ]
    },
    {
     "name": "stdout",
     "output_type": "stream",
     "text": [
      "input/06_post_annotation_analyses/adata_per_sn_per_ct/OLD_OVX_2_CORTEX_ERYTH.h5\n",
      "OLD_OVX_2_CORTEX_ERYTH\n"
     ]
    },
    {
     "name": "stderr",
     "output_type": "stream",
     "text": [
      "100%|██████████| 14494/14494 [28:13<00:00,  8.56it/s]]\n",
      " 19%|█▉        | 2819/14494 [07:28<20:56,  9.29it/s]/home/peter/mambaforge/envs/spatialde/lib/python3.9/site-packages/anndata/__init__.py:51: FutureWarning: `anndata.read` is deprecated, use `anndata.read_h5ad` instead. `ad.read` will be removed in mid 2024.\n",
      "  warnings.warn(\n",
      " 25%|██▌       | 3651/14494 [07:53<16:46, 10.77it/s]2023-11-14 19:20:07.256079: I tensorflow/core/grappler/optimizers/data/replicate_on_split.cc:32] Running replicate on split optimization\n",
      " 75%|███████▍  | 10856/14494 [27:39<10:08,  5.98it/s] "
     ]
    },
    {
     "name": "stdout",
     "output_type": "stream",
     "text": [
      "input/06_post_annotation_analyses/adata_per_sn_per_ct/OLD_WT_5_MB_ERYTH.h5\n",
      "OLD_WT_5_MB_ERYTH\n"
     ]
    },
    {
     "name": "stderr",
     "output_type": "stream",
     "text": [
      "100%|██████████| 14494/14494 [41:56<00:00,  5.76it/s]]\n",
      " 41%|████      | 5904/14494 [15:15<20:09,  7.10it/s]/home/peter/mambaforge/envs/spatialde/lib/python3.9/site-packages/anndata/__init__.py:51: FutureWarning: `anndata.read` is deprecated, use `anndata.read_h5ad` instead. `ad.read` will be removed in mid 2024.\n",
      "  warnings.warn(\n",
      "  0%|          | 0/14494 [00:00<?, ?it/s]2023-11-14 19:21:25.022437: I tensorflow/core/grappler/optimizers/data/replicate_on_split.cc:32] Running replicate on split optimization\n",
      " 16%|█▌        | 2298/14494 [06:44<39:20,  5.17it/s]"
     ]
    },
    {
     "name": "stdout",
     "output_type": "stream",
     "text": [
      "input/06_post_annotation_analyses/adata_per_sn_per_ct/OLD_WT_1_ASTRO_1.h5\n",
      "OLD_WT_1_ASTRO_1\n"
     ]
    },
    {
     "name": "stderr",
     "output_type": "stream",
     "text": [
      " 66%|██████▌   | 9562/14494 [17:52<07:56, 10.36it/s]2023-11-14 19:21:26.766550: I tensorflow/compiler/xla/stream_executor/gpu/asm_compiler.cc:328] ptxas warning : Registers are spilled to local memory in function 'fusion_1', 256 bytes spill stores, 240 bytes spill loads\n",
      "ptxas warning : Registers are spilled to local memory in function '__cuda_sm20_div_f64_slowpath_v2', 12 bytes spill stores, 12 bytes spill loads\n",
      "\n",
      "100%|██████████| 14494/14494 [35:50<00:00,  6.74it/s] \n",
      " 42%|████▏     | 6124/14494 [13:46<17:55,  7.78it/s]/home/peter/mambaforge/envs/spatialde/lib/python3.9/site-packages/anndata/__init__.py:51: FutureWarning: `anndata.read` is deprecated, use `anndata.read_h5ad` instead. `ad.read` will be removed in mid 2024.\n",
      "  warnings.warn(\n",
      "  0%|          | 0/14494 [00:00<?, ?it/s]2023-11-14 19:22:04.884480: I tensorflow/core/grappler/optimizers/data/replicate_on_split.cc:32] Running replicate on split optimization\n",
      " 41%|████      | 5971/14494 [17:47<18:48,  7.55it/s]]"
     ]
    },
    {
     "name": "stdout",
     "output_type": "stream",
     "text": [
      "input/06_post_annotation_analyses/adata_per_sn_per_ct/OLD_OVX_3_Cartpt+.h5\n",
      "OLD_OVX_3_Cartpt+\n"
     ]
    },
    {
     "name": "stderr",
     "output_type": "stream",
     "text": [
      "100%|██████████| 14494/14494 [29:38<00:00,  8.15it/s]]\n",
      " 11%|█▏        | 1648/14494 [05:02<25:47,  8.30it/s]/home/peter/mambaforge/envs/spatialde/lib/python3.9/site-packages/anndata/__init__.py:51: FutureWarning: `anndata.read` is deprecated, use `anndata.read_h5ad` instead. `ad.read` will be removed in mid 2024.\n",
      "  warnings.warn(\n",
      " 91%|█████████ | 13200/14494 [33:59<03:02,  7.09it/s]2023-11-14 19:26:27.452817: I tensorflow/core/grappler/optimizers/data/replicate_on_split.cc:32] Running replicate on split optimization\n",
      " 36%|███▌      | 5219/14494 [13:49<26:34,  5.82it/s]  "
     ]
    },
    {
     "name": "stdout",
     "output_type": "stream",
     "text": [
      "input/06_post_annotation_analyses/adata_per_sn_per_ct/YOUNG_WT_2_MICROGLIA.h5\n",
      "YOUNG_WT_2_MICROGLIA\n"
     ]
    },
    {
     "name": "stderr",
     "output_type": "stream",
     "text": [
      "100%|██████████| 14494/14494 [37:20<00:00,  6.47it/s] \n",
      " 99%|█████████▉| 14351/14494 [36:49<00:14, 10.11it/s]/home/peter/mambaforge/envs/spatialde/lib/python3.9/site-packages/anndata/__init__.py:51: FutureWarning: `anndata.read` is deprecated, use `anndata.read_h5ad` instead. `ad.read` will be removed in mid 2024.\n",
      "  warnings.warn(\n",
      " 60%|█████▉    | 8677/14494 [22:57<10:57,  8.85it/s]2023-11-14 19:29:49.114949: I tensorflow/core/grappler/optimizers/data/replicate_on_split.cc:32] Running replicate on split optimization\n",
      " 19%|█▊        | 2714/14494 [08:24<22:00,  8.92it/s]"
     ]
    },
    {
     "name": "stdout",
     "output_type": "stream",
     "text": [
      "input/06_post_annotation_analyses/adata_per_sn_per_ct/OLD_WT_1_CORTEX_Tshz2+.h5\n",
      "OLD_WT_1_CORTEX_Tshz2+\n"
     ]
    },
    {
     "name": "stderr",
     "output_type": "stream",
     "text": [
      " 65%|██████▍   | 9398/14494 [22:10<07:48, 10.87it/s]]2023-11-14 19:29:51.305888: I tensorflow/compiler/xla/stream_executor/gpu/asm_compiler.cc:328] ptxas warning : Registers are spilled to local memory in function 'fusion', 552 bytes spill stores, 280 bytes spill loads\n",
      "ptxas warning : Registers are spilled to local memory in function '__cuda_sm20_div_f64_slowpath_v2', 12 bytes spill stores, 12 bytes spill loads\n",
      "\n",
      " 44%|████▍     | 6424/14494 [17:14<17:57,  7.49it/s]2023-11-14 19:29:52.430012: I tensorflow/compiler/xla/stream_executor/gpu/asm_compiler.cc:328] ptxas warning : Registers are spilled to local memory in function 'fusion_1', 1820 bytes spill stores, 1432 bytes spill loads\n",
      "ptxas warning : Registers are spilled to local memory in function '__cuda_sm20_div_f64_slowpath_v2', 100 bytes spill stores, 116 bytes spill loads\n",
      "ptxas warning : Registers are spilled to local memory in function '__internal_trig_reduction_slowpathd', 20 bytes spill stores, 12 bytes spill loads\n",
      "\n",
      "100%|██████████| 14494/14494 [37:10<00:00,  6.50it/s] \n",
      " 78%|███████▊  | 11233/14494 [26:09<05:36,  9.69it/s]/home/peter/mambaforge/envs/spatialde/lib/python3.9/site-packages/anndata/__init__.py:51: FutureWarning: `anndata.read` is deprecated, use `anndata.read_h5ad` instead. `ad.read` will be removed in mid 2024.\n",
      "  warnings.warn(\n",
      " 98%|█████████▊| 14186/14494 [26:36<00:29, 10.44it/s]2023-11-14 19:30:10.381635: I tensorflow/core/grappler/optimizers/data/replicate_on_split.cc:32] Running replicate on split optimization\n",
      " 32%|███▏      | 4624/14494 [08:05<35:02,  4.70it/s]]"
     ]
    },
    {
     "name": "stdout",
     "output_type": "stream",
     "text": [
      "input/06_post_annotation_analyses/adata_per_sn_per_ct/YOUNG_OVX_3_AMYGDALA.h5\n",
      "YOUNG_OVX_3_AMYGDALA\n"
     ]
    },
    {
     "name": "stderr",
     "output_type": "stream",
     "text": [
      " 20%|█▉        | 2843/14494 [08:46<49:36,  3.91it/s]2023-11-14 19:30:11.799437: I tensorflow/compiler/xla/stream_executor/gpu/asm_compiler.cc:328] ptxas warning : Registers are spilled to local memory in function 'fusion', 128 bytes spill stores, 64 bytes spill loads\n",
      "\n",
      " 52%|█████▏    | 7513/14494 [14:38<10:48, 10.76it/s]2023-11-14 19:30:12.624979: I tensorflow/compiler/xla/stream_executor/gpu/asm_compiler.cc:328] ptxas warning : Registers are spilled to local memory in function 'fusion_1', 824 bytes spill stores, 632 bytes spill loads\n",
      "ptxas warning : Registers are spilled to local memory in function '__cuda_sm20_div_f64_slowpath_v2', 60 bytes spill stores, 60 bytes spill loads\n",
      "ptxas warning : Registers are spilled to local memory in function '__internal_trig_reduction_slowpathd', 12 bytes spill stores, 8 bytes spill loads\n",
      "\n",
      "100%|██████████| 14494/14494 [27:12<00:00,  8.88it/s] \n",
      " 21%|██        | 3047/14494 [09:21<29:06,  6.56it/s]/home/peter/mambaforge/envs/spatialde/lib/python3.9/site-packages/anndata/__init__.py:51: FutureWarning: `anndata.read` is deprecated, use `anndata.read_h5ad` instead. `ad.read` will be removed in mid 2024.\n",
      "  warnings.warn(\n",
      "  0%|          | 0/14494 [00:00<?, ?it/s]2023-11-14 19:30:46.565449: I tensorflow/core/grappler/optimizers/data/replicate_on_split.cc:32] Running replicate on split optimization\n",
      " 63%|██████▎   | 9093/14494 [23:54<13:09,  6.84it/s]]"
     ]
    },
    {
     "name": "stdout",
     "output_type": "stream",
     "text": [
      "input/06_post_annotation_analyses/adata_per_sn_per_ct/YOUNG_OVX_4_EX_L1.h5\n",
      "YOUNG_OVX_4_EX_L1\n"
     ]
    },
    {
     "name": "stderr",
     "output_type": "stream",
     "text": [
      " 47%|████▋     | 6768/14494 [18:10<14:17,  9.01it/s]2023-11-14 19:30:48.575328: I tensorflow/compiler/xla/stream_executor/gpu/asm_compiler.cc:328] ptxas warning : Registers are spilled to local memory in function 'fusion_1', 588 bytes spill stores, 464 bytes spill loads\n",
      "ptxas warning : Registers are spilled to local memory in function '__cuda_sm20_div_f64_slowpath_v2', 36 bytes spill stores, 36 bytes spill loads\n",
      "\n",
      "100%|██████████| 14494/14494 [33:57<00:00,  7.11it/s] \n",
      " 84%|████████▎ | 12118/14494 [25:44<04:16,  9.26it/s]/home/peter/mambaforge/envs/spatialde/lib/python3.9/site-packages/anndata/__init__.py:51: FutureWarning: `anndata.read` is deprecated, use `anndata.read_h5ad` instead. `ad.read` will be removed in mid 2024.\n",
      "  warnings.warn(\n",
      " 77%|███████▋  | 11192/14494 [26:59<09:09,  6.00it/s]2023-11-14 19:37:58.915239: I tensorflow/core/grappler/optimizers/data/replicate_on_split.cc:32] Running replicate on split optimization\n",
      " 38%|███▊      | 5500/14494 [16:34<42:19,  3.54it/s]]"
     ]
    },
    {
     "name": "stdout",
     "output_type": "stream",
     "text": [
      "input/06_post_annotation_analyses/adata_per_sn_per_ct/OLD_OVX_4_EX_L4.h5\n",
      "OLD_OVX_4_EX_L4\n"
     ]
    },
    {
     "name": "stderr",
     "output_type": "stream",
     "text": [
      " 80%|███████▉  | 11562/14494 [33:43<08:49,  5.54it/s]2023-11-14 19:38:00.933684: I tensorflow/compiler/xla/stream_executor/gpu/asm_compiler.cc:328] ptxas warning : Registers are spilled to local memory in function 'fusion_1', 572 bytes spill stores, 456 bytes spill loads\n",
      "ptxas warning : Registers are spilled to local memory in function '__cuda_sm20_div_f64_slowpath_v2', 36 bytes spill stores, 36 bytes spill loads\n",
      "\n",
      "100%|██████████| 14494/14494 [31:29<00:00,  7.67it/s] \n",
      " 48%|████▊     | 6942/14494 [13:20<18:06,  6.95it/s]/home/peter/mambaforge/envs/spatialde/lib/python3.9/site-packages/anndata/__init__.py:51: FutureWarning: `anndata.read` is deprecated, use `anndata.read_h5ad` instead. `ad.read` will be removed in mid 2024.\n",
      "  warnings.warn(\n",
      "  0%|          | 0/14494 [00:00<?, ?it/s]2023-11-14 19:39:47.868495: I tensorflow/core/grappler/optimizers/data/replicate_on_split.cc:32] Running replicate on split optimization\n",
      " 22%|██▏       | 3137/14494 [09:58<31:21,  6.04it/s]"
     ]
    },
    {
     "name": "stdout",
     "output_type": "stream",
     "text": [
      "input/06_post_annotation_analyses/adata_per_sn_per_ct/YOUNG_OVX_1_ASTRO_2.h5\n",
      "YOUNG_OVX_1_ASTRO_2\n"
     ]
    },
    {
     "name": "stderr",
     "output_type": "stream",
     "text": [
      "100%|██████████| 14494/14494 [34:15<00:00,  7.05it/s]]\n",
      " 32%|███▏      | 4643/14494 [11:45<14:54, 11.01it/s]/home/peter/mambaforge/envs/spatialde/lib/python3.9/site-packages/anndata/__init__.py:51: FutureWarning: `anndata.read` is deprecated, use `anndata.read_h5ad` instead. `ad.read` will be removed in mid 2024.\n",
      "  warnings.warn(\n",
      " 80%|███████▉  | 11556/14494 [29:18<08:01,  6.11it/s]2023-11-14 19:41:56.112500: I tensorflow/core/grappler/optimizers/data/replicate_on_split.cc:32] Running replicate on split optimization\n",
      " 90%|████████▉ | 13038/14494 [26:21<03:51,  6.28it/s]"
     ]
    },
    {
     "name": "stdout",
     "output_type": "stream",
     "text": [
      "input/06_post_annotation_analyses/adata_per_sn_per_ct/YOUNG_WT_3_MICROGLIA.h5\n",
      "YOUNG_WT_3_MICROGLIA\n"
     ]
    },
    {
     "name": "stderr",
     "output_type": "stream",
     "text": [
      " 55%|█████▍    | 7963/14494 [15:30<30:18,  3.59it/s]2023-11-14 19:41:57.923369: I tensorflow/compiler/xla/stream_executor/gpu/asm_compiler.cc:328] ptxas warning : Registers are spilled to local memory in function 'fusion_1', 240 bytes spill stores, 232 bytes spill loads\n",
      "ptxas warning : Registers are spilled to local memory in function '__cuda_sm20_div_f64_slowpath_v2', 12 bytes spill stores, 12 bytes spill loads\n",
      "\n",
      "100%|██████████| 14494/14494 [30:45<00:00,  7.85it/s] \n",
      "  2%|▏         | 330/14494 [01:03<20:42, 11.40it/s]/home/peter/mambaforge/envs/spatialde/lib/python3.9/site-packages/anndata/__init__.py:51: FutureWarning: `anndata.read` is deprecated, use `anndata.read_h5ad` instead. `ad.read` will be removed in mid 2024.\n",
      "  warnings.warn(\n",
      " 73%|███████▎  | 10529/14494 [22:53<05:35, 11.82it/s]2023-11-14 19:43:00.295483: I tensorflow/core/grappler/optimizers/data/replicate_on_split.cc:32] Running replicate on split optimization\n",
      " 98%|█████████▊| 14133/14494 [36:08<00:59,  6.04it/s]"
     ]
    },
    {
     "name": "stdout",
     "output_type": "stream",
     "text": [
      "input/06_post_annotation_analyses/adata_per_sn_per_ct/YOUNG_OVX_4_DG_GRANULE.h5\n",
      "YOUNG_OVX_4_DG_GRANULE\n"
     ]
    },
    {
     "name": "stderr",
     "output_type": "stream",
     "text": [
      " 83%|████████▎ | 12052/14494 [30:24<04:21,  9.36it/s]2023-11-14 19:43:02.272158: I tensorflow/compiler/xla/stream_executor/gpu/asm_compiler.cc:328] ptxas warning : Registers are spilled to local memory in function 'fusion_1', 256 bytes spill stores, 240 bytes spill loads\n",
      "ptxas warning : Registers are spilled to local memory in function '__cuda_sm20_div_f64_slowpath_v2', 12 bytes spill stores, 12 bytes spill loads\n",
      "\n",
      "100%|██████████| 14494/14494 [36:56<00:00,  6.54it/s] \n",
      " 10%|▉         | 1395/14494 [03:17<20:57, 10.42it/s]/home/peter/mambaforge/envs/spatialde/lib/python3.9/site-packages/anndata/__init__.py:51: FutureWarning: `anndata.read` is deprecated, use `anndata.read_h5ad` instead. `ad.read` will be removed in mid 2024.\n",
      "  warnings.warn(\n",
      " 83%|████████▎ | 12083/14494 [30:28<04:29,  8.96it/s]2023-11-14 19:43:06.040928: I tensorflow/core/grappler/optimizers/data/replicate_on_split.cc:32] Running replicate on split optimization\n",
      " 10%|▉         | 1399/14494 [03:18<19:08, 11.41it/s]]"
     ]
    },
    {
     "name": "stdout",
     "output_type": "stream",
     "text": [
      "input/06_post_annotation_analyses/adata_per_sn_per_ct/YOUNG_OVX_2_IN_Adarb2+.h5\n",
      "YOUNG_OVX_2_IN_Adarb2+\n"
     ]
    },
    {
     "name": "stderr",
     "output_type": "stream",
     "text": [
      "  3%|▎         | 369/14494 [01:11<1:09:37,  3.38it/s]2023-11-14 19:43:07.640267: I tensorflow/compiler/xla/stream_executor/gpu/asm_compiler.cc:328] ptxas warning : Registers are spilled to local memory in function 'fusion', 372 bytes spill stores, 196 bytes spill loads\n",
      "ptxas warning : Registers are spilled to local memory in function '__cuda_sm20_div_f64_slowpath_v2', 12 bytes spill stores, 12 bytes spill loads\n",
      "\n",
      " 50%|█████     | 7282/14494 [21:43<22:28,  5.35it/s]2023-11-14 19:43:08.680716: I tensorflow/compiler/xla/stream_executor/gpu/asm_compiler.cc:328] ptxas warning : Registers are spilled to local memory in function 'fusion_1', 1412 bytes spill stores, 1084 bytes spill loads\n",
      "ptxas warning : Registers are spilled to local memory in function '__cuda_sm20_div_f64_slowpath_v2', 60 bytes spill stores, 60 bytes spill loads\n",
      "ptxas warning : Registers are spilled to local memory in function '__internal_trig_reduction_slowpathd', 4 bytes spill stores, 4 bytes spill loads\n",
      "\n",
      "100%|██████████| 14494/14494 [37:01<00:00,  6.52it/s] \n",
      " 96%|█████████▌| 13932/14494 [28:19<01:43,  5.44it/s]/home/peter/mambaforge/envs/spatialde/lib/python3.9/site-packages/anndata/__init__.py:51: FutureWarning: `anndata.read` is deprecated, use `anndata.read_h5ad` instead. `ad.read` will be removed in mid 2024.\n",
      "  warnings.warn(\n",
      " 86%|████████▌ | 12480/14494 [21:48<05:11,  6.47it/s]2023-11-14 19:43:53.755041: I tensorflow/core/grappler/optimizers/data/replicate_on_split.cc:32] Running replicate on split optimization\n",
      " 12%|█▏        | 1737/14494 [04:06<20:40, 10.29it/s]]"
     ]
    },
    {
     "name": "stdout",
     "output_type": "stream",
     "text": [
      "input/06_post_annotation_analyses/adata_per_sn_per_ct/YOUNG_WT_4_OLIGO.h5\n",
      "YOUNG_WT_4_OLIGO\n"
     ]
    },
    {
     "name": "stderr",
     "output_type": "stream",
     "text": [
      " 95%|█████████▌| 13771/14494 [39:38<01:18,  9.15it/s]2023-11-14 19:43:55.838987: I tensorflow/compiler/xla/stream_executor/gpu/asm_compiler.cc:328] ptxas warning : Registers are spilled to local memory in function 'fusion', 552 bytes spill stores, 280 bytes spill loads\n",
      "ptxas warning : Registers are spilled to local memory in function '__cuda_sm20_div_f64_slowpath_v2', 12 bytes spill stores, 12 bytes spill loads\n",
      "\n",
      " 61%|██████    | 8849/14494 [17:29<17:44,  5.30it/s]2023-11-14 19:43:57.122000: I tensorflow/compiler/xla/stream_executor/gpu/asm_compiler.cc:328] ptxas warning : Registers are spilled to local memory in function 'fusion_1', 1820 bytes spill stores, 1432 bytes spill loads\n",
      "ptxas warning : Registers are spilled to local memory in function '__cuda_sm20_div_f64_slowpath_v2', 100 bytes spill stores, 116 bytes spill loads\n",
      "ptxas warning : Registers are spilled to local memory in function '__internal_trig_reduction_slowpathd', 20 bytes spill stores, 12 bytes spill loads\n",
      "\n",
      "100%|██████████| 14494/14494 [29:18<00:00,  8.24it/s] \n",
      " 76%|███████▌  | 10968/14494 [30:11<05:30, 10.68it/s]/home/peter/mambaforge/envs/spatialde/lib/python3.9/site-packages/anndata/__init__.py:51: FutureWarning: `anndata.read` is deprecated, use `anndata.read_h5ad` instead. `ad.read` will be removed in mid 2024.\n",
      "  warnings.warn(\n",
      " 88%|████████▊ | 12797/14494 [32:14<03:00,  9.38it/s]2023-11-14 19:44:52.895157: I tensorflow/core/grappler/optimizers/data/replicate_on_split.cc:32] Running replicate on split optimization\n",
      "100%|█████████▉| 14428/14494 [33:53<00:06,  9.74it/s]"
     ]
    },
    {
     "name": "stdout",
     "output_type": "stream",
     "text": [
      "input/06_post_annotation_analyses/adata_per_sn_per_ct/OLD_OVX_4_ASTRO_1.h5\n",
      "OLD_OVX_4_ASTRO_1\n"
     ]
    },
    {
     "name": "stderr",
     "output_type": "stream",
     "text": [
      "  5%|▍         | 712/14494 [01:54<24:40,  9.31it/s]2023-11-14 19:44:54.369237: I tensorflow/compiler/xla/stream_executor/gpu/asm_compiler.cc:328] ptxas warning : Registers are spilled to local memory in function 'fusion', 128 bytes spill stores, 64 bytes spill loads\n",
      "\n",
      "  5%|▍         | 722/14494 [01:54<20:35, 11.15it/s]2023-11-14 19:44:55.232904: I tensorflow/compiler/xla/stream_executor/gpu/asm_compiler.cc:328] ptxas warning : Registers are spilled to local memory in function 'fusion_1', 824 bytes spill stores, 632 bytes spill loads\n",
      "ptxas warning : Registers are spilled to local memory in function '__cuda_sm20_div_f64_slowpath_v2', 60 bytes spill stores, 60 bytes spill loads\n",
      "ptxas warning : Registers are spilled to local memory in function '__internal_trig_reduction_slowpathd', 12 bytes spill stores, 8 bytes spill loads\n",
      "\n",
      "100%|██████████| 14494/14494 [34:00<00:00,  7.10it/s]]\n",
      "  3%|▎         | 416/14494 [01:06<36:44,  6.39it/s]/home/peter/mambaforge/envs/spatialde/lib/python3.9/site-packages/anndata/__init__.py:51: FutureWarning: `anndata.read` is deprecated, use `anndata.read_h5ad` instead. `ad.read` will be removed in mid 2024.\n",
      "  warnings.warn(\n",
      "  0%|          | 0/14494 [00:00<?, ?it/s]2023-11-14 19:45:00.047141: I tensorflow/core/grappler/optimizers/data/replicate_on_split.cc:32] Running replicate on split optimization\n",
      " 90%|█████████ | 13107/14494 [22:55<01:16, 18.17it/s]"
     ]
    },
    {
     "name": "stdout",
     "output_type": "stream",
     "text": [
      "input/06_post_annotation_analyses/adata_per_sn_per_ct/YOUNG_OVX_4_MB_ERYTH.h5\n",
      "YOUNG_OVX_4_MB_ERYTH\n"
     ]
    },
    {
     "name": "stderr",
     "output_type": "stream",
     "text": [
      "100%|██████████| 14494/14494 [41:41<00:00,  5.79it/s] \n",
      "  8%|▊         | 1177/14494 [02:58<30:45,  7.22it/s]/home/peter/mambaforge/envs/spatialde/lib/python3.9/site-packages/anndata/__init__.py:51: FutureWarning: `anndata.read` is deprecated, use `anndata.read_h5ad` instead. `ad.read` will be removed in mid 2024.\n",
      "  warnings.warn(\n",
      " 18%|█▊        | 2652/14494 [06:11<15:32, 12.69it/s]2023-11-14 19:45:59.138887: I tensorflow/core/grappler/optimizers/data/replicate_on_split.cc:32] Running replicate on split optimization\n",
      " 18%|█▊        | 2654/14494 [06:11<16:18, 12.10it/s]]"
     ]
    },
    {
     "name": "stdout",
     "output_type": "stream",
     "text": [
      "input/06_post_annotation_analyses/adata_per_sn_per_ct/OLD_WT_4_EX_L6.h5\n",
      "OLD_WT_4_EX_L6\n"
     ]
    },
    {
     "name": "stderr",
     "output_type": "stream",
     "text": [
      " 94%|█████████▍| 13611/14494 [23:55<00:55, 15.87it/s]2023-11-14 19:46:00.612626: I tensorflow/compiler/xla/stream_executor/gpu/asm_compiler.cc:328] ptxas warning : Registers are spilled to local memory in function 'fusion', 128 bytes spill stores, 64 bytes spill loads\n",
      "\n",
      " 18%|█▊        | 2674/14494 [06:13<24:41,  7.98it/s]2023-11-14 19:46:01.503900: I tensorflow/compiler/xla/stream_executor/gpu/asm_compiler.cc:328] ptxas warning : Registers are spilled to local memory in function 'fusion_1', 824 bytes spill stores, 632 bytes spill loads\n",
      "ptxas warning : Registers are spilled to local memory in function '__cuda_sm20_div_f64_slowpath_v2', 60 bytes spill stores, 60 bytes spill loads\n",
      "ptxas warning : Registers are spilled to local memory in function '__internal_trig_reduction_slowpathd', 12 bytes spill stores, 8 bytes spill loads\n",
      "\n",
      "100%|██████████| 14494/14494 [25:15<00:00,  9.57it/s] \n",
      " 46%|████▌     | 6595/14494 [17:09<14:29,  9.08it/s]/home/peter/mambaforge/envs/spatialde/lib/python3.9/site-packages/anndata/__init__.py:51: FutureWarning: `anndata.read` is deprecated, use `anndata.read_h5ad` instead. `ad.read` will be removed in mid 2024.\n",
      "  warnings.warn(\n",
      "  0%|          | 0/14494 [00:00<?, ?it/s]2023-11-14 19:47:20.417675: I tensorflow/core/grappler/optimizers/data/replicate_on_split.cc:32] Running replicate on split optimization\n",
      " 13%|█▎        | 1860/14494 [05:24<43:32,  4.84it/s]s]"
     ]
    },
    {
     "name": "stdout",
     "output_type": "stream",
     "text": [
      "input/06_post_annotation_analyses/adata_per_sn_per_ct/YOUNG_OVX_1_IN_MB.h5\n",
      "YOUNG_OVX_1_IN_MB\n"
     ]
    },
    {
     "name": "stderr",
     "output_type": "stream",
     "text": [
      "100%|██████████| 14494/14494 [36:30<00:00,  6.62it/s]]\n",
      " 11%|█         | 1570/14494 [03:09<20:29, 10.51it/s]/home/peter/mambaforge/envs/spatialde/lib/python3.9/site-packages/anndata/__init__.py:51: FutureWarning: `anndata.read` is deprecated, use `anndata.read_h5ad` instead. `ad.read` will be removed in mid 2024.\n",
      "  warnings.warn(\n",
      "  0%|          | 0/14494 [00:00<?, ?it/s]2023-11-14 19:49:08.971696: I tensorflow/core/grappler/optimizers/data/replicate_on_split.cc:32] Running replicate on split optimization\n",
      " 11%|█         | 1574/14494 [03:09<20:16, 10.62it/s]]"
     ]
    },
    {
     "name": "stdout",
     "output_type": "stream",
     "text": [
      "input/06_post_annotation_analyses/adata_per_sn_per_ct/OLD_OVX_1_MENINGES.h5\n",
      "OLD_OVX_1_MENINGES\n"
     ]
    },
    {
     "name": "stderr",
     "output_type": "stream",
     "text": [
      " 11%|█         | 1588/14494 [03:11<19:05, 11.27it/s]] 2023-11-14 19:49:10.370244: I tensorflow/compiler/xla/stream_executor/gpu/asm_compiler.cc:328] ptxas warning : Registers are spilled to local memory in function 'fusion', 96 bytes spill stores, 48 bytes spill loads\n",
      "\n",
      " 16%|█▌        | 2335/14494 [05:17<25:44,  7.87it/s]2023-11-14 19:49:11.257459: I tensorflow/compiler/xla/stream_executor/gpu/asm_compiler.cc:328] ptxas warning : Registers are spilled to local memory in function 'fusion_1', 808 bytes spill stores, 624 bytes spill loads\n",
      "ptxas warning : Registers are spilled to local memory in function '__cuda_sm20_div_f64_slowpath_v2', 60 bytes spill stores, 60 bytes spill loads\n",
      "ptxas warning : Registers are spilled to local memory in function '__internal_trig_reduction_slowpathd', 12 bytes spill stores, 8 bytes spill loads\n",
      "\n",
      "100%|██████████| 14494/14494 [31:14<00:00,  7.73it/s] \n",
      " 24%|██▍       | 3527/14494 [07:27<16:56, 10.79it/s]/home/peter/mambaforge/envs/spatialde/lib/python3.9/site-packages/anndata/__init__.py:51: FutureWarning: `anndata.read` is deprecated, use `anndata.read_h5ad` instead. `ad.read` will be removed in mid 2024.\n",
      "  warnings.warn(\n",
      " 94%|█████████▎| 13576/14494 [36:40<02:28,  6.16it/s]"
     ]
    },
    {
     "name": "stdout",
     "output_type": "stream",
     "text": [
      "input/06_post_annotation_analyses/adata_per_sn_per_ct/YOUNG_OVX_2_MICROGLIA.h5\n",
      "YOUNG_OVX_2_MICROGLIA\n"
     ]
    },
    {
     "name": "stderr",
     "output_type": "stream",
     "text": [
      "2023-11-14 19:51:21.609623: I tensorflow/core/grappler/optimizers/data/replicate_on_split.cc:32] Running replicate on split optimization\n",
      "100%|██████████| 14494/14494 [38:57<00:00,  6.20it/s] \n",
      " 31%|███▏      | 4560/14494 [10:38<14:50, 11.16it/s]/home/peter/mambaforge/envs/spatialde/lib/python3.9/site-packages/anndata/__init__.py:51: FutureWarning: `anndata.read` is deprecated, use `anndata.read_h5ad` instead. `ad.read` will be removed in mid 2024.\n",
      "  warnings.warn(\n",
      "  0%|          | 0/14494 [00:00<?, ?it/s]2023-11-14 19:53:38.583316: I tensorflow/core/grappler/optimizers/data/replicate_on_split.cc:32] Running replicate on split optimization\n",
      " 17%|█▋        | 2515/14494 [06:18<26:08,  7.64it/s]]"
     ]
    },
    {
     "name": "stdout",
     "output_type": "stream",
     "text": [
      "input/06_post_annotation_analyses/adata_per_sn_per_ct/OLD_OVX_4_MICROGLIA.h5\n",
      "OLD_OVX_4_MICROGLIA\n"
     ]
    },
    {
     "name": "stderr",
     "output_type": "stream",
     "text": [
      "100%|██████████| 14494/14494 [28:35<00:00,  8.45it/s] \n",
      " 30%|██▉       | 4337/14494 [11:57<17:44,  9.54it/s]/home/peter/mambaforge/envs/spatialde/lib/python3.9/site-packages/anndata/__init__.py:51: FutureWarning: `anndata.read` is deprecated, use `anndata.read_h5ad` instead. `ad.read` will be removed in mid 2024.\n",
      "  warnings.warn(\n",
      "  0%|          | 0/14494 [00:00<?, ?it/s]2023-11-14 19:55:03.391479: I tensorflow/core/grappler/optimizers/data/replicate_on_split.cc:32] Running replicate on split optimization\n",
      " 21%|██▏       | 3091/14494 [07:43<16:12, 11.72it/s]"
     ]
    },
    {
     "name": "stdout",
     "output_type": "stream",
     "text": [
      "input/06_post_annotation_analyses/adata_per_sn_per_ct/OLD_WT_5_EX_L1.h5\n",
      "OLD_WT_5_EX_L1\n"
     ]
    },
    {
     "name": "stderr",
     "output_type": "stream",
     "text": [
      " 75%|███████▌  | 10901/14494 [24:18<06:27,  9.27it/s]2023-11-14 19:55:05.574522: I tensorflow/compiler/xla/stream_executor/gpu/asm_compiler.cc:328] ptxas warning : Registers are spilled to local memory in function 'fusion_1', 588 bytes spill stores, 464 bytes spill loads\n",
      "ptxas warning : Registers are spilled to local memory in function '__cuda_sm20_div_f64_slowpath_v2', 36 bytes spill stores, 36 bytes spill loads\n",
      "\n",
      "100%|██████████| 14494/14494 [31:45<00:00,  7.61it/s] \n",
      " 46%|████▋     | 6728/14494 [11:10<14:58,  8.64it/s]/home/peter/mambaforge/envs/spatialde/lib/python3.9/site-packages/anndata/__init__.py:51: FutureWarning: `anndata.read` is deprecated, use `anndata.read_h5ad` instead. `ad.read` will be removed in mid 2024.\n",
      "  warnings.warn(\n",
      " 71%|███████▏  | 10340/14494 [24:33<08:11,  8.46it/s]2023-11-14 20:02:32.380439: I tensorflow/core/grappler/optimizers/data/replicate_on_split.cc:32] Running replicate on split optimization\n",
      " 26%|██▌       | 3780/14494 [08:53<28:41,  6.22it/s]]"
     ]
    },
    {
     "name": "stdout",
     "output_type": "stream",
     "text": [
      "input/06_post_annotation_analyses/adata_per_sn_per_ct/YOUNG_WT_1_MB_ERYTH.h5\n",
      "YOUNG_WT_1_MB_ERYTH\n"
     ]
    },
    {
     "name": "stderr",
     "output_type": "stream",
     "text": [
      "100%|██████████| 14494/14494 [41:42<00:00,  5.79it/s] \n",
      " 73%|███████▎  | 10522/14494 [23:20<06:00, 11.00it/s]/home/peter/mambaforge/envs/spatialde/lib/python3.9/site-packages/anndata/__init__.py:51: FutureWarning: `anndata.read` is deprecated, use `anndata.read_h5ad` instead. `ad.read` will be removed in mid 2024.\n",
      "  warnings.warn(\n",
      " 73%|███████▎  | 10614/14494 [25:09<06:41,  9.67it/s]2023-11-14 20:03:08.364398: I tensorflow/core/grappler/optimizers/data/replicate_on_split.cc:32] Running replicate on split optimization\n",
      " 60%|█████▉    | 8670/14494 [17:09<08:25, 11.52it/s]]"
     ]
    },
    {
     "name": "stdout",
     "output_type": "stream",
     "text": [
      "input/06_post_annotation_analyses/adata_per_sn_per_ct/YOUNG_WT_3_EX_CA1.h5\n",
      "YOUNG_WT_3_EX_CA1\n"
     ]
    },
    {
     "name": "stderr",
     "output_type": "stream",
     "text": [
      " 53%|█████▎    | 7707/14494 [21:14<16:54,  6.69it/s]2023-11-14 20:03:10.345612: I tensorflow/compiler/xla/stream_executor/gpu/asm_compiler.cc:328] ptxas warning : Registers are spilled to local memory in function 'fusion', 552 bytes spill stores, 280 bytes spill loads\n",
      "ptxas warning : Registers are spilled to local memory in function '__cuda_sm20_div_f64_slowpath_v2', 12 bytes spill stores, 12 bytes spill loads\n",
      "\n",
      " 60%|██████    | 8704/14494 [17:12<08:19, 11.60it/s]2023-11-14 20:03:11.535751: I tensorflow/compiler/xla/stream_executor/gpu/asm_compiler.cc:328] ptxas warning : Registers are spilled to local memory in function 'fusion_1', 1820 bytes spill stores, 1432 bytes spill loads\n",
      "ptxas warning : Registers are spilled to local memory in function '__cuda_sm20_div_f64_slowpath_v2', 100 bytes spill stores, 116 bytes spill loads\n",
      "ptxas warning : Registers are spilled to local memory in function '__internal_trig_reduction_slowpathd', 20 bytes spill stores, 12 bytes spill loads\n",
      "\n",
      "100%|██████████| 14494/14494 [35:19<00:00,  6.84it/s] \n",
      "  7%|▋         | 990/14494 [02:21<20:57, 10.74it/s]/home/peter/mambaforge/envs/spatialde/lib/python3.9/site-packages/anndata/__init__.py:51: FutureWarning: `anndata.read` is deprecated, use `anndata.read_h5ad` instead. `ad.read` will be removed in mid 2024.\n",
      "  warnings.warn(\n",
      " 81%|████████  | 11718/14494 [25:42<04:04, 11.36it/s]2023-11-14 20:05:30.639997: I tensorflow/core/grappler/optimizers/data/replicate_on_split.cc:32] Running replicate on split optimization\n",
      "  7%|▋         | 994/14494 [02:22<21:58, 10.24it/s]]"
     ]
    },
    {
     "name": "stdout",
     "output_type": "stream",
     "text": [
      "input/06_post_annotation_analyses/adata_per_sn_per_ct/OLD_OVX_2_DG_GRANULE.h5\n",
      "OLD_OVX_2_DG_GRANULE\n"
     ]
    },
    {
     "name": "stderr",
     "output_type": "stream",
     "text": [
      " 37%|███▋      | 5405/14494 [10:29<12:30, 12.11it/s]2023-11-14 20:05:32.537111: I tensorflow/compiler/xla/stream_executor/gpu/asm_compiler.cc:328] ptxas warning : Registers are spilled to local memory in function 'fusion', 388 bytes spill stores, 204 bytes spill loads\n",
      "ptxas warning : Registers are spilled to local memory in function '__cuda_sm20_div_f64_slowpath_v2', 12 bytes spill stores, 12 bytes spill loads\n",
      "\n",
      "  7%|▋         | 1016/14494 [02:25<26:19,  8.53it/s]2023-11-14 20:05:33.543284: I tensorflow/compiler/xla/stream_executor/gpu/asm_compiler.cc:328] ptxas warning : Registers are spilled to local memory in function 'fusion_1', 1428 bytes spill stores, 1092 bytes spill loads\n",
      "ptxas warning : Registers are spilled to local memory in function '__cuda_sm20_div_f64_slowpath_v2', 60 bytes spill stores, 60 bytes spill loads\n",
      "ptxas warning : Registers are spilled to local memory in function '__internal_trig_reduction_slowpathd', 4 bytes spill stores, 4 bytes spill loads\n",
      "\n",
      "100%|██████████| 14494/14494 [31:39<00:00,  7.63it/s] \n",
      " 87%|████████▋ | 12637/14494 [28:27<02:25, 12.73it/s]/home/peter/mambaforge/envs/spatialde/lib/python3.9/site-packages/anndata/__init__.py:51: FutureWarning: `anndata.read` is deprecated, use `anndata.read_h5ad` instead. `ad.read` will be removed in mid 2024.\n",
      "  warnings.warn(\n",
      "  0%|          | 0/14494 [00:00<?, ?it/s]2023-11-14 20:11:28.011603: I tensorflow/core/grappler/optimizers/data/replicate_on_split.cc:32] Running replicate on split optimization\n",
      " 75%|███████▌  | 10884/14494 [29:32<05:42, 10.55it/s]"
     ]
    },
    {
     "name": "stdout",
     "output_type": "stream",
     "text": [
      "input/06_post_annotation_analyses/adata_per_sn_per_ct/OLD_OVX_2_CORTEX_Tshz2+.h5\n",
      "OLD_OVX_2_CORTEX_Tshz2+\n"
     ]
    },
    {
     "name": "stderr",
     "output_type": "stream",
     "text": [
      " 79%|███████▉  | 11499/14494 [20:07<02:49, 17.68it/s]2023-11-14 20:11:29.471887: I tensorflow/compiler/xla/stream_executor/gpu/asm_compiler.cc:328] ptxas warning : Registers are spilled to local memory in function 'fusion', 128 bytes spill stores, 64 bytes spill loads\n",
      "\n",
      " 87%|████████▋ | 12658/14494 [28:30<03:24,  8.99it/s]2023-11-14 20:11:30.345023: I tensorflow/compiler/xla/stream_executor/gpu/asm_compiler.cc:328] ptxas warning : Registers are spilled to local memory in function 'fusion_1', 824 bytes spill stores, 632 bytes spill loads\n",
      "ptxas warning : Registers are spilled to local memory in function '__cuda_sm20_div_f64_slowpath_v2', 60 bytes spill stores, 60 bytes spill loads\n",
      "ptxas warning : Registers are spilled to local memory in function '__internal_trig_reduction_slowpathd', 12 bytes spill stores, 8 bytes spill loads\n",
      "\n",
      "100%|██████████| 14494/14494 [34:07<00:00,  7.08it/s]]\n",
      " 95%|█████████▍| 13730/14494 [28:12<01:15, 10.18it/s]/home/peter/mambaforge/envs/spatialde/lib/python3.9/site-packages/anndata/__init__.py:51: FutureWarning: `anndata.read` is deprecated, use `anndata.read_h5ad` instead. `ad.read` will be removed in mid 2024.\n",
      "  warnings.warn(\n",
      " 99%|█████████▉| 14344/14494 [42:17<00:19,  7.85it/s]2023-11-14 20:12:06.665754: I tensorflow/core/grappler/optimizers/data/replicate_on_split.cc:32] Running replicate on split optimization\n",
      " 95%|█████████▍| 13734/14494 [28:12<01:10, 10.78it/s]"
     ]
    },
    {
     "name": "stdout",
     "output_type": "stream",
     "text": [
      "input/06_post_annotation_analyses/adata_per_sn_per_ct/OLD_OVX_4_IN_Adarb2+.h5\n",
      "OLD_OVX_4_IN_Adarb2+\n"
     ]
    },
    {
     "name": "stderr",
     "output_type": "stream",
     "text": [
      "  1%|▏         | 212/14494 [00:40<50:04,  4.75it/s]  2023-11-14 20:12:08.376777: I tensorflow/compiler/xla/stream_executor/gpu/asm_compiler.cc:328] ptxas warning : Registers are spilled to local memory in function 'fusion_1', 140 bytes spill stores, 132 bytes spill loads\n",
      "ptxas warning : Registers are spilled to local memory in function '__cuda_sm20_div_f64_slowpath_v2', 4 bytes spill stores, 4 bytes spill loads\n",
      "\n",
      "100%|██████████| 14494/14494 [42:42<00:00,  5.66it/s] \n",
      " 83%|████████▎ | 12066/14494 [21:09<02:38, 15.27it/s]/home/peter/mambaforge/envs/spatialde/lib/python3.9/site-packages/anndata/__init__.py:51: FutureWarning: `anndata.read` is deprecated, use `anndata.read_h5ad` instead. `ad.read` will be removed in mid 2024.\n",
      "  warnings.warn(\n",
      "  0%|          | 0/14494 [00:00<?, ?it/s]2023-11-14 20:12:31.707877: I tensorflow/core/grappler/optimizers/data/replicate_on_split.cc:32] Running replicate on split optimization\n",
      " 96%|█████████▋| 13986/14494 [28:38<01:06,  7.67it/s]"
     ]
    },
    {
     "name": "stdout",
     "output_type": "stream",
     "text": [
      "input/06_post_annotation_analyses/adata_per_sn_per_ct/YOUNG_OVX_2_DORSAL_SUBIC.h5\n",
      "YOUNG_OVX_2_DORSAL_SUBIC\n"
     ]
    },
    {
     "name": "stderr",
     "output_type": "stream",
     "text": [
      "100%|██████████| 14494/14494 [29:36<00:00,  8.16it/s] \n",
      "  5%|▍         | 692/14494 [02:01<23:43,  9.69it/s]s]/home/peter/mambaforge/envs/spatialde/lib/python3.9/site-packages/anndata/__init__.py:51: FutureWarning: `anndata.read` is deprecated, use `anndata.read_h5ad` instead. `ad.read` will be removed in mid 2024.\n",
      "  warnings.warn(\n",
      "  0%|          | 0/14494 [00:00<?, ?it/s],  8.89it/s]"
     ]
    },
    {
     "name": "stdout",
     "output_type": "stream",
     "text": [
      "input/06_post_annotation_analyses/adata_per_sn_per_ct/YOUNG_WT_1_MICROGLIA.h5\n",
      "YOUNG_WT_1_MICROGLIA\n"
     ]
    },
    {
     "name": "stderr",
     "output_type": "stream",
     "text": [
      "2023-11-14 20:13:30.120973: I tensorflow/core/grappler/optimizers/data/replicate_on_split.cc:32] Running replicate on split optimization\n",
      "100%|██████████| 14494/14494 [27:31<00:00,  8.78it/s] \n",
      " 94%|█████████▍| 13642/14494 [30:30<01:16, 11.20it/s]/home/peter/mambaforge/envs/spatialde/lib/python3.9/site-packages/anndata/__init__.py:51: FutureWarning: `anndata.read` is deprecated, use `anndata.read_h5ad` instead. `ad.read` will be removed in mid 2024.\n",
      "  warnings.warn(\n",
      "  2%|▏         | 341/14494 [00:59<33:37,  7.01it/s]2023-11-14 20:13:31.006286: I tensorflow/core/grappler/optimizers/data/replicate_on_split.cc:32] Running replicate on split optimization\n",
      " 81%|████████  | 11685/14494 [31:35<05:35,  8.38it/s]"
     ]
    },
    {
     "name": "stdout",
     "output_type": "stream",
     "text": [
      "input/06_post_annotation_analyses/adata_per_sn_per_ct/YOUNG_WT_4_EX_L6.h5\n",
      "YOUNG_WT_4_EX_L6\n"
     ]
    },
    {
     "name": "stderr",
     "output_type": "stream",
     "text": [
      "  2%|▏         | 347/14494 [01:00<43:38,  5.40it/s]2023-11-14 20:13:32.561755: I tensorflow/compiler/xla/stream_executor/gpu/asm_compiler.cc:328] ptxas warning : Registers are spilled to local memory in function 'fusion', 128 bytes spill stores, 64 bytes spill loads\n",
      "\n",
      "  2%|▏         | 357/14494 [01:01<26:42,  8.82it/s]2023-11-14 20:13:33.539685: I tensorflow/compiler/xla/stream_executor/gpu/asm_compiler.cc:328] ptxas warning : Registers are spilled to local memory in function 'fusion_1', 824 bytes spill stores, 632 bytes spill loads\n",
      "ptxas warning : Registers are spilled to local memory in function '__cuda_sm20_div_f64_slowpath_v2', 60 bytes spill stores, 60 bytes spill loads\n",
      "ptxas warning : Registers are spilled to local memory in function '__internal_trig_reduction_slowpathd', 12 bytes spill stores, 8 bytes spill loads\n",
      "\n",
      "100%|██████████| 14494/14494 [30:15<00:00,  7.98it/s]]\n",
      "  6%|▌         | 899/14494 [01:38<20:02, 11.30it/s]/home/peter/mambaforge/envs/spatialde/lib/python3.9/site-packages/anndata/__init__.py:51: FutureWarning: `anndata.read` is deprecated, use `anndata.read_h5ad` instead. `ad.read` will be removed in mid 2024.\n",
      "  warnings.warn(\n",
      " 24%|██▍       | 3446/14494 [09:38<30:11,  6.10it/s]2023-11-14 20:15:09.148953: I tensorflow/core/grappler/optimizers/data/replicate_on_split.cc:32] Running replicate on split optimization\n",
      "  9%|▉         | 1276/14494 [03:02<19:29, 11.30it/s]"
     ]
    },
    {
     "name": "stdout",
     "output_type": "stream",
     "text": [
      "input/06_post_annotation_analyses/adata_per_sn_per_ct/OLD_OVX_3_IN_Sst+.h5\n",
      "OLD_OVX_3_IN_Sst+\n"
     ]
    },
    {
     "name": "stderr",
     "output_type": "stream",
     "text": [
      "100%|██████████| 14494/14494 [32:30<00:00,  7.43it/s] \n",
      " 95%|█████████▍| 13709/14494 [24:09<01:07, 11.67it/s]/home/peter/mambaforge/envs/spatialde/lib/python3.9/site-packages/anndata/__init__.py:51: FutureWarning: `anndata.read` is deprecated, use `anndata.read_h5ad` instead. `ad.read` will be removed in mid 2024.\n",
      "  warnings.warn(\n",
      " 81%|████████  | 11761/14494 [32:25<05:10,  8.79it/s]2023-11-14 20:15:31.183530: I tensorflow/core/grappler/optimizers/data/replicate_on_split.cc:32] Running replicate on split optimization\n",
      " 66%|██████▌   | 9592/14494 [21:52<05:56, 13.77it/s]]"
     ]
    },
    {
     "name": "stdout",
     "output_type": "stream",
     "text": [
      "input/06_post_annotation_analyses/adata_per_sn_per_ct/YOUNG_OVX_4_CORTEX_Tshz2+.h5\n",
      "YOUNG_OVX_4_CORTEX_Tshz2+\n"
     ]
    },
    {
     "name": "stderr",
     "output_type": "stream",
     "text": [
      " 95%|█████████▍| 13724/14494 [24:11<01:31,  8.45it/s]2023-11-14 20:15:33.020574: I tensorflow/compiler/xla/stream_executor/gpu/asm_compiler.cc:328] ptxas warning : Registers are spilled to local memory in function 'fusion', 388 bytes spill stores, 204 bytes spill loads\n",
      "ptxas warning : Registers are spilled to local memory in function '__cuda_sm20_div_f64_slowpath_v2', 12 bytes spill stores, 12 bytes spill loads\n",
      "\n",
      " 74%|███████▍  | 10700/14494 [20:30<05:26, 11.63it/s]2023-11-14 20:15:34.212727: I tensorflow/compiler/xla/stream_executor/gpu/asm_compiler.cc:328] ptxas warning : Registers are spilled to local memory in function 'fusion_1', 1428 bytes spill stores, 1092 bytes spill loads\n",
      "ptxas warning : Registers are spilled to local memory in function '__cuda_sm20_div_f64_slowpath_v2', 60 bytes spill stores, 60 bytes spill loads\n",
      "ptxas warning : Registers are spilled to local memory in function '__internal_trig_reduction_slowpathd', 4 bytes spill stores, 4 bytes spill loads\n",
      "\n",
      "100%|██████████| 14494/14494 [25:13<00:00,  9.58it/s] \n",
      " 84%|████████▎ | 12118/14494 [33:29<08:37,  4.59it/s]/home/peter/mambaforge/envs/spatialde/lib/python3.9/site-packages/anndata/__init__.py:51: FutureWarning: `anndata.read` is deprecated, use `anndata.read_h5ad` instead. `ad.read` will be removed in mid 2024.\n",
      "  warnings.warn(\n",
      "  0%|          | 0/14494 [00:00<?, ?it/s]2023-11-14 20:16:35.638984: I tensorflow/core/grappler/optimizers/data/replicate_on_split.cc:32] Running replicate on split optimization\n",
      " 11%|█         | 1522/14494 [03:05<20:10, 10.72it/s]]"
     ]
    },
    {
     "name": "stdout",
     "output_type": "stream",
     "text": [
      "input/06_post_annotation_analyses/adata_per_sn_per_ct/OLD_OVX_2_EX_MB.h5\n",
      "OLD_OVX_2_EX_MB\n"
     ]
    },
    {
     "name": "stderr",
     "output_type": "stream",
     "text": [
      "100%|██████████| 14494/14494 [38:58<00:00,  6.20it/s] \n",
      " 94%|█████████▍| 13594/14494 [25:51<01:29, 10.07it/s]/home/peter/mambaforge/envs/spatialde/lib/python3.9/site-packages/anndata/__init__.py:51: FutureWarning: `anndata.read` is deprecated, use `anndata.read_h5ad` instead. `ad.read` will be removed in mid 2024.\n",
      "  warnings.warn(\n",
      " 91%|█████████ | 13207/14494 [33:34<02:04, 10.32it/s]2023-11-14 20:20:54.738980: I tensorflow/core/grappler/optimizers/data/replicate_on_split.cc:32] Running replicate on split optimization\n",
      " 24%|██▍       | 3525/14494 [10:38<31:47,  5.75it/s]"
     ]
    },
    {
     "name": "stdout",
     "output_type": "stream",
     "text": [
      "input/06_post_annotation_analyses/adata_per_sn_per_ct/OLD_WT_2_THALAMUS.h5\n",
      "OLD_WT_2_THALAMUS\n"
     ]
    },
    {
     "name": "stderr",
     "output_type": "stream",
     "text": [
      "100%|██████████| 14494/14494 [27:30<00:00,  8.78it/s]]\n",
      " 15%|█▌        | 2243/14494 [05:58<55:27,  3.68it/s]  /home/peter/mambaforge/envs/spatialde/lib/python3.9/site-packages/anndata/__init__.py:51: FutureWarning: `anndata.read` is deprecated, use `anndata.read_h5ad` instead. `ad.read` will be removed in mid 2024.\n",
      "  warnings.warn(\n",
      "  0%|          | 0/14494 [00:00<?, ?it/s]2023-11-14 20:22:34.048546: I tensorflow/core/grappler/optimizers/data/replicate_on_split.cc:32] Running replicate on split optimization\n",
      " 29%|██▉       | 4223/14494 [11:06<57:51,  2.96it/s]"
     ]
    },
    {
     "name": "stdout",
     "output_type": "stream",
     "text": [
      "input/06_post_annotation_analyses/adata_per_sn_per_ct/OLD_OVX_4_DOPA_SN.h5\n",
      "OLD_OVX_4_DOPA_SN\n"
     ]
    },
    {
     "name": "stderr",
     "output_type": "stream",
     "text": [
      "100%|██████████| 14494/14494 [40:16<00:00,  6.00it/s] \n",
      " 25%|██▍       | 3592/14494 [07:51<29:35,  6.14it/s]/home/peter/mambaforge/envs/spatialde/lib/python3.9/site-packages/anndata/__init__.py:51: FutureWarning: `anndata.read` is deprecated, use `anndata.read_h5ad` instead. `ad.read` will be removed in mid 2024.\n",
      "  warnings.warn(\n",
      " 96%|█████████▌| 13948/14494 [34:13<01:37,  5.59it/s]2023-11-14 20:23:22.482569: I tensorflow/core/grappler/optimizers/data/replicate_on_split.cc:32] Running replicate on split optimization\n",
      " 65%|██████▍   | 9412/14494 [20:14<07:39, 11.06it/s]]"
     ]
    },
    {
     "name": "stdout",
     "output_type": "stream",
     "text": [
      "input/06_post_annotation_analyses/adata_per_sn_per_ct/YOUNG_OVX_2_OPC.h5\n",
      "YOUNG_OVX_2_OPC\n"
     ]
    },
    {
     "name": "stderr",
     "output_type": "stream",
     "text": [
      "100%|██████████| 14494/14494 [36:52<00:00,  6.55it/s] \n",
      " 31%|███       | 4521/14494 [13:56<21:01,  7.91it/s]/home/peter/mambaforge/envs/spatialde/lib/python3.9/site-packages/anndata/__init__.py:51: FutureWarning: `anndata.read` is deprecated, use `anndata.read_h5ad` instead. `ad.read` will be removed in mid 2024.\n",
      "  warnings.warn(\n",
      " 30%|██▉       | 4291/14494 [11:41<24:10,  7.03it/s]2023-11-14 20:24:13.221448: I tensorflow/core/grappler/optimizers/data/replicate_on_split.cc:32] Running replicate on split optimization\n",
      " 68%|██████▊   | 9849/14494 [21:04<06:53, 11.23it/s]"
     ]
    },
    {
     "name": "stdout",
     "output_type": "stream",
     "text": [
      "input/06_post_annotation_analyses/adata_per_sn_per_ct/OLD_OVX_4_EX_L5.h5\n",
      "OLD_OVX_4_EX_L5\n"
     ]
    },
    {
     "name": "stderr",
     "output_type": "stream",
     "text": [
      " 30%|██▉       | 4309/14494 [11:43<19:24,  8.74it/s]2023-11-14 20:24:15.045585: I tensorflow/compiler/xla/stream_executor/gpu/asm_compiler.cc:328] ptxas warning : Registers are spilled to local memory in function 'fusion', 388 bytes spill stores, 204 bytes spill loads\n",
      "ptxas warning : Registers are spilled to local memory in function '__cuda_sm20_div_f64_slowpath_v2', 12 bytes spill stores, 12 bytes spill loads\n",
      "\n",
      " 68%|██████▊   | 9872/14494 [21:07<07:45,  9.92it/s]2023-11-14 20:24:16.206299: I tensorflow/compiler/xla/stream_executor/gpu/asm_compiler.cc:328] ptxas warning : Registers are spilled to local memory in function 'fusion_1', 1428 bytes spill stores, 1092 bytes spill loads\n",
      "ptxas warning : Registers are spilled to local memory in function '__cuda_sm20_div_f64_slowpath_v2', 60 bytes spill stores, 60 bytes spill loads\n",
      "ptxas warning : Registers are spilled to local memory in function '__internal_trig_reduction_slowpathd', 4 bytes spill stores, 4 bytes spill loads\n",
      "\n",
      "100%|██████████| 14494/14494 [35:39<00:00,  6.78it/s] \n",
      " 70%|██████▉   | 10141/14494 [21:39<07:06, 10.21it/s]/home/peter/mambaforge/envs/spatialde/lib/python3.9/site-packages/anndata/__init__.py:51: FutureWarning: `anndata.read` is deprecated, use `anndata.read_h5ad` instead. `ad.read` will be removed in mid 2024.\n",
      "  warnings.warn(\n",
      " 24%|██▍       | 3541/14494 [09:39<32:58,  5.54it/s]2023-11-14 20:24:48.577136: I tensorflow/core/grappler/optimizers/data/replicate_on_split.cc:32] Running replicate on split optimization\n",
      "  2%|▏         | 264/14494 [00:35<33:37,  7.05it/s]]]"
     ]
    },
    {
     "name": "stdout",
     "output_type": "stream",
     "text": [
      "input/06_post_annotation_analyses/adata_per_sn_per_ct/OLD_WT_4_OLIGO.h5\n",
      "OLD_WT_4_OLIGO\n"
     ]
    },
    {
     "name": "stderr",
     "output_type": "stream",
     "text": [
      " 31%|███       | 4522/14494 [12:18<29:34,  5.62it/s]2023-11-14 20:24:50.449352: I tensorflow/compiler/xla/stream_executor/gpu/asm_compiler.cc:328] ptxas warning : Registers are spilled to local memory in function 'fusion_1', 256 bytes spill stores, 240 bytes spill loads\n",
      "ptxas warning : Registers are spilled to local memory in function '__cuda_sm20_div_f64_slowpath_v2', 12 bytes spill stores, 12 bytes spill loads\n",
      "\n",
      " 20%|█▉        | 2876/14494 [05:48<22:43,  8.52it/s]] IOPub data rate exceeded.\n",
      "The Jupyter server will temporarily stop sending output\n",
      "to the client in order to avoid crashing it.\n",
      "To change this limit, set the config variable\n",
      "`--ServerApp.iopub_data_rate_limit`.\n",
      "\n",
      "Current values:\n",
      "ServerApp.iopub_data_rate_limit=1000000.0 (bytes/sec)\n",
      "ServerApp.rate_limit_window=3.0 (secs)\n",
      "\n",
      "100%|██████████| 14494/14494 [36:18<00:00,  6.65it/s] \n",
      " 59%|█████▉    | 8537/14494 [23:42<24:18,  4.08it/s]/home/peter/mambaforge/envs/spatialde/lib/python3.9/site-packages/joblib/externals/loky/process_executor.py:752: UserWarning: A worker stopped while some jobs were given to the executor. This can be caused by a too short worker timeout or by a memory leak.\n",
      "  warnings.warn(\n",
      " 47%|████▋     | 6839/14494 [14:04<26:08,  4.88it/s]2023-11-14 20:38:53.037961: I tensorflow/core/util/port.cc:111] oneDNN custom operations are on. You may see slightly different numerical results due to floating-point round-off errors from different computation orders. To turn them off, set the environment variable `TF_ENABLE_ONEDNN_OPTS=0`.\n",
      " 63%|██████▎   | 9061/14494 [28:36<30:22,  2.98it/s]2023-11-14 20:38:53.064437: E tensorflow/compiler/xla/stream_executor/cuda/cuda_dnn.cc:9342] Unable to register cuDNN factory: Attempting to register factory for plugin cuDNN when one has already been registered\n",
      "2023-11-14 20:38:53.064473: E tensorflow/compiler/xla/stream_executor/cuda/cuda_fft.cc:609] Unable to register cuFFT factory: Attempting to register factory for plugin cuFFT when one has already been registered\n",
      "2023-11-14 20:38:53.064493: E tensorflow/compiler/xla/stream_executor/cuda/cuda_blas.cc:1518] Unable to register cuBLAS factory: Attempting to register factory for plugin cuBLAS when one has already been registered\n",
      "2023-11-14 20:38:53.069665: I tensorflow/core/platform/cpu_feature_guard.cc:182] This TensorFlow binary is optimized to use available CPU instructions in performance-critical operations.\n",
      "To enable the following instructions: AVX2 AVX_VNNI FMA, in other operations, rebuild TensorFlow with the appropriate compiler flags.\n",
      " 44%|████▍     | 6394/14494 [15:32<21:33,  6.26it/s]WARNING:tensorflow:From /home/peter/mambaforge/envs/spatialde/lib/python3.9/site-packages/SpatialDE/_internal/distance_cache.py:10: calling function (from tensorflow.python.eager.polymorphic_function.polymorphic_function) with experimental_compile is deprecated and will be removed in a future version.\n",
      "Instructions for updating:\n",
      "experimental_compile is deprecated, use jit_compile instead\n",
      "WARNING:tensorflow:From /home/peter/mambaforge/envs/spatialde/lib/python3.9/site-packages/tensorflow/python/util/deprecation.py:588: calling function (from tensorflow.python.eager.polymorphic_function.polymorphic_function) with experimental_relax_shapes is deprecated and will be removed in a future version.\n",
      "Instructions for updating:\n",
      "experimental_relax_shapes is deprecated, use reduce_retracing instead\n",
      "2023-11-14 20:38:55.176809: I tensorflow/compiler/xla/stream_executor/cuda/cuda_gpu_executor.cc:894] successful NUMA node read from SysFS had negative value (-1), but there must be at least one NUMA node, so returning NUMA node zero. See more at https://github.com/torvalds/linux/blob/v6.0/Documentation/ABI/testing/sysfs-bus-pci#L344-L355\n",
      "2023-11-14 20:38:55.180641: I tensorflow/compiler/xla/stream_executor/cuda/cuda_gpu_executor.cc:894] successful NUMA node read from SysFS had negative value (-1), but there must be at least one NUMA node, so returning NUMA node zero. See more at https://github.com/torvalds/linux/blob/v6.0/Documentation/ABI/testing/sysfs-bus-pci#L344-L355\n",
      "2023-11-14 20:38:55.180793: I tensorflow/compiler/xla/stream_executor/cuda/cuda_gpu_executor.cc:894] successful NUMA node read from SysFS had negative value (-1), but there must be at least one NUMA node, so returning NUMA node zero. See more at https://github.com/torvalds/linux/blob/v6.0/Documentation/ABI/testing/sysfs-bus-pci#L344-L355\n",
      "2023-11-14 20:38:55.181896: I tensorflow/compiler/xla/stream_executor/cuda/cuda_gpu_executor.cc:894] successful NUMA node read from SysFS had negative value (-1), but there must be at least one NUMA node, so returning NUMA node zero. See more at https://github.com/torvalds/linux/blob/v6.0/Documentation/ABI/testing/sysfs-bus-pci#L344-L355\n",
      "2023-11-14 20:38:55.182048: I tensorflow/compiler/xla/stream_executor/cuda/cuda_gpu_executor.cc:894] successful NUMA node read from SysFS had negative value (-1), but there must be at least one NUMA node, so returning NUMA node zero. See more at https://github.com/torvalds/linux/blob/v6.0/Documentation/ABI/testing/sysfs-bus-pci#L344-L355\n",
      "2023-11-14 20:38:55.182120: I tensorflow/compiler/xla/stream_executor/cuda/cuda_gpu_executor.cc:894] successful NUMA node read from SysFS had negative value (-1), but there must be at least one NUMA node, so returning NUMA node zero. See more at https://github.com/torvalds/linux/blob/v6.0/Documentation/ABI/testing/sysfs-bus-pci#L344-L355\n",
      " 84%|████████▍ | 12176/14494 [33:24<05:59,  6.44it/s]2023-11-14 20:38:55.277086: I tensorflow/compiler/xla/stream_executor/cuda/cuda_gpu_executor.cc:894] successful NUMA node read from SysFS had negative value (-1), but there must be at least one NUMA node, so returning NUMA node zero. See more at https://github.com/torvalds/linux/blob/v6.0/Documentation/ABI/testing/sysfs-bus-pci#L344-L355\n",
      "2023-11-14 20:38:55.277246: I tensorflow/compiler/xla/stream_executor/cuda/cuda_gpu_executor.cc:894] successful NUMA node read from SysFS had negative value (-1), but there must be at least one NUMA node, so returning NUMA node zero. See more at https://github.com/torvalds/linux/blob/v6.0/Documentation/ABI/testing/sysfs-bus-pci#L344-L355\n",
      "2023-11-14 20:38:55.277315: I tensorflow/compiler/xla/stream_executor/cuda/cuda_gpu_executor.cc:894] successful NUMA node read from SysFS had negative value (-1), but there must be at least one NUMA node, so returning NUMA node zero. See more at https://github.com/torvalds/linux/blob/v6.0/Documentation/ABI/testing/sysfs-bus-pci#L344-L355\n",
      "2023-11-14 20:38:55.277373: I tensorflow/core/common_runtime/gpu/gpu_device.cc:1886] Created device /job:localhost/replica:0/task:0/device:GPU:0 with 10160 MB memory:  -> device: 0, name: NVIDIA GeForce RTX 3090, pci bus id: 0000:01:00.0, compute capability: 8.6\n",
      "/home/peter/mambaforge/envs/spatialde/lib/python3.9/site-packages/anndata/__init__.py:51: FutureWarning: `anndata.read` is deprecated, use `anndata.read_h5ad` instead. `ad.read` will be removed in mid 2024.\n",
      "  warnings.warn(\n",
      " 73%|███████▎  | 10530/14494 [27:27<13:11,  5.01it/s]2023-11-14 20:38:55.915654: I tensorflow/compiler/xla/service/service.cc:168] XLA service 0x55f811bdf680 initialized for platform CUDA (this does not guarantee that XLA will be used). Devices:\n",
      "2023-11-14 20:38:55.915676: I tensorflow/compiler/xla/service/service.cc:176]   StreamExecutor device (0): NVIDIA GeForce RTX 3090, Compute Capability 8.6\n",
      "2023-11-14 20:38:55.933157: I tensorflow/compiler/xla/stream_executor/cuda/cuda_dnn.cc:442] Loaded cuDNN version 8700\n",
      " 52%|█████▏    | 7505/14494 [14:42<11:03, 10.54it/s]2023-11-14 20:38:55.934703: I tensorflow/tsl/platform/default/subprocess.cc:304] Start cannot spawn child process: No such file or directory\n",
      " 63%|██████▎   | 9077/14494 [28:39<12:03,  7.49it/s]2023-11-14 20:38:56.025382: I ./tensorflow/compiler/jit/device_compiler.h:186] Compiled cluster using XLA!  This line is logged at most once for the lifetime of the process.\n",
      " 85%|████████▌ | 12324/14494 [26:49<06:32,  5.53it/s]"
     ]
    },
    {
     "name": "stdout",
     "output_type": "stream",
     "text": [
      "input/06_post_annotation_analyses/adata_per_sn_per_ct/YOUNG_OVX_1_Cartpt+.h5\n",
      "YOUNG_OVX_1_Cartpt+\n"
     ]
    },
    {
     "name": "stderr",
     "output_type": "stream",
     "text": [
      "2023-11-14 20:38:56.465376: I tensorflow/core/grappler/optimizers/data/replicate_on_split.cc:32] Running replicate on split optimization\n",
      " 47%|████▋     | 6865/14494 [14:08<13:43,  9.27it/s]2023-11-14 20:38:56.974823: I tensorflow/compiler/mlir/tensorflow/utils/dump_mlir_util.cc:269] disabling MLIR crash reproducer, set env var `MLIR_CRASH_REPRODUCER_DIRECTORY` to enable.\n",
      "100%|██████████| 14494/14494 [27:01<00:00,  8.94it/s] \n",
      " 48%|████▊     | 7020/14494 [17:11<21:14,  5.86it/s]2023-11-14 20:40:34.121983: I tensorflow/core/util/port.cc:111] oneDNN custom operations are on. You may see slightly different numerical results due to floating-point round-off errors from different computation orders. To turn them off, set the environment variable `TF_ENABLE_ONEDNN_OPTS=0`.\n",
      " 10%|█         | 1515/14494 [01:37<15:01, 14.40it/s]2023-11-14 20:40:34.149286: E tensorflow/compiler/xla/stream_executor/cuda/cuda_dnn.cc:9342] Unable to register cuDNN factory: Attempting to register factory for plugin cuDNN when one has already been registered\n",
      "2023-11-14 20:40:34.149318: E tensorflow/compiler/xla/stream_executor/cuda/cuda_fft.cc:609] Unable to register cuFFT factory: Attempting to register factory for plugin cuFFT when one has already been registered\n",
      "2023-11-14 20:40:34.149332: E tensorflow/compiler/xla/stream_executor/cuda/cuda_blas.cc:1518] Unable to register cuBLAS factory: Attempting to register factory for plugin cuBLAS when one has already been registered\n",
      "2023-11-14 20:40:34.154808: I tensorflow/core/platform/cpu_feature_guard.cc:182] This TensorFlow binary is optimized to use available CPU instructions in performance-critical operations.\n",
      "To enable the following instructions: AVX2 AVX_VNNI FMA, in other operations, rebuild TensorFlow with the appropriate compiler flags.\n",
      " 53%|█████▎    | 7706/14494 [15:47<14:02,  8.05it/s]WARNING:tensorflow:From /home/peter/mambaforge/envs/spatialde/lib/python3.9/site-packages/SpatialDE/_internal/distance_cache.py:10: calling function (from tensorflow.python.eager.polymorphic_function.polymorphic_function) with experimental_compile is deprecated and will be removed in a future version.\n",
      "Instructions for updating:\n",
      "experimental_compile is deprecated, use jit_compile instead\n",
      "WARNING:tensorflow:From /home/peter/mambaforge/envs/spatialde/lib/python3.9/site-packages/tensorflow/python/util/deprecation.py:588: calling function (from tensorflow.python.eager.polymorphic_function.polymorphic_function) with experimental_relax_shapes is deprecated and will be removed in a future version.\n",
      "Instructions for updating:\n",
      "experimental_relax_shapes is deprecated, use reduce_retracing instead\n",
      "2023-11-14 20:40:36.288583: I tensorflow/compiler/xla/stream_executor/cuda/cuda_gpu_executor.cc:894] successful NUMA node read from SysFS had negative value (-1), but there must be at least one NUMA node, so returning NUMA node zero. See more at https://github.com/torvalds/linux/blob/v6.0/Documentation/ABI/testing/sysfs-bus-pci#L344-L355\n",
      "2023-11-14 20:40:36.292248: I tensorflow/compiler/xla/stream_executor/cuda/cuda_gpu_executor.cc:894] successful NUMA node read from SysFS had negative value (-1), but there must be at least one NUMA node, so returning NUMA node zero. See more at https://github.com/torvalds/linux/blob/v6.0/Documentation/ABI/testing/sysfs-bus-pci#L344-L355\n",
      "2023-11-14 20:40:36.292408: I tensorflow/compiler/xla/stream_executor/cuda/cuda_gpu_executor.cc:894] successful NUMA node read from SysFS had negative value (-1), but there must be at least one NUMA node, so returning NUMA node zero. See more at https://github.com/torvalds/linux/blob/v6.0/Documentation/ABI/testing/sysfs-bus-pci#L344-L355\n",
      "2023-11-14 20:40:36.293519: I tensorflow/compiler/xla/stream_executor/cuda/cuda_gpu_executor.cc:894] successful NUMA node read from SysFS had negative value (-1), but there must be at least one NUMA node, so returning NUMA node zero. See more at https://github.com/torvalds/linux/blob/v6.0/Documentation/ABI/testing/sysfs-bus-pci#L344-L355\n",
      "2023-11-14 20:40:36.293651: I tensorflow/compiler/xla/stream_executor/cuda/cuda_gpu_executor.cc:894] successful NUMA node read from SysFS had negative value (-1), but there must be at least one NUMA node, so returning NUMA node zero. See more at https://github.com/torvalds/linux/blob/v6.0/Documentation/ABI/testing/sysfs-bus-pci#L344-L355\n",
      "2023-11-14 20:40:36.293720: I tensorflow/compiler/xla/stream_executor/cuda/cuda_gpu_executor.cc:894] successful NUMA node read from SysFS had negative value (-1), but there must be at least one NUMA node, so returning NUMA node zero. See more at https://github.com/torvalds/linux/blob/v6.0/Documentation/ABI/testing/sysfs-bus-pci#L344-L355\n",
      " 33%|███▎      | 4744/14494 [12:57<21:56,  7.41it/s]2023-11-14 20:40:36.379941: I tensorflow/compiler/xla/stream_executor/cuda/cuda_gpu_executor.cc:894] successful NUMA node read from SysFS had negative value (-1), but there must be at least one NUMA node, so returning NUMA node zero. See more at https://github.com/torvalds/linux/blob/v6.0/Documentation/ABI/testing/sysfs-bus-pci#L344-L355\n",
      "2023-11-14 20:40:36.380080: I tensorflow/compiler/xla/stream_executor/cuda/cuda_gpu_executor.cc:894] successful NUMA node read from SysFS had negative value (-1), but there must be at least one NUMA node, so returning NUMA node zero. See more at https://github.com/torvalds/linux/blob/v6.0/Documentation/ABI/testing/sysfs-bus-pci#L344-L355\n",
      "2023-11-14 20:40:36.380159: I tensorflow/compiler/xla/stream_executor/cuda/cuda_gpu_executor.cc:894] successful NUMA node read from SysFS had negative value (-1), but there must be at least one NUMA node, so returning NUMA node zero. See more at https://github.com/torvalds/linux/blob/v6.0/Documentation/ABI/testing/sysfs-bus-pci#L344-L355\n",
      "2023-11-14 20:40:36.380220: I tensorflow/core/common_runtime/gpu/gpu_device.cc:1886] Created device /job:localhost/replica:0/task:0/device:GPU:0 with 10602 MB memory:  -> device: 0, name: NVIDIA GeForce RTX 3090, pci bus id: 0000:01:00.0, compute capability: 8.6\n",
      "/home/peter/mambaforge/envs/spatialde/lib/python3.9/site-packages/anndata/__init__.py:51: FutureWarning: `anndata.read` is deprecated, use `anndata.read_h5ad` instead. `ad.read` will be removed in mid 2024.\n",
      "  warnings.warn(\n",
      " 31%|███▏      | 4553/14494 [07:19<13:39, 12.13it/s]2023-11-14 20:40:36.870656: I tensorflow/compiler/xla/service/service.cc:168] XLA service 0x55fded2c3280 initialized for platform CUDA (this does not guarantee that XLA will be used). Devices:\n",
      "2023-11-14 20:40:36.870683: I tensorflow/compiler/xla/service/service.cc:176]   StreamExecutor device (0): NVIDIA GeForce RTX 3090, Compute Capability 8.6\n",
      "2023-11-14 20:40:36.888078: I tensorflow/compiler/xla/stream_executor/cuda/cuda_dnn.cc:442] Loaded cuDNN version 8700\n",
      "2023-11-14 20:40:36.889820: I tensorflow/tsl/platform/default/subprocess.cc:304] Start cannot spawn child process: No such file or directory\n",
      " 58%|█████▊    | 8421/14494 [16:23<14:44,  6.87it/s]]2023-11-14 20:40:36.995736: I ./tensorflow/compiler/jit/device_compiler.h:186] Compiled cluster using XLA!  This line is logged at most once for the lifetime of the process.\n",
      " 33%|███▎      | 4746/14494 [12:58<47:45,  3.40it/s]2023-11-14 20:40:37.379762: I tensorflow/core/grappler/optimizers/data/replicate_on_split.cc:32] Running replicate on split optimization\n",
      " 33%|███▎      | 4748/14494 [12:58<32:35,  4.98it/s]]"
     ]
    },
    {
     "name": "stdout",
     "output_type": "stream",
     "text": [
      "input/06_post_annotation_analyses/adata_per_sn_per_ct/OLD_OVX_2_OPC.h5\n",
      "OLD_OVX_2_OPC\n"
     ]
    },
    {
     "name": "stderr",
     "output_type": "stream",
     "text": [
      " 66%|██████▋   | 9604/14494 [19:43<08:49,  9.23it/s]2023-11-14 20:40:37.858112: I tensorflow/compiler/mlir/tensorflow/utils/dump_mlir_util.cc:269] disabling MLIR crash reproducer, set env var `MLIR_CRASH_REPRODUCER_DIRECTORY` to enable.\n",
      " 91%|█████████ | 13214/14494 [36:03<05:29,  3.89it/s] "
     ]
    }
   ],
   "source": [
    "Parallel(n_jobs=18)(delayed(spatialde)(file) for file in glob.glob('input/06_post_annotation_analyses/adata_per_sn_per_ct/*.h5'))"
   ]
  }
 ],
 "metadata": {
  "kernelspec": {
   "display_name": "Python 3 (ipykernel)",
   "language": "python",
   "name": "python3"
  },
  "language_info": {
   "codemirror_mode": {
    "name": "ipython",
    "version": 3
   },
   "file_extension": ".py",
   "mimetype": "text/x-python",
   "name": "python",
   "nbconvert_exporter": "python",
   "pygments_lexer": "ipython3",
   "version": "3.9.18"
  }
 },
 "nbformat": 4,
 "nbformat_minor": 5
}
