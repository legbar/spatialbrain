{
 "cells": [
  {
   "cell_type": "markdown",
   "id": "c089df57-01f6-4e93-b404-194744a66701",
   "metadata": {},
   "source": [
    "# Stage 3"
   ]
  },
  {
   "cell_type": "markdown",
   "id": "d8d12602-cb54-4a9b-a5c6-a412576435d5",
   "metadata": {},
   "source": [
    "Labelling"
   ]
  },
  {
   "cell_type": "code",
   "execution_count": 1,
   "id": "fbc598ed-b2b8-4aff-8115-6bbedf386758",
   "metadata": {},
   "outputs": [],
   "source": [
    "import pandas as pd\n",
    "import numpy as np\n",
    "import scanpy as sc\n",
    "import os\n",
    "import glob\n",
    "import re\n",
    "from joblib import Parallel, delayed\n",
    "from functools import partial\n",
    "import scipy.sparse\n",
    "import seaborn as sns\n",
    "import scanpy_gpu_funcs as rsf\n",
    "import cudf\n",
    "import cupy as cp\n",
    "from cuml.decomposition import PCA\n",
    "from scipy.sparse import issparse\n",
    "from SCTransform import SCTransform\n",
    "from tqdm import tqdm\n",
    "import pickle\n",
    "\n",
    "import matplotlib.pyplot as plt\n",
    "from matplotlib import rcParams\n",
    "sc.set_figure_params(dpi= 100, dpi_save = 300)\n",
    "rcParams['figure.figsize'] = 5,5\n",
    "\n",
    "from sklearn.neighbors import LocalOutlierFactor\n",
    "\n",
    "os.chdir('/active/paper/')"
   ]
  },
  {
   "cell_type": "markdown",
   "id": "14f3a16f-a028-4edb-8d12-385dd6c9983e",
   "metadata": {
    "tags": []
   },
   "source": [
    "# Load full adata"
   ]
  },
  {
   "cell_type": "code",
   "execution_count": null,
   "id": "826201d4-a023-4264-8819-d5a79d57b11f",
   "metadata": {},
   "outputs": [],
   "source": [
    "with open('input/adata/midbrain/adata.pickle', 'rb') as f:\n",
    "    adata = pickle.load(f)"
   ]
  },
  {
   "cell_type": "markdown",
   "id": "adcb7c4a-f999-4e3d-8cc8-31509ab378e1",
   "metadata": {},
   "source": [
    "# Set seed"
   ]
  },
  {
   "cell_type": "code",
   "execution_count": 1,
   "id": "6705c64c-cf1d-402f-a083-2d7fcf0c06c6",
   "metadata": {},
   "outputs": [
    {
     "ename": "NameError",
     "evalue": "name 'os' is not defined",
     "output_type": "error",
     "traceback": [
      "\u001b[0;31m---------------------------------------------------------------------------\u001b[0m",
      "\u001b[0;31mNameError\u001b[0m                                 Traceback (most recent call last)",
      "Input \u001b[0;32mIn [1]\u001b[0m, in \u001b[0;36m<cell line: 11>\u001b[0;34m()\u001b[0m\n\u001b[1;32m      8\u001b[0m     os\u001b[38;5;241m.\u001b[39menviron[\u001b[38;5;124m'\u001b[39m\u001b[38;5;124mPYTHONHASHSEED\u001b[39m\u001b[38;5;124m'\u001b[39m] \u001b[38;5;241m=\u001b[39m \u001b[38;5;28mstr\u001b[39m(seed)\n\u001b[1;32m      9\u001b[0m     np\u001b[38;5;241m.\u001b[39mrandom\u001b[38;5;241m.\u001b[39mseed(seed)\n\u001b[0;32m---> 11\u001b[0m \u001b[43mseed_everything\u001b[49m\u001b[43m(\u001b[49m\u001b[38;5;241;43m12\u001b[39;49m\u001b[43m)\u001b[49m\n",
      "Input \u001b[0;32mIn [1]\u001b[0m, in \u001b[0;36mseed_everything\u001b[0;34m(seed)\u001b[0m\n\u001b[1;32m      4\u001b[0m \u001b[38;5;124;03m\"\"\"\"\u001b[39;00m\n\u001b[1;32m      5\u001b[0m \u001b[38;5;124;03mSeed everything.\u001b[39;00m\n\u001b[1;32m      6\u001b[0m \u001b[38;5;124;03m\"\"\"\u001b[39;00m   \n\u001b[1;32m      7\u001b[0m random\u001b[38;5;241m.\u001b[39mseed(seed)\n\u001b[0;32m----> 8\u001b[0m \u001b[43mos\u001b[49m\u001b[38;5;241m.\u001b[39menviron[\u001b[38;5;124m'\u001b[39m\u001b[38;5;124mPYTHONHASHSEED\u001b[39m\u001b[38;5;124m'\u001b[39m] \u001b[38;5;241m=\u001b[39m \u001b[38;5;28mstr\u001b[39m(seed)\n\u001b[1;32m      9\u001b[0m np\u001b[38;5;241m.\u001b[39mrandom\u001b[38;5;241m.\u001b[39mseed(seed)\n",
      "\u001b[0;31mNameError\u001b[0m: name 'os' is not defined"
     ]
    }
   ],
   "source": [
    "import random\n",
    "\n",
    "def seed_everything(seed=42):\n",
    "    \"\"\"\"\n",
    "    Seed everything.\n",
    "    \"\"\"   \n",
    "    random.seed(seed)\n",
    "    os.environ['PYTHONHASHSEED'] = str(seed)\n",
    "    np.random.seed(seed)\n",
    "    \n",
    "seed_everything(12)"
   ]
  },
  {
   "cell_type": "code",
   "execution_count": null,
   "id": "03198c3b-0998-438e-8e8c-68820264f24d",
   "metadata": {},
   "outputs": [],
   "source": [
    "adata"
   ]
  },
  {
   "cell_type": "markdown",
   "id": "8b2cf0dd-6d2f-420b-b3b8-a22097f0b603",
   "metadata": {},
   "source": [
    "# Create cell type label"
   ]
  },
  {
   "cell_type": "code",
   "execution_count": null,
   "id": "d9f87b72-58e7-4a5a-81c7-6235eb302a3b",
   "metadata": {},
   "outputs": [],
   "source": [
    "adata.obs['cell_type'] = 'unknown'"
   ]
  },
  {
   "cell_type": "markdown",
   "id": "fd36ecdb-feec-48ba-aa51-6fa697a4f929",
   "metadata": {
    "tags": []
   },
   "source": [
    "# Level 1"
   ]
  },
  {
   "cell_type": "code",
   "execution_count": null,
   "id": "053f6e94-371a-4ce4-958f-2c110ad8e705",
   "metadata": {},
   "outputs": [],
   "source": [
    "set(['_'.join(x.split('_')[:2]) for x in adata.obs['current_leiden'].unique().tolist()])"
   ]
  },
  {
   "cell_type": "code",
   "execution_count": null,
   "id": "7e345c1c-867e-479d-95ba-7ce8c873af3e",
   "metadata": {},
   "outputs": [],
   "source": [
    "adata.obs['comparison'] = 'ignore'\n",
    "adata.obs.loc[adata.obs['current_leiden'].str.contains('^s_1'), 'comparison'] = 'cluster_1'\n",
    "adata.obs.loc[adata.obs['current_leiden'].str.contains('^s_2'), 'comparison'] = 'cluster_2'\n",
    "adata.obs.loc[adata.obs['current_leiden'].str.contains('^s_3'), 'comparison'] = 'cluster_3'\n",
    "adata.obs.loc[adata.obs['current_leiden'].str.contains('^s_FINAL'), 'comparison'] = 'cluster_0'\n",
    "adata.obs.groupby(['comparison']).size()"
   ]
  },
  {
   "cell_type": "code",
   "execution_count": null,
   "id": "a4fac816-c83e-4455-b115-f618f618c5d0",
   "metadata": {},
   "outputs": [],
   "source": [
    "adata.layers['count'] = adata.X.copy()\n",
    "sc.pp.normalize_total(adata, target_sum=1e4)\n",
    "sc.pp.log1p(adata)\n",
    "adata.layers['lognorm'] = adata.X.copy()\n",
    "adata.X = adata.layers['count'].copy()\n",
    "\n",
    "sc.tl.rank_genes_groups(adata, \n",
    "                        groupby='comparison', \n",
    "                        use_raw=False,\n",
    "                        layer='lognorm', \n",
    "                        # reference='cluster_0', \n",
    "                        method='wilcoxon', \n",
    "                        rankby_abs=True,\n",
    "                        pts=True, \n",
    "                        key_added='level_1')"
   ]
  },
  {
   "cell_type": "code",
   "execution_count": null,
   "id": "aee82f2d-c3e7-40b5-8316-c589e7321df1",
   "metadata": {},
   "outputs": [],
   "source": [
    "\n",
    "fig, axs = plt.subplots(nrows=adata.obs['comparison'].unique().shape[0], ncols=7, figsize=(35, 25))\n",
    "for row, cluster in enumerate(adata.obs['comparison'].unique()):\n",
    "    for col, section in enumerate(adata.obs.sample_id.unique()):\n",
    "        sc.pl.spatial(adata[adata.obs['sample_id'] == section].copy(), \n",
    "                     spot_size=25, \n",
    "                      size = 5,\n",
    "                      groups = cluster,\n",
    "                     color = 'comparison', \n",
    "                     ax=axs[row, col], \n",
    "                     show=False)\n",
    "        "
   ]
  },
  {
   "cell_type": "markdown",
   "id": "b94f63cf-a330-46e1-a06f-94aa786182f4",
   "metadata": {},
   "source": [
    "### Cartpt neurons"
   ]
  },
  {
   "cell_type": "code",
   "execution_count": null,
   "id": "d291d013-641c-4a71-8506-14b337cc197c",
   "metadata": {},
   "outputs": [],
   "source": [
    "df = sc.get.rank_genes_groups_df(adata, \n",
    "                           key = 'level_1', \n",
    "                           group = 'cluster_0')\n",
    "\n",
    "df.loc[df['pvals_adj'] < 0.01].sort_values('logfoldchanges', ascending=False).iloc[:10]"
   ]
  },
  {
   "cell_type": "code",
   "execution_count": null,
   "id": "0ed15145-4f6d-4b9f-9b42-9e172a389b4a",
   "metadata": {},
   "outputs": [],
   "source": [
    "adata.obs.loc[adata.obs['comparison'].str.contains('^cluster_0'), 'cell_type'] = 'Cartpt neurons (Edinger-Westphal nucleus)' "
   ]
  },
  {
   "cell_type": "markdown",
   "id": "ca882cc7-d70d-4d6b-a352-5607ce64975c",
   "metadata": {},
   "source": [
    "### Dopamine neurons"
   ]
  },
  {
   "cell_type": "code",
   "execution_count": null,
   "id": "54c7ea2a-819d-43aa-9bb2-5e4011387ade",
   "metadata": {},
   "outputs": [],
   "source": [
    "sc.get.rank_genes_groups_df(adata, \n",
    "                           key = 'level_1', \n",
    "                           group = 'cluster_1').iloc[:10]"
   ]
  },
  {
   "cell_type": "code",
   "execution_count": null,
   "id": "a265d2d1-5a42-4316-a4c1-93f48091bad1",
   "metadata": {},
   "outputs": [],
   "source": [
    "adata.obs.loc[adata.obs['comparison'].str.contains('^cluster_1'), 'cell_type'] = 'Dopaminergic' "
   ]
  },
  {
   "cell_type": "markdown",
   "id": "60f8ac7a-10c1-4365-92fb-56b2f3673a1c",
   "metadata": {},
   "source": [
    "### Snap25+"
   ]
  },
  {
   "cell_type": "code",
   "execution_count": null,
   "id": "9a1f61b5-e7a6-41f2-9333-f3ad040a8064",
   "metadata": {
    "tags": []
   },
   "outputs": [],
   "source": [
    "df = sc.get.rank_genes_groups_df(adata, \n",
    "                           key = 'level_1', \n",
    "                           group = 'cluster_2')\n",
    "\n",
    "df.loc[(df['pvals_adj'] < 0.01) & (df['pct_nz_group'] > 0.2)].sort_values('logfoldchanges', ascending=False).iloc[:10]"
   ]
  },
  {
   "cell_type": "code",
   "execution_count": null,
   "id": "0841bbd3-0a6b-47d9-bc4b-5e52338de1cb",
   "metadata": {},
   "outputs": [],
   "source": [
    "adata.obs.loc[adata.obs['comparison'].str.contains('^cluster_2'), 'cell_type'] = 'Snap25' "
   ]
  },
  {
   "cell_type": "markdown",
   "id": "d57978d6-f86c-4128-84dc-ba9df1bec210",
   "metadata": {},
   "source": [
    "### Plp1+"
   ]
  },
  {
   "cell_type": "code",
   "execution_count": null,
   "id": "6caebffc-35dd-4c6e-9abb-379a7fb12b7f",
   "metadata": {},
   "outputs": [],
   "source": [
    "df = sc.get.rank_genes_groups_df(adata, \n",
    "                           key = 'level_1', \n",
    "                           group = 'cluster_3')\n",
    "\n",
    "df.loc[(df['pvals_adj'] < 0.01) & (df['pct_nz_group'] > 0.2)].sort_values('logfoldchanges', ascending=False).iloc[:10]"
   ]
  },
  {
   "cell_type": "code",
   "execution_count": null,
   "id": "a1970e18-64c9-4187-a28d-ae46f659f89a",
   "metadata": {},
   "outputs": [],
   "source": [
    "adata.obs.loc[adata.obs['comparison'].str.contains('^cluster_3'), 'cell_type'] = 'Plp1' "
   ]
  },
  {
   "cell_type": "markdown",
   "id": "44f0e75a-0764-4ed2-8922-e6be5e038cc8",
   "metadata": {
    "jp-MarkdownHeadingCollapsed": true,
    "tags": []
   },
   "source": [
    "# Level 2: Snap25 cells"
   ]
  },
  {
   "cell_type": "code",
   "execution_count": null,
   "id": "9bcb2438-bd40-457f-a958-f34066f62c1c",
   "metadata": {},
   "outputs": [],
   "source": [
    "set(['_'.join(x.split('_')[:3]) for x in adata[adata.obs['cell_type'] == 'Snap25'].obs['current_leiden'].unique().tolist()])"
   ]
  },
  {
   "cell_type": "code",
   "execution_count": null,
   "id": "9047e90c-8b76-4653-9040-1780e4869a76",
   "metadata": {},
   "outputs": [],
   "source": [
    "adata.obs['comparison'] = 'ignore'\n",
    "adata.obs.loc[adata.obs['current_leiden'].str.contains('^s_2_1'), 'comparison'] = 'cluster_1'\n",
    "adata.obs.loc[adata.obs['current_leiden'].str.contains('^s_2_2'), 'comparison'] = 'cluster_2'\n",
    "adata.obs.loc[adata.obs['current_leiden'].str.contains('^s_2_3'), 'comparison'] = 'cluster_3'\n",
    "adata.obs.loc[adata.obs['current_leiden'].str.contains('^s_2_FINAL'), 'comparison'] = 'cluster_0'\n",
    "adata.obs.groupby(['comparison']).size()"
   ]
  },
  {
   "cell_type": "code",
   "execution_count": null,
   "id": "3069d540-ff7b-46a2-932a-5e2bb759abf8",
   "metadata": {},
   "outputs": [],
   "source": [
    "adata_comparison = adata[adata.obs['comparison'] != 'ignore'].copy()\n",
    "adata_comparison.layers['count'] = adata_comparison.X.copy()\n",
    "sc.pp.normalize_total(adata_comparison, target_sum=1e4)\n",
    "if 'log1p' in adata_comparison.uns.keys(): \n",
    "        del adata_comparison.uns['log1p']\n",
    "sc.pp.log1p(adata_comparison)\n",
    "adata_comparison.layers['lognorm'] = adata_comparison.X.copy()\n",
    "adata_comparison.X = adata_comparison.layers['count'].copy()\n",
    "sc.tl.rank_genes_groups(adata_comparison, \n",
    "                        groupby='comparison', \n",
    "                        use_raw=False,\n",
    "                        layer='lognorm', \n",
    "                        # groups=['cluster_1_1_0', 'cluster_1_1_1'],\n",
    "                        # reference='cluster_1_1_0', \n",
    "                        method='wilcoxon', \n",
    "                        rankby_abs=True,\n",
    "                        pts=True, \n",
    "                        key_added='level_2_Snap25')"
   ]
  },
  {
   "cell_type": "code",
   "execution_count": null,
   "id": "f3724055-a8cb-4f7b-8a33-9611eb1ea682",
   "metadata": {},
   "outputs": [],
   "source": [
    "\n",
    "fig, axs = plt.subplots(nrows=adata_comparison.obs['comparison'].unique().shape[0], ncols=7, figsize=(35, 25))\n",
    "for row, cluster in enumerate(adata_comparison.obs['comparison'].unique()):\n",
    "    for col, section in enumerate(adata_comparison.obs.sample_id.unique()):\n",
    "        sc.pl.spatial(adata_comparison[adata_comparison.obs['sample_id'] == section].copy(), \n",
    "                     spot_size=25, \n",
    "                      size = 5,\n",
    "                      groups = cluster,\n",
    "                     color = 'comparison', \n",
    "                     ax=axs[row, col], \n",
    "                     show=False)\n",
    "        "
   ]
  },
  {
   "cell_type": "markdown",
   "id": "181e1d48-681c-41ac-8d8c-ff3b2e2acd69",
   "metadata": {},
   "source": [
    "### GABAergic, Sst+, Npy+"
   ]
  },
  {
   "cell_type": "code",
   "execution_count": null,
   "id": "059c0b18-865e-4ca9-be4e-6dd19561dfc8",
   "metadata": {},
   "outputs": [],
   "source": [
    "df = sc.get.rank_genes_groups_df(adata_comparison, \n",
    "                           key = 'level_2_Snap25', \n",
    "                           group = 'cluster_0')\n",
    "\n",
    "df.loc[(df['pvals_adj'] < 0.01) & (df['pct_nz_group'] > 0.2)].sort_values('logfoldchanges', ascending=False).iloc[:10]"
   ]
  },
  {
   "cell_type": "code",
   "execution_count": null,
   "id": "02fe6cb5-e730-42c7-b694-a4dae9141f35",
   "metadata": {},
   "outputs": [],
   "source": [
    "adata.obs.loc[adata.obs['comparison'].str.contains('^cluster_0'), 'cell_type'] = 'Snap25_GABAergic-Sst-Npy'"
   ]
  },
  {
   "cell_type": "markdown",
   "id": "93e6b26f-9678-44b7-817b-bef6fc09bdeb",
   "metadata": {
    "tags": []
   },
   "source": [
    "### Thalamic "
   ]
  },
  {
   "cell_type": "code",
   "execution_count": null,
   "id": "92b6616f-9b5b-4fd7-bee5-b9a4c3e17d27",
   "metadata": {},
   "outputs": [],
   "source": [
    "df = sc.get.rank_genes_groups_df(adata_comparison, \n",
    "                           key = 'level_2_Snap25', \n",
    "                           group = 'cluster_1')\n",
    "\n",
    "df.loc[(df['pvals_adj'] < 0.01) & (df['pct_nz_group'] > 0.2)].sort_values('logfoldchanges', ascending=False).iloc[:10]"
   ]
  },
  {
   "cell_type": "code",
   "execution_count": null,
   "id": "8f233edf-acb3-4cc5-91a6-a61222a826d8",
   "metadata": {},
   "outputs": [],
   "source": [
    "adata.obs.loc[adata.obs['comparison'].str.contains('^cluster_1'), 'cell_type'] = 'Snap25_Thalamic' "
   ]
  },
  {
   "cell_type": "markdown",
   "id": "152b9636-d79c-4ffc-be59-77162becb217",
   "metadata": {},
   "source": [
    "### Central"
   ]
  },
  {
   "cell_type": "code",
   "execution_count": null,
   "id": "698ecafb-cd49-47d5-8dce-790767ce73c9",
   "metadata": {},
   "outputs": [],
   "source": [
    "df = sc.get.rank_genes_groups_df(adata_comparison, \n",
    "                           key = 'level_2_Snap25', \n",
    "                           group = 'cluster_2')\n",
    "\n",
    "df.loc[(df['pvals_adj'] < 0.01) & (df['pct_nz_group'] > 0.2)].sort_values('logfoldchanges', ascending=False).iloc[:10]"
   ]
  },
  {
   "cell_type": "code",
   "execution_count": null,
   "id": "03f8308f-b6cc-4c92-9d51-5cfcfff27305",
   "metadata": {},
   "outputs": [],
   "source": [
    "adata.obs.loc[adata.obs['comparison'].str.contains('^cluster_2'), 'cell_type'] = 'Snap25_Central' "
   ]
  },
  {
   "cell_type": "markdown",
   "id": "5c0a7a97-6a1f-403a-a735-5d9309282302",
   "metadata": {},
   "source": [
    "### Cortical"
   ]
  },
  {
   "cell_type": "code",
   "execution_count": null,
   "id": "3806c8a6-690b-4be5-9ebc-adb5143de4c6",
   "metadata": {},
   "outputs": [],
   "source": [
    "df = sc.get.rank_genes_groups_df(adata_comparison, \n",
    "                           key = 'level_2_Snap25', \n",
    "                           group = 'cluster_3')\n",
    "\n",
    "df.loc[(df['pvals_adj'] < 0.01) & (df['pct_nz_group'] > 0.2)].sort_values('logfoldchanges', ascending=False).iloc[:10]"
   ]
  },
  {
   "cell_type": "code",
   "execution_count": null,
   "id": "a706f756-9e1b-40d2-8f71-278ba5d90ca1",
   "metadata": {},
   "outputs": [],
   "source": [
    "adata.obs.loc[adata.obs['comparison'].str.contains('^cluster_3'), 'cell_type'] = 'Snap25_Cortical' "
   ]
  },
  {
   "cell_type": "markdown",
   "id": "deda40b6-7b74-4d31-95b9-95154312cb28",
   "metadata": {
    "jp-MarkdownHeadingCollapsed": true,
    "tags": []
   },
   "source": [
    "# Level 2: Plp1 cells"
   ]
  },
  {
   "cell_type": "code",
   "execution_count": null,
   "id": "2df8a567-e4f6-4e75-a4f0-f90250891d5f",
   "metadata": {},
   "outputs": [],
   "source": [
    "set(['_'.join(x.split('_')[:3]) for x in adata[adata.obs['cell_type'] == 'Plp1'].obs['current_leiden'].unique().tolist()])"
   ]
  },
  {
   "cell_type": "code",
   "execution_count": null,
   "id": "332a58ee-66bd-49ad-90c4-038f4346a850",
   "metadata": {},
   "outputs": [],
   "source": [
    "adata.obs['comparison'] = 'ignore'\n",
    "adata.obs.loc[adata.obs['current_leiden'].str.contains('^s_3_2'), 'comparison'] = 'cluster_2'\n",
    "adata.obs.loc[adata.obs['current_leiden'].str.contains('^s_3_1'), 'comparison'] = 'cluster_1'\n",
    "adata.obs.loc[adata.obs['current_leiden'].str.contains('^s_3_0'), 'comparison'] = 'cluster_0'\n",
    "adata.obs.groupby(['comparison']).size()"
   ]
  },
  {
   "cell_type": "code",
   "execution_count": null,
   "id": "d80baf63-9047-481a-9359-9790b4e1df84",
   "metadata": {},
   "outputs": [],
   "source": [
    "adata_comparison = adata[adata.obs['comparison'] != 'ignore'].copy()\n",
    "adata_comparison.layers['count'] = adata_comparison.X.copy()\n",
    "sc.pp.normalize_total(adata_comparison, target_sum=1e4)\n",
    "if 'log1p' in adata_comparison.uns.keys(): \n",
    "        del adata_comparison.uns['log1p']\n",
    "sc.pp.log1p(adata_comparison)\n",
    "adata_comparison.layers['lognorm'] = adata_comparison.X.copy()\n",
    "adata_comparison.X = adata_comparison.layers['count'].copy()\n",
    "sc.tl.rank_genes_groups(adata_comparison, \n",
    "                        groupby='comparison', \n",
    "                        use_raw=False,\n",
    "                        layer='lognorm', \n",
    "                        # groups=['cluster_1_1_0', 'cluster_1_1_1'],\n",
    "                        # reference='cluster_1_1_0', \n",
    "                        method='wilcoxon', \n",
    "                        rankby_abs=True,\n",
    "                        pts=True, \n",
    "                        key_added='level_2_Plp1')"
   ]
  },
  {
   "cell_type": "code",
   "execution_count": null,
   "id": "eb5d24c3-1136-44e2-aa7f-de3540fbae27",
   "metadata": {},
   "outputs": [],
   "source": [
    "\n",
    "fig, axs = plt.subplots(nrows=adata_comparison.obs['comparison'].unique().shape[0], ncols=7, figsize=(35, 25))\n",
    "for row, cluster in enumerate(adata_comparison.obs['comparison'].unique()):\n",
    "    for col, section in enumerate(adata_comparison.obs.sample_id.unique()):\n",
    "        sc.pl.spatial(adata_comparison[adata_comparison.obs['sample_id'] == section].copy(), \n",
    "                     spot_size=25, \n",
    "                      size = 5,\n",
    "                      groups = cluster,\n",
    "                     color = 'comparison', \n",
    "                     ax=axs[row, col], \n",
    "                     show=False)\n",
    "        "
   ]
  },
  {
   "cell_type": "markdown",
   "id": "77de6e04-2e54-450c-aaec-6e4b38732707",
   "metadata": {},
   "source": [
    "### Erythroid"
   ]
  },
  {
   "cell_type": "code",
   "execution_count": null,
   "id": "e45d2b9b-dba6-4c0d-9a60-1041b27b9cc4",
   "metadata": {},
   "outputs": [],
   "source": [
    "df = sc.get.rank_genes_groups_df(adata_comparison, \n",
    "                           key = 'level_2_Plp1', \n",
    "                           group = 'cluster_0')\n",
    "\n",
    "df.loc[(df['pvals_adj'] < 0.01) & (df['pct_nz_group'] > 0.2)].sort_values('logfoldchanges', ascending=False).iloc[:10]"
   ]
  },
  {
   "cell_type": "code",
   "execution_count": null,
   "id": "d8e2eebb-fdc1-4d20-b3da-7026a2b7d6cc",
   "metadata": {},
   "outputs": [],
   "source": [
    "adata.obs.loc[adata.obs['comparison'].str.contains('^cluster_0'), 'cell_type'] = 'Plp1_Erythroid' "
   ]
  },
  {
   "cell_type": "markdown",
   "id": "a168ac8b-0c40-4089-86ba-6cbb41492156",
   "metadata": {},
   "source": [
    "### Astrocyte-like (with ageing proliferation)"
   ]
  },
  {
   "cell_type": "code",
   "execution_count": null,
   "id": "be90e154-b1b6-4529-8749-43426a8d5926",
   "metadata": {},
   "outputs": [],
   "source": [
    "df = sc.get.rank_genes_groups_df(adata_comparison, \n",
    "                           key = 'level_2_Plp1', \n",
    "                           group = 'cluster_1')\n",
    "\n",
    "df.loc[(df['pvals_adj'] < 0.01) & (df['pct_nz_group'] > 0.2)].sort_values('logfoldchanges', ascending=False).iloc[:10]"
   ]
  },
  {
   "cell_type": "code",
   "execution_count": null,
   "id": "81e9fa72-e3a7-4c7e-ac6d-780928debaf5",
   "metadata": {},
   "outputs": [],
   "source": [
    "adata_comparison.obs.groupby(['mouse_id', 'comparison']).size()"
   ]
  },
  {
   "cell_type": "code",
   "execution_count": null,
   "id": "3f35daf1-f17e-4ed6-ad1e-35acef8dd1fc",
   "metadata": {},
   "outputs": [],
   "source": [
    "adata.obs.loc[adata.obs['comparison'].str.contains('^cluster_1'), 'cell_type'] = 'Plp1_Astrocyte-like' "
   ]
  },
  {
   "cell_type": "markdown",
   "id": "5105fdd3-1e35-42bd-a5c2-b7cf69e1f623",
   "metadata": {},
   "source": [
    "### Plp1 +++"
   ]
  },
  {
   "cell_type": "code",
   "execution_count": null,
   "id": "aee5c73b-220c-4d46-8fb9-e2d595430bd1",
   "metadata": {},
   "outputs": [],
   "source": [
    "df = sc.get.rank_genes_groups_df(adata_comparison, \n",
    "                           key = 'level_2_Plp1', \n",
    "                           group = 'cluster_2')\n",
    "\n",
    "df.loc[(df['pvals_adj'] < 0.01) & (df['pct_nz_group'] > 0.2)].sort_values('logfoldchanges', ascending=False).iloc[:10]"
   ]
  },
  {
   "cell_type": "code",
   "execution_count": null,
   "id": "b78bac91-c92f-4b54-be2a-545b1a9d1cfe",
   "metadata": {},
   "outputs": [],
   "source": [
    "adata.obs.loc[adata.obs['comparison'].str.contains('^cluster_2'), 'cell_type'] = 'Plp1_Plp1+++' "
   ]
  },
  {
   "cell_type": "markdown",
   "id": "2b5d80f0-a369-4d05-b1d7-e02fcc4f4b8f",
   "metadata": {
    "jp-MarkdownHeadingCollapsed": true,
    "tags": []
   },
   "source": [
    "# Level 2: Dopaminergic"
   ]
  },
  {
   "cell_type": "code",
   "execution_count": null,
   "id": "49f04f2e-dae9-4b6c-aba6-2f93e42e758b",
   "metadata": {},
   "outputs": [],
   "source": [
    "set(['_'.join(x.split('_')[:3]) for x in adata[adata.obs['cell_type'] == 'Dopaminergic'].obs['current_leiden'].unique().tolist()])"
   ]
  },
  {
   "cell_type": "code",
   "execution_count": null,
   "id": "e2d0bd67-3ffb-4e56-8fc5-1a3596461d4e",
   "metadata": {},
   "outputs": [],
   "source": [
    "adata.obs['comparison'] = 'ignore'\n",
    "adata.obs.loc[adata.obs['current_leiden'].str.contains('^s_1_0'), 'comparison'] = 'cluster_1'\n",
    "adata.obs.loc[adata.obs['current_leiden'].str.contains('^s_1_FINAL'), 'comparison'] = 'cluster_0'\n",
    "adata.obs.groupby(['comparison']).size()"
   ]
  },
  {
   "cell_type": "code",
   "execution_count": null,
   "id": "79dfece8-07f3-4026-be4d-a7a6b2cf94ae",
   "metadata": {},
   "outputs": [],
   "source": [
    "adata_comparison = adata[adata.obs['comparison'] != 'ignore'].copy()\n",
    "adata_comparison.layers['count'] = adata_comparison.X.copy()\n",
    "sc.pp.normalize_total(adata_comparison, target_sum=1e4)\n",
    "if 'log1p' in adata_comparison.uns.keys(): \n",
    "        del adata_comparison.uns['log1p']\n",
    "sc.pp.log1p(adata_comparison)\n",
    "adata_comparison.layers['lognorm'] = adata_comparison.X.copy()\n",
    "adata_comparison.X = adata_comparison.layers['count'].copy()\n",
    "sc.tl.rank_genes_groups(adata_comparison, \n",
    "                        groupby='comparison', \n",
    "                        use_raw=False,\n",
    "                        layer='lognorm', \n",
    "                        # groups=['cluster_1_1_0', 'cluster_1_1_1'],\n",
    "                        # reference='cluster_1_1_0', \n",
    "                        method='wilcoxon', \n",
    "                        rankby_abs=True,\n",
    "                        pts=True, \n",
    "                        key_added='level_2_Dopaminergic')"
   ]
  },
  {
   "cell_type": "code",
   "execution_count": null,
   "id": "d5b1786a-0e6f-4a2f-b2e2-accad386728b",
   "metadata": {},
   "outputs": [],
   "source": [
    "sc.pl.violin(adata_comparison, keys=['pct_counts_mt', 'pct_counts_in_top_100_genes', 'n_genes_by_counts', 'Plp1'], groupby='comparison')"
   ]
  },
  {
   "cell_type": "code",
   "execution_count": null,
   "id": "12e228bd-3e86-4ef9-8ffa-7de1a572209f",
   "metadata": {},
   "outputs": [],
   "source": [
    "\n",
    "fig, axs = plt.subplots(nrows=adata_comparison.obs['comparison'].unique().shape[0], ncols=7, figsize=(35, 10))\n",
    "for row, cluster in enumerate(adata_comparison.obs['comparison'].unique()):\n",
    "    for col, section in enumerate(adata_comparison.obs.sample_id.unique()):\n",
    "        sc.pl.spatial(adata_comparison[adata_comparison.obs['sample_id'] == section].copy(), \n",
    "                     spot_size=25, \n",
    "                      size = 5,\n",
    "                      groups = cluster,\n",
    "                     color = 'comparison', \n",
    "                     ax=axs[row, col], \n",
    "                     show=False)\n",
    "        "
   ]
  },
  {
   "cell_type": "markdown",
   "id": "ce1a0487-adf6-4c87-a0f4-b4552901c6a8",
   "metadata": {
    "tags": []
   },
   "source": [
    "### Lower Complexity"
   ]
  },
  {
   "cell_type": "code",
   "execution_count": null,
   "id": "4f67817f-1eac-493f-9625-646c27ef8e6d",
   "metadata": {},
   "outputs": [],
   "source": [
    "df = sc.get.rank_genes_groups_df(adata_comparison, \n",
    "                           key = 'level_2_Dopaminergic', \n",
    "                           group = 'cluster_0')\n",
    "\n",
    "df.loc[(df['pvals_adj'] < 0.01) & (df['pct_nz_group'] > 0.2)].sort_values('logfoldchanges', ascending=False).iloc[:20]"
   ]
  },
  {
   "cell_type": "code",
   "execution_count": null,
   "id": "d6563923-59eb-40b7-8f71-7670cbc5ecbf",
   "metadata": {},
   "outputs": [],
   "source": [
    "adata.obs.loc[adata.obs['comparison'].str.contains('^cluster_0'), 'cell_type'] = 'Dopaminergic_Lower-Complexity' "
   ]
  },
  {
   "cell_type": "markdown",
   "id": "c2ad3a91-d68c-4fb4-903f-0f90eb9169c4",
   "metadata": {
    "tags": []
   },
   "source": [
    "### Higher-Complexity"
   ]
  },
  {
   "cell_type": "code",
   "execution_count": null,
   "id": "09644678-57dc-4561-bf36-50db11d1e0ae",
   "metadata": {},
   "outputs": [],
   "source": [
    "df = sc.get.rank_genes_groups_df(adata_comparison, \n",
    "                           key = 'level_2_Dopaminergic', \n",
    "                           group = 'cluster_1')\n",
    "\n",
    "df.loc[(df['pvals_adj'] < 0.01) & (df['pct_nz_group'] > 0.2)].sort_values('logfoldchanges', ascending=False).iloc[:20]"
   ]
  },
  {
   "cell_type": "code",
   "execution_count": null,
   "id": "fce1cd58-7660-49ac-b7a8-b01a00614387",
   "metadata": {},
   "outputs": [],
   "source": [
    "adata.obs.loc[adata.obs['comparison'].str.contains('^cluster_1'), 'cell_type'] = 'Dopaminergic_Higher-Complexity' "
   ]
  },
  {
   "cell_type": "markdown",
   "id": "b70ba6be-5588-4424-b419-25397e27f1da",
   "metadata": {
    "jp-MarkdownHeadingCollapsed": true,
    "tags": []
   },
   "source": [
    "# Level 3: Dopaminergic_Higher-Complexity"
   ]
  },
  {
   "cell_type": "code",
   "execution_count": null,
   "id": "07e9bad1-bcb8-4cd5-b0e1-3e1fdd4f0087",
   "metadata": {},
   "outputs": [],
   "source": [
    "set(['_'.join(x.split('_')[:4]) for x in adata[adata.obs['cell_type'] == 'Dopaminergic_Higher-Complexity'].obs['current_leiden'].unique().tolist()])"
   ]
  },
  {
   "cell_type": "code",
   "execution_count": null,
   "id": "0104f594-1293-46ed-b972-0aefa616ba22",
   "metadata": {},
   "outputs": [],
   "source": [
    "adata.obs['comparison'] = 'ignore'\n",
    "adata.obs.loc[adata.obs['current_leiden'].str.contains('^s_1_0_0'), 'comparison'] = 'cluster_1'\n",
    "adata.obs.loc[adata.obs['current_leiden'].str.contains('^s_1_0_FINAL'), 'comparison'] = 'cluster_0'\n",
    "adata.obs.groupby(['comparison']).size()"
   ]
  },
  {
   "cell_type": "code",
   "execution_count": null,
   "id": "92eb9f9c-993c-462f-b37f-8c0a5b6f567c",
   "metadata": {},
   "outputs": [],
   "source": [
    "adata_comparison = adata[adata.obs['comparison'] != 'ignore'].copy()\n",
    "adata_comparison.layers['count'] = adata_comparison.X.copy()\n",
    "sc.pp.normalize_total(adata_comparison, target_sum=1e4)\n",
    "if 'log1p' in adata_comparison.uns.keys(): \n",
    "        del adata_comparison.uns['log1p']\n",
    "sc.pp.log1p(adata_comparison)\n",
    "adata_comparison.layers['lognorm'] = adata_comparison.X.copy()\n",
    "adata_comparison.X = adata_comparison.layers['count'].copy()\n",
    "sc.tl.rank_genes_groups(adata_comparison, \n",
    "                        groupby='comparison', \n",
    "                        use_raw=False,\n",
    "                        layer='lognorm', \n",
    "                        # groups=['cluster_1_1_0', 'cluster_1_1_1'],\n",
    "                        # reference='cluster_1_1_0', \n",
    "                        method='wilcoxon', \n",
    "                        rankby_abs=True,\n",
    "                        pts=True, \n",
    "                        key_added='level_3_Dopaminergic_Higher-Complexity')"
   ]
  },
  {
   "cell_type": "code",
   "execution_count": null,
   "id": "ba5100cc-eb47-4d30-bfad-27b362474a0a",
   "metadata": {},
   "outputs": [],
   "source": [
    "sc.pl.violin(adata_comparison, keys=['pct_counts_mt', 'pct_counts_in_top_100_genes', 'n_genes_by_counts', 'Plp1'], groupby='comparison')"
   ]
  },
  {
   "cell_type": "code",
   "execution_count": null,
   "id": "8bf0eb45-895e-4210-920f-40ab4d67a1b9",
   "metadata": {},
   "outputs": [],
   "source": [
    "\n",
    "fig, axs = plt.subplots(nrows=adata_comparison.obs['comparison'].unique().shape[0], ncols=7, figsize=(35, 10))\n",
    "for row, cluster in enumerate(adata_comparison.obs['comparison'].unique()):\n",
    "    for col, section in enumerate(adata_comparison.obs.sample_id.unique()):\n",
    "        sc.pl.spatial(adata_comparison[adata_comparison.obs['sample_id'] == section].copy(), \n",
    "                     spot_size=25, \n",
    "                      size = 5,\n",
    "                      groups = cluster,\n",
    "                     color = 'comparison', \n",
    "                     ax=axs[row, col], \n",
    "                     show=False)\n",
    "        "
   ]
  },
  {
   "cell_type": "markdown",
   "id": "afd362cf-f8bb-4d64-984f-a110191cb995",
   "metadata": {
    "tags": []
   },
   "source": [
    "### Plp1+"
   ]
  },
  {
   "cell_type": "code",
   "execution_count": null,
   "id": "c71a533f-f91e-4279-8f90-44117057c62c",
   "metadata": {},
   "outputs": [],
   "source": [
    "df = sc.get.rank_genes_groups_df(adata_comparison, \n",
    "                           key = 'level_3_Dopaminergic_Higher-Complexity', \n",
    "                           group = 'cluster_0')\n",
    "\n",
    "df.loc[(df['pvals_adj'] < 0.01) & (df['pct_nz_group'] > 0.2)].sort_values('logfoldchanges', ascending=False).iloc[:20]"
   ]
  },
  {
   "cell_type": "code",
   "execution_count": null,
   "id": "294abfc4-e2bb-4498-b652-1bccc644ed37",
   "metadata": {},
   "outputs": [],
   "source": [
    "adata.obs.loc[adata.obs['comparison'].str.contains('^cluster_0'), 'cell_type'] = 'Dopaminergic_Higher-Complexity_Plp1+' "
   ]
  },
  {
   "cell_type": "markdown",
   "id": "664027c4-0307-45d9-bee0-cbb23d2e40b6",
   "metadata": {
    "tags": []
   },
   "source": [
    "### Plp1-"
   ]
  },
  {
   "cell_type": "code",
   "execution_count": null,
   "id": "5e47c64f-689a-4e19-8e1b-af87d4050a9c",
   "metadata": {},
   "outputs": [],
   "source": [
    "df = sc.get.rank_genes_groups_df(adata_comparison, \n",
    "                           key = 'level_3_Dopaminergic_Higher-Complexity', \n",
    "                           group = 'cluster_1')\n",
    "\n",
    "df.loc[(df['pvals_adj'] < 0.01) & (df['pct_nz_group'] > 0.2)].sort_values('logfoldchanges', ascending=False).iloc[:20]"
   ]
  },
  {
   "cell_type": "code",
   "execution_count": null,
   "id": "1dbdf8ca-fff6-4467-b25c-18f749a8ed94",
   "metadata": {},
   "outputs": [],
   "source": [
    "adata.obs.loc[adata.obs['comparison'].str.contains('^cluster_1'), 'cell_type'] = 'Dopaminergic_Higher-Complexity_Plp1-' "
   ]
  },
  {
   "cell_type": "markdown",
   "id": "539f8b28-6d7c-48e9-bc7c-64dcc81f13bd",
   "metadata": {
    "jp-MarkdownHeadingCollapsed": true,
    "tags": []
   },
   "source": [
    "# Level 4: Dopaminergic_Higher-Complexity_Plp1-"
   ]
  },
  {
   "cell_type": "code",
   "execution_count": null,
   "id": "fcd8a853-af90-437b-83de-a4f0fa08e4e5",
   "metadata": {},
   "outputs": [],
   "source": [
    "set(['_'.join(x.split('_')[:5]) for x in adata[adata.obs['cell_type'] == 'Dopaminergic_Higher-Complexity_Plp1-'].obs['current_leiden'].unique().tolist()])"
   ]
  },
  {
   "cell_type": "code",
   "execution_count": null,
   "id": "958feb72-cf3a-435f-816b-dc37aed150ed",
   "metadata": {},
   "outputs": [],
   "source": [
    "adata.obs['comparison'] = 'ignore'\n",
    "adata.obs.loc[adata.obs['current_leiden'].str.contains('^s_1_0_0_1'), 'comparison'] = 'cluster_1'\n",
    "adata.obs.loc[adata.obs['current_leiden'].str.contains('^s_1_0_0_0'), 'comparison'] = 'cluster_0'\n",
    "adata.obs.groupby(['comparison']).size()"
   ]
  },
  {
   "cell_type": "code",
   "execution_count": null,
   "id": "ad06226c-440e-49ff-8e35-8e97d393aadc",
   "metadata": {},
   "outputs": [],
   "source": [
    "adata_comparison = adata[adata.obs['comparison'] != 'ignore'].copy()\n",
    "adata_comparison.layers['count'] = adata_comparison.X.copy()\n",
    "sc.pp.normalize_total(adata_comparison, target_sum=1e4)\n",
    "if 'log1p' in adata_comparison.uns.keys(): \n",
    "        del adata_comparison.uns['log1p']\n",
    "sc.pp.log1p(adata_comparison)\n",
    "adata_comparison.layers['lognorm'] = adata_comparison.X.copy()\n",
    "adata_comparison.X = adata_comparison.layers['count'].copy()\n",
    "sc.tl.rank_genes_groups(adata_comparison, \n",
    "                        groupby='comparison', \n",
    "                        use_raw=False,\n",
    "                        layer='lognorm', \n",
    "                        # groups=['cluster_1_1_0', 'cluster_1_1_1'],\n",
    "                        # reference='cluster_1_1_0', \n",
    "                        method='wilcoxon', \n",
    "                        rankby_abs=True,\n",
    "                        pts=True, \n",
    "                        key_added='level_4_Dopaminergic_Higher-Complexity_Plp1-')"
   ]
  },
  {
   "cell_type": "code",
   "execution_count": null,
   "id": "358f2dd1-670c-4ab2-b2ae-76b4018bce18",
   "metadata": {},
   "outputs": [],
   "source": [
    "sc.pl.violin(adata_comparison, keys=['pct_counts_mt', 'pct_counts_in_top_100_genes', 'n_genes_by_counts', 'Plp1', 'Malat1'], groupby='comparison')"
   ]
  },
  {
   "cell_type": "code",
   "execution_count": null,
   "id": "ebd81b94-3379-4a89-8719-2a5df276d072",
   "metadata": {},
   "outputs": [],
   "source": [
    "\n",
    "fig, axs = plt.subplots(nrows=adata_comparison.obs['comparison'].unique().shape[0], ncols=7, figsize=(35, 10))\n",
    "for row, cluster in enumerate(adata_comparison.obs['comparison'].unique()):\n",
    "    for col, section in enumerate(adata_comparison.obs.sample_id.unique()):\n",
    "        sc.pl.spatial(adata_comparison[adata_comparison.obs['sample_id'] == section].copy(), \n",
    "                     spot_size=25, \n",
    "                      size = 5,\n",
    "                      groups = cluster,\n",
    "                     color = 'comparison', \n",
    "                     ax=axs[row, col], \n",
    "                     show=False)\n",
    "        "
   ]
  },
  {
   "cell_type": "markdown",
   "id": "553dd896-a955-4e41-8a3d-e0dbf1985749",
   "metadata": {
    "tags": []
   },
   "source": [
    "### Malat1+"
   ]
  },
  {
   "cell_type": "code",
   "execution_count": null,
   "id": "1fabf6e0-a53a-473b-9840-f302faad14d0",
   "metadata": {},
   "outputs": [],
   "source": [
    "df = sc.get.rank_genes_groups_df(adata_comparison, \n",
    "                           key = 'level_4_Dopaminergic_Higher-Complexity_Plp1-', \n",
    "                           group = 'cluster_0')\n",
    "\n",
    "df.loc[(df['pvals_adj'] < 0.01) & (df['pct_nz_group'] > 0.2)].sort_values('logfoldchanges', ascending=False).iloc[:20]"
   ]
  },
  {
   "cell_type": "code",
   "execution_count": null,
   "id": "2941eb9e-49aa-4b2b-8ce0-e334fb7164a9",
   "metadata": {},
   "outputs": [],
   "source": [
    "adata.obs.loc[adata.obs['comparison'].str.contains('^cluster_0'), 'cell_type'] = 'Dopaminergic_Higher-Complexity_Plp1-_Malat1+' "
   ]
  },
  {
   "cell_type": "markdown",
   "id": "1fc76eea-e8e7-4fce-b4af-031f109d1d0a",
   "metadata": {
    "tags": []
   },
   "source": [
    "### Malat1-"
   ]
  },
  {
   "cell_type": "code",
   "execution_count": null,
   "id": "dda9c8c2-87c9-403e-8a66-df53751691de",
   "metadata": {},
   "outputs": [],
   "source": [
    "df = sc.get.rank_genes_groups_df(adata_comparison, \n",
    "                           key = 'level_4_Dopaminergic_Higher-Complexity_Plp1-', \n",
    "                           group = 'cluster_1')\n",
    "\n",
    "df.loc[(df['pvals_adj'] < 0.01) & (df['pct_nz_group'] > 0.2)].sort_values('logfoldchanges', ascending=False).iloc[:20]"
   ]
  },
  {
   "cell_type": "code",
   "execution_count": null,
   "id": "d1faeefa-114c-43b6-ab2d-6fb7d253f3d9",
   "metadata": {},
   "outputs": [],
   "source": [
    "adata.obs.loc[adata.obs['comparison'].str.contains('^cluster_1'), 'cell_type'] = 'Dopaminergic_Higher-Complexity_Plp1-_Malat1-' "
   ]
  },
  {
   "cell_type": "markdown",
   "id": "52529aa4-2c0a-4b0f-8e5c-58c92b0006c4",
   "metadata": {
    "jp-MarkdownHeadingCollapsed": true,
    "tags": []
   },
   "source": [
    "# Level 5: Dopaminergic_Higher-Complexity_Plp1-_Malat1-"
   ]
  },
  {
   "cell_type": "code",
   "execution_count": null,
   "id": "cfd381e1-4c6c-4d68-8cf1-373d0709f28c",
   "metadata": {},
   "outputs": [],
   "source": [
    "set(['_'.join(x.split('_')[:6]) for x in adata[adata.obs['cell_type'] == 'Dopaminergic_Higher-Complexity_Plp1-_Malat1-'].obs['current_leiden'].unique().tolist()])"
   ]
  },
  {
   "cell_type": "code",
   "execution_count": null,
   "id": "45e3b5ec-d8fe-41a4-bf16-2c2d9fc9ef0c",
   "metadata": {},
   "outputs": [],
   "source": [
    "adata.obs['comparison'] = 'ignore'\n",
    "adata.obs.loc[adata.obs['current_leiden'].str.contains('^s_1_0_0_1_1'), 'comparison'] = 'cluster_1'\n",
    "adata.obs.loc[adata.obs['current_leiden'].str.contains('^s_1_0_0_1_0'), 'comparison'] = 'cluster_0'\n",
    "adata.obs.groupby(['comparison']).size()"
   ]
  },
  {
   "cell_type": "code",
   "execution_count": null,
   "id": "4b43c4cc-09d0-46b0-98c7-7ee72334c2e7",
   "metadata": {},
   "outputs": [],
   "source": [
    "adata_comparison = adata[adata.obs['comparison'] != 'ignore'].copy()\n",
    "adata_comparison.layers['count'] = adata_comparison.X.copy()\n",
    "sc.pp.normalize_total(adata_comparison, target_sum=1e4)\n",
    "if 'log1p' in adata_comparison.uns.keys(): \n",
    "        del adata_comparison.uns['log1p']\n",
    "sc.pp.log1p(adata_comparison)\n",
    "adata_comparison.layers['lognorm'] = adata_comparison.X.copy()\n",
    "adata_comparison.X = adata_comparison.layers['count'].copy()\n",
    "sc.tl.rank_genes_groups(adata_comparison, \n",
    "                        groupby='comparison', \n",
    "                        use_raw=False,\n",
    "                        layer='lognorm', \n",
    "                        # groups=['cluster_1_1_0', 'cluster_1_1_1'],\n",
    "                        # reference='cluster_1_1_0', \n",
    "                        method='wilcoxon', \n",
    "                        rankby_abs=True,\n",
    "                        pts=True, \n",
    "                        key_added='level_5_Dopaminergic_Higher-Complexity_Plp1-_Malat1-')"
   ]
  },
  {
   "cell_type": "code",
   "execution_count": null,
   "id": "5e848861-fa67-4003-9f7e-47dbcb2ff1d9",
   "metadata": {},
   "outputs": [],
   "source": [
    "sc.pl.violin(adata_comparison, keys=['pct_counts_mt', 'pct_counts_in_top_100_genes', 'n_genes_by_counts', 'Plp1', 'Malat1'], groupby='comparison')"
   ]
  },
  {
   "cell_type": "code",
   "execution_count": null,
   "id": "1b951328-0f7b-46f3-9716-2502a47c1e1f",
   "metadata": {},
   "outputs": [],
   "source": [
    "\n",
    "fig, axs = plt.subplots(nrows=adata_comparison.obs['comparison'].unique().shape[0], ncols=7, figsize=(35, 10))\n",
    "for row, cluster in enumerate(adata_comparison.obs['comparison'].unique()):\n",
    "    for col, section in enumerate(adata_comparison.obs.sample_id.unique()):\n",
    "        sc.pl.spatial(adata_comparison[adata_comparison.obs['sample_id'] == section].copy(), \n",
    "                     spot_size=25, \n",
    "                      size = 5,\n",
    "                      groups = cluster,\n",
    "                     color = 'comparison', \n",
    "                     ax=axs[row, col], \n",
    "                     show=False)\n",
    "        "
   ]
  },
  {
   "cell_type": "markdown",
   "id": "2dbecf71-dbe1-4117-b474-dbabc0ffbd76",
   "metadata": {
    "tags": []
   },
   "source": [
    "### VTA"
   ]
  },
  {
   "cell_type": "code",
   "execution_count": null,
   "id": "7a3d191a-3c61-4f9c-89e0-47a89ad1f515",
   "metadata": {},
   "outputs": [],
   "source": [
    "df = sc.get.rank_genes_groups_df(adata_comparison, \n",
    "                           key = 'level_5_Dopaminergic_Higher-Complexity_Plp1-_Malat1-', \n",
    "                           group = 'cluster_0')\n",
    "\n",
    "df.loc[(df['pvals_adj'] < 0.01) & (df['pct_nz_group'] > 0.2)].sort_values('logfoldchanges', ascending=False).iloc[:20]"
   ]
  },
  {
   "cell_type": "code",
   "execution_count": null,
   "id": "495221cc-c223-403a-bc0f-d119e6b472c8",
   "metadata": {},
   "outputs": [],
   "source": [
    "adata.obs.loc[adata.obs['comparison'].str.contains('^cluster_0'), 'cell_type'] = 'Dopaminergic_Higher-Complexity_Plp1-_Malat1-_VTA' "
   ]
  },
  {
   "cell_type": "markdown",
   "id": "18dcedf0-2988-48b8-85fa-47e7b8e7c95e",
   "metadata": {
    "tags": []
   },
   "source": [
    "### SN"
   ]
  },
  {
   "cell_type": "code",
   "execution_count": null,
   "id": "3d8a78c8-cf9c-440a-bebe-88f524303a9d",
   "metadata": {},
   "outputs": [],
   "source": [
    "df = sc.get.rank_genes_groups_df(adata_comparison, \n",
    "                           key = 'level_5_Dopaminergic_Higher-Complexity_Plp1-_Malat1-', \n",
    "                           group = 'cluster_1')\n",
    "\n",
    "df.loc[(df['pvals_adj'] < 0.01) & (df['pct_nz_group'] > 0.2)].sort_values('logfoldchanges', ascending=False).iloc[:20]"
   ]
  },
  {
   "cell_type": "code",
   "execution_count": null,
   "id": "7d79d8d6-1d24-40d7-83ea-94088dc4c45b",
   "metadata": {},
   "outputs": [],
   "source": [
    "adata.obs.loc[adata.obs['comparison'].str.contains('^cluster_1'), 'cell_type'] = 'Dopaminergic_Higher-Complexity_Plp1-_Malat1-_SN' "
   ]
  },
  {
   "cell_type": "markdown",
   "id": "6fd06792-7e87-479d-867c-062da00ee415",
   "metadata": {
    "jp-MarkdownHeadingCollapsed": true,
    "tags": []
   },
   "source": [
    "# Level 5: Dopaminergic_Higher-Complexity_Plp1-_Malat1+"
   ]
  },
  {
   "cell_type": "code",
   "execution_count": null,
   "id": "6c27d348-19f6-4799-b8de-e43efb304447",
   "metadata": {},
   "outputs": [],
   "source": [
    "set(['_'.join(x.split('_')[:6]) for x in adata[adata.obs['cell_type'] == 'Dopaminergic_Higher-Complexity_Plp1-_Malat1+'].obs['current_leiden'].unique().tolist()])"
   ]
  },
  {
   "cell_type": "code",
   "execution_count": null,
   "id": "fe2c4276-4f8f-4f20-8a8a-4ce3b628ce66",
   "metadata": {},
   "outputs": [],
   "source": [
    "adata.obs['comparison'] = 'ignore'\n",
    "adata.obs.loc[adata.obs['current_leiden'].str.contains('^s_1_0_0_0_0'), 'comparison'] = 'cluster_1'\n",
    "adata.obs.loc[adata.obs['current_leiden'].str.contains('^s_1_0_0_0_FINAL'), 'comparison'] = 'cluster_0'\n",
    "adata.obs.groupby(['comparison']).size()"
   ]
  },
  {
   "cell_type": "code",
   "execution_count": null,
   "id": "945df9fb-9750-47fc-ba06-691b44b8a14a",
   "metadata": {},
   "outputs": [],
   "source": [
    "adata_comparison = adata[adata.obs['comparison'] != 'ignore'].copy()\n",
    "adata_comparison.layers['count'] = adata_comparison.X.copy()\n",
    "sc.pp.normalize_total(adata_comparison, target_sum=1e4)\n",
    "if 'log1p' in adata_comparison.uns.keys(): \n",
    "        del adata_comparison.uns['log1p']\n",
    "sc.pp.log1p(adata_comparison)\n",
    "adata_comparison.layers['lognorm'] = adata_comparison.X.copy()\n",
    "adata_comparison.X = adata_comparison.layers['count'].copy()\n",
    "sc.tl.rank_genes_groups(adata_comparison, \n",
    "                        groupby='comparison', \n",
    "                        use_raw=False,\n",
    "                        layer='lognorm', \n",
    "                        method='wilcoxon', \n",
    "                        rankby_abs=True,\n",
    "                        pts=True, \n",
    "                        key_added='level_5_Dopaminergic_Higher-Complexity_Plp1-_Malat1+')"
   ]
  },
  {
   "cell_type": "code",
   "execution_count": null,
   "id": "4cbf84cd-d307-441f-98d9-229a3a90e13e",
   "metadata": {},
   "outputs": [],
   "source": [
    "sc.pl.violin(adata_comparison, keys=['pct_counts_mt', 'pct_counts_in_top_100_genes', 'n_genes_by_counts', 'Plp1', 'Malat1'], groupby='comparison')"
   ]
  },
  {
   "cell_type": "code",
   "execution_count": null,
   "id": "2cabda89-74ef-47ef-9974-768d3be48857",
   "metadata": {},
   "outputs": [],
   "source": [
    "\n",
    "fig, axs = plt.subplots(nrows=adata_comparison.obs['comparison'].unique().shape[0], ncols=7, figsize=(35, 10))\n",
    "for row, cluster in enumerate(adata_comparison.obs['comparison'].unique()):\n",
    "    for col, section in enumerate(adata_comparison.obs.sample_id.unique()):\n",
    "        sc.pl.spatial(adata_comparison[adata_comparison.obs['sample_id'] == section].copy(), \n",
    "                     spot_size=25, \n",
    "                      size = 5,\n",
    "                      groups = cluster,\n",
    "                     color = 'comparison', \n",
    "                     ax=axs[row, col], \n",
    "                     show=False)\n",
    "        "
   ]
  },
  {
   "cell_type": "markdown",
   "id": "57c975b2-ab38-466d-8930-cb60b86233ae",
   "metadata": {
    "tags": []
   },
   "source": [
    "### VTA"
   ]
  },
  {
   "cell_type": "code",
   "execution_count": null,
   "id": "a6db84eb-070f-4d33-abef-4d9f5a6e1707",
   "metadata": {},
   "outputs": [],
   "source": [
    "df = sc.get.rank_genes_groups_df(adata_comparison, \n",
    "                           key = 'level_5_Dopaminergic_Higher-Complexity_Plp1-_Malat1+', \n",
    "                           group = 'cluster_0')\n",
    "\n",
    "df.loc[(df['pvals_adj'] < 0.01) & (df['pct_nz_group'] > 0.2)].sort_values('logfoldchanges', ascending=False).iloc[:20]"
   ]
  },
  {
   "cell_type": "code",
   "execution_count": null,
   "id": "ff0c33e9-6cca-4027-9b5e-add7d2ad1abf",
   "metadata": {},
   "outputs": [],
   "source": [
    "adata.obs.loc[adata.obs['comparison'].str.contains('^cluster_0'), 'cell_type'] = 'Dopaminergic_Higher-Complexity_Plp1-_Malat1+_VTA' "
   ]
  },
  {
   "cell_type": "markdown",
   "id": "91ee8254-16ce-4d25-8656-1af15f00dc33",
   "metadata": {
    "tags": []
   },
   "source": [
    "### SN"
   ]
  },
  {
   "cell_type": "code",
   "execution_count": null,
   "id": "f658ad9b-04d2-44f1-8a10-dc68c10338af",
   "metadata": {},
   "outputs": [],
   "source": [
    "df = sc.get.rank_genes_groups_df(adata_comparison, \n",
    "                           key = 'level_5_Dopaminergic_Higher-Complexity_Plp1-_Malat1+', \n",
    "                           group = 'cluster_1')\n",
    "\n",
    "df.loc[(df['pvals_adj'] < 0.01) & (df['pct_nz_group'] > 0.2)].sort_values('logfoldchanges', ascending=False).iloc[:20]"
   ]
  },
  {
   "cell_type": "code",
   "execution_count": null,
   "id": "62fe2bc2-006d-4cbc-8ea6-c7e94028e082",
   "metadata": {},
   "outputs": [],
   "source": [
    "adata.obs.loc[adata.obs['comparison'].str.contains('^cluster_1'), 'cell_type'] = 'Dopaminergic_Higher-Complexity_Plp1-_Malat1+_SN' "
   ]
  },
  {
   "cell_type": "markdown",
   "id": "90583869-a8c0-42d5-bf26-e2efd27cf62e",
   "metadata": {
    "jp-MarkdownHeadingCollapsed": true,
    "tags": []
   },
   "source": [
    "# Level 3: Snap25_Cortical"
   ]
  },
  {
   "cell_type": "code",
   "execution_count": null,
   "id": "a147e427-b76f-402b-8dc7-190c9c818349",
   "metadata": {},
   "outputs": [],
   "source": [
    "set(['_'.join(x.split('_')[:4]) for x in adata[adata.obs['cell_type'] == 'Snap25_Cortical'].obs['current_leiden'].unique().tolist()])"
   ]
  },
  {
   "cell_type": "code",
   "execution_count": null,
   "id": "b63d19f4-7a81-42e0-a5aa-b6f291c4d837",
   "metadata": {},
   "outputs": [],
   "source": [
    "adata.obs['comparison'] = 'ignore'\n",
    "adata.obs.loc[adata.obs['current_leiden'].str.contains('^s_2_3_2'), 'comparison'] = 'cluster_2'\n",
    "adata.obs.loc[adata.obs['current_leiden'].str.contains('^s_2_3_1'), 'comparison'] = 'cluster_1'\n",
    "adata.obs.loc[adata.obs['current_leiden'].str.contains('^s_2_3_FINAL'), 'comparison'] = 'cluster_0'\n",
    "adata.obs.groupby(['comparison']).size()"
   ]
  },
  {
   "cell_type": "code",
   "execution_count": null,
   "id": "b6145424-c7ee-4623-9365-0d5f5bb8cf51",
   "metadata": {},
   "outputs": [],
   "source": [
    "adata_comparison = adata[adata.obs['comparison'] != 'ignore'].copy()\n",
    "adata_comparison.layers['count'] = adata_comparison.X.copy()\n",
    "sc.pp.normalize_total(adata_comparison, target_sum=1e4)\n",
    "if 'log1p' in adata_comparison.uns.keys(): \n",
    "        del adata_comparison.uns['log1p']\n",
    "sc.pp.log1p(adata_comparison)\n",
    "adata_comparison.layers['lognorm'] = adata_comparison.X.copy()\n",
    "adata_comparison.X = adata_comparison.layers['count'].copy()\n",
    "sc.tl.rank_genes_groups(adata_comparison, \n",
    "                        groupby='comparison', \n",
    "                        use_raw=False,\n",
    "                        layer='lognorm', \n",
    "                        # groups=['cluster_1_1_0', 'cluster_1_1_1'],\n",
    "                        # reference='cluster_1_1_0', \n",
    "                        method='wilcoxon', \n",
    "                        rankby_abs=True,\n",
    "                        pts=True, \n",
    "                        key_added='level_3_Snap25_Cortical')"
   ]
  },
  {
   "cell_type": "code",
   "execution_count": null,
   "id": "8f9cd4a6-2a7a-4380-b027-edb8ccffa339",
   "metadata": {},
   "outputs": [],
   "source": [
    "sc.pl.violin(adata_comparison, keys=['pct_counts_mt', 'pct_counts_in_top_100_genes', 'n_genes_by_counts'], groupby='comparison')"
   ]
  },
  {
   "cell_type": "code",
   "execution_count": null,
   "id": "9389e8de-b5eb-4c6a-b1a0-0df8cab4c3af",
   "metadata": {},
   "outputs": [],
   "source": [
    "\n",
    "fig, axs = plt.subplots(nrows=adata_comparison.obs['comparison'].unique().shape[0], ncols=7, figsize=(35, 15))\n",
    "for row, cluster in enumerate(adata_comparison.obs['comparison'].unique()):\n",
    "    for col, section in enumerate(adata_comparison.obs.sample_id.unique()):\n",
    "        sc.pl.spatial(adata_comparison[adata_comparison.obs['sample_id'] == section].copy(), \n",
    "                     spot_size=25, \n",
    "                      size = 5,\n",
    "                      groups = cluster,\n",
    "                     color = 'comparison', \n",
    "                     ax=axs[row, col], \n",
    "                     show=False)\n",
    "        "
   ]
  },
  {
   "cell_type": "markdown",
   "id": "e177f1a2-f4c3-4b4e-ae98-8094857a0503",
   "metadata": {
    "tags": []
   },
   "source": [
    "### Camk1d-Il31ra"
   ]
  },
  {
   "cell_type": "code",
   "execution_count": null,
   "id": "57b78826-9491-44fe-b257-a35b890d6c7d",
   "metadata": {},
   "outputs": [],
   "source": [
    "df = sc.get.rank_genes_groups_df(adata_comparison, \n",
    "                           key = 'level_3_Snap25_Cortical', \n",
    "                           group = 'cluster_0')\n",
    "\n",
    "df.loc[(df['pvals_adj'] < 0.01) & (df['pct_nz_group'] > 0.2)].sort_values('logfoldchanges', ascending=False).iloc[:20]"
   ]
  },
  {
   "cell_type": "code",
   "execution_count": null,
   "id": "92a3e9e2-826c-4404-871f-5ca14c85c9ef",
   "metadata": {},
   "outputs": [],
   "source": [
    "adata.obs.loc[adata.obs['comparison'].str.contains('^cluster_0'), 'cell_type'] = 'Snap25_Cortical_Camk1d-Il31ra' "
   ]
  },
  {
   "cell_type": "markdown",
   "id": "0ae14136-93a7-43ae-90b9-8dafbd23b389",
   "metadata": {
    "tags": []
   },
   "source": [
    "### Lower Complexity"
   ]
  },
  {
   "cell_type": "code",
   "execution_count": null,
   "id": "55486318-d09f-4395-9cf4-43f8d15729e7",
   "metadata": {},
   "outputs": [],
   "source": [
    "df = sc.get.rank_genes_groups_df(adata_comparison, \n",
    "                           key = 'level_3_Snap25_Cortical', \n",
    "                           group = 'cluster_1')\n",
    "\n",
    "df.loc[(df['pvals_adj'] < 0.01) & (df['pct_nz_group'] > 0.2)].sort_values('logfoldchanges', ascending=False).iloc[:20]"
   ]
  },
  {
   "cell_type": "code",
   "execution_count": null,
   "id": "c4e0f2dd-e988-4420-b6b2-a4dbf853b867",
   "metadata": {},
   "outputs": [],
   "source": [
    "adata.obs.loc[adata.obs['comparison'].str.contains('^cluster_1'), 'cell_type'] = 'Snap25_Cortical_Lower-Complexity' "
   ]
  },
  {
   "cell_type": "markdown",
   "id": "e310bc4d-6353-4a07-a209-2241e695ae73",
   "metadata": {
    "tags": []
   },
   "source": [
    "### Higher Complexity"
   ]
  },
  {
   "cell_type": "code",
   "execution_count": null,
   "id": "4feeeaea-b16b-4867-b23f-deff646ccc24",
   "metadata": {},
   "outputs": [],
   "source": [
    "df = sc.get.rank_genes_groups_df(adata_comparison, \n",
    "                           key = 'level_3_Snap25_Cortical', \n",
    "                           group = 'cluster_2')\n",
    "\n",
    "df.loc[(df['pvals_adj'] < 0.01) & (df['pct_nz_group'] > 0.2)].sort_values('logfoldchanges', ascending=False).iloc[:20]"
   ]
  },
  {
   "cell_type": "code",
   "execution_count": null,
   "id": "449d8a5a-ae31-4524-b3d7-57539f178390",
   "metadata": {},
   "outputs": [],
   "source": [
    "adata.obs.loc[adata.obs['comparison'].str.contains('^cluster_2'), 'cell_type'] = 'Snap25_Cortical_Higher-Complexity' "
   ]
  },
  {
   "cell_type": "markdown",
   "id": "3f530b1e-1e31-482a-a88a-e24aad86104d",
   "metadata": {
    "jp-MarkdownHeadingCollapsed": true,
    "tags": []
   },
   "source": [
    "# Level 3: Snap25_Central"
   ]
  },
  {
   "cell_type": "code",
   "execution_count": null,
   "id": "15c83ab8-c595-4311-bfe9-a4fa10160cfa",
   "metadata": {},
   "outputs": [],
   "source": [
    "set(['_'.join(x.split('_')[:4]) for x in adata[adata.obs['cell_type'] == 'Snap25_Central'].obs['current_leiden'].unique().tolist()])"
   ]
  },
  {
   "cell_type": "code",
   "execution_count": null,
   "id": "1ac9063b-4dce-4a15-9142-f70a66579030",
   "metadata": {},
   "outputs": [],
   "source": [
    "adata.obs['comparison'] = 'ignore'\n",
    "adata.obs.loc[adata.obs['current_leiden'].str.contains('^s_2_2_1'), 'comparison'] = 'cluster_1'\n",
    "adata.obs.loc[adata.obs['current_leiden'].str.contains('^s_2_2_FINAL'), 'comparison'] = 'cluster_0'\n",
    "adata.obs.groupby(['comparison']).size()"
   ]
  },
  {
   "cell_type": "code",
   "execution_count": null,
   "id": "3161b15c-d53c-4ae6-8fec-6f725ce340b5",
   "metadata": {},
   "outputs": [],
   "source": [
    "adata_comparison = adata[adata.obs['comparison'] != 'ignore'].copy()\n",
    "adata_comparison.layers['count'] = adata_comparison.X.copy()\n",
    "sc.pp.normalize_total(adata_comparison, target_sum=1e4)\n",
    "if 'log1p' in adata_comparison.uns.keys(): \n",
    "        del adata_comparison.uns['log1p']\n",
    "sc.pp.log1p(adata_comparison)\n",
    "adata_comparison.layers['lognorm'] = adata_comparison.X.copy()\n",
    "adata_comparison.X = adata_comparison.layers['count'].copy()\n",
    "sc.tl.rank_genes_groups(adata_comparison, \n",
    "                        groupby='comparison', \n",
    "                        use_raw=False,\n",
    "                        layer='lognorm', \n",
    "                        # groups=['cluster_1_1_0', 'cluster_1_1_1'],\n",
    "                        # reference='cluster_1_1_0', \n",
    "                        method='wilcoxon', \n",
    "                        rankby_abs=True,\n",
    "                        pts=True, \n",
    "                        key_added='level_3_Snap25_Central')"
   ]
  },
  {
   "cell_type": "code",
   "execution_count": null,
   "id": "cb7915ee-6035-495d-9ce2-9b0aca5fa513",
   "metadata": {},
   "outputs": [],
   "source": [
    "sc.pl.violin(adata_comparison, keys=['pct_counts_mt', 'pct_counts_in_top_100_genes', 'n_genes_by_counts', 'Plp1'], groupby='comparison')"
   ]
  },
  {
   "cell_type": "code",
   "execution_count": null,
   "id": "5472384d-ac1d-491d-a732-2a3b5b286164",
   "metadata": {},
   "outputs": [],
   "source": [
    "\n",
    "fig, axs = plt.subplots(nrows=adata_comparison.obs['comparison'].unique().shape[0], ncols=7, figsize=(35, 10))\n",
    "for row, cluster in enumerate(adata_comparison.obs['comparison'].unique()):\n",
    "    for col, section in enumerate(adata_comparison.obs.sample_id.unique()):\n",
    "        sc.pl.spatial(adata_comparison[adata_comparison.obs['sample_id'] == section].copy(), \n",
    "                     spot_size=25, \n",
    "                      size = 5,\n",
    "                      groups = cluster,\n",
    "                     color = 'comparison', \n",
    "                     ax=axs[row, col], \n",
    "                     show=False)\n",
    "        "
   ]
  },
  {
   "cell_type": "markdown",
   "id": "d25b5357-943f-44f3-9868-e3beb515bf2c",
   "metadata": {
    "tags": []
   },
   "source": [
    "### Plp1+"
   ]
  },
  {
   "cell_type": "code",
   "execution_count": null,
   "id": "bac3b2f4-35a9-40bf-8972-d3faa96a57c2",
   "metadata": {},
   "outputs": [],
   "source": [
    "df = sc.get.rank_genes_groups_df(adata_comparison, \n",
    "                           key = 'level_3_Snap25_Central', \n",
    "                           group = 'cluster_0')\n",
    "\n",
    "df.loc[(df['pvals_adj'] < 0.01) & (df['pct_nz_group'] > 0.2)].sort_values('logfoldchanges', ascending=False).iloc[:20]"
   ]
  },
  {
   "cell_type": "code",
   "execution_count": null,
   "id": "0706fa0a-ab9e-428c-b8c3-743fc68bcf11",
   "metadata": {},
   "outputs": [],
   "source": [
    "adata.obs.loc[adata.obs['comparison'].str.contains('^cluster_0'), 'cell_type'] = 'Snap25_Central_Plp1+' "
   ]
  },
  {
   "cell_type": "markdown",
   "id": "c5ffa25f-8214-418c-8645-0ab3c43aa968",
   "metadata": {
    "tags": []
   },
   "source": [
    "### Plp1-"
   ]
  },
  {
   "cell_type": "code",
   "execution_count": null,
   "id": "a5cd0f33-b224-4e72-a769-63c1da8934ad",
   "metadata": {},
   "outputs": [],
   "source": [
    "df = sc.get.rank_genes_groups_df(adata_comparison, \n",
    "                           key = 'level_3_Snap25_Central', \n",
    "                           group = 'cluster_1')\n",
    "\n",
    "df.loc[(df['pvals_adj'] < 0.01) & (df['pct_nz_group'] > 0.2)].sort_values('logfoldchanges', ascending=False).iloc[:20]"
   ]
  },
  {
   "cell_type": "code",
   "execution_count": null,
   "id": "d3891876-c71a-4a2f-a194-e19f8e6e1be8",
   "metadata": {},
   "outputs": [],
   "source": [
    "adata.obs.loc[adata.obs['comparison'].str.contains('^cluster_1'), 'cell_type'] = 'Snap25_Central_Plp1-' "
   ]
  },
  {
   "cell_type": "markdown",
   "id": "bc7a5735-acbc-4597-9f82-74fd1a344f61",
   "metadata": {
    "jp-MarkdownHeadingCollapsed": true,
    "tags": []
   },
   "source": [
    "# Level 3: Plp1_Astrocyte-like"
   ]
  },
  {
   "cell_type": "code",
   "execution_count": null,
   "id": "1b981daf-a0f0-4c1c-9769-1dd0c96639a2",
   "metadata": {},
   "outputs": [],
   "source": [
    "set(['_'.join(x.split('_')[:4]) for x in adata[adata.obs['cell_type'] == 'Plp1_Astrocyte-like'].obs['current_leiden'].unique().tolist()])"
   ]
  },
  {
   "cell_type": "code",
   "execution_count": null,
   "id": "8c8271d2-942c-4d38-b60f-735ae3d98401",
   "metadata": {},
   "outputs": [],
   "source": [
    "adata.obs['comparison'] = 'ignore'\n",
    "adata.obs.loc[adata.obs['current_leiden'].str.contains('^s_3_1_1'), 'comparison'] = 'cluster_1'\n",
    "adata.obs.loc[adata.obs['current_leiden'].str.contains('^s_3_1_0'), 'comparison'] = 'cluster_0'\n",
    "adata.obs.groupby(['comparison']).size()"
   ]
  },
  {
   "cell_type": "code",
   "execution_count": null,
   "id": "518f15a6-c679-49ff-b6ad-79286ea0c72f",
   "metadata": {},
   "outputs": [],
   "source": [
    "adata_comparison = adata[adata.obs['comparison'] != 'ignore'].copy()\n",
    "adata_comparison.layers['count'] = adata_comparison.X.copy()\n",
    "sc.pp.normalize_total(adata_comparison, target_sum=1e4)\n",
    "if 'log1p' in adata_comparison.uns.keys(): \n",
    "        del adata_comparison.uns['log1p']\n",
    "sc.pp.log1p(adata_comparison)\n",
    "adata_comparison.layers['lognorm'] = adata_comparison.X.copy()\n",
    "adata_comparison.X = adata_comparison.layers['count'].copy()\n",
    "sc.tl.rank_genes_groups(adata_comparison, \n",
    "                        groupby='comparison', \n",
    "                        use_raw=False,\n",
    "                        layer='lognorm', \n",
    "                        # groups=['cluster_1_1_0', 'cluster_1_1_1'],\n",
    "                        # reference='cluster_1_1_0', \n",
    "                        method='wilcoxon', \n",
    "                        rankby_abs=True,\n",
    "                        pts=True, \n",
    "                        key_added='level_3_Plp1_Astrocyte-like')"
   ]
  },
  {
   "cell_type": "code",
   "execution_count": null,
   "id": "5627d47b-80bd-4061-bfcc-a1f396665185",
   "metadata": {},
   "outputs": [],
   "source": [
    "sc.pl.violin(adata_comparison, keys=['pct_counts_mt', 'pct_counts_in_top_100_genes', 'n_genes_by_counts'], groupby='comparison')"
   ]
  },
  {
   "cell_type": "code",
   "execution_count": null,
   "id": "45cbe757-3bdf-4a81-8e91-39fe70142687",
   "metadata": {},
   "outputs": [],
   "source": [
    "\n",
    "fig, axs = plt.subplots(nrows=adata_comparison.obs['comparison'].unique().shape[0], ncols=7, figsize=(35, 10))\n",
    "for row, cluster in enumerate(adata_comparison.obs['comparison'].unique()):\n",
    "    for col, section in enumerate(adata_comparison.obs.sample_id.unique()):\n",
    "        sc.pl.spatial(adata_comparison[adata_comparison.obs['sample_id'] == section].copy(), \n",
    "                     spot_size=25, \n",
    "                      size = 5,\n",
    "                      groups = cluster,\n",
    "                     color = 'comparison', \n",
    "                     ax=axs[row, col], \n",
    "                     show=False)\n",
    "        "
   ]
  },
  {
   "cell_type": "markdown",
   "id": "3f48a1f9-f114-4414-a127-308330cb861b",
   "metadata": {
    "tags": []
   },
   "source": [
    "### Ageing glia"
   ]
  },
  {
   "cell_type": "code",
   "execution_count": null,
   "id": "61cac341-dd95-4ae0-bb08-f004537475db",
   "metadata": {},
   "outputs": [],
   "source": [
    "df = sc.get.rank_genes_groups_df(adata_comparison, \n",
    "                           key = 'level_3_Plp1_Astrocyte-like', \n",
    "                           group = 'cluster_0')\n",
    "\n",
    "df.loc[(df['pvals_adj'] < 0.01) & (df['pct_nz_group'] > 0.2)].sort_values('logfoldchanges', ascending=False).iloc[:20]"
   ]
  },
  {
   "cell_type": "code",
   "execution_count": null,
   "id": "9b437b63-53de-43e8-ba06-1b429fbfb467",
   "metadata": {},
   "outputs": [],
   "source": [
    "adata.obs.loc[adata.obs['comparison'].str.contains('^cluster_0'), 'cell_type'] = 'Plp1_Astrocyte-like_Ageing' "
   ]
  },
  {
   "cell_type": "markdown",
   "id": "2eb39f53-12a5-4c8d-9b6c-8a98b88ee89d",
   "metadata": {
    "tags": []
   },
   "source": [
    "### Cathepsin-Tyrobp"
   ]
  },
  {
   "cell_type": "code",
   "execution_count": null,
   "id": "94e575b7-f3c4-4e40-bc96-2420511dd5de",
   "metadata": {},
   "outputs": [],
   "source": [
    "df = sc.get.rank_genes_groups_df(adata_comparison, \n",
    "                           key = 'level_3_Plp1_Astrocyte-like', \n",
    "                           group = 'cluster_1')\n",
    "\n",
    "df.loc[(df['pvals_adj'] < 0.01) & (df['pct_nz_group'] > 0.2)].sort_values('logfoldchanges', ascending=False).iloc[:20]"
   ]
  },
  {
   "cell_type": "code",
   "execution_count": null,
   "id": "b9f6ff76-4823-4206-8eb3-f1ce597c6480",
   "metadata": {},
   "outputs": [],
   "source": [
    "adata.obs.loc[adata.obs['comparison'].str.contains('^cluster_1'), 'cell_type'] = 'Plp1_Astrocyte-like_Cathepsin-Tyrobp' "
   ]
  },
  {
   "cell_type": "markdown",
   "id": "503149d8-5648-4f4f-a317-db89cafc5fd8",
   "metadata": {
    "jp-MarkdownHeadingCollapsed": true,
    "tags": []
   },
   "source": [
    "# Level 4: Plp1_Astrocyte-like_Cathepsin-Tyrobp"
   ]
  },
  {
   "cell_type": "code",
   "execution_count": null,
   "id": "8c809432-4447-4fe8-8377-cbff51e5fa8d",
   "metadata": {},
   "outputs": [],
   "source": [
    "set(['_'.join(x.split('_')[:5]) for x in adata[adata.obs['cell_type'] == 'Plp1_Astrocyte-like_Cathepsin-Tyrobp'].obs['current_leiden'].unique().tolist()])"
   ]
  },
  {
   "cell_type": "code",
   "execution_count": null,
   "id": "da5281db-25b5-48ff-8e10-f22c89012acf",
   "metadata": {},
   "outputs": [],
   "source": [
    "adata.obs['comparison'] = 'ignore'\n",
    "adata.obs.loc[adata.obs['current_leiden'].str.contains('^s_3_1_1_FINAL'), 'comparison'] = 'cluster_1'\n",
    "adata.obs.loc[adata.obs['current_leiden'].str.contains('^s_3_1_1_1'), 'comparison'] = 'cluster_0'\n",
    "adata.obs.groupby(['comparison']).size()"
   ]
  },
  {
   "cell_type": "code",
   "execution_count": null,
   "id": "f7ef5758-fd7e-4c2b-9fc0-ae758c009315",
   "metadata": {},
   "outputs": [],
   "source": [
    "adata_comparison = adata[adata.obs['comparison'] != 'ignore'].copy()\n",
    "adata_comparison.layers['count'] = adata_comparison.X.copy()\n",
    "sc.pp.normalize_total(adata_comparison, target_sum=1e4)\n",
    "if 'log1p' in adata_comparison.uns.keys(): \n",
    "        del adata_comparison.uns['log1p']\n",
    "sc.pp.log1p(adata_comparison)\n",
    "adata_comparison.layers['lognorm'] = adata_comparison.X.copy()\n",
    "adata_comparison.X = adata_comparison.layers['count'].copy()\n",
    "sc.tl.rank_genes_groups(adata_comparison, \n",
    "                        groupby='comparison', \n",
    "                        use_raw=False,\n",
    "                        layer='lognorm', \n",
    "                        method='wilcoxon', \n",
    "                        rankby_abs=True,\n",
    "                        pts=True, \n",
    "                        key_added='level_4_Plp1_Astrocyte-like_Cathepsin-Tyrobp')"
   ]
  },
  {
   "cell_type": "code",
   "execution_count": null,
   "id": "e4519a2c-368d-4e6c-be36-c962baee8982",
   "metadata": {},
   "outputs": [],
   "source": [
    "sc.pl.violin(adata_comparison, keys=['pct_counts_mt', 'pct_counts_in_top_100_genes', 'n_genes_by_counts', 'Plp1'], groupby='comparison')"
   ]
  },
  {
   "cell_type": "code",
   "execution_count": null,
   "id": "87542806-bd88-40e4-9e55-79342fc9d3b8",
   "metadata": {},
   "outputs": [],
   "source": [
    "\n",
    "fig, axs = plt.subplots(nrows=adata_comparison.obs['comparison'].unique().shape[0], ncols=7, figsize=(35, 10))\n",
    "for row, cluster in enumerate(adata_comparison.obs['comparison'].unique()):\n",
    "    for col, section in enumerate(adata_comparison.obs.sample_id.unique()):\n",
    "        sc.pl.spatial(adata_comparison[adata_comparison.obs['sample_id'] == section].copy(), \n",
    "                     spot_size=25, \n",
    "                      size = 5,\n",
    "                      groups = cluster,\n",
    "                     color = 'comparison', \n",
    "                     ax=axs[row, col], \n",
    "                     show=False)\n",
    "        "
   ]
  },
  {
   "cell_type": "markdown",
   "id": "cc872194-4663-4c1a-b9bf-aec54b36a3ec",
   "metadata": {
    "tags": []
   },
   "source": [
    "### Lower Complexity"
   ]
  },
  {
   "cell_type": "code",
   "execution_count": null,
   "id": "7e34af1b-d511-4c22-b3ae-7f823718f2bf",
   "metadata": {},
   "outputs": [],
   "source": [
    "df = sc.get.rank_genes_groups_df(adata_comparison, \n",
    "                           key = 'level_4_Plp1_Astrocyte-like_Cathepsin-Tyrobp', \n",
    "                           group = 'cluster_0')\n",
    "\n",
    "df.loc[(df['pvals_adj'] < 0.01) & (df['pct_nz_group'] > 0.2)].sort_values('logfoldchanges', ascending=False).iloc[:20]"
   ]
  },
  {
   "cell_type": "code",
   "execution_count": null,
   "id": "dc54e441-a37d-4cdc-ab40-6e395bbbce50",
   "metadata": {},
   "outputs": [],
   "source": [
    "adata.obs.loc[adata.obs['comparison'].str.contains('^cluster_0'), 'cell_type'] = 'Plp1_Astrocyte-like_Cathepsin-Tyrobp_Lower-Complexity' "
   ]
  },
  {
   "cell_type": "markdown",
   "id": "7bb256d1-7dbf-4788-a7ac-148697a80539",
   "metadata": {
    "tags": []
   },
   "source": [
    "### Plp1+ Higher Complexity"
   ]
  },
  {
   "cell_type": "code",
   "execution_count": null,
   "id": "9039293f-ba64-4889-98a0-e5724cc40ebf",
   "metadata": {},
   "outputs": [],
   "source": [
    "df = sc.get.rank_genes_groups_df(adata_comparison, \n",
    "                           key = 'level_4_Plp1_Astrocyte-like_Cathepsin-Tyrobp', \n",
    "                           group = 'cluster_1')\n",
    "\n",
    "df.loc[(df['pvals_adj'] < 0.01) & (df['pct_nz_group'] > 0.2)].sort_values('logfoldchanges', ascending=False).iloc[:20]"
   ]
  },
  {
   "cell_type": "code",
   "execution_count": null,
   "id": "bb759382-1998-407d-8014-b427b4e4ea07",
   "metadata": {},
   "outputs": [],
   "source": [
    "adata.obs.loc[adata.obs['comparison'].str.contains('^cluster_1'), 'cell_type'] = 'Plp1_Astrocyte-like_Cathepsin-Tyrobp_Higher-Complexity-Plp1+' "
   ]
  },
  {
   "cell_type": "markdown",
   "id": "ac54a6e3-1ccf-4e35-b04b-1caa8d0d7235",
   "metadata": {
    "jp-MarkdownHeadingCollapsed": true,
    "tags": []
   },
   "source": [
    "# Level 3: Plp1_Plp1+++"
   ]
  },
  {
   "cell_type": "code",
   "execution_count": null,
   "id": "a2c0ea75-73ef-4d65-9ab3-0448278d5845",
   "metadata": {},
   "outputs": [],
   "source": [
    "set(['_'.join(x.split('_')[:4]) for x in adata[adata.obs['cell_type'] == 'Plp1_Plp1+++'].obs['current_leiden'].unique().tolist()])"
   ]
  },
  {
   "cell_type": "code",
   "execution_count": null,
   "id": "46efe5f1-fcdf-4e7e-851e-029bed1b344c",
   "metadata": {},
   "outputs": [],
   "source": [
    "adata.obs['comparison'] = 'ignore'\n",
    "adata.obs.loc[adata.obs['current_leiden'].str.contains('^s_3_2_2'), 'comparison'] = 'cluster_2'\n",
    "adata.obs.loc[adata.obs['current_leiden'].str.contains('^s_3_2_1'), 'comparison'] = 'cluster_1'\n",
    "adata.obs.loc[adata.obs['current_leiden'].str.contains('^s_3_2_FINAL'), 'comparison'] = 'cluster_0'\n",
    "adata.obs.groupby(['comparison']).size()"
   ]
  },
  {
   "cell_type": "code",
   "execution_count": null,
   "id": "655026f8-6cdd-4eaa-bec9-ed8d5904d78d",
   "metadata": {},
   "outputs": [],
   "source": [
    "adata_comparison = adata[adata.obs['comparison'] != 'ignore'].copy()\n",
    "adata_comparison.layers['count'] = adata_comparison.X.copy()\n",
    "sc.pp.normalize_total(adata_comparison, target_sum=1e4)\n",
    "if 'log1p' in adata_comparison.uns.keys(): \n",
    "        del adata_comparison.uns['log1p']\n",
    "sc.pp.log1p(adata_comparison)\n",
    "adata_comparison.layers['lognorm'] = adata_comparison.X.copy()\n",
    "adata_comparison.X = adata_comparison.layers['count'].copy()\n",
    "sc.tl.rank_genes_groups(adata_comparison, \n",
    "                        groupby='comparison', \n",
    "                        use_raw=False,\n",
    "                        layer='lognorm', \n",
    "                        # groups=['cluster_1_1_0', 'cluster_1_1_1'],\n",
    "                        # reference='cluster_1_1_0', \n",
    "                        method='wilcoxon', \n",
    "                        rankby_abs=True,\n",
    "                        pts=True, \n",
    "                        key_added='level_3_Plp1_Plp1+++')"
   ]
  },
  {
   "cell_type": "code",
   "execution_count": null,
   "id": "5948b20e-2049-49b7-9f13-a479ac04092d",
   "metadata": {},
   "outputs": [],
   "source": [
    "sc.pl.violin(adata_comparison, keys=['pct_counts_mt', 'pct_counts_in_top_100_genes', 'n_genes_by_counts'], groupby='comparison')"
   ]
  },
  {
   "cell_type": "code",
   "execution_count": null,
   "id": "a49b5d3e-7483-4c46-a3c3-b907199a4fcf",
   "metadata": {},
   "outputs": [],
   "source": [
    "\n",
    "fig, axs = plt.subplots(nrows=adata_comparison.obs['comparison'].unique().shape[0], ncols=7, figsize=(35, 15))\n",
    "for row, cluster in enumerate(adata_comparison.obs['comparison'].unique()):\n",
    "    for col, section in enumerate(adata_comparison.obs.sample_id.unique()):\n",
    "        sc.pl.spatial(adata_comparison[adata_comparison.obs['sample_id'] == section].copy(), \n",
    "                     spot_size=25, \n",
    "                      size = 5,\n",
    "                      groups = cluster,\n",
    "                     color = 'comparison', \n",
    "                     ax=axs[row, col], \n",
    "                     show=False)\n",
    "        "
   ]
  },
  {
   "cell_type": "markdown",
   "id": "663c0bad-e3d5-42bc-92c5-3abaacdc1e0a",
   "metadata": {
    "tags": []
   },
   "source": [
    "### Olig-Neurons"
   ]
  },
  {
   "cell_type": "code",
   "execution_count": null,
   "id": "14c76826-09fe-4c88-801e-868111916e4e",
   "metadata": {},
   "outputs": [],
   "source": [
    "df = sc.get.rank_genes_groups_df(adata_comparison, \n",
    "                           key = 'level_3_Plp1_Plp1+++', \n",
    "                           group = 'cluster_0')\n",
    "\n",
    "df.loc[(df['pvals_adj'] < 0.01) & (df['pct_nz_group'] > 0.2)].sort_values('logfoldchanges', ascending=False).iloc[:20]"
   ]
  },
  {
   "cell_type": "code",
   "execution_count": null,
   "id": "fe4fa605-cff1-45c1-ab03-601372719f3e",
   "metadata": {},
   "outputs": [],
   "source": [
    "adata.obs.loc[adata.obs['comparison'].str.contains('^cluster_0'), 'cell_type'] = 'Plp1_Plp1+++_Olig-Neurons' "
   ]
  },
  {
   "cell_type": "markdown",
   "id": "194f1fad-3b13-44f0-a94f-4e4ef52bfe15",
   "metadata": {
    "tags": []
   },
   "source": [
    "### Lower-Complexity"
   ]
  },
  {
   "cell_type": "code",
   "execution_count": null,
   "id": "941c7329-586d-45cd-939d-3d3037752656",
   "metadata": {},
   "outputs": [],
   "source": [
    "df = sc.get.rank_genes_groups_df(adata_comparison, \n",
    "                           key = 'level_3_Plp1_Plp1+++', \n",
    "                           group = 'cluster_1')\n",
    "\n",
    "df.loc[(df['pvals_adj'] < 0.01) & (df['pct_nz_group'] > 0.2)].sort_values('logfoldchanges', ascending=False).iloc[:20]"
   ]
  },
  {
   "cell_type": "code",
   "execution_count": null,
   "id": "d3fed4e1-345d-4c5d-a047-215f6a382750",
   "metadata": {},
   "outputs": [],
   "source": [
    "adata.obs.loc[adata.obs['comparison'].str.contains('^cluster_1'), 'cell_type'] = 'Plp1_Plp1+++_Lower-Complexity' "
   ]
  },
  {
   "cell_type": "markdown",
   "id": "c4f5ab81-787c-4606-8db9-91ab082efc5b",
   "metadata": {
    "tags": []
   },
   "source": [
    "### Cathepsin-Tyrobp"
   ]
  },
  {
   "cell_type": "code",
   "execution_count": null,
   "id": "51ec1c0b-8713-4678-ae9d-db3a797689b2",
   "metadata": {},
   "outputs": [],
   "source": [
    "df = sc.get.rank_genes_groups_df(adata_comparison, \n",
    "                           key = 'level_3_Plp1_Plp1+++', \n",
    "                           group = 'cluster_2')\n",
    "\n",
    "df.loc[(df['pvals_adj'] < 0.01) & (df['pct_nz_group'] > 0.2)].sort_values('logfoldchanges', ascending=False).iloc[:20]"
   ]
  },
  {
   "cell_type": "code",
   "execution_count": null,
   "id": "af6390c7-c7d3-476b-be7d-c4f0350fd13c",
   "metadata": {},
   "outputs": [],
   "source": [
    "adata.obs.loc[adata.obs['comparison'].str.contains('^cluster_2'), 'cell_type'] = 'Plp1_Plp1+++_Cathepsin-Tyrobp' "
   ]
  },
  {
   "cell_type": "markdown",
   "id": "260ac1d3-1b21-4acc-a681-e23356a8faec",
   "metadata": {
    "jp-MarkdownHeadingCollapsed": true,
    "tags": []
   },
   "source": [
    "# Level 4: Plp1_Plp1+++_Lower-Complexity"
   ]
  },
  {
   "cell_type": "code",
   "execution_count": null,
   "id": "7ac0ea81-7707-4f4e-88ff-13e0f0afefb0",
   "metadata": {},
   "outputs": [],
   "source": [
    "set(['_'.join(x.split('_')[:5]) for x in adata[adata.obs['cell_type'] == 'Plp1_Plp1+++_Lower-Complexity'].obs['current_leiden'].unique().tolist()])"
   ]
  },
  {
   "cell_type": "code",
   "execution_count": null,
   "id": "41e49b57-53e2-495c-9540-ede111e41601",
   "metadata": {},
   "outputs": [],
   "source": [
    "adata.obs['comparison'] = 'ignore'\n",
    "adata.obs.loc[adata.obs['current_leiden'].str.contains('^s_3_2_1_1'), 'comparison'] = 'cluster_1'\n",
    "adata.obs.loc[adata.obs['current_leiden'].str.contains('^s_3_2_1_0'), 'comparison'] = 'cluster_0'\n",
    "adata.obs.groupby(['comparison']).size()"
   ]
  },
  {
   "cell_type": "code",
   "execution_count": null,
   "id": "0476a0a7-088b-41fc-a14e-caa802dd4225",
   "metadata": {},
   "outputs": [],
   "source": [
    "adata_comparison = adata[adata.obs['comparison'] != 'ignore'].copy()\n",
    "adata_comparison.layers['count'] = adata_comparison.X.copy()\n",
    "sc.pp.normalize_total(adata_comparison, target_sum=1e4)\n",
    "if 'log1p' in adata_comparison.uns.keys(): \n",
    "        del adata_comparison.uns['log1p']\n",
    "sc.pp.log1p(adata_comparison)\n",
    "adata_comparison.layers['lognorm'] = adata_comparison.X.copy()\n",
    "adata_comparison.X = adata_comparison.layers['count'].copy()\n",
    "sc.tl.rank_genes_groups(adata_comparison, \n",
    "                        groupby='comparison', \n",
    "                        use_raw=False,\n",
    "                        layer='lognorm', \n",
    "                        method='wilcoxon', \n",
    "                        rankby_abs=True,\n",
    "                        pts=True, \n",
    "                        key_added='level_4_Plp1_Plp1+++_Lower-Complexity')"
   ]
  },
  {
   "cell_type": "code",
   "execution_count": null,
   "id": "f99aeeb0-916f-4fe9-8277-9e3e08aad3ba",
   "metadata": {},
   "outputs": [],
   "source": [
    "sc.pl.violin(adata_comparison, keys=['pct_counts_mt', 'pct_counts_in_top_100_genes', 'n_genes_by_counts', 'Malat1'], groupby='comparison')"
   ]
  },
  {
   "cell_type": "code",
   "execution_count": null,
   "id": "10bb4e99-86f4-47f5-a260-b44d8733d7a8",
   "metadata": {},
   "outputs": [],
   "source": [
    "\n",
    "fig, axs = plt.subplots(nrows=adata_comparison.obs['comparison'].unique().shape[0], ncols=7, figsize=(35, 10))\n",
    "for row, cluster in enumerate(adata_comparison.obs['comparison'].unique()):\n",
    "    for col, section in enumerate(adata_comparison.obs.sample_id.unique()):\n",
    "        sc.pl.spatial(adata_comparison[adata_comparison.obs['sample_id'] == section].copy(), \n",
    "                     spot_size=25, \n",
    "                      size = 5,\n",
    "                      groups = cluster,\n",
    "                     color = 'comparison', \n",
    "                     ax=axs[row, col], \n",
    "                     show=False)\n",
    "        "
   ]
  },
  {
   "cell_type": "code",
   "execution_count": null,
   "id": "a5b9bd6e-1d14-46cf-8535-2ac25bff1eba",
   "metadata": {},
   "outputs": [],
   "source": [
    "adata_comparison.obs.groupby(['mouse_id', 'comparison']).size()"
   ]
  },
  {
   "cell_type": "markdown",
   "id": "54ce43e6-67f6-4cbe-975c-d0443db0d0fa",
   "metadata": {
    "tags": []
   },
   "source": [
    "### Ageing"
   ]
  },
  {
   "cell_type": "code",
   "execution_count": null,
   "id": "aad6daed-eaa5-4fb0-9f95-a07cd8d0cbc3",
   "metadata": {},
   "outputs": [],
   "source": [
    "sc.get.rank_genes_groups_df(adata_comparison, \n",
    "                           key = 'level_4_Plp1_Plp1+++_Lower-Complexity', \n",
    "                           group = 'cluster_0').iloc[:20]"
   ]
  },
  {
   "cell_type": "code",
   "execution_count": null,
   "id": "d2d6c3c5-0c44-4f50-8b41-63704190bf05",
   "metadata": {},
   "outputs": [],
   "source": [
    "df = sc.get.rank_genes_groups_df(adata_comparison, \n",
    "                           key = 'level_4_Plp1_Plp1+++_Lower-Complexity', \n",
    "                           group = 'cluster_0')\n",
    "\n",
    "df.loc[(df['pvals_adj'] < 0.01) & (df['pct_nz_group'] > 0.2)].sort_values('logfoldchanges', ascending=False).iloc[:20]"
   ]
  },
  {
   "cell_type": "code",
   "execution_count": null,
   "id": "4eb0768f-9931-4af8-94e5-f24be7b04f8b",
   "metadata": {},
   "outputs": [],
   "source": [
    "adata.obs.loc[adata.obs['comparison'].str.contains('^cluster_0'), 'cell_type'] = 'Plp1_Plp1+++_Lower-Complexity_Ageing' "
   ]
  },
  {
   "cell_type": "markdown",
   "id": "13406edb-e154-45d0-9257-a0e316849bbe",
   "metadata": {
    "tags": []
   },
   "source": [
    "### Non-Ageing"
   ]
  },
  {
   "cell_type": "code",
   "execution_count": null,
   "id": "1be4104e-58a5-460d-990a-b949d9659388",
   "metadata": {},
   "outputs": [],
   "source": [
    "sc.get.rank_genes_groups_df(adata_comparison, \n",
    "                           key = 'level_4_Plp1_Plp1+++_Lower-Complexity', \n",
    "                           group = 'cluster_1').iloc[:20]"
   ]
  },
  {
   "cell_type": "code",
   "execution_count": null,
   "id": "2fd515f8-73f5-4c02-9415-a1ddf1b60d98",
   "metadata": {},
   "outputs": [],
   "source": [
    "df = sc.get.rank_genes_groups_df(adata_comparison, \n",
    "                           key = 'level_4_Plp1_Plp1+++_Lower-Complexity', \n",
    "                           group = 'cluster_1')\n",
    "\n",
    "df.loc[(df['pvals_adj'] < 0.01) & (df['pct_nz_group'] > 0.2)].sort_values('logfoldchanges', ascending=False).iloc[:20]"
   ]
  },
  {
   "cell_type": "code",
   "execution_count": null,
   "id": "79c81d19-e2de-4a62-9263-9defdcf75a87",
   "metadata": {},
   "outputs": [],
   "source": [
    "adata.obs.loc[adata.obs['comparison'].str.contains('^cluster_1'), 'cell_type'] = 'Plp1_Plp1+++_Lower-Complexity_Non-Ageing' "
   ]
  },
  {
   "cell_type": "markdown",
   "id": "3fc62e20-5a9f-4be4-acdb-4cddfd9ee638",
   "metadata": {
    "jp-MarkdownHeadingCollapsed": true,
    "tags": []
   },
   "source": [
    "# Level 3: Plp1_Erythroid"
   ]
  },
  {
   "cell_type": "code",
   "execution_count": null,
   "id": "e4170092-9fbe-4d00-9714-1ac95a5deeb9",
   "metadata": {},
   "outputs": [],
   "source": [
    "set(['_'.join(x.split('_')[:4]) for x in adata[adata.obs['cell_type'] == 'Plp1_Erythroid'].obs['current_leiden'].unique().tolist()])"
   ]
  },
  {
   "cell_type": "code",
   "execution_count": null,
   "id": "1985f094-290b-4a28-86fe-6d8a72de4b55",
   "metadata": {},
   "outputs": [],
   "source": [
    "adata.obs['comparison'] = 'ignore'\n",
    "adata.obs.loc[adata.obs['current_leiden'].str.contains('^s_3_0_1'), 'comparison'] = 'cluster_1'\n",
    "adata.obs.loc[adata.obs['current_leiden'].str.contains('^s_3_0_0'), 'comparison'] = 'cluster_0'\n",
    "adata.obs.groupby(['comparison']).size()"
   ]
  },
  {
   "cell_type": "code",
   "execution_count": null,
   "id": "86a5c31a-403b-4b81-b06b-a10c2d64c617",
   "metadata": {},
   "outputs": [],
   "source": [
    "adata_comparison = adata[adata.obs['comparison'] != 'ignore'].copy()\n",
    "adata_comparison.layers['count'] = adata_comparison.X.copy()\n",
    "sc.pp.normalize_total(adata_comparison, target_sum=1e4)\n",
    "if 'log1p' in adata_comparison.uns.keys(): \n",
    "        del adata_comparison.uns['log1p']\n",
    "sc.pp.log1p(adata_comparison)\n",
    "adata_comparison.layers['lognorm'] = adata_comparison.X.copy()\n",
    "adata_comparison.X = adata_comparison.layers['count'].copy()\n",
    "sc.tl.rank_genes_groups(adata_comparison, \n",
    "                        groupby='comparison', \n",
    "                        use_raw=False,\n",
    "                        layer='lognorm', \n",
    "                        method='wilcoxon', \n",
    "                        rankby_abs=True,\n",
    "                        pts=True, \n",
    "                        key_added='level_3_Plp1_Erythroid')"
   ]
  },
  {
   "cell_type": "code",
   "execution_count": null,
   "id": "5d0cce5f-b218-4e84-b09c-41074387307b",
   "metadata": {},
   "outputs": [],
   "source": [
    "sc.pl.violin(adata_comparison, keys=['pct_counts_mt', 'pct_counts_in_top_100_genes', 'n_genes_by_counts', 'Plp1', 'Mbp'], groupby='comparison')"
   ]
  },
  {
   "cell_type": "code",
   "execution_count": null,
   "id": "26fffb1f-a7ed-4cc1-9b3f-881d2267b156",
   "metadata": {},
   "outputs": [],
   "source": [
    "\n",
    "fig, axs = plt.subplots(nrows=adata_comparison.obs['comparison'].unique().shape[0], ncols=7, figsize=(35, 10))\n",
    "for row, cluster in enumerate(adata_comparison.obs['comparison'].unique()):\n",
    "    for col, section in enumerate(adata_comparison.obs.sample_id.unique()):\n",
    "        sc.pl.spatial(adata_comparison[adata_comparison.obs['sample_id'] == section].copy(), \n",
    "                     spot_size=25, \n",
    "                      size = 5,\n",
    "                      groups = cluster,\n",
    "                     color = 'comparison', \n",
    "                     ax=axs[row, col], \n",
    "                     show=False)\n",
    "        "
   ]
  },
  {
   "cell_type": "markdown",
   "id": "55feec71-0da5-42db-87f9-a686a8f32992",
   "metadata": {
    "tags": []
   },
   "source": [
    "### Snap25+"
   ]
  },
  {
   "cell_type": "code",
   "execution_count": null,
   "id": "2d54d25b-6fd5-4711-8e0e-ef7f33e28fd9",
   "metadata": {},
   "outputs": [],
   "source": [
    "df = sc.get.rank_genes_groups_df(adata_comparison, \n",
    "                           key = 'level_3_Plp1_Erythroid', \n",
    "                           group = 'cluster_0')\n",
    "\n",
    "df.loc[(df['pvals_adj'] < 0.01) & (df['pct_nz_group'] > 0.2)].sort_values('logfoldchanges', ascending=False).iloc[:20]"
   ]
  },
  {
   "cell_type": "code",
   "execution_count": null,
   "id": "06933e17-014d-4652-b3ac-4c5eda5cc2a0",
   "metadata": {},
   "outputs": [],
   "source": [
    "adata.obs.loc[adata.obs['comparison'].str.contains('^cluster_0'), 'cell_type'] = 'Plp1_Erythroid_Snap25+' "
   ]
  },
  {
   "cell_type": "markdown",
   "id": "740df4b7-31b3-4125-b1fd-48106ab861a0",
   "metadata": {
    "tags": []
   },
   "source": [
    "### Erythroid"
   ]
  },
  {
   "cell_type": "code",
   "execution_count": null,
   "id": "f5018349-eabb-4cfd-af27-c95115262950",
   "metadata": {},
   "outputs": [],
   "source": [
    "df = sc.get.rank_genes_groups_df(adata_comparison, \n",
    "                           key = 'level_3_Plp1_Erythroid', \n",
    "                           group = 'cluster_1')\n",
    "\n",
    "df.loc[(df['pvals_adj'] < 0.01) & (df['pct_nz_group'] > 0.2)].sort_values('logfoldchanges', ascending=False).iloc[:20]"
   ]
  },
  {
   "cell_type": "code",
   "execution_count": null,
   "id": "a7822e7c-4779-4553-bf36-c8228f5ccff1",
   "metadata": {},
   "outputs": [],
   "source": [
    "adata.obs.loc[adata.obs['comparison'].str.contains('^cluster_1'), 'cell_type'] = 'Plp1_Erythroid_Erythroid' "
   ]
  },
  {
   "cell_type": "markdown",
   "id": "3ba42fe2-dc60-4484-8538-e789b1083ff1",
   "metadata": {
    "jp-MarkdownHeadingCollapsed": true,
    "tags": []
   },
   "source": [
    "# Level 4: Snap25_Central_Plp1-"
   ]
  },
  {
   "cell_type": "code",
   "execution_count": null,
   "id": "42be54ed-198b-4d9d-b967-8fb905c022e7",
   "metadata": {},
   "outputs": [],
   "source": [
    "set(['_'.join(x.split('_')[:5]) for x in adata[adata.obs['cell_type'] == 'Snap25_Central_Plp1-'].obs['current_leiden'].unique().tolist()])"
   ]
  },
  {
   "cell_type": "code",
   "execution_count": null,
   "id": "1c28efda-8593-4824-a85e-f1a039d14aa6",
   "metadata": {},
   "outputs": [],
   "source": [
    "adata.obs['comparison'] = 'ignore'\n",
    "adata.obs.loc[adata.obs['current_leiden'].str.contains('^s_2_2_1_1'), 'comparison'] = 'cluster_2'\n",
    "adata.obs.loc[adata.obs['current_leiden'].str.contains('^s_2_2_1_0'), 'comparison'] = 'cluster_1'\n",
    "adata.obs.loc[adata.obs['current_leiden'].str.contains('^s_2_2_1_FINAL'), 'comparison'] = 'cluster_0'\n",
    "adata.obs.groupby(['comparison']).size()"
   ]
  },
  {
   "cell_type": "code",
   "execution_count": null,
   "id": "25bca0b1-41c6-44be-a335-47540976def9",
   "metadata": {},
   "outputs": [],
   "source": [
    "adata_comparison = adata[adata.obs['comparison'] != 'ignore'].copy()\n",
    "adata_comparison.layers['count'] = adata_comparison.X.copy()\n",
    "sc.pp.normalize_total(adata_comparison, target_sum=1e4)\n",
    "if 'log1p' in adata_comparison.uns.keys(): \n",
    "        del adata_comparison.uns['log1p']\n",
    "sc.pp.log1p(adata_comparison)\n",
    "adata_comparison.layers['lognorm'] = adata_comparison.X.copy()\n",
    "adata_comparison.X = adata_comparison.layers['count'].copy()\n",
    "sc.tl.rank_genes_groups(adata_comparison, \n",
    "                        groupby='comparison', \n",
    "                        use_raw=False,\n",
    "                        layer='lognorm', \n",
    "                        method='wilcoxon', \n",
    "                        rankby_abs=True,\n",
    "                        pts=True, \n",
    "                        key_added='level_4_Snap25_Central_Plp1-')"
   ]
  },
  {
   "cell_type": "code",
   "execution_count": null,
   "id": "0bff26c8-235c-419a-97ec-dc8c3ac551f4",
   "metadata": {},
   "outputs": [],
   "source": [
    "sc.pl.violin(adata_comparison, keys=['pct_counts_mt', 'pct_counts_in_top_100_genes', 'n_genes_by_counts', 'Plp1', 'Mbp'], groupby='comparison')"
   ]
  },
  {
   "cell_type": "code",
   "execution_count": null,
   "id": "0c70e27d-0a3e-4d03-b1ce-352531f67127",
   "metadata": {},
   "outputs": [],
   "source": [
    "\n",
    "fig, axs = plt.subplots(nrows=adata_comparison.obs['comparison'].unique().shape[0], ncols=7, figsize=(35, 15))\n",
    "for row, cluster in enumerate(adata_comparison.obs['comparison'].unique()):\n",
    "    for col, section in enumerate(adata_comparison.obs.sample_id.unique()):\n",
    "        sc.pl.spatial(adata_comparison[adata_comparison.obs['sample_id'] == section].copy(), \n",
    "                     spot_size=25, \n",
    "                      size = 5,\n",
    "                      groups = cluster,\n",
    "                     color = 'comparison', \n",
    "                     ax=axs[row, col], \n",
    "                     show=False)\n",
    "        "
   ]
  },
  {
   "cell_type": "markdown",
   "id": "b34422ad-8058-4ddf-bc0b-49b625575b5d",
   "metadata": {
    "tags": []
   },
   "source": [
    "### Cortical"
   ]
  },
  {
   "cell_type": "code",
   "execution_count": null,
   "id": "88829bad-d7e3-44bc-9584-dc9f10d5b41f",
   "metadata": {},
   "outputs": [],
   "source": [
    "df = sc.get.rank_genes_groups_df(adata_comparison, \n",
    "                           key = 'level_4_Snap25_Central_Plp1-', \n",
    "                           group = 'cluster_0')\n",
    "\n",
    "df.loc[(df['pvals_adj'] < 0.01) & (df['pct_nz_group'] > 0.2)].sort_values('logfoldchanges', ascending=False).iloc[:20]"
   ]
  },
  {
   "cell_type": "code",
   "execution_count": null,
   "id": "fbccf298-e808-4dde-ac5b-39c2e9c0bd7f",
   "metadata": {
    "tags": []
   },
   "outputs": [],
   "source": [
    "adata.obs.loc[adata.obs['comparison'].str.contains('^cluster_0'), 'cell_type'] = 'Snap25_Central_Plp1-_Cortical' "
   ]
  },
  {
   "cell_type": "markdown",
   "id": "25f9d36b-4488-4803-a2c4-a12aaf947339",
   "metadata": {
    "tags": []
   },
   "source": [
    "### Mbp+ Plp1+"
   ]
  },
  {
   "cell_type": "code",
   "execution_count": null,
   "id": "954c5951-8641-47f0-9304-d25ca70b74b4",
   "metadata": {},
   "outputs": [],
   "source": [
    "df = sc.get.rank_genes_groups_df(adata_comparison, \n",
    "                           key = 'level_4_Snap25_Central_Plp1-', \n",
    "                           group = 'cluster_1')\n",
    "\n",
    "df.loc[(df['pvals_adj'] < 0.01) & (df['pct_nz_group'] > 0.2)].sort_values('logfoldchanges', ascending=False).iloc[:20]"
   ]
  },
  {
   "cell_type": "code",
   "execution_count": null,
   "id": "b72684bb-2a8a-4571-a1c2-e873c2fdcb68",
   "metadata": {},
   "outputs": [],
   "source": [
    "adata.obs.loc[adata.obs['comparison'].str.contains('^cluster_1'), 'cell_type'] = 'Snap25_Central_Plp1-_Mbp-Plp+' "
   ]
  },
  {
   "cell_type": "markdown",
   "id": "36366e79-92a4-4b35-b0da-7a69aac913ff",
   "metadata": {
    "tags": []
   },
   "source": [
    "### Pontine Gray/Middle Cerebellar Peduncle"
   ]
  },
  {
   "cell_type": "code",
   "execution_count": null,
   "id": "7397957c-b2e1-4cc1-8c73-fca65c50583b",
   "metadata": {},
   "outputs": [],
   "source": [
    "df = sc.get.rank_genes_groups_df(adata_comparison, \n",
    "                           key = 'level_4_Snap25_Central_Plp1-', \n",
    "                           group = 'cluster_2')\n",
    "\n",
    "df.loc[(df['pvals_adj'] < 0.01) & (df['pct_nz_group'] > 0.2)].sort_values('logfoldchanges', ascending=False).iloc[:20]"
   ]
  },
  {
   "cell_type": "code",
   "execution_count": null,
   "id": "4d7a5ba5-c14b-453c-ad3d-50d63d84d274",
   "metadata": {},
   "outputs": [],
   "source": [
    "adata.obs.loc[adata.obs['comparison'].str.contains('^cluster_2'), 'cell_type'] = 'Snap25_Central_Plp1-_PontineGray/MCP' "
   ]
  },
  {
   "cell_type": "markdown",
   "id": "4f3180bb-1ce7-43fa-ae5c-d86802eefd16",
   "metadata": {
    "jp-MarkdownHeadingCollapsed": true,
    "tags": []
   },
   "source": [
    "# Level 5: Snap25_Central_Plp1-_Mbp-Plp+"
   ]
  },
  {
   "cell_type": "code",
   "execution_count": null,
   "id": "632e55d0-db00-442d-be50-0adb7e9ec1c9",
   "metadata": {},
   "outputs": [],
   "source": [
    "set(['_'.join(x.split('_')[:6]) for x in adata[adata.obs['cell_type'] == 'Snap25_Central_Plp1-_Mbp-Plp+'].obs['current_leiden'].unique().tolist()])"
   ]
  },
  {
   "cell_type": "code",
   "execution_count": null,
   "id": "36fb3b99-0ec3-4da1-a8df-661d89329edf",
   "metadata": {},
   "outputs": [],
   "source": [
    "adata.obs['comparison'] = 'ignore'\n",
    "adata.obs.loc[adata.obs['current_leiden'].str.contains('^s_2_2_1_0_1'), 'comparison'] = 'cluster_1'\n",
    "adata.obs.loc[adata.obs['current_leiden'].str.contains('^s_2_2_1_0_0'), 'comparison'] = 'cluster_0'\n",
    "adata.obs.groupby(['comparison']).size()"
   ]
  },
  {
   "cell_type": "code",
   "execution_count": null,
   "id": "e838f70d-5d80-4b22-8e35-dc3b84d1f4f3",
   "metadata": {},
   "outputs": [],
   "source": [
    "adata_comparison = adata[adata.obs['comparison'] != 'ignore'].copy()\n",
    "adata_comparison.layers['count'] = adata_comparison.X.copy()\n",
    "sc.pp.normalize_total(adata_comparison, target_sum=1e4)\n",
    "if 'log1p' in adata_comparison.uns.keys(): \n",
    "        del adata_comparison.uns['log1p']\n",
    "sc.pp.log1p(adata_comparison)\n",
    "adata_comparison.layers['lognorm'] = adata_comparison.X.copy()\n",
    "adata_comparison.X = adata_comparison.layers['count'].copy()\n",
    "sc.tl.rank_genes_groups(adata_comparison, \n",
    "                        groupby='comparison', \n",
    "                        use_raw=False,\n",
    "                        layer='lognorm', \n",
    "                        method='wilcoxon', \n",
    "                        rankby_abs=True,\n",
    "                        pts=True, \n",
    "                        key_added='level_5_Snap25_Central_Plp1-_Mbp-Plp+')"
   ]
  },
  {
   "cell_type": "code",
   "execution_count": null,
   "id": "0ad59c85-f95a-4581-bc7e-786e4b32eaa4",
   "metadata": {},
   "outputs": [],
   "source": [
    "sc.pl.violin(adata_comparison, keys=['pct_counts_mt', 'pct_counts_in_top_100_genes', 'n_genes_by_counts', 'Plp1', 'Malat1'], groupby='comparison')"
   ]
  },
  {
   "cell_type": "code",
   "execution_count": null,
   "id": "9ad71419-3306-47a8-b8f6-9c80e2a0e731",
   "metadata": {},
   "outputs": [],
   "source": [
    "\n",
    "fig, axs = plt.subplots(nrows=adata_comparison.obs['comparison'].unique().shape[0], ncols=7, figsize=(35, 10))\n",
    "for row, cluster in enumerate(adata_comparison.obs['comparison'].unique()):\n",
    "    for col, section in enumerate(adata_comparison.obs.sample_id.unique()):\n",
    "        sc.pl.spatial(adata_comparison[adata_comparison.obs['sample_id'] == section].copy(), \n",
    "                     spot_size=25, \n",
    "                      size = 5,\n",
    "                      groups = cluster,\n",
    "                     color = 'comparison', \n",
    "                     ax=axs[row, col], \n",
    "                     show=False)\n",
    "        "
   ]
  },
  {
   "cell_type": "markdown",
   "id": "db6d92a0-9ab3-4955-aee5-40165630dc59",
   "metadata": {
    "tags": []
   },
   "source": [
    "### Malat1+"
   ]
  },
  {
   "cell_type": "code",
   "execution_count": null,
   "id": "4daf5098-4e07-4552-8089-ddbd1137b3d3",
   "metadata": {},
   "outputs": [],
   "source": [
    "df = sc.get.rank_genes_groups_df(adata_comparison, \n",
    "                           key = 'level_5_Snap25_Central_Plp1-_Mbp-Plp+', \n",
    "                           group = 'cluster_0')\n",
    "\n",
    "df.loc[(df['pvals_adj'] < 0.01) & (df['pct_nz_group'] > 0.2)].sort_values('logfoldchanges', ascending=False).iloc[:20]"
   ]
  },
  {
   "cell_type": "code",
   "execution_count": null,
   "id": "dc29209e-06a9-462b-8dcb-e66bf87f738a",
   "metadata": {
    "tags": []
   },
   "outputs": [],
   "source": [
    "adata.obs.loc[adata.obs['comparison'].str.contains('^cluster_0'), 'cell_type'] = 'Snap25_Central_Plp1-_Mbp-Plp+_Malat1+' "
   ]
  },
  {
   "cell_type": "markdown",
   "id": "ff8d62e9-0f4a-4531-96be-6a414cd7e8c0",
   "metadata": {
    "tags": []
   },
   "source": [
    "### Malat1-"
   ]
  },
  {
   "cell_type": "code",
   "execution_count": null,
   "id": "d0819391-8440-4de1-887f-de626305b1f3",
   "metadata": {},
   "outputs": [],
   "source": [
    "df = sc.get.rank_genes_groups_df(adata_comparison, \n",
    "                           key = 'level_5_Snap25_Central_Plp1-_Mbp-Plp+', \n",
    "                           group = 'cluster_1')\n",
    "\n",
    "df.loc[(df['pvals_adj'] < 0.01) & (df['pct_nz_group'] > 0.2)].sort_values('logfoldchanges', ascending=False).iloc[:20]"
   ]
  },
  {
   "cell_type": "code",
   "execution_count": null,
   "id": "b51a3af8-c70c-4674-aa78-915af296e1df",
   "metadata": {
    "tags": []
   },
   "outputs": [],
   "source": [
    "adata.obs.loc[adata.obs['comparison'].str.contains('^cluster_1'), 'cell_type'] = 'Snap25_Central_Plp1-_Mbp-Plp+_Malat1-' "
   ]
  },
  {
   "cell_type": "markdown",
   "id": "9df9c69b-3298-48e0-bfef-48deb427e03f",
   "metadata": {
    "jp-MarkdownHeadingCollapsed": true,
    "tags": []
   },
   "source": [
    "# Level 6: Snap25_Central_Plp1-_Mbp-Plp+_Malat1+"
   ]
  },
  {
   "cell_type": "code",
   "execution_count": null,
   "id": "d43ec209-a4f3-48fd-8ed5-ba28e63dd7a8",
   "metadata": {},
   "outputs": [],
   "source": [
    "set(['_'.join(x.split('_')[:7]) for x in adata[adata.obs['cell_type'] == 'Snap25_Central_Plp1-_Mbp-Plp+_Malat1+'].obs['current_leiden'].unique().tolist()])"
   ]
  },
  {
   "cell_type": "code",
   "execution_count": null,
   "id": "d8fdb9bd-caed-4beb-afdc-a8963421cf30",
   "metadata": {},
   "outputs": [],
   "source": [
    "adata.obs['comparison'] = 'ignore'\n",
    "adata.obs.loc[adata.obs['current_leiden'].str.contains('^s_2_2_1_0_0_1'), 'comparison'] = 'cluster_1'\n",
    "adata.obs.loc[adata.obs['current_leiden'].str.contains('^s_2_2_1_0_0_FINAL'), 'comparison'] = 'cluster_0'\n",
    "adata.obs.groupby(['comparison']).size()"
   ]
  },
  {
   "cell_type": "code",
   "execution_count": null,
   "id": "4970f4ad-a86e-43cb-954c-493ea6dc6888",
   "metadata": {},
   "outputs": [],
   "source": [
    "adata_comparison = adata[adata.obs['comparison'] != 'ignore'].copy()\n",
    "adata_comparison.layers['count'] = adata_comparison.X.copy()\n",
    "sc.pp.normalize_total(adata_comparison, target_sum=1e4)\n",
    "if 'log1p' in adata_comparison.uns.keys(): \n",
    "        del adata_comparison.uns['log1p']\n",
    "sc.pp.log1p(adata_comparison)\n",
    "adata_comparison.layers['lognorm'] = adata_comparison.X.copy()\n",
    "adata_comparison.X = adata_comparison.layers['count'].copy()\n",
    "sc.tl.rank_genes_groups(adata_comparison, \n",
    "                        groupby='comparison', \n",
    "                        use_raw=False,\n",
    "                        layer='lognorm', \n",
    "                        method='wilcoxon', \n",
    "                        rankby_abs=True,\n",
    "                        pts=True, \n",
    "                        key_added='level_6_Snap25_Central_Plp1-_Mbp-Plp+_Malat1+')"
   ]
  },
  {
   "cell_type": "code",
   "execution_count": null,
   "id": "04da5170-8c51-4361-866c-1a296e7e2cda",
   "metadata": {},
   "outputs": [],
   "source": [
    "sc.pl.violin(adata_comparison, keys=['pct_counts_mt', 'pct_counts_in_top_100_genes', 'n_genes_by_counts', 'Plp1', 'Malat1', 'Meg3'], groupby='comparison')"
   ]
  },
  {
   "cell_type": "code",
   "execution_count": null,
   "id": "e6351739-6502-441d-b5db-b2207eb7b92c",
   "metadata": {},
   "outputs": [],
   "source": [
    "\n",
    "fig, axs = plt.subplots(nrows=adata_comparison.obs['comparison'].unique().shape[0], ncols=7, figsize=(35, 10))\n",
    "for row, cluster in enumerate(adata_comparison.obs['comparison'].unique()):\n",
    "    for col, section in enumerate(adata_comparison.obs.sample_id.unique()):\n",
    "        sc.pl.spatial(adata_comparison[adata_comparison.obs['sample_id'] == section].copy(), \n",
    "                     spot_size=25, \n",
    "                      size = 5,\n",
    "                      groups = cluster,\n",
    "                     color = 'comparison', \n",
    "                     ax=axs[row, col], \n",
    "                     show=False)\n",
    "        "
   ]
  },
  {
   "cell_type": "markdown",
   "id": "4e58cd03-aadd-40d0-87ec-d7909bf036e5",
   "metadata": {
    "tags": []
   },
   "source": [
    "### Astrocyte-associated"
   ]
  },
  {
   "cell_type": "code",
   "execution_count": null,
   "id": "f853b938-e04f-4107-941e-922d9c00fe69",
   "metadata": {},
   "outputs": [],
   "source": [
    "sc.get.rank_genes_groups_df(adata_comparison, \n",
    "                           key = 'level_6_Snap25_Central_Plp1-_Mbp-Plp+_Malat1+', \n",
    "                           group = 'cluster_0').iloc[:10]"
   ]
  },
  {
   "cell_type": "code",
   "execution_count": null,
   "id": "592fb1b1-68ac-452f-aaba-4a482b3fc619",
   "metadata": {},
   "outputs": [],
   "source": [
    "df = sc.get.rank_genes_groups_df(adata_comparison, \n",
    "                           key = 'level_6_Snap25_Central_Plp1-_Mbp-Plp+_Malat1+', \n",
    "                           group = 'cluster_0')\n",
    "\n",
    "df.loc[(df['pvals_adj'] < 0.01) & (df['pct_nz_group'] > 0.2)].sort_values('logfoldchanges', ascending=False).iloc[:20]"
   ]
  },
  {
   "cell_type": "code",
   "execution_count": null,
   "id": "79acac49-aecf-48e7-b9cc-e19ec5bfba76",
   "metadata": {
    "tags": []
   },
   "outputs": [],
   "source": [
    "adata.obs.loc[adata.obs['comparison'].str.contains('^cluster_0'), 'cell_type'] = 'Snap25_Central_Plp1-_Mbp-Plp+_Malat1+_Astrocyte-associated' "
   ]
  },
  {
   "cell_type": "markdown",
   "id": "c267504f-c51e-4a5f-9d4b-231e0007b402",
   "metadata": {
    "tags": []
   },
   "source": [
    "### General"
   ]
  },
  {
   "cell_type": "code",
   "execution_count": null,
   "id": "2cefb8c0-1a22-46d3-bc0e-e55736425261",
   "metadata": {},
   "outputs": [],
   "source": [
    "sc.get.rank_genes_groups_df(adata_comparison, \n",
    "                           key = 'level_6_Snap25_Central_Plp1-_Mbp-Plp+_Malat1+', \n",
    "                           group = 'cluster_1').iloc[:20]"
   ]
  },
  {
   "cell_type": "code",
   "execution_count": null,
   "id": "01d37301-168b-49f4-9426-4c5b1a912a7d",
   "metadata": {},
   "outputs": [],
   "source": [
    "df = sc.get.rank_genes_groups_df(adata_comparison, \n",
    "                           key = 'level_6_Snap25_Central_Plp1-_Mbp-Plp+_Malat1+', \n",
    "                           group = 'cluster_1')\n",
    "\n",
    "df.loc[(df['pvals_adj'] < 0.01) & (df['pct_nz_group'] > 0.2)].sort_values('logfoldchanges', ascending=False).iloc[:20]"
   ]
  },
  {
   "cell_type": "code",
   "execution_count": null,
   "id": "7656fd43-1ea3-4239-a39e-e44b12f8949a",
   "metadata": {
    "tags": []
   },
   "outputs": [],
   "source": [
    "adata.obs.loc[adata.obs['comparison'].str.contains('^cluster_1'), 'cell_type'] = 'Snap25_Central_Plp1-_Mbp-Plp+_Malat1+_General' "
   ]
  },
  {
   "cell_type": "markdown",
   "id": "5a98c072-b87e-43c9-b0db-a323e188ab0c",
   "metadata": {
    "jp-MarkdownHeadingCollapsed": true,
    "tags": []
   },
   "source": [
    "# Level 7: Snap25_Central_Plp1-_Mbp-Plp+_Malat1+_General"
   ]
  },
  {
   "cell_type": "code",
   "execution_count": null,
   "id": "25adb089-7a9d-48ab-a959-611fe760a811",
   "metadata": {},
   "outputs": [],
   "source": [
    "set(['_'.join(x.split('_')[:8]) for x in adata[adata.obs['cell_type'] == 'Snap25_Central_Plp1-_Mbp-Plp+_Malat1+_General'].obs['current_leiden'].unique().tolist()])"
   ]
  },
  {
   "cell_type": "code",
   "execution_count": null,
   "id": "e8641d96-2d9c-4023-83ef-8c6e758ab80b",
   "metadata": {},
   "outputs": [],
   "source": [
    "adata.obs['comparison'] = 'ignore'\n",
    "adata.obs.loc[adata.obs['current_leiden'].str.contains('^s_2_2_1_0_0_1_1'), 'comparison'] = 'cluster_1'\n",
    "adata.obs.loc[adata.obs['current_leiden'].str.contains('^s_2_2_1_0_0_1_FINAL'), 'comparison'] = 'cluster_0'\n",
    "adata.obs.groupby(['comparison']).size()"
   ]
  },
  {
   "cell_type": "code",
   "execution_count": null,
   "id": "474b59c7-8624-4d2d-b3d8-87eb3702bc43",
   "metadata": {},
   "outputs": [],
   "source": [
    "adata_comparison = adata[adata.obs['comparison'] != 'ignore'].copy()\n",
    "adata_comparison.layers['count'] = adata_comparison.X.copy()\n",
    "sc.pp.normalize_total(adata_comparison, target_sum=1e4)\n",
    "if 'log1p' in adata_comparison.uns.keys(): \n",
    "        del adata_comparison.uns['log1p']\n",
    "sc.pp.log1p(adata_comparison)\n",
    "adata_comparison.layers['lognorm'] = adata_comparison.X.copy()\n",
    "adata_comparison.X = adata_comparison.layers['count'].copy()\n",
    "sc.tl.rank_genes_groups(adata_comparison, \n",
    "                        groupby='comparison', \n",
    "                        use_raw=False,\n",
    "                        layer='lognorm', \n",
    "                        method='wilcoxon', \n",
    "                        rankby_abs=True,\n",
    "                        pts=True, \n",
    "                        key_added='level_7_Snap25_Central_Plp1-_Mbp-Plp+_Malat1+_General')"
   ]
  },
  {
   "cell_type": "code",
   "execution_count": null,
   "id": "561fc5fb-6c91-412d-93ca-42c7b3a388b5",
   "metadata": {},
   "outputs": [],
   "source": [
    "sc.pl.violin(adata_comparison, keys=['pct_counts_mt', 'pct_counts_in_top_100_genes', 'n_genes_by_counts', 'Plp1', 'Malat1'], groupby='comparison')"
   ]
  },
  {
   "cell_type": "code",
   "execution_count": null,
   "id": "fa0d11bb-3551-49ce-b1f8-7d33d9d1c9b2",
   "metadata": {},
   "outputs": [],
   "source": [
    "\n",
    "fig, axs = plt.subplots(nrows=adata_comparison.obs['comparison'].unique().shape[0], ncols=7, figsize=(35, 10))\n",
    "for row, cluster in enumerate(adata_comparison.obs['comparison'].unique()):\n",
    "    for col, section in enumerate(adata_comparison.obs.sample_id.unique()):\n",
    "        sc.pl.spatial(adata_comparison[adata_comparison.obs['sample_id'] == section].copy(), \n",
    "                     spot_size=25, \n",
    "                      size = 5,\n",
    "                      groups = cluster,\n",
    "                     color = 'comparison', \n",
    "                     ax=axs[row, col], \n",
    "                     show=False)\n",
    "        "
   ]
  },
  {
   "cell_type": "markdown",
   "id": "5de9214e-adb5-4319-b333-e5711c738061",
   "metadata": {
    "tags": []
   },
   "source": [
    "### Cntn5+"
   ]
  },
  {
   "cell_type": "code",
   "execution_count": null,
   "id": "2064c0a5-9d3d-4d07-b4a1-a2a40a1d5741",
   "metadata": {},
   "outputs": [],
   "source": [
    "sc.get.rank_genes_groups_df(adata_comparison, \n",
    "                           key = 'level_7_Snap25_Central_Plp1-_Mbp-Plp+_Malat1+_General', \n",
    "                           group = 'cluster_0').iloc[:10]"
   ]
  },
  {
   "cell_type": "code",
   "execution_count": null,
   "id": "b5f285ce-dc4b-44b8-bf8d-5721a55f3752",
   "metadata": {},
   "outputs": [],
   "source": [
    "df = sc.get.rank_genes_groups_df(adata_comparison, \n",
    "                           key = 'level_7_Snap25_Central_Plp1-_Mbp-Plp+_Malat1+_General', \n",
    "                           group = 'cluster_0')\n",
    "\n",
    "df.loc[(df['pvals_adj'] < 0.01) & (df['pct_nz_group'] > 0.2)].sort_values('logfoldchanges', ascending=False).iloc[:20]"
   ]
  },
  {
   "cell_type": "code",
   "execution_count": null,
   "id": "1ffc07ff-26dd-4734-af0e-c68f2656acd5",
   "metadata": {
    "tags": []
   },
   "outputs": [],
   "source": [
    "adata.obs.loc[adata.obs['comparison'].str.contains('^cluster_0'), 'cell_type'] = 'Snap25_Central_Plp1-_Mbp-Plp+_Malat1+_General_Cntn5+' "
   ]
  },
  {
   "cell_type": "markdown",
   "id": "f8b44fdf-383d-4b72-8659-46770ba11e21",
   "metadata": {
    "tags": []
   },
   "source": [
    "### General"
   ]
  },
  {
   "cell_type": "code",
   "execution_count": null,
   "id": "03f05fc1-db60-4429-9e1a-efe109097fea",
   "metadata": {},
   "outputs": [],
   "source": [
    "sc.get.rank_genes_groups_df(adata_comparison, \n",
    "                           key = 'level_7_Snap25_Central_Plp1-_Mbp-Plp+_Malat1+_General', \n",
    "                           group = 'cluster_1').iloc[:20]"
   ]
  },
  {
   "cell_type": "code",
   "execution_count": null,
   "id": "34255da1-c69b-4a7d-9162-9d8f30e6ffba",
   "metadata": {},
   "outputs": [],
   "source": [
    "df = sc.get.rank_genes_groups_df(adata_comparison, \n",
    "                           key = 'level_7_Snap25_Central_Plp1-_Mbp-Plp+_Malat1+_General', \n",
    "                           group = 'cluster_1')\n",
    "\n",
    "df.loc[(df['pvals_adj'] < 0.01) & (df['pct_nz_group'] > 0.2)].sort_values('logfoldchanges', ascending=False).iloc[:20]"
   ]
  },
  {
   "cell_type": "code",
   "execution_count": null,
   "id": "d8dd8e4f-4e7d-47fc-a0d7-d90e646ea9ad",
   "metadata": {
    "tags": []
   },
   "outputs": [],
   "source": [
    "adata.obs.loc[adata.obs['comparison'].str.contains('^cluster_1'), 'cell_type'] = 'Snap25_Central_Plp1-_Mbp-Plp+_Malat1+_General_General' "
   ]
  },
  {
   "cell_type": "markdown",
   "id": "5d0e53e6-0dd5-402f-b8ba-6dcdb39281a5",
   "metadata": {
    "jp-MarkdownHeadingCollapsed": true,
    "tags": []
   },
   "source": [
    "# Level 8: Snap25_Central_Plp1-_Mbp-Plp+_Malat1+_General_General"
   ]
  },
  {
   "cell_type": "code",
   "execution_count": null,
   "id": "e83c5814-a236-4a07-8665-370d4537e435",
   "metadata": {},
   "outputs": [],
   "source": [
    "set(['_'.join(x.split('_')[:9]) for x in adata[adata.obs['cell_type'] == 'Snap25_Central_Plp1-_Mbp-Plp+_Malat1+_General_General'].obs['current_leiden'].unique().tolist()])"
   ]
  },
  {
   "cell_type": "code",
   "execution_count": null,
   "id": "8cebb4a4-be3d-4214-9415-a1b44768a545",
   "metadata": {},
   "outputs": [],
   "source": [
    "adata.obs['comparison'] = 'ignore'\n",
    "adata.obs.loc[adata.obs['current_leiden'].str.contains('^s_2_2_1_0_0_1_1_1'), 'comparison'] = 'cluster_1'\n",
    "adata.obs.loc[adata.obs['current_leiden'].str.contains('^s_2_2_1_0_0_1_1_0'), 'comparison'] = 'cluster_0'\n",
    "adata.obs.groupby(['comparison']).size()"
   ]
  },
  {
   "cell_type": "code",
   "execution_count": null,
   "id": "69291e2c-3cb0-4728-b1f5-80378161a09b",
   "metadata": {},
   "outputs": [],
   "source": [
    "adata_comparison = adata[adata.obs['comparison'] != 'ignore'].copy()\n",
    "adata_comparison.layers['count'] = adata_comparison.X.copy()\n",
    "sc.pp.normalize_total(adata_comparison, target_sum=1e4)\n",
    "if 'log1p' in adata_comparison.uns.keys(): \n",
    "        del adata_comparison.uns['log1p']\n",
    "sc.pp.log1p(adata_comparison)\n",
    "adata_comparison.layers['lognorm'] = adata_comparison.X.copy()\n",
    "adata_comparison.X = adata_comparison.layers['count'].copy()\n",
    "sc.tl.rank_genes_groups(adata_comparison, \n",
    "                        groupby='comparison', \n",
    "                        use_raw=False,\n",
    "                        layer='lognorm', \n",
    "                        method='wilcoxon', \n",
    "                        rankby_abs=True,\n",
    "                        pts=True, \n",
    "                        key_added='level_8_Snap25_Central_Plp1-_Mbp-Plp+_Malat1+_General_General')"
   ]
  },
  {
   "cell_type": "code",
   "execution_count": null,
   "id": "f5edfec0-2b69-41e2-a196-df30b9b90df3",
   "metadata": {},
   "outputs": [],
   "source": [
    "sc.pl.violin(adata_comparison, keys=['pct_counts_mt', 'pct_counts_in_top_100_genes', 'n_genes_by_counts', 'Plp1', 'Malat1'], groupby='comparison')"
   ]
  },
  {
   "cell_type": "code",
   "execution_count": null,
   "id": "b4f67983-8438-4a19-a598-253193caad09",
   "metadata": {},
   "outputs": [],
   "source": [
    "\n",
    "fig, axs = plt.subplots(nrows=adata_comparison.obs['comparison'].unique().shape[0], ncols=7, figsize=(35, 10))\n",
    "for row, cluster in enumerate(adata_comparison.obs['comparison'].unique()):\n",
    "    for col, section in enumerate(adata_comparison.obs.sample_id.unique()):\n",
    "        sc.pl.spatial(adata_comparison[adata_comparison.obs['sample_id'] == section].copy(), \n",
    "                     spot_size=25, \n",
    "                      size = 5,\n",
    "                      groups = cluster,\n",
    "                     color = 'comparison', \n",
    "                     ax=axs[row, col], \n",
    "                     show=False)\n",
    "        "
   ]
  },
  {
   "cell_type": "markdown",
   "id": "c3fd079a-2dee-490f-809d-386d651809b2",
   "metadata": {
    "tags": []
   },
   "source": [
    "### Plp1+++"
   ]
  },
  {
   "cell_type": "code",
   "execution_count": null,
   "id": "eeda79d5-a16b-4e3b-92f4-97569575a1fe",
   "metadata": {},
   "outputs": [],
   "source": [
    "sc.get.rank_genes_groups_df(adata_comparison, \n",
    "                           key = 'level_8_Snap25_Central_Plp1-_Mbp-Plp+_Malat1+_General_General', \n",
    "                           group = 'cluster_0').iloc[:10]"
   ]
  },
  {
   "cell_type": "code",
   "execution_count": null,
   "id": "7224c726-9cc4-4d2c-85aa-13cd81272283",
   "metadata": {},
   "outputs": [],
   "source": [
    "df = sc.get.rank_genes_groups_df(adata_comparison, \n",
    "                           key = 'level_8_Snap25_Central_Plp1-_Mbp-Plp+_Malat1+_General_General', \n",
    "                           group = 'cluster_0')\n",
    "\n",
    "df.loc[(df['pvals_adj'] < 0.01) & (df['pct_nz_group'] > 0.2)].sort_values('logfoldchanges', ascending=False).iloc[:20]"
   ]
  },
  {
   "cell_type": "code",
   "execution_count": null,
   "id": "39c17a3a-9c92-4e46-9e04-8d352b680bc8",
   "metadata": {
    "tags": []
   },
   "outputs": [],
   "source": [
    "adata.obs.loc[adata.obs['comparison'].str.contains('^cluster_0'), 'cell_type'] = 'Snap25_Central_Plp1-_Mbp-Plp+_Malat1+_General_General_Plp1+++' "
   ]
  },
  {
   "cell_type": "markdown",
   "id": "e2b9e3c3-e869-4918-9285-52281384da83",
   "metadata": {
    "tags": []
   },
   "source": [
    "### General"
   ]
  },
  {
   "cell_type": "code",
   "execution_count": null,
   "id": "48f4944d-c034-4f4a-8a95-938b9c9dd0a2",
   "metadata": {},
   "outputs": [],
   "source": [
    "sc.get.rank_genes_groups_df(adata_comparison, \n",
    "                           key = 'level_8_Snap25_Central_Plp1-_Mbp-Plp+_Malat1+_General_General', \n",
    "                           group = 'cluster_1').iloc[:20]"
   ]
  },
  {
   "cell_type": "code",
   "execution_count": null,
   "id": "f2512572-ef4b-4c1e-baad-98517d750074",
   "metadata": {},
   "outputs": [],
   "source": [
    "df = sc.get.rank_genes_groups_df(adata_comparison, \n",
    "                           key = 'level_8_Snap25_Central_Plp1-_Mbp-Plp+_Malat1+_General_General', \n",
    "                           group = 'cluster_1')\n",
    "\n",
    "df.loc[(df['pvals_adj'] < 0.01) & (df['pct_nz_group'] > 0.2)].sort_values('logfoldchanges', ascending=False).iloc[:20]"
   ]
  },
  {
   "cell_type": "code",
   "execution_count": null,
   "id": "7730d2ee-7383-40c0-861e-ff4d2b1b338d",
   "metadata": {
    "tags": []
   },
   "outputs": [],
   "source": [
    "adata.obs.loc[adata.obs['comparison'].str.contains('^cluster_1'), 'cell_type'] = 'Snap25_Central_Plp1-_Mbp-Plp+_Malat1+_General_General_General' "
   ]
  },
  {
   "cell_type": "markdown",
   "id": "50e84aa5-6f86-4af7-91ea-e42f4886da9b",
   "metadata": {
    "jp-MarkdownHeadingCollapsed": true,
    "tags": []
   },
   "source": [
    "# Level 9: Snap25_Central_Plp1-_Mbp-Plp+_Malat1+_General_General_General"
   ]
  },
  {
   "cell_type": "code",
   "execution_count": null,
   "id": "f3f5ebf7-1395-4fcc-81d4-4b5d471cf6af",
   "metadata": {},
   "outputs": [],
   "source": [
    "set(['_'.join(x.split('_')[:10]) for x in adata[adata.obs['cell_type'] == 'Snap25_Central_Plp1-_Mbp-Plp+_Malat1+_General_General_General'].obs['current_leiden'].unique().tolist()])"
   ]
  },
  {
   "cell_type": "code",
   "execution_count": null,
   "id": "948a4078-eeb9-4439-8492-6c4685b29f68",
   "metadata": {},
   "outputs": [],
   "source": [
    "adata.obs['comparison'] = 'ignore'\n",
    "adata.obs.loc[adata.obs['current_leiden'].str.contains('^s_2_2_1_0_0_1_1_1_1'), 'comparison'] = 'cluster_1'\n",
    "adata.obs.loc[adata.obs['current_leiden'].str.contains('^s_2_2_1_0_0_1_1_1_FINAL'), 'comparison'] = 'cluster_0'\n",
    "adata.obs.groupby(['comparison']).size()"
   ]
  },
  {
   "cell_type": "code",
   "execution_count": null,
   "id": "2d8deaf1-d5f3-4427-b427-ad107594bac1",
   "metadata": {},
   "outputs": [],
   "source": [
    "adata_comparison = adata[adata.obs['comparison'] != 'ignore'].copy()\n",
    "adata_comparison.layers['count'] = adata_comparison.X.copy()\n",
    "sc.pp.normalize_total(adata_comparison, target_sum=1e4)\n",
    "if 'log1p' in adata_comparison.uns.keys(): \n",
    "        del adata_comparison.uns['log1p']\n",
    "sc.pp.log1p(adata_comparison)\n",
    "adata_comparison.layers['lognorm'] = adata_comparison.X.copy()\n",
    "adata_comparison.X = adata_comparison.layers['count'].copy()\n",
    "sc.tl.rank_genes_groups(adata_comparison, \n",
    "                        groupby='comparison', \n",
    "                        use_raw=False,\n",
    "                        layer='lognorm', \n",
    "                        method='wilcoxon', \n",
    "                        rankby_abs=True,\n",
    "                        pts=True, \n",
    "                        key_added='level_9_Snap25_Central_Plp1-_Mbp-Plp+_Malat1+_General_General_General')"
   ]
  },
  {
   "cell_type": "code",
   "execution_count": null,
   "id": "6ba6f435-c59b-4508-929b-75c743bf0f4c",
   "metadata": {},
   "outputs": [],
   "source": [
    "sc.pl.violin(adata_comparison, keys=['pct_counts_mt', 'pct_counts_in_top_100_genes', 'n_genes_by_counts', 'Plp1', 'Malat1', 'Pvalb'], groupby='comparison')"
   ]
  },
  {
   "cell_type": "code",
   "execution_count": null,
   "id": "cb02ef5a-c2a3-45a4-b495-c871b277a55e",
   "metadata": {},
   "outputs": [],
   "source": [
    "\n",
    "fig, axs = plt.subplots(nrows=adata_comparison.obs['comparison'].unique().shape[0], ncols=7, figsize=(35, 10))\n",
    "for row, cluster in enumerate(adata_comparison.obs['comparison'].unique()):\n",
    "    for col, section in enumerate(adata_comparison.obs.sample_id.unique()):\n",
    "        sc.pl.spatial(adata_comparison[adata_comparison.obs['sample_id'] == section].copy(), \n",
    "                     spot_size=25, \n",
    "                      size = 5,\n",
    "                      groups = cluster,\n",
    "                     color = 'comparison', \n",
    "                     ax=axs[row, col], \n",
    "                     show=False)\n",
    "        "
   ]
  },
  {
   "cell_type": "markdown",
   "id": "7d2fe5d9-fb9b-4535-a97a-a1249bf2e598",
   "metadata": {
    "tags": []
   },
   "source": [
    "### Pvalb+ Ventral"
   ]
  },
  {
   "cell_type": "code",
   "execution_count": null,
   "id": "8ad88669-519f-4ef0-a2e4-3ac5b4f013cb",
   "metadata": {},
   "outputs": [],
   "source": [
    "sc.get.rank_genes_groups_df(adata_comparison, \n",
    "                           key = 'level_9_Snap25_Central_Plp1-_Mbp-Plp+_Malat1+_General_General_General', \n",
    "                           group = 'cluster_0').iloc[:10]"
   ]
  },
  {
   "cell_type": "code",
   "execution_count": null,
   "id": "795447dd-8c75-4f5b-ac6a-4ae248cc8a90",
   "metadata": {},
   "outputs": [],
   "source": [
    "df = sc.get.rank_genes_groups_df(adata_comparison, \n",
    "                           key = 'level_9_Snap25_Central_Plp1-_Mbp-Plp+_Malat1+_General_General_General', \n",
    "                           group = 'cluster_0')\n",
    "\n",
    "df.loc[(df['pvals_adj'] < 0.01) & (df['pct_nz_group'] > 0.2)].sort_values('logfoldchanges', ascending=False).iloc[:20]"
   ]
  },
  {
   "cell_type": "code",
   "execution_count": null,
   "id": "d29e82c8-6c8e-49a2-82af-b16f32dad71f",
   "metadata": {
    "tags": []
   },
   "outputs": [],
   "source": [
    "adata.obs.loc[adata.obs['comparison'].str.contains('^cluster_0'), 'cell_type'] = 'Snap25_Central_Plp1-_Mbp-Plp+_Malat1+_General_General_General_Ventral-Pvalb+' "
   ]
  },
  {
   "cell_type": "markdown",
   "id": "803f990a-7939-433f-849c-b49fbe520880",
   "metadata": {
    "tags": []
   },
   "source": [
    "### General"
   ]
  },
  {
   "cell_type": "code",
   "execution_count": null,
   "id": "855ec6d4-7c68-42b3-9c36-f95b0f2da8aa",
   "metadata": {},
   "outputs": [],
   "source": [
    "sc.get.rank_genes_groups_df(adata_comparison, \n",
    "                           key = 'level_9_Snap25_Central_Plp1-_Mbp-Plp+_Malat1+_General_General_General', \n",
    "                           group = 'cluster_1').iloc[:20]"
   ]
  },
  {
   "cell_type": "code",
   "execution_count": null,
   "id": "1ffe6b67-0171-466e-af5c-a6c10e2f866d",
   "metadata": {},
   "outputs": [],
   "source": [
    "df = sc.get.rank_genes_groups_df(adata_comparison, \n",
    "                           key = 'level_9_Snap25_Central_Plp1-_Mbp-Plp+_Malat1+_General_General_General', \n",
    "                           group = 'cluster_1')\n",
    "\n",
    "df.loc[(df['pvals_adj'] < 0.01) & (df['pct_nz_group'] > 0.2)].sort_values('logfoldchanges', ascending=False).iloc[:20]"
   ]
  },
  {
   "cell_type": "code",
   "execution_count": null,
   "id": "507e50cf-a39c-4997-aa29-48e8bd3be360",
   "metadata": {
    "tags": []
   },
   "outputs": [],
   "source": [
    "adata.obs.loc[adata.obs['comparison'].str.contains('^cluster_1'), 'cell_type'] = 'Snap25_Central_Plp1-_Mbp-Plp+_Malat1+_General_General_General_General' "
   ]
  },
  {
   "cell_type": "markdown",
   "id": "788a8974-7496-45c3-9d20-19f5cd2f3024",
   "metadata": {
    "jp-MarkdownHeadingCollapsed": true,
    "tags": []
   },
   "source": [
    "# Level 10: Snap25_Central_Plp1-_Mbp-Plp+_Malat1+_General_General_General_General"
   ]
  },
  {
   "cell_type": "code",
   "execution_count": null,
   "id": "289f70d4-17d1-40a5-ad12-06f68d16c4cd",
   "metadata": {},
   "outputs": [],
   "source": [
    "set(['_'.join(x.split('_')[:11]) for x in adata[adata.obs['cell_type'] == 'Snap25_Central_Plp1-_Mbp-Plp+_Malat1+_General_General_General_General'].obs['current_leiden'].unique().tolist()])"
   ]
  },
  {
   "cell_type": "code",
   "execution_count": null,
   "id": "e35fe5cc-0ee6-41e7-8189-0025c8f3efdd",
   "metadata": {},
   "outputs": [],
   "source": [
    "adata.obs['comparison'] = 'ignore'\n",
    "adata.obs.loc[adata.obs['current_leiden'].str.contains('^s_2_2_1_0_0_1_1_1_1_1'), 'comparison'] = 'cluster_2'\n",
    "adata.obs.loc[adata.obs['current_leiden'].str.contains('^s_2_2_1_0_0_1_1_1_1_0'), 'comparison'] = 'cluster_1'\n",
    "adata.obs.loc[adata.obs['current_leiden'].str.contains('^s_2_2_1_0_0_1_1_1_1_FINAL'), 'comparison'] = 'cluster_0'\n",
    "adata.obs.groupby(['comparison']).size()"
   ]
  },
  {
   "cell_type": "code",
   "execution_count": null,
   "id": "979e3f1e-d670-4e7b-947b-469eba443fe5",
   "metadata": {},
   "outputs": [],
   "source": [
    "adata_comparison = adata[adata.obs['comparison'] != 'ignore'].copy()\n",
    "adata_comparison.layers['count'] = adata_comparison.X.copy()\n",
    "sc.pp.normalize_total(adata_comparison, target_sum=1e4)\n",
    "if 'log1p' in adata_comparison.uns.keys(): \n",
    "        del adata_comparison.uns['log1p']\n",
    "sc.pp.log1p(adata_comparison)\n",
    "adata_comparison.layers['lognorm'] = adata_comparison.X.copy()\n",
    "adata_comparison.X = adata_comparison.layers['count'].copy()\n",
    "sc.tl.rank_genes_groups(adata_comparison, \n",
    "                        groupby='comparison', \n",
    "                        use_raw=False,\n",
    "                        layer='lognorm', \n",
    "                        method='wilcoxon', \n",
    "                        rankby_abs=True,\n",
    "                        pts=True, \n",
    "                        key_added='level_10_Snap25_Central_Plp1-_Mbp-Plp+_Malat1+_General_General_General_General')"
   ]
  },
  {
   "cell_type": "code",
   "execution_count": null,
   "id": "a874448f-c1eb-4bf2-b7e8-a376cfef21dd",
   "metadata": {},
   "outputs": [],
   "source": [
    "sc.pl.violin(adata_comparison, keys=['pct_counts_mt', 'pct_counts_in_top_100_genes', 'n_genes_by_counts', 'Plp1', 'Malat1', 'Gad1', 'Cntnap2'], groupby='comparison')"
   ]
  },
  {
   "cell_type": "code",
   "execution_count": null,
   "id": "95dcf0d2-eba5-4120-9eb5-db6de6dd6835",
   "metadata": {},
   "outputs": [],
   "source": [
    "\n",
    "fig, axs = plt.subplots(nrows=adata_comparison.obs['comparison'].unique().shape[0], ncols=7, figsize=(35, 15))\n",
    "for row, cluster in enumerate(adata_comparison.obs['comparison'].unique()):\n",
    "    for col, section in enumerate(adata_comparison.obs.sample_id.unique()):\n",
    "        sc.pl.spatial(adata_comparison[adata_comparison.obs['sample_id'] == section].copy(), \n",
    "                     spot_size=25, \n",
    "                      size = 5,\n",
    "                      groups = cluster,\n",
    "                     color = 'comparison', \n",
    "                     ax=axs[row, col], \n",
    "                     show=False)\n",
    "        "
   ]
  },
  {
   "cell_type": "markdown",
   "id": "08b391e5-da37-48f6-8c5c-7904c3c91d24",
   "metadata": {
    "tags": []
   },
   "source": [
    "### Superior Colliculus GABAergic"
   ]
  },
  {
   "cell_type": "code",
   "execution_count": null,
   "id": "1f564494-a263-4951-bb56-e74c62e4bbe1",
   "metadata": {},
   "outputs": [],
   "source": [
    "sc.get.rank_genes_groups_df(adata_comparison, \n",
    "                           key = 'level_10_Snap25_Central_Plp1-_Mbp-Plp+_Malat1+_General_General_General_General', \n",
    "                           group = 'cluster_0').iloc[:20]"
   ]
  },
  {
   "cell_type": "code",
   "execution_count": null,
   "id": "658a34da-396b-4bf1-ad8f-2a3f2dfd0e03",
   "metadata": {},
   "outputs": [],
   "source": [
    "df = sc.get.rank_genes_groups_df(adata_comparison, \n",
    "                           key = 'level_10_Snap25_Central_Plp1-_Mbp-Plp+_Malat1+_General_General_General_General', \n",
    "                           group = 'cluster_0')\n",
    "\n",
    "df.loc[(df['pvals_adj'] < 0.01) & (df['pct_nz_group'] > 0.2)].sort_values('logfoldchanges', ascending=False).iloc[:20]"
   ]
  },
  {
   "cell_type": "code",
   "execution_count": null,
   "id": "c5ddc4e8-06be-492a-937c-56e13ea50e47",
   "metadata": {
    "tags": []
   },
   "outputs": [],
   "source": [
    "adata.obs.loc[adata.obs['comparison'].str.contains('^cluster_0'), 'cell_type'] = 'Snap25_Central_Plp1-_Mbp-Plp+_Malat1+_General_General_General_General_SupColl-GABAergic' "
   ]
  },
  {
   "cell_type": "markdown",
   "id": "ff2fc815-da4e-471d-b2ef-80e1c58c1c7a",
   "metadata": {
    "tags": []
   },
   "source": [
    "### General"
   ]
  },
  {
   "cell_type": "code",
   "execution_count": null,
   "id": "b428caf0-6852-41df-83b9-5e2de73dd84e",
   "metadata": {},
   "outputs": [],
   "source": [
    "sc.get.rank_genes_groups_df(adata_comparison, \n",
    "                           key = 'level_10_Snap25_Central_Plp1-_Mbp-Plp+_Malat1+_General_General_General_General', \n",
    "                           group = 'cluster_1').iloc[:20]"
   ]
  },
  {
   "cell_type": "code",
   "execution_count": null,
   "id": "afef1711-92f3-4f49-9a32-f8cf5ef5b51f",
   "metadata": {},
   "outputs": [],
   "source": [
    "df = sc.get.rank_genes_groups_df(adata_comparison, \n",
    "                           key = 'level_10_Snap25_Central_Plp1-_Mbp-Plp+_Malat1+_General_General_General_General', \n",
    "                           group = 'cluster_1')\n",
    "\n",
    "df.loc[(df['pvals_adj'] < 0.01) & (df['pct_nz_group'] > 0.2)].sort_values('logfoldchanges', ascending=False).iloc[:20]"
   ]
  },
  {
   "cell_type": "code",
   "execution_count": null,
   "id": "9d18d231-6b05-47d5-a45f-38aed04b9458",
   "metadata": {
    "tags": []
   },
   "outputs": [],
   "source": [
    "adata.obs.loc[adata.obs['comparison'].str.contains('^cluster_1'), 'cell_type'] = 'Snap25_Central_Plp1-_Mbp-Plp+_Malat1+_General_General_General_General_General' "
   ]
  },
  {
   "cell_type": "markdown",
   "id": "aea27a0c-3e46-4a3b-8b73-75b91925eb97",
   "metadata": {
    "tags": []
   },
   "source": [
    "### Cntnap2+"
   ]
  },
  {
   "cell_type": "code",
   "execution_count": null,
   "id": "c2930c5b-c06d-4a9a-854c-364dbe45174e",
   "metadata": {},
   "outputs": [],
   "source": [
    "sc.get.rank_genes_groups_df(adata_comparison, \n",
    "                           key = 'level_10_Snap25_Central_Plp1-_Mbp-Plp+_Malat1+_General_General_General_General', \n",
    "                           group = 'cluster_2').iloc[:20]"
   ]
  },
  {
   "cell_type": "code",
   "execution_count": null,
   "id": "f9580bb5-6817-49c8-9fd8-d59049cd52b8",
   "metadata": {},
   "outputs": [],
   "source": [
    "df = sc.get.rank_genes_groups_df(adata_comparison, \n",
    "                           key = 'level_10_Snap25_Central_Plp1-_Mbp-Plp+_Malat1+_General_General_General_General', \n",
    "                           group = 'cluster_2')\n",
    "\n",
    "df.loc[(df['pvals_adj'] < 0.01) & (df['pct_nz_group'] > 0.2)].sort_values('logfoldchanges', ascending=False).iloc[:20]"
   ]
  },
  {
   "cell_type": "code",
   "execution_count": null,
   "id": "b09943f8-49e3-417b-9284-0db9e3a0318d",
   "metadata": {
    "tags": []
   },
   "outputs": [],
   "source": [
    "adata.obs.loc[adata.obs['comparison'].str.contains('^cluster_2'), 'cell_type'] = 'Snap25_Central_Plp1-_Mbp-Plp+_Malat1+_General_General_General_General_Cntnap2+' "
   ]
  },
  {
   "cell_type": "markdown",
   "id": "ad611f90-1f5c-4d35-bfcf-7e32f10fc3a2",
   "metadata": {
    "jp-MarkdownHeadingCollapsed": true,
    "tags": []
   },
   "source": [
    "# Level 11: Snap25_Central_Plp1-_Mbp-Plp+_Malat1+_General_General_General_General_General"
   ]
  },
  {
   "cell_type": "code",
   "execution_count": null,
   "id": "f3c69920-31a5-4d18-9a19-ee0a3363a4e9",
   "metadata": {},
   "outputs": [],
   "source": [
    "set(['_'.join(x.split('_')[:12]) for x in adata[adata.obs['cell_type'] == 'Snap25_Central_Plp1-_Mbp-Plp+_Malat1+_General_General_General_General_General'].obs['current_leiden'].unique().tolist()])"
   ]
  },
  {
   "cell_type": "code",
   "execution_count": null,
   "id": "12f2fa75-f209-4b3a-a577-1b8504aad91a",
   "metadata": {},
   "outputs": [],
   "source": [
    "adata.obs['comparison'] = 'ignore'\n",
    "adata.obs.loc[adata.obs['current_leiden'].str.contains('^s_2_2_1_0_0_1_1_1_1_0_1'), 'comparison'] = 'cluster_1'\n",
    "adata.obs.loc[adata.obs['current_leiden'].str.contains('^s_2_2_1_0_0_1_1_1_1_0_FINAL'), 'comparison'] = 'cluster_0'\n",
    "adata.obs.groupby(['comparison']).size()"
   ]
  },
  {
   "cell_type": "code",
   "execution_count": null,
   "id": "5c21ad42-bf68-4d5e-91be-e46bce38f84c",
   "metadata": {},
   "outputs": [],
   "source": [
    "adata_comparison = adata[adata.obs['comparison'] != 'ignore'].copy()\n",
    "adata_comparison.layers['count'] = adata_comparison.X.copy()\n",
    "sc.pp.normalize_total(adata_comparison, target_sum=1e4)\n",
    "if 'log1p' in adata_comparison.uns.keys(): \n",
    "        del adata_comparison.uns['log1p']\n",
    "sc.pp.log1p(adata_comparison)\n",
    "adata_comparison.layers['lognorm'] = adata_comparison.X.copy()\n",
    "adata_comparison.X = adata_comparison.layers['count'].copy()\n",
    "sc.tl.rank_genes_groups(adata_comparison, \n",
    "                        groupby='comparison', \n",
    "                        use_raw=False,\n",
    "                        layer='lognorm', \n",
    "                        method='wilcoxon', \n",
    "                        rankby_abs=True,\n",
    "                        pts=True, \n",
    "                        key_added='level_11_Snap25_Central_Plp1-_Mbp-Plp+_Malat1+_General_General_General_General_General')"
   ]
  },
  {
   "cell_type": "code",
   "execution_count": null,
   "id": "b7834822-12ac-4f0c-925e-0fde5d54e736",
   "metadata": {},
   "outputs": [],
   "source": [
    "sc.pl.violin(adata_comparison, keys=['pct_counts_mt', 'pct_counts_in_top_100_genes', 'n_genes_by_counts', 'Plp1', 'Malat1', 'Nrxn3'], groupby='comparison')"
   ]
  },
  {
   "cell_type": "code",
   "execution_count": null,
   "id": "499b7561-dbcc-4cea-9a85-c9eeea6beaed",
   "metadata": {},
   "outputs": [],
   "source": [
    "\n",
    "fig, axs = plt.subplots(nrows=adata_comparison.obs['comparison'].unique().shape[0], ncols=7, figsize=(35, 15))\n",
    "for row, cluster in enumerate(adata_comparison.obs['comparison'].unique()):\n",
    "    for col, section in enumerate(adata_comparison.obs.sample_id.unique()):\n",
    "        sc.pl.spatial(adata_comparison[adata_comparison.obs['sample_id'] == section].copy(), \n",
    "                     spot_size=25, \n",
    "                      size = 5,\n",
    "                      groups = cluster,\n",
    "                     color = 'comparison', \n",
    "                     ax=axs[row, col], \n",
    "                     show=False)\n",
    "        "
   ]
  },
  {
   "cell_type": "markdown",
   "id": "31b9b45c-f5be-4768-a201-f0eed7b59cb3",
   "metadata": {
    "tags": []
   },
   "source": [
    "### Nrxn3+"
   ]
  },
  {
   "cell_type": "code",
   "execution_count": null,
   "id": "f252bbfb-3285-4d24-a818-96bfcaabfc66",
   "metadata": {},
   "outputs": [],
   "source": [
    "sc.get.rank_genes_groups_df(adata_comparison, \n",
    "                           key = 'level_11_Snap25_Central_Plp1-_Mbp-Plp+_Malat1+_General_General_General_General_General', \n",
    "                           group = 'cluster_0').iloc[:20]"
   ]
  },
  {
   "cell_type": "code",
   "execution_count": null,
   "id": "4a7f08ff-d593-4abe-a24f-5b71ffb0bbfe",
   "metadata": {},
   "outputs": [],
   "source": [
    "df = sc.get.rank_genes_groups_df(adata_comparison, \n",
    "                           key = 'level_11_Snap25_Central_Plp1-_Mbp-Plp+_Malat1+_General_General_General_General_General', \n",
    "                           group = 'cluster_0')\n",
    "\n",
    "df.loc[(df['pvals_adj'] < 0.01) & (df['pct_nz_group'] > 0.2)].sort_values('logfoldchanges', ascending=False).iloc[:20]"
   ]
  },
  {
   "cell_type": "code",
   "execution_count": null,
   "id": "1252357c-3211-4ba1-895e-269314a6d271",
   "metadata": {
    "tags": []
   },
   "outputs": [],
   "source": [
    "adata.obs.loc[adata.obs['comparison'].str.contains('^cluster_0'), 'cell_type'] = 'Snap25_Central_Plp1-_Mbp-Plp+_Malat1+_General_General_General_General_SupColl-GABAergic' "
   ]
  },
  {
   "cell_type": "markdown",
   "id": "125ec9bd-258a-445e-bf90-379c31593357",
   "metadata": {
    "tags": []
   },
   "source": [
    "### General"
   ]
  },
  {
   "cell_type": "code",
   "execution_count": null,
   "id": "ea6239af-adc9-43ac-9c46-f18c22e8d46c",
   "metadata": {},
   "outputs": [],
   "source": [
    "sc.get.rank_genes_groups_df(adata_comparison, \n",
    "                           key = 'level_11_Snap25_Central_Plp1-_Mbp-Plp+_Malat1+_General_General_General_General_General', \n",
    "                           group = 'cluster_1').iloc[:20]"
   ]
  },
  {
   "cell_type": "code",
   "execution_count": null,
   "id": "049fa060-00a6-487a-9a3d-b2a1758a0f3d",
   "metadata": {},
   "outputs": [],
   "source": [
    "df = sc.get.rank_genes_groups_df(adata_comparison, \n",
    "                           key = 'level_11_Snap25_Central_Plp1-_Mbp-Plp+_Malat1+_General_General_General_General_General', \n",
    "                           group = 'cluster_1')\n",
    "\n",
    "df.loc[(df['pvals_adj'] < 0.01) & (df['pct_nz_group'] > 0.2)].sort_values('logfoldchanges', ascending=False).iloc[:20]"
   ]
  },
  {
   "cell_type": "code",
   "execution_count": null,
   "id": "6573a073-cbd0-4a0e-84c8-aa2b6864c53f",
   "metadata": {
    "tags": []
   },
   "outputs": [],
   "source": [
    "adata.obs.loc[adata.obs['comparison'].str.contains('^cluster_1'), 'cell_type'] = 'Snap25_Central_Plp1-_Mbp-Plp+_Malat1+_General_General_General_General_General_General' "
   ]
  },
  {
   "cell_type": "markdown",
   "id": "f9e81941-e73e-4d5a-9cf9-7591f553ec57",
   "metadata": {
    "jp-MarkdownHeadingCollapsed": true,
    "tags": []
   },
   "source": [
    "# Level 12: Snap25_Central_Plp1-_Mbp-Plp+_Malat1+_General_General_General_General_General_General"
   ]
  },
  {
   "cell_type": "code",
   "execution_count": null,
   "id": "26964802-4905-4102-8dab-7978592fade9",
   "metadata": {},
   "outputs": [],
   "source": [
    "set(['_'.join(x.split('_')[:13]) for x in adata[adata.obs['cell_type'] == 'Snap25_Central_Plp1-_Mbp-Plp+_Malat1+_General_General_General_General_General_General'].obs['current_leiden'].unique().tolist()])"
   ]
  },
  {
   "cell_type": "code",
   "execution_count": null,
   "id": "b2529108-b715-4e2b-8328-649b1ff120dc",
   "metadata": {},
   "outputs": [],
   "source": [
    "adata.obs['comparison'] = 'ignore'\n",
    "adata.obs.loc[adata.obs['current_leiden'].str.contains('^s_2_2_1_0_0_1_1_1_1_0_1_0'), 'comparison'] = 'cluster_1'\n",
    "adata.obs.loc[adata.obs['current_leiden'].str.contains('^s_2_2_1_0_0_1_1_1_1_0_1_FINAL'), 'comparison'] = 'cluster_0'\n",
    "adata.obs.groupby(['comparison']).size()"
   ]
  },
  {
   "cell_type": "code",
   "execution_count": null,
   "id": "5f2729d7-06f6-4fb0-9863-238ac7585c41",
   "metadata": {},
   "outputs": [],
   "source": [
    "adata_comparison = adata[adata.obs['comparison'] != 'ignore'].copy()\n",
    "adata_comparison.layers['count'] = adata_comparison.X.copy()\n",
    "sc.pp.normalize_total(adata_comparison, target_sum=1e4)\n",
    "if 'log1p' in adata_comparison.uns.keys(): \n",
    "        del adata_comparison.uns['log1p']\n",
    "sc.pp.log1p(adata_comparison)\n",
    "adata_comparison.layers['lognorm'] = adata_comparison.X.copy()\n",
    "adata_comparison.X = adata_comparison.layers['count'].copy()\n",
    "sc.tl.rank_genes_groups(adata_comparison, \n",
    "                        groupby='comparison', \n",
    "                        use_raw=False,\n",
    "                        layer='lognorm', \n",
    "                        method='wilcoxon', \n",
    "                        rankby_abs=True,\n",
    "                        pts=True, \n",
    "                        key_added='level_12_Snap25_Central_Plp1-_Mbp-Plp+_Malat1+_General_General_General_General_General_General')"
   ]
  },
  {
   "cell_type": "code",
   "execution_count": null,
   "id": "9e8d5ab3-9011-4d45-a1f4-d62f7061ad03",
   "metadata": {},
   "outputs": [],
   "source": [
    "sc.pl.violin(adata_comparison, keys=['pct_counts_mt', 'pct_counts_in_top_100_genes', 'n_genes_by_counts', 'Plp1', 'Malat1', 'Grik1'], groupby='comparison')"
   ]
  },
  {
   "cell_type": "code",
   "execution_count": null,
   "id": "f5e0be10-108a-47ef-ac38-d76738111576",
   "metadata": {},
   "outputs": [],
   "source": [
    "\n",
    "fig, axs = plt.subplots(nrows=adata_comparison.obs['comparison'].unique().shape[0], ncols=7, figsize=(35, 10))\n",
    "for row, cluster in enumerate(adata_comparison.obs['comparison'].unique()):\n",
    "    for col, section in enumerate(adata_comparison.obs.sample_id.unique()):\n",
    "        sc.pl.spatial(adata_comparison[adata_comparison.obs['sample_id'] == section].copy(), \n",
    "                     spot_size=25, \n",
    "                      size = 5,\n",
    "                      groups = cluster,\n",
    "                     color = 'comparison', \n",
    "                     ax=axs[row, col], \n",
    "                     show=False)\n",
    "        "
   ]
  },
  {
   "cell_type": "markdown",
   "id": "6243da99-ce52-4907-ada8-19e259cac759",
   "metadata": {
    "tags": []
   },
   "source": [
    "### Grik1+++"
   ]
  },
  {
   "cell_type": "code",
   "execution_count": null,
   "id": "bbe0b16b-b0b2-4e6d-bcb9-5c3e6bedd086",
   "metadata": {},
   "outputs": [],
   "source": [
    "sc.get.rank_genes_groups_df(adata_comparison, \n",
    "                           key = 'level_12_Snap25_Central_Plp1-_Mbp-Plp+_Malat1+_General_General_General_General_General_General', \n",
    "                           group = 'cluster_0').iloc[:20]"
   ]
  },
  {
   "cell_type": "code",
   "execution_count": null,
   "id": "22d57fad-b12a-4b77-9062-2646e5e36a8b",
   "metadata": {},
   "outputs": [],
   "source": [
    "df = sc.get.rank_genes_groups_df(adata_comparison, \n",
    "                           key = 'level_12_Snap25_Central_Plp1-_Mbp-Plp+_Malat1+_General_General_General_General_General_General', \n",
    "                           group = 'cluster_0')\n",
    "\n",
    "df.loc[(df['pvals_adj'] < 0.01) & (df['pct_nz_group'] > 0.2)].sort_values('logfoldchanges', ascending=False).iloc[:20]"
   ]
  },
  {
   "cell_type": "code",
   "execution_count": null,
   "id": "877bd35a-cc34-4c06-982c-22574a7f0c2c",
   "metadata": {
    "tags": []
   },
   "outputs": [],
   "source": [
    "adata.obs.loc[adata.obs['comparison'].str.contains('^cluster_0'), 'cell_type'] = 'Snap25_Central_Plp1-_Mbp-Plp+_Malat1+_General_General_General_General_General_General_Grik1+++' "
   ]
  },
  {
   "cell_type": "markdown",
   "id": "f9bd85f0-7e42-447e-9518-10fdcafa8658",
   "metadata": {
    "tags": []
   },
   "source": [
    "### General"
   ]
  },
  {
   "cell_type": "code",
   "execution_count": null,
   "id": "87ff91df-985a-4527-976f-f6dc687c356a",
   "metadata": {},
   "outputs": [],
   "source": [
    "sc.get.rank_genes_groups_df(adata_comparison, \n",
    "                           key = 'level_12_Snap25_Central_Plp1-_Mbp-Plp+_Malat1+_General_General_General_General_General_General', \n",
    "                           group = 'cluster_1').iloc[:20]"
   ]
  },
  {
   "cell_type": "code",
   "execution_count": null,
   "id": "6d659cd1-d636-4dc6-aad2-7e8e433e67d6",
   "metadata": {},
   "outputs": [],
   "source": [
    "df = sc.get.rank_genes_groups_df(adata_comparison, \n",
    "                           key = 'level_12_Snap25_Central_Plp1-_Mbp-Plp+_Malat1+_General_General_General_General_General_General', \n",
    "                           group = 'cluster_1')\n",
    "\n",
    "df.loc[(df['pvals_adj'] < 0.01) & (df['pct_nz_group'] > 0.2)].sort_values('logfoldchanges', ascending=False).iloc[:20]"
   ]
  },
  {
   "cell_type": "code",
   "execution_count": null,
   "id": "92626bed-56e9-49ce-a51e-6ae13a927214",
   "metadata": {
    "tags": []
   },
   "outputs": [],
   "source": [
    "adata.obs.loc[adata.obs['comparison'].str.contains('^cluster_1'), 'cell_type'] = 'Snap25_Central_Plp1-_Mbp-Plp+_Malat1+_General_General_General_General_General_General_General' "
   ]
  },
  {
   "cell_type": "markdown",
   "id": "229d55a2-174e-4bdd-b236-adb894a5f069",
   "metadata": {
    "jp-MarkdownHeadingCollapsed": true,
    "tags": []
   },
   "source": [
    "# Level 13: Snap25_Central_Plp1-_Mbp-Plp+_Malat1+_General_General_General_General_General_General_General"
   ]
  },
  {
   "cell_type": "code",
   "execution_count": null,
   "id": "6c50e455-fa36-409f-b422-97520d089a7f",
   "metadata": {},
   "outputs": [],
   "source": [
    "set(['_'.join(x.split('_')[:14]) for x in adata[adata.obs['cell_type'] == 'Snap25_Central_Plp1-_Mbp-Plp+_Malat1+_General_General_General_General_General_General_General'].obs['current_leiden'].unique().tolist()])"
   ]
  },
  {
   "cell_type": "code",
   "execution_count": null,
   "id": "1e7920f1-b8e3-4731-938f-a617b95e0929",
   "metadata": {},
   "outputs": [],
   "source": [
    "adata.obs['comparison'] = 'ignore'\n",
    "adata.obs.loc[adata.obs['current_leiden'].str.contains('^s_2_2_1_0_0_1_1_1_1_0_1_0_4'), 'comparison'] = 'cluster_1'\n",
    "adata.obs.loc[adata.obs['current_leiden'].str.contains('^s_2_2_1_0_0_1_1_1_1_0_1_0_FINAL'), 'comparison'] = 'cluster_0'\n",
    "adata.obs.groupby(['comparison']).size()"
   ]
  },
  {
   "cell_type": "code",
   "execution_count": null,
   "id": "b7a4ac02-3f3b-4cdf-8448-728903f1d2f3",
   "metadata": {},
   "outputs": [],
   "source": [
    "adata_comparison = adata[adata.obs['comparison'] != 'ignore'].copy()\n",
    "adata_comparison.layers['count'] = adata_comparison.X.copy()\n",
    "sc.pp.normalize_total(adata_comparison, target_sum=1e4)\n",
    "if 'log1p' in adata_comparison.uns.keys(): \n",
    "        del adata_comparison.uns['log1p']\n",
    "sc.pp.log1p(adata_comparison)\n",
    "adata_comparison.layers['lognorm'] = adata_comparison.X.copy()\n",
    "adata_comparison.X = adata_comparison.layers['count'].copy()\n",
    "sc.tl.rank_genes_groups(adata_comparison, \n",
    "                        groupby='comparison', \n",
    "                        use_raw=False,\n",
    "                        layer='lognorm', \n",
    "                        method='wilcoxon', \n",
    "                        rankby_abs=True,\n",
    "                        pts=True, \n",
    "                        key_added='level_13_Snap25_Central_Plp1-_Mbp-Plp+_Malat1+_General_General_General_General_General_General_General')"
   ]
  },
  {
   "cell_type": "code",
   "execution_count": null,
   "id": "6386c32c-f950-4aec-9197-8623e8674bdc",
   "metadata": {},
   "outputs": [],
   "source": [
    "sc.pl.violin(adata_comparison, keys=['pct_counts_mt', 'pct_counts_in_top_100_genes', 'n_genes_by_counts', 'Plp1', 'Malat1', 'Grik1'], groupby='comparison')"
   ]
  },
  {
   "cell_type": "code",
   "execution_count": null,
   "id": "930323f6-a1ce-47f1-ae7f-5dc3b3f6da2d",
   "metadata": {},
   "outputs": [],
   "source": [
    "\n",
    "fig, axs = plt.subplots(nrows=adata_comparison.obs['comparison'].unique().shape[0], ncols=7, figsize=(35, 10))\n",
    "for row, cluster in enumerate(adata_comparison.obs['comparison'].unique()):\n",
    "    for col, section in enumerate(adata_comparison.obs.sample_id.unique()):\n",
    "        sc.pl.spatial(adata_comparison[adata_comparison.obs['sample_id'] == section].copy(), \n",
    "                     spot_size=25, \n",
    "                      size = 5,\n",
    "                      groups = cluster,\n",
    "                     color = 'comparison', \n",
    "                     ax=axs[row, col], \n",
    "                     show=False)\n",
    "        "
   ]
  },
  {
   "cell_type": "markdown",
   "id": "3994fe71-349d-4143-bd09-5ddbd22c0ab6",
   "metadata": {
    "tags": []
   },
   "source": [
    "### Malat1+"
   ]
  },
  {
   "cell_type": "code",
   "execution_count": null,
   "id": "c968c690-e4f9-47b1-a55d-db84803df284",
   "metadata": {},
   "outputs": [],
   "source": [
    "sc.get.rank_genes_groups_df(adata_comparison, \n",
    "                           key = 'level_13_Snap25_Central_Plp1-_Mbp-Plp+_Malat1+_General_General_General_General_General_General_General', \n",
    "                           group = 'cluster_0').iloc[:20]"
   ]
  },
  {
   "cell_type": "code",
   "execution_count": null,
   "id": "6aa78ddd-14af-4de9-a3a3-1ebe34fb186a",
   "metadata": {},
   "outputs": [],
   "source": [
    "df = sc.get.rank_genes_groups_df(adata_comparison, \n",
    "                           key = 'level_13_Snap25_Central_Plp1-_Mbp-Plp+_Malat1+_General_General_General_General_General_General_General', \n",
    "                           group = 'cluster_0')\n",
    "\n",
    "df.loc[(df['pvals_adj'] < 0.01) & (df['pct_nz_group'] > 0.2)].sort_values('logfoldchanges', ascending=False).iloc[:20]"
   ]
  },
  {
   "cell_type": "code",
   "execution_count": null,
   "id": "5ffa191d-ddcb-4522-bf86-7fb7dce11b7c",
   "metadata": {
    "tags": []
   },
   "outputs": [],
   "source": [
    "adata.obs.loc[adata.obs['comparison'].str.contains('^cluster_0'), 'cell_type'] = 'Snap25_Central_Plp1-_Mbp-Plp+_Malat1+_General_General_General_General_General_General_General_Malat1+' "
   ]
  },
  {
   "cell_type": "markdown",
   "id": "8f5360e4-d8e2-48e3-9211-9af5c02f3d67",
   "metadata": {
    "tags": []
   },
   "source": [
    "### Malat1-"
   ]
  },
  {
   "cell_type": "code",
   "execution_count": null,
   "id": "04a8b3d6-2f8b-412b-9444-c11fa8e3b0f4",
   "metadata": {},
   "outputs": [],
   "source": [
    "sc.get.rank_genes_groups_df(adata_comparison, \n",
    "                           key = 'level_13_Snap25_Central_Plp1-_Mbp-Plp+_Malat1+_General_General_General_General_General_General_General', \n",
    "                           group = 'cluster_1').iloc[:20]"
   ]
  },
  {
   "cell_type": "code",
   "execution_count": null,
   "id": "6adeecb8-157b-469e-90b8-78956b3ebcd4",
   "metadata": {},
   "outputs": [],
   "source": [
    "df = sc.get.rank_genes_groups_df(adata_comparison, \n",
    "                           key = 'level_13_Snap25_Central_Plp1-_Mbp-Plp+_Malat1+_General_General_General_General_General_General_General', \n",
    "                           group = 'cluster_1')\n",
    "\n",
    "df.loc[(df['pvals_adj'] < 0.01) & (df['pct_nz_group'] > 0.2)].sort_values('logfoldchanges', ascending=False).iloc[:20]"
   ]
  },
  {
   "cell_type": "code",
   "execution_count": null,
   "id": "dd655caa-201d-4bb5-9f34-bd6ab0e6bbdd",
   "metadata": {
    "tags": []
   },
   "outputs": [],
   "source": [
    "adata.obs.loc[adata.obs['comparison'].str.contains('^cluster_1'), 'cell_type'] = 'Snap25_Central_Plp1-_Mbp-Plp+_Malat1+_General_General_General_General_General_General_General_Malat1-' "
   ]
  },
  {
   "cell_type": "markdown",
   "id": "c129396b-5dd0-4a12-919d-07fe7fbbf545",
   "metadata": {
    "jp-MarkdownHeadingCollapsed": true,
    "tags": []
   },
   "source": [
    "# Level 14: Snap25_Central_Plp1-_Mbp-Plp+_Malat1+_General_General_General_General_General_General_General_Malat1-"
   ]
  },
  {
   "cell_type": "code",
   "execution_count": null,
   "id": "a7808753-9bf8-4e47-85e3-c62281aa3834",
   "metadata": {},
   "outputs": [],
   "source": [
    "set(['_'.join(x.split('_')[:15]) for x in adata[adata.obs['cell_type'] == 'Snap25_Central_Plp1-_Mbp-Plp+_Malat1+_General_General_General_General_General_General_General_Malat1-'].obs['current_leiden'].unique().tolist()])"
   ]
  },
  {
   "cell_type": "code",
   "execution_count": null,
   "id": "40332b09-b67d-4a9b-9e3e-7483c872afb5",
   "metadata": {},
   "outputs": [],
   "source": [
    "adata.obs['comparison'] = 'ignore'\n",
    "adata.obs.loc[adata.obs['current_leiden'].str.contains('^s_2_2_1_0_0_1_1_1_1_0_1_0_4_0'), 'comparison'] = 'cluster_1'\n",
    "adata.obs.loc[adata.obs['current_leiden'].str.contains('^s_2_2_1_0_0_1_1_1_1_0_1_0_4_FINAL'), 'comparison'] = 'cluster_0'\n",
    "adata.obs.groupby(['comparison']).size()"
   ]
  },
  {
   "cell_type": "code",
   "execution_count": null,
   "id": "efe1d51b-6290-45dc-9b94-ef0321b0524d",
   "metadata": {},
   "outputs": [],
   "source": [
    "adata_comparison = adata[adata.obs['comparison'] != 'ignore'].copy()\n",
    "adata_comparison.layers['count'] = adata_comparison.X.copy()\n",
    "sc.pp.normalize_total(adata_comparison, target_sum=1e4)\n",
    "if 'log1p' in adata_comparison.uns.keys(): \n",
    "        del adata_comparison.uns['log1p']\n",
    "sc.pp.log1p(adata_comparison)\n",
    "adata_comparison.layers['lognorm'] = adata_comparison.X.copy()\n",
    "adata_comparison.X = adata_comparison.layers['count'].copy()\n",
    "sc.tl.rank_genes_groups(adata_comparison, \n",
    "                        groupby='comparison', \n",
    "                        use_raw=False,\n",
    "                        layer='lognorm', \n",
    "                        method='wilcoxon', \n",
    "                        rankby_abs=True,\n",
    "                        pts=True, \n",
    "                        key_added='level_14_Snap25_Central_Plp1-_Mbp-Plp+_Malat1+_General_General_General_General_General_General_General_Malat1-')"
   ]
  },
  {
   "cell_type": "code",
   "execution_count": null,
   "id": "f3ed4074-ef7a-4b3f-a9d7-b041f40d4b4b",
   "metadata": {},
   "outputs": [],
   "source": [
    "sc.pl.violin(adata_comparison, keys=['pct_counts_mt', 'pct_counts_in_top_100_genes', 'n_genes_by_counts', 'Plp1', 'Malat1', 'Grik1'], groupby='comparison')"
   ]
  },
  {
   "cell_type": "code",
   "execution_count": null,
   "id": "3cfcd8e9-0390-4234-9a2c-742181db1c32",
   "metadata": {},
   "outputs": [],
   "source": [
    "\n",
    "fig, axs = plt.subplots(nrows=adata_comparison.obs['comparison'].unique().shape[0], ncols=7, figsize=(35, 10))\n",
    "for row, cluster in enumerate(adata_comparison.obs['comparison'].unique()):\n",
    "    for col, section in enumerate(adata_comparison.obs.sample_id.unique()):\n",
    "        sc.pl.spatial(adata_comparison[adata_comparison.obs['sample_id'] == section].copy(), \n",
    "                     spot_size=25, \n",
    "                      size = 5,\n",
    "                      groups = cluster,\n",
    "                     color = 'comparison', \n",
    "                     ax=axs[row, col], \n",
    "                     show=False)\n",
    "        "
   ]
  },
  {
   "cell_type": "code",
   "execution_count": null,
   "id": "8b6f59ce-35f1-41a3-a5b3-8ae9498e1a2e",
   "metadata": {},
   "outputs": [],
   "source": [
    "adata_comparison.obs.groupby(['mouse_id', 'comparison']).size()"
   ]
  },
  {
   "cell_type": "markdown",
   "id": "6f78be05-d6e5-41c5-8294-a091de417fbe",
   "metadata": {
    "tags": []
   },
   "source": [
    "### Sample-Dependent-1"
   ]
  },
  {
   "cell_type": "code",
   "execution_count": null,
   "id": "8a972637-b68e-4484-bbb0-369d686b8918",
   "metadata": {},
   "outputs": [],
   "source": [
    "sc.get.rank_genes_groups_df(adata_comparison, \n",
    "                           key = 'level_14_Snap25_Central_Plp1-_Mbp-Plp+_Malat1+_General_General_General_General_General_General_General_Malat1-', \n",
    "                           group = 'cluster_0').iloc[:20]"
   ]
  },
  {
   "cell_type": "code",
   "execution_count": null,
   "id": "526c493a-ed32-43fc-aa2b-3da779287cc7",
   "metadata": {},
   "outputs": [],
   "source": [
    "df = sc.get.rank_genes_groups_df(adata_comparison, \n",
    "                           key = 'level_14_Snap25_Central_Plp1-_Mbp-Plp+_Malat1+_General_General_General_General_General_General_General_Malat1-', \n",
    "                           group = 'cluster_0')\n",
    "\n",
    "df.loc[(df['pvals_adj'] < 0.01) & (df['pct_nz_group'] > 0.2)].sort_values('logfoldchanges', ascending=False).iloc[:20]"
   ]
  },
  {
   "cell_type": "code",
   "execution_count": null,
   "id": "b26a4766-d392-4cfc-8b56-3bae912e6f85",
   "metadata": {
    "tags": []
   },
   "outputs": [],
   "source": [
    "adata.obs.loc[adata.obs['comparison'].str.contains('^cluster_0'), 'cell_type'] = 'Snap25_Central_Plp1-_Mbp-Plp+_Malat1+_General_General_General_General_General_General_General_Malat1-_Sample-Dependent-1' "
   ]
  },
  {
   "cell_type": "markdown",
   "id": "45eca6f0-de46-4010-a778-97ee0ff75020",
   "metadata": {
    "tags": []
   },
   "source": [
    "### Sample-Dependent-2"
   ]
  },
  {
   "cell_type": "code",
   "execution_count": null,
   "id": "9884b239-8168-475a-8fa4-3dd70870d3c3",
   "metadata": {},
   "outputs": [],
   "source": [
    "sc.get.rank_genes_groups_df(adata_comparison, \n",
    "                           key = 'level_14_Snap25_Central_Plp1-_Mbp-Plp+_Malat1+_General_General_General_General_General_General_General_Malat1-', \n",
    "                           group = 'cluster_1').iloc[:20]"
   ]
  },
  {
   "cell_type": "code",
   "execution_count": null,
   "id": "2760b8e1-62e9-421a-8fda-850105579375",
   "metadata": {},
   "outputs": [],
   "source": [
    "df = sc.get.rank_genes_groups_df(adata_comparison, \n",
    "                           key = 'level_14_Snap25_Central_Plp1-_Mbp-Plp+_Malat1+_General_General_General_General_General_General_General_Malat1-', \n",
    "                           group = 'cluster_1')\n",
    "\n",
    "df.loc[(df['pvals_adj'] < 0.01) & (df['pct_nz_group'] > 0.2)].sort_values('logfoldchanges', ascending=False).iloc[:20]"
   ]
  },
  {
   "cell_type": "code",
   "execution_count": null,
   "id": "0015a030-1c55-4d99-bc07-ba244ad1a2ed",
   "metadata": {
    "tags": []
   },
   "outputs": [],
   "source": [
    "adata.obs.loc[adata.obs['comparison'].str.contains('^cluster_1'), 'cell_type'] = 'Snap25_Central_Plp1-_Mbp-Plp+_Malat1+_General_General_General_General_General_General_General_Malat1-_Sample-Dependent-2' "
   ]
  },
  {
   "cell_type": "markdown",
   "id": "bd28b73b-3940-4cec-bf69-dd05767e01ff",
   "metadata": {
    "jp-MarkdownHeadingCollapsed": true,
    "tags": []
   },
   "source": [
    "# Level 6: Snap25_Central_Plp1-_Mbp-Plp+_Malat1-"
   ]
  },
  {
   "cell_type": "code",
   "execution_count": null,
   "id": "a80e90ab-b379-4b7c-9382-0b3c266ff798",
   "metadata": {},
   "outputs": [],
   "source": [
    "set(['_'.join(x.split('_')[:7]) for x in adata[adata.obs['cell_type'] == 'Snap25_Central_Plp1-_Mbp-Plp+_Malat1-'].obs['current_leiden'].unique().tolist()])"
   ]
  },
  {
   "cell_type": "code",
   "execution_count": null,
   "id": "2b2d6a54-603d-47db-bceb-1c9febf63e15",
   "metadata": {},
   "outputs": [],
   "source": [
    "adata.obs['comparison'] = 'ignore'\n",
    "adata.obs.loc[adata.obs['current_leiden'].str.contains('^s_2_2_1_0_1_1'), 'comparison'] = 'cluster_1'\n",
    "adata.obs.loc[adata.obs['current_leiden'].str.contains('^s_2_2_1_0_1_0'), 'comparison'] = 'cluster_0'\n",
    "adata.obs.groupby(['comparison']).size()"
   ]
  },
  {
   "cell_type": "code",
   "execution_count": null,
   "id": "4da2d547-717d-4f36-924d-10a170950599",
   "metadata": {},
   "outputs": [],
   "source": [
    "adata_comparison = adata[adata.obs['comparison'] != 'ignore'].copy()\n",
    "adata_comparison.layers['count'] = adata_comparison.X.copy()\n",
    "sc.pp.normalize_total(adata_comparison, target_sum=1e4)\n",
    "if 'log1p' in adata_comparison.uns.keys(): \n",
    "        del adata_comparison.uns['log1p']\n",
    "sc.pp.log1p(adata_comparison)\n",
    "adata_comparison.layers['lognorm'] = adata_comparison.X.copy()\n",
    "adata_comparison.X = adata_comparison.layers['count'].copy()\n",
    "sc.tl.rank_genes_groups(adata_comparison, \n",
    "                        groupby='comparison', \n",
    "                        use_raw=False,\n",
    "                        layer='lognorm', \n",
    "                        method='wilcoxon', \n",
    "                        rankby_abs=True,\n",
    "                        pts=True, \n",
    "                        key_added='level_6_Snap25_Central_Plp1-_Mbp-Plp+_Malat1-')"
   ]
  },
  {
   "cell_type": "code",
   "execution_count": null,
   "id": "b0476fed-0774-481f-82cf-e9d080c5ac0a",
   "metadata": {},
   "outputs": [],
   "source": [
    "sc.pl.violin(adata_comparison, keys=['pct_counts_mt', 'pct_counts_in_top_100_genes', 'n_genes_by_counts', 'Plp1', 'Malat1', 'Meg3'], groupby='comparison')"
   ]
  },
  {
   "cell_type": "code",
   "execution_count": null,
   "id": "329c2d49-3baa-4dd7-a142-1e1a5a750817",
   "metadata": {},
   "outputs": [],
   "source": [
    "\n",
    "fig, axs = plt.subplots(nrows=adata_comparison.obs['comparison'].unique().shape[0], ncols=7, figsize=(35, 10))\n",
    "for row, cluster in enumerate(adata_comparison.obs['comparison'].unique()):\n",
    "    for col, section in enumerate(adata_comparison.obs.sample_id.unique()):\n",
    "        sc.pl.spatial(adata_comparison[adata_comparison.obs['sample_id'] == section].copy(), \n",
    "                     spot_size=25, \n",
    "                      size = 5,\n",
    "                      groups = cluster,\n",
    "                     color = 'comparison', \n",
    "                     ax=axs[row, col], \n",
    "                     show=False)\n",
    "        "
   ]
  },
  {
   "cell_type": "markdown",
   "id": "9e319678-6482-4d88-8716-f01635c1f796",
   "metadata": {
    "tags": []
   },
   "source": [
    "### Pvalb+"
   ]
  },
  {
   "cell_type": "code",
   "execution_count": null,
   "id": "9f6f4176-fdf4-4106-8fc6-2c5d0e334120",
   "metadata": {},
   "outputs": [],
   "source": [
    "sc.get.rank_genes_groups_df(adata_comparison, \n",
    "                           key = 'level_6_Snap25_Central_Plp1-_Mbp-Plp+_Malat1-', \n",
    "                           group = 'cluster_0').iloc[:20]"
   ]
  },
  {
   "cell_type": "code",
   "execution_count": null,
   "id": "81ae43aa-48d8-4064-b4e4-8cbbbcff6d88",
   "metadata": {},
   "outputs": [],
   "source": [
    "df = sc.get.rank_genes_groups_df(adata_comparison, \n",
    "                           key = 'level_6_Snap25_Central_Plp1-_Mbp-Plp+_Malat1-', \n",
    "                           group = 'cluster_0')\n",
    "\n",
    "df.loc[(df['pvals_adj'] < 0.01) & (df['pct_nz_group'] > 0.2)].sort_values('logfoldchanges', ascending=False).iloc[:20]"
   ]
  },
  {
   "cell_type": "code",
   "execution_count": null,
   "id": "d780fc09-71ef-44a3-afb5-2f123482e909",
   "metadata": {
    "tags": []
   },
   "outputs": [],
   "source": [
    "adata.obs.loc[adata.obs['comparison'].str.contains('^cluster_0'), 'cell_type'] = 'Snap25_Central_Plp1-_Mbp-Plp+_Malat1-_Pvalb+' "
   ]
  },
  {
   "cell_type": "markdown",
   "id": "9b84a6f1-98a1-481c-b569-12140e54e345",
   "metadata": {
    "tags": []
   },
   "source": [
    "### General"
   ]
  },
  {
   "cell_type": "code",
   "execution_count": null,
   "id": "10e64a03-d2af-4633-9ad1-4440e6f682dc",
   "metadata": {},
   "outputs": [],
   "source": [
    "sc.get.rank_genes_groups_df(adata_comparison, \n",
    "                           key = 'level_6_Snap25_Central_Plp1-_Mbp-Plp+_Malat1-', \n",
    "                           group = 'cluster_1').iloc[:20]"
   ]
  },
  {
   "cell_type": "code",
   "execution_count": null,
   "id": "17492b0b-ee5a-4262-a1a4-61eb676c7082",
   "metadata": {},
   "outputs": [],
   "source": [
    "df = sc.get.rank_genes_groups_df(adata_comparison, \n",
    "                           key = 'level_6_Snap25_Central_Plp1-_Mbp-Plp+_Malat1-', \n",
    "                           group = 'cluster_1')\n",
    "\n",
    "df.loc[(df['pvals_adj'] < 0.01) & (df['pct_nz_group'] > 0.2)].sort_values('logfoldchanges', ascending=False).iloc[:20]"
   ]
  },
  {
   "cell_type": "code",
   "execution_count": null,
   "id": "65791dda-9ac7-48d7-b477-30bb84710843",
   "metadata": {
    "tags": []
   },
   "outputs": [],
   "source": [
    "adata.obs.loc[adata.obs['comparison'].str.contains('^cluster_1'), 'cell_type'] = 'Snap25_Central_Plp1-_Mbp-Plp+_Malat1-_General' "
   ]
  },
  {
   "cell_type": "markdown",
   "id": "c0b63a05-c5aa-4e06-8bbe-c29806c9543e",
   "metadata": {
    "jp-MarkdownHeadingCollapsed": true,
    "tags": []
   },
   "source": [
    "# Level 7: Snap25_Central_Plp1-_Mbp-Plp+_Malat1-_Pvalb+"
   ]
  },
  {
   "cell_type": "code",
   "execution_count": null,
   "id": "6425beca-0f07-4e48-ab07-74133676fb94",
   "metadata": {},
   "outputs": [],
   "source": [
    "set(['_'.join(x.split('_')[:8]) for x in adata[adata.obs['cell_type'] == 'Snap25_Central_Plp1-_Mbp-Plp+_Malat1-_Pvalb+'].obs['current_leiden'].unique().tolist()])"
   ]
  },
  {
   "cell_type": "code",
   "execution_count": null,
   "id": "808a3490-1bde-4b02-b31b-d73a3aca4b03",
   "metadata": {},
   "outputs": [],
   "source": [
    "adata.obs['comparison'] = 'ignore'\n",
    "adata.obs.loc[adata.obs['current_leiden'].str.contains('^s_2_2_1_0_1_0_1'), 'comparison'] = 'cluster_1'\n",
    "adata.obs.loc[adata.obs['current_leiden'].str.contains('^s_2_2_1_0_1_0_0'), 'comparison'] = 'cluster_0'\n",
    "adata.obs.groupby(['comparison']).size()"
   ]
  },
  {
   "cell_type": "code",
   "execution_count": null,
   "id": "5fcfa858-9baa-43fd-9e69-2af334a9cf9d",
   "metadata": {},
   "outputs": [],
   "source": [
    "adata_comparison = adata[adata.obs['comparison'] != 'ignore'].copy()\n",
    "adata_comparison.layers['count'] = adata_comparison.X.copy()\n",
    "sc.pp.normalize_total(adata_comparison, target_sum=1e4)\n",
    "if 'log1p' in adata_comparison.uns.keys(): \n",
    "        del adata_comparison.uns['log1p']\n",
    "sc.pp.log1p(adata_comparison)\n",
    "adata_comparison.layers['lognorm'] = adata_comparison.X.copy()\n",
    "adata_comparison.X = adata_comparison.layers['count'].copy()\n",
    "sc.tl.rank_genes_groups(adata_comparison, \n",
    "                        groupby='comparison', \n",
    "                        use_raw=False,\n",
    "                        layer='lognorm', \n",
    "                        method='wilcoxon', \n",
    "                        rankby_abs=True,\n",
    "                        pts=True, \n",
    "                        key_added='level_7_Snap25_Central_Plp1-_Mbp-Plp+_Malat1-_Pvalb+')"
   ]
  },
  {
   "cell_type": "code",
   "execution_count": null,
   "id": "87472df1-4b38-4a7d-a6ca-5b1be8d8cec4",
   "metadata": {},
   "outputs": [],
   "source": [
    "sc.pl.violin(adata_comparison, keys=['pct_counts_mt', 'pct_counts_in_top_100_genes', 'n_genes_by_counts', 'Plp1', 'Malat1', 'Gad1', 'Sncg'], groupby='comparison')"
   ]
  },
  {
   "cell_type": "code",
   "execution_count": null,
   "id": "8c3f2067-c422-424b-92e1-410fc519f4e2",
   "metadata": {},
   "outputs": [],
   "source": [
    "\n",
    "fig, axs = plt.subplots(nrows=adata_comparison.obs['comparison'].unique().shape[0], ncols=7, figsize=(35, 10))\n",
    "for row, cluster in enumerate(adata_comparison.obs['comparison'].unique()):\n",
    "    for col, section in enumerate(adata_comparison.obs.sample_id.unique()):\n",
    "        sc.pl.spatial(adata_comparison[adata_comparison.obs['sample_id'] == section].copy(), \n",
    "                     spot_size=25, \n",
    "                      size = 5,\n",
    "                      groups = cluster,\n",
    "                     color = 'comparison', \n",
    "                     ax=axs[row, col], \n",
    "                     show=False)\n",
    "        "
   ]
  },
  {
   "cell_type": "markdown",
   "id": "ac020e9c-84f5-4fc1-812a-1522db33ad4f",
   "metadata": {
    "tags": []
   },
   "source": [
    "### Inner"
   ]
  },
  {
   "cell_type": "code",
   "execution_count": null,
   "id": "b2625693-684a-42c1-a9e6-7a8c92e54237",
   "metadata": {},
   "outputs": [],
   "source": [
    "sc.get.rank_genes_groups_df(adata_comparison, \n",
    "                           key = 'level_7_Snap25_Central_Plp1-_Mbp-Plp+_Malat1-_Pvalb+', \n",
    "                           group = 'cluster_0').iloc[:20]"
   ]
  },
  {
   "cell_type": "code",
   "execution_count": null,
   "id": "8ba30c86-c1a1-4728-a11d-48f0e9de3612",
   "metadata": {},
   "outputs": [],
   "source": [
    "df = sc.get.rank_genes_groups_df(adata_comparison, \n",
    "                           key = 'level_7_Snap25_Central_Plp1-_Mbp-Plp+_Malat1-_Pvalb+', \n",
    "                           group = 'cluster_0')\n",
    "\n",
    "df.loc[(df['pvals_adj'] < 0.01) & (df['pct_nz_group'] > 0.2)].sort_values('logfoldchanges', ascending=False).iloc[:20]"
   ]
  },
  {
   "cell_type": "code",
   "execution_count": null,
   "id": "9e5293df-0fb9-4721-90fc-13f5a29f707c",
   "metadata": {
    "tags": []
   },
   "outputs": [],
   "source": [
    "adata.obs.loc[adata.obs['comparison'].str.contains('^cluster_0'), 'cell_type'] = 'Snap25_Central_Plp1-_Mbp-Plp+_Malat1-_Pvalb+_Inner' "
   ]
  },
  {
   "cell_type": "markdown",
   "id": "defcf185-6c05-4991-84fb-7a0be5d3d40c",
   "metadata": {
    "tags": []
   },
   "source": [
    "### Outer-Sncg+"
   ]
  },
  {
   "cell_type": "code",
   "execution_count": null,
   "id": "7bd77957-d3d1-40da-826f-b0cfae3fbf1c",
   "metadata": {},
   "outputs": [],
   "source": [
    "sc.get.rank_genes_groups_df(adata_comparison, \n",
    "                           key = 'level_7_Snap25_Central_Plp1-_Mbp-Plp+_Malat1-_Pvalb+', \n",
    "                           group = 'cluster_1').iloc[:20]"
   ]
  },
  {
   "cell_type": "code",
   "execution_count": null,
   "id": "7c965b88-5955-46e9-8656-4e99e4d8fd7e",
   "metadata": {},
   "outputs": [],
   "source": [
    "df = sc.get.rank_genes_groups_df(adata_comparison, \n",
    "                           key = 'level_7_Snap25_Central_Plp1-_Mbp-Plp+_Malat1-_Pvalb+', \n",
    "                           group = 'cluster_1')\n",
    "\n",
    "df.loc[(df['pvals_adj'] < 0.01) & (df['pct_nz_group'] > 0.2)].sort_values('logfoldchanges', ascending=False).iloc[:20]"
   ]
  },
  {
   "cell_type": "code",
   "execution_count": null,
   "id": "37a686db-7afd-4ea9-a9bd-4c45a318ad51",
   "metadata": {
    "tags": []
   },
   "outputs": [],
   "source": [
    "adata.obs.loc[adata.obs['comparison'].str.contains('^cluster_1'), 'cell_type'] = 'Snap25_Central_Plp1-_Mbp-Plp+_Malat1-_Pvalb+_Outer-Sncg+' "
   ]
  },
  {
   "cell_type": "markdown",
   "id": "4b42e942-424a-45c3-91ad-029eaa822980",
   "metadata": {
    "jp-MarkdownHeadingCollapsed": true,
    "tags": []
   },
   "source": [
    "# Level 7: Snap25_Central_Plp1-_Mbp-Plp+_Malat1-_General"
   ]
  },
  {
   "cell_type": "code",
   "execution_count": null,
   "id": "1e33d543-3608-4583-85c5-9afd1554f6cb",
   "metadata": {},
   "outputs": [],
   "source": [
    "set(['_'.join(x.split('_')[:8]) for x in adata[adata.obs['cell_type'] == 'Snap25_Central_Plp1-_Mbp-Plp+_Malat1-_General'].obs['current_leiden'].unique().tolist()])"
   ]
  },
  {
   "cell_type": "code",
   "execution_count": null,
   "id": "4e56f81a-e6bc-4c00-85f0-7a82cc6a6b4a",
   "metadata": {},
   "outputs": [],
   "source": [
    "adata.obs['comparison'] = 'ignore'\n",
    "adata.obs.loc[adata.obs['current_leiden'].str.contains('^s_2_2_1_0_1_1_1'), 'comparison'] = 'cluster_1'\n",
    "adata.obs.loc[adata.obs['current_leiden'].str.contains('^s_2_2_1_0_1_1_0'), 'comparison'] = 'cluster_0'\n",
    "adata.obs.groupby(['comparison']).size()"
   ]
  },
  {
   "cell_type": "code",
   "execution_count": null,
   "id": "ca2a3cda-4ca1-41eb-9d8f-124f5717eded",
   "metadata": {},
   "outputs": [],
   "source": [
    "adata_comparison = adata[adata.obs['comparison'] != 'ignore'].copy()\n",
    "adata_comparison.layers['count'] = adata_comparison.X.copy()\n",
    "sc.pp.normalize_total(adata_comparison, target_sum=1e4)\n",
    "if 'log1p' in adata_comparison.uns.keys(): \n",
    "        del adata_comparison.uns['log1p']\n",
    "sc.pp.log1p(adata_comparison)\n",
    "adata_comparison.layers['lognorm'] = adata_comparison.X.copy()\n",
    "adata_comparison.X = adata_comparison.layers['count'].copy()\n",
    "sc.tl.rank_genes_groups(adata_comparison, \n",
    "                        groupby='comparison', \n",
    "                        use_raw=False,\n",
    "                        layer='lognorm', \n",
    "                        method='wilcoxon', \n",
    "                        rankby_abs=True,\n",
    "                        pts=True, \n",
    "                        key_added='level_7_Snap25_Central_Plp1-_Mbp-Plp+_Malat1-_General')"
   ]
  },
  {
   "cell_type": "code",
   "execution_count": null,
   "id": "d04b8c79-027a-4873-8bc1-4868f7152934",
   "metadata": {},
   "outputs": [],
   "source": [
    "sc.pl.violin(adata_comparison, keys=['pct_counts_mt', 'pct_counts_in_top_100_genes', 'n_genes_by_counts', 'Plp1', 'Malat1', 'Gad1', 'Sncg'], groupby='comparison')"
   ]
  },
  {
   "cell_type": "code",
   "execution_count": null,
   "id": "6a35d355-6ca1-4a20-b7df-478b21dfb30e",
   "metadata": {},
   "outputs": [],
   "source": [
    "\n",
    "fig, axs = plt.subplots(nrows=adata_comparison.obs['comparison'].unique().shape[0], ncols=7, figsize=(35, 10))\n",
    "for row, cluster in enumerate(adata_comparison.obs['comparison'].unique()):\n",
    "    for col, section in enumerate(adata_comparison.obs.sample_id.unique()):\n",
    "        sc.pl.spatial(adata_comparison[adata_comparison.obs['sample_id'] == section].copy(), \n",
    "                     spot_size=25, \n",
    "                      size = 5,\n",
    "                      groups = cluster,\n",
    "                     color = 'comparison', \n",
    "                     ax=axs[row, col], \n",
    "                     show=False)\n",
    "        "
   ]
  },
  {
   "cell_type": "markdown",
   "id": "e2aa30b2-a83e-43c2-8ba7-9d3d758cc43e",
   "metadata": {
    "tags": []
   },
   "source": [
    "### Lower-Complexity"
   ]
  },
  {
   "cell_type": "code",
   "execution_count": null,
   "id": "b3c3b3ec-f878-4803-830d-3b6c4569dcc7",
   "metadata": {},
   "outputs": [],
   "source": [
    "sc.get.rank_genes_groups_df(adata_comparison, \n",
    "                           key = 'level_7_Snap25_Central_Plp1-_Mbp-Plp+_Malat1-_General', \n",
    "                           group = 'cluster_0').iloc[:20]"
   ]
  },
  {
   "cell_type": "code",
   "execution_count": null,
   "id": "e8d6fc70-f9b8-4d6b-a539-5d7c986fa517",
   "metadata": {},
   "outputs": [],
   "source": [
    "df = sc.get.rank_genes_groups_df(adata_comparison, \n",
    "                           key = 'level_7_Snap25_Central_Plp1-_Mbp-Plp+_Malat1-_General', \n",
    "                           group = 'cluster_0')\n",
    "\n",
    "df.loc[(df['pvals_adj'] < 0.01) & (df['pct_nz_group'] > 0.2)].sort_values('logfoldchanges', ascending=False).iloc[:20]"
   ]
  },
  {
   "cell_type": "code",
   "execution_count": null,
   "id": "cda7c6e2-36b2-4f6b-b626-d8cdb05a1c0d",
   "metadata": {
    "tags": []
   },
   "outputs": [],
   "source": [
    "adata.obs.loc[adata.obs['comparison'].str.contains('^cluster_0'), 'cell_type'] = 'Snap25_Central_Plp1-_Mbp-Plp+_Malat1-_General_Lower-Complexity' "
   ]
  },
  {
   "cell_type": "markdown",
   "id": "832c5b5e-f8af-4cde-bce9-4a7ff15b0b6a",
   "metadata": {
    "tags": []
   },
   "source": [
    "### Higher Complexity"
   ]
  },
  {
   "cell_type": "code",
   "execution_count": null,
   "id": "dff73185-1fea-4dd2-b4cc-3c0c26f67cb6",
   "metadata": {},
   "outputs": [],
   "source": [
    "sc.get.rank_genes_groups_df(adata_comparison, \n",
    "                           key = 'level_7_Snap25_Central_Plp1-_Mbp-Plp+_Malat1-_General', \n",
    "                           group = 'cluster_1').iloc[:20]"
   ]
  },
  {
   "cell_type": "code",
   "execution_count": null,
   "id": "a1f14e0c-4cc2-4e22-9552-bcdb36e98305",
   "metadata": {},
   "outputs": [],
   "source": [
    "df = sc.get.rank_genes_groups_df(adata_comparison, \n",
    "                           key = 'level_7_Snap25_Central_Plp1-_Mbp-Plp+_Malat1-_General', \n",
    "                           group = 'cluster_1')\n",
    "\n",
    "df.loc[(df['pvals_adj'] < 0.01) & (df['pct_nz_group'] > 0.2)].sort_values('logfoldchanges', ascending=False).iloc[:20]"
   ]
  },
  {
   "cell_type": "code",
   "execution_count": null,
   "id": "477ada70-f73c-4150-bd0b-c35476a1654d",
   "metadata": {
    "tags": []
   },
   "outputs": [],
   "source": [
    "adata.obs.loc[adata.obs['comparison'].str.contains('^cluster_1'), 'cell_type'] = 'Snap25_Central_Plp1-_Mbp-Plp+_Malat1-_General_Higher-Complexity' "
   ]
  },
  {
   "cell_type": "markdown",
   "id": "05444940-ce7f-40ab-a771-53dd15498f7b",
   "metadata": {
    "jp-MarkdownHeadingCollapsed": true,
    "tags": []
   },
   "source": [
    "# Level 8: Snap25_Central_Plp1-_Mbp-Plp+_Malat1-_General_Higher-Complexity"
   ]
  },
  {
   "cell_type": "code",
   "execution_count": null,
   "id": "4c696e8b-e091-4d43-926b-b0092fcd342e",
   "metadata": {},
   "outputs": [],
   "source": [
    "set(['_'.join(x.split('_')[:9]) for x in adata[adata.obs['cell_type'] == 'Snap25_Central_Plp1-_Mbp-Plp+_Malat1-_General_Higher-Complexity'].obs['current_leiden'].unique().tolist()])"
   ]
  },
  {
   "cell_type": "code",
   "execution_count": null,
   "id": "bd41943a-8eb5-4219-b942-3996304e652c",
   "metadata": {},
   "outputs": [],
   "source": [
    "adata.obs['comparison'] = 'ignore'\n",
    "adata.obs.loc[adata.obs['current_leiden'].str.contains('^s_2_2_1_0_1_1_1_1'), 'comparison'] = 'cluster_1'\n",
    "adata.obs.loc[adata.obs['current_leiden'].str.contains('^s_2_2_1_0_1_1_1_FINAL'), 'comparison'] = 'cluster_0'\n",
    "adata.obs.groupby(['comparison']).size()"
   ]
  },
  {
   "cell_type": "code",
   "execution_count": null,
   "id": "a4bc20bf-f1f2-41ea-84ed-e6d9a8053775",
   "metadata": {},
   "outputs": [],
   "source": [
    "adata_comparison = adata[adata.obs['comparison'] != 'ignore'].copy()\n",
    "adata_comparison.layers['count'] = adata_comparison.X.copy()\n",
    "sc.pp.normalize_total(adata_comparison, target_sum=1e4)\n",
    "if 'log1p' in adata_comparison.uns.keys(): \n",
    "        del adata_comparison.uns['log1p']\n",
    "sc.pp.log1p(adata_comparison)\n",
    "adata_comparison.layers['lognorm'] = adata_comparison.X.copy()\n",
    "adata_comparison.X = adata_comparison.layers['count'].copy()\n",
    "sc.tl.rank_genes_groups(adata_comparison, \n",
    "                        groupby='comparison', \n",
    "                        use_raw=False,\n",
    "                        layer='lognorm', \n",
    "                        method='wilcoxon', \n",
    "                        rankby_abs=True,\n",
    "                        pts=True, \n",
    "                        key_added='level_8_Snap25_Central_Plp1-_Mbp-Plp+_Malat1-_General_Higher-Complexity')"
   ]
  },
  {
   "cell_type": "code",
   "execution_count": null,
   "id": "2d6e68f5-023c-44ae-b322-d2bb384abe34",
   "metadata": {},
   "outputs": [],
   "source": [
    "sc.pl.violin(adata_comparison, keys=['pct_counts_mt', 'pct_counts_in_top_100_genes', 'n_genes_by_counts', 'Plp1', 'Malat1'], groupby='comparison')"
   ]
  },
  {
   "cell_type": "code",
   "execution_count": null,
   "id": "c1744f66-bd6d-4c7b-9079-00f76ff4758c",
   "metadata": {},
   "outputs": [],
   "source": [
    "\n",
    "fig, axs = plt.subplots(nrows=adata_comparison.obs['comparison'].unique().shape[0], ncols=7, figsize=(35, 10))\n",
    "for row, cluster in enumerate(adata_comparison.obs['comparison'].unique()):\n",
    "    for col, section in enumerate(adata_comparison.obs.sample_id.unique()):\n",
    "        sc.pl.spatial(adata_comparison[adata_comparison.obs['sample_id'] == section].copy(), \n",
    "                     spot_size=25, \n",
    "                      size = 5,\n",
    "                      groups = cluster,\n",
    "                     color = 'comparison', \n",
    "                     ax=axs[row, col], \n",
    "                     show=False)\n",
    "        "
   ]
  },
  {
   "cell_type": "markdown",
   "id": "5f80c6cc-9af7-4158-b649-44eafd12bcaa",
   "metadata": {
    "tags": []
   },
   "source": [
    "### Cartpt"
   ]
  },
  {
   "cell_type": "code",
   "execution_count": null,
   "id": "cec84986-ba3a-481b-aede-3081f3bd2452",
   "metadata": {},
   "outputs": [],
   "source": [
    "sc.get.rank_genes_groups_df(adata_comparison, \n",
    "                           key = 'level_8_Snap25_Central_Plp1-_Mbp-Plp+_Malat1-_General_Higher-Complexity', \n",
    "                           group = 'cluster_0').iloc[:20]"
   ]
  },
  {
   "cell_type": "code",
   "execution_count": null,
   "id": "8eefbf94-a1fb-41d6-893f-0371701e804e",
   "metadata": {},
   "outputs": [],
   "source": [
    "df = sc.get.rank_genes_groups_df(adata_comparison, \n",
    "                           key = 'level_8_Snap25_Central_Plp1-_Mbp-Plp+_Malat1-_General_Higher-Complexity', \n",
    "                           group = 'cluster_0')\n",
    "\n",
    "df.loc[(df['pvals_adj'] < 0.01) & (df['pct_nz_group'] > 0.2)].sort_values('logfoldchanges', ascending=False).iloc[:20]"
   ]
  },
  {
   "cell_type": "code",
   "execution_count": null,
   "id": "77c4f670-7614-4376-8329-ef9e16927d1a",
   "metadata": {
    "tags": []
   },
   "outputs": [],
   "source": [
    "adata.obs.loc[adata.obs['comparison'].str.contains('^cluster_0'), 'cell_type'] = 'Snap25_Central_Plp1-_Mbp-Plp+_Malat1-_General_Higher-Complexity_Cartpt' "
   ]
  },
  {
   "cell_type": "markdown",
   "id": "e9d60eb9-49e4-4ed9-b15c-e69e3f6910e6",
   "metadata": {
    "tags": []
   },
   "source": [
    "### General"
   ]
  },
  {
   "cell_type": "code",
   "execution_count": null,
   "id": "ab51e362-935a-49cc-a46d-d9b8a0073951",
   "metadata": {},
   "outputs": [],
   "source": [
    "sc.get.rank_genes_groups_df(adata_comparison, \n",
    "                           key = 'level_8_Snap25_Central_Plp1-_Mbp-Plp+_Malat1-_General_Higher-Complexity', \n",
    "                           group = 'cluster_1').iloc[:20]"
   ]
  },
  {
   "cell_type": "code",
   "execution_count": null,
   "id": "e0bb7eb6-c8d4-40e1-af2d-83d895ed4658",
   "metadata": {},
   "outputs": [],
   "source": [
    "df = sc.get.rank_genes_groups_df(adata_comparison, \n",
    "                           key = 'level_8_Snap25_Central_Plp1-_Mbp-Plp+_Malat1-_General_Higher-Complexity', \n",
    "                           group = 'cluster_1')\n",
    "\n",
    "df.loc[(df['pvals_adj'] < 0.01) & (df['pct_nz_group'] > 0.2)].sort_values('logfoldchanges', ascending=False).iloc[:20]"
   ]
  },
  {
   "cell_type": "code",
   "execution_count": null,
   "id": "daeaafe5-1f83-4f7b-bb6f-6bcbe140dfd7",
   "metadata": {
    "tags": []
   },
   "outputs": [],
   "source": [
    "adata.obs.loc[adata.obs['comparison'].str.contains('^cluster_1'), 'cell_type'] = 'Snap25_Central_Plp1-_Mbp-Plp+_Malat1-_General_Higher-Complexity_General' "
   ]
  },
  {
   "cell_type": "markdown",
   "id": "a4e9310a-a0d2-437d-99f1-006a4e28f091",
   "metadata": {
    "jp-MarkdownHeadingCollapsed": true,
    "tags": []
   },
   "source": [
    "# Level 9: Snap25_Central_Plp1-_Mbp-Plp+_Malat1-_General_Higher-Complexity_General"
   ]
  },
  {
   "cell_type": "code",
   "execution_count": null,
   "id": "f73e600f-637a-4fcb-80f3-74484d32f61a",
   "metadata": {},
   "outputs": [],
   "source": [
    "set(['_'.join(x.split('_')[:10]) for x in adata[adata.obs['cell_type'] == 'Snap25_Central_Plp1-_Mbp-Plp+_Malat1-_General_Higher-Complexity_General'].obs['current_leiden'].unique().tolist()])"
   ]
  },
  {
   "cell_type": "code",
   "execution_count": null,
   "id": "39e82fba-4168-4a5c-88f5-569548ecb06f",
   "metadata": {},
   "outputs": [],
   "source": [
    "adata.obs['comparison'] = 'ignore'\n",
    "adata.obs.loc[adata.obs['current_leiden'].str.contains('^s_2_2_1_0_1_1_1_1_2'), 'comparison'] = 'cluster_2'\n",
    "adata.obs.loc[adata.obs['current_leiden'].str.contains('^s_2_2_1_0_1_1_1_1_0'), 'comparison'] = 'cluster_1'\n",
    "adata.obs.loc[adata.obs['current_leiden'].str.contains('^s_2_2_1_0_1_1_1_1_FINAL'), 'comparison'] = 'cluster_0'\n",
    "adata.obs.groupby(['comparison']).size()"
   ]
  },
  {
   "cell_type": "code",
   "execution_count": null,
   "id": "34f9e847-b754-4399-a244-b37b2e30f4b5",
   "metadata": {},
   "outputs": [],
   "source": [
    "adata_comparison = adata[adata.obs['comparison'] != 'ignore'].copy()\n",
    "adata_comparison.layers['count'] = adata_comparison.X.copy()\n",
    "sc.pp.normalize_total(adata_comparison, target_sum=1e4)\n",
    "if 'log1p' in adata_comparison.uns.keys(): \n",
    "        del adata_comparison.uns['log1p']\n",
    "sc.pp.log1p(adata_comparison)\n",
    "adata_comparison.layers['lognorm'] = adata_comparison.X.copy()\n",
    "adata_comparison.X = adata_comparison.layers['count'].copy()\n",
    "sc.tl.rank_genes_groups(adata_comparison, \n",
    "                        groupby='comparison', \n",
    "                        use_raw=False,\n",
    "                        layer='lognorm', \n",
    "                        method='wilcoxon', \n",
    "                        rankby_abs=True,\n",
    "                        pts=True, \n",
    "                        key_added='level_9_Snap25_Central_Plp1-_Mbp-Plp+_Malat1-_General_Higher-Complexity_General')"
   ]
  },
  {
   "cell_type": "code",
   "execution_count": null,
   "id": "b139e19d-3668-4f6e-a971-9adcdadcf5a5",
   "metadata": {},
   "outputs": [],
   "source": [
    "sc.pl.violin(adata_comparison, keys=['pct_counts_mt', 'pct_counts_in_top_100_genes', 'n_genes_by_counts', 'Plp1', 'Malat1', 'Pvalb'], groupby='comparison')"
   ]
  },
  {
   "cell_type": "code",
   "execution_count": null,
   "id": "36b06bcb-c6a2-4d3e-aa48-11e2ec252809",
   "metadata": {},
   "outputs": [],
   "source": [
    "\n",
    "fig, axs = plt.subplots(nrows=adata_comparison.obs['comparison'].unique().shape[0], ncols=7, figsize=(35, 10))\n",
    "for row, cluster in enumerate(adata_comparison.obs['comparison'].unique()):\n",
    "    for col, section in enumerate(adata_comparison.obs.sample_id.unique()):\n",
    "        sc.pl.spatial(adata_comparison[adata_comparison.obs['sample_id'] == section].copy(), \n",
    "                     spot_size=25, \n",
    "                      size = 5,\n",
    "                      groups = cluster,\n",
    "                     color = 'comparison', \n",
    "                     ax=axs[row, col], \n",
    "                     show=False)\n",
    "        "
   ]
  },
  {
   "cell_type": "markdown",
   "id": "5bd384fc-0498-4e4f-aef7-fe51644c03b7",
   "metadata": {
    "tags": []
   },
   "source": [
    "### Calca+"
   ]
  },
  {
   "cell_type": "code",
   "execution_count": null,
   "id": "d37b049c-3049-4324-b528-56e184ae2661",
   "metadata": {},
   "outputs": [],
   "source": [
    "sc.get.rank_genes_groups_df(adata_comparison, \n",
    "                           key = 'level_9_Snap25_Central_Plp1-_Mbp-Plp+_Malat1-_General_Higher-Complexity_General', \n",
    "                           group = 'cluster_0').iloc[:20]"
   ]
  },
  {
   "cell_type": "code",
   "execution_count": null,
   "id": "6921917a-1b15-46e0-bc4e-fd0a14877d70",
   "metadata": {},
   "outputs": [],
   "source": [
    "df = sc.get.rank_genes_groups_df(adata_comparison, \n",
    "                           key = 'level_9_Snap25_Central_Plp1-_Mbp-Plp+_Malat1-_General_Higher-Complexity_General', \n",
    "                           group = 'cluster_0')\n",
    "\n",
    "df.loc[(df['pvals_adj'] < 0.01) & (df['pct_nz_group'] > 0.2)].sort_values('logfoldchanges', ascending=False).iloc[:20]"
   ]
  },
  {
   "cell_type": "code",
   "execution_count": null,
   "id": "a999d315-0b6d-4bc1-ab84-6c70d7e3e840",
   "metadata": {
    "tags": []
   },
   "outputs": [],
   "source": [
    "adata.obs.loc[adata.obs['comparison'].str.contains('^cluster_0'), 'cell_type'] = 'Snap25_Central_Plp1-_Mbp-Plp+_Malat1-_General_Higher-Complexity_General_Calca+' "
   ]
  },
  {
   "cell_type": "markdown",
   "id": "1605ab53-730e-489d-b27d-4ab1e9dad852",
   "metadata": {
    "tags": []
   },
   "source": [
    "### Sample-dependent 1"
   ]
  },
  {
   "cell_type": "code",
   "execution_count": null,
   "id": "e71061b3-feeb-4284-8e89-97aba565f808",
   "metadata": {},
   "outputs": [],
   "source": [
    "adata_comparison.obs.groupby(['mouse_id', 'comparison']).size()"
   ]
  },
  {
   "cell_type": "code",
   "execution_count": null,
   "id": "7c8337f2-5e22-46a0-b4b6-275b92569d24",
   "metadata": {},
   "outputs": [],
   "source": [
    "sc.get.rank_genes_groups_df(adata_comparison, \n",
    "                           key = 'level_9_Snap25_Central_Plp1-_Mbp-Plp+_Malat1-_General_Higher-Complexity_General', \n",
    "                           group = 'cluster_1').iloc[:20]"
   ]
  },
  {
   "cell_type": "code",
   "execution_count": null,
   "id": "2d79314a-42b7-4798-8ea9-cdbc0152a495",
   "metadata": {},
   "outputs": [],
   "source": [
    "df = sc.get.rank_genes_groups_df(adata_comparison, \n",
    "                           key = 'level_9_Snap25_Central_Plp1-_Mbp-Plp+_Malat1-_General_Higher-Complexity_General', \n",
    "                           group = 'cluster_1')\n",
    "\n",
    "df.loc[(df['pvals_adj'] < 0.01) & (df['pct_nz_group'] > 0.2)].sort_values('logfoldchanges', ascending=False).iloc[:20]"
   ]
  },
  {
   "cell_type": "code",
   "execution_count": null,
   "id": "54210113-dd07-4aa8-9d78-ae7a425f7b0c",
   "metadata": {
    "tags": []
   },
   "outputs": [],
   "source": [
    "adata.obs.loc[adata.obs['comparison'].str.contains('^cluster_1'), 'cell_type'] = 'Snap25_Central_Plp1-_Mbp-Plp+_Malat1-_General_Higher-Complexity_General_Sample-Dependent-1' "
   ]
  },
  {
   "cell_type": "markdown",
   "id": "bb1321e3-ee70-40aa-a530-a22a5c8e6779",
   "metadata": {
    "tags": []
   },
   "source": [
    "### Sample-dependent 2"
   ]
  },
  {
   "cell_type": "code",
   "execution_count": null,
   "id": "c50750f9-9df3-4c7d-ae37-5953db724f83",
   "metadata": {},
   "outputs": [],
   "source": [
    "sc.get.rank_genes_groups_df(adata_comparison, \n",
    "                           key = 'level_9_Snap25_Central_Plp1-_Mbp-Plp+_Malat1-_General_Higher-Complexity_General', \n",
    "                           group = 'cluster_2').iloc[:20]"
   ]
  },
  {
   "cell_type": "code",
   "execution_count": null,
   "id": "7e055ef7-35d2-4afb-8abb-ac7d579a85ee",
   "metadata": {},
   "outputs": [],
   "source": [
    "df = sc.get.rank_genes_groups_df(adata_comparison, \n",
    "                           key = 'level_9_Snap25_Central_Plp1-_Mbp-Plp+_Malat1-_General_Higher-Complexity_General', \n",
    "                           group = 'cluster_2')\n",
    "\n",
    "df.loc[(df['pvals_adj'] < 0.01) & (df['pct_nz_group'] > 0.2)].sort_values('logfoldchanges', ascending=False).iloc[:20]"
   ]
  },
  {
   "cell_type": "code",
   "execution_count": null,
   "id": "eb8f20ce-6ab7-49d1-bd6d-3b67b79b5912",
   "metadata": {
    "tags": []
   },
   "outputs": [],
   "source": [
    "adata.obs.loc[adata.obs['comparison'].str.contains('^cluster_2'), 'cell_type'] = 'Snap25_Central_Plp1-_Mbp-Plp+_Malat1-_General_Higher-Complexity_General_Sample-Dependent-2' "
   ]
  },
  {
   "cell_type": "markdown",
   "id": "6a1cf117-517d-4248-a391-d849af937204",
   "metadata": {
    "jp-MarkdownHeadingCollapsed": true,
    "tags": []
   },
   "source": [
    "# Level 10: Snap25_Central_Plp1-_Mbp-Plp+_Malat1-_General_Higher-Complexity_General_Sample-Dependent-1"
   ]
  },
  {
   "cell_type": "code",
   "execution_count": null,
   "id": "cf8d1805-07eb-4ef5-933f-8539a63e3898",
   "metadata": {},
   "outputs": [],
   "source": [
    "set(['_'.join(x.split('_')[:11]) for x in adata[adata.obs['cell_type'] == 'Snap25_Central_Plp1-_Mbp-Plp+_Malat1-_General_Higher-Complexity_General_Sample-Dependent-1'].obs['current_leiden'].unique().tolist()])"
   ]
  },
  {
   "cell_type": "code",
   "execution_count": null,
   "id": "1e00d828-72f8-4cb4-a278-a50923a0b28b",
   "metadata": {},
   "outputs": [],
   "source": [
    "adata.obs['comparison'] = 'ignore'\n",
    "adata.obs.loc[adata.obs['current_leiden'].str.contains('^s_2_2_1_0_1_1_1_1_0_FINAL'), 'comparison'] = 'cluster_1'\n",
    "adata.obs.loc[adata.obs['current_leiden'].str.contains('^s_2_2_1_0_1_1_1_1_0_0'), 'comparison'] = 'cluster_0'\n",
    "adata.obs.groupby(['comparison']).size()"
   ]
  },
  {
   "cell_type": "code",
   "execution_count": null,
   "id": "c6f23d5f-fc52-4ae8-8d90-d413e78bfc13",
   "metadata": {},
   "outputs": [],
   "source": [
    "adata_comparison = adata[adata.obs['comparison'] != 'ignore'].copy()\n",
    "adata_comparison.layers['count'] = adata_comparison.X.copy()\n",
    "sc.pp.normalize_total(adata_comparison, target_sum=1e4)\n",
    "if 'log1p' in adata_comparison.uns.keys(): \n",
    "        del adata_comparison.uns['log1p']\n",
    "sc.pp.log1p(adata_comparison)\n",
    "adata_comparison.layers['lognorm'] = adata_comparison.X.copy()\n",
    "adata_comparison.X = adata_comparison.layers['count'].copy()\n",
    "sc.tl.rank_genes_groups(adata_comparison, \n",
    "                        groupby='comparison', \n",
    "                        use_raw=False,\n",
    "                        layer='lognorm', \n",
    "                        method='wilcoxon', \n",
    "                        rankby_abs=True,\n",
    "                        pts=True, \n",
    "                        key_added='level_10_Snap25_Central_Plp1-_Mbp-Plp+_Malat1-_General_Higher-Complexity_General_Sample-Dependent-1')"
   ]
  },
  {
   "cell_type": "code",
   "execution_count": null,
   "id": "da7db4dc-a830-4729-aaee-fadfc32449ae",
   "metadata": {},
   "outputs": [],
   "source": [
    "sc.pl.violin(adata_comparison, keys=['pct_counts_mt', 'pct_counts_in_top_100_genes', 'n_genes_by_counts', 'Plp1', 'Malat1', 'Pvalb', 'Ahi1'], groupby='comparison')"
   ]
  },
  {
   "cell_type": "code",
   "execution_count": null,
   "id": "97163f40-114a-4912-8f26-2ba7bfd6a311",
   "metadata": {},
   "outputs": [],
   "source": [
    "adata_comparison.obs.groupby(['mouse_id', 'comparison']).size()"
   ]
  },
  {
   "cell_type": "code",
   "execution_count": null,
   "id": "92bcf3a8-b5b8-4cc2-86e1-d6dbaff38d3b",
   "metadata": {},
   "outputs": [],
   "source": [
    "\n",
    "fig, axs = plt.subplots(nrows=adata_comparison.obs['comparison'].unique().shape[0], ncols=7, figsize=(35, 10))\n",
    "for row, cluster in enumerate(adata_comparison.obs['comparison'].unique()):\n",
    "    for col, section in enumerate(adata_comparison.obs.sample_id.unique()):\n",
    "        sc.pl.spatial(adata_comparison[adata_comparison.obs['sample_id'] == section].copy(), \n",
    "                     spot_size=25, \n",
    "                      size = 5,\n",
    "                      groups = cluster,\n",
    "                     color = 'comparison', \n",
    "                     ax=axs[row, col], \n",
    "                     show=False)\n",
    "        "
   ]
  },
  {
   "cell_type": "markdown",
   "id": "1ea7093a-4c21-480a-9a2e-6736d2dd05f1",
   "metadata": {
    "tags": []
   },
   "source": [
    "### Sample-Dependent-1"
   ]
  },
  {
   "cell_type": "code",
   "execution_count": null,
   "id": "023a3a50-9ed9-406d-b4a9-d1615cea3475",
   "metadata": {},
   "outputs": [],
   "source": [
    "sc.get.rank_genes_groups_df(adata_comparison, \n",
    "                           key = 'level_10_Snap25_Central_Plp1-_Mbp-Plp+_Malat1-_General_Higher-Complexity_General_Sample-Dependent-1', \n",
    "                           group = 'cluster_0').iloc[:20]"
   ]
  },
  {
   "cell_type": "code",
   "execution_count": null,
   "id": "30dd54b8-b364-45a3-9786-8ff8ea1040a1",
   "metadata": {},
   "outputs": [],
   "source": [
    "df = sc.get.rank_genes_groups_df(adata_comparison, \n",
    "                           key = 'level_10_Snap25_Central_Plp1-_Mbp-Plp+_Malat1-_General_Higher-Complexity_General_Sample-Dependent-1', \n",
    "                           group = 'cluster_0')\n",
    "\n",
    "df.loc[(df['pvals_adj'] < 0.01) & (df['pct_nz_group'] > 0.2)].sort_values('logfoldchanges', ascending=False).iloc[:20]"
   ]
  },
  {
   "cell_type": "code",
   "execution_count": null,
   "id": "02ba36f2-465d-4528-a48e-316e924dc303",
   "metadata": {
    "tags": []
   },
   "outputs": [],
   "source": [
    "adata.obs.loc[adata.obs['comparison'].str.contains('^cluster_0'), 'cell_type'] = 'Snap25_Central_Plp1-_Mbp-Plp+_Malat1-_General_Higher-Complexity_General_Sample-Dependent-1_Sample-Dependent-1' "
   ]
  },
  {
   "cell_type": "markdown",
   "id": "1adc7fdc-db8d-46c6-be35-7e6b78eb5403",
   "metadata": {
    "tags": []
   },
   "source": [
    "### Sample-Dependent-2"
   ]
  },
  {
   "cell_type": "code",
   "execution_count": null,
   "id": "b3a1ba91-6658-434f-a998-50ade5a358ab",
   "metadata": {},
   "outputs": [],
   "source": [
    "sc.get.rank_genes_groups_df(adata_comparison, \n",
    "                           key = 'level_10_Snap25_Central_Plp1-_Mbp-Plp+_Malat1-_General_Higher-Complexity_General_Sample-Dependent-1', \n",
    "                           group = 'cluster_1').iloc[:20]"
   ]
  },
  {
   "cell_type": "code",
   "execution_count": null,
   "id": "df9e3683-e897-4ea5-bfcf-3f16395c1d41",
   "metadata": {},
   "outputs": [],
   "source": [
    "df = sc.get.rank_genes_groups_df(adata_comparison, \n",
    "                           key = 'level_10_Snap25_Central_Plp1-_Mbp-Plp+_Malat1-_General_Higher-Complexity_General_Sample-Dependent-1', \n",
    "                           group = 'cluster_1')\n",
    "\n",
    "df.loc[(df['pvals_adj'] < 0.01) & (df['pct_nz_group'] > 0.2)].sort_values('logfoldchanges', ascending=False).iloc[:20]"
   ]
  },
  {
   "cell_type": "code",
   "execution_count": null,
   "id": "5c8decca-9ad7-4ddc-8114-91957ccb16e8",
   "metadata": {
    "tags": []
   },
   "outputs": [],
   "source": [
    "adata.obs.loc[adata.obs['comparison'].str.contains('^cluster_1'), 'cell_type'] = 'Snap25_Central_Plp1-_Mbp-Plp+_Malat1-_General_Higher-Complexity_General_Sample-Dependent-1_Sample-Dependent-2' "
   ]
  },
  {
   "cell_type": "markdown",
   "id": "e027e3af-1e12-425a-97fb-e3189dc246eb",
   "metadata": {
    "jp-MarkdownHeadingCollapsed": true,
    "tags": []
   },
   "source": [
    "# Level 11: Snap25_Central_Plp1-_Mbp-Plp+_Malat1-_General_Higher-Complexity_General_Sample-Dependent-1_Sample-Dependent-1"
   ]
  },
  {
   "cell_type": "code",
   "execution_count": null,
   "id": "4a157276-7d1e-4317-909a-cfac7be7bb7e",
   "metadata": {},
   "outputs": [],
   "source": [
    "set(['_'.join(x.split('_')[:12]) for x in adata[adata.obs['cell_type'] == 'Snap25_Central_Plp1-_Mbp-Plp+_Malat1-_General_Higher-Complexity_General_Sample-Dependent-1_Sample-Dependent-1'].obs['current_leiden'].unique().tolist()])"
   ]
  },
  {
   "cell_type": "code",
   "execution_count": null,
   "id": "bcb620ed-4799-48ee-ae30-91aa3dd1c548",
   "metadata": {},
   "outputs": [],
   "source": [
    "adata.obs['comparison'] = 'ignore'\n",
    "adata.obs.loc[adata.obs['current_leiden'].str.contains('^s_2_2_1_0_1_1_1_1_0_0_1'), 'comparison'] = 'cluster_1'\n",
    "adata.obs.loc[adata.obs['current_leiden'].str.contains('^s_2_2_1_0_1_1_1_1_0_0_FINAL'), 'comparison'] = 'cluster_0'\n",
    "adata.obs.groupby(['comparison']).size()"
   ]
  },
  {
   "cell_type": "code",
   "execution_count": null,
   "id": "f6e58530-3dc5-43c3-b847-d1166de9d927",
   "metadata": {},
   "outputs": [],
   "source": [
    "adata_comparison = adata[adata.obs['comparison'] != 'ignore'].copy()\n",
    "adata_comparison.layers['count'] = adata_comparison.X.copy()\n",
    "sc.pp.normalize_total(adata_comparison, target_sum=1e4)\n",
    "if 'log1p' in adata_comparison.uns.keys(): \n",
    "        del adata_comparison.uns['log1p']\n",
    "sc.pp.log1p(adata_comparison)\n",
    "adata_comparison.layers['lognorm'] = adata_comparison.X.copy()\n",
    "adata_comparison.X = adata_comparison.layers['count'].copy()\n",
    "sc.tl.rank_genes_groups(adata_comparison, \n",
    "                        groupby='comparison', \n",
    "                        use_raw=False,\n",
    "                        layer='lognorm', \n",
    "                        method='wilcoxon', \n",
    "                        rankby_abs=True,\n",
    "                        pts=True, \n",
    "                        key_added='level_11_Snap25_Central_Plp1-_Mbp-Plp+_Malat1-_General_Higher-Complexity_General_Sample-Dependent-1_Sample-Dependent-1')"
   ]
  },
  {
   "cell_type": "code",
   "execution_count": null,
   "id": "27f06de2-7014-4ded-91c6-916f9346ae65",
   "metadata": {},
   "outputs": [],
   "source": [
    "sc.pl.violin(adata_comparison, keys=['pct_counts_mt', 'pct_counts_in_top_100_genes', 'n_genes_by_counts', 'Plp1', 'Malat1'], groupby='comparison')"
   ]
  },
  {
   "cell_type": "code",
   "execution_count": null,
   "id": "4aa61adb-1376-44cc-9390-34b91924a420",
   "metadata": {},
   "outputs": [],
   "source": [
    "adata_comparison.obs.groupby(['mouse_id', 'comparison']).size()"
   ]
  },
  {
   "cell_type": "code",
   "execution_count": null,
   "id": "a0d191af-c2c8-4c99-af02-e0f0bfe73b8e",
   "metadata": {},
   "outputs": [],
   "source": [
    "\n",
    "fig, axs = plt.subplots(nrows=adata_comparison.obs['comparison'].unique().shape[0], ncols=7, figsize=(35, 10))\n",
    "for row, cluster in enumerate(adata_comparison.obs['comparison'].unique()):\n",
    "    for col, section in enumerate(adata_comparison.obs.sample_id.unique()):\n",
    "        sc.pl.spatial(adata_comparison[adata_comparison.obs['sample_id'] == section].copy(), \n",
    "                     spot_size=25, \n",
    "                      size = 5,\n",
    "                      groups = cluster,\n",
    "                     color = 'comparison', \n",
    "                     ax=axs[row, col], \n",
    "                     show=False)\n",
    "        "
   ]
  },
  {
   "cell_type": "markdown",
   "id": "f3d24c17-784f-4835-9e99-531721f7d941",
   "metadata": {
    "tags": []
   },
   "source": [
    "### Thalamic & PAG"
   ]
  },
  {
   "cell_type": "code",
   "execution_count": null,
   "id": "ea54ddd7-4ddd-45f1-8026-0dbaad82196b",
   "metadata": {},
   "outputs": [],
   "source": [
    "sc.get.rank_genes_groups_df(adata_comparison, \n",
    "                           key = 'level_11_Snap25_Central_Plp1-_Mbp-Plp+_Malat1-_General_Higher-Complexity_General_Sample-Dependent-1_Sample-Dependent-1', \n",
    "                           group = 'cluster_0').iloc[:20]"
   ]
  },
  {
   "cell_type": "code",
   "execution_count": null,
   "id": "627c4b1b-9fcb-4627-87a1-417163259bf5",
   "metadata": {},
   "outputs": [],
   "source": [
    "df = sc.get.rank_genes_groups_df(adata_comparison, \n",
    "                           key = 'level_11_Snap25_Central_Plp1-_Mbp-Plp+_Malat1-_General_Higher-Complexity_General_Sample-Dependent-1_Sample-Dependent-1', \n",
    "                           group = 'cluster_0')\n",
    "\n",
    "df.loc[(df['pvals_adj'] < 0.01) & (df['pct_nz_group'] > 0.2)].sort_values('logfoldchanges', ascending=False).iloc[:20]"
   ]
  },
  {
   "cell_type": "code",
   "execution_count": null,
   "id": "32b34fb6-60f4-4e5d-9e11-4a4e77f46d90",
   "metadata": {
    "tags": []
   },
   "outputs": [],
   "source": [
    "adata.obs.loc[adata.obs['comparison'].str.contains('^cluster_0'), 'cell_type'] = 'Snap25_Central_Plp1-_Mbp-Plp+_Malat1-_General_Higher-Complexity_General_Sample-Dependent-1_Sample-Dependent-1_Thalamic-PAG' "
   ]
  },
  {
   "cell_type": "markdown",
   "id": "beaff0f3-2537-4e7e-8140-7c43da4bf2ec",
   "metadata": {
    "tags": []
   },
   "source": [
    "### General"
   ]
  },
  {
   "cell_type": "code",
   "execution_count": null,
   "id": "3f657435-b08e-449f-b60e-2c37c07828ee",
   "metadata": {},
   "outputs": [],
   "source": [
    "sc.get.rank_genes_groups_df(adata_comparison, \n",
    "                           key = 'level_11_Snap25_Central_Plp1-_Mbp-Plp+_Malat1-_General_Higher-Complexity_General_Sample-Dependent-1_Sample-Dependent-1', \n",
    "                           group = 'cluster_1').iloc[:20]"
   ]
  },
  {
   "cell_type": "code",
   "execution_count": null,
   "id": "8caf4103-4d63-466e-9ceb-02ae0ec02999",
   "metadata": {},
   "outputs": [],
   "source": [
    "df = sc.get.rank_genes_groups_df(adata_comparison, \n",
    "                           key = 'level_11_Snap25_Central_Plp1-_Mbp-Plp+_Malat1-_General_Higher-Complexity_General_Sample-Dependent-1_Sample-Dependent-1', \n",
    "                           group = 'cluster_1')\n",
    "\n",
    "df.loc[(df['pvals_adj'] < 0.01) & (df['pct_nz_group'] > 0.2)].sort_values('logfoldchanges', ascending=False).iloc[:20]"
   ]
  },
  {
   "cell_type": "code",
   "execution_count": null,
   "id": "c528efc7-db47-4093-b893-e07ee98ff576",
   "metadata": {
    "tags": []
   },
   "outputs": [],
   "source": [
    "adata.obs.loc[adata.obs['comparison'].str.contains('^cluster_1'), 'cell_type'] = 'Snap25_Central_Plp1-_Mbp-Plp+_Malat1-_General_Higher-Complexity_General_Sample-Dependent-1_Sample-Dependent-1_General' "
   ]
  },
  {
   "cell_type": "markdown",
   "id": "400bf7a4-075e-4b7c-809d-926c654a0c1e",
   "metadata": {
    "jp-MarkdownHeadingCollapsed": true,
    "tags": []
   },
   "source": [
    "# Level 12: Snap25_Central_Plp1-_Mbp-Plp+_Malat1-_General_Higher-Complexity_General_Sample-Dependent-1_Sample-Dependent-1_General"
   ]
  },
  {
   "cell_type": "code",
   "execution_count": null,
   "id": "5e766db3-6c5f-4c1f-9ad1-6fad29a89d4d",
   "metadata": {},
   "outputs": [],
   "source": [
    "set(['_'.join(x.split('_')[:13]) for x in adata[adata.obs['cell_type'] == 'Snap25_Central_Plp1-_Mbp-Plp+_Malat1-_General_Higher-Complexity_General_Sample-Dependent-1_Sample-Dependent-1_General'].obs['current_leiden'].unique().tolist()])"
   ]
  },
  {
   "cell_type": "code",
   "execution_count": null,
   "id": "0fa7bb37-0601-4410-9bb2-f59976219710",
   "metadata": {},
   "outputs": [],
   "source": [
    "adata.obs['comparison'] = 'ignore'\n",
    "adata.obs.loc[adata.obs['current_leiden'].str.contains('^s_2_2_1_0_1_1_1_1_0_0_1_0'), 'comparison'] = 'cluster_1'\n",
    "adata.obs.loc[adata.obs['current_leiden'].str.contains('^s_2_2_1_0_1_1_1_1_0_0_1_FINAL'), 'comparison'] = 'cluster_0'\n",
    "adata.obs.groupby(['comparison']).size()"
   ]
  },
  {
   "cell_type": "code",
   "execution_count": null,
   "id": "5bffdf93-c6bb-4925-b18a-ae9ef6cca92c",
   "metadata": {},
   "outputs": [],
   "source": [
    "adata_comparison = adata[adata.obs['comparison'] != 'ignore'].copy()\n",
    "adata_comparison.layers['count'] = adata_comparison.X.copy()\n",
    "sc.pp.normalize_total(adata_comparison, target_sum=1e4)\n",
    "if 'log1p' in adata_comparison.uns.keys(): \n",
    "        del adata_comparison.uns['log1p']\n",
    "sc.pp.log1p(adata_comparison)\n",
    "adata_comparison.layers['lognorm'] = adata_comparison.X.copy()\n",
    "adata_comparison.X = adata_comparison.layers['count'].copy()\n",
    "sc.tl.rank_genes_groups(adata_comparison, \n",
    "                        groupby='comparison', \n",
    "                        use_raw=False,\n",
    "                        layer='lognorm', \n",
    "                        method='wilcoxon', \n",
    "                        rankby_abs=True,\n",
    "                        pts=True, \n",
    "                        key_added='level_12_Snap25_Central_Plp1-_Mbp-Plp+_Malat1-_General_Higher-Complexity_General_Sample-Dependent-1_Sample-Dependent-1_General')"
   ]
  },
  {
   "cell_type": "code",
   "execution_count": null,
   "id": "6773515d-be74-4fd8-bd59-8ac71bf03f7c",
   "metadata": {},
   "outputs": [],
   "source": [
    "sc.pl.violin(adata_comparison, keys=['pct_counts_mt', 'pct_counts_in_top_100_genes', 'n_genes_by_counts', 'Plp1', 'Malat1'], groupby='comparison')"
   ]
  },
  {
   "cell_type": "code",
   "execution_count": null,
   "id": "871828c8-7b1f-484f-b1ed-129c42f300bb",
   "metadata": {},
   "outputs": [],
   "source": [
    "adata_comparison.obs.groupby(['mouse_id', 'comparison']).size()"
   ]
  },
  {
   "cell_type": "code",
   "execution_count": null,
   "id": "dc086916-44a0-4a50-a206-b602221c8321",
   "metadata": {},
   "outputs": [],
   "source": [
    "\n",
    "fig, axs = plt.subplots(nrows=adata_comparison.obs['comparison'].unique().shape[0], ncols=7, figsize=(35, 10))\n",
    "for row, cluster in enumerate(adata_comparison.obs['comparison'].unique()):\n",
    "    for col, section in enumerate(adata_comparison.obs.sample_id.unique()):\n",
    "        sc.pl.spatial(adata_comparison[adata_comparison.obs['sample_id'] == section].copy(), \n",
    "                     spot_size=25, \n",
    "                      size = 5,\n",
    "                      groups = cluster,\n",
    "                     color = 'comparison', \n",
    "                     ax=axs[row, col], \n",
    "                     show=False)\n",
    "        "
   ]
  },
  {
   "cell_type": "markdown",
   "id": "d7cf664f-3841-4222-80b7-3970736aea4f",
   "metadata": {
    "tags": []
   },
   "source": [
    "### Dorsal (Technical)"
   ]
  },
  {
   "cell_type": "code",
   "execution_count": null,
   "id": "9dd9008a-4234-44ac-951b-d99e713bf5be",
   "metadata": {},
   "outputs": [],
   "source": [
    "sc.get.rank_genes_groups_df(adata_comparison, \n",
    "                           key = 'level_12_Snap25_Central_Plp1-_Mbp-Plp+_Malat1-_General_Higher-Complexity_General_Sample-Dependent-1_Sample-Dependent-1_General', \n",
    "                           group = 'cluster_0').iloc[:20]"
   ]
  },
  {
   "cell_type": "code",
   "execution_count": null,
   "id": "a290a966-1531-47ed-a6a0-20e2c2b9b4f1",
   "metadata": {},
   "outputs": [],
   "source": [
    "df = sc.get.rank_genes_groups_df(adata_comparison, \n",
    "                           key = 'level_12_Snap25_Central_Plp1-_Mbp-Plp+_Malat1-_General_Higher-Complexity_General_Sample-Dependent-1_Sample-Dependent-1_General', \n",
    "                           group = 'cluster_0')\n",
    "\n",
    "df.loc[(df['pvals_adj'] < 0.01) & (df['pct_nz_group'] > 0.2)].sort_values('logfoldchanges', ascending=False).iloc[:20]"
   ]
  },
  {
   "cell_type": "code",
   "execution_count": null,
   "id": "35c36a05-577e-4c52-9161-e17247456f39",
   "metadata": {
    "tags": []
   },
   "outputs": [],
   "source": [
    "adata.obs.loc[adata.obs['comparison'].str.contains('^cluster_0'), 'cell_type'] = 'Snap25_Central_Plp1-_Mbp-Plp+_Malat1-_General_Higher-Complexity_General_Sample-Dependent-1_Sample-Dependent-1_General_Dorsal' "
   ]
  },
  {
   "cell_type": "markdown",
   "id": "e97aca7f-19b8-4ceb-a01c-e46659aef4f6",
   "metadata": {
    "tags": []
   },
   "source": [
    "### General"
   ]
  },
  {
   "cell_type": "code",
   "execution_count": null,
   "id": "bd7248a8-4741-4dc9-a812-d4a70d7d85d6",
   "metadata": {},
   "outputs": [],
   "source": [
    "sc.get.rank_genes_groups_df(adata_comparison, \n",
    "                           key = 'level_12_Snap25_Central_Plp1-_Mbp-Plp+_Malat1-_General_Higher-Complexity_General_Sample-Dependent-1_Sample-Dependent-1_General', \n",
    "                           group = 'cluster_1').iloc[:20]"
   ]
  },
  {
   "cell_type": "code",
   "execution_count": null,
   "id": "9da81883-e8f2-47de-986f-2622c78febdb",
   "metadata": {},
   "outputs": [],
   "source": [
    "df = sc.get.rank_genes_groups_df(adata_comparison, \n",
    "                           key = 'level_12_Snap25_Central_Plp1-_Mbp-Plp+_Malat1-_General_Higher-Complexity_General_Sample-Dependent-1_Sample-Dependent-1_General', \n",
    "                           group = 'cluster_1')\n",
    "\n",
    "df.loc[(df['pvals_adj'] < 0.01) & (df['pct_nz_group'] > 0.2)].sort_values('logfoldchanges', ascending=False).iloc[:20]"
   ]
  },
  {
   "cell_type": "code",
   "execution_count": null,
   "id": "c5141b80-81d1-4ce2-a9ee-14e4a86defce",
   "metadata": {
    "tags": []
   },
   "outputs": [],
   "source": [
    "adata.obs.loc[adata.obs['comparison'].str.contains('^cluster_1'), 'cell_type'] = 'Snap25_Central_Plp1-_Mbp-Plp+_Malat1-_General_Higher-Complexity_General_Sample-Dependent-1_Sample-Dependent-1_General_General' "
   ]
  },
  {
   "cell_type": "markdown",
   "id": "4100e721-efe3-4979-9405-8a139180daf9",
   "metadata": {
    "jp-MarkdownHeadingCollapsed": true,
    "tags": []
   },
   "source": [
    "# Level 10: Snap25_Central_Plp1-_Mbp-Plp+_Malat1-_General_Higher-Complexity_General_Sample-Dependent-2"
   ]
  },
  {
   "cell_type": "code",
   "execution_count": null,
   "id": "a09c57a4-d69b-44ea-a71a-91b8005408a8",
   "metadata": {},
   "outputs": [],
   "source": [
    "set(['_'.join(x.split('_')[:11]) for x in adata[adata.obs['cell_type'] == 'Snap25_Central_Plp1-_Mbp-Plp+_Malat1-_General_Higher-Complexity_General_Sample-Dependent-2'].obs['current_leiden'].unique().tolist()])"
   ]
  },
  {
   "cell_type": "code",
   "execution_count": null,
   "id": "03c2da95-a5f3-4a95-bef6-c6f7d8e33ddb",
   "metadata": {},
   "outputs": [],
   "source": [
    "adata.obs['comparison'] = 'ignore'\n",
    "adata.obs.loc[adata.obs['current_leiden'].str.contains('^s_2_2_1_0_1_1_1_1_2_1'), 'comparison'] = 'cluster_1'\n",
    "adata.obs.loc[adata.obs['current_leiden'].str.contains('^s_2_2_1_0_1_1_1_1_2_0'), 'comparison'] = 'cluster_0'\n",
    "adata.obs.groupby(['comparison']).size()"
   ]
  },
  {
   "cell_type": "code",
   "execution_count": null,
   "id": "5ab55884-f73d-4f5d-a1fb-08a6fe5aac01",
   "metadata": {},
   "outputs": [],
   "source": [
    "adata_comparison = adata[adata.obs['comparison'] != 'ignore'].copy()\n",
    "adata_comparison.layers['count'] = adata_comparison.X.copy()\n",
    "sc.pp.normalize_total(adata_comparison, target_sum=1e4)\n",
    "if 'log1p' in adata_comparison.uns.keys(): \n",
    "        del adata_comparison.uns['log1p']\n",
    "sc.pp.log1p(adata_comparison)\n",
    "adata_comparison.layers['lognorm'] = adata_comparison.X.copy()\n",
    "adata_comparison.X = adata_comparison.layers['count'].copy()\n",
    "sc.tl.rank_genes_groups(adata_comparison, \n",
    "                        groupby='comparison', \n",
    "                        use_raw=False,\n",
    "                        layer='lognorm', \n",
    "                        method='wilcoxon', \n",
    "                        rankby_abs=True,\n",
    "                        pts=True, \n",
    "                        key_added='level_10_Snap25_Central_Plp1-_Mbp-Plp+_Malat1-_General_Higher-Complexity_General_Sample-Dependent-2')"
   ]
  },
  {
   "cell_type": "code",
   "execution_count": null,
   "id": "adbe7338-ed7a-4961-9620-c5ffce9b6f27",
   "metadata": {},
   "outputs": [],
   "source": [
    "sc.pl.violin(adata_comparison, keys=['pct_counts_mt', 'pct_counts_in_top_100_genes', 'n_genes_by_counts', 'Plp1', 'Malat1', 'Pvalb', 'Ahi1'], groupby='comparison')"
   ]
  },
  {
   "cell_type": "code",
   "execution_count": null,
   "id": "3110ecbf-1a1f-439e-8838-4573d6f2de66",
   "metadata": {},
   "outputs": [],
   "source": [
    "adata_comparison.obs.groupby(['mouse_id', 'comparison']).size()"
   ]
  },
  {
   "cell_type": "code",
   "execution_count": null,
   "id": "f7d1aeec-174a-443d-989a-7a062f14dab1",
   "metadata": {},
   "outputs": [],
   "source": [
    "\n",
    "fig, axs = plt.subplots(nrows=adata_comparison.obs['comparison'].unique().shape[0], ncols=7, figsize=(35, 10))\n",
    "for row, cluster in enumerate(adata_comparison.obs['comparison'].unique()):\n",
    "    for col, section in enumerate(adata_comparison.obs.sample_id.unique()):\n",
    "        sc.pl.spatial(adata_comparison[adata_comparison.obs['sample_id'] == section].copy(), \n",
    "                     spot_size=25, \n",
    "                      size = 5,\n",
    "                      groups = cluster,\n",
    "                     color = 'comparison', \n",
    "                     ax=axs[row, col], \n",
    "                     show=False)\n",
    "        "
   ]
  },
  {
   "cell_type": "markdown",
   "id": "68c99957-e377-432b-97d5-5cded47d6142",
   "metadata": {
    "tags": []
   },
   "source": [
    "### Pvalb+"
   ]
  },
  {
   "cell_type": "code",
   "execution_count": null,
   "id": "d9dcc731-fb86-4ff2-8b53-d65f1f684356",
   "metadata": {},
   "outputs": [],
   "source": [
    "sc.get.rank_genes_groups_df(adata_comparison, \n",
    "                           key = 'level_10_Snap25_Central_Plp1-_Mbp-Plp+_Malat1-_General_Higher-Complexity_General_Sample-Dependent-2', \n",
    "                           group = 'cluster_0').iloc[:20]"
   ]
  },
  {
   "cell_type": "code",
   "execution_count": null,
   "id": "ef5e210e-4ba5-4a5d-bf2a-e9df8a533d08",
   "metadata": {},
   "outputs": [],
   "source": [
    "df = sc.get.rank_genes_groups_df(adata_comparison, \n",
    "                           key = 'level_10_Snap25_Central_Plp1-_Mbp-Plp+_Malat1-_General_Higher-Complexity_General_Sample-Dependent-2', \n",
    "                           group = 'cluster_0')\n",
    "\n",
    "df.loc[(df['pvals_adj'] < 0.01) & (df['pct_nz_group'] > 0.2)].sort_values('logfoldchanges', ascending=False).iloc[:20]"
   ]
  },
  {
   "cell_type": "code",
   "execution_count": null,
   "id": "60a8801e-8055-4fc6-add0-72d09395db13",
   "metadata": {
    "tags": []
   },
   "outputs": [],
   "source": [
    "adata.obs.loc[adata.obs['comparison'].str.contains('^cluster_0'), 'cell_type'] = 'Snap25_Central_Plp1-_Mbp-Plp+_Malat1-_General_Higher-Complexity_General_Sample-Dependent-2_Pvalb+' "
   ]
  },
  {
   "cell_type": "markdown",
   "id": "1577b884-550c-4fc8-8a73-445f36660eb8",
   "metadata": {
    "tags": []
   },
   "source": [
    "### Ahi+"
   ]
  },
  {
   "cell_type": "code",
   "execution_count": null,
   "id": "2845030f-6622-475d-8dcb-973121bf3788",
   "metadata": {},
   "outputs": [],
   "source": [
    "sc.get.rank_genes_groups_df(adata_comparison, \n",
    "                           key = 'level_10_Snap25_Central_Plp1-_Mbp-Plp+_Malat1-_General_Higher-Complexity_General_Sample-Dependent-2', \n",
    "                           group = 'cluster_1').iloc[:20]"
   ]
  },
  {
   "cell_type": "code",
   "execution_count": null,
   "id": "311ef952-ab51-4fb5-809b-66e971d211f6",
   "metadata": {},
   "outputs": [],
   "source": [
    "df = sc.get.rank_genes_groups_df(adata_comparison, \n",
    "                           key = 'level_10_Snap25_Central_Plp1-_Mbp-Plp+_Malat1-_General_Higher-Complexity_General_Sample-Dependent-2', \n",
    "                           group = 'cluster_1')\n",
    "\n",
    "df.loc[(df['pvals_adj'] < 0.01) & (df['pct_nz_group'] > 0.2)].sort_values('logfoldchanges', ascending=False).iloc[:20]"
   ]
  },
  {
   "cell_type": "code",
   "execution_count": null,
   "id": "04952627-a271-4aa4-8e65-f7397c3cf97c",
   "metadata": {
    "tags": []
   },
   "outputs": [],
   "source": [
    "adata.obs.loc[adata.obs['comparison'].str.contains('^cluster_1'), 'cell_type'] = 'Snap25_Central_Plp1-_Mbp-Plp+_Malat1-_General_Higher-Complexity_General_Sample-Dependent-2_Ahi+' "
   ]
  },
  {
   "cell_type": "markdown",
   "id": "422dc900-3945-4473-92a2-8a8a086e779d",
   "metadata": {
    "jp-MarkdownHeadingCollapsed": true,
    "tags": []
   },
   "source": [
    "# Level 4: Snap25_Cortical_Higher-Complexity"
   ]
  },
  {
   "cell_type": "code",
   "execution_count": null,
   "id": "25efb7b7-0178-42ad-bb6e-3da261fd3dc4",
   "metadata": {},
   "outputs": [],
   "source": [
    "set(['_'.join(x.split('_')[:5]) for x in adata[adata.obs['cell_type'] == 'Snap25_Cortical_Higher-Complexity'].obs['current_leiden'].unique().tolist()])"
   ]
  },
  {
   "cell_type": "code",
   "execution_count": null,
   "id": "b1c2b735-4cad-429a-9adb-82167a77f604",
   "metadata": {},
   "outputs": [],
   "source": [
    "adata.obs['comparison'] = 'ignore'\n",
    "adata.obs.loc[adata.obs['current_leiden'].str.contains('^s_2_3_2_1'), 'comparison'] = 'cluster_2'\n",
    "adata.obs.loc[adata.obs['current_leiden'].str.contains('^s_2_3_2_0'), 'comparison'] = 'cluster_1'\n",
    "adata.obs.loc[adata.obs['current_leiden'].str.contains('^s_2_3_2_FINAL'), 'comparison'] = 'cluster_0'\n",
    "adata.obs.groupby(['comparison']).size()"
   ]
  },
  {
   "cell_type": "code",
   "execution_count": null,
   "id": "2018d986-fed9-4cbb-b48c-a9b1416bb350",
   "metadata": {},
   "outputs": [],
   "source": [
    "adata_comparison = adata[adata.obs['comparison'] != 'ignore'].copy()\n",
    "adata_comparison.layers['count'] = adata_comparison.X.copy()\n",
    "sc.pp.normalize_total(adata_comparison, target_sum=1e4)\n",
    "if 'log1p' in adata_comparison.uns.keys(): \n",
    "        del adata_comparison.uns['log1p']\n",
    "sc.pp.log1p(adata_comparison)\n",
    "adata_comparison.layers['lognorm'] = adata_comparison.X.copy()\n",
    "adata_comparison.X = adata_comparison.layers['count'].copy()\n",
    "sc.tl.rank_genes_groups(adata_comparison, \n",
    "                        groupby='comparison', \n",
    "                        use_raw=False,\n",
    "                        layer='lognorm', \n",
    "                        method='wilcoxon', \n",
    "                        rankby_abs=True,\n",
    "                        pts=True, \n",
    "                        key_added='level_4_Snap25_Cortical_Higher-Complexity')"
   ]
  },
  {
   "cell_type": "code",
   "execution_count": null,
   "id": "b50e0358-fc70-4540-af48-e811aad267a5",
   "metadata": {},
   "outputs": [],
   "source": [
    "sc.pl.violin(adata_comparison, keys=['pct_counts_mt', 'pct_counts_in_top_100_genes', 'n_genes_by_counts', 'Plp1'], groupby='comparison')"
   ]
  },
  {
   "cell_type": "code",
   "execution_count": null,
   "id": "2d29b393-7093-4566-b0c8-1819df97ca8c",
   "metadata": {},
   "outputs": [],
   "source": [
    "\n",
    "fig, axs = plt.subplots(nrows=adata_comparison.obs['comparison'].unique().shape[0], ncols=7, figsize=(35, 15))\n",
    "for row, cluster in enumerate(adata_comparison.obs['comparison'].unique()):\n",
    "    for col, section in enumerate(adata_comparison.obs.sample_id.unique()):\n",
    "        sc.pl.spatial(adata_comparison[adata_comparison.obs['sample_id'] == section].copy(), \n",
    "                     spot_size=25, \n",
    "                      size = 5,\n",
    "                      groups = cluster,\n",
    "                     color = 'comparison', \n",
    "                     ax=axs[row, col], \n",
    "                     show=False)\n",
    "        "
   ]
  },
  {
   "cell_type": "markdown",
   "id": "8a53070b-57d2-4716-b017-f86b149ffc98",
   "metadata": {
    "tags": []
   },
   "source": [
    "### Inner Cortex"
   ]
  },
  {
   "cell_type": "code",
   "execution_count": null,
   "id": "5b93fe2c-3e82-41ad-ae8f-5abc271288ca",
   "metadata": {},
   "outputs": [],
   "source": [
    "df = sc.get.rank_genes_groups_df(adata_comparison, \n",
    "                           key = 'level_4_Snap25_Cortical_Higher-Complexity', \n",
    "                           group = 'cluster_0')\n",
    "\n",
    "df.loc[(df['pvals_adj'] < 0.01) & (df['pct_nz_group'] > 0.2)].sort_values('logfoldchanges', ascending=False).iloc[:20]"
   ]
  },
  {
   "cell_type": "code",
   "execution_count": null,
   "id": "ff9de05c-6096-4511-926c-f01f5a88fdb8",
   "metadata": {},
   "outputs": [],
   "source": [
    "adata.obs.loc[adata.obs['comparison'].str.contains('^cluster_0'), 'cell_type'] = 'Snap25_Cortical_Higher-Complexity_Inner-Cortex' "
   ]
  },
  {
   "cell_type": "markdown",
   "id": "26d2fd77-6ad1-489f-8bca-f2c54294ce49",
   "metadata": {
    "tags": []
   },
   "source": [
    "### Outer Cortex"
   ]
  },
  {
   "cell_type": "code",
   "execution_count": null,
   "id": "47fd42ad-4517-446f-8efb-1d7e420c9fc0",
   "metadata": {},
   "outputs": [],
   "source": [
    "df = sc.get.rank_genes_groups_df(adata_comparison, \n",
    "                           key = 'level_4_Snap25_Cortical_Higher-Complexity', \n",
    "                           group = 'cluster_1')\n",
    "\n",
    "df.loc[(df['pvals_adj'] < 0.01) & (df['pct_nz_group'] > 0.2)].sort_values('logfoldchanges', ascending=False).iloc[:20]"
   ]
  },
  {
   "cell_type": "code",
   "execution_count": null,
   "id": "a136895d-1900-403d-bcb7-176258687bab",
   "metadata": {},
   "outputs": [],
   "source": [
    "adata.obs.loc[adata.obs['comparison'].str.contains('^cluster_1'), 'cell_type'] = 'Snap25_Cortical_Higher-Complexity_Outer-Cortex' "
   ]
  },
  {
   "cell_type": "markdown",
   "id": "cf2897e7-2bfb-4012-a2dd-891e4ccfc968",
   "metadata": {
    "tags": []
   },
   "source": [
    "### Hippocampus"
   ]
  },
  {
   "cell_type": "code",
   "execution_count": null,
   "id": "489a12b3-7367-4424-99a8-368f60cd49eb",
   "metadata": {},
   "outputs": [],
   "source": [
    "df = sc.get.rank_genes_groups_df(adata_comparison, \n",
    "                           key = 'level_4_Snap25_Cortical_Higher-Complexity', \n",
    "                           group = 'cluster_2')\n",
    "\n",
    "df.loc[(df['pvals_adj'] < 0.01) & (df['pct_nz_group'] > 0.2)].sort_values('logfoldchanges', ascending=False).iloc[:20]"
   ]
  },
  {
   "cell_type": "code",
   "execution_count": null,
   "id": "53ce4ad8-8884-4f4c-8fe7-f8ae16c6d7bf",
   "metadata": {},
   "outputs": [],
   "source": [
    "adata.obs.loc[adata.obs['comparison'].str.contains('^cluster_2'), 'cell_type'] = 'Snap25_Cortical_Higher-Complexity_Hippocampus' "
   ]
  },
  {
   "cell_type": "markdown",
   "id": "22cfa706-3887-4033-a960-8d17dba6d62c",
   "metadata": {
    "jp-MarkdownHeadingCollapsed": true,
    "tags": []
   },
   "source": [
    "# Level 5: Snap25_Cortical_Higher-Complexity_Hippocampus"
   ]
  },
  {
   "cell_type": "code",
   "execution_count": null,
   "id": "c0d071de-3158-4990-9a24-d01743ac43c4",
   "metadata": {},
   "outputs": [],
   "source": [
    "set(['_'.join(x.split('_')[:6]) for x in adata[adata.obs['cell_type'] == 'Snap25_Cortical_Higher-Complexity_Hippocampus'].obs['current_leiden'].unique().tolist()])"
   ]
  },
  {
   "cell_type": "code",
   "execution_count": null,
   "id": "dff9f2e1-6c28-4032-8f6a-d4154b6beff6",
   "metadata": {},
   "outputs": [],
   "source": [
    "adata.obs['comparison'] = 'ignore'\n",
    "adata.obs.loc[adata.obs['current_leiden'].str.contains('^s_2_3_2_1_1'), 'comparison'] = 'cluster_1'\n",
    "adata.obs.loc[adata.obs['current_leiden'].str.contains('^s_2_3_2_1_0'), 'comparison'] = 'cluster_0'\n",
    "adata.obs.groupby(['comparison']).size()"
   ]
  },
  {
   "cell_type": "code",
   "execution_count": null,
   "id": "397fe7db-e7d6-4673-b15a-d98de0e2c8a7",
   "metadata": {},
   "outputs": [],
   "source": [
    "adata_comparison = adata[adata.obs['comparison'] != 'ignore'].copy()\n",
    "adata_comparison.layers['count'] = adata_comparison.X.copy()\n",
    "sc.pp.normalize_total(adata_comparison, target_sum=1e4)\n",
    "if 'log1p' in adata_comparison.uns.keys(): \n",
    "        del adata_comparison.uns['log1p']\n",
    "sc.pp.log1p(adata_comparison)\n",
    "adata_comparison.layers['lognorm'] = adata_comparison.X.copy()\n",
    "adata_comparison.X = adata_comparison.layers['count'].copy()\n",
    "sc.tl.rank_genes_groups(adata_comparison, \n",
    "                        groupby='comparison', \n",
    "                        use_raw=False,\n",
    "                        layer='lognorm', \n",
    "                        method='wilcoxon', \n",
    "                        rankby_abs=True,\n",
    "                        pts=True, \n",
    "                        key_added='level_5_Snap25_Cortical_Higher-Complexity_Hippocampus')"
   ]
  },
  {
   "cell_type": "code",
   "execution_count": null,
   "id": "45cd3d0c-d50f-4664-841f-521069b70af8",
   "metadata": {},
   "outputs": [],
   "source": [
    "sc.pl.violin(adata_comparison, keys=['pct_counts_mt', 'pct_counts_in_top_100_genes', 'n_genes_by_counts', 'Plp1', 'Malat1', 'Pcp4', 'Neurod6'], groupby='comparison')"
   ]
  },
  {
   "cell_type": "code",
   "execution_count": null,
   "id": "45073788-5fc9-4907-9e6f-46d02f8a29bc",
   "metadata": {},
   "outputs": [],
   "source": [
    "\n",
    "fig, axs = plt.subplots(nrows=adata_comparison.obs['comparison'].unique().shape[0], ncols=7, figsize=(35, 10))\n",
    "for row, cluster in enumerate(adata_comparison.obs['comparison'].unique()):\n",
    "    for col, section in enumerate(adata_comparison.obs.sample_id.unique()):\n",
    "        sc.pl.spatial(adata_comparison[adata_comparison.obs['sample_id'] == section].copy(), \n",
    "                     spot_size=25, \n",
    "                      size = 5,\n",
    "                      groups = cluster,\n",
    "                     color = 'comparison', \n",
    "                     ax=axs[row, col], \n",
    "                     show=False)\n",
    "        "
   ]
  },
  {
   "cell_type": "markdown",
   "id": "211ce0c5-8835-4584-a5f4-202c55c4ff23",
   "metadata": {
    "tags": []
   },
   "source": [
    "### CA Fields"
   ]
  },
  {
   "cell_type": "code",
   "execution_count": null,
   "id": "bb27add8-0cd5-4055-a907-389a2de1594f",
   "metadata": {},
   "outputs": [],
   "source": [
    "sc.get.rank_genes_groups_df(adata_comparison, \n",
    "                           key = 'level_5_Snap25_Cortical_Higher-Complexity_Hippocampus', \n",
    "                           group = 'cluster_0')"
   ]
  },
  {
   "cell_type": "code",
   "execution_count": null,
   "id": "bc63c090-130e-4874-b57a-e2276cd882ad",
   "metadata": {},
   "outputs": [],
   "source": [
    "df = sc.get.rank_genes_groups_df(adata_comparison, \n",
    "                           key = 'level_5_Snap25_Cortical_Higher-Complexity_Hippocampus', \n",
    "                           group = 'cluster_0')\n",
    "\n",
    "df.loc[(df['pvals_adj'] < 0.01) & (df['pct_nz_group'] > 0.2)].sort_values('logfoldchanges', ascending=False).iloc[:20]"
   ]
  },
  {
   "cell_type": "code",
   "execution_count": null,
   "id": "cecc1192-0d84-4419-bffa-2f2034ae23b4",
   "metadata": {},
   "outputs": [],
   "source": [
    "adata.obs.loc[adata.obs['comparison'].str.contains('^cluster_0'), 'cell_type'] = 'Snap25_Cortical_Higher-Complexity_Hippocampus_CA-Fields' "
   ]
  },
  {
   "cell_type": "markdown",
   "id": "015eac60-9bef-404c-b580-8d46cf0457b1",
   "metadata": {
    "tags": []
   },
   "source": [
    "### Prox1+ DG"
   ]
  },
  {
   "cell_type": "code",
   "execution_count": null,
   "id": "fb8866cc-87c0-4128-8229-a8c2db84eeec",
   "metadata": {},
   "outputs": [],
   "source": [
    "sc.get.rank_genes_groups_df(adata_comparison, \n",
    "                           key = 'level_5_Snap25_Cortical_Higher-Complexity_Hippocampus', \n",
    "                           group = 'cluster_1').iloc[:20]"
   ]
  },
  {
   "cell_type": "code",
   "execution_count": null,
   "id": "9e4beac9-eba7-45d8-98a1-2677be729545",
   "metadata": {},
   "outputs": [],
   "source": [
    "df = sc.get.rank_genes_groups_df(adata_comparison, \n",
    "                           key = 'level_5_Snap25_Cortical_Higher-Complexity_Hippocampus', \n",
    "                           group = 'cluster_1')\n",
    "\n",
    "df.loc[(df['pvals_adj'] < 0.01) & (df['pct_nz_group'] > 0.2)].sort_values('logfoldchanges', ascending=False).iloc[:20]"
   ]
  },
  {
   "cell_type": "code",
   "execution_count": null,
   "id": "5ed5867a-89c8-4f3f-b76c-3178a60b340c",
   "metadata": {},
   "outputs": [],
   "source": [
    "adata.obs.loc[adata.obs['comparison'].str.contains('^cluster_1'), 'cell_type'] = 'Snap25_Cortical_Higher-Complexity_Hippocampus_DG-Prox1+' "
   ]
  },
  {
   "cell_type": "markdown",
   "id": "a090e2b6-cdfb-4b1e-bad8-a02848fa7e65",
   "metadata": {
    "jp-MarkdownHeadingCollapsed": true,
    "tags": []
   },
   "source": [
    "# Level 6: Snap25_Cortical_Higher-Complexity_Hippocampus_CA-Fields"
   ]
  },
  {
   "cell_type": "code",
   "execution_count": null,
   "id": "72368e47-0739-4870-9b88-a6160023ccb4",
   "metadata": {},
   "outputs": [],
   "source": [
    "set(['_'.join(x.split('_')[:7]) for x in adata[adata.obs['cell_type'] == 'Snap25_Cortical_Higher-Complexity_Hippocampus_CA-Fields'].obs['current_leiden'].unique().tolist()])"
   ]
  },
  {
   "cell_type": "code",
   "execution_count": null,
   "id": "7f6d5003-f993-47fb-ba21-bfde82d52927",
   "metadata": {},
   "outputs": [],
   "source": [
    "adata.obs['comparison'] = 'ignore'\n",
    "adata.obs.loc[adata.obs['current_leiden'].str.contains('^s_2_3_2_1_0_1'), 'comparison'] = 'cluster_1'\n",
    "adata.obs.loc[adata.obs['current_leiden'].str.contains('^s_2_3_2_1_0_0'), 'comparison'] = 'cluster_0'\n",
    "adata.obs.groupby(['comparison']).size()"
   ]
  },
  {
   "cell_type": "code",
   "execution_count": null,
   "id": "48f67b9b-06de-436a-ba3b-b3a52f905ec1",
   "metadata": {},
   "outputs": [],
   "source": [
    "adata_comparison = adata[adata.obs['comparison'] != 'ignore'].copy()\n",
    "adata_comparison.layers['count'] = adata_comparison.X.copy()\n",
    "sc.pp.normalize_total(adata_comparison, target_sum=1e4)\n",
    "if 'log1p' in adata_comparison.uns.keys(): \n",
    "        del adata_comparison.uns['log1p']\n",
    "sc.pp.log1p(adata_comparison)\n",
    "adata_comparison.layers['lognorm'] = adata_comparison.X.copy()\n",
    "adata_comparison.X = adata_comparison.layers['count'].copy()\n",
    "sc.tl.rank_genes_groups(adata_comparison, \n",
    "                        groupby='comparison', \n",
    "                        use_raw=False,\n",
    "                        layer='lognorm', \n",
    "                        method='wilcoxon', \n",
    "                        rankby_abs=True,\n",
    "                        pts=True, \n",
    "                        key_added='level_6_Snap25_Cortical_Higher-Complexity_Hippocampus_CA-Fields')"
   ]
  },
  {
   "cell_type": "code",
   "execution_count": null,
   "id": "c40e36e6-3644-4d0c-9386-311f4df8b0a7",
   "metadata": {},
   "outputs": [],
   "source": [
    "sc.pl.violin(adata_comparison, keys=['pct_counts_mt', 'pct_counts_in_top_100_genes', 'n_genes_by_counts', 'Plp1', 'Malat1', 'Pcp4', 'Neurod6'], groupby='comparison')"
   ]
  },
  {
   "cell_type": "code",
   "execution_count": null,
   "id": "d8f07724-6129-4b98-9c65-d16762940423",
   "metadata": {},
   "outputs": [],
   "source": [
    "\n",
    "fig, axs = plt.subplots(nrows=adata_comparison.obs['comparison'].unique().shape[0], ncols=7, figsize=(35, 10))\n",
    "for row, cluster in enumerate(adata_comparison.obs['comparison'].unique()):\n",
    "    for col, section in enumerate(adata_comparison.obs.sample_id.unique()):\n",
    "        sc.pl.spatial(adata_comparison[adata_comparison.obs['sample_id'] == section].copy(), \n",
    "                     spot_size=25, \n",
    "                      size = 5,\n",
    "                      groups = cluster,\n",
    "                     color = 'comparison', \n",
    "                     ax=axs[row, col], \n",
    "                     show=False)\n",
    "        "
   ]
  },
  {
   "cell_type": "markdown",
   "id": "e020e6d4-a19b-4608-80f8-d85a28825448",
   "metadata": {
    "tags": []
   },
   "source": [
    "### CA3"
   ]
  },
  {
   "cell_type": "code",
   "execution_count": null,
   "id": "9b95f94c-b8d7-43c8-9a3c-5eab0925b546",
   "metadata": {},
   "outputs": [],
   "source": [
    "sc.get.rank_genes_groups_df(adata_comparison, \n",
    "                           key = 'level_6_Snap25_Cortical_Higher-Complexity_Hippocampus_CA-Fields', \n",
    "                           group = 'cluster_0')"
   ]
  },
  {
   "cell_type": "code",
   "execution_count": null,
   "id": "5c3d41da-c0a7-4cea-b458-aa557362f3f6",
   "metadata": {},
   "outputs": [],
   "source": [
    "df = sc.get.rank_genes_groups_df(adata_comparison, \n",
    "                           key = 'level_6_Snap25_Cortical_Higher-Complexity_Hippocampus_CA-Fields', \n",
    "                           group = 'cluster_0')\n",
    "\n",
    "df.loc[(df['pvals_adj'] < 0.01) & (df['pct_nz_group'] > 0.2)].sort_values('logfoldchanges', ascending=False).iloc[:20]"
   ]
  },
  {
   "cell_type": "code",
   "execution_count": null,
   "id": "62167d49-2802-4126-ae79-405e17d9c87e",
   "metadata": {},
   "outputs": [],
   "source": [
    "adata.obs.loc[adata.obs['comparison'].str.contains('^cluster_0'), 'cell_type'] = 'Snap25_Cortical_Higher-Complexity_Hippocampus_CA-Fields-CA3' "
   ]
  },
  {
   "cell_type": "markdown",
   "id": "76ffe4ab-d081-42e8-85be-a04bec02b845",
   "metadata": {
    "tags": []
   },
   "source": [
    "### CA1-Subiculum-Amygdala"
   ]
  },
  {
   "cell_type": "code",
   "execution_count": null,
   "id": "1c9900eb-ba38-4f1f-9243-28449a72eac3",
   "metadata": {},
   "outputs": [],
   "source": [
    "sc.get.rank_genes_groups_df(adata_comparison, \n",
    "                           key = 'level_6_Snap25_Cortical_Higher-Complexity_Hippocampus_CA-Fields', \n",
    "                           group = 'cluster_1')"
   ]
  },
  {
   "cell_type": "code",
   "execution_count": null,
   "id": "d0237467-125b-46d1-8fe7-0cb2b3b67819",
   "metadata": {},
   "outputs": [],
   "source": [
    "df = sc.get.rank_genes_groups_df(adata_comparison, \n",
    "                           key = 'level_6_Snap25_Cortical_Higher-Complexity_Hippocampus_CA-Fields', \n",
    "                           group = 'cluster_1')\n",
    "\n",
    "df.loc[(df['pvals_adj'] < 0.01) & (df['pct_nz_group'] > 0.2)].sort_values('logfoldchanges', ascending=False).iloc[:20]"
   ]
  },
  {
   "cell_type": "code",
   "execution_count": null,
   "id": "a7b882a8-4c0d-4cfd-840b-25b809fa6d1f",
   "metadata": {},
   "outputs": [],
   "source": [
    "adata.obs.loc[adata.obs['comparison'].str.contains('^cluster_1'), 'cell_type'] = 'Snap25_Cortical_Higher-Complexity_Hippocampus_CA-Fields-CA1-Subiculum-Amygdala' "
   ]
  },
  {
   "cell_type": "markdown",
   "id": "8d1bead3-9a29-4387-86eb-29d5d1e422d2",
   "metadata": {
    "jp-MarkdownHeadingCollapsed": true,
    "tags": []
   },
   "source": [
    "# Level 7: Snap25_Cortical_Higher-Complexity_Hippocampus_CA-Fields_CA1-Subiculum-Amygdala"
   ]
  },
  {
   "cell_type": "code",
   "execution_count": null,
   "id": "a77287df-ea3c-4866-9da4-1125108efbed",
   "metadata": {},
   "outputs": [],
   "source": [
    "set(['_'.join(x.split('_')[:8]) for x in adata[adata.obs['cell_type'] == 'Snap25_Cortical_Higher-Complexity_Hippocampus_CA-Fields-CA1-Subiculum-Amygdala'].obs['current_leiden'].unique().tolist()])"
   ]
  },
  {
   "cell_type": "code",
   "execution_count": null,
   "id": "9d9de33b-f6d0-4e56-ac30-c210cfefb02d",
   "metadata": {},
   "outputs": [],
   "source": [
    "adata.obs['comparison'] = 'ignore'\n",
    "adata.obs.loc[adata.obs['current_leiden'].str.contains('^s_2_3_2_1_0_1_1'), 'comparison'] = 'cluster_1'\n",
    "adata.obs.loc[adata.obs['current_leiden'].str.contains('^s_2_3_2_1_0_1_FINAL'), 'comparison'] = 'cluster_0'\n",
    "adata.obs.groupby(['comparison']).size()"
   ]
  },
  {
   "cell_type": "code",
   "execution_count": null,
   "id": "db2e1d02-6059-40eb-82ff-fcfbe99aaa15",
   "metadata": {},
   "outputs": [],
   "source": [
    "adata_comparison = adata[adata.obs['comparison'] != 'ignore'].copy()\n",
    "adata_comparison.layers['count'] = adata_comparison.X.copy()\n",
    "sc.pp.normalize_total(adata_comparison, target_sum=1e4)\n",
    "if 'log1p' in adata_comparison.uns.keys(): \n",
    "        del adata_comparison.uns['log1p']\n",
    "sc.pp.log1p(adata_comparison)\n",
    "adata_comparison.layers['lognorm'] = adata_comparison.X.copy()\n",
    "adata_comparison.X = adata_comparison.layers['count'].copy()\n",
    "sc.tl.rank_genes_groups(adata_comparison, \n",
    "                        groupby='comparison', \n",
    "                        use_raw=False,\n",
    "                        layer='lognorm', \n",
    "                        method='wilcoxon', \n",
    "                        rankby_abs=True,\n",
    "                        pts=True, \n",
    "                        key_added='level_7_Snap25_Cortical_Higher-Complexity_Hippocampus_CA-Fields-CA1-Subiculum-Amygdala')"
   ]
  },
  {
   "cell_type": "code",
   "execution_count": null,
   "id": "2f06a93e-684c-4985-af6a-605ab50bf2f7",
   "metadata": {},
   "outputs": [],
   "source": [
    "sc.pl.violin(adata_comparison, keys=['pct_counts_mt', 'pct_counts_in_top_100_genes', 'n_genes_by_counts', 'Plp1', 'Malat1', 'Pcp4', 'Neurod6'], groupby='comparison')"
   ]
  },
  {
   "cell_type": "code",
   "execution_count": null,
   "id": "b9ab36e6-8fc7-4969-92fb-c6d26f9e3b05",
   "metadata": {},
   "outputs": [],
   "source": [
    "\n",
    "fig, axs = plt.subplots(nrows=adata_comparison.obs['comparison'].unique().shape[0], ncols=7, figsize=(35, 10))\n",
    "for row, cluster in enumerate(adata_comparison.obs['comparison'].unique()):\n",
    "    for col, section in enumerate(adata_comparison.obs.sample_id.unique()):\n",
    "        sc.pl.spatial(adata_comparison[adata_comparison.obs['sample_id'] == section].copy(), \n",
    "                     spot_size=25, \n",
    "                      size = 5,\n",
    "                      groups = cluster,\n",
    "                     color = 'comparison', \n",
    "                     ax=axs[row, col], \n",
    "                     show=False)\n",
    "        "
   ]
  },
  {
   "cell_type": "markdown",
   "id": "6a5d4167-f37a-46f5-a400-84772f8bf02c",
   "metadata": {
    "tags": []
   },
   "source": [
    "### Whole Brain - DCC+++"
   ]
  },
  {
   "cell_type": "code",
   "execution_count": null,
   "id": "6a3e8bff-a642-499f-aa73-76b80d2a22bd",
   "metadata": {},
   "outputs": [],
   "source": [
    "sc.get.rank_genes_groups_df(adata_comparison, \n",
    "                           key = 'level_7_Snap25_Cortical_Higher-Complexity_Hippocampus_CA-Fields-CA1-Subiculum-Amygdala', \n",
    "                           group = 'cluster_0')"
   ]
  },
  {
   "cell_type": "code",
   "execution_count": null,
   "id": "82a15ef2-165f-4d52-90ab-c97a85a2f17a",
   "metadata": {},
   "outputs": [],
   "source": [
    "df = sc.get.rank_genes_groups_df(adata_comparison, \n",
    "                           key = 'level_7_Snap25_Cortical_Higher-Complexity_Hippocampus_CA-Fields-CA1-Subiculum-Amygdala', \n",
    "                           group = 'cluster_0')\n",
    "\n",
    "df.loc[(df['pvals_adj'] < 0.01) & (df['pct_nz_group'] > 0.2)].sort_values('logfoldchanges', ascending=False).iloc[:20]"
   ]
  },
  {
   "cell_type": "code",
   "execution_count": null,
   "id": "9a4a1279-ac88-4f17-8093-8edeffcd36f9",
   "metadata": {},
   "outputs": [],
   "source": [
    "adata.obs.loc[adata.obs['comparison'].str.contains('^cluster_0'), 'cell_type'] = 'Snap25_Cortical_Higher-Complexity_Hippocampus_CA-Fields_CA1-Subiculum-Amygdala_Whole-Brain-DCC+' "
   ]
  },
  {
   "cell_type": "markdown",
   "id": "150536cc-8e1a-46ac-afb6-84de8e83c52f",
   "metadata": {
    "tags": []
   },
   "source": [
    "### General"
   ]
  },
  {
   "cell_type": "code",
   "execution_count": null,
   "id": "8ab4ea0d-0593-4073-9912-65c804522311",
   "metadata": {},
   "outputs": [],
   "source": [
    "sc.get.rank_genes_groups_df(adata_comparison, \n",
    "                           key = 'level_7_Snap25_Cortical_Higher-Complexity_Hippocampus_CA-Fields-CA1-Subiculum-Amygdala', \n",
    "                           group = 'cluster_1')"
   ]
  },
  {
   "cell_type": "code",
   "execution_count": null,
   "id": "d8a90a1c-c831-4491-8fd5-7b2153f9a527",
   "metadata": {},
   "outputs": [],
   "source": [
    "df = sc.get.rank_genes_groups_df(adata_comparison, \n",
    "                           key = 'level_7_Snap25_Cortical_Higher-Complexity_Hippocampus_CA-Fields-CA1-Subiculum-Amygdala', \n",
    "                           group = 'cluster_1')\n",
    "\n",
    "df.loc[(df['pvals_adj'] < 0.01) & (df['pct_nz_group'] > 0.2)].sort_values('logfoldchanges', ascending=False).iloc[:20]"
   ]
  },
  {
   "cell_type": "code",
   "execution_count": null,
   "id": "b5145d1f-72b4-475c-97d4-606c2e4b5eea",
   "metadata": {},
   "outputs": [],
   "source": [
    "adata.obs.loc[adata.obs['comparison'].str.contains('^cluster_1'), 'cell_type'] = 'Snap25_Cortical_Higher-Complexity_Hippocampus_CA-Fields_CA1-Subiculum-Amygdala_General' "
   ]
  },
  {
   "cell_type": "markdown",
   "id": "e54cdf1a-ff27-415a-a11f-359ab90c7543",
   "metadata": {
    "jp-MarkdownHeadingCollapsed": true,
    "tags": []
   },
   "source": [
    "# Level 8: Snap25_Cortical_Higher-Complexity_Hippocampus_CA-Fields_CA1-Subiculum-Amygdala_General"
   ]
  },
  {
   "cell_type": "code",
   "execution_count": null,
   "id": "397e9dc5-e295-4612-9201-e1f1aa7db76d",
   "metadata": {},
   "outputs": [],
   "source": [
    "set(['_'.join(x.split('_')[:9]) for x in adata[adata.obs['cell_type'] == 'Snap25_Cortical_Higher-Complexity_Hippocampus_CA-Fields_CA1-Subiculum-Amygdala_General'].obs['current_leiden'].unique().tolist()])"
   ]
  },
  {
   "cell_type": "code",
   "execution_count": null,
   "id": "ba2f122d-1a51-40c2-8356-dbfb0802fc52",
   "metadata": {},
   "outputs": [],
   "source": [
    "adata.obs['comparison'] = 'ignore'\n",
    "adata.obs.loc[adata.obs['current_leiden'].str.contains('^s_2_3_2_1_0_1_1_1'), 'comparison'] = 'cluster_3'\n",
    "adata.obs.loc[adata.obs['current_leiden'].str.contains('^s_2_3_2_1_0_1_1_2'), 'comparison'] = 'cluster_2'\n",
    "adata.obs.loc[adata.obs['current_leiden'].str.contains('^s_2_3_2_1_0_1_1_3'), 'comparison'] = 'cluster_1'\n",
    "adata.obs.loc[adata.obs['current_leiden'].str.contains('^s_2_3_2_1_0_1_1_FINAL'), 'comparison'] = 'cluster_0'\n",
    "adata.obs.groupby(['comparison']).size()"
   ]
  },
  {
   "cell_type": "code",
   "execution_count": null,
   "id": "a5536cd7-1532-44bc-8aa4-677b26eb10ae",
   "metadata": {},
   "outputs": [],
   "source": [
    "adata_comparison = adata[adata.obs['comparison'] != 'ignore'].copy()\n",
    "adata_comparison.layers['count'] = adata_comparison.X.copy()\n",
    "sc.pp.normalize_total(adata_comparison, target_sum=1e4)\n",
    "if 'log1p' in adata_comparison.uns.keys(): \n",
    "        del adata_comparison.uns['log1p']\n",
    "sc.pp.log1p(adata_comparison)\n",
    "adata_comparison.layers['lognorm'] = adata_comparison.X.copy()\n",
    "adata_comparison.X = adata_comparison.layers['count'].copy()\n",
    "sc.tl.rank_genes_groups(adata_comparison, \n",
    "                        groupby='comparison', \n",
    "                        use_raw=False,\n",
    "                        layer='lognorm', \n",
    "                        method='wilcoxon', \n",
    "                        rankby_abs=True,\n",
    "                        pts=True, \n",
    "                        key_added='level_8_Snap25_Cortical_Higher-Complexity_Hippocampus_CA-Fields-CA1-Subiculum-Amygdala_General')"
   ]
  },
  {
   "cell_type": "code",
   "execution_count": null,
   "id": "d71155d4-2195-4cd3-8103-900fc0032e6e",
   "metadata": {},
   "outputs": [],
   "source": [
    "sc.pl.violin(adata_comparison, keys=['pct_counts_mt', 'pct_counts_in_top_100_genes', 'n_genes_by_counts', 'Plp1', 'Malat1', 'Pcp4', 'Neurod6'], groupby='comparison')"
   ]
  },
  {
   "cell_type": "code",
   "execution_count": null,
   "id": "776b2015-25f2-43de-bede-a74a9d541c4e",
   "metadata": {},
   "outputs": [],
   "source": [
    "\n",
    "fig, axs = plt.subplots(nrows=adata_comparison.obs['comparison'].unique().shape[0], ncols=7, figsize=(35, 20))\n",
    "for row, cluster in enumerate(adata_comparison.obs['comparison'].unique()):\n",
    "    for col, section in enumerate(adata_comparison.obs.sample_id.unique()):\n",
    "        sc.pl.spatial(adata_comparison[adata_comparison.obs['sample_id'] == section].copy(), \n",
    "                     spot_size=25, \n",
    "                      size = 5,\n",
    "                      groups = cluster,\n",
    "                     color = 'comparison', \n",
    "                     ax=axs[row, col], \n",
    "                     show=False)\n",
    "        "
   ]
  },
  {
   "cell_type": "markdown",
   "id": "90ed0b40-250e-4b9a-92eb-d1c56a7eec5b",
   "metadata": {
    "tags": []
   },
   "source": [
    "### Whole Brain - Lsamp+-Rbfox1+"
   ]
  },
  {
   "cell_type": "code",
   "execution_count": null,
   "id": "0d2a1db4-d65a-4a2e-bd38-c68b5f173ae8",
   "metadata": {},
   "outputs": [],
   "source": [
    "sc.get.rank_genes_groups_df(adata_comparison, \n",
    "                           key = 'level_8_Snap25_Cortical_Higher-Complexity_Hippocampus_CA-Fields-CA1-Subiculum-Amygdala_General', \n",
    "                           group = 'cluster_0')"
   ]
  },
  {
   "cell_type": "code",
   "execution_count": null,
   "id": "d3e9b896-056d-4ad1-a1ed-f9c160c8f9f1",
   "metadata": {},
   "outputs": [],
   "source": [
    "df = sc.get.rank_genes_groups_df(adata_comparison, \n",
    "                           key = 'level_8_Snap25_Cortical_Higher-Complexity_Hippocampus_CA-Fields-CA1-Subiculum-Amygdala_General', \n",
    "                           group = 'cluster_0')\n",
    "\n",
    "df.loc[(df['pvals_adj'] < 0.01) & (df['pct_nz_group'] > 0.2)].sort_values('logfoldchanges', ascending=False).iloc[:20]"
   ]
  },
  {
   "cell_type": "code",
   "execution_count": null,
   "id": "f0f55ae6-29de-4abd-bb14-e00b8e29369b",
   "metadata": {},
   "outputs": [],
   "source": [
    "adata.obs.loc[adata.obs['comparison'].str.contains('^cluster_0'), 'cell_type'] = 'Snap25_Cortical_Higher-Complexity_Hippocampus_CA-Fields_CA1-Subiculum-Amygdala_General_Lsamp+-Rbfox1+' "
   ]
  },
  {
   "cell_type": "markdown",
   "id": "67c419b4-002d-459b-bec8-17d55548c413",
   "metadata": {
    "tags": []
   },
   "source": [
    "### Ventral Subiculum (in most samples)"
   ]
  },
  {
   "cell_type": "code",
   "execution_count": null,
   "id": "c03714a8-d1ad-4ac1-ae07-4626d98cb180",
   "metadata": {},
   "outputs": [],
   "source": [
    "sc.get.rank_genes_groups_df(adata_comparison, \n",
    "                           key = 'level_8_Snap25_Cortical_Higher-Complexity_Hippocampus_CA-Fields-CA1-Subiculum-Amygdala_General', \n",
    "                           group = 'cluster_1')"
   ]
  },
  {
   "cell_type": "code",
   "execution_count": null,
   "id": "95768a00-8231-4688-a344-deb10cb10f7f",
   "metadata": {},
   "outputs": [],
   "source": [
    "df = sc.get.rank_genes_groups_df(adata_comparison, \n",
    "                           key = 'level_8_Snap25_Cortical_Higher-Complexity_Hippocampus_CA-Fields-CA1-Subiculum-Amygdala_General', \n",
    "                           group = 'cluster_1')\n",
    "\n",
    "df.loc[(df['pvals_adj'] < 0.01) & (df['pct_nz_group'] > 0.2)].sort_values('logfoldchanges', ascending=False).iloc[:20]"
   ]
  },
  {
   "cell_type": "code",
   "execution_count": null,
   "id": "ed1fa8ab-8644-447a-a8ec-bc7029469897",
   "metadata": {},
   "outputs": [],
   "source": [
    "adata.obs.loc[adata.obs['comparison'].str.contains('^cluster_1'), 'cell_type'] = 'Snap25_Cortical_Higher-Complexity_Hippocampus_CA-Fields_CA1-Subiculum-Amygdala_General_Ventral-Subiculum-Sample-Dependent' "
   ]
  },
  {
   "cell_type": "markdown",
   "id": "f17bf25a-b936-44b7-b006-4490f0d32a98",
   "metadata": {
    "tags": []
   },
   "source": [
    "### Dorsal Subiculum"
   ]
  },
  {
   "cell_type": "code",
   "execution_count": null,
   "id": "e693f381-8924-4874-ba45-bee07207dbe6",
   "metadata": {},
   "outputs": [],
   "source": [
    "sc.get.rank_genes_groups_df(adata_comparison, \n",
    "                           key = 'level_8_Snap25_Cortical_Higher-Complexity_Hippocampus_CA-Fields-CA1-Subiculum-Amygdala_General', \n",
    "                           group = 'cluster_2')"
   ]
  },
  {
   "cell_type": "code",
   "execution_count": null,
   "id": "924bc943-0951-483e-8e21-8e96cec5b592",
   "metadata": {},
   "outputs": [],
   "source": [
    "df = sc.get.rank_genes_groups_df(adata_comparison, \n",
    "                           key = 'level_8_Snap25_Cortical_Higher-Complexity_Hippocampus_CA-Fields-CA1-Subiculum-Amygdala_General', \n",
    "                           group = 'cluster_2')\n",
    "\n",
    "df.loc[(df['pvals_adj'] < 0.01) & (df['pct_nz_group'] > 0.2)].sort_values('logfoldchanges', ascending=False).iloc[:20]"
   ]
  },
  {
   "cell_type": "code",
   "execution_count": null,
   "id": "01550014-1a2d-4ee0-a897-68266ceec391",
   "metadata": {},
   "outputs": [],
   "source": [
    "adata.obs.loc[adata.obs['comparison'].str.contains('^cluster_2'), 'cell_type'] = 'Snap25_Cortical_Higher-Complexity_Hippocampus_CA-Fields_CA1-Subiculum-Amygdala_General_Dorsal-Subiculum' "
   ]
  },
  {
   "cell_type": "markdown",
   "id": "98619209-873a-4a27-bc4a-5c6882d5eb15",
   "metadata": {
    "tags": []
   },
   "source": [
    "### CA1"
   ]
  },
  {
   "cell_type": "code",
   "execution_count": null,
   "id": "203fab32-eee5-4ee3-9c4c-b5d0539870c0",
   "metadata": {},
   "outputs": [],
   "source": [
    "sc.get.rank_genes_groups_df(adata_comparison, \n",
    "                           key = 'level_8_Snap25_Cortical_Higher-Complexity_Hippocampus_CA-Fields-CA1-Subiculum-Amygdala_General', \n",
    "                           group = 'cluster_3')"
   ]
  },
  {
   "cell_type": "code",
   "execution_count": null,
   "id": "7029d621-3eaf-4a2a-993c-b2843bc5234b",
   "metadata": {},
   "outputs": [],
   "source": [
    "df = sc.get.rank_genes_groups_df(adata_comparison, \n",
    "                           key = 'level_8_Snap25_Cortical_Higher-Complexity_Hippocampus_CA-Fields-CA1-Subiculum-Amygdala_General', \n",
    "                           group = 'cluster_3')\n",
    "\n",
    "df.loc[(df['pvals_adj'] < 0.01) & (df['pct_nz_group'] > 0.2)].sort_values('logfoldchanges', ascending=False).iloc[:20]"
   ]
  },
  {
   "cell_type": "code",
   "execution_count": null,
   "id": "d2a65f5b-e08d-4972-b12e-2bd8fd9b5682",
   "metadata": {},
   "outputs": [],
   "source": [
    "adata.obs.loc[adata.obs['comparison'].str.contains('^cluster_3'), 'cell_type'] = 'Snap25_Cortical_Higher-Complexity_Hippocampus_CA-Fields_CA1-Subiculum-Amygdala_General_CA1' "
   ]
  },
  {
   "cell_type": "markdown",
   "id": "190d3b5c-920f-4c65-abfc-2f36b242835a",
   "metadata": {
    "jp-MarkdownHeadingCollapsed": true,
    "tags": []
   },
   "source": [
    "# Level 9: Snap25_Cortical_Higher-Complexity_Hippocampus_CA-Fields_CA1-Subiculum-Amygdala_General_CA1"
   ]
  },
  {
   "cell_type": "code",
   "execution_count": null,
   "id": "f63c3d6d-febc-47c7-bad1-191941d6f584",
   "metadata": {},
   "outputs": [],
   "source": [
    "set(['_'.join(x.split('_')[:10]) for x in adata[adata.obs['cell_type'] == 'Snap25_Cortical_Higher-Complexity_Hippocampus_CA-Fields_CA1-Subiculum-Amygdala_General_CA1'].obs['current_leiden'].unique().tolist()])"
   ]
  },
  {
   "cell_type": "code",
   "execution_count": null,
   "id": "97f3aad1-2cb6-4e9e-a2f6-66166ae01edb",
   "metadata": {},
   "outputs": [],
   "source": [
    "adata.obs['comparison'] = 'ignore'\n",
    "adata.obs.loc[adata.obs['current_leiden'].str.contains('^s_2_3_2_1_0_1_1_1_1'), 'comparison'] = 'cluster_1'\n",
    "adata.obs.loc[adata.obs['current_leiden'].str.contains('^s_2_3_2_1_0_1_1_1_0'), 'comparison'] = 'cluster_0'\n",
    "adata.obs.groupby(['comparison']).size()"
   ]
  },
  {
   "cell_type": "code",
   "execution_count": null,
   "id": "c938ffd4-3c78-415b-8ceb-9e75b823a1a8",
   "metadata": {},
   "outputs": [],
   "source": [
    "adata_comparison = adata[adata.obs['comparison'] != 'ignore'].copy()\n",
    "adata_comparison.layers['count'] = adata_comparison.X.copy()\n",
    "sc.pp.normalize_total(adata_comparison, target_sum=1e4)\n",
    "if 'log1p' in adata_comparison.uns.keys(): \n",
    "        del adata_comparison.uns['log1p']\n",
    "sc.pp.log1p(adata_comparison)\n",
    "adata_comparison.layers['lognorm'] = adata_comparison.X.copy()\n",
    "adata_comparison.X = adata_comparison.layers['count'].copy()\n",
    "sc.tl.rank_genes_groups(adata_comparison, \n",
    "                        groupby='comparison', \n",
    "                        use_raw=False,\n",
    "                        layer='lognorm', \n",
    "                        method='wilcoxon', \n",
    "                        rankby_abs=True,\n",
    "                        pts=True, \n",
    "                        key_added='level_9_Snap25_Cortical_Higher-Complexity_Hippocampus_CA-Fields-CA1-Subiculum-Amygdala_General_CA1')"
   ]
  },
  {
   "cell_type": "code",
   "execution_count": null,
   "id": "12a76cd9-670c-4125-9adc-5814affa5077",
   "metadata": {},
   "outputs": [],
   "source": [
    "sc.pl.violin(adata_comparison, keys=['pct_counts_mt', 'pct_counts_in_top_100_genes', 'n_genes_by_counts', 'Plp1', 'Malat1', 'Pcp4', 'Neurod6'], groupby='comparison')"
   ]
  },
  {
   "cell_type": "code",
   "execution_count": null,
   "id": "d22323e1-adda-4235-aaab-09f62553c98b",
   "metadata": {},
   "outputs": [],
   "source": [
    "\n",
    "fig, axs = plt.subplots(nrows=adata_comparison.obs['comparison'].unique().shape[0], ncols=7, figsize=(35, 10))\n",
    "for row, cluster in enumerate(adata_comparison.obs['comparison'].unique()):\n",
    "    for col, section in enumerate(adata_comparison.obs.sample_id.unique()):\n",
    "        sc.pl.spatial(adata_comparison[adata_comparison.obs['sample_id'] == section].copy(), \n",
    "                     spot_size=25, \n",
    "                      size = 5,\n",
    "                      groups = cluster,\n",
    "                     color = 'comparison', \n",
    "                     ax=axs[row, col], \n",
    "                     show=False)\n",
    "        "
   ]
  },
  {
   "cell_type": "code",
   "execution_count": null,
   "id": "e22e87bc-aeda-4123-bdf9-9eaf7a152edd",
   "metadata": {},
   "outputs": [],
   "source": [
    "adata_comparison.obs.groupby(['mouse_id', 'comparison']).size()"
   ]
  },
  {
   "cell_type": "markdown",
   "id": "ce29c72c-7d03-44f6-b28a-897a22a48e6a",
   "metadata": {
    "tags": []
   },
   "source": [
    "### Sample Consistent"
   ]
  },
  {
   "cell_type": "code",
   "execution_count": null,
   "id": "58e453c4-73a8-4bb8-8a01-f630bfd1caa5",
   "metadata": {},
   "outputs": [],
   "source": [
    "sc.get.rank_genes_groups_df(adata_comparison, \n",
    "                           key = 'level_9_Snap25_Cortical_Higher-Complexity_Hippocampus_CA-Fields-CA1-Subiculum-Amygdala_General_CA1', \n",
    "                           group = 'cluster_0').iloc[:10]"
   ]
  },
  {
   "cell_type": "code",
   "execution_count": null,
   "id": "82b76e8f-3aac-4c60-84e9-01683eced6d0",
   "metadata": {},
   "outputs": [],
   "source": [
    "df = sc.get.rank_genes_groups_df(adata_comparison, \n",
    "                           key = 'level_9_Snap25_Cortical_Higher-Complexity_Hippocampus_CA-Fields-CA1-Subiculum-Amygdala_General_CA1', \n",
    "                           group = 'cluster_0')\n",
    "\n",
    "df.loc[(df['pvals_adj'] < 0.01) & (df['pct_nz_group'] > 0.2)].sort_values('logfoldchanges', ascending=False).iloc[:20]"
   ]
  },
  {
   "cell_type": "code",
   "execution_count": null,
   "id": "77ef0a17-7f5c-4552-bccd-8cc2df7bbfda",
   "metadata": {},
   "outputs": [],
   "source": [
    "adata.obs.loc[adata.obs['comparison'].str.contains('^cluster_0'), 'cell_type'] = 'Snap25_Cortical_Higher-Complexity_Hippocampus_CA-Fields_CA1-Subiculum-Amygdala_General_CA1_Sample-Consistent' "
   ]
  },
  {
   "cell_type": "markdown",
   "id": "be3eb320-6ea3-4b11-ba6a-186e2fdd2912",
   "metadata": {
    "tags": []
   },
   "source": [
    "### Sample Dependent"
   ]
  },
  {
   "cell_type": "code",
   "execution_count": null,
   "id": "769f38cc-1ed1-4bd7-a60e-29686740591f",
   "metadata": {},
   "outputs": [],
   "source": [
    "sc.get.rank_genes_groups_df(adata_comparison, \n",
    "                           key = 'level_9_Snap25_Cortical_Higher-Complexity_Hippocampus_CA-Fields-CA1-Subiculum-Amygdala_General_CA1', \n",
    "                           group = 'cluster_1').iloc[:10]"
   ]
  },
  {
   "cell_type": "code",
   "execution_count": null,
   "id": "c08afa69-124f-405c-a9f5-2712567a061c",
   "metadata": {},
   "outputs": [],
   "source": [
    "df = sc.get.rank_genes_groups_df(adata_comparison, \n",
    "                           key = 'level_9_Snap25_Cortical_Higher-Complexity_Hippocampus_CA-Fields-CA1-Subiculum-Amygdala_General_CA1', \n",
    "                           group = 'cluster_1')\n",
    "\n",
    "df.loc[(df['pvals_adj'] < 0.01) & (df['pct_nz_group'] > 0.2)].sort_values('logfoldchanges', ascending=False).iloc[:20]"
   ]
  },
  {
   "cell_type": "code",
   "execution_count": null,
   "id": "81313453-0652-4731-b0c5-9bf66a19b0d6",
   "metadata": {},
   "outputs": [],
   "source": [
    "adata.obs.loc[adata.obs['comparison'].str.contains('^cluster_1'), 'cell_type'] = 'Snap25_Cortical_Higher-Complexity_Hippocampus_CA-Fields_CA1-Subiculum-Amygdala_General_CA1_Sample-Dependent' "
   ]
  },
  {
   "cell_type": "markdown",
   "id": "e4b9dd94-fbae-42f5-a31e-ef6a0cf296f2",
   "metadata": {
    "jp-MarkdownHeadingCollapsed": true,
    "tags": []
   },
   "source": [
    "# Level 5: Snap25_Cortical_Higher-Complexity_Outer-Cortex"
   ]
  },
  {
   "cell_type": "code",
   "execution_count": null,
   "id": "820a41fb-01d6-4818-9dff-eaadc349330f",
   "metadata": {},
   "outputs": [],
   "source": [
    "set(['_'.join(x.split('_')[:6]) for x in adata[adata.obs['cell_type'] == 'Snap25_Cortical_Higher-Complexity_Outer-Cortex'].obs['current_leiden'].unique().tolist()])"
   ]
  },
  {
   "cell_type": "code",
   "execution_count": null,
   "id": "c801d8c5-295a-4067-b42c-54d9294600ab",
   "metadata": {},
   "outputs": [],
   "source": [
    "adata.obs['comparison'] = 'ignore'\n",
    "adata.obs.loc[adata.obs['current_leiden'].str.contains('^s_2_3_2_0_2'), 'comparison'] = 'cluster_1'\n",
    "adata.obs.loc[adata.obs['current_leiden'].str.contains('^s_2_3_2_0_FINAL'), 'comparison'] = 'cluster_0'\n",
    "adata.obs.groupby(['comparison']).size()"
   ]
  },
  {
   "cell_type": "code",
   "execution_count": null,
   "id": "4d06eee5-97f7-4e01-8706-4a569f917ca1",
   "metadata": {},
   "outputs": [],
   "source": [
    "adata_comparison = adata[adata.obs['comparison'] != 'ignore'].copy()\n",
    "adata_comparison.layers['count'] = adata_comparison.X.copy()\n",
    "sc.pp.normalize_total(adata_comparison, target_sum=1e4)\n",
    "if 'log1p' in adata_comparison.uns.keys(): \n",
    "        del adata_comparison.uns['log1p']\n",
    "sc.pp.log1p(adata_comparison)\n",
    "adata_comparison.layers['lognorm'] = adata_comparison.X.copy()\n",
    "adata_comparison.X = adata_comparison.layers['count'].copy()\n",
    "sc.tl.rank_genes_groups(adata_comparison, \n",
    "                        groupby='comparison', \n",
    "                        use_raw=False,\n",
    "                        layer='lognorm', \n",
    "                        method='wilcoxon', \n",
    "                        rankby_abs=True,\n",
    "                        pts=True, \n",
    "                        key_added='level_5_Snap25_Cortical_Higher-Complexity_Outer-Cortex')"
   ]
  },
  {
   "cell_type": "code",
   "execution_count": null,
   "id": "549d805c-7c26-4c3e-896b-f806504c3fd1",
   "metadata": {},
   "outputs": [],
   "source": [
    "sc.pl.violin(adata_comparison, keys=['pct_counts_mt', 'pct_counts_in_top_100_genes', 'n_genes_by_counts', 'Plp1'], groupby='comparison')"
   ]
  },
  {
   "cell_type": "code",
   "execution_count": null,
   "id": "d9973c9d-4487-4155-833b-af5b5ee69097",
   "metadata": {},
   "outputs": [],
   "source": [
    "\n",
    "fig, axs = plt.subplots(nrows=adata_comparison.obs['comparison'].unique().shape[0], ncols=7, figsize=(35, 10))\n",
    "for row, cluster in enumerate(adata_comparison.obs['comparison'].unique()):\n",
    "    for col, section in enumerate(adata_comparison.obs.sample_id.unique()):\n",
    "        sc.pl.spatial(adata_comparison[adata_comparison.obs['sample_id'] == section].copy(), \n",
    "                     spot_size=25, \n",
    "                      size = 5,\n",
    "                      groups = cluster,\n",
    "                     color = 'comparison', \n",
    "                     ax=axs[row, col], \n",
    "                     show=False)\n",
    "        "
   ]
  },
  {
   "cell_type": "markdown",
   "id": "b3bc2fdc-a00e-45b2-9d7e-8d717ca8054e",
   "metadata": {
    "tags": []
   },
   "source": [
    "### Ventral"
   ]
  },
  {
   "cell_type": "code",
   "execution_count": null,
   "id": "1f1a0340-07b2-4cbc-9913-277a2a8be65a",
   "metadata": {},
   "outputs": [],
   "source": [
    "df = sc.get.rank_genes_groups_df(adata_comparison, \n",
    "                           key = 'level_5_Snap25_Cortical_Higher-Complexity_Outer-Cortex', \n",
    "                           group = 'cluster_0')\n",
    "\n",
    "df.loc[(df['pvals_adj'] < 0.01) & (df['pct_nz_group'] > 0.2)].sort_values('logfoldchanges', ascending=False).iloc[:20]"
   ]
  },
  {
   "cell_type": "code",
   "execution_count": null,
   "id": "84e63f40-17c1-405b-9f40-1e6b9160434a",
   "metadata": {},
   "outputs": [],
   "source": [
    "adata.obs.loc[adata.obs['comparison'].str.contains('^cluster_0'), 'cell_type'] = 'Snap25_Cortical_Higher-Complexity_Outer-Cortex_Ventral' "
   ]
  },
  {
   "cell_type": "markdown",
   "id": "17c1562d-f269-4d16-bbfb-538f7b76e358",
   "metadata": {
    "tags": []
   },
   "source": [
    "### General"
   ]
  },
  {
   "cell_type": "code",
   "execution_count": null,
   "id": "59bab3c8-4731-439c-9879-c9782132987d",
   "metadata": {},
   "outputs": [],
   "source": [
    "df = sc.get.rank_genes_groups_df(adata_comparison, \n",
    "                           key = 'level_5_Snap25_Cortical_Higher-Complexity_Outer-Cortex', \n",
    "                           group = 'cluster_1')\n",
    "\n",
    "df.loc[(df['pvals_adj'] < 0.01) & (df['pct_nz_group'] > 0.2)].sort_values('logfoldchanges', ascending=False).iloc[:20]"
   ]
  },
  {
   "cell_type": "code",
   "execution_count": null,
   "id": "29bad43b-e3c1-4c78-ac55-9043b663b7ff",
   "metadata": {},
   "outputs": [],
   "source": [
    "adata.obs.loc[adata.obs['comparison'].str.contains('^cluster_1'), 'cell_type'] = 'Snap25_Cortical_Higher-Complexity_Outer-Cortex_General' "
   ]
  },
  {
   "cell_type": "markdown",
   "id": "74a1ec67-c5e4-47b6-b00e-cfde9326a8b9",
   "metadata": {
    "jp-MarkdownHeadingCollapsed": true,
    "tags": []
   },
   "source": [
    "# Level 6: Snap25_Cortical_Higher-Complexity_Outer-Cortex_General"
   ]
  },
  {
   "cell_type": "code",
   "execution_count": null,
   "id": "2648775d-3d1b-4339-b684-a9e48339134c",
   "metadata": {},
   "outputs": [],
   "source": [
    "set(['_'.join(x.split('_')[:7]) for x in adata[adata.obs['cell_type'] == 'Snap25_Cortical_Higher-Complexity_Outer-Cortex_General'].obs['current_leiden'].unique().tolist()])"
   ]
  },
  {
   "cell_type": "code",
   "execution_count": null,
   "id": "685d3be3-85d2-419c-b872-c43a5139dd58",
   "metadata": {},
   "outputs": [],
   "source": [
    "adata.obs['comparison'] = 'ignore'\n",
    "adata.obs.loc[adata.obs['current_leiden'].str.contains('^s_2_3_2_0_2_2'), 'comparison'] = 'cluster_1'\n",
    "adata.obs.loc[adata.obs['current_leiden'].str.contains('^s_2_3_2_0_2_FINAL'), 'comparison'] = 'cluster_0'\n",
    "adata.obs.groupby(['comparison']).size()"
   ]
  },
  {
   "cell_type": "code",
   "execution_count": null,
   "id": "f32c88e6-c49a-438e-b4ad-83fc076d3056",
   "metadata": {},
   "outputs": [],
   "source": [
    "adata_comparison = adata[adata.obs['comparison'] != 'ignore'].copy()\n",
    "adata_comparison.layers['count'] = adata_comparison.X.copy()\n",
    "sc.pp.normalize_total(adata_comparison, target_sum=1e4)\n",
    "if 'log1p' in adata_comparison.uns.keys(): \n",
    "        del adata_comparison.uns['log1p']\n",
    "sc.pp.log1p(adata_comparison)\n",
    "adata_comparison.layers['lognorm'] = adata_comparison.X.copy()\n",
    "adata_comparison.X = adata_comparison.layers['count'].copy()\n",
    "sc.tl.rank_genes_groups(adata_comparison, \n",
    "                        groupby='comparison', \n",
    "                        use_raw=False,\n",
    "                        layer='lognorm', \n",
    "                        method='wilcoxon', \n",
    "                        rankby_abs=True,\n",
    "                        pts=True, \n",
    "                        key_added='level_6_Snap25_Cortical_Higher-Complexity_Outer-Cortex_General')"
   ]
  },
  {
   "cell_type": "code",
   "execution_count": null,
   "id": "d9389f47-086f-4ce3-b359-5757056c0f0d",
   "metadata": {},
   "outputs": [],
   "source": [
    "sc.pl.violin(adata_comparison, keys=['pct_counts_mt', 'pct_counts_in_top_100_genes', 'n_genes_by_counts', 'Plp1'], groupby='comparison')"
   ]
  },
  {
   "cell_type": "code",
   "execution_count": null,
   "id": "bf4f8cfd-391f-4076-93a6-9b8355773ae5",
   "metadata": {},
   "outputs": [],
   "source": [
    "\n",
    "fig, axs = plt.subplots(nrows=adata_comparison.obs['comparison'].unique().shape[0], ncols=7, figsize=(35, 10))\n",
    "for row, cluster in enumerate(adata_comparison.obs['comparison'].unique()):\n",
    "    for col, section in enumerate(adata_comparison.obs.sample_id.unique()):\n",
    "        sc.pl.spatial(adata_comparison[adata_comparison.obs['sample_id'] == section].copy(), \n",
    "                     spot_size=25, \n",
    "                      size = 5,\n",
    "                      groups = cluster,\n",
    "                     color = 'comparison', \n",
    "                     ax=axs[row, col], \n",
    "                     show=False)\n",
    "        "
   ]
  },
  {
   "cell_type": "markdown",
   "id": "80dc4270-59a6-4ee3-8263-55bccff1162f",
   "metadata": {
    "tags": []
   },
   "source": [
    "### Dorsomedial"
   ]
  },
  {
   "cell_type": "code",
   "execution_count": null,
   "id": "9c76f93c-dd84-4801-bddf-a41e10ef1f2c",
   "metadata": {},
   "outputs": [],
   "source": [
    "df = sc.get.rank_genes_groups_df(adata_comparison, \n",
    "                           key = 'level_6_Snap25_Cortical_Higher-Complexity_Outer-Cortex_General', \n",
    "                           group = 'cluster_0')\n",
    "\n",
    "df.loc[(df['pvals_adj'] < 0.01) & (df['pct_nz_group'] > 0.2)].sort_values('logfoldchanges', ascending=False).iloc[:20]"
   ]
  },
  {
   "cell_type": "code",
   "execution_count": null,
   "id": "15aa15a1-03b8-4b48-8b42-04e92c70825c",
   "metadata": {},
   "outputs": [],
   "source": [
    "adata.obs.loc[adata.obs['comparison'].str.contains('^cluster_0'), 'cell_type'] = 'Snap25_Cortical_Higher-Complexity_Outer-Cortex_General_Dorsomedial' "
   ]
  },
  {
   "cell_type": "markdown",
   "id": "49c43dbe-944a-4ab9-978b-813c30c24e8f",
   "metadata": {
    "tags": []
   },
   "source": [
    "### General"
   ]
  },
  {
   "cell_type": "code",
   "execution_count": null,
   "id": "5088d195-e760-409a-ab9b-ba328a24d030",
   "metadata": {},
   "outputs": [],
   "source": [
    "df = sc.get.rank_genes_groups_df(adata_comparison, \n",
    "                           key = 'level_6_Snap25_Cortical_Higher-Complexity_Outer-Cortex_General', \n",
    "                           group = 'cluster_1')\n",
    "\n",
    "df.loc[(df['pvals_adj'] < 0.01) & (df['pct_nz_group'] > 0.2)].sort_values('logfoldchanges', ascending=False).iloc[:20]"
   ]
  },
  {
   "cell_type": "code",
   "execution_count": null,
   "id": "4bd352c3-5562-4a85-87eb-d7a2ddb65891",
   "metadata": {},
   "outputs": [],
   "source": [
    "adata.obs.loc[adata.obs['comparison'].str.contains('^cluster_1'), 'cell_type'] = 'Snap25_Cortical_Higher-Complexity_Outer-Cortex_General_General' "
   ]
  },
  {
   "cell_type": "markdown",
   "id": "37e24cc1-77fb-49a2-9386-759d0992765b",
   "metadata": {
    "jp-MarkdownHeadingCollapsed": true,
    "tags": []
   },
   "source": [
    "# Level 4: Snap25_Cortical_Lower-Complexity"
   ]
  },
  {
   "cell_type": "code",
   "execution_count": null,
   "id": "1d8c38d1-e07d-4a09-a6cc-07bcfdb07d15",
   "metadata": {},
   "outputs": [],
   "source": [
    "set(['_'.join(x.split('_')[:5]) for x in adata[adata.obs['cell_type'] == 'Snap25_Cortical_Lower-Complexity'].obs['current_leiden'].unique().tolist()])"
   ]
  },
  {
   "cell_type": "code",
   "execution_count": null,
   "id": "46d2caa6-35b9-4d25-919d-04a2aa86cd3e",
   "metadata": {},
   "outputs": [],
   "source": [
    "adata.obs['comparison'] = 'ignore'\n",
    "adata.obs.loc[adata.obs['current_leiden'].str.contains('^s_2_3_1_0'), 'comparison'] = 'cluster_1'\n",
    "adata.obs.loc[adata.obs['current_leiden'].str.contains('^s_2_3_1_FINAL'), 'comparison'] = 'cluster_0'\n",
    "adata.obs.groupby(['comparison']).size()"
   ]
  },
  {
   "cell_type": "code",
   "execution_count": null,
   "id": "47563de4-d817-49d3-9de8-c3aabce70712",
   "metadata": {},
   "outputs": [],
   "source": [
    "adata_comparison = adata[adata.obs['comparison'] != 'ignore'].copy()\n",
    "adata_comparison.layers['count'] = adata_comparison.X.copy()\n",
    "sc.pp.normalize_total(adata_comparison, target_sum=1e4)\n",
    "if 'log1p' in adata_comparison.uns.keys(): \n",
    "        del adata_comparison.uns['log1p']\n",
    "sc.pp.log1p(adata_comparison)\n",
    "adata_comparison.layers['lognorm'] = adata_comparison.X.copy()\n",
    "adata_comparison.X = adata_comparison.layers['count'].copy()\n",
    "sc.tl.rank_genes_groups(adata_comparison, \n",
    "                        groupby='comparison', \n",
    "                        use_raw=False,\n",
    "                        layer='lognorm', \n",
    "                        method='wilcoxon', \n",
    "                        rankby_abs=True,\n",
    "                        pts=True, \n",
    "                        key_added='level_4_Snap25_Cortical_Lower-Complexity')"
   ]
  },
  {
   "cell_type": "code",
   "execution_count": null,
   "id": "d8075312-7d8f-4b63-96be-c4034316934d",
   "metadata": {},
   "outputs": [],
   "source": [
    "sc.pl.violin(adata_comparison, keys=['pct_counts_mt', 'pct_counts_in_top_100_genes', 'n_genes_by_counts', 'Plp1'], groupby='comparison')"
   ]
  },
  {
   "cell_type": "code",
   "execution_count": null,
   "id": "3961e3b1-9036-4637-88aa-7967eabe0caf",
   "metadata": {},
   "outputs": [],
   "source": [
    "\n",
    "fig, axs = plt.subplots(nrows=adata_comparison.obs['comparison'].unique().shape[0], ncols=7, figsize=(35, 10))\n",
    "for row, cluster in enumerate(adata_comparison.obs['comparison'].unique()):\n",
    "    for col, section in enumerate(adata_comparison.obs.sample_id.unique()):\n",
    "        sc.pl.spatial(adata_comparison[adata_comparison.obs['sample_id'] == section].copy(), \n",
    "                     spot_size=25, \n",
    "                      size = 5,\n",
    "                      groups = cluster,\n",
    "                     color = 'comparison', \n",
    "                     ax=axs[row, col], \n",
    "                     show=False)\n",
    "        "
   ]
  },
  {
   "cell_type": "markdown",
   "id": "44efadc6-2dae-490b-8bda-1f145012d1df",
   "metadata": {
    "tags": []
   },
   "source": [
    "### Ventral"
   ]
  },
  {
   "cell_type": "code",
   "execution_count": null,
   "id": "853b0fd9-ddaa-4eaf-bdb3-7f83c57c268b",
   "metadata": {},
   "outputs": [],
   "source": [
    "df = sc.get.rank_genes_groups_df(adata_comparison, \n",
    "                           key = 'level_4_Snap25_Cortical_Lower-Complexity', \n",
    "                           group = 'cluster_0')\n",
    "\n",
    "df.loc[(df['pvals_adj'] < 0.01) & (df['pct_nz_group'] > 0.2)].sort_values('logfoldchanges', ascending=False).iloc[:20]"
   ]
  },
  {
   "cell_type": "code",
   "execution_count": null,
   "id": "026243c1-d1b7-4457-90bf-d2d4b4c3fa14",
   "metadata": {},
   "outputs": [],
   "source": [
    "adata.obs.loc[adata.obs['comparison'].str.contains('^cluster_0'), 'cell_type'] = 'Snap25_Cortical_Lower-Complexity_Ventral' "
   ]
  },
  {
   "cell_type": "markdown",
   "id": "b96b7330-7564-4ece-a9bd-028a2f626313",
   "metadata": {
    "tags": []
   },
   "source": [
    "### General"
   ]
  },
  {
   "cell_type": "code",
   "execution_count": null,
   "id": "044c8989-08cd-4410-8481-17b6da8566f7",
   "metadata": {},
   "outputs": [],
   "source": [
    "df = sc.get.rank_genes_groups_df(adata_comparison, \n",
    "                           key = 'level_4_Snap25_Cortical_Lower-Complexity', \n",
    "                           group = 'cluster_1')\n",
    "\n",
    "df.loc[(df['pvals_adj'] < 0.01) & (df['pct_nz_group'] > 0.2)].sort_values('logfoldchanges', ascending=False).iloc[:20]"
   ]
  },
  {
   "cell_type": "code",
   "execution_count": null,
   "id": "8758aeb1-78bf-402b-a2f3-9d7e0957a3c4",
   "metadata": {},
   "outputs": [],
   "source": [
    "adata.obs.loc[adata.obs['comparison'].str.contains('^cluster_1'), 'cell_type'] = 'Snap25_Cortical_Lower-Complexity_General' "
   ]
  },
  {
   "cell_type": "markdown",
   "id": "577951ee-5a44-4691-ac0c-04409ee520de",
   "metadata": {
    "jp-MarkdownHeadingCollapsed": true,
    "tags": []
   },
   "source": [
    "# Level 4: Plp1_Astrocyte-like_Ageing"
   ]
  },
  {
   "cell_type": "code",
   "execution_count": null,
   "id": "e80c94f8-1c29-4cd6-85b2-35a2ae2c158e",
   "metadata": {},
   "outputs": [],
   "source": [
    "set(['_'.join(x.split('_')[:5]) for x in adata[adata.obs['cell_type'] == 'Plp1_Astrocyte-like_Ageing'].obs['current_leiden'].unique().tolist()])"
   ]
  },
  {
   "cell_type": "code",
   "execution_count": null,
   "id": "8bc39b90-4254-4a0a-8ca2-8c62a52c431a",
   "metadata": {},
   "outputs": [],
   "source": [
    "adata.obs['comparison'] = 'ignore'\n",
    "adata.obs.loc[adata.obs['current_leiden'].str.contains('^s_3_1_0_1'), 'comparison'] = 'cluster_1'\n",
    "adata.obs.loc[adata.obs['current_leiden'].str.contains('^s_3_1_0_0'), 'comparison'] = 'cluster_0'\n",
    "adata.obs.groupby(['comparison']).size()"
   ]
  },
  {
   "cell_type": "code",
   "execution_count": null,
   "id": "0f9effc2-b30c-43fb-a674-1e63e06dd799",
   "metadata": {},
   "outputs": [],
   "source": [
    "adata_comparison = adata[adata.obs['comparison'] != 'ignore'].copy()\n",
    "adata_comparison.layers['count'] = adata_comparison.X.copy()\n",
    "sc.pp.normalize_total(adata_comparison, target_sum=1e4)\n",
    "if 'log1p' in adata_comparison.uns.keys(): \n",
    "        del adata_comparison.uns['log1p']\n",
    "sc.pp.log1p(adata_comparison)\n",
    "adata_comparison.layers['lognorm'] = adata_comparison.X.copy()\n",
    "adata_comparison.X = adata_comparison.layers['count'].copy()\n",
    "sc.tl.rank_genes_groups(adata_comparison, \n",
    "                        groupby='comparison', \n",
    "                        use_raw=False,\n",
    "                        layer='lognorm', \n",
    "                        method='wilcoxon', \n",
    "                        rankby_abs=True,\n",
    "                        pts=True, \n",
    "                        key_added='level_4_Plp1_Astrocyte-like_Ageing')"
   ]
  },
  {
   "cell_type": "code",
   "execution_count": null,
   "id": "b3230d39-48cf-4aea-841d-1096bc7ef1d4",
   "metadata": {},
   "outputs": [],
   "source": [
    "sc.pl.violin(adata_comparison, keys=['pct_counts_mt', 'pct_counts_in_top_100_genes', 'n_genes_by_counts', 'Plp1'], groupby='comparison')"
   ]
  },
  {
   "cell_type": "code",
   "execution_count": null,
   "id": "5be56184-b148-48fa-99ec-a9206c79bd21",
   "metadata": {},
   "outputs": [],
   "source": [
    "\n",
    "fig, axs = plt.subplots(nrows=adata_comparison.obs['comparison'].unique().shape[0], ncols=7, figsize=(35, 10))\n",
    "for row, cluster in enumerate(adata_comparison.obs['comparison'].unique()):\n",
    "    for col, section in enumerate(adata_comparison.obs.sample_id.unique()):\n",
    "        sc.pl.spatial(adata_comparison[adata_comparison.obs['sample_id'] == section].copy(), \n",
    "                     spot_size=25, \n",
    "                      size = 5,\n",
    "                      groups = cluster,\n",
    "                     color = 'comparison', \n",
    "                     ax=axs[row, col], \n",
    "                     show=False)\n",
    "        "
   ]
  },
  {
   "cell_type": "markdown",
   "id": "6bf85a42-527f-4d83-b7b2-6eb94816f732",
   "metadata": {
    "tags": []
   },
   "source": [
    "### Dura Mater"
   ]
  },
  {
   "cell_type": "code",
   "execution_count": null,
   "id": "2926dbe9-fd21-44bb-b1c4-a14a2c47a855",
   "metadata": {},
   "outputs": [],
   "source": [
    "df = sc.get.rank_genes_groups_df(adata_comparison, \n",
    "                           key = 'level_4_Plp1_Astrocyte-like_Ageing', \n",
    "                           group = 'cluster_0')\n",
    "\n",
    "df.loc[(df['pvals_adj'] < 0.01) & (df['pct_nz_group'] > 0.2)].sort_values('logfoldchanges', ascending=False).iloc[:20]"
   ]
  },
  {
   "cell_type": "code",
   "execution_count": null,
   "id": "a1cee7fa-c907-4763-b3d0-e0a9ca8a4853",
   "metadata": {},
   "outputs": [],
   "source": [
    "adata.obs.loc[adata.obs['comparison'].str.contains('^cluster_0'), 'cell_type'] = 'Plp1_Astrocyte-like_Ageing-Dura-Mater' "
   ]
  },
  {
   "cell_type": "markdown",
   "id": "916caa00-8b0d-4bb6-bef7-e9711321a739",
   "metadata": {
    "tags": []
   },
   "source": [
    "### Dura Mater"
   ]
  },
  {
   "cell_type": "code",
   "execution_count": null,
   "id": "e71f3129-e6a0-4ca5-a107-1cb303c43694",
   "metadata": {},
   "outputs": [],
   "source": [
    "df = sc.get.rank_genes_groups_df(adata_comparison, \n",
    "                           key = 'level_4_Plp1_Astrocyte-like_Ageing', \n",
    "                           group = 'cluster_1')\n",
    "\n",
    "df.loc[(df['pvals_adj'] < 0.01) & (df['pct_nz_group'] > 0.2)].sort_values('logfoldchanges', ascending=False).iloc[:20]"
   ]
  },
  {
   "cell_type": "code",
   "execution_count": null,
   "id": "4d60ab6b-c18f-40c0-baad-955baead10a3",
   "metadata": {},
   "outputs": [],
   "source": [
    "adata.obs.loc[adata.obs['comparison'].str.contains('^cluster_1'), 'cell_type'] = 'Plp1_Astrocyte-like_Ageing_Astrocytes' "
   ]
  },
  {
   "cell_type": "markdown",
   "id": "570b5221-80c9-420d-b3de-0d54f2e43c4e",
   "metadata": {
    "jp-MarkdownHeadingCollapsed": true,
    "tags": []
   },
   "source": [
    "# Level 5: Plp1_Astrocyte-like_Ageing_Astrocytes"
   ]
  },
  {
   "cell_type": "code",
   "execution_count": null,
   "id": "237e7970-cfc4-44a2-b00e-a4250df17137",
   "metadata": {},
   "outputs": [],
   "source": [
    "set(['_'.join(x.split('_')[:6]) for x in adata[adata.obs['cell_type'] == 'Plp1_Astrocyte-like_Ageing_Astrocytes'].obs['current_leiden'].unique().tolist()])"
   ]
  },
  {
   "cell_type": "code",
   "execution_count": null,
   "id": "a53173ea-6110-444b-be62-2731bf4e8e57",
   "metadata": {},
   "outputs": [],
   "source": [
    "adata.obs['comparison'] = 'ignore'\n",
    "adata.obs.loc[adata.obs['current_leiden'].str.contains('^s_3_1_0_1_1'), 'comparison'] = 'cluster_1'\n",
    "adata.obs.loc[adata.obs['current_leiden'].str.contains('^s_3_1_0_1_0'), 'comparison'] = 'cluster_0'\n",
    "adata.obs.groupby(['comparison']).size()"
   ]
  },
  {
   "cell_type": "code",
   "execution_count": null,
   "id": "8d992f55-1768-40b5-9b26-da4618e547f0",
   "metadata": {},
   "outputs": [],
   "source": [
    "adata_comparison = adata[adata.obs['comparison'] != 'ignore'].copy()\n",
    "adata_comparison.layers['count'] = adata_comparison.X.copy()\n",
    "sc.pp.normalize_total(adata_comparison, target_sum=1e4)\n",
    "if 'log1p' in adata_comparison.uns.keys(): \n",
    "        del adata_comparison.uns['log1p']\n",
    "sc.pp.log1p(adata_comparison)\n",
    "adata_comparison.layers['lognorm'] = adata_comparison.X.copy()\n",
    "adata_comparison.X = adata_comparison.layers['count'].copy()\n",
    "sc.tl.rank_genes_groups(adata_comparison, \n",
    "                        groupby='comparison', \n",
    "                        use_raw=False,\n",
    "                        layer='lognorm', \n",
    "                        method='wilcoxon', \n",
    "                        rankby_abs=True,\n",
    "                        pts=True, \n",
    "                        key_added='level_5_Plp1_Astrocyte-like_Ageing_Astrocytes')"
   ]
  },
  {
   "cell_type": "code",
   "execution_count": null,
   "id": "0bf17f49-5984-4b24-8e5d-f9f1fb8bf356",
   "metadata": {},
   "outputs": [],
   "source": [
    "sc.pl.violin(adata_comparison, keys=['pct_counts_mt', 'pct_counts_in_top_100_genes', 'n_genes_by_counts', 'Plp1'], groupby='comparison')"
   ]
  },
  {
   "cell_type": "code",
   "execution_count": null,
   "id": "766856a5-b644-40b2-b8f3-625be9b38bac",
   "metadata": {},
   "outputs": [],
   "source": [
    "\n",
    "fig, axs = plt.subplots(nrows=adata_comparison.obs['comparison'].unique().shape[0], ncols=7, figsize=(35, 10))\n",
    "for row, cluster in enumerate(adata_comparison.obs['comparison'].unique()):\n",
    "    for col, section in enumerate(adata_comparison.obs.sample_id.unique()):\n",
    "        sc.pl.spatial(adata_comparison[adata_comparison.obs['sample_id'] == section].copy(), \n",
    "                     spot_size=25, \n",
    "                      size = 5,\n",
    "                      groups = cluster,\n",
    "                     color = 'comparison', \n",
    "                     ax=axs[row, col], \n",
    "                     show=False)\n",
    "        "
   ]
  },
  {
   "cell_type": "markdown",
   "id": "d86ed43c-c250-4e08-902e-65b1a4d498fa",
   "metadata": {
    "tags": []
   },
   "source": [
    "### Dura Mater"
   ]
  },
  {
   "cell_type": "code",
   "execution_count": null,
   "id": "958416df-99bc-4c2c-9c5d-0dfc52510176",
   "metadata": {},
   "outputs": [],
   "source": [
    "df = sc.get.rank_genes_groups_df(adata_comparison, \n",
    "                           key = 'level_5_Plp1_Astrocyte-like_Ageing_Astrocytes', \n",
    "                           group = 'cluster_0')\n",
    "\n",
    "df.loc[(df['pvals_adj'] < 0.01) & (df['pct_nz_group'] > 0.2)].sort_values('logfoldchanges', ascending=False).iloc[:20]"
   ]
  },
  {
   "cell_type": "code",
   "execution_count": null,
   "id": "a586c633-1fb4-40d3-af61-09cab47b3aee",
   "metadata": {},
   "outputs": [],
   "source": [
    "adata.obs.loc[adata.obs['comparison'].str.contains('^cluster_0'), 'cell_type'] = 'Plp1_Astrocyte-like_Ageing-Astrocytes_Dura-Mater' "
   ]
  },
  {
   "cell_type": "markdown",
   "id": "8ec5a0bd-7560-4880-af56-924f24b42e7f",
   "metadata": {
    "tags": []
   },
   "source": [
    "### General"
   ]
  },
  {
   "cell_type": "code",
   "execution_count": null,
   "id": "12bd95ab-371d-466f-8f27-9222d6bf320b",
   "metadata": {},
   "outputs": [],
   "source": [
    "df = sc.get.rank_genes_groups_df(adata_comparison, \n",
    "                           key = 'level_5_Plp1_Astrocyte-like_Ageing_Astrocytes', \n",
    "                           group = 'cluster_1')\n",
    "\n",
    "df.loc[(df['pvals_adj'] < 0.01) & (df['pct_nz_group'] > 0.2)].sort_values('logfoldchanges', ascending=False).iloc[:20]"
   ]
  },
  {
   "cell_type": "code",
   "execution_count": null,
   "id": "9b637b21-b7cc-4727-8bcf-d27ce256fa52",
   "metadata": {},
   "outputs": [],
   "source": [
    "adata.obs.loc[adata.obs['comparison'].str.contains('^cluster_1'), 'cell_type'] = 'Plp1_Astrocyte-like_Ageing_Astrocytes_General' "
   ]
  },
  {
   "cell_type": "markdown",
   "id": "6ed19b3b-ca3e-459a-b409-134464ad4910",
   "metadata": {
    "jp-MarkdownHeadingCollapsed": true,
    "tags": []
   },
   "source": [
    "# Level 6: Plp1_Astrocyte-like_Ageing_Astrocytes_General"
   ]
  },
  {
   "cell_type": "code",
   "execution_count": null,
   "id": "03fd3dbc-69ac-4526-81e2-3698e5cdc58a",
   "metadata": {},
   "outputs": [],
   "source": [
    "set(['_'.join(x.split('_')[:7]) for x in adata[adata.obs['cell_type'] == 'Plp1_Astrocyte-like_Ageing_Astrocytes_General'].obs['current_leiden'].unique().tolist()])"
   ]
  },
  {
   "cell_type": "code",
   "execution_count": null,
   "id": "6d2bd3a0-0b13-4415-bda2-cbf01a4ba8c6",
   "metadata": {},
   "outputs": [],
   "source": [
    "adata.obs['comparison'] = 'ignore'\n",
    "adata.obs.loc[adata.obs['current_leiden'].str.contains('^s_3_1_0_1_1_1'), 'comparison'] = 'cluster_1'\n",
    "adata.obs.loc[adata.obs['current_leiden'].str.contains('^s_3_1_0_1_1_0'), 'comparison'] = 'cluster_0'\n",
    "adata.obs.groupby(['comparison']).size()"
   ]
  },
  {
   "cell_type": "code",
   "execution_count": null,
   "id": "961b88e1-c779-4e4e-8d1b-089a358e1f8a",
   "metadata": {},
   "outputs": [],
   "source": [
    "adata_comparison = adata[adata.obs['comparison'] != 'ignore'].copy()\n",
    "adata_comparison.layers['count'] = adata_comparison.X.copy()\n",
    "sc.pp.normalize_total(adata_comparison, target_sum=1e4)\n",
    "if 'log1p' in adata_comparison.uns.keys(): \n",
    "        del adata_comparison.uns['log1p']\n",
    "sc.pp.log1p(adata_comparison)\n",
    "adata_comparison.layers['lognorm'] = adata_comparison.X.copy()\n",
    "adata_comparison.X = adata_comparison.layers['count'].copy()\n",
    "sc.tl.rank_genes_groups(adata_comparison, \n",
    "                        groupby='comparison', \n",
    "                        use_raw=False,\n",
    "                        layer='lognorm', \n",
    "                        method='wilcoxon', \n",
    "                        rankby_abs=True,\n",
    "                        pts=True, \n",
    "                        key_added='level_6_Plp1_Astrocyte-like_Ageing_Astrocytes_General')"
   ]
  },
  {
   "cell_type": "code",
   "execution_count": null,
   "id": "1a86ea0c-a812-43ad-ac0b-b979b0aa1645",
   "metadata": {},
   "outputs": [],
   "source": [
    "sc.pl.violin(adata_comparison, keys=['pct_counts_mt', 'pct_counts_in_top_100_genes', 'n_genes_by_counts', 'Plp1'], groupby='comparison')"
   ]
  },
  {
   "cell_type": "code",
   "execution_count": null,
   "id": "9e68f332-c02a-4879-88ba-15c7b6b5be93",
   "metadata": {},
   "outputs": [],
   "source": [
    "\n",
    "fig, axs = plt.subplots(nrows=adata_comparison.obs['comparison'].unique().shape[0], ncols=7, figsize=(35, 10))\n",
    "for row, cluster in enumerate(adata_comparison.obs['comparison'].unique()):\n",
    "    for col, section in enumerate(adata_comparison.obs.sample_id.unique()):\n",
    "        sc.pl.spatial(adata_comparison[adata_comparison.obs['sample_id'] == section].copy(), \n",
    "                     spot_size=25, \n",
    "                      size = 5,\n",
    "                      groups = cluster,\n",
    "                     color = 'comparison', \n",
    "                     ax=axs[row, col], \n",
    "                     show=False)\n",
    "        "
   ]
  },
  {
   "cell_type": "markdown",
   "id": "fead9c32-3eb2-4e26-b00d-b1065906cfde",
   "metadata": {
    "tags": []
   },
   "source": [
    "### Dura Mater"
   ]
  },
  {
   "cell_type": "code",
   "execution_count": null,
   "id": "45befec9-206a-4606-b653-ce5146a7a0e8",
   "metadata": {},
   "outputs": [],
   "source": [
    "df = sc.get.rank_genes_groups_df(adata_comparison, \n",
    "                           key = 'level_6_Plp1_Astrocyte-like_Ageing_Astrocytes_General', \n",
    "                           group = 'cluster_0')\n",
    "\n",
    "df.loc[(df['pvals_adj'] < 0.01) & (df['pct_nz_group'] > 0.2)].sort_values('logfoldchanges', ascending=False).iloc[:20]"
   ]
  },
  {
   "cell_type": "code",
   "execution_count": null,
   "id": "deb7996c-2e96-4e18-a6d0-1baa8474bc2d",
   "metadata": {},
   "outputs": [],
   "source": [
    "adata.obs.loc[adata.obs['comparison'].str.contains('^cluster_0'), 'cell_type'] = 'Plp1_Astrocyte-like_Ageing_Astrocytes_General_Dura-Mater' "
   ]
  },
  {
   "cell_type": "markdown",
   "id": "1f51a2c0-cd1e-4874-be40-a214622478e0",
   "metadata": {
    "tags": []
   },
   "source": [
    "### General"
   ]
  },
  {
   "cell_type": "code",
   "execution_count": null,
   "id": "9307e8a0-c984-439f-a31e-a252526deca3",
   "metadata": {},
   "outputs": [],
   "source": [
    "df = sc.get.rank_genes_groups_df(adata_comparison, \n",
    "                           key = 'level_6_Plp1_Astrocyte-like_Ageing_Astrocytes_General', \n",
    "                           group = 'cluster_1')\n",
    "\n",
    "df.loc[(df['pvals_adj'] < 0.01) & (df['pct_nz_group'] > 0.2)].sort_values('logfoldchanges', ascending=False).iloc[:20]"
   ]
  },
  {
   "cell_type": "code",
   "execution_count": null,
   "id": "4152d8c4-0cb5-4c18-89ff-8b5101ba34d7",
   "metadata": {},
   "outputs": [],
   "source": [
    "adata.obs.loc[adata.obs['comparison'].str.contains('^cluster_1'), 'cell_type'] = 'Plp1_Astrocyte-like_Ageing_Astrocytes_General_General' "
   ]
  },
  {
   "cell_type": "markdown",
   "id": "40731504-1298-4e9c-9501-521fe117a7af",
   "metadata": {
    "jp-MarkdownHeadingCollapsed": true,
    "tags": []
   },
   "source": [
    "# Level 7: Plp1_Astrocyte-like_Ageing_Astrocytes_General_General"
   ]
  },
  {
   "cell_type": "code",
   "execution_count": null,
   "id": "a7405f19-c640-408b-9612-6a8420dd0765",
   "metadata": {},
   "outputs": [],
   "source": [
    "set(['_'.join(x.split('_')[:8]) for x in adata[adata.obs['cell_type'] == 'Plp1_Astrocyte-like_Ageing_Astrocytes_General_General'].obs['current_leiden'].unique().tolist()])"
   ]
  },
  {
   "cell_type": "code",
   "execution_count": null,
   "id": "07908541-14de-401b-8003-76466ec6e1ad",
   "metadata": {},
   "outputs": [],
   "source": [
    "adata.obs['comparison'] = 'ignore'\n",
    "adata.obs.loc[adata.obs['current_leiden'].str.contains('^s_3_1_0_1_1_1_2'), 'comparison'] = 'cluster_2'\n",
    "adata.obs.loc[adata.obs['current_leiden'].str.contains('^s_3_1_0_1_1_1_1'), 'comparison'] = 'cluster_1'\n",
    "adata.obs.loc[adata.obs['current_leiden'].str.contains('^s_3_1_0_1_1_1_0'), 'comparison'] = 'cluster_0'\n",
    "adata.obs.groupby(['comparison']).size()"
   ]
  },
  {
   "cell_type": "code",
   "execution_count": null,
   "id": "609a07f5-e46a-44e8-a007-08999eb71854",
   "metadata": {},
   "outputs": [],
   "source": [
    "adata_comparison = adata[adata.obs['comparison'] != 'ignore'].copy()\n",
    "adata_comparison.layers['count'] = adata_comparison.X.copy()\n",
    "sc.pp.normalize_total(adata_comparison, target_sum=1e4)\n",
    "if 'log1p' in adata_comparison.uns.keys(): \n",
    "        del adata_comparison.uns['log1p']\n",
    "sc.pp.log1p(adata_comparison)\n",
    "adata_comparison.layers['lognorm'] = adata_comparison.X.copy()\n",
    "adata_comparison.X = adata_comparison.layers['count'].copy()\n",
    "sc.tl.rank_genes_groups(adata_comparison, \n",
    "                        groupby='comparison', \n",
    "                        use_raw=False,\n",
    "                        layer='lognorm', \n",
    "                        method='wilcoxon', \n",
    "                        rankby_abs=True,\n",
    "                        pts=True, \n",
    "                        key_added='level_7_Plp1_Astrocyte-like_Ageing_Astrocytes_General_General')"
   ]
  },
  {
   "cell_type": "code",
   "execution_count": null,
   "id": "bea3bb6e-d2f5-4f63-a6c6-5abc10131a7b",
   "metadata": {},
   "outputs": [],
   "source": [
    "sc.pl.violin(adata_comparison, keys=['pct_counts_mt', 'pct_counts_in_top_100_genes', 'n_genes_by_counts', 'Plp1'], groupby='comparison')"
   ]
  },
  {
   "cell_type": "code",
   "execution_count": null,
   "id": "fafef8fc-ac6a-4d7b-95df-83b27c2048fb",
   "metadata": {},
   "outputs": [],
   "source": [
    "\n",
    "fig, axs = plt.subplots(nrows=adata_comparison.obs['comparison'].unique().shape[0], ncols=7, figsize=(35, 10))\n",
    "for row, cluster in enumerate(adata_comparison.obs['comparison'].unique()):\n",
    "    for col, section in enumerate(adata_comparison.obs.sample_id.unique()):\n",
    "        sc.pl.spatial(adata_comparison[adata_comparison.obs['sample_id'] == section].copy(), \n",
    "                     spot_size=25, \n",
    "                      size = 5,\n",
    "                      groups = cluster,\n",
    "                     color = 'comparison', \n",
    "                     ax=axs[row, col], \n",
    "                     show=False)\n",
    "        "
   ]
  },
  {
   "cell_type": "markdown",
   "id": "48d2b01e-3338-4336-8fb0-f8e62773d8a6",
   "metadata": {
    "tags": []
   },
   "source": [
    "### Snap25+"
   ]
  },
  {
   "cell_type": "code",
   "execution_count": null,
   "id": "ebc5d3c0-9658-4ae3-9af2-8d24bc6ccaa1",
   "metadata": {},
   "outputs": [],
   "source": [
    "df = sc.get.rank_genes_groups_df(adata_comparison, \n",
    "                           key = 'level_7_Plp1_Astrocyte-like_Ageing_Astrocytes_General_General', \n",
    "                           group = 'cluster_0')\n",
    "\n",
    "df.loc[(df['pvals_adj'] < 0.01) & (df['pct_nz_group'] > 0.2)].sort_values('logfoldchanges', ascending=False).iloc[:20]"
   ]
  },
  {
   "cell_type": "code",
   "execution_count": null,
   "id": "682af3fc-c3fb-4bea-91f1-737b1ac71fa5",
   "metadata": {},
   "outputs": [],
   "source": [
    "adata.obs.loc[adata.obs['comparison'].str.contains('^cluster_0'), 'cell_type'] = 'Plp1_Astrocyte-like_Ageing_Astrocytes_General_General_Snap25+' "
   ]
  },
  {
   "cell_type": "markdown",
   "id": "2ff8a391-a899-4d66-9f38-371d56a110f5",
   "metadata": {
    "tags": []
   },
   "source": [
    "### Oligodendrocytes"
   ]
  },
  {
   "cell_type": "code",
   "execution_count": null,
   "id": "bc3830ec-297c-4d49-a61d-9b1c7c7e6ed2",
   "metadata": {},
   "outputs": [],
   "source": [
    "df = sc.get.rank_genes_groups_df(adata_comparison, \n",
    "                           key = 'level_7_Plp1_Astrocyte-like_Ageing_Astrocytes_General_General', \n",
    "                           group = 'cluster_1')\n",
    "\n",
    "df.loc[(df['pvals_adj'] < 0.01) & (df['pct_nz_group'] > 0.2)].sort_values('logfoldchanges', ascending=False).iloc[:20]"
   ]
  },
  {
   "cell_type": "code",
   "execution_count": null,
   "id": "6c65ef2b-b266-4262-bbeb-7590a1529347",
   "metadata": {},
   "outputs": [],
   "source": [
    "adata.obs.loc[adata.obs['comparison'].str.contains('^cluster_1'), 'cell_type'] = 'Plp1_Astrocyte-like_Ageing_Astrocytes_General_General_Oligodendrocytes' "
   ]
  },
  {
   "cell_type": "markdown",
   "id": "fc0d2f77-6319-48cf-8a5d-d751ebffa23c",
   "metadata": {
    "tags": []
   },
   "source": [
    "### Lower Complexity"
   ]
  },
  {
   "cell_type": "code",
   "execution_count": null,
   "id": "9f9b6290-b1b2-4779-bb5f-44643363d8da",
   "metadata": {},
   "outputs": [],
   "source": [
    "df = sc.get.rank_genes_groups_df(adata_comparison, \n",
    "                           key = 'level_7_Plp1_Astrocyte-like_Ageing_Astrocytes_General_General', \n",
    "                           group = 'cluster_2')\n",
    "\n",
    "df.loc[(df['pvals_adj'] < 0.01) & (df['pct_nz_group'] > 0.2)].sort_values('logfoldchanges', ascending=False).iloc[:20]"
   ]
  },
  {
   "cell_type": "code",
   "execution_count": null,
   "id": "d8c169f6-e23a-4354-ab0b-af4738746b7c",
   "metadata": {},
   "outputs": [],
   "source": [
    "adata.obs.loc[adata.obs['comparison'].str.contains('^cluster_2'), 'cell_type'] = 'Plp1_Astrocyte-like_Ageing_Astrocytes_General_General_Lower-Complexity' "
   ]
  },
  {
   "cell_type": "markdown",
   "id": "24964086-5f19-42ac-a676-853dbb7c457d",
   "metadata": {
    "tags": []
   },
   "source": [
    "# Cell Type Breakdown"
   ]
  },
  {
   "cell_type": "code",
   "execution_count": null,
   "id": "44bedd4b-bd17-46ac-92d3-cc5b653aef53",
   "metadata": {},
   "outputs": [],
   "source": [
    "pd.set_option('display.max_rows', 500)\n",
    "\n",
    "adata.obs.groupby(['cell_type']).size()"
   ]
  },
  {
   "cell_type": "code",
   "execution_count": null,
   "id": "28f5f245-a986-48da-bc4f-e75a0c442c23",
   "metadata": {},
   "outputs": [],
   "source": [
    "adata.obs['cell_type'] = adata.obs['cell_type'].astype('str')"
   ]
  },
  {
   "cell_type": "code",
   "execution_count": null,
   "id": "6ea02f12-0800-4c19-af00-981626c98b28",
   "metadata": {},
   "outputs": [],
   "source": [
    "adata.obs.loc[adata.obs['cell_type'] == 'Dopaminergic_Higher-Complexity_Plp-_Malat1+_SN', 'cell_type'] = 'Dopaminergic_Higher-Complexity_Plp1-_Malat1+_SN'\n",
    "adata.obs.loc[adata.obs['cell_type'] == 'Dopaminergic_Higher-Complexity_Plp-_Malat1-_SN', 'cell_type'] = 'Dopaminergic_Higher-Complexity_Plp1-_Malat1-_SN'"
   ]
  },
  {
   "cell_type": "markdown",
   "id": "bb94c45e-8727-444d-8ff3-854a106465f0",
   "metadata": {},
   "source": [
    "### check for subclusters within a given cell type"
   ]
  },
  {
   "cell_type": "code",
   "execution_count": null,
   "id": "faa34b60-c499-4209-918e-60c29fd78e5a",
   "metadata": {},
   "outputs": [],
   "source": [
    "set(['_'.join(x.split('_')[:6]) for x in adata[adata.obs['cell_type'] == 'Snap25_Thalamic'].obs['current_leiden'].unique().tolist()])"
   ]
  },
  {
   "cell_type": "code",
   "execution_count": null,
   "id": "4396dbfb-d816-440f-85c5-a672fa47887b",
   "metadata": {},
   "outputs": [],
   "source": [
    "with open('input/adata/midbrain/adata_labelled_20220412.pickle', 'wb') as f:\n",
    "    pickle.dump(adata, f)"
   ]
  },
  {
   "cell_type": "code",
   "execution_count": 2,
   "id": "d93a2663-089e-4953-a3a5-21a1e91a667e",
   "metadata": {},
   "outputs": [],
   "source": [
    "with open('input/adata/midbrain/adata_labelled_20220412.pickle', 'rb') as f:\n",
    "    adata = pickle.load(f)"
   ]
  },
  {
   "cell_type": "markdown",
   "id": "53ecc0ed-2071-475e-9352-e7796fa57437",
   "metadata": {},
   "source": [
    "### Filter cell types for further analysis"
   ]
  },
  {
   "cell_type": "code",
   "execution_count": null,
   "id": "5dd4f145-269c-4b2c-9452-adc46ad25175",
   "metadata": {},
   "outputs": [],
   "source": [
    "cell_types_to_remove = [\n",
    "    'Dopaminergic_Higher-Complexity_Plp1+',\n",
    "    'Dopaminergic_Lower-Complexity',\n",
    "    'Plp1_Astrocyte-like_Ageing_Astrocytes_General_General_Lower-Complexity',\n",
    "    'Plp1_Astrocyte-like_Ageing_Astrocytes_General_General_Snap25+',\n",
    "    'Plp1_Astrocyte-like_Cathepsin-Tyrobp_Lower-Complexity',\n",
    "    'Plp1_Erythroid_Snap25+',\n",
    "    'Plp1_Plp1+++_Olig-Neurons',"
   ]
  },
  {
   "cell_type": "code",
   "execution_count": 8,
   "id": "b3713e0f-36d2-4ffc-969e-f1838cc0777b",
   "metadata": {},
   "outputs": [
    {
     "data": {
      "text/plain": [
       "cell_type\n",
       "Cartpt neurons (Edinger-Westphal nucleus)                                                                                          153\n",
       "Dopaminergic_Higher-Complexity_Plp1+                                                                                               309\n",
       "Dopaminergic_Higher-Complexity_Plp1-_Malat1+_SN                                                                                    463\n",
       "Dopaminergic_Higher-Complexity_Plp1-_Malat1+_VTA                                                                                   261\n",
       "Dopaminergic_Higher-Complexity_Plp1-_Malat1-_SN                                                                                    843\n",
       "Dopaminergic_Higher-Complexity_Plp1-_Malat1-_VTA                                                                                   765\n",
       "Dopaminergic_Lower-Complexity                                                                                                      478\n",
       "Plp1_Astrocyte-like_Ageing-Astrocytes_Dura-Mater                                                                                  2827\n",
       "Plp1_Astrocyte-like_Ageing-Dura-Mater                                                                                             2693\n",
       "Plp1_Astrocyte-like_Ageing_Astrocytes_General_Dura-Mater                                                                          1901\n",
       "Plp1_Astrocyte-like_Ageing_Astrocytes_General_General_Lower-Complexity                                                           12547\n",
       "Plp1_Astrocyte-like_Ageing_Astrocytes_General_General_Oligodendrocytes                                                            2211\n",
       "Plp1_Astrocyte-like_Ageing_Astrocytes_General_General_Snap25+                                                                     1024\n",
       "Plp1_Astrocyte-like_Cathepsin-Tyrobp_Higher-Complexity-Plp1+                                                                       777\n",
       "Plp1_Astrocyte-like_Cathepsin-Tyrobp_Lower-Complexity                                                                             2664\n",
       "Plp1_Erythroid_Erythroid                                                                                                          3067\n",
       "Plp1_Erythroid_Snap25+                                                                                                             981\n",
       "Plp1_Plp1+++_Cathepsin-Tyrobp                                                                                                     1567\n",
       "Plp1_Plp1+++_Lower-Complexity_Ageing                                                                                              8107\n",
       "Plp1_Plp1+++_Lower-Complexity_Non-Ageing                                                                                         14964\n",
       "Plp1_Plp1+++_Olig-Neurons                                                                                                         3505\n",
       "Snap25_Central_Plp1+                                                                                                             10188\n",
       "Snap25_Central_Plp1-_Cortical                                                                                                     9077\n",
       "Snap25_Central_Plp1-_Mbp-Plp+_Malat1+_Astrocyte-associated                                                                        1783\n",
       "Snap25_Central_Plp1-_Mbp-Plp+_Malat1+_General_Cntn5+                                                                               359\n",
       "Snap25_Central_Plp1-_Mbp-Plp+_Malat1+_General_General_General_General_Cntnap2+                                                     552\n",
       "Snap25_Central_Plp1-_Mbp-Plp+_Malat1+_General_General_General_General_General                                                      806\n",
       "Snap25_Central_Plp1-_Mbp-Plp+_Malat1+_General_General_General_General_General_General_General_Malat1+                             6356\n",
       "Snap25_Central_Plp1-_Mbp-Plp+_Malat1+_General_General_General_General_General_General_General_Malat1-_Sample-Dependent-1          2468\n",
       "Snap25_Central_Plp1-_Mbp-Plp+_Malat1+_General_General_General_General_General_General_General_Malat1-_Sample-Dependent-2          3981\n",
       "Snap25_Central_Plp1-_Mbp-Plp+_Malat1+_General_General_General_General_General_General_Grik1+++                                     186\n",
       "Snap25_Central_Plp1-_Mbp-Plp+_Malat1+_General_General_General_General_SupColl-GABAergic                                            357\n",
       "Snap25_Central_Plp1-_Mbp-Plp+_Malat1+_General_General_General_Ventral-Pvalb+                                                      2930\n",
       "Snap25_Central_Plp1-_Mbp-Plp+_Malat1+_General_General_Plp1+++                                                                     3762\n",
       "Snap25_Central_Plp1-_Mbp-Plp+_Malat1-_General_Higher-Complexity_Cartpt                                                             221\n",
       "Snap25_Central_Plp1-_Mbp-Plp+_Malat1-_General_Higher-Complexity_General_Calca+                                                     122\n",
       "Snap25_Central_Plp1-_Mbp-Plp+_Malat1-_General_Higher-Complexity_General_Sample-Dependent-1_Sample-Dependent-1_General_Dorsal      1500\n",
       "Snap25_Central_Plp1-_Mbp-Plp+_Malat1-_General_Higher-Complexity_General_Sample-Dependent-1_Sample-Dependent-1_General_General     2266\n",
       "Snap25_Central_Plp1-_Mbp-Plp+_Malat1-_General_Higher-Complexity_General_Sample-Dependent-1_Sample-Dependent-1_Thalamic-PAG         933\n",
       "Snap25_Central_Plp1-_Mbp-Plp+_Malat1-_General_Higher-Complexity_General_Sample-Dependent-1_Sample-Dependent-2                     2364\n",
       "Snap25_Central_Plp1-_Mbp-Plp+_Malat1-_General_Higher-Complexity_General_Sample-Dependent-2_Ahi+                                   1886\n",
       "Snap25_Central_Plp1-_Mbp-Plp+_Malat1-_General_Higher-Complexity_General_Sample-Dependent-2_Pvalb+                                 1940\n",
       "Snap25_Central_Plp1-_Mbp-Plp+_Malat1-_General_Lower-Complexity                                                                   10363\n",
       "Snap25_Central_Plp1-_Mbp-Plp+_Malat1-_Pvalb+_Inner                                                                                1298\n",
       "Snap25_Central_Plp1-_Mbp-Plp+_Malat1-_Pvalb+_Outer-Sncg+                                                                          1091\n",
       "Snap25_Central_Plp1-_PontineGray/MCP                                                                                               716\n",
       "Snap25_Cortical_Camk1d-Il31ra                                                                                                     1402\n",
       "Snap25_Cortical_Higher-Complexity_Hippocampus_CA-Fields-CA3                                                                       1746\n",
       "Snap25_Cortical_Higher-Complexity_Hippocampus_CA-Fields_CA1-Subiculum-Amygdala_General_CA1_Sample-Consistent                      5063\n",
       "Snap25_Cortical_Higher-Complexity_Hippocampus_CA-Fields_CA1-Subiculum-Amygdala_General_CA1_Sample-Dependent                       2268\n",
       "Snap25_Cortical_Higher-Complexity_Hippocampus_CA-Fields_CA1-Subiculum-Amygdala_General_Dorsal-Subiculum                            712\n",
       "Snap25_Cortical_Higher-Complexity_Hippocampus_CA-Fields_CA1-Subiculum-Amygdala_General_Lsamp+-Rbfox1+                             1053\n",
       "Snap25_Cortical_Higher-Complexity_Hippocampus_CA-Fields_CA1-Subiculum-Amygdala_General_Ventral-Subiculum-Sample-Dependent         3165\n",
       "Snap25_Cortical_Higher-Complexity_Hippocampus_CA-Fields_CA1-Subiculum-Amygdala_Whole-Brain-DCC+                                    246\n",
       "Snap25_Cortical_Higher-Complexity_Hippocampus_DG-Prox1+                                                                            873\n",
       "Snap25_Cortical_Higher-Complexity_Inner-Cortex                                                                                   19079\n",
       "Snap25_Cortical_Higher-Complexity_Outer-Cortex_General_Dorsomedial                                                                3039\n",
       "Snap25_Cortical_Higher-Complexity_Outer-Cortex_General_General                                                                   33906\n",
       "Snap25_Cortical_Higher-Complexity_Outer-Cortex_Ventral                                                                            7448\n",
       "Snap25_Cortical_Lower-Complexity_General                                                                                         26592\n",
       "Snap25_Cortical_Lower-Complexity_Ventral                                                                                          6735\n",
       "Snap25_GABAergic-Sst-Npy                                                                                                          8116\n",
       "Snap25_Thalamic                                                                                                                   2000\n",
       "dtype: int64"
      ]
     },
     "execution_count": 8,
     "metadata": {},
     "output_type": "execute_result"
    }
   ],
   "source": [
    "pd.set_option('display.max_rows', 500)\n",
    "\n",
    "adata.obs.groupby('cell_type').size()"
   ]
  },
  {
   "cell_type": "code",
   "execution_count": 6,
   "id": "240fc1de-b8c6-458c-8f1f-7db433f7b9c4",
   "metadata": {},
   "outputs": [
    {
     "data": {
      "text/plain": [
       "array(['Cartpt neurons (Edinger-Westphal nucleus)',\n",
       "       'Dopaminergic_Higher-Complexity_Plp1+',\n",
       "       'Dopaminergic_Higher-Complexity_Plp1-_Malat1+_SN',\n",
       "       'Dopaminergic_Higher-Complexity_Plp1-_Malat1+_VTA',\n",
       "       'Dopaminergic_Higher-Complexity_Plp1-_Malat1-_SN',\n",
       "       'Dopaminergic_Higher-Complexity_Plp1-_Malat1-_VTA',\n",
       "       'Dopaminergic_Lower-Complexity',\n",
       "       'Plp1_Astrocyte-like_Ageing-Astrocytes_Dura-Mater',\n",
       "       'Plp1_Astrocyte-like_Ageing-Dura-Mater',\n",
       "       'Plp1_Astrocyte-like_Ageing_Astrocytes_General_Dura-Mater',\n",
       "       'Plp1_Astrocyte-like_Ageing_Astrocytes_General_General_Lower-Complexity',\n",
       "       'Plp1_Astrocyte-like_Ageing_Astrocytes_General_General_Oligodendrocytes',\n",
       "       'Plp1_Astrocyte-like_Ageing_Astrocytes_General_General_Snap25+',\n",
       "       'Plp1_Astrocyte-like_Cathepsin-Tyrobp_Higher-Complexity-Plp1+',\n",
       "       'Plp1_Astrocyte-like_Cathepsin-Tyrobp_Lower-Complexity',\n",
       "       'Plp1_Erythroid_Erythroid', 'Plp1_Erythroid_Snap25+',\n",
       "       'Plp1_Plp1+++_Cathepsin-Tyrobp',\n",
       "       'Plp1_Plp1+++_Lower-Complexity_Ageing',\n",
       "       'Plp1_Plp1+++_Lower-Complexity_Non-Ageing',\n",
       "       'Plp1_Plp1+++_Olig-Neurons', 'Snap25_Central_Plp1+',\n",
       "       'Snap25_Central_Plp1-_Cortical',\n",
       "       'Snap25_Central_Plp1-_Mbp-Plp+_Malat1+_Astrocyte-associated',\n",
       "       'Snap25_Central_Plp1-_Mbp-Plp+_Malat1+_General_Cntn5+',\n",
       "       'Snap25_Central_Plp1-_Mbp-Plp+_Malat1+_General_General_General_General_Cntnap2+',\n",
       "       'Snap25_Central_Plp1-_Mbp-Plp+_Malat1+_General_General_General_General_General',\n",
       "       'Snap25_Central_Plp1-_Mbp-Plp+_Malat1+_General_General_General_General_General_General_General_Malat1+',\n",
       "       'Snap25_Central_Plp1-_Mbp-Plp+_Malat1+_General_General_General_General_General_General_General_Malat1-_Sample-Dependent-1',\n",
       "       'Snap25_Central_Plp1-_Mbp-Plp+_Malat1+_General_General_General_General_General_General_General_Malat1-_Sample-Dependent-2',\n",
       "       'Snap25_Central_Plp1-_Mbp-Plp+_Malat1+_General_General_General_General_General_General_Grik1+++',\n",
       "       'Snap25_Central_Plp1-_Mbp-Plp+_Malat1+_General_General_General_General_SupColl-GABAergic',\n",
       "       'Snap25_Central_Plp1-_Mbp-Plp+_Malat1+_General_General_General_Ventral-Pvalb+',\n",
       "       'Snap25_Central_Plp1-_Mbp-Plp+_Malat1+_General_General_Plp1+++',\n",
       "       'Snap25_Central_Plp1-_Mbp-Plp+_Malat1-_General_Higher-Complexity_Cartpt',\n",
       "       'Snap25_Central_Plp1-_Mbp-Plp+_Malat1-_General_Higher-Complexity_General_Calca+',\n",
       "       'Snap25_Central_Plp1-_Mbp-Plp+_Malat1-_General_Higher-Complexity_General_Sample-Dependent-1_Sample-Dependent-1_General_Dorsal',\n",
       "       'Snap25_Central_Plp1-_Mbp-Plp+_Malat1-_General_Higher-Complexity_General_Sample-Dependent-1_Sample-Dependent-1_General_General',\n",
       "       'Snap25_Central_Plp1-_Mbp-Plp+_Malat1-_General_Higher-Complexity_General_Sample-Dependent-1_Sample-Dependent-1_Thalamic-PAG',\n",
       "       'Snap25_Central_Plp1-_Mbp-Plp+_Malat1-_General_Higher-Complexity_General_Sample-Dependent-1_Sample-Dependent-2',\n",
       "       'Snap25_Central_Plp1-_Mbp-Plp+_Malat1-_General_Higher-Complexity_General_Sample-Dependent-2_Ahi+',\n",
       "       'Snap25_Central_Plp1-_Mbp-Plp+_Malat1-_General_Higher-Complexity_General_Sample-Dependent-2_Pvalb+',\n",
       "       'Snap25_Central_Plp1-_Mbp-Plp+_Malat1-_General_Lower-Complexity',\n",
       "       'Snap25_Central_Plp1-_Mbp-Plp+_Malat1-_Pvalb+_Inner',\n",
       "       'Snap25_Central_Plp1-_Mbp-Plp+_Malat1-_Pvalb+_Outer-Sncg+',\n",
       "       'Snap25_Central_Plp1-_PontineGray/MCP',\n",
       "       'Snap25_Cortical_Camk1d-Il31ra',\n",
       "       'Snap25_Cortical_Higher-Complexity_Hippocampus_CA-Fields-CA3',\n",
       "       'Snap25_Cortical_Higher-Complexity_Hippocampus_CA-Fields_CA1-Subiculum-Amygdala_General_CA1_Sample-Consistent',\n",
       "       'Snap25_Cortical_Higher-Complexity_Hippocampus_CA-Fields_CA1-Subiculum-Amygdala_General_CA1_Sample-Dependent',\n",
       "       'Snap25_Cortical_Higher-Complexity_Hippocampus_CA-Fields_CA1-Subiculum-Amygdala_General_Dorsal-Subiculum',\n",
       "       'Snap25_Cortical_Higher-Complexity_Hippocampus_CA-Fields_CA1-Subiculum-Amygdala_General_Lsamp+-Rbfox1+',\n",
       "       'Snap25_Cortical_Higher-Complexity_Hippocampus_CA-Fields_CA1-Subiculum-Amygdala_General_Ventral-Subiculum-Sample-Dependent',\n",
       "       'Snap25_Cortical_Higher-Complexity_Hippocampus_CA-Fields_CA1-Subiculum-Amygdala_Whole-Brain-DCC+',\n",
       "       'Snap25_Cortical_Higher-Complexity_Hippocampus_DG-Prox1+',\n",
       "       'Snap25_Cortical_Higher-Complexity_Inner-Cortex',\n",
       "       'Snap25_Cortical_Higher-Complexity_Outer-Cortex_General_Dorsomedial',\n",
       "       'Snap25_Cortical_Higher-Complexity_Outer-Cortex_General_General',\n",
       "       'Snap25_Cortical_Higher-Complexity_Outer-Cortex_Ventral',\n",
       "       'Snap25_Cortical_Lower-Complexity_General',\n",
       "       'Snap25_Cortical_Lower-Complexity_Ventral',\n",
       "       'Snap25_GABAergic-Sst-Npy', 'Snap25_Thalamic'], dtype=object)"
      ]
     },
     "execution_count": 6,
     "metadata": {},
     "output_type": "execute_result"
    }
   ],
   "source": [
    "adata.obs['cell_type'].sort_values().unique()"
   ]
  },
  {
   "cell_type": "markdown",
   "id": "465e4c3d-5cc4-4d64-8604-ce75bccab92e",
   "metadata": {
    "tags": []
   },
   "source": [
    "# Export counts matrix for pseudobulk DE"
   ]
  },
  {
   "cell_type": "code",
   "execution_count": null,
   "id": "f0cc9cd2-1a92-483b-b6d7-3b2c7d56d48e",
   "metadata": {},
   "outputs": [],
   "source": [
    "del adata.layers['counts']\n",
    "del adata.layers['count']\n",
    "del adata.layers['lognorm']\n",
    "adata.write_h5ad('input/adata/midbrain/adata_labelled.h5ad')"
   ]
  },
  {
   "cell_type": "code",
   "execution_count": null,
   "id": "018d9f50-7148-409e-b936-eb15814a0261",
   "metadata": {},
   "outputs": [],
   "source": [
    "import scipy.io as sio"
   ]
  },
  {
   "cell_type": "code",
   "execution_count": null,
   "id": "3109e519-6d4c-42a0-8a39-a62aba230616",
   "metadata": {},
   "outputs": [],
   "source": [
    "sio.mmwrite('input/adata/adata_labelled.mtx', adata.X)"
   ]
  },
  {
   "cell_type": "code",
   "execution_count": null,
   "id": "8dd97f30-63ad-4087-8f28-58143ac63632",
   "metadata": {},
   "outputs": [],
   "source": [
    "adata.obs.to_csv('input/adata/adata_labelled_meta.csv')"
   ]
  },
  {
   "cell_type": "code",
   "execution_count": null,
   "id": "15ee21c2-96ce-4a6e-9d12-2185f2920d5a",
   "metadata": {},
   "outputs": [],
   "source": [
    "pd.DataFrame(adata.var_names).to_csv('input/adata/adata_labelled_var_names.csv', index=False)"
   ]
  },
  {
   "cell_type": "code",
   "execution_count": null,
   "id": "fdfe0669-cc46-45ef-a6a6-a3f4dc2b5e07",
   "metadata": {},
   "outputs": [],
   "source": []
  },
  {
   "cell_type": "code",
   "execution_count": null,
   "id": "c80d1297-b161-4edf-abb8-b2d67feb4afc",
   "metadata": {},
   "outputs": [],
   "source": [
    "sc.pl.violin(adata, keys=['Svs5'], groupby='cell_type')"
   ]
  },
  {
   "cell_type": "code",
   "execution_count": null,
   "id": "6fdbe245-d79d-443e-8e2f-254a3548569c",
   "metadata": {},
   "outputs": [],
   "source": []
  }
 ],
 "metadata": {
  "kernelspec": {
   "display_name": "Python 3 (ipykernel)",
   "language": "python",
   "name": "python3"
  },
  "language_info": {
   "codemirror_mode": {
    "name": "ipython",
    "version": 3
   },
   "file_extension": ".py",
   "mimetype": "text/x-python",
   "name": "python",
   "nbconvert_exporter": "python",
   "pygments_lexer": "ipython3",
   "version": "3.9.13"
  }
 },
 "nbformat": 4,
 "nbformat_minor": 5
}
