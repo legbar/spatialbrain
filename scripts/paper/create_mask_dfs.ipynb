{
 "cells": [
  {
   "cell_type": "code",
   "execution_count": 2,
   "metadata": {},
   "outputs": [],
   "source": [
    "import pandas as pd\n",
    "import numpy as np\n",
    "from scipy import ndimage as ndi\n",
    "import glob\n",
    "\n",
    "from PIL import Image\n",
    "from numpy import asarray\n",
    "\n",
    "from scipy.sparse import csr_matrix\n",
    "\n",
    "from joblib import Parallel, delayed\n",
    "from tqdm import tqdm\n",
    "\n",
    "import os\n",
    "\n",
    "os.chdir('/active/paper')"
   ]
  },
  {
   "cell_type": "code",
   "execution_count": 3,
   "metadata": {},
   "outputs": [
    {
     "data": {
      "text/html": [
       "<div>\n",
       "<style scoped>\n",
       "    .dataframe tbody tr th:only-of-type {\n",
       "        vertical-align: middle;\n",
       "    }\n",
       "\n",
       "    .dataframe tbody tr th {\n",
       "        vertical-align: top;\n",
       "    }\n",
       "\n",
       "    .dataframe thead th {\n",
       "        text-align: right;\n",
       "    }\n",
       "</style>\n",
       "<table border=\"1\" class=\"dataframe\">\n",
       "  <thead>\n",
       "    <tr style=\"text-align: right;\">\n",
       "      <th></th>\n",
       "      <th>sample_name</th>\n",
       "      <th>region</th>\n",
       "      <th>age</th>\n",
       "      <th>genotype</th>\n",
       "      <th>mouse</th>\n",
       "      <th>dopa_patch_x</th>\n",
       "      <th>dopa_patch_y</th>\n",
       "    </tr>\n",
       "    <tr>\n",
       "      <th>sample</th>\n",
       "      <th></th>\n",
       "      <th></th>\n",
       "      <th></th>\n",
       "      <th></th>\n",
       "      <th></th>\n",
       "      <th></th>\n",
       "      <th></th>\n",
       "    </tr>\n",
       "  </thead>\n",
       "  <tbody>\n",
       "    <tr>\n",
       "      <th>FP200000454TL_E2</th>\n",
       "      <td>YOUNG_WT_REL204.1a</td>\n",
       "      <td>MB</td>\n",
       "      <td>YOUNG</td>\n",
       "      <td>WT</td>\n",
       "      <td>REL204.1a</td>\n",
       "      <td>16000</td>\n",
       "      <td>9000</td>\n",
       "    </tr>\n",
       "    <tr>\n",
       "      <th>FP200000542BR_A5</th>\n",
       "      <td>YOUNG_WT_REL204.1b</td>\n",
       "      <td>MB</td>\n",
       "      <td>YOUNG</td>\n",
       "      <td>WT</td>\n",
       "      <td>REL204.1b</td>\n",
       "      <td>6000</td>\n",
       "      <td>12000</td>\n",
       "    </tr>\n",
       "    <tr>\n",
       "      <th>FP200000542BR_A3</th>\n",
       "      <td>YOUNG_OVX_REL206.1f</td>\n",
       "      <td>MB</td>\n",
       "      <td>YOUNG</td>\n",
       "      <td>OVX</td>\n",
       "      <td>REL206.1f</td>\n",
       "      <td>11500</td>\n",
       "      <td>11000</td>\n",
       "    </tr>\n",
       "    <tr>\n",
       "      <th>FP200000542BR_F3</th>\n",
       "      <td>YOUNG_OVX_REL207.1a</td>\n",
       "      <td>MB</td>\n",
       "      <td>YOUNG</td>\n",
       "      <td>OVX</td>\n",
       "      <td>REL207.1a</td>\n",
       "      <td>8500</td>\n",
       "      <td>12500</td>\n",
       "    </tr>\n",
       "    <tr>\n",
       "      <th>FP200000578TR_C3</th>\n",
       "      <td>OLD_WT_REL121.1a</td>\n",
       "      <td>MB</td>\n",
       "      <td>OLD</td>\n",
       "      <td>WT</td>\n",
       "      <td>REL121.1a</td>\n",
       "      <td>15000</td>\n",
       "      <td>11500</td>\n",
       "    </tr>\n",
       "    <tr>\n",
       "      <th>FP200000542BR_F4</th>\n",
       "      <td>OLD_WT_REL121.1b</td>\n",
       "      <td>MB</td>\n",
       "      <td>OLD</td>\n",
       "      <td>WT</td>\n",
       "      <td>REL121.1b</td>\n",
       "      <td>10000</td>\n",
       "      <td>12000</td>\n",
       "    </tr>\n",
       "    <tr>\n",
       "      <th>FP200000578TR_C5</th>\n",
       "      <td>OLD_OVX_REL120.1b</td>\n",
       "      <td>MB</td>\n",
       "      <td>OLD</td>\n",
       "      <td>OVX</td>\n",
       "      <td>REL120.1b</td>\n",
       "      <td>16000</td>\n",
       "      <td>16000</td>\n",
       "    </tr>\n",
       "    <tr>\n",
       "      <th>FP200000542BR_A1</th>\n",
       "      <td>OLD_OVX_REL120.1a</td>\n",
       "      <td>MB</td>\n",
       "      <td>OLD</td>\n",
       "      <td>OVX</td>\n",
       "      <td>REL120.1a</td>\n",
       "      <td>11000</td>\n",
       "      <td>11500</td>\n",
       "    </tr>\n",
       "  </tbody>\n",
       "</table>\n",
       "</div>"
      ],
      "text/plain": [
       "                          sample_name region    age genotype      mouse  \\\n",
       "sample                                                                    \n",
       "FP200000454TL_E2   YOUNG_WT_REL204.1a     MB  YOUNG       WT  REL204.1a   \n",
       "FP200000542BR_A5   YOUNG_WT_REL204.1b     MB  YOUNG       WT  REL204.1b   \n",
       "FP200000542BR_A3  YOUNG_OVX_REL206.1f     MB  YOUNG      OVX  REL206.1f   \n",
       "FP200000542BR_F3  YOUNG_OVX_REL207.1a     MB  YOUNG      OVX  REL207.1a   \n",
       "FP200000578TR_C3     OLD_WT_REL121.1a     MB    OLD       WT  REL121.1a   \n",
       "FP200000542BR_F4     OLD_WT_REL121.1b     MB    OLD       WT  REL121.1b   \n",
       "FP200000578TR_C5    OLD_OVX_REL120.1b     MB    OLD      OVX  REL120.1b   \n",
       "FP200000542BR_A1    OLD_OVX_REL120.1a     MB    OLD      OVX  REL120.1a   \n",
       "\n",
       "                  dopa_patch_x  dopa_patch_y  \n",
       "sample                                        \n",
       "FP200000454TL_E2         16000          9000  \n",
       "FP200000542BR_A5          6000         12000  \n",
       "FP200000542BR_A3         11500         11000  \n",
       "FP200000542BR_F3          8500         12500  \n",
       "FP200000578TR_C3         15000         11500  \n",
       "FP200000542BR_F4         10000         12000  \n",
       "FP200000578TR_C5         16000         16000  \n",
       "FP200000542BR_A1         11000         11500  "
      ]
     },
     "execution_count": 3,
     "metadata": {},
     "output_type": "execute_result"
    }
   ],
   "source": [
    "midbrain_metadata = pd.read_csv('input/metadata/sample_metadata_midbrain.txt', sep='\\t', index_col='sample')\n",
    "midbrain_metadata"
   ]
  },
  {
   "cell_type": "code",
   "execution_count": 4,
   "metadata": {},
   "outputs": [
    {
     "data": {
      "text/plain": [
       "{'FP200000454TL_E2': 'input/masks/20211214/spot_intensity_FP200000454TL_E2.png',\n",
       " 'FP200000542BR_A1': 'input/masks/20211214/spot_intensity_FP200000542BR_A1.png',\n",
       " 'FP200000542BR_A3': 'input/masks/20211214/spot_intensity_FP200000542BR_A3.png',\n",
       " 'FP200000542BR_A5': 'input/masks/20211214/spot_intensity_FP200000542BR_A5.png',\n",
       " 'FP200000542BR_F3': 'input/masks/20211214/spot_intensity_FP200000542BR_F3.png',\n",
       " 'FP200000542BR_F4': 'input/masks/20211214/spot_intensity_FP200000542BR_F4.png',\n",
       " 'FP200000578TR_C3': 'input/masks/20211214/spot_intensity_FP200000578TR_C3.png',\n",
       " 'FP200000578TR_C5': 'input/masks/20211214/spot_intensity_FP200000578TR_C5.png'}"
      ]
     },
     "execution_count": 4,
     "metadata": {},
     "output_type": "execute_result"
    }
   ],
   "source": [
    "files = glob.glob(\"input/masks/20211214/*.png\")\n",
    "\n",
    "mask_dict = {}\n",
    "\n",
    "for mask_file in sorted(files):\n",
    "    label = mask_file.split(\"/\")[-1].split('spot_intensity_')[-1].split('.png')[0]\n",
    "    # print(label)\n",
    "    # print(mask_file)\n",
    "    mask_dict[label] = mask_file\n",
    "    \n",
    "# filter for MB samples\n",
    "mask_dict = {key: value for key, value in mask_dict.items() if key in midbrain_metadata.index}\n",
    "\n",
    "mask_dict"
   ]
  },
  {
   "cell_type": "code",
   "execution_count": 8,
   "metadata": {},
   "outputs": [
    {
     "data": {
      "text/plain": [
       "{'FP200000454TL_E2': 'input/gems/midbrain/FP200000454TL_E2.bin1.Lasso.gem.gz',\n",
       " 'FP200000542BR_A1': 'input/gems/midbrain/FP200000542BR_A1.bin1.Lasso.gem.gz',\n",
       " 'FP200000542BR_A3': 'input/gems/midbrain/FP200000542BR_A3.bin1.Lasso.gem.gz',\n",
       " 'FP200000542BR_A5': 'input/gems/midbrain/FP200000542BR_A5.bin1.Lasso.gem.gz',\n",
       " 'FP200000542BR_F3': 'input/gems/midbrain/FP200000542BR_F3.bin1.Lasso.gem.gz',\n",
       " 'FP200000542BR_F4': 'input/gems/midbrain/FP200000542BR_F4.bin1.Lasso.gem.gz',\n",
       " 'FP200000578TR_C3': 'input/gems/midbrain/FP200000578TR_C3.bin1.Lasso.gem.gz',\n",
       " 'FP200000578TR_C5': 'input/gems/midbrain/FP200000578TR_C5.bin1.Lasso.gem.gz'}"
      ]
     },
     "execution_count": 8,
     "metadata": {},
     "output_type": "execute_result"
    }
   ],
   "source": [
    "files = glob.glob(\"input/gems/midbrain/*bin1.Lasso.gem.gz\")\n",
    "\n",
    "gem_dict = {}\n",
    "\n",
    "for gem_file in sorted(files):\n",
    "    label = gem_file.split(\"/\")[-1].split('.bin1.Lasso.gem.gz')[0]\n",
    "    # print(label)\n",
    "    # print(gem_file)\n",
    "    gem_dict[label] = gem_file\n",
    "    \n",
    "# filter for MB samples\n",
    "gem_dict = {key: value for key, value in gem_dict.items() if key in midbrain_metadata.index}\n",
    "\n",
    "gem_dict"
   ]
  },
  {
   "cell_type": "code",
   "execution_count": 15,
   "metadata": {},
   "outputs": [],
   "source": [
    "def create_mask_df(sample_name, folder):\n",
    "    \n",
    "    Image.MAX_IMAGE_PIXELS = 10000000000\n",
    "    \n",
    "    print(sample_name)\n",
    "    \n",
    "    mask_file = mask_dict[sample_name]\n",
    "    gem_file = gem_dict[sample_name]\n",
    "    \n",
    "    # load the gem counts\n",
    "    # df = pd.read_csv(gem_file, header = 0, sep = \"\\t\").set_index(['x', 'y'])\n",
    "    \n",
    "    # load the image\n",
    "    image = Image.open(mask_file)\n",
    "    # convert image to numpy array\n",
    "    data = asarray(image)\n",
    "    # label the objects\n",
    "    label_objects, nb_labels = ndi.label(data)\n",
    "    # create a sparse matrix\n",
    "    coo = csr_matrix(label_objects).tocoo(copy = False)\n",
    "    # Access `row`, `col` and `data` properties of coo matrix.\n",
    "    mask_df = pd.DataFrame({\n",
    "        'x': coo.row,\n",
    "        'y': coo.col,\n",
    "        'label': coo.data\n",
    "    })[['x', 'y', 'label']].sort_values(['x', 'y']).set_index(['x', 'y'])\n",
    "    \n",
    "    path = 'input/masks_dfs/midbrain/'+folder\n",
    "    if not os.path.exists(path): \n",
    "        os.makedirs(path)\n",
    "\n",
    "    mask_df.to_csv(path + '/'+sample_name+'_mask.csv')\n",
    "    \n",
    "    # inner join the two\n",
    "    # df_single_cell = df.join(mask_df, how='inner')\n",
    "    # write to csv\n",
    "    # df_single_cell.to_csv('output/'+sample_name+'_sc_counts.csv')"
   ]
  },
  {
   "cell_type": "code",
   "execution_count": 10,
   "metadata": {},
   "outputs": [
    {
     "name": "stderr",
     "output_type": "stream",
     "text": [
      "  0%|                                                                                                                                                                                                                  | 0/8 [00:00<?, ?it/s]"
     ]
    },
    {
     "data": {
      "text/plain": [
       "<tqdm.std.tqdm at 0x7fc9f3af0100>"
      ]
     },
     "execution_count": 10,
     "metadata": {},
     "output_type": "execute_result"
    }
   ],
   "source": [
    "inputs = tqdm(list(mask_dict.keys()))\n",
    "inputs"
   ]
  },
  {
   "cell_type": "code",
   "execution_count": 16,
   "metadata": {},
   "outputs": [
    {
     "name": "stdout",
     "output_type": "stream",
     "text": [
      "FP200000454TL_E2\n"
     ]
    }
   ],
   "source": [
    "create_mask_df(list(mask_dict.keys())[0], folder = '20220907')"
   ]
  },
  {
   "cell_type": "code",
   "execution_count": 7,
   "metadata": {},
   "outputs": [
    {
     "name": "stderr",
     "output_type": "stream",
     "text": [
      "100%|██████████████████████████████████████████████████████████████████████████████████| 7/7 [00:11<00:00,  1.62s/it]\n"
     ]
    },
    {
     "name": "stdout",
     "output_type": "stream",
     "text": [
      "FP200000542BR_A1\n",
      "FP200000542BR_F3\n",
      "FP200000578TR_C3\n"
     ]
    },
    {
     "name": "stderr",
     "output_type": "stream",
     "text": [
      "/home/peter/miniconda3/envs/paper/lib/python3.9/site-packages/joblib/externals/loky/process_executor.py:702: UserWarning: A worker stopped while some jobs were given to the executor. This can be caused by a too short worker timeout or by a memory leak.\n",
      "  warnings.warn(\n"
     ]
    },
    {
     "data": {
      "text/plain": [
       "[None, None, None, None, None, None, None]"
      ]
     },
     "execution_count": 7,
     "metadata": {},
     "output_type": "execute_result"
    },
    {
     "name": "stdout",
     "output_type": "stream",
     "text": [
      "FP200000542BR_A3\n",
      "FP200000542BR_A5\n",
      "FP200000542BR_F4\n",
      "FP200000578TR_C5\n"
     ]
    }
   ],
   "source": [
    "inputs = tqdm(list(mask_dict.keys()))\n",
    "\n",
    "Parallel(n_jobs=2)(delayed(create_mask_df)(sample_name) for sample_name in inputs)"
   ]
  }
 ],
 "metadata": {
  "kernelspec": {
   "display_name": "Python 3 (ipykernel)",
   "language": "python",
   "name": "python3"
  },
  "language_info": {
   "codemirror_mode": {
    "name": "ipython",
    "version": 3
   },
   "file_extension": ".py",
   "mimetype": "text/x-python",
   "name": "python",
   "nbconvert_exporter": "python",
   "pygments_lexer": "ipython3",
   "version": "3.10.6"
  }
 },
 "nbformat": 4,
 "nbformat_minor": 4
}
