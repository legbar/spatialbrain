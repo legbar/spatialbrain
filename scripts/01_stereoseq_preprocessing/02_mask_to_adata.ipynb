{
 "cells": [
  {
   "cell_type": "code",
   "execution_count": 1,
   "id": "1788df4e-fa4b-4a04-ac77-1974cbb75be9",
   "metadata": {},
   "outputs": [
    {
     "name": "stderr",
     "output_type": "stream",
     "text": [
      "2023-08-19 19:54:56.573189: I tensorflow/core/util/port.cc:110] oneDNN custom operations are on. You may see slightly different numerical results due to floating-point round-off errors from different computation orders. To turn them off, set the environment variable `TF_ENABLE_ONEDNN_OPTS=0`.\n",
      "2023-08-19 19:54:56.739796: I tensorflow/core/platform/cpu_feature_guard.cc:182] This TensorFlow binary is optimized to use available CPU instructions in performance-critical operations.\n",
      "To enable the following instructions: AVX2 AVX_VNNI FMA, in other operations, rebuild TensorFlow with the appropriate compiler flags.\n",
      "2023-08-19 19:54:57.306432: W tensorflow/compiler/tf2tensorrt/utils/py_utils.cc:38] TF-TRT Warning: Could not find TensorRT\n",
      "/home/peter/mambaforge/envs/spateo/lib/python3.11/site-packages/libpysal/cg/alpha_shapes.py:38: NumbaDeprecationWarning:\n",
      "\n",
      "The 'nopython' keyword argument was not supplied to the 'numba.jit' decorator. The implicit default value for this argument is currently False, but it will be changed to True in Numba 0.59.0. See https://numba.readthedocs.io/en/stable/reference/deprecation.html#deprecation-of-object-mode-fall-back-behaviour-when-using-jit for details.\n",
      "\n",
      "/home/peter/mambaforge/envs/spateo/lib/python3.11/site-packages/libpysal/cg/alpha_shapes.py:164: NumbaDeprecationWarning:\n",
      "\n",
      "The 'nopython' keyword argument was not supplied to the 'numba.jit' decorator. The implicit default value for this argument is currently False, but it will be changed to True in Numba 0.59.0. See https://numba.readthedocs.io/en/stable/reference/deprecation.html#deprecation-of-object-mode-fall-back-behaviour-when-using-jit for details.\n",
      "\n",
      "/home/peter/mambaforge/envs/spateo/lib/python3.11/site-packages/libpysal/cg/alpha_shapes.py:198: NumbaDeprecationWarning:\n",
      "\n",
      "The 'nopython' keyword argument was not supplied to the 'numba.jit' decorator. The implicit default value for this argument is currently False, but it will be changed to True in Numba 0.59.0. See https://numba.readthedocs.io/en/stable/reference/deprecation.html#deprecation-of-object-mode-fall-back-behaviour-when-using-jit for details.\n",
      "\n",
      "/home/peter/mambaforge/envs/spateo/lib/python3.11/site-packages/libpysal/cg/alpha_shapes.py:260: NumbaDeprecationWarning:\n",
      "\n",
      "The 'nopython' keyword argument was not supplied to the 'numba.jit' decorator. The implicit default value for this argument is currently False, but it will be changed to True in Numba 0.59.0. See https://numba.readthedocs.io/en/stable/reference/deprecation.html#deprecation-of-object-mode-fall-back-behaviour-when-using-jit for details.\n",
      "\n",
      "/home/peter/mambaforge/envs/spateo/lib/python3.11/site-packages/spaghetti/network.py:40: FutureWarning:\n",
      "\n",
      "The next major release of pysal/spaghetti (2.0.0) will drop support for all ``libpysal.cg`` geometries. This change is a first step in refactoring ``spaghetti`` that is expected to result in dramatically reduced runtimes for network instantiation and operations. Users currently requiring network and point pattern input as ``libpysal.cg`` geometries should prepare for this simply by converting to ``shapely`` geometries.\n",
      "\n"
     ]
    }
   ],
   "source": [
    "import numpy as np\n",
    "import matplotlib.pyplot as plt\n",
    "import scipy.sparse\n",
    "import pandas as pd\n",
    "import glob\n",
    "import spateo as st\n",
    "from joblib import Parallel, delayed\n",
    "from functools import partial\n",
    "from scipy import ndimage as ndi\n",
    "from scipy.stats import median_abs_deviation\n",
    "\n",
    "import os\n",
    "os.chdir('/f_active/paper_23/') # laune"
   ]
  },
  {
   "cell_type": "code",
   "execution_count": 2,
   "id": "076f8268-2d3c-4095-ad37-9a62b03d32b3",
   "metadata": {},
   "outputs": [],
   "source": [
    "def is_outlier(adata, metric: str, nmads: int):\n",
    "    M = adata.obs[metric]\n",
    "    outlier = (M < np.median(M) - nmads * median_abs_deviation(M)) | (\n",
    "        np.median(M) + nmads * median_abs_deviation(M) < M\n",
    "    )\n",
    "    return outlier"
   ]
  },
  {
   "cell_type": "code",
   "execution_count": 3,
   "id": "03ca3f6c-3995-4aa1-af2d-3e42bf70fb91",
   "metadata": {},
   "outputs": [],
   "source": [
    "masks = {x.split('/')[-1].split('_mask.npy')[0]:x for x in glob.glob('input/01_stereoseq_preprocessing/segmentation/masks/*npy')}\n",
    "gems = {x.split('/')[-1].split('.tissue')[0]:x for x in glob.glob('input/01_stereoseq_preprocessing/gem/**/**/*gem.gz', recursive=True)}\n",
    "spateo_in_files = {x.split('/')[-1].split('.counts')[0]:x for x in glob.glob('input/01_stereoseq_preprocessing/gem/**/**/*spateo.csv.gz', recursive=True)}"
   ]
  },
  {
   "cell_type": "code",
   "execution_count": 4,
   "id": "3dab46ab-1974-47ca-b22c-9fde97fd35e9",
   "metadata": {},
   "outputs": [],
   "source": [
    "def mask_to_adata(k):\n",
    "    adata = st.io.read_bgi_agg(spateo_in_files[k])\n",
    "    mask = np.load(masks[k])\n",
    "    labeled_array, num_features = ndi.label(mask)\n",
    "    adata.layers['labeled_array'] = labeled_array\n",
    "    cell_adata = st.io.read_bgi(\n",
    "        gems[k],\n",
    "        segmentation_adata=adata,\n",
    "        labels_layer='labeled_array',\n",
    "    )\n",
    "    cell_adata = cell_adata[cell_adata.obs['area'] > 10]\n",
    "    cell_adata = cell_adata[-is_outlier(cell_adata, 'area', 5),].copy()\n",
    "    print(cell_adata.shape)\n",
    "    output_path = 'input/01_stereoseq_preprocessing/adata'\n",
    "    if not os.path.exists(output_path):\n",
    "        print(\"Output path does not exist. Creating...\")\n",
    "        os.makedirs(output_path)\n",
    "    cell_adata.write_h5ad(output_path + '/' + k + '.h5ad')"
   ]
  },
  {
   "cell_type": "code",
   "execution_count": 5,
   "id": "760c0d58-1ea0-420f-a74b-0e0be0c718c5",
   "metadata": {},
   "outputs": [
    {
     "data": {
      "text/plain": [
       "{'FP200000578TR_C5': 'input/01_stereoseq_preprocessing/gem/batch1/v2/FP200000578TR_C5.counts_spateo.csv.gz',\n",
       " 'FP200000578TR_C3': 'input/01_stereoseq_preprocessing/gem/batch1/v2/FP200000578TR_C3.counts_spateo.csv.gz',\n",
       " 'FP200000542BR_F3': 'input/01_stereoseq_preprocessing/gem/batch1/v2/FP200000542BR_F3.counts_spateo.csv.gz',\n",
       " 'FP200000542BR_A5': 'input/01_stereoseq_preprocessing/gem/batch1/v2/FP200000542BR_A5.counts_spateo.csv.gz',\n",
       " 'FP200000542BR_F4': 'input/01_stereoseq_preprocessing/gem/batch1/v2/FP200000542BR_F4.counts_spateo.csv.gz',\n",
       " 'FP200000542BR_A3': 'input/01_stereoseq_preprocessing/gem/batch1/v2/FP200000542BR_A3.counts_spateo.csv.gz',\n",
       " 'FP200000542BR_A1': 'input/01_stereoseq_preprocessing/gem/batch1/v2/FP200000542BR_A1.counts_spateo.csv.gz',\n",
       " 'D01066E6': 'input/01_stereoseq_preprocessing/gem/batch2/D01066E6.counts_spateo.csv.gz',\n",
       " 'SS200000844BL_C6': 'input/01_stereoseq_preprocessing/gem/batch2/SS200000844BL_C6.counts_spateo.csv.gz',\n",
       " 'SS200000953BR_C5': 'input/01_stereoseq_preprocessing/gem/batch2/SS200000953BR_C5.counts_spateo.csv.gz',\n",
       " 'D01066F5': 'input/01_stereoseq_preprocessing/gem/batch2/D01066F5.counts_spateo.csv.gz',\n",
       " 'C01339B2': 'input/01_stereoseq_preprocessing/gem/batch2/C01339B2.counts_spateo.csv.gz',\n",
       " 'D01069E2': 'input/01_stereoseq_preprocessing/gem/batch2/D01069E2.counts_spateo.csv.gz',\n",
       " 'D01066D6': 'input/01_stereoseq_preprocessing/gem/batch2/D01066D6.counts_spateo.csv.gz',\n",
       " 'SS200000795TL_F5': 'input/01_stereoseq_preprocessing/gem/batch2/SS200000795TL_F5.counts_spateo.csv.gz',\n",
       " 'D01066F4': 'input/01_stereoseq_preprocessing/gem/batch2/D01066F4.counts_spateo.csv.gz',\n",
       " 'C01339D1': 'input/01_stereoseq_preprocessing/gem/batch2/C01339D1.counts_spateo.csv.gz',\n",
       " 'C01339A4': 'input/01_stereoseq_preprocessing/gem/batch2/C01339A4.counts_spateo.csv.gz',\n",
       " 'D01066E3': 'input/01_stereoseq_preprocessing/gem/batch2/D01066E3.counts_spateo.csv.gz',\n",
       " 'SS200000953BR_C6': 'input/01_stereoseq_preprocessing/gem/batch2/SS200000953BR_C6.counts_spateo.csv.gz'}"
      ]
     },
     "execution_count": 5,
     "metadata": {},
     "output_type": "execute_result"
    }
   ],
   "source": [
    "spateo_in_files"
   ]
  },
  {
   "cell_type": "code",
   "execution_count": 10,
   "id": "9e0e222c-c68e-4779-ae89-ceb97600f8e1",
   "metadata": {},
   "outputs": [
    {
     "name": "stdout",
     "output_type": "stream",
     "text": [
      "|-----> Constructing count matrices.\n",
      "|-----> <insert> __type to uns in AnnData Object.\n",
      "|-----> <insert> pp to uns in AnnData Object.\n",
      "|-----> <insert> spatial to uns in AnnData Object.\n",
      "|-----> <select> labeled_array layer in AnnData Object\n",
      "|-----> Using labels provided with `segmentation_adata` and `labels_layer` arguments.\n",
      "|-----> Constructing count matrices.\n",
      "|-----> <insert> __type to uns in AnnData Object.\n",
      "|-----> <insert> pp to uns in AnnData Object.\n",
      "|-----> <insert> spatial to uns in AnnData Object.\n"
     ]
    },
    {
     "name": "stderr",
     "output_type": "stream",
     "text": [
      "/home/peter/mambaforge/envs/spateo/lib/python3.11/site-packages/anndata/_core/anndata.py:121: ImplicitModificationWarning:\n",
      "\n",
      "Transforming to str index.\n",
      "\n"
     ]
    }
   ],
   "source": [
    "k = 'FP200000578TR_C5'\n",
    "adata = st.io.read_bgi_agg(spateo_in_files[k])\n",
    "mask = np.load(masks[k])\n",
    "labeled_array, num_features = ndi.label(mask)\n",
    "adata.layers['labeled_array'] = labeled_array\n",
    "cell_adata = st.io.read_bgi(\n",
    "    gems[k],\n",
    "    segmentation_adata=adata,\n",
    "    labels_layer='labeled_array',\n",
    "    add_props = True\n",
    ")\n",
    "cell_adata = cell_adata[cell_adata.obs['area'] > 10]\n",
    "cell_adata = cell_adata[-is_outlier(cell_adata, 'area', 5),].copy()"
   ]
  },
  {
   "cell_type": "code",
   "execution_count": 9,
   "id": "54c5c152-1486-4091-afbd-23b20973ff98",
   "metadata": {},
   "outputs": [
    {
     "data": {
      "text/plain": [
       "array([[0, 0, 0, ..., 0, 0, 0],\n",
       "       [0, 0, 0, ..., 0, 0, 0],\n",
       "       [0, 0, 0, ..., 0, 0, 0],\n",
       "       ...,\n",
       "       [0, 0, 0, ..., 0, 0, 0],\n",
       "       [0, 0, 0, ..., 0, 0, 0],\n",
       "       [0, 0, 0, ..., 0, 0, 0]], dtype=int32)"
      ]
     },
     "execution_count": 9,
     "metadata": {},
     "output_type": "execute_result"
    }
   ],
   "source": [
    "adata.layers['labeled_array']"
   ]
  },
  {
   "cell_type": "code",
   "execution_count": 11,
   "id": "94c05f2c-d9aa-4f68-a972-d83bebc62391",
   "metadata": {},
   "outputs": [
    {
     "data": {
      "text/html": [
       "<div>\n",
       "<style scoped>\n",
       "    .dataframe tbody tr th:only-of-type {\n",
       "        vertical-align: middle;\n",
       "    }\n",
       "\n",
       "    .dataframe tbody tr th {\n",
       "        vertical-align: top;\n",
       "    }\n",
       "\n",
       "    .dataframe thead th {\n",
       "        text-align: right;\n",
       "    }\n",
       "</style>\n",
       "<table border=\"1\" class=\"dataframe\">\n",
       "  <thead>\n",
       "    <tr style=\"text-align: right;\">\n",
       "      <th></th>\n",
       "      <th>area</th>\n",
       "    </tr>\n",
       "  </thead>\n",
       "  <tbody>\n",
       "    <tr>\n",
       "      <th>1</th>\n",
       "      <td>810.0</td>\n",
       "    </tr>\n",
       "    <tr>\n",
       "      <th>2</th>\n",
       "      <td>457.0</td>\n",
       "    </tr>\n",
       "    <tr>\n",
       "      <th>3</th>\n",
       "      <td>329.0</td>\n",
       "    </tr>\n",
       "    <tr>\n",
       "      <th>4</th>\n",
       "      <td>797.0</td>\n",
       "    </tr>\n",
       "    <tr>\n",
       "      <th>5</th>\n",
       "      <td>839.0</td>\n",
       "    </tr>\n",
       "    <tr>\n",
       "      <th>...</th>\n",
       "      <td>...</td>\n",
       "    </tr>\n",
       "    <tr>\n",
       "      <th>31880</th>\n",
       "      <td>193.0</td>\n",
       "    </tr>\n",
       "    <tr>\n",
       "      <th>31881</th>\n",
       "      <td>913.0</td>\n",
       "    </tr>\n",
       "    <tr>\n",
       "      <th>31882</th>\n",
       "      <td>228.0</td>\n",
       "    </tr>\n",
       "    <tr>\n",
       "      <th>31883</th>\n",
       "      <td>452.0</td>\n",
       "    </tr>\n",
       "    <tr>\n",
       "      <th>31884</th>\n",
       "      <td>790.0</td>\n",
       "    </tr>\n",
       "  </tbody>\n",
       "</table>\n",
       "<p>30131 rows × 1 columns</p>\n",
       "</div>"
      ],
      "text/plain": [
       "        area\n",
       "1      810.0\n",
       "2      457.0\n",
       "3      329.0\n",
       "4      797.0\n",
       "5      839.0\n",
       "...      ...\n",
       "31880  193.0\n",
       "31881  913.0\n",
       "31882  228.0\n",
       "31883  452.0\n",
       "31884  790.0\n",
       "\n",
       "[30131 rows x 1 columns]"
      ]
     },
     "execution_count": 11,
     "metadata": {},
     "output_type": "execute_result"
    }
   ],
   "source": [
    "cell_adata.obs"
   ]
  },
  {
   "cell_type": "code",
   "execution_count": 6,
   "id": "45ee3bf4-a01a-4556-8539-c560a2758a20",
   "metadata": {
    "scrolled": true
   },
   "outputs": [
    {
     "name": "stderr",
     "output_type": "stream",
     "text": [
      "2023-08-17 18:16:59.295205: I tensorflow/core/util/port.cc:110] oneDNN custom operations are on. You may see slightly different numerical results due to floating-point round-off errors from different computation orders. To turn them off, set the environment variable `TF_ENABLE_ONEDNN_OPTS=0`.\n",
      "2023-08-17 18:16:59.295206: I tensorflow/core/util/port.cc:110] oneDNN custom operations are on. You may see slightly different numerical results due to floating-point round-off errors from different computation orders. To turn them off, set the environment variable `TF_ENABLE_ONEDNN_OPTS=0`.\n",
      "2023-08-17 18:16:59.295206: I tensorflow/core/util/port.cc:110] oneDNN custom operations are on. You may see slightly different numerical results due to floating-point round-off errors from different computation orders. To turn them off, set the environment variable `TF_ENABLE_ONEDNN_OPTS=0`.\n",
      "2023-08-17 18:16:59.308349: I tensorflow/core/util/port.cc:110] oneDNN custom operations are on. You may see slightly different numerical results due to floating-point round-off errors from different computation orders. To turn them off, set the environment variable `TF_ENABLE_ONEDNN_OPTS=0`.\n",
      "2023-08-17 18:16:59.319597: I tensorflow/core/platform/cpu_feature_guard.cc:182] This TensorFlow binary is optimized to use available CPU instructions in performance-critical operations.\n",
      "To enable the following instructions: AVX2 AVX_VNNI FMA, in other operations, rebuild TensorFlow with the appropriate compiler flags.\n",
      "2023-08-17 18:16:59.319597: I tensorflow/core/platform/cpu_feature_guard.cc:182] This TensorFlow binary is optimized to use available CPU instructions in performance-critical operations.\n",
      "To enable the following instructions: AVX2 AVX_VNNI FMA, in other operations, rebuild TensorFlow with the appropriate compiler flags.\n",
      "2023-08-17 18:16:59.319597: I tensorflow/core/platform/cpu_feature_guard.cc:182] This TensorFlow binary is optimized to use available CPU instructions in performance-critical operations.\n",
      "To enable the following instructions: AVX2 AVX_VNNI FMA, in other operations, rebuild TensorFlow with the appropriate compiler flags.\n",
      "2023-08-17 18:16:59.332675: I tensorflow/core/platform/cpu_feature_guard.cc:182] This TensorFlow binary is optimized to use available CPU instructions in performance-critical operations.\n",
      "To enable the following instructions: AVX2 AVX_VNNI FMA, in other operations, rebuild TensorFlow with the appropriate compiler flags.\n",
      "2023-08-17 18:16:59.783251: W tensorflow/compiler/tf2tensorrt/utils/py_utils.cc:38] TF-TRT Warning: Could not find TensorRT\n",
      "2023-08-17 18:16:59.783260: W tensorflow/compiler/tf2tensorrt/utils/py_utils.cc:38] TF-TRT Warning: Could not find TensorRT\n",
      "2023-08-17 18:16:59.783506: W tensorflow/compiler/tf2tensorrt/utils/py_utils.cc:38] TF-TRT Warning: Could not find TensorRT\n",
      "2023-08-17 18:16:59.793360: W tensorflow/compiler/tf2tensorrt/utils/py_utils.cc:38] TF-TRT Warning: Could not find TensorRT\n",
      "/home/peter/mambaforge/envs/spateo/lib/python3.11/site-packages/libpysal/cg/alpha_shapes.py:38: NumbaDeprecationWarning:\n",
      "\n",
      "The 'nopython' keyword argument was not supplied to the 'numba.jit' decorator. The implicit default value for this argument is currently False, but it will be changed to True in Numba 0.59.0. See https://numba.readthedocs.io/en/stable/reference/deprecation.html#deprecation-of-object-mode-fall-back-behaviour-when-using-jit for details.\n",
      "\n",
      "/home/peter/mambaforge/envs/spateo/lib/python3.11/site-packages/libpysal/cg/alpha_shapes.py:38: NumbaDeprecationWarning:\n",
      "\n",
      "The 'nopython' keyword argument was not supplied to the 'numba.jit' decorator. The implicit default value for this argument is currently False, but it will be changed to True in Numba 0.59.0. See https://numba.readthedocs.io/en/stable/reference/deprecation.html#deprecation-of-object-mode-fall-back-behaviour-when-using-jit for details.\n",
      "\n",
      "/home/peter/mambaforge/envs/spateo/lib/python3.11/site-packages/libpysal/cg/alpha_shapes.py:38: NumbaDeprecationWarning:\n",
      "\n",
      "The 'nopython' keyword argument was not supplied to the 'numba.jit' decorator. The implicit default value for this argument is currently False, but it will be changed to True in Numba 0.59.0. See https://numba.readthedocs.io/en/stable/reference/deprecation.html#deprecation-of-object-mode-fall-back-behaviour-when-using-jit for details.\n",
      "\n",
      "/home/peter/mambaforge/envs/spateo/lib/python3.11/site-packages/libpysal/cg/alpha_shapes.py:164: NumbaDeprecationWarning:\n",
      "\n",
      "The 'nopython' keyword argument was not supplied to the 'numba.jit' decorator. The implicit default value for this argument is currently False, but it will be changed to True in Numba 0.59.0. See https://numba.readthedocs.io/en/stable/reference/deprecation.html#deprecation-of-object-mode-fall-back-behaviour-when-using-jit for details.\n",
      "\n",
      "/home/peter/mambaforge/envs/spateo/lib/python3.11/site-packages/libpysal/cg/alpha_shapes.py:164: NumbaDeprecationWarning:\n",
      "\n",
      "The 'nopython' keyword argument was not supplied to the 'numba.jit' decorator. The implicit default value for this argument is currently False, but it will be changed to True in Numba 0.59.0. See https://numba.readthedocs.io/en/stable/reference/deprecation.html#deprecation-of-object-mode-fall-back-behaviour-when-using-jit for details.\n",
      "\n",
      "/home/peter/mambaforge/envs/spateo/lib/python3.11/site-packages/libpysal/cg/alpha_shapes.py:164: NumbaDeprecationWarning:\n",
      "\n",
      "The 'nopython' keyword argument was not supplied to the 'numba.jit' decorator. The implicit default value for this argument is currently False, but it will be changed to True in Numba 0.59.0. See https://numba.readthedocs.io/en/stable/reference/deprecation.html#deprecation-of-object-mode-fall-back-behaviour-when-using-jit for details.\n",
      "\n",
      "/home/peter/mambaforge/envs/spateo/lib/python3.11/site-packages/libpysal/cg/alpha_shapes.py:198: NumbaDeprecationWarning:\n",
      "\n",
      "The 'nopython' keyword argument was not supplied to the 'numba.jit' decorator. The implicit default value for this argument is currently False, but it will be changed to True in Numba 0.59.0. See https://numba.readthedocs.io/en/stable/reference/deprecation.html#deprecation-of-object-mode-fall-back-behaviour-when-using-jit for details.\n",
      "\n",
      "/home/peter/mambaforge/envs/spateo/lib/python3.11/site-packages/libpysal/cg/alpha_shapes.py:198: NumbaDeprecationWarning:\n",
      "\n",
      "The 'nopython' keyword argument was not supplied to the 'numba.jit' decorator. The implicit default value for this argument is currently False, but it will be changed to True in Numba 0.59.0. See https://numba.readthedocs.io/en/stable/reference/deprecation.html#deprecation-of-object-mode-fall-back-behaviour-when-using-jit for details.\n",
      "\n",
      "/home/peter/mambaforge/envs/spateo/lib/python3.11/site-packages/libpysal/cg/alpha_shapes.py:198: NumbaDeprecationWarning:\n",
      "\n",
      "The 'nopython' keyword argument was not supplied to the 'numba.jit' decorator. The implicit default value for this argument is currently False, but it will be changed to True in Numba 0.59.0. See https://numba.readthedocs.io/en/stable/reference/deprecation.html#deprecation-of-object-mode-fall-back-behaviour-when-using-jit for details.\n",
      "\n",
      "/home/peter/mambaforge/envs/spateo/lib/python3.11/site-packages/libpysal/cg/alpha_shapes.py:260: NumbaDeprecationWarning:\n",
      "\n",
      "The 'nopython' keyword argument was not supplied to the 'numba.jit' decorator. The implicit default value for this argument is currently False, but it will be changed to True in Numba 0.59.0. See https://numba.readthedocs.io/en/stable/reference/deprecation.html#deprecation-of-object-mode-fall-back-behaviour-when-using-jit for details.\n",
      "\n",
      "/home/peter/mambaforge/envs/spateo/lib/python3.11/site-packages/libpysal/cg/alpha_shapes.py:260: NumbaDeprecationWarning:\n",
      "\n",
      "The 'nopython' keyword argument was not supplied to the 'numba.jit' decorator. The implicit default value for this argument is currently False, but it will be changed to True in Numba 0.59.0. See https://numba.readthedocs.io/en/stable/reference/deprecation.html#deprecation-of-object-mode-fall-back-behaviour-when-using-jit for details.\n",
      "\n",
      "/home/peter/mambaforge/envs/spateo/lib/python3.11/site-packages/libpysal/cg/alpha_shapes.py:260: NumbaDeprecationWarning:\n",
      "\n",
      "The 'nopython' keyword argument was not supplied to the 'numba.jit' decorator. The implicit default value for this argument is currently False, but it will be changed to True in Numba 0.59.0. See https://numba.readthedocs.io/en/stable/reference/deprecation.html#deprecation-of-object-mode-fall-back-behaviour-when-using-jit for details.\n",
      "\n",
      "/home/peter/mambaforge/envs/spateo/lib/python3.11/site-packages/libpysal/cg/alpha_shapes.py:38: NumbaDeprecationWarning:\n",
      "\n",
      "The 'nopython' keyword argument was not supplied to the 'numba.jit' decorator. The implicit default value for this argument is currently False, but it will be changed to True in Numba 0.59.0. See https://numba.readthedocs.io/en/stable/reference/deprecation.html#deprecation-of-object-mode-fall-back-behaviour-when-using-jit for details.\n",
      "\n",
      "/home/peter/mambaforge/envs/spateo/lib/python3.11/site-packages/libpysal/cg/alpha_shapes.py:164: NumbaDeprecationWarning:\n",
      "\n",
      "The 'nopython' keyword argument was not supplied to the 'numba.jit' decorator. The implicit default value for this argument is currently False, but it will be changed to True in Numba 0.59.0. See https://numba.readthedocs.io/en/stable/reference/deprecation.html#deprecation-of-object-mode-fall-back-behaviour-when-using-jit for details.\n",
      "\n",
      "/home/peter/mambaforge/envs/spateo/lib/python3.11/site-packages/libpysal/cg/alpha_shapes.py:198: NumbaDeprecationWarning:\n",
      "\n",
      "The 'nopython' keyword argument was not supplied to the 'numba.jit' decorator. The implicit default value for this argument is currently False, but it will be changed to True in Numba 0.59.0. See https://numba.readthedocs.io/en/stable/reference/deprecation.html#deprecation-of-object-mode-fall-back-behaviour-when-using-jit for details.\n",
      "\n",
      "/home/peter/mambaforge/envs/spateo/lib/python3.11/site-packages/libpysal/cg/alpha_shapes.py:260: NumbaDeprecationWarning:\n",
      "\n",
      "The 'nopython' keyword argument was not supplied to the 'numba.jit' decorator. The implicit default value for this argument is currently False, but it will be changed to True in Numba 0.59.0. See https://numba.readthedocs.io/en/stable/reference/deprecation.html#deprecation-of-object-mode-fall-back-behaviour-when-using-jit for details.\n",
      "\n",
      "/home/peter/mambaforge/envs/spateo/lib/python3.11/site-packages/spaghetti/network.py:40: FutureWarning:\n",
      "\n",
      "The next major release of pysal/spaghetti (2.0.0) will drop support for all ``libpysal.cg`` geometries. This change is a first step in refactoring ``spaghetti`` that is expected to result in dramatically reduced runtimes for network instantiation and operations. Users currently requiring network and point pattern input as ``libpysal.cg`` geometries should prepare for this simply by converting to ``shapely`` geometries.\n",
      "\n",
      "/home/peter/mambaforge/envs/spateo/lib/python3.11/site-packages/spaghetti/network.py:40: FutureWarning:\n",
      "\n",
      "The next major release of pysal/spaghetti (2.0.0) will drop support for all ``libpysal.cg`` geometries. This change is a first step in refactoring ``spaghetti`` that is expected to result in dramatically reduced runtimes for network instantiation and operations. Users currently requiring network and point pattern input as ``libpysal.cg`` geometries should prepare for this simply by converting to ``shapely`` geometries.\n",
      "\n",
      "/home/peter/mambaforge/envs/spateo/lib/python3.11/site-packages/spaghetti/network.py:40: FutureWarning:\n",
      "\n",
      "The next major release of pysal/spaghetti (2.0.0) will drop support for all ``libpysal.cg`` geometries. This change is a first step in refactoring ``spaghetti`` that is expected to result in dramatically reduced runtimes for network instantiation and operations. Users currently requiring network and point pattern input as ``libpysal.cg`` geometries should prepare for this simply by converting to ``shapely`` geometries.\n",
      "\n",
      "/home/peter/mambaforge/envs/spateo/lib/python3.11/site-packages/spaghetti/network.py:40: FutureWarning:\n",
      "\n",
      "The next major release of pysal/spaghetti (2.0.0) will drop support for all ``libpysal.cg`` geometries. This change is a first step in refactoring ``spaghetti`` that is expected to result in dramatically reduced runtimes for network instantiation and operations. Users currently requiring network and point pattern input as ``libpysal.cg`` geometries should prepare for this simply by converting to ``shapely`` geometries.\n",
      "\n"
     ]
    },
    {
     "name": "stdout",
     "output_type": "stream",
     "text": [
      "|-----> Constructing count matrices.\n",
      "|-----> Constructing count matrices.\n",
      "|-----> <insert> __type to uns in AnnData Object.\n",
      "|-----> <insert> pp to uns in AnnData Object.\n",
      "|-----> <insert> spatial to uns in AnnData Object.\n",
      "|-----> <insert> __type to uns in AnnData Object.\n",
      "|-----> <insert> pp to uns in AnnData Object.\n",
      "|-----> <insert> spatial to uns in AnnData Object.\n",
      "|-----> Constructing count matrices.\n",
      "|-----> Constructing count matrices.\n",
      "|-----> <select> labeled_array layer in AnnData Object\n",
      "|-----> Using labels provided with `segmentation_adata` and `labels_layer` arguments.\n",
      "|-----> <select> labeled_array layer in AnnData Object\n",
      "|-----> Using labels provided with `segmentation_adata` and `labels_layer` arguments.\n",
      "|-----> <insert> __type to uns in AnnData Object.\n",
      "|-----> <insert> pp to uns in AnnData Object.\n",
      "|-----> <insert> spatial to uns in AnnData Object.\n",
      "|-----> <insert> __type to uns in AnnData Object.\n",
      "|-----> <insert> pp to uns in AnnData Object.\n",
      "|-----> <insert> spatial to uns in AnnData Object.\n",
      "|-----> Constructing count matrices.\n"
     ]
    },
    {
     "name": "stderr",
     "output_type": "stream",
     "text": [
      "/home/peter/mambaforge/envs/spateo/lib/python3.11/site-packages/anndata/_core/anndata.py:121: ImplicitModificationWarning:\n",
      "\n",
      "Transforming to str index.\n",
      "\n"
     ]
    },
    {
     "name": "stdout",
     "output_type": "stream",
     "text": [
      "|-----> <insert> __type to uns in AnnData Object.\n",
      "|-----> <insert> pp to uns in AnnData Object.\n",
      "|-----> <insert> spatial to uns in AnnData Object.\n",
      "|-----> Constructing count matrices.\n"
     ]
    },
    {
     "name": "stderr",
     "output_type": "stream",
     "text": [
      "/home/peter/mambaforge/envs/spateo/lib/python3.11/site-packages/anndata/_core/anndata.py:121: ImplicitModificationWarning:\n",
      "\n",
      "Transforming to str index.\n",
      "\n"
     ]
    },
    {
     "name": "stdout",
     "output_type": "stream",
     "text": [
      "|-----> <insert> __type to uns in AnnData Object.\n",
      "|-----> <insert> pp to uns in AnnData Object.\n",
      "|-----> <insert> spatial to uns in AnnData Object.\n",
      "|-----> <select> labeled_array layer in AnnData Object\n",
      "|-----> Using labels provided with `segmentation_adata` and `labels_layer` arguments.\n",
      "(27772, 25470)\n",
      "|-----> Constructing count matrices.\n",
      "|-----> <select> labeled_array layer in AnnData Object\n",
      "(28723, 26073)\n",
      "|-----> Constructing count matrices.\n",
      "|-----> Using labels provided with `segmentation_adata` and `labels_layer` arguments.\n",
      "|-----> <insert> __type to uns in AnnData Object.\n",
      "|-----> <insert> pp to uns in AnnData Object.\n",
      "|-----> <insert> spatial to uns in AnnData Object.\n",
      "|-----> <insert> __type to uns in AnnData Object.\n",
      "|-----> <insert> pp to uns in AnnData Object.\n",
      "|-----> <insert> spatial to uns in AnnData Object.\n",
      "|-----> <select> labeled_array layer in AnnData Object\n",
      "|-----> Using labels provided with `segmentation_adata` and `labels_layer` arguments.\n",
      "|-----> Constructing count matrices.\n"
     ]
    },
    {
     "name": "stderr",
     "output_type": "stream",
     "text": [
      "/home/peter/mambaforge/envs/spateo/lib/python3.11/site-packages/anndata/_core/anndata.py:121: ImplicitModificationWarning:\n",
      "\n",
      "Transforming to str index.\n",
      "\n"
     ]
    },
    {
     "name": "stdout",
     "output_type": "stream",
     "text": [
      "|-----> <insert> __type to uns in AnnData Object.\n",
      "|-----> <insert> pp to uns in AnnData Object.\n",
      "|-----> <insert> spatial to uns in AnnData Object.\n",
      "|-----> Constructing count matrices.\n"
     ]
    },
    {
     "name": "stderr",
     "output_type": "stream",
     "text": [
      "/home/peter/mambaforge/envs/spateo/lib/python3.11/site-packages/anndata/_core/anndata.py:121: ImplicitModificationWarning:\n",
      "\n",
      "Transforming to str index.\n",
      "\n"
     ]
    },
    {
     "name": "stdout",
     "output_type": "stream",
     "text": [
      "|-----> <insert> __type to uns in AnnData Object.\n",
      "|-----> <insert> pp to uns in AnnData Object.\n",
      "|-----> <insert> spatial to uns in AnnData Object.\n",
      "|-----> <select> labeled_array layer in AnnData Object\n",
      "|-----> Using labels provided with `segmentation_adata` and `labels_layer` arguments.\n",
      "|-----> Constructing count matrices.\n"
     ]
    },
    {
     "name": "stderr",
     "output_type": "stream",
     "text": [
      "/home/peter/mambaforge/envs/spateo/lib/python3.11/site-packages/anndata/_core/anndata.py:121: ImplicitModificationWarning:\n",
      "\n",
      "Transforming to str index.\n",
      "\n"
     ]
    },
    {
     "name": "stdout",
     "output_type": "stream",
     "text": [
      "|-----> <insert> __type to uns in AnnData Object.\n",
      "|-----> <insert> pp to uns in AnnData Object.\n",
      "|-----> <insert> spatial to uns in AnnData Object.\n",
      "(24884, 27451)\n",
      "|-----> Constructing count matrices.\n",
      "(28612, 28518)\n",
      "|-----> Constructing count matrices.\n",
      "(21451, 25974)\n",
      "|-----> Constructing count matrices.\n",
      "|-----> <insert> __type to uns in AnnData Object.\n",
      "|-----> <insert> pp to uns in AnnData Object.\n",
      "|-----> <insert> spatial to uns in AnnData Object.\n",
      "|-----> Constructing count matrices.\n",
      "|-----> <insert> __type to uns in AnnData Object.\n",
      "|-----> <insert> pp to uns in AnnData Object.\n",
      "|-----> <insert> spatial to uns in AnnData Object.\n"
     ]
    },
    {
     "name": "stderr",
     "output_type": "stream",
     "text": [
      "/home/peter/mambaforge/envs/spateo/lib/python3.11/site-packages/anndata/_core/anndata.py:121: ImplicitModificationWarning:\n",
      "\n",
      "Transforming to str index.\n",
      "\n"
     ]
    },
    {
     "name": "stdout",
     "output_type": "stream",
     "text": [
      "|-----> <insert> __type to uns in AnnData Object.\n",
      "|-----> <insert> pp to uns in AnnData Object.\n",
      "|-----> <insert> spatial to uns in AnnData Object.\n",
      "|-----> <insert> __type to uns in AnnData Object.\n",
      "|-----> <insert> pp to uns in AnnData Object.\n",
      "|-----> <insert> spatial to uns in AnnData Object.\n",
      "|-----> <select> labeled_array layer in AnnData Object\n",
      "|-----> Using labels provided with `segmentation_adata` and `labels_layer` arguments.\n",
      "(30131, 25908)\n",
      "|-----> Constructing count matrices.\n",
      "|-----> <select> labeled_array layer in AnnData Object\n",
      "|-----> Using labels provided with `segmentation_adata` and `labels_layer` arguments.\n",
      "|-----> <select> labeled_array layer in AnnData Object\n",
      "|-----> Using labels provided with `segmentation_adata` and `labels_layer` arguments.\n",
      "|-----> <insert> __type to uns in AnnData Object.\n",
      "|-----> <insert> pp to uns in AnnData Object.\n",
      "|-----> <insert> spatial to uns in AnnData Object.\n",
      "|-----> Constructing count matrices.\n"
     ]
    },
    {
     "name": "stderr",
     "output_type": "stream",
     "text": [
      "/home/peter/mambaforge/envs/spateo/lib/python3.11/site-packages/anndata/_core/anndata.py:121: ImplicitModificationWarning:\n",
      "\n",
      "Transforming to str index.\n",
      "\n"
     ]
    },
    {
     "name": "stdout",
     "output_type": "stream",
     "text": [
      "|-----> <insert> __type to uns in AnnData Object.\n",
      "|-----> <insert> pp to uns in AnnData Object.\n",
      "|-----> <insert> spatial to uns in AnnData Object.\n",
      "|-----> Constructing count matrices.\n"
     ]
    },
    {
     "name": "stderr",
     "output_type": "stream",
     "text": [
      "/home/peter/mambaforge/envs/spateo/lib/python3.11/site-packages/anndata/_core/anndata.py:121: ImplicitModificationWarning:\n",
      "\n",
      "Transforming to str index.\n",
      "\n"
     ]
    },
    {
     "name": "stdout",
     "output_type": "stream",
     "text": [
      "|-----> <insert> __type to uns in AnnData Object.\n",
      "|-----> <insert> pp to uns in AnnData Object.\n",
      "|-----> <insert> spatial to uns in AnnData Object.\n",
      "|-----> <select> labeled_array layer in AnnData Object\n",
      "|-----> Using labels provided with `segmentation_adata` and `labels_layer` arguments.\n",
      "|-----> Constructing count matrices.\n"
     ]
    },
    {
     "name": "stderr",
     "output_type": "stream",
     "text": [
      "/home/peter/mambaforge/envs/spateo/lib/python3.11/site-packages/anndata/_core/anndata.py:121: ImplicitModificationWarning:\n",
      "\n",
      "Transforming to str index.\n",
      "\n"
     ]
    },
    {
     "name": "stdout",
     "output_type": "stream",
     "text": [
      "|-----> <insert> __type to uns in AnnData Object.\n",
      "|-----> <insert> pp to uns in AnnData Object.\n",
      "|-----> <insert> spatial to uns in AnnData Object.\n",
      "(24980, 26995)\n",
      "|-----> Constructing count matrices.\n",
      "(24740, 27121)\n",
      "|-----> Constructing count matrices.\n",
      "|-----> <insert> __type to uns in AnnData Object.\n",
      "|-----> <insert> pp to uns in AnnData Object.\n",
      "|-----> <insert> spatial to uns in AnnData Object.\n",
      "(23901, 26747)\n",
      "|-----> Constructing count matrices.\n",
      "|-----> Constructing count matrices.\n",
      "|-----> <select> labeled_array layer in AnnData Object\n"
     ]
    },
    {
     "name": "stderr",
     "output_type": "stream",
     "text": [
      "/home/peter/mambaforge/envs/spateo/lib/python3.11/site-packages/anndata/_core/anndata.py:121: ImplicitModificationWarning:\n",
      "\n",
      "Transforming to str index.\n",
      "\n"
     ]
    },
    {
     "name": "stdout",
     "output_type": "stream",
     "text": [
      "|-----> <insert> __type to uns in AnnData Object.\n",
      "|-----> <insert> pp to uns in AnnData Object.\n",
      "|-----> <insert> spatial to uns in AnnData Object.\n",
      "|-----> <insert> __type to uns in AnnData Object.\n",
      "|-----> <insert> pp to uns in AnnData Object.\n",
      "|-----> <insert> spatial to uns in AnnData Object.\n",
      "|-----> Using labels provided with `segmentation_adata` and `labels_layer` arguments.\n",
      "|-----> <insert> __type to uns in AnnData Object.\n",
      "|-----> <insert> pp to uns in AnnData Object.\n",
      "|-----> <insert> spatial to uns in AnnData Object.\n",
      "(25177, 26245)\n",
      "|-----> Constructing count matrices.\n",
      "|-----> Constructing count matrices.\n",
      "|-----> <select> labeled_array layer in AnnData Object\n",
      "|-----> <select> labeled_array layer in AnnData Object\n"
     ]
    },
    {
     "name": "stderr",
     "output_type": "stream",
     "text": [
      "/home/peter/mambaforge/envs/spateo/lib/python3.11/site-packages/anndata/_core/anndata.py:121: ImplicitModificationWarning:\n",
      "\n",
      "Transforming to str index.\n",
      "\n"
     ]
    },
    {
     "name": "stdout",
     "output_type": "stream",
     "text": [
      "|-----> <insert> __type to uns in AnnData Object.\n",
      "|-----> <insert> pp to uns in AnnData Object.\n",
      "|-----> <insert> spatial to uns in AnnData Object.\n",
      "|-----> Using labels provided with `segmentation_adata` and `labels_layer` arguments.\n",
      "|-----> Using labels provided with `segmentation_adata` and `labels_layer` arguments.\n",
      "|-----> <insert> __type to uns in AnnData Object.\n",
      "|-----> <insert> pp to uns in AnnData Object.\n",
      "|-----> <insert> spatial to uns in AnnData Object.\n",
      "(24942, 25754)\n",
      "|-----> Constructing count matrices.\n",
      "|-----> <insert> __type to uns in AnnData Object.\n",
      "|-----> <insert> pp to uns in AnnData Object.\n",
      "|-----> <insert> spatial to uns in AnnData Object.\n",
      "|-----> <select> labeled_array layer in AnnData Object\n",
      "|-----> Using labels provided with `segmentation_adata` and `labels_layer` arguments.\n",
      "|-----> <select> labeled_array layer in AnnData Object\n",
      "|-----> Using labels provided with `segmentation_adata` and `labels_layer` arguments.\n",
      "|-----> Constructing count matrices.\n"
     ]
    },
    {
     "name": "stderr",
     "output_type": "stream",
     "text": [
      "/home/peter/mambaforge/envs/spateo/lib/python3.11/site-packages/anndata/_core/anndata.py:121: ImplicitModificationWarning:\n",
      "\n",
      "Transforming to str index.\n",
      "\n"
     ]
    },
    {
     "name": "stdout",
     "output_type": "stream",
     "text": [
      "|-----> <insert> __type to uns in AnnData Object.\n",
      "|-----> <insert> pp to uns in AnnData Object.\n",
      "|-----> <insert> spatial to uns in AnnData Object.\n",
      "|-----> Constructing count matrices.\n"
     ]
    },
    {
     "name": "stderr",
     "output_type": "stream",
     "text": [
      "/home/peter/mambaforge/envs/spateo/lib/python3.11/site-packages/anndata/_core/anndata.py:121: ImplicitModificationWarning:\n",
      "\n",
      "Transforming to str index.\n",
      "\n"
     ]
    },
    {
     "name": "stdout",
     "output_type": "stream",
     "text": [
      "|-----> <insert> __type to uns in AnnData Object.\n",
      "|-----> <insert> pp to uns in AnnData Object.\n",
      "|-----> <insert> spatial to uns in AnnData Object.\n",
      "|-----> Constructing count matrices.\n"
     ]
    },
    {
     "name": "stderr",
     "output_type": "stream",
     "text": [
      "/home/peter/mambaforge/envs/spateo/lib/python3.11/site-packages/anndata/_core/anndata.py:121: ImplicitModificationWarning:\n",
      "\n",
      "Transforming to str index.\n",
      "\n"
     ]
    },
    {
     "name": "stdout",
     "output_type": "stream",
     "text": [
      "|-----> <insert> __type to uns in AnnData Object.\n",
      "|-----> <insert> pp to uns in AnnData Object.\n",
      "|-----> <insert> spatial to uns in AnnData Object.\n",
      "|-----> Constructing count matrices.\n"
     ]
    },
    {
     "name": "stderr",
     "output_type": "stream",
     "text": [
      "/home/peter/mambaforge/envs/spateo/lib/python3.11/site-packages/anndata/_core/anndata.py:121: ImplicitModificationWarning:\n",
      "\n",
      "Transforming to str index.\n",
      "\n"
     ]
    },
    {
     "name": "stdout",
     "output_type": "stream",
     "text": [
      "|-----> <insert> __type to uns in AnnData Object.\n",
      "|-----> <insert> pp to uns in AnnData Object.\n",
      "|-----> <insert> spatial to uns in AnnData Object.\n",
      "(27334, 26545)\n",
      "|-----> Constructing count matrices.\n",
      "(24659, 26378)\n",
      "|-----> Constructing count matrices.\n",
      "|-----> <insert> __type to uns in AnnData Object.\n",
      "|-----> <insert> pp to uns in AnnData Object.\n",
      "|-----> <insert> spatial to uns in AnnData Object.\n",
      "|-----> <insert> __type to uns in AnnData Object.\n",
      "|-----> <insert> pp to uns in AnnData Object.\n",
      "|-----> <insert> spatial to uns in AnnData Object.\n",
      "(25665, 25748)\n",
      "|-----> Constructing count matrices.\n",
      "|-----> <select> labeled_array layer in AnnData Object\n",
      "|-----> Using labels provided with `segmentation_adata` and `labels_layer` arguments.\n",
      "(32194, 25453)\n",
      "|-----> Constructing count matrices.\n",
      "|-----> <select> labeled_array layer in AnnData Object\n",
      "|-----> Using labels provided with `segmentation_adata` and `labels_layer` arguments.\n",
      "|-----> <insert> __type to uns in AnnData Object.\n",
      "|-----> <insert> pp to uns in AnnData Object.\n",
      "|-----> <insert> spatial to uns in AnnData Object.\n",
      "|-----> <insert> __type to uns in AnnData Object.\n",
      "|-----> <insert> pp to uns in AnnData Object.\n",
      "|-----> <insert> spatial to uns in AnnData Object.\n",
      "|-----> Constructing count matrices.\n"
     ]
    },
    {
     "name": "stderr",
     "output_type": "stream",
     "text": [
      "/home/peter/mambaforge/envs/spateo/lib/python3.11/site-packages/anndata/_core/anndata.py:121: ImplicitModificationWarning:\n",
      "\n",
      "Transforming to str index.\n",
      "\n"
     ]
    },
    {
     "name": "stdout",
     "output_type": "stream",
     "text": [
      "|-----> <insert> __type to uns in AnnData Object.\n",
      "|-----> <insert> pp to uns in AnnData Object.\n",
      "|-----> <insert> spatial to uns in AnnData Object.\n",
      "|-----> Constructing count matrices.\n"
     ]
    },
    {
     "name": "stderr",
     "output_type": "stream",
     "text": [
      "/home/peter/mambaforge/envs/spateo/lib/python3.11/site-packages/anndata/_core/anndata.py:121: ImplicitModificationWarning:\n",
      "\n",
      "Transforming to str index.\n",
      "\n"
     ]
    },
    {
     "name": "stdout",
     "output_type": "stream",
     "text": [
      "|-----> <insert> __type to uns in AnnData Object.\n",
      "|-----> <insert> pp to uns in AnnData Object.\n",
      "|-----> <insert> spatial to uns in AnnData Object.\n",
      "|-----> <select> labeled_array layer in AnnData Object\n",
      "|-----> Using labels provided with `segmentation_adata` and `labels_layer` arguments.\n",
      "|-----> <select> labeled_array layer in AnnData Object\n",
      "|-----> Using labels provided with `segmentation_adata` and `labels_layer` arguments.\n",
      "(33890, 25731)\n",
      "|-----> Constructing count matrices.\n",
      "|-----> <insert> __type to uns in AnnData Object.\n",
      "|-----> <insert> pp to uns in AnnData Object.\n",
      "|-----> <insert> spatial to uns in AnnData Object.\n",
      "|-----> Constructing count matrices.\n",
      "|-----> Constructing count matrices.\n"
     ]
    },
    {
     "name": "stderr",
     "output_type": "stream",
     "text": [
      "/home/peter/mambaforge/envs/spateo/lib/python3.11/site-packages/anndata/_core/anndata.py:121: ImplicitModificationWarning:\n",
      "\n",
      "Transforming to str index.\n",
      "\n"
     ]
    },
    {
     "name": "stdout",
     "output_type": "stream",
     "text": [
      "|-----> <insert> __type to uns in AnnData Object.\n",
      "|-----> <insert> pp to uns in AnnData Object.\n",
      "|-----> <insert> spatial to uns in AnnData Object.\n"
     ]
    },
    {
     "name": "stderr",
     "output_type": "stream",
     "text": [
      "/home/peter/mambaforge/envs/spateo/lib/python3.11/site-packages/anndata/_core/anndata.py:121: ImplicitModificationWarning:\n",
      "\n",
      "Transforming to str index.\n",
      "\n"
     ]
    },
    {
     "name": "stdout",
     "output_type": "stream",
     "text": [
      "|-----> <insert> __type to uns in AnnData Object.\n",
      "|-----> <insert> pp to uns in AnnData Object.\n",
      "|-----> <insert> spatial to uns in AnnData Object.\n",
      "|-----> <select> labeled_array layer in AnnData Object\n",
      "|-----> Using labels provided with `segmentation_adata` and `labels_layer` arguments.\n",
      "|-----> Constructing count matrices.\n"
     ]
    },
    {
     "name": "stderr",
     "output_type": "stream",
     "text": [
      "/home/peter/mambaforge/envs/spateo/lib/python3.11/site-packages/anndata/_core/anndata.py:121: ImplicitModificationWarning:\n",
      "\n",
      "Transforming to str index.\n",
      "\n"
     ]
    },
    {
     "name": "stdout",
     "output_type": "stream",
     "text": [
      "|-----> <insert> __type to uns in AnnData Object.\n",
      "|-----> <insert> pp to uns in AnnData Object.\n",
      "|-----> <insert> spatial to uns in AnnData Object.\n"
     ]
    },
    {
     "data": {
      "text/plain": [
       "[None,\n",
       " None,\n",
       " None,\n",
       " None,\n",
       " None,\n",
       " None,\n",
       " None,\n",
       " None,\n",
       " None,\n",
       " None,\n",
       " None,\n",
       " None,\n",
       " None,\n",
       " None,\n",
       " None,\n",
       " None,\n",
       " None,\n",
       " None,\n",
       " None,\n",
       " None]"
      ]
     },
     "execution_count": 6,
     "metadata": {},
     "output_type": "execute_result"
    },
    {
     "name": "stdout",
     "output_type": "stream",
     "text": [
      "(32289, 25514)\n"
     ]
    }
   ],
   "source": [
    "Parallel(n_jobs=4)(delayed(mask_to_adata)(sn) for sn in masks.keys())"
   ]
  }
 ],
 "metadata": {
  "kernelspec": {
   "display_name": "Python 3 (ipykernel)",
   "language": "python",
   "name": "python3"
  },
  "language_info": {
   "codemirror_mode": {
    "name": "ipython",
    "version": 3
   },
   "file_extension": ".py",
   "mimetype": "text/x-python",
   "name": "python",
   "nbconvert_exporter": "python",
   "pygments_lexer": "ipython3",
   "version": "3.10.12"
  }
 },
 "nbformat": 4,
 "nbformat_minor": 5
}
