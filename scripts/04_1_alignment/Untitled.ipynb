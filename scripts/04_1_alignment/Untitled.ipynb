{
 "cells": [
  {
   "cell_type": "code",
   "execution_count": 1,
   "id": "93c93c98-c9c3-4f36-864e-138c4a64edd9",
   "metadata": {
    "tags": []
   },
   "outputs": [
    {
     "name": "stdout",
     "output_type": "stream",
     "text": [
      "WARNING:tensorflow:From /home/peter/mambaforge/envs/deepslice/lib/python3.7/site-packages/tensorflow_core/python/ops/resource_variable_ops.py:1630: calling BaseResourceVariable.__init__ (from tensorflow.python.ops.resource_variable_ops) with constraint is deprecated and will be removed in a future version.\n",
      "Instructions for updating:\n",
      "If using Keras pass *_constraint arguments to layers.\n"
     ]
    },
    {
     "name": "stderr",
     "output_type": "stream",
     "text": [
      "2023-10-16 06:10:52.824558: I tensorflow/stream_executor/platform/default/dso_loader.cc:44] Successfully opened dynamic library libcuda.so.1\n",
      "2023-10-16 06:10:52.827533: I tensorflow/stream_executor/cuda/cuda_gpu_executor.cc:983] successful NUMA node read from SysFS had negative value (-1), but there must be at least one NUMA node, so returning NUMA node zero\n",
      "2023-10-16 06:10:52.827598: I tensorflow/core/common_runtime/gpu/gpu_device.cc:1618] Found device 0 with properties: \n",
      "name: NVIDIA GeForce RTX 3090 major: 8 minor: 6 memoryClockRate(GHz): 1.74\n",
      "pciBusID: 0000:01:00.0\n",
      "2023-10-16 06:10:52.827649: W tensorflow/stream_executor/platform/default/dso_loader.cc:55] Could not load dynamic library 'libcudart.so.10.0'; dlerror: libcudart.so.10.0: cannot open shared object file: No such file or directory\n",
      "2023-10-16 06:10:52.827700: W tensorflow/stream_executor/platform/default/dso_loader.cc:55] Could not load dynamic library 'libcublas.so.10.0'; dlerror: libcublas.so.10.0: cannot open shared object file: No such file or directory\n",
      "2023-10-16 06:10:52.827719: W tensorflow/stream_executor/platform/default/dso_loader.cc:55] Could not load dynamic library 'libcufft.so.10.0'; dlerror: libcufft.so.10.0: cannot open shared object file: No such file or directory\n",
      "2023-10-16 06:10:52.827738: W tensorflow/stream_executor/platform/default/dso_loader.cc:55] Could not load dynamic library 'libcurand.so.10.0'; dlerror: libcurand.so.10.0: cannot open shared object file: No such file or directory\n",
      "2023-10-16 06:10:52.827758: W tensorflow/stream_executor/platform/default/dso_loader.cc:55] Could not load dynamic library 'libcusolver.so.10.0'; dlerror: libcusolver.so.10.0: cannot open shared object file: No such file or directory\n",
      "2023-10-16 06:10:52.827777: W tensorflow/stream_executor/platform/default/dso_loader.cc:55] Could not load dynamic library 'libcusparse.so.10.0'; dlerror: libcusparse.so.10.0: cannot open shared object file: No such file or directory\n",
      "2023-10-16 06:10:52.827797: W tensorflow/stream_executor/platform/default/dso_loader.cc:55] Could not load dynamic library 'libcudnn.so.7'; dlerror: libcudnn.so.7: cannot open shared object file: No such file or directory\n",
      "2023-10-16 06:10:52.827799: W tensorflow/core/common_runtime/gpu/gpu_device.cc:1641] Cannot dlopen some GPU libraries. Please make sure the missing libraries mentioned above are installed properly if you would like to use GPU. Follow the guide at https://www.tensorflow.org/install/gpu for how to download and setup the required libraries for your platform.\n",
      "Skipping registering GPU devices...\n",
      "2023-10-16 06:10:52.827947: I tensorflow/core/platform/cpu_feature_guard.cc:142] Your CPU supports instructions that this TensorFlow binary was not compiled to use: AVX2 FMA\n",
      "2023-10-16 06:10:52.831296: I tensorflow/core/platform/profile_utils/cpu_utils.cc:94] CPU Frequency: 3609600000 Hz\n",
      "2023-10-16 06:10:52.831919: I tensorflow/compiler/xla/service/service.cc:168] XLA service 0x557113913a50 initialized for platform Host (this does not guarantee that XLA will be used). Devices:\n",
      "2023-10-16 06:10:52.831925: I tensorflow/compiler/xla/service/service.cc:176]   StreamExecutor device (0): Host, Default Version\n",
      "2023-10-16 06:10:52.877200: I tensorflow/stream_executor/cuda/cuda_gpu_executor.cc:983] successful NUMA node read from SysFS had negative value (-1), but there must be at least one NUMA node, so returning NUMA node zero\n",
      "2023-10-16 06:10:52.877390: I tensorflow/compiler/xla/service/service.cc:168] XLA service 0x5571135a93e0 initialized for platform CUDA (this does not guarantee that XLA will be used). Devices:\n",
      "2023-10-16 06:10:52.877402: I tensorflow/compiler/xla/service/service.cc:176]   StreamExecutor device (0): NVIDIA GeForce RTX 3090, Compute Capability 8.6\n",
      "2023-10-16 06:10:52.877460: I tensorflow/core/common_runtime/gpu/gpu_device.cc:1159] Device interconnect StreamExecutor with strength 1 edge matrix:\n",
      "2023-10-16 06:10:52.877462: I tensorflow/core/common_runtime/gpu/gpu_device.cc:1165]      \n"
     ]
    }
   ],
   "source": [
    "from DeepSlice import DSModel     \n",
    "species = 'mouse' #available species are 'mouse' and 'rat'\n",
    "Model = DSModel(species)\n",
    "\n",
    "import numpy as np\n",
    "from PIL import Image\n",
    "Image.MAX_IMAGE_PIXELS = None\n",
    "\n",
    "import os\n",
    "os.chdir('/laune_zfs/scratch/peter/f_active/paper_23/') # laune"
   ]
  },
  {
   "cell_type": "code",
   "execution_count": 2,
   "id": "97c822f9-3076-4d2d-a0c6-8262f6c08080",
   "metadata": {
    "tags": []
   },
   "outputs": [],
   "source": [
    "folderpath = 'input/04_alignment/'"
   ]
  },
  {
   "cell_type": "code",
   "execution_count": 4,
   "id": "d21e68fa-53cb-4012-8356-8c9b2484bf98",
   "metadata": {
    "tags": []
   },
   "outputs": [
    {
     "name": "stdout",
     "output_type": "stream",
     "text": [
      "Found 18 validated image filenames.\n",
      "18/18 [==============================] - 5s 284ms/step\n",
      "18/18 [==============================] - 5s 275ms/step\n",
      "[0.3328064917490792, 0.3075597826439775, 0.2830188020450688, 0.26890020309663637, 0.28580835391558435, 0.26604867312851604, 0.2488195443346996, 0.22289614143711886, 0.2001851318407821, 0.20863941013508908, 0.2001851318407821, 0.2001851318407821, 0.19182786208858973, 0.17279746375234153, 0.1648789522003683, 0.1421396233536949, 0.1279294211556016, 0.13971575238566336]\n",
      "DV angle: 2.090730776885266\n",
      "ML angle: 2.6523070661704775\n",
      "[0.3328064917490792, 0.30490446569811247, 0.28580835391558435, 0.27457816278146113, 0.2830188020450688, 0.26604867312851604, 0.24305156283023602, 0.22003145830890813, 0.2029933113549019, 0.21147598409604665, 0.2029933113549019, 0.19738774014608282, 0.19182786208858973, 0.17547070106354842, 0.16750110160533638, 0.14705152473538818, 0.1279294211556016, 0.13493375290655457]\n",
      "DV angle: 2.0908591413618067\n",
      "ML angle: 2.6523104703427394\n",
      "18\n",
      "saving to input/04_alignment/NOensembl.json\n",
      "saving to input/04_alignment/NOensembl.xml\n"
     ]
    }
   ],
   "source": [
    "#here you run the model on your folder\n",
    "#try with and without ensemble to find the model which best works for you\n",
    "#if you have section numbers included in the filename as _sXXX specify this :)\n",
    "Model.predict(folderpath, ensemble=True, section_numbers=False)    \n",
    "#If you would like to normalise the angles (you should)\n",
    "Model.propagate_angles()                     \n",
    "#To reorder your sections according to the section numbers \n",
    "# Model.enforce_index_order()    \n",
    "#alternatively if you know the precise spacing (ie; 1, 2, 4, indicates that section 3 has been left out of the series) Then you can use      \n",
    "#Furthermore if you know the exact section thickness in microns this can be included instead of None\n",
    "#if your sections are numbered rostral to caudal you will need to specify a negative section_thickness      \n",
    "# Model.enforce_index_spacing(section_thickness = None)\n",
    "#now we save which will produce a json file which can be placed in the same directory as your images and then opened with QuickNII. \n",
    "Model.save_predictions(folderpath + 'NOensembl')                                                                                                             \n",
    "\n",
    "\n"
   ]
  },
  {
   "cell_type": "code",
   "execution_count": null,
   "id": "630e7708-cdd7-42c3-bc96-d006e62e0967",
   "metadata": {},
   "outputs": [],
   "source": []
  }
 ],
 "metadata": {
  "kernelspec": {
   "display_name": "Python 3 (ipykernel)",
   "language": "python",
   "name": "python3"
  },
  "language_info": {
   "codemirror_mode": {
    "name": "ipython",
    "version": 3
   },
   "file_extension": ".py",
   "mimetype": "text/x-python",
   "name": "python",
   "nbconvert_exporter": "python",
   "pygments_lexer": "ipython3",
   "version": "3.7.12"
  }
 },
 "nbformat": 4,
 "nbformat_minor": 5
}
