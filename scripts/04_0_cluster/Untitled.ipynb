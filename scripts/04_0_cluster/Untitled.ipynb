{
 "cells": [
  {
   "cell_type": "code",
   "execution_count": 1,
   "id": "0d104cd5-9d54-47fe-943c-a83477953ef4",
   "metadata": {},
   "outputs": [],
   "source": [
    "import math\n",
    "import time\n",
    "import pandas as pd\n",
    "import numpy as np\n",
    "import scanpy as sc\n",
    "import anndata as ad\n",
    "import seaborn as sns\n",
    "import matplotlib.pyplot as plt\n",
    "import matplotlib.patches as mpatches\n",
    "from matplotlib import style\n",
    "import glob\n",
    "\n",
    "import os\n",
    "os.environ['R_HOME'] = '/usr/lib/R'\n",
    "os.chdir('/laune_zfs/scratch/peter/f_active/paper_23/') # laune\n",
    "\n",
    "random_seed = 42\n",
    "np.random.seed(random_seed)\n",
    "from tqdm import tqdm\n"
   ]
  },
  {
   "cell_type": "code",
   "execution_count": 2,
   "id": "ed210b2b-7d02-4ad1-8648-22d447c0f7ff",
   "metadata": {},
   "outputs": [],
   "source": [
    "# adata = sc.read_h5ad('input/adata.h5ad') # aws\n",
    "adata = sc.read_h5ad('input/02_stereoseq_qc/adata/adata.h5ad') # laune\n",
    "# sc.pp.subsample(adata, n_obs=10000)\n",
    "\n",
    "adata.obsm['spatial'] = adata.obs[['x', 'y']].to_numpy()\n",
    "adata.layers['counts'] = adata.X.copy()\n",
    "sc.pp.filter_genes(adata, min_cells=50)\n",
    "sc.pp.filter_genes(adata, min_counts=10)\n",
    "\n",
    "d_adata = {}\n",
    "\n",
    "for count, x in enumerate(adata.obs['sample_name'].unique()):\n",
    "    d_adata[x] = adata[adata.obs['sample_name'] == x,].copy()"
   ]
  },
  {
   "cell_type": "code",
   "execution_count": 18,
   "id": "eeeacdea-f830-4727-8339-6076a4f20145",
   "metadata": {},
   "outputs": [
    {
     "data": {
      "text/plain": [
       "array([[  469,  9258],\n",
       "       [  510, 10098],\n",
       "       [  515,  9836],\n",
       "       ...,\n",
       "       [18595,  5561],\n",
       "       [18598,  6114],\n",
       "       [18626,  6105]])"
      ]
     },
     "execution_count": 18,
     "metadata": {},
     "output_type": "execute_result"
    }
   ],
   "source": [
    "arr = d_adata['OLD_OVX_1'].obsm['spatial']\n",
    "arr"
   ]
  },
  {
   "cell_type": "code",
   "execution_count": 39,
   "id": "c23db543-571d-45ba-9e83-e712f5345ca5",
   "metadata": {},
   "outputs": [],
   "source": [
    "row = np.array([x[0] for x in arr])\n",
    "col = np.array([x[1] for x in arr])\n",
    "data = np.arange(1, len(row)+1)"
   ]
  },
  {
   "cell_type": "code",
   "execution_count": 40,
   "id": "800fca08-5590-4930-8144-6925d84aa1e3",
   "metadata": {},
   "outputs": [
    {
     "data": {
      "text/plain": [
       "(26133,)"
      ]
     },
     "execution_count": 40,
     "metadata": {},
     "output_type": "execute_result"
    }
   ],
   "source": [
    "data.shape"
   ]
  },
  {
   "cell_type": "code",
   "execution_count": 41,
   "id": "099518e6-87f1-44bf-9f1f-561d4524a96a",
   "metadata": {},
   "outputs": [
    {
     "data": {
      "text/plain": [
       "(26133,)"
      ]
     },
     "execution_count": 41,
     "metadata": {},
     "output_type": "execute_result"
    }
   ],
   "source": [
    "row.shape"
   ]
  },
  {
   "cell_type": "code",
   "execution_count": 46,
   "id": "18da1fac-9d61-43e2-abb8-92ff96e43183",
   "metadata": {},
   "outputs": [],
   "source": [
    "import scipy\n",
    "from scipy.sparse import csr_array\n",
    "arr = scipy.sparse.csr_array((data, (row, col))).A"
   ]
  },
  {
   "cell_type": "code",
   "execution_count": 49,
   "id": "5a864b83-d2f8-4686-b516-a0e8249a3f76",
   "metadata": {},
   "outputs": [
    {
     "data": {
      "text/plain": [
       "(18627, 15522)"
      ]
     },
     "execution_count": 49,
     "metadata": {},
     "output_type": "execute_result"
    }
   ],
   "source": [
    "arr.shape"
   ]
  },
  {
   "cell_type": "code",
   "execution_count": 61,
   "id": "e60b1a82-7e6d-43c2-b121-ad182d3d262c",
   "metadata": {},
   "outputs": [
    {
     "data": {
      "text/plain": [
       "26133"
      ]
     },
     "execution_count": 61,
     "metadata": {},
     "output_type": "execute_result"
    }
   ],
   "source": [
    "arr.max()"
   ]
  },
  {
   "cell_type": "code",
   "execution_count": 66,
   "id": "2f3b8c60-3e6d-49ae-a470-3709dc984d8a",
   "metadata": {},
   "outputs": [
    {
     "data": {
      "text/plain": [
       "1"
      ]
     },
     "execution_count": 66,
     "metadata": {},
     "output_type": "execute_result"
    }
   ],
   "source": [
    "arr_bin = (arr > 0).astype('int8')\n",
    "arr_bin.max()"
   ]
  },
  {
   "cell_type": "code",
   "execution_count": 67,
   "id": "6ea401ad-29d3-43f2-ae16-edeefea186d5",
   "metadata": {},
   "outputs": [
    {
     "ename": "ModuleNotFoundError",
     "evalue": "No module named 'skimage'",
     "output_type": "error",
     "traceback": [
      "\u001b[0;31m---------------------------------------------------------------------------\u001b[0m",
      "\u001b[0;31mModuleNotFoundError\u001b[0m                       Traceback (most recent call last)",
      "Cell \u001b[0;32mIn[67], line 1\u001b[0m\n\u001b[0;32m----> 1\u001b[0m \u001b[38;5;28;01mfrom\u001b[39;00m \u001b[38;5;21;01mskimage\u001b[39;00m \u001b[38;5;28;01mimport\u001b[39;00m feature, measure, segmentation, color, exposure, filters, morphology, restoration, img_as_ubyte\n",
      "\u001b[0;31mModuleNotFoundError\u001b[0m: No module named 'skimage'"
     ]
    }
   ],
   "source": [
    "from skimage import feature, measure, segmentation, color, exposure, filters, morphology, restoration, img_as_ubyte"
   ]
  },
  {
   "cell_type": "code",
   "execution_count": 56,
   "id": "725f1928-3cc2-4e38-bdfd-6a2e9b57386a",
   "metadata": {},
   "outputs": [],
   "source": [
    "from tifffile import imwrite"
   ]
  },
  {
   "cell_type": "code",
   "execution_count": 53,
   "id": "2210693c-8463-44bf-b1e5-9fb4cfde31a5",
   "metadata": {},
   "outputs": [
    {
     "ename": "TypeError",
     "evalue": "Cannot handle this data type: (1, 1), <i8",
     "output_type": "error",
     "traceback": [
      "\u001b[0;31m---------------------------------------------------------------------------\u001b[0m",
      "\u001b[0;31mKeyError\u001b[0m                                  Traceback (most recent call last)",
      "File \u001b[0;32m~/mambaforge/envs/SEDR/lib/python3.11/site-packages/PIL/Image.py:3070\u001b[0m, in \u001b[0;36mfromarray\u001b[0;34m(obj, mode)\u001b[0m\n\u001b[1;32m   3069\u001b[0m \u001b[38;5;28;01mtry\u001b[39;00m:\n\u001b[0;32m-> 3070\u001b[0m     mode, rawmode \u001b[38;5;241m=\u001b[39m \u001b[43m_fromarray_typemap\u001b[49m\u001b[43m[\u001b[49m\u001b[43mtypekey\u001b[49m\u001b[43m]\u001b[49m\n\u001b[1;32m   3071\u001b[0m \u001b[38;5;28;01mexcept\u001b[39;00m \u001b[38;5;167;01mKeyError\u001b[39;00m \u001b[38;5;28;01mas\u001b[39;00m e:\n",
      "\u001b[0;31mKeyError\u001b[0m: ((1, 1), '<i8')",
      "\nThe above exception was the direct cause of the following exception:\n",
      "\u001b[0;31mTypeError\u001b[0m                                 Traceback (most recent call last)",
      "Cell \u001b[0;32mIn[53], line 3\u001b[0m\n\u001b[1;32m      1\u001b[0m \u001b[38;5;28;01mfrom\u001b[39;00m \u001b[38;5;21;01mPIL\u001b[39;00m \u001b[38;5;28;01mimport\u001b[39;00m Image\n\u001b[1;32m      2\u001b[0m \u001b[38;5;66;03m# arr = d_adata['OLD_OVX_1'].obsm['spatial']\u001b[39;00m\n\u001b[0;32m----> 3\u001b[0m im \u001b[38;5;241m=\u001b[39m \u001b[43mImage\u001b[49m\u001b[38;5;241;43m.\u001b[39;49m\u001b[43mfromarray\u001b[49m\u001b[43m(\u001b[49m\u001b[43marr\u001b[49m\u001b[43m)\u001b[49m\n\u001b[1;32m      4\u001b[0m im\u001b[38;5;241m.\u001b[39msave(\u001b[38;5;124m\"\u001b[39m\u001b[38;5;124myour_file.jpeg\u001b[39m\u001b[38;5;124m\"\u001b[39m)\n",
      "File \u001b[0;32m~/mambaforge/envs/SEDR/lib/python3.11/site-packages/PIL/Image.py:3073\u001b[0m, in \u001b[0;36mfromarray\u001b[0;34m(obj, mode)\u001b[0m\n\u001b[1;32m   3071\u001b[0m     \u001b[38;5;28;01mexcept\u001b[39;00m \u001b[38;5;167;01mKeyError\u001b[39;00m \u001b[38;5;28;01mas\u001b[39;00m e:\n\u001b[1;32m   3072\u001b[0m         msg \u001b[38;5;241m=\u001b[39m \u001b[38;5;124m\"\u001b[39m\u001b[38;5;124mCannot handle this data type: \u001b[39m\u001b[38;5;132;01m%s\u001b[39;00m\u001b[38;5;124m, \u001b[39m\u001b[38;5;132;01m%s\u001b[39;00m\u001b[38;5;124m\"\u001b[39m \u001b[38;5;241m%\u001b[39m typekey\n\u001b[0;32m-> 3073\u001b[0m         \u001b[38;5;28;01mraise\u001b[39;00m \u001b[38;5;167;01mTypeError\u001b[39;00m(msg) \u001b[38;5;28;01mfrom\u001b[39;00m \u001b[38;5;21;01me\u001b[39;00m\n\u001b[1;32m   3074\u001b[0m \u001b[38;5;28;01melse\u001b[39;00m:\n\u001b[1;32m   3075\u001b[0m     rawmode \u001b[38;5;241m=\u001b[39m mode\n",
      "\u001b[0;31mTypeError\u001b[0m: Cannot handle this data type: (1, 1), <i8"
     ]
    }
   ],
   "source": [
    "from PIL import Image\n",
    "# arr = d_adata['OLD_OVX_1'].obsm['spatial']\n",
    "im = Image.fromarray(arr)\n",
    "im.save(\"your_file.jpeg\")"
   ]
  },
  {
   "cell_type": "code",
   "execution_count": null,
   "id": "3488a561-e934-4e03-a87f-cbfc7cdbe58a",
   "metadata": {},
   "outputs": [],
   "source": []
  },
  {
   "cell_type": "code",
   "execution_count": 58,
   "id": "8fc99908-6c8e-4b4c-a12e-e3b9c58e0cbe",
   "metadata": {},
   "outputs": [],
   "source": [
    "imwrite('result2.tif', arr.astype('int16'))"
   ]
  },
  {
   "cell_type": "code",
   "execution_count": null,
   "id": "27fa10f3-221e-463b-8258-629540ea75d3",
   "metadata": {},
   "outputs": [],
   "source": []
  }
 ],
 "metadata": {
  "kernelspec": {
   "display_name": "Python 3 (ipykernel)",
   "language": "python",
   "name": "python3"
  },
  "language_info": {
   "codemirror_mode": {
    "name": "ipython",
    "version": 3
   },
   "file_extension": ".py",
   "mimetype": "text/x-python",
   "name": "python",
   "nbconvert_exporter": "python",
   "pygments_lexer": "ipython3",
   "version": "3.11.6"
  }
 },
 "nbformat": 4,
 "nbformat_minor": 5
}
